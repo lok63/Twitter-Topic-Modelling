{
 "cells": [
  {
   "cell_type": "code",
   "execution_count": 1,
   "id": "0f7f00bb",
   "metadata": {},
   "outputs": [],
   "source": [
    "import os\n",
    "import sys\n",
    "# Allow this notebook to import local libraries \n",
    "module_path = os.path.abspath(os.path.join('..'))\n",
    "if module_path not in sys.path:\n",
    "    sys.path.append(module_path)"
   ]
  },
  {
   "cell_type": "code",
   "execution_count": 2,
   "id": "3be5b432",
   "metadata": {},
   "outputs": [],
   "source": [
    "from topic_modelling.preprocessor_all import load_data\n",
    "from topic_modelling.pipelines import basic_pipeline, spacy_pipeline\n",
    "from topic_modelling.preprocessor_all import load_data\n",
    "from topic_modelling.models import BasicModel, HierarchicalModel, EnsembleModel, NMFModel\n",
    "\n",
    "import pyLDAvis.gensim_models as gensimvis\n",
    "import pyLDAvis\n",
    "\n",
    "import warnings\n",
    "warnings.filterwarnings('ignore')"
   ]
  },
  {
   "cell_type": "markdown",
   "id": "fdd27ff7",
   "metadata": {},
   "source": [
    "# Table of contents\n",
    "* [1. Load and preprocess data](#1)\n",
    "* [2. Date-preprocessing](#2)\n",
    "    * [2.1 LDA Basic Mode](#2.1)\n",
    "        * [2.1.1 Hyper-parameter Tuning](#2.1.1)\n",
    "        * [2.1.2 Find best number of topics](#2.1.2)\n",
    "        * [2.1.3 Grid Search](#2.1.3)\n",
    "    * [2.2 NMF](#2.2)\n",
    "    * [2.3 Ensemble](#2.3)\n",
    "    "
   ]
  },
  {
   "cell_type": "markdown",
   "id": "3edc5b24",
   "metadata": {},
   "source": [
    "## 1. Load and preprocess data <a class=\"anchor\" id=\"1\"></a>"
   ]
  },
  {
   "cell_type": "code",
   "execution_count": 3,
   "id": "b5f27799",
   "metadata": {},
   "outputs": [
    {
     "name": "stdout",
     "output_type": "stream",
     "text": [
      "Func:load_data took: 0.48 seconds\n",
      "Func:reset_index took: 0.01 seconds\n"
     ]
    },
    {
     "data": {
      "application/vnd.jupyter.widget-view+json": {
       "model_id": "a8d87bc6f7de41fd8e0e4f0ff4498b02",
       "version_major": 2,
       "version_minor": 0
      },
      "text/plain": [
       "Pandas Apply:   0%|          | 0/42368 [00:00<?, ?it/s]"
      ]
     },
     "metadata": {},
     "output_type": "display_data"
    },
    {
     "name": "stdout",
     "output_type": "stream",
     "text": [
      "Func:demoji_preprocessor took: 19.85 seconds\n"
     ]
    },
    {
     "data": {
      "application/vnd.jupyter.widget-view+json": {
       "model_id": "aed603b5e43d4b1dacdf8a7627a53aee",
       "version_major": 2,
       "version_minor": 0
      },
      "text/plain": [
       "Pandas Apply:   0%|          | 0/42368 [00:00<?, ?it/s]"
      ]
     },
     "metadata": {},
     "output_type": "display_data"
    },
    {
     "name": "stdout",
     "output_type": "stream",
     "text": [
      "Func:tweet_preprocessor took: 1.20 seconds\n",
      ":: Spacy preprocessor -> cleaning, this might take 1-2 minutes....\n"
     ]
    },
    {
     "data": {
      "application/vnd.jupyter.widget-view+json": {
       "model_id": "7fbd1c2821d64851a5e40ad44c4d5241",
       "version_major": 2,
       "version_minor": 0
      },
      "text/plain": [
       "Pandas Apply:   0%|          | 0/42368 [00:00<?, ?it/s]"
      ]
     },
     "metadata": {},
     "output_type": "display_data"
    },
    {
     "name": "stdout",
     "output_type": "stream",
     "text": [
      "Func:spacy_preprocessor took: 56.98 seconds\n"
     ]
    },
    {
     "data": {
      "application/vnd.jupyter.widget-view+json": {
       "model_id": "7acd862ecdb14f6c914015d6842e9f9e",
       "version_major": 2,
       "version_minor": 0
      },
      "text/plain": [
       "Pandas Apply:   0%|          | 0/42368 [00:00<?, ?it/s]"
      ]
     },
     "metadata": {},
     "output_type": "display_data"
    },
    {
     "name": "stdout",
     "output_type": "stream",
     "text": [
      "Func:predefined_denoiser took: 0.09 seconds\n",
      "Func:drop_empty took: 0.02 seconds\n",
      "Func:reset_index took: 0.00 seconds\n"
     ]
    },
    {
     "data": {
      "application/vnd.jupyter.widget-view+json": {
       "model_id": "aabaf85f2b4b47f8a2e4859cf3927029",
       "version_major": 2,
       "version_minor": 0
      },
      "text/plain": [
       "Pandas Apply:   0%|          | 0/42360 [00:00<?, ?it/s]"
      ]
     },
     "metadata": {},
     "output_type": "display_data"
    },
    {
     "name": "stdout",
     "output_type": "stream",
     "text": [
      "Func:tokenizer_transformer took: 0.36 seconds\n"
     ]
    },
    {
     "data": {
      "application/vnd.jupyter.widget-view+json": {
       "model_id": "fd78df88cfa7489aaf26e3693b55235c",
       "version_major": 2,
       "version_minor": 0
      },
      "text/plain": [
       "Pandas Apply:   0%|          | 0/42360 [00:00<?, ?it/s]"
      ]
     },
     "metadata": {},
     "output_type": "display_data"
    },
    {
     "name": "stdout",
     "output_type": "stream",
     "text": [
      "Func:ngrammer_2_3 took: 0.57 seconds\n"
     ]
    }
   ],
   "source": [
    "df = load_data()\n",
    "df = spacy_pipeline.apply(df, column='cleanBody')"
   ]
  },
  {
   "cell_type": "markdown",
   "id": "81a3060f",
   "metadata": {},
   "source": [
    "# 2. Model Selection<a class=\"anchor\" id=\"2\"></a>"
   ]
  },
  {
   "cell_type": "markdown",
   "id": "88188861",
   "metadata": {},
   "source": [
    "## 2.1 LDA Basic Model<a class=\"anchor\" id=\"2.1\"></a>"
   ]
  },
  {
   "cell_type": "code",
   "execution_count": 4,
   "id": "7f09453d",
   "metadata": {},
   "outputs": [
    {
     "name": "stdout",
     "output_type": "stream",
     "text": [
      ":: Size of id2word: 25387\n",
      "Func:createid2word_dictionary took: 0.21 seconds\n",
      "Func:filter_extremes took: 0.02 seconds\n",
      "Func:create_bow_coprpus took: 0.18 seconds\n",
      "Func:create_tfidf_corpus took: 0.03 seconds\n",
      "----> Training BasicModel <----\n",
      "Func:train took: 3.77 seconds\n",
      "\n",
      "Coherence Score:  0.630900517118667\n",
      "Func:get_coherance took: 2.66 seconds\n",
      "0.630900517118667\n"
     ]
    }
   ],
   "source": [
    "basic_model = BasicModel()\n",
    "basic_model.fit(df,'cleanBody')\n",
    "basic_model.train(num_topics=6, \n",
    "                  passes=1,\n",
    "                  chunksize=100,\n",
    "                  eval_every=10,\n",
    "                  alpha = 0.9,\n",
    "                  decay=0.3,\n",
    "                  tfidf = False\n",
    "                 )\n",
    "\n",
    "print(basic_model.get_coherance())"
   ]
  },
  {
   "cell_type": "markdown",
   "id": "7b7d6f44",
   "metadata": {},
   "source": [
    "## 2.1 LDA Tfidf Model<a class=\"anchor\" id=\"2.1\"></a>"
   ]
  },
  {
   "cell_type": "code",
   "execution_count": 25,
   "id": "36681305",
   "metadata": {},
   "outputs": [
    {
     "name": "stdout",
     "output_type": "stream",
     "text": [
      ":: Size of id2word: 25387\n",
      "Func:createid2word_dictionary took: 0.25 seconds\n",
      "Func:filter_extremes took: 0.02 seconds\n",
      "Func:create_bow_coprpus took: 0.10 seconds\n",
      "Func:create_tfidf_corpus took: 0.03 seconds\n",
      "----> Training BasicModel <----\n",
      "Func:train took: 4.16 seconds\n",
      "\n",
      "Coherence Score:  0.5160009101653033\n",
      "Func:get_coherance took: 2.68 seconds\n",
      "0.5160009101653033\n"
     ]
    }
   ],
   "source": [
    "lda_tfidf_model = BasicModel()\n",
    "lda_tfidf_model.fit(df,'cleanBody')\n",
    "lda_tfidf_model.train(num_topics=6, \n",
    "                  passes=1,\n",
    "                  chunksize=500,\n",
    "                  eval_every=10,\n",
    "                  alpha = 'symmetric',\n",
    "                  decay=0.1,\n",
    "                  tfidf = True\n",
    "                 )\n",
    "\n",
    "print(lda_tfidf_model.get_coherance())"
   ]
  },
  {
   "cell_type": "markdown",
   "id": "e42039bf",
   "metadata": {},
   "source": [
    "### 2.1.1 Hyper-parameter Tuning<a class=\"anchor\" id=\"2.1.1\"></a>"
   ]
  },
  {
   "cell_type": "markdown",
   "id": "c83a4371",
   "metadata": {},
   "source": [
    "### 2.1.2 Find best number of topics<a class=\"anchor\" id=\"2.1.2\"></a>"
   ]
  },
  {
   "cell_type": "code",
   "execution_count": null,
   "id": "08c8c321",
   "metadata": {},
   "outputs": [],
   "source": [
    "model_list, coherence_values = basic_model.compute_coherence_values(start=6, limit=18, step=1, plot=True)"
   ]
  },
  {
   "cell_type": "code",
   "execution_count": null,
   "id": "f876b2bc",
   "metadata": {},
   "outputs": [],
   "source": [
    "for m,c in (zip(model_list, coherence_values)):\n",
    "    print(f\"Topics:{m.num_topics},Coherence score:{c}\")"
   ]
  },
  {
   "cell_type": "markdown",
   "id": "b36227ac",
   "metadata": {},
   "source": [
    "### 2.1.3 Grid Search<a class=\"anchor\" id=\"2.1.3\"></a>"
   ]
  },
  {
   "cell_type": "code",
   "execution_count": 21,
   "id": "8094514d",
   "metadata": {},
   "outputs": [],
   "source": [
    "import numpy as np\n",
    "import tqdm\n",
    "import gensim\n",
    "import pandas as pd\n",
    "\n",
    "\n",
    "def grid_search(df:pd.DataFrame,  k_start=5, k_end=12, k_step=1,\n",
    "                alpha_start=0.2, alpha_end=1, alpha_step=0.2,\n",
    "                decay_start=0.1, decay_end=0.5, decay_step=0.1\n",
    "               )-> pd.DataFrame:\n",
    "\n",
    "    \"\"\"\n",
    "    Create several models using different ranges for Alpha, Betta and Number of topics\n",
    "    Part of the code was retrieved from : https://towardsdatascience.com/evaluate-topic-model-in-python-latent-dirichlet-allocation-lda-7d57484bb5d0\n",
    "    \"\"\"\n",
    "\n",
    "    grid = {}\n",
    "\n",
    "    # Topics\n",
    "    topics_range = range(k_start, k_end, k_step)\n",
    "    # ALPHA\n",
    "    alpha_range = list(np.arange(alpha_start, alpha_end, alpha_step)) \n",
    "    alpha_range.append('symmetric')\n",
    "    alpha_range.append('asymmetric')\n",
    "    # Decay\n",
    "    decay_range = list(np.arange(decay_start, decay_end, decay_step))\n",
    "    \n",
    "    chunksize_range = [100,300,500]\n",
    "    passes_range = [1]\n",
    "    model_results = {\n",
    "                     'Topics': [],\n",
    "                     'Alpha': [],\n",
    "                     'Decay': [],\n",
    "                     'Chunksize': [],\n",
    "                     'Passes': [],\n",
    "                     'Coherence': []\n",
    "                    }\n",
    "\n",
    "    total_combinations = len(topics_range)*len(alpha_range)*len(decay_range)*len(chunksize_range)*len(passes_range)\n",
    "    print(f\"Total Models to grid search: {total_combinations}\")\n",
    "\n",
    "    with tqdm.tqdm(total=total_combinations)as pbar:\n",
    "\n",
    "        # iterate through number of topics\n",
    "        for k in topics_range:\n",
    "            # iterate through alpha values\n",
    "            for a in alpha_range:\n",
    "                # iterare through decay values\n",
    "                for d in decay_range:\n",
    "                    # iterare through chunk sizes\n",
    "                    for c in chunksize_range:\n",
    "                        # iterare through chunk sizes\n",
    "                        for p in passes_range:\n",
    "                            # get the coherence score for the given parameters\n",
    "                            cv = basic_model.compute_coherence_for_topics_a_d(k=k, a=a, d=d, c=c, p=p, tfidf=True)\n",
    "                            # Save the model results\n",
    "                            model_results['Topics'].append(k)\n",
    "                            model_results['Alpha'].append(a)\n",
    "                            model_results['Decay'].append(d)\n",
    "                            model_results['Chunksize'].append(c)\n",
    "                            model_results['Passes'].append(p)\n",
    "                            model_results['Coherence'].append(cv)\n",
    "                            pbar.update(1)\n",
    "\n",
    "        grid_search_results = pd.DataFrame(model_results).to_csv('gridSearch_results2.csv', index=False)\n",
    "        pbar.close()\n",
    "    \n",
    "    return grid_search_results\n",
    "\n",
    "\n"
   ]
  },
  {
   "cell_type": "markdown",
   "id": "bf6e56c8",
   "metadata": {},
   "source": [
    "### Run grid search "
   ]
  },
  {
   "cell_type": "code",
   "execution_count": 23,
   "id": "4d1ebccf",
   "metadata": {},
   "outputs": [
    {
     "name": "stdout",
     "output_type": "stream",
     "text": [
      "Total Models to grid search: 168\n"
     ]
    },
    {
     "name": "stderr",
     "output_type": "stream",
     "text": [
      "100%|█████████████████████████████████████████████████████████████████████████████████████████████████████████████████████████████████████████████████████████████████████████████████████████████████| 168/168 [18:12<00:00,  6.50s/it]\n"
     ]
    }
   ],
   "source": [
    "grid_search_results = grid_search(\n",
    "    df.cleanBody.to_list(),\n",
    "    k_start=4, k_end=8, k_step=1,\n",
    "    alpha_start=0.5, alpha_end=1, alpha_step=0.1,\n",
    "    decay_start=0.1, decay_end=0.3, decay_step=0.1,\n",
    ")"
   ]
  },
  {
   "cell_type": "markdown",
   "id": "882c0387",
   "metadata": {},
   "source": [
    "### Load Previous Grid Search results"
   ]
  },
  {
   "cell_type": "markdown",
   "id": "180fd4e2",
   "metadata": {},
   "source": [
    "### Bow LDA gridsearch"
   ]
  },
  {
   "cell_type": "code",
   "execution_count": 14,
   "id": "8fe4e33b",
   "metadata": {},
   "outputs": [
    {
     "data": {
      "text/html": [
       "<div>\n",
       "<style scoped>\n",
       "    .dataframe tbody tr th:only-of-type {\n",
       "        vertical-align: middle;\n",
       "    }\n",
       "\n",
       "    .dataframe tbody tr th {\n",
       "        vertical-align: top;\n",
       "    }\n",
       "\n",
       "    .dataframe thead th {\n",
       "        text-align: right;\n",
       "    }\n",
       "</style>\n",
       "<table border=\"1\" class=\"dataframe\">\n",
       "  <thead>\n",
       "    <tr style=\"text-align: right;\">\n",
       "      <th></th>\n",
       "      <th>Topics</th>\n",
       "      <th>Alpha</th>\n",
       "      <th>Decay</th>\n",
       "      <th>Chunksize</th>\n",
       "      <th>Passes</th>\n",
       "      <th>Coherence</th>\n",
       "    </tr>\n",
       "  </thead>\n",
       "  <tbody>\n",
       "    <tr>\n",
       "      <th>900</th>\n",
       "      <td>9</td>\n",
       "      <td>0.61</td>\n",
       "      <td>0.3</td>\n",
       "      <td>1500</td>\n",
       "      <td>1</td>\n",
       "      <td>0.597776</td>\n",
       "    </tr>\n",
       "    <tr>\n",
       "      <th>675</th>\n",
       "      <td>8</td>\n",
       "      <td>0.9099999999999999</td>\n",
       "      <td>0.3</td>\n",
       "      <td>1500</td>\n",
       "      <td>1</td>\n",
       "      <td>0.597586</td>\n",
       "    </tr>\n",
       "    <tr>\n",
       "      <th>1440</th>\n",
       "      <td>11</td>\n",
       "      <td>0.61</td>\n",
       "      <td>0.3</td>\n",
       "      <td>1500</td>\n",
       "      <td>1</td>\n",
       "      <td>0.597038</td>\n",
       "    </tr>\n",
       "    <tr>\n",
       "      <th>1170</th>\n",
       "      <td>10</td>\n",
       "      <td>0.61</td>\n",
       "      <td>0.3</td>\n",
       "      <td>1500</td>\n",
       "      <td>1</td>\n",
       "      <td>0.595427</td>\n",
       "    </tr>\n",
       "    <tr>\n",
       "      <th>945</th>\n",
       "      <td>9</td>\n",
       "      <td>0.9099999999999999</td>\n",
       "      <td>0.3</td>\n",
       "      <td>1500</td>\n",
       "      <td>1</td>\n",
       "      <td>0.594083</td>\n",
       "    </tr>\n",
       "  </tbody>\n",
       "</table>\n",
       "</div>"
      ],
      "text/plain": [
       "      Topics               Alpha  Decay  Chunksize  Passes  Coherence\n",
       "900        9                0.61    0.3       1500       1   0.597776\n",
       "675        8  0.9099999999999999    0.3       1500       1   0.597586\n",
       "1440      11                0.61    0.3       1500       1   0.597038\n",
       "1170      10                0.61    0.3       1500       1   0.595427\n",
       "945        9  0.9099999999999999    0.3       1500       1   0.594083"
      ]
     },
     "execution_count": 14,
     "metadata": {},
     "output_type": "execute_result"
    }
   ],
   "source": [
    "grid_search_results = pd.read_csv('gridSearch_results.csv')\n",
    "grid_search_results.sort_values(by='Coherence', ascending= False).head(5)"
   ]
  },
  {
   "cell_type": "markdown",
   "id": "d59ddbec",
   "metadata": {},
   "source": [
    "### TFIDF LDA gridsearch"
   ]
  },
  {
   "cell_type": "code",
   "execution_count": 24,
   "id": "78894290",
   "metadata": {},
   "outputs": [
    {
     "data": {
      "text/html": [
       "<div>\n",
       "<style scoped>\n",
       "    .dataframe tbody tr th:only-of-type {\n",
       "        vertical-align: middle;\n",
       "    }\n",
       "\n",
       "    .dataframe tbody tr th {\n",
       "        vertical-align: top;\n",
       "    }\n",
       "\n",
       "    .dataframe thead th {\n",
       "        text-align: right;\n",
       "    }\n",
       "</style>\n",
       "<table border=\"1\" class=\"dataframe\">\n",
       "  <thead>\n",
       "    <tr style=\"text-align: right;\">\n",
       "      <th></th>\n",
       "      <th>Topics</th>\n",
       "      <th>Alpha</th>\n",
       "      <th>Decay</th>\n",
       "      <th>Chunksize</th>\n",
       "      <th>Passes</th>\n",
       "      <th>Coherence</th>\n",
       "    </tr>\n",
       "  </thead>\n",
       "  <tbody>\n",
       "    <tr>\n",
       "      <th>24</th>\n",
       "      <td>4</td>\n",
       "      <td>0.8999999999999999</td>\n",
       "      <td>0.1</td>\n",
       "      <td>100</td>\n",
       "      <td>1</td>\n",
       "      <td>0.586891</td>\n",
       "    </tr>\n",
       "    <tr>\n",
       "      <th>98</th>\n",
       "      <td>6</td>\n",
       "      <td>0.7</td>\n",
       "      <td>0.1</td>\n",
       "      <td>500</td>\n",
       "      <td>1</td>\n",
       "      <td>0.585723</td>\n",
       "    </tr>\n",
       "    <tr>\n",
       "      <th>14</th>\n",
       "      <td>4</td>\n",
       "      <td>0.7</td>\n",
       "      <td>0.1</td>\n",
       "      <td>500</td>\n",
       "      <td>1</td>\n",
       "      <td>0.582723</td>\n",
       "    </tr>\n",
       "    <tr>\n",
       "      <th>104</th>\n",
       "      <td>6</td>\n",
       "      <td>0.7999999999999999</td>\n",
       "      <td>0.1</td>\n",
       "      <td>500</td>\n",
       "      <td>1</td>\n",
       "      <td>0.582262</td>\n",
       "    </tr>\n",
       "    <tr>\n",
       "      <th>102</th>\n",
       "      <td>6</td>\n",
       "      <td>0.7999999999999999</td>\n",
       "      <td>0.1</td>\n",
       "      <td>100</td>\n",
       "      <td>1</td>\n",
       "      <td>0.581297</td>\n",
       "    </tr>\n",
       "    <tr>\n",
       "      <th>62</th>\n",
       "      <td>5</td>\n",
       "      <td>0.7999999999999999</td>\n",
       "      <td>0.1</td>\n",
       "      <td>500</td>\n",
       "      <td>1</td>\n",
       "      <td>0.573272</td>\n",
       "    </tr>\n",
       "    <tr>\n",
       "      <th>50</th>\n",
       "      <td>5</td>\n",
       "      <td>0.6</td>\n",
       "      <td>0.1</td>\n",
       "      <td>500</td>\n",
       "      <td>1</td>\n",
       "      <td>0.569391</td>\n",
       "    </tr>\n",
       "    <tr>\n",
       "      <th>68</th>\n",
       "      <td>5</td>\n",
       "      <td>0.8999999999999999</td>\n",
       "      <td>0.1</td>\n",
       "      <td>500</td>\n",
       "      <td>1</td>\n",
       "      <td>0.568744</td>\n",
       "    </tr>\n",
       "    <tr>\n",
       "      <th>108</th>\n",
       "      <td>6</td>\n",
       "      <td>0.8999999999999999</td>\n",
       "      <td>0.1</td>\n",
       "      <td>100</td>\n",
       "      <td>1</td>\n",
       "      <td>0.567316</td>\n",
       "    </tr>\n",
       "    <tr>\n",
       "      <th>110</th>\n",
       "      <td>6</td>\n",
       "      <td>0.8999999999999999</td>\n",
       "      <td>0.1</td>\n",
       "      <td>500</td>\n",
       "      <td>1</td>\n",
       "      <td>0.564067</td>\n",
       "    </tr>\n",
       "  </tbody>\n",
       "</table>\n",
       "</div>"
      ],
      "text/plain": [
       "     Topics               Alpha  Decay  Chunksize  Passes  Coherence\n",
       "24        4  0.8999999999999999    0.1        100       1   0.586891\n",
       "98        6                 0.7    0.1        500       1   0.585723\n",
       "14        4                 0.7    0.1        500       1   0.582723\n",
       "104       6  0.7999999999999999    0.1        500       1   0.582262\n",
       "102       6  0.7999999999999999    0.1        100       1   0.581297\n",
       "62        5  0.7999999999999999    0.1        500       1   0.573272\n",
       "50        5                 0.6    0.1        500       1   0.569391\n",
       "68        5  0.8999999999999999    0.1        500       1   0.568744\n",
       "108       6  0.8999999999999999    0.1        100       1   0.567316\n",
       "110       6  0.8999999999999999    0.1        500       1   0.564067"
      ]
     },
     "execution_count": 24,
     "metadata": {},
     "output_type": "execute_result"
    }
   ],
   "source": [
    "grid_search_results = pd.read_csv('gridSearch_results2.csv')\n",
    "grid_search_results.sort_values(by='Coherence', ascending= False).head(10)"
   ]
  },
  {
   "cell_type": "markdown",
   "id": "ec559d1f",
   "metadata": {},
   "source": [
    "### 2.1.4 Hierarchical Dirichlet Process<a class=\"anchor\" id=\"2.1.4\"></a>"
   ]
  },
  {
   "cell_type": "code",
   "execution_count": null,
   "id": "a468f85e",
   "metadata": {},
   "outputs": [],
   "source": [
    "hdpModel = HierarchicalModel()\n",
    "hdpModel.fit(df,'cleanBody')\n",
    "hdpModel.train()\n",
    "\n",
    "print(hdpModel.get_coherance())"
   ]
  },
  {
   "cell_type": "code",
   "execution_count": null,
   "id": "7b618a9f",
   "metadata": {},
   "outputs": [],
   "source": [
    "print(hdpModel.model.show_topics(num_topics=8, formatted=True))"
   ]
  },
  {
   "cell_type": "code",
   "execution_count": null,
   "id": "4919fa28",
   "metadata": {},
   "outputs": [],
   "source": [
    "import pandas as pd\n",
    "\n",
    "def topic_prob_extractor(gensim_hdp):\n",
    "    shown_topics = gensim_hdp.show_topics(num_topics=30, num_words=10, formatted=False)\n",
    "    topics_nos = [x[0] for x in shown_topics ]\n",
    "    weights = [ sum([item[1] for item in shown_topics[topicN][1]]) for topicN in topics_nos ]\n",
    "\n",
    "    return pd.DataFrame({'topic_id' : topics_nos, 'weight' : weights})\n",
    "\n",
    "topic_prob_extractor(hdpModel.model)"
   ]
  },
  {
   "cell_type": "code",
   "execution_count": null,
   "id": "0d35e7de",
   "metadata": {},
   "outputs": [],
   "source": [
    "import warnings\n",
    "warnings.filterwarnings('ignore')"
   ]
  },
  {
   "cell_type": "markdown",
   "id": "fe2cbf34",
   "metadata": {},
   "source": [
    "## 2.2 NMF<a class=\"anchor\" id=\"2.2\"></a>\n"
   ]
  },
  {
   "cell_type": "code",
   "execution_count": null,
   "id": "4e890217",
   "metadata": {},
   "outputs": [],
   "source": [
    "nmf_model = NMFModel()\n",
    "nmf_model.fit(df, 'cleanBody')\n",
    "nmf_model.train(num_topics=10)\n",
    "\n",
    "print(nmf_model.get_topics())\n",
    "print(nmf_model.get_coherance())"
   ]
  },
  {
   "cell_type": "markdown",
   "id": "c597278f",
   "metadata": {},
   "source": [
    "## 2.3 Ensemble<a class=\"anchor\" id=\"2.3\"></a>\n",
    "https://radimrehurek.com/gensim/models/ensemblelda.html"
   ]
  },
  {
   "cell_type": "code",
   "execution_count": null,
   "id": "d8e836c9",
   "metadata": {},
   "outputs": [],
   "source": [
    "ensemble_model = EnsembleModel()\n",
    "ensemble_model.fit(df, 'cleanBody')\n",
    "ensemble_model.train(num_topics=10, num_models=10)\n",
    "\n",
    "print(ensemble_model.get_topics())\n",
    "print(ensemble_model.get_coherance())"
   ]
  },
  {
   "cell_type": "markdown",
   "id": "b2a42016",
   "metadata": {},
   "source": [
    "# 3. Topic Analysis<a class=\"anchor\" id=\"3\"></a>\n"
   ]
  },
  {
   "cell_type": "markdown",
   "id": "f51dbaa1",
   "metadata": {},
   "source": [
    "## 3.1 LDA Model<a class=\"anchor\" id=\"3.1\"></a>\n"
   ]
  },
  {
   "cell_type": "code",
   "execution_count": 6,
   "id": "238167ad",
   "metadata": {},
   "outputs": [
    {
     "data": {
      "text/html": [
       "\n",
       "<link rel=\"stylesheet\" type=\"text/css\" href=\"https://cdn.jsdelivr.net/gh/bmabey/pyLDAvis@3.3.1/pyLDAvis/js/ldavis.v1.0.0.css\">\n",
       "\n",
       "\n",
       "<div id=\"ldavis_el83412132132602561123051182\"></div>\n",
       "<script type=\"text/javascript\">\n",
       "\n",
       "var ldavis_el83412132132602561123051182_data = {\"mdsDat\": {\"x\": [-0.022781938480036627, 0.014439416922294205, 0.00585286871525905, 0.0014275546943044426, -0.0035717795822243718, 0.004633877730403309], \"y\": [0.00493741677620575, 0.012212620931589539, 0.0003738796447610167, -0.007406732796973542, 0.0010471015139684342, -0.011164286069551214], \"topics\": [1, 2, 3, 4, 5, 6], \"cluster\": [1, 1, 1, 1, 1, 1], \"Freq\": [19.889294768770803, 17.365103587593836, 16.388567117370965, 15.647925231249282, 15.39866925879225, 15.310440036222865]}, \"tinfo\": {\"Term\": [\"san_diego\", \"palm_springs\", \"vacation_rental\", \"usa\", \"mission_beach\", \"condo\", \"jerusalem\", \"touri\", \"bed_breakfasts\", \"modern_houses\", \"rent\", \"owl_house\", \"love\", \"rent_hightown\", \"mid_century\", \"holiday\", \"guest_room\", \"rent_seattle\", \"crafted_gypsy\", \"love_hand\", \"rt\", \"christmas\", \"campers_rvs\", \"world\", \"tourism\", \"photography\", \"wagon_heart\", \"ttot\", \"latest\", \"best\", \"san_diego\", \"vacation_rental\", \"mission_beach\", \"condo\", \"usa\", \"artists\", \"michelin\", \"jinshanling\", \"straight\", \"siberia\", \"aberdeen\", \"devon\", \"posted_travelleisure\", \"destinos\", \"annual\", \"cheapest\", \"hebei\", \"resort_hollywood\", \"photog\", \"single\", \"deosai_expanse\", \"inbox\", \"community\", \"mendoan\", \"salad\", \"shoes\", \"tempatwisata\", \"icecream\", \"festivals\", \"books_deosailandofthegiant\", \"rent_hightown\", \"street_food\", \"owl_house\", \"guest_room\", \"pesan_hotel\", \"experience\", \"book\", \"found_mission\", \"nice_vacation\", \"rental_condo\", \"beach\", \"bed_breakfasts\", \"japan_japantravel\", \"explore\", \"tour\", \"paradise\", \"hotels\", \"campers_rvs\", \"holiday\", \"wagon_heart\", \"lp\", \"rt\", \"vacation\", \"love_hand\", \"love\", \"latest\", \"rent_seattle\", \"jerusalem\", \"touri\", \"palm_springs\", \"photography\", \"crafted_gypsy\", \"japan\", \"rent\", \"hotel\", \"mid_century\", \"photography_helena\", \"modern_houses\", \"ttot\", \"ad_scda\", \"great_tire\", \"pc\", \"dare_compare\", \"tv_special\", \"leave_home\", \"woods\", \"use_channel\", \"guides_help\", \"ship_ahead\", \"funny\", \"liquid_paste\", \"hand\", \"safe_winter\", \"niggas\", \"modern_houses\", \"find_ad\", \"himeji\", \"palm_springs\", \"forfrontier\", \"vote\", \"janeiro\", \"statue\", \"kitty\", \"woes\", \"surprise_rt\", \"forget\", \"mans\", \"rent\", \"miki\", \"mid_century\", \"year\", \"blogging\", \"holiday\", \"photo\", \"love\", \"finland\", \"christmas\", \"going\", \"cute\", \"party\", \"kerala\", \"latest\", \"traveltuesday\", \"nature\", \"winter\", \"need\", \"day\", \"holidays\", \"today\", \"touri\", \"luxury\", \"jerusalem\", \"de\", \"thanks\", \"like\", \"daily_thanks\", \"ttot\", \"rt\", \"happy\", \"great\", \"vacation\", \"guest_room\", \"photography_helena\", \"reet_ennet\", \"bed_breakfasts\", \"travelpics_travelblogger\", \"rent_hightown\", \"owl_house\", \"usa\", \"tour\", \"san_diego\", \"photography\", \"wagon_heart\", \"beach\", \"campers_rvs\", \"condo\", \"mission_beach\", \"glitter\", \"naturecuts\", \"bay_mydayinla\", \"fireball_sunset\", \"thanks_following\", \"rewards\", \"fujifilm\", \"simple\", \"california_b\", \"service\", \"birth\", \"big\", \"change_lives\", \"drea\", \"risk\", \"sinks_santamonica\", \"check_unique\", \"penh\", \"surefire\", \"tayland\", \"tree\", \"roads\", \"ilovela_mondaymotivation\", \"making_working\", \"parrot\", \"phnom\", \"extra\", \"airports\", \"organisations\", \"visa\", \"gift\", \"job\", \"thailand\", \"water\", \"way\", \"trees\", \"giving_cow\", \"rt\", \"love\", \"tourism\", \"rent_seattle\", \"latest\", \"love_hand\", \"new\", \"crafted_gypsy\", \"trip\", \"holiday\", \"wagon_heart\", \"photography\", \"campers_rvs\", \"christmas\", \"vacation\", \"traveller\", \"loyalty\", \"jerusalem\", \"world\", \"beach\", \"touri\", \"winter\", \"palm_springs\", \"guest_room\", \"hotel\", \"rent_hightown\", \"usa\", \"owl_house\", \"bed_breakfasts\", \"ttot\", \"tour\", \"photography_helena\", \"reet_ennet\", \"rent\", \"travelpics_travelblogger\", \"san_diego\", \"modern_houses\", \"mission_beach\", \"man_travels\", \"great_giftidea\", \"wheel_light\", \"george_moore\", \"reeftank\", \"damselfish\", \"single_double\", \"needs_returns\", \"heely_skateshoes\", \"quoteoftheday\", \"world_search\", \"home_find\", \"girls_boys\", \"fish_fishtank\", \"marinelife_ocean\", \"reef_coral\", \"avanza\", \"parque\", \"reeftank_reefcandy\", \"lads\", \"code_oath\", \"beginner\", \"hacer\", \"gerard_de\", \"uber_lyft\", \"hong_kong\", \"beaten\", \"free_rides\", \"santabarbara_sunset\", \"rooftop\", \"nerval\", \"east_africa\", \"blossoming_nature\", \"flower_soul\", \"natural\", \"viajar\", \"fishtank_marinelife\", \"hongkong\", \"free\", \"owl_house\", \"rt_viajes\", \"touri\", \"jerusalem\", \"bed_breakfasts\", \"rent_hightown\", \"guest_room\", \"de\", \"hotel\", \"beach\", \"holiday\", \"day\", \"photography\", \"vacation\", \"beautiful\", \"photography_helena\", \"reet_ennet\", \"travelpics_travelblogger\", \"ttot\", \"city\", \"beautiful_israel\", \"tourism\", \"crafted_gypsy\", \"latest\", \"tour\", \"christmas\", \"rent_seattle\", \"daily_thanks\", \"wagon_heart\", \"palm_springs\", \"love\", \"mid_century\", \"love_hand\", \"san_diego\", \"rent\", \"rt\", \"campers_rvs\", \"usa\", \"modern_houses\", \"vacation_rental\", \"religion\", \"julian\", \"nevea\", \"sella\", \"paper_print\", \"viaggilowcost_viaggi\", \"hk\", \"curry\", \"christmas_sled\", \"childanddog_laurieshanholtzer\", \"snow_scene\", \"winter_canvas\", \"europa\", \"pass\", \"nomads\", \"james\", \"trendy\", \"bright\", \"memorable\", \"makes\", \"download_goodies\", \"railway\", \"ride_art\", \"holiday_lip\", \"romance\", \"inform\", \"festive_naughtiness\", \"firm_discipline\", \"winter_spice\", \"warsaw\", \"bundle_check\", \"yummy\", \"alps\", \"saint_petersburg\", \"noel_ganache\", \"people\", \"photos\", \"world\", \"usa\", \"jerusalem\", \"photo_popular\", \"paris\", \"bed_breakfasts\", \"travelpix\", \"ad_recipe\", \"holiday_season\", \"adventure\", \"holidays\", \"guest_room\", \"ttot\", \"quote\", \"japan_japantravel\", \"life\", \"rent_hightown\", \"tour\", \"owl_house\", \"crafted_gypsy\", \"touri\", \"australia\", \"holiday\", \"best\", \"palm_springs\", \"rt\", \"rent\", \"love\", \"photography_helena\", \"love_hand\", \"reet_ennet\", \"travelpics_travelblogger\", \"san_diego\", \"mission_beach\", \"condo\", \"vacation\", \"vacation_rental\", \"latest\", \"campers_rvs\", \"rent_seattle\", \"christmas\", \"mid_century\", \"wagon_heart\", \"modern_houses\", \"palawan\", \"santorini\", \"umroh\", \"tepi\", \"suci\", \"pura\", \"exclusive_amalfi\", \"tanah\", \"gambling\", \"lunch_winelover\", \"lot\", \"lawyer\", \"coates\", \"penang\", \"plans_sorted\", \"unesco\", \"avisa\", \"\\u043b\\u0435\\u0434\\u044f\\u043d\\u0430\\u044f\\u043b\\u0430\\u0433\\u0443\\u043d\\u0430\", \"vespa_light\", \"coast_experience\", \"icelagoon\", \"holiday_baking\", \"final\", \"palawan_philippines\", \"phone\", \"quick\", \"quebecoriginal\", \"jokulsarlon\", \"rabbit\", \"white_sand\", \"posted_trips\", \"tulip_rainbow\", \"iceland\", \"places_world\", \"stunning\", \"germany\", \"touri\", \"magnificent\", \"inn\", \"wine\", \"bed_breakfasts\", \"city\", \"jerusalem\", \"best\", \"love_hand\", \"campers_rvs\", \"crafted_gypsy\", \"wagon_heart\", \"rent_seattle\", \"guest_room\", \"owl_house\", \"photography\", \"lp\", \"nature\", \"rent_hightown\", \"ttot\", \"france\", \"vacation\", \"time\", \"traveller\", \"christmas\", \"photography_helena\", \"reet_ennet\", \"travelpics_travelblogger\", \"holiday\", \"mid_century\", \"beautiful\", \"beach\", \"beautiful_israel\", \"rt\", \"palm_springs\", \"rent\", \"latest\", \"love\", \"usa\", \"modern_houses\"], \"Freq\": [2751.0, 2983.0, 1697.0, 2634.0, 1685.0, 1686.0, 5140.0, 4381.0, 3704.0, 1486.0, 1753.0, 3750.0, 2293.0, 3763.0, 1483.0, 4765.0, 3744.0, 1356.0, 1350.0, 1354.0, 1584.0, 1392.0, 1359.0, 903.0, 847.0, 1305.0, 1360.0, 1253.0, 1515.0, 704.0, 1573.1505765223542, 871.2020769595484, 848.0165609011701, 837.3593076165471, 1066.8426774809661, 1.2122378283671735, 6.375313852170158, 2.366357596389779, 14.364498365724021, 3.5895749993368584, 4.945402250486032, 2.9593579753235546, 11.84047719255914, 3.990195208199858, 2.5851858891521773, 6.978919369249467, 2.173090751291767, 9.306182936697471, 18.673842008616656, 5.049880845424511, 8.428865494649594, 3.2202062052345486, 13.532470762786117, 3.291159990891649, 11.334192062254592, 2.7220294016889732, 4.934464033608397, 5.224744621569078, 6.831728244878183, 8.173149712953574, 1136.6603129932228, 11.130660320726633, 1063.2448241192862, 1004.4365168559585, 19.520745422782806, 50.24486090618679, 79.64567454097944, 40.303234696286815, 40.303234696286815, 40.303234696286815, 330.48921942859596, 784.6089251358786, 203.76257788034712, 74.64280128632375, 245.67827247136535, 58.297440552347716, 67.93956400359596, 291.52730455423796, 860.2268035806788, 279.2673985225593, 166.2853025302622, 305.46605018970763, 282.680111273359, 256.4390874890406, 395.76701331126816, 273.3620439237748, 249.17533651569664, 724.9781054404382, 634.075135170399, 455.5518221435027, 232.1876321677599, 236.39984848333745, 121.92486120979135, 268.73702145895226, 150.99584469604127, 228.49444699995863, 176.93576667091824, 218.27652336914608, 190.40501353051204, 7.488841123685477, 6.8457076094252605, 1.958239725281032, 6.323316339022941, 7.93391078124551, 4.54228098512051, 4.001515713727799, 7.188344698139411, 7.155412775264771, 4.159201617750711, 5.6275611963955114, 4.093815154146519, 9.531964040128143, 5.387027899304426, 1.173881354645208, 586.4901542515438, 6.619326027577189, 5.738181628433553, 1130.338989097962, 6.519843519573, 5.303906227411784, 6.5706193497273295, 8.508085059852492, 5.897907202020847, 4.429336181502676, 4.064278213464016, 15.813784166988595, 1.2462091422564072, 640.6338353297972, 5.522986215103117, 523.2103164078925, 65.54301159357004, 10.254108915384872, 1271.7225722076591, 139.249742695415, 588.5736298072, 20.561022311686603, 344.4939938792996, 35.22016707902029, 29.369452511913796, 38.476121772334736, 20.262359176524292, 316.37284892133266, 114.54818580753623, 155.84085151488986, 108.95218782014211, 62.741529467266034, 135.04854157428207, 86.58474908900139, 66.42400113387684, 715.7088657596992, 126.65757506150557, 752.6007578067824, 108.69924854338787, 131.38190362812668, 70.21054270372761, 125.6977456961446, 210.0053932696867, 247.00439998298637, 52.20096505794868, 90.38027723627583, 220.36515403089086, 402.86291017016265, 163.35102861262564, 163.35102861262564, 387.2357571084395, 163.28780808809893, 380.2416268336831, 363.1103322722318, 290.70598304771266, 162.83217050614678, 264.08852216029425, 176.57277127401952, 178.67766976291904, 172.3760110278383, 161.7283176576426, 165.55431249423145, 159.99037266850567, 4.176135251795303, 3.3951683974463682, 4.848020047424308, 4.7537210877184535, 22.59541062884383, 9.767848215562411, 7.31762726657069, 7.850580498789645, 4.551902471806438, 18.586678697869957, 3.648120212087038, 44.059631719623496, 11.656224273978378, 11.649451895678002, 5.627872787082726, 4.326151188354847, 11.418642407865859, 2.546051394809741, 1.3997378341392772, 6.762213549644886, 27.447255316204703, 0.7932490975314724, 4.144095179522468, 5.269711895668473, 3.983600831284861, 2.433133734883585, 3.353161439412912, 13.44115405262856, 4.400970004468444, 35.16618365887098, 87.86992659512838, 37.36490642621379, 71.35445680936161, 28.461151399283004, 66.84111186834426, 14.625518677218198, 10.549358636463177, 407.2442427779641, 568.7804130410434, 214.69746919767385, 322.20990108395455, 339.98839244115453, 293.8491414239589, 111.64154104277127, 287.3835797415632, 128.67051989261387, 842.4319839690877, 281.83384506789355, 267.9150517224461, 272.7491087986734, 271.7921618515818, 285.0444920140087, 138.5119367774323, 73.74250262626283, 779.2308185783629, 176.71624486760788, 242.0388824940467, 622.4645611656964, 99.97812954859464, 406.2567166991045, 465.2606264388076, 147.08429271229335, 443.78806803769004, 337.5145766565753, 416.0122511929664, 397.95588546661844, 189.55528907032848, 168.1744860522394, 160.63570477113555, 160.63570477113555, 204.6887574804978, 160.58553700731153, 217.74358242715283, 172.37418803380254, 160.81239818958068, 33.64024319511924, 15.55955905143811, 14.846606817892372, 30.437623685472232, 2.6765539260612425, 1.4669389855786727, 14.051075938479414, 28.79095847083035, 13.44640445786764, 27.46829609602419, 27.584992507135706, 30.57117288145461, 13.47514006621114, 37.6450595583224, 37.35272707293445, 36.83013187492113, 4.666589265317982, 1.6398556697995543, 44.91379233736783, 2.6316463531528904, 5.564892076521131, 3.8862425303885106, 2.8040310207176176, 38.86475034414181, 5.323765758208792, 12.820795807261844, 4.371113520866455, 6.962933630434715, 5.881084670323703, 7.04859569187783, 37.46705121305459, 11.93266263197376, 35.98897181211387, 35.392243682332946, 14.894602905149112, 67.5286366701943, 13.184706471042075, 27.53015547733234, 90.49390729205273, 747.3659551608836, 45.46511240946677, 858.0054109842653, 952.5386710408227, 699.8005864421143, 655.8523706569323, 618.4960540481629, 107.84921000498942, 156.58683697085996, 242.63287140573195, 644.8646125433198, 122.97882875215294, 218.82978336896994, 237.7804200753686, 117.86753582098576, 176.14570249093165, 176.14570249093165, 176.08220720872268, 202.79817781329902, 108.88332264688437, 138.559689938353, 139.84770642242717, 186.5455152445602, 199.9116414080242, 160.15790988222182, 187.7643601708587, 182.62656650383855, 109.89126946177218, 175.03645004388, 271.20435723995746, 228.2205758819227, 179.9957115338478, 171.04552166352138, 236.2727291506414, 187.3811385771532, 174.75291106254696, 164.93027506139757, 196.32780761089515, 165.17216512215805, 166.81989946888473, 2.8948181496671475, 1.008558939532295, 1.008558939532295, 1.008558939532295, 7.844008857311712, 4.48999155162956, 3.53779235443222, 3.4141273395970444, 7.363742312082299, 7.30369222473469, 7.268372869250687, 7.18848231670454, 2.9167836810636434, 1.9885315530056085, 2.306761338497537, 2.421171078691249, 2.4053671037171176, 5.121921327597438, 4.573368512022785, 12.489690358877757, 3.240272523446245, 2.5637942614505267, 6.502662953484242, 28.048209755913835, 49.134133286966936, 0.8549907547713405, 1.5938498240098626, 1.5938498240098626, 1.5938498240098626, 4.412250096724645, 26.376865657558433, 35.28661567948544, 5.806419753683128, 23.50854230614017, 23.250836502775552, 37.287102875519146, 49.429211945847285, 205.63460306622306, 545.669921246157, 1002.8513317917127, 67.53247949717232, 48.64679885659745, 691.0936555178426, 65.74534292634875, 23.106404887889564, 105.90142196348144, 123.73010360315634, 77.60576334108985, 623.0521235035455, 231.61567138124613, 33.52330773711648, 161.4597610873654, 66.632019733259, 556.7747085782348, 189.42691040838477, 540.3104044719871, 226.60705804459698, 593.5549391959221, 54.443047764058605, 612.0999881244436, 128.94628945535842, 405.7008915031982, 239.94738860874793, 258.2076686316348, 310.24099326278093, 164.84097142356032, 205.23865783788295, 164.84097142356032, 164.779112904086, 344.4380053467268, 238.91942170397556, 238.97796758142337, 214.95287917316605, 232.7118178673189, 210.56232709298038, 193.99075084927267, 185.2152748000994, 181.2710336280444, 185.93553782357412, 176.87054362177923, 178.93284919685453, 9.996702262421788, 17.117002293247758, 13.594343936496932, 3.544211570556902, 3.525052195532957, 4.427978408862836, 10.266894900900326, 3.357032125199011, 5.496516412466366, 9.798701310914206, 14.000712051546598, 4.901061027929057, 1.6811044647838036, 5.076185944550781, 19.15888769644927, 15.945600378128644, 8.431417898784531, 2.436493066452158, 9.180723834090392, 9.161174019418644, 2.406789457819261, 8.857867267542364, 4.602731528214022, 4.431970503284632, 7.514536947080854, 4.981535706917242, 2.9730419522229083, 2.3797777034360523, 2.9311134077715155, 3.23773325142721, 23.224749217379923, 13.984140816138257, 44.61062694456953, 42.5927970348268, 26.915301348922934, 50.449276666814036, 957.7793446442364, 34.83222009314292, 16.14823514194587, 57.593006227332566, 743.4168177801033, 128.3732121230533, 928.4449180976869, 154.6127477764531, 275.5946721721968, 274.60487641933923, 268.4932518807358, 268.54275763255526, 265.54500455284494, 630.4399868970846, 620.2155199462915, 247.59091855965147, 155.84635851680173, 139.58629011675723, 590.1578321783197, 228.76760835783148, 59.43075602406261, 247.01399002215453, 93.37093153825624, 121.95943613482666, 224.9315679632827, 173.23277519491936, 173.23277519491936, 173.1840760541275, 534.527617261393, 220.4094208677709, 109.62096771364487, 195.04273077042365, 135.92148652161117, 210.28314200519264, 314.20675556269487, 193.39085860346722, 175.58347499092005, 201.91013303749978, 197.88228726234428, 165.65878166765827], \"Total\": [2751.0, 2983.0, 1697.0, 2634.0, 1685.0, 1686.0, 5140.0, 4381.0, 3704.0, 1486.0, 1753.0, 3750.0, 2293.0, 3763.0, 1483.0, 4765.0, 3744.0, 1356.0, 1350.0, 1354.0, 1584.0, 1392.0, 1359.0, 903.0, 847.0, 1305.0, 1360.0, 1253.0, 1515.0, 704.0, 2751.523112064064, 1697.5485380841774, 1685.287338723062, 1686.8917276795096, 2634.94325330465, 3.151657063298056, 16.926381430925595, 6.530966218510081, 40.71760399806769, 10.270109677516638, 14.205609412463472, 8.520938225016272, 34.156057422728566, 11.521922412409488, 7.5490958473773215, 20.77941990148932, 6.488448114134262, 27.858214075525233, 55.969068490643814, 15.17641892670547, 25.45105181251712, 9.84250862155301, 41.388038686250475, 10.072353134788965, 35.00094274466482, 8.414552388166932, 15.284657403651357, 16.22674761385001, 21.257500953267574, 25.449756625875928, 3763.474919278083, 34.9308776089856, 3750.2592871636466, 3744.548217913722, 63.35040515266719, 170.05446321108798, 275.57839033167613, 139.5060282681469, 139.5060282681469, 139.5060282681469, 1345.8599758223781, 3704.111627450997, 852.5390229056858, 286.4258005995857, 1067.9506906450395, 219.8046846007772, 263.91311692402826, 1359.5306333405633, 4765.8735776865815, 1360.2286646515865, 765.2968777982611, 1584.6981346271455, 1487.8370465889477, 1354.8022970003728, 2293.4927583417148, 1515.7807287781866, 1356.2435619182766, 5140.644602755806, 4381.588256920219, 2983.25953224642, 1305.7736352484105, 1350.4614822362496, 573.2545944499075, 1753.0392800815025, 779.8988259691894, 1483.6178670891422, 1015.1419491640906, 1486.9046616411633, 1253.147153422904, 13.519452781295353, 13.49608834774274, 4.154962497630361, 13.475621202295248, 17.253155772049155, 10.319130100328914, 9.316870804795663, 17.254367185496974, 17.219798685918292, 10.116143890486024, 13.787823088685924, 10.101509636206615, 23.548576377151868, 13.461050433095753, 2.9333813401753965, 1486.9046616411633, 17.332641220428236, 15.12049332943465, 2983.25953224642, 17.209638736272318, 14.103246691964705, 17.606572617449167, 22.89069026526912, 15.877362762693345, 11.96673361780308, 10.981990665760307, 42.997070546986976, 3.396629148135484, 1753.0392800815025, 15.168854208118693, 1483.6178670891422, 194.28076721606539, 28.821360674321898, 4765.8735776865815, 472.60214410532245, 2293.4927583417148, 62.209088008297286, 1392.5870940744471, 112.8851537734542, 93.92751130378281, 128.39452577320742, 62.60246993359203, 1515.7807287781866, 474.18008992168, 687.8215008303473, 452.9509002951886, 237.63239351660036, 591.4349006797191, 350.2528770937021, 256.36490099239376, 4381.588256920219, 569.6789637885822, 5140.644602755806, 491.1963051213304, 630.3854224808351, 287.4618079770582, 607.4397020996946, 1253.147153422904, 1584.6981346271455, 201.20215553457027, 428.86023523588585, 1487.8370465889477, 3744.548217913722, 1015.1419491640906, 1015.1419491640906, 3704.111627450997, 1014.794093283977, 3763.474919278083, 3750.2592871636466, 2634.94325330465, 1067.9506906450395, 2751.523112064064, 1305.7736352484105, 1360.2286646515865, 1345.8599758223781, 1359.5306333405633, 1686.8917276795096, 1685.287338723062, 10.687847242614906, 8.702294067823512, 12.63936361330622, 12.64504567943362, 60.15563922303761, 26.08428037666696, 19.97077830603119, 21.497947552124778, 12.509094087339912, 51.67178220265769, 10.147389327161275, 123.69784141384426, 33.62473150412912, 33.6415248366038, 16.503256027549345, 12.691776662318071, 33.654070407743546, 7.5083787591374005, 4.161978078282418, 20.122701517373763, 82.21446452525828, 2.402406717890946, 12.613315599404332, 16.08071016651217, 12.218368433949758, 7.523466681123398, 10.390137356872254, 41.8989326799107, 13.723822357075377, 109.73899529862287, 284.5306447983962, 119.16832745684258, 237.90178943705715, 92.39233739373775, 226.17998097148842, 47.15418664526524, 33.56848029386264, 1584.6981346271455, 2293.4927583417148, 847.341633280659, 1356.2435619182766, 1515.7807287781866, 1354.8022970003728, 458.2378739318292, 1350.4614822362496, 557.4966441725386, 4765.8735776865815, 1360.2286646515865, 1305.7736352484105, 1359.5306333405633, 1392.5870940744471, 1487.8370465889477, 635.2699494116395, 303.5257619349245, 5140.644602755806, 903.2452314121607, 1345.8599758223781, 4381.588256920219, 452.9509002951886, 2983.25953224642, 3744.548217913722, 779.8988259691894, 3763.474919278083, 2634.94325330465, 3750.2592871636466, 3704.111627450997, 1253.147153422904, 1067.9506906450395, 1015.1419491640906, 1015.1419491640906, 1753.0392800815025, 1014.794093283977, 2751.523112064064, 1486.9046616411633, 1685.287338723062, 68.98223529371624, 32.16161842608717, 32.32358219509311, 68.03074773603412, 6.029415760967465, 3.3279841663529184, 32.32812457519874, 69.24357989014104, 32.39551642090015, 68.9083277710948, 69.21279645568656, 77.07037982390543, 34.15119083565482, 97.69663633169372, 97.72932073556943, 97.79694180401694, 12.468472497523404, 4.687042780714171, 130.63391684666803, 7.689339402605329, 16.391295653551033, 11.835070397208707, 8.567876552566466, 118.7616557378886, 16.30445008889586, 39.267625699053376, 13.413685108546344, 21.44103235911622, 18.13898740963581, 22.044736574836076, 119.31574353341361, 37.73149559575072, 119.01171865895603, 119.07241220031445, 48.071917361711954, 236.3371879357204, 42.587459992262424, 93.34145479982448, 341.62975569590344, 3750.2592871636466, 167.26763964735522, 4381.588256920219, 5140.644602755806, 3704.111627450997, 3763.474919278083, 3744.548217913722, 491.1963051213304, 779.8988259691894, 1345.8599758223781, 4765.8735776865815, 591.4349006797191, 1305.7736352484105, 1487.8370465889477, 582.2122539359269, 1015.1419491640906, 1015.1419491640906, 1014.794093283977, 1253.147153422904, 553.9200364625553, 800.6096443147936, 847.341633280659, 1350.4614822362496, 1515.7807287781866, 1067.9506906450395, 1392.5870940744471, 1356.2435619182766, 607.4397020996946, 1360.2286646515865, 2983.25953224642, 2293.4927583417148, 1483.6178670891422, 1354.8022970003728, 2751.523112064064, 1753.0392800815025, 1584.6981346271455, 1359.5306333405633, 2634.94325330465, 1486.9046616411633, 1697.5485380841774, 7.446508606177336, 2.708415558378429, 2.708415558378429, 2.708415558378429, 21.250571043908238, 12.467851892637904, 10.071673445990657, 9.836701950161391, 21.333938541695193, 21.287046484604154, 21.278815161952057, 21.29140956774167, 8.758306209404916, 5.971939598416472, 6.969544478184247, 7.328299542356339, 7.3028265439675915, 15.630548910700256, 14.164050719010607, 38.82155244528219, 10.481369177196528, 8.444048338861574, 21.44317374226984, 93.25897221706224, 163.68866325367918, 2.887005881623467, 5.469957443097052, 5.469957443097052, 5.469957443097052, 15.267248343087712, 92.93242717329404, 128.3985657958736, 20.38519155455723, 87.86988290902087, 87.45950249767894, 144.08544235071662, 195.0852173128947, 903.2452314121607, 2634.94325330465, 5140.644602755806, 279.8273376932001, 196.8737241364868, 3704.111627450997, 278.5088574060492, 87.86808715354445, 488.4016962559642, 583.9371212403208, 350.2528770937021, 3744.548217913722, 1253.147153422904, 136.65695968295194, 852.5390229056858, 304.0687412701, 3763.474919278083, 1067.9506906450395, 3750.2592871636466, 1350.4614822362496, 4381.588256920219, 245.80543690791552, 4765.8735776865815, 704.0647008712945, 2983.25953224642, 1584.6981346271455, 1753.0392800815025, 2293.4927583417148, 1015.1419491640906, 1354.8022970003728, 1015.1419491640906, 1014.794093283977, 2751.523112064064, 1685.287338723062, 1686.8917276795096, 1487.8370465889477, 1697.5485380841774, 1515.7807287781866, 1359.5306333405633, 1356.2435619182766, 1392.5870940744471, 1483.6178670891422, 1360.2286646515865, 1486.9046616411633, 22.33020416894432, 39.56839638712813, 33.831417198211795, 9.69450146906214, 9.699992259617895, 12.600049589497047, 29.582658776456075, 9.901177528582735, 16.364866998074717, 29.46188370364232, 42.51667381825253, 15.060736594531768, 5.2043672334126345, 15.895673684075817, 60.34377911001691, 50.28103441166314, 26.604100758019694, 7.833717821944436, 29.650085489827454, 29.597511932889653, 7.834888063442936, 28.84157242745516, 15.016601786176459, 14.484365601353073, 24.75107717831618, 16.416762751146262, 9.842075498418787, 7.883946357359787, 9.85352942792089, 10.912129909839447, 79.25366853189131, 47.91883117669388, 157.27432262438973, 150.63465616102712, 93.93322229161892, 187.28458938432058, 4381.588256920219, 130.93664334064476, 57.481306796848315, 226.2817739099193, 3704.111627450997, 553.9200364625553, 5140.644602755806, 704.0647008712945, 1354.8022970003728, 1359.5306333405633, 1350.4614822362496, 1360.2286646515865, 1356.2435619182766, 3744.548217913722, 3750.2592871636466, 1305.7736352484105, 765.2968777982611, 687.8215008303473, 3763.474919278083, 1253.147153422904, 254.84575553229973, 1487.8370465889477, 450.9750838332784, 635.2699494116395, 1392.5870940744471, 1015.1419491640906, 1015.1419491640906, 1014.794093283977, 4765.8735776865815, 1483.6178670891422, 582.2122539359269, 1345.8599758223781, 800.6096443147936, 1584.6981346271455, 2983.25953224642, 1753.0392800815025, 1515.7807287781866, 2293.4927583417148, 2634.94325330465, 1486.9046616411633], \"Category\": [\"Default\", \"Default\", \"Default\", \"Default\", \"Default\", \"Default\", \"Default\", \"Default\", \"Default\", \"Default\", \"Default\", \"Default\", \"Default\", \"Default\", \"Default\", \"Default\", \"Default\", \"Default\", \"Default\", \"Default\", \"Default\", \"Default\", \"Default\", \"Default\", \"Default\", \"Default\", \"Default\", \"Default\", \"Default\", \"Default\", \"Topic1\", \"Topic1\", \"Topic1\", \"Topic1\", \"Topic1\", \"Topic1\", \"Topic1\", \"Topic1\", \"Topic1\", \"Topic1\", \"Topic1\", \"Topic1\", \"Topic1\", \"Topic1\", \"Topic1\", \"Topic1\", \"Topic1\", \"Topic1\", \"Topic1\", \"Topic1\", \"Topic1\", \"Topic1\", \"Topic1\", \"Topic1\", \"Topic1\", \"Topic1\", \"Topic1\", \"Topic1\", \"Topic1\", \"Topic1\", \"Topic1\", \"Topic1\", \"Topic1\", \"Topic1\", \"Topic1\", \"Topic1\", \"Topic1\", \"Topic1\", \"Topic1\", \"Topic1\", \"Topic1\", \"Topic1\", \"Topic1\", \"Topic1\", \"Topic1\", \"Topic1\", \"Topic1\", \"Topic1\", \"Topic1\", \"Topic1\", \"Topic1\", \"Topic1\", \"Topic1\", \"Topic1\", \"Topic1\", \"Topic1\", \"Topic1\", \"Topic1\", \"Topic1\", \"Topic1\", \"Topic1\", \"Topic1\", \"Topic1\", \"Topic1\", \"Topic1\", \"Topic1\", \"Topic1\", \"Topic1\", \"Topic1\", \"Topic2\", \"Topic2\", \"Topic2\", \"Topic2\", \"Topic2\", \"Topic2\", \"Topic2\", \"Topic2\", \"Topic2\", \"Topic2\", \"Topic2\", \"Topic2\", \"Topic2\", \"Topic2\", \"Topic2\", \"Topic2\", \"Topic2\", \"Topic2\", \"Topic2\", \"Topic2\", \"Topic2\", \"Topic2\", \"Topic2\", \"Topic2\", \"Topic2\", \"Topic2\", \"Topic2\", \"Topic2\", \"Topic2\", \"Topic2\", \"Topic2\", \"Topic2\", \"Topic2\", \"Topic2\", \"Topic2\", \"Topic2\", \"Topic2\", \"Topic2\", \"Topic2\", \"Topic2\", \"Topic2\", \"Topic2\", \"Topic2\", \"Topic2\", \"Topic2\", \"Topic2\", \"Topic2\", \"Topic2\", \"Topic2\", \"Topic2\", \"Topic2\", \"Topic2\", \"Topic2\", \"Topic2\", \"Topic2\", \"Topic2\", \"Topic2\", \"Topic2\", \"Topic2\", \"Topic2\", \"Topic2\", \"Topic2\", \"Topic2\", \"Topic2\", \"Topic2\", \"Topic2\", \"Topic2\", \"Topic2\", \"Topic2\", \"Topic2\", \"Topic2\", \"Topic2\", \"Topic2\", \"Topic2\", \"Topic2\", \"Topic2\", \"Topic2\", \"Topic2\", \"Topic3\", \"Topic3\", \"Topic3\", \"Topic3\", \"Topic3\", \"Topic3\", \"Topic3\", \"Topic3\", \"Topic3\", \"Topic3\", \"Topic3\", \"Topic3\", \"Topic3\", \"Topic3\", \"Topic3\", \"Topic3\", \"Topic3\", \"Topic3\", \"Topic3\", \"Topic3\", \"Topic3\", \"Topic3\", \"Topic3\", \"Topic3\", \"Topic3\", \"Topic3\", \"Topic3\", \"Topic3\", \"Topic3\", \"Topic3\", \"Topic3\", \"Topic3\", \"Topic3\", \"Topic3\", \"Topic3\", \"Topic3\", \"Topic3\", \"Topic3\", \"Topic3\", \"Topic3\", \"Topic3\", \"Topic3\", \"Topic3\", \"Topic3\", \"Topic3\", \"Topic3\", \"Topic3\", \"Topic3\", \"Topic3\", \"Topic3\", \"Topic3\", \"Topic3\", \"Topic3\", \"Topic3\", \"Topic3\", \"Topic3\", \"Topic3\", \"Topic3\", \"Topic3\", \"Topic3\", \"Topic3\", \"Topic3\", \"Topic3\", \"Topic3\", \"Topic3\", \"Topic3\", \"Topic3\", \"Topic3\", \"Topic3\", \"Topic3\", \"Topic3\", \"Topic3\", \"Topic3\", \"Topic3\", \"Topic3\", \"Topic4\", \"Topic4\", \"Topic4\", \"Topic4\", \"Topic4\", \"Topic4\", \"Topic4\", \"Topic4\", \"Topic4\", \"Topic4\", \"Topic4\", \"Topic4\", \"Topic4\", \"Topic4\", \"Topic4\", \"Topic4\", \"Topic4\", \"Topic4\", \"Topic4\", \"Topic4\", \"Topic4\", \"Topic4\", \"Topic4\", \"Topic4\", \"Topic4\", \"Topic4\", \"Topic4\", \"Topic4\", \"Topic4\", \"Topic4\", \"Topic4\", \"Topic4\", \"Topic4\", \"Topic4\", \"Topic4\", \"Topic4\", \"Topic4\", \"Topic4\", \"Topic4\", \"Topic4\", \"Topic4\", \"Topic4\", \"Topic4\", \"Topic4\", \"Topic4\", \"Topic4\", \"Topic4\", \"Topic4\", \"Topic4\", \"Topic4\", \"Topic4\", \"Topic4\", \"Topic4\", \"Topic4\", \"Topic4\", \"Topic4\", \"Topic4\", \"Topic4\", \"Topic4\", \"Topic4\", \"Topic4\", \"Topic4\", \"Topic4\", \"Topic4\", \"Topic4\", \"Topic4\", \"Topic4\", \"Topic4\", \"Topic4\", \"Topic4\", \"Topic4\", \"Topic4\", \"Topic4\", \"Topic4\", \"Topic4\", \"Topic4\", \"Topic4\", \"Topic4\", \"Topic4\", \"Topic5\", \"Topic5\", \"Topic5\", \"Topic5\", \"Topic5\", \"Topic5\", \"Topic5\", \"Topic5\", \"Topic5\", \"Topic5\", \"Topic5\", \"Topic5\", \"Topic5\", \"Topic5\", \"Topic5\", \"Topic5\", \"Topic5\", \"Topic5\", \"Topic5\", \"Topic5\", \"Topic5\", \"Topic5\", \"Topic5\", \"Topic5\", \"Topic5\", \"Topic5\", \"Topic5\", \"Topic5\", \"Topic5\", \"Topic5\", \"Topic5\", \"Topic5\", \"Topic5\", \"Topic5\", \"Topic5\", \"Topic5\", \"Topic5\", \"Topic5\", \"Topic5\", \"Topic5\", \"Topic5\", \"Topic5\", \"Topic5\", \"Topic5\", \"Topic5\", \"Topic5\", \"Topic5\", \"Topic5\", \"Topic5\", \"Topic5\", \"Topic5\", \"Topic5\", \"Topic5\", \"Topic5\", \"Topic5\", \"Topic5\", \"Topic5\", \"Topic5\", \"Topic5\", \"Topic5\", \"Topic5\", \"Topic5\", \"Topic5\", \"Topic5\", \"Topic5\", \"Topic5\", \"Topic5\", \"Topic5\", \"Topic5\", \"Topic5\", \"Topic5\", \"Topic5\", \"Topic5\", \"Topic5\", \"Topic5\", \"Topic5\", \"Topic5\", \"Topic5\", \"Topic5\", \"Topic5\", \"Topic5\", \"Topic6\", \"Topic6\", \"Topic6\", \"Topic6\", \"Topic6\", \"Topic6\", \"Topic6\", \"Topic6\", \"Topic6\", \"Topic6\", \"Topic6\", \"Topic6\", \"Topic6\", \"Topic6\", \"Topic6\", \"Topic6\", \"Topic6\", \"Topic6\", \"Topic6\", \"Topic6\", \"Topic6\", \"Topic6\", \"Topic6\", \"Topic6\", \"Topic6\", \"Topic6\", \"Topic6\", \"Topic6\", \"Topic6\", \"Topic6\", \"Topic6\", \"Topic6\", \"Topic6\", \"Topic6\", \"Topic6\", \"Topic6\", \"Topic6\", \"Topic6\", \"Topic6\", \"Topic6\", \"Topic6\", \"Topic6\", \"Topic6\", \"Topic6\", \"Topic6\", \"Topic6\", \"Topic6\", \"Topic6\", \"Topic6\", \"Topic6\", \"Topic6\", \"Topic6\", \"Topic6\", \"Topic6\", \"Topic6\", \"Topic6\", \"Topic6\", \"Topic6\", \"Topic6\", \"Topic6\", \"Topic6\", \"Topic6\", \"Topic6\", \"Topic6\", \"Topic6\", \"Topic6\", \"Topic6\", \"Topic6\", \"Topic6\", \"Topic6\", \"Topic6\", \"Topic6\", \"Topic6\", \"Topic6\", \"Topic6\", \"Topic6\"], \"logprob\": [30.0, 29.0, 28.0, 27.0, 26.0, 25.0, 24.0, 23.0, 22.0, 21.0, 20.0, 19.0, 18.0, 17.0, 16.0, 15.0, 14.0, 13.0, 12.0, 11.0, 10.0, 9.0, 8.0, 7.0, 6.0, 5.0, 4.0, 3.0, 2.0, 1.0, -3.3945, -3.9855, -4.0124, -4.0251, -3.7829, -10.5629, -8.9029, -9.894, -8.0906, -9.4773, -9.1569, -9.6704, -8.2838, -9.3715, -9.8055, -8.8124, -9.9792, -8.5247, -7.8282, -9.136, -8.6237, -9.5859, -8.1502, -9.5641, -8.3275, -9.754, -9.1591, -9.1019, -8.8338, -8.6545, -3.7195, -8.3456, -3.7863, -3.8432, -7.7839, -6.8384, -6.3778, -7.0589, -7.0589, -7.0589, -4.9548, -4.0902, -5.4384, -6.4426, -5.2513, -6.6898, -6.5367, -5.0802, -3.9981, -5.1232, -5.6416, -5.0335, -5.111, -5.2084, -4.7745, -5.1445, -5.2372, -4.1692, -4.3032, -4.6338, -5.3078, -5.2898, -5.9519, -5.1616, -5.7381, -5.3238, -5.5796, -5.3696, -5.5062, -8.6062, -8.696, -9.9476, -8.7754, -8.5485, -9.1062, -9.2329, -8.6472, -8.6518, -9.1943, -8.8919, -9.2101, -8.365, -8.9356, -10.4593, -4.2455, -8.7296, -8.8725, -3.5893, -8.7448, -8.9512, -8.737, -8.4786, -8.845, -9.1314, -9.2174, -7.8587, -10.3995, -4.1572, -8.9107, -4.3596, -6.4369, -8.2919, -3.4715, -5.6834, -4.2419, -7.5962, -4.7775, -7.058, -7.2397, -6.9696, -7.6109, -4.8627, -5.8786, -5.5708, -5.9287, -6.4806, -5.714, -6.1585, -6.4236, -4.0463, -5.7781, -3.9961, -5.931, -5.7415, -6.3681, -5.7857, -5.2725, -5.1102, -6.6645, -6.1156, -5.2243, -4.621, -5.5237, -5.5237, -4.6606, -5.5241, -4.6788, -4.7249, -4.9473, -5.5269, -5.0433, -5.4459, -5.434, -5.4699, -5.5337, -5.5103, -5.5445, -9.1324, -9.3394, -8.9832, -9.0028, -7.444, -8.2826, -8.5715, -8.5012, -9.0462, -7.6393, -9.2675, -6.7762, -8.1059, -8.1065, -8.834, -9.0971, -8.1265, -9.6272, -10.2255, -8.6504, -7.2495, -10.7934, -9.1401, -8.8998, -9.1796, -9.6726, -9.3518, -7.9634, -9.0799, -7.0017, -6.0859, -6.941, -6.2941, -7.2132, -6.3594, -7.879, -8.2057, -4.5523, -4.2182, -5.1925, -4.7865, -4.7328, -4.8787, -5.8464, -4.9009, -5.7045, -3.8254, -4.9204, -4.9711, -4.9532, -4.9567, -4.9091, -5.6308, -6.2612, -3.9034, -5.3872, -5.0726, -4.1281, -5.9568, -4.5548, -4.4191, -5.5707, -4.4664, -4.7401, -4.531, -4.5754, -5.3171, -5.4367, -5.4826, -5.4826, -5.2403, -5.4829, -5.1784, -5.4121, -5.4815, -6.9998, -7.7708, -7.8177, -7.0998, -9.531, -10.1323, -7.8728, -7.1554, -7.9168, -7.2025, -7.1982, -7.0954, -7.9146, -6.8873, -6.8951, -6.9092, -8.9751, -10.0209, -6.7108, -9.5479, -8.799, -9.1581, -9.4844, -6.8554, -8.8433, -7.9644, -9.0405, -8.5749, -8.7438, -8.5627, -6.892, -8.0362, -6.9323, -6.949, -7.8145, -6.3029, -7.9364, -7.2002, -6.0102, -3.8989, -6.6986, -3.7609, -3.6564, -3.9647, -4.0296, -4.0882, -5.8348, -5.4619, -5.0239, -4.0465, -5.7035, -5.1272, -5.0441, -5.7459, -5.3442, -5.3442, -5.3445, -5.2033, -5.8252, -5.5842, -5.5749, -5.2868, -5.2176, -5.4393, -5.2803, -5.3081, -5.816, -5.3505, -4.9126, -5.0852, -5.3226, -5.3736, -5.0505, -5.2824, -5.3521, -5.41, -5.2357, -5.4085, -5.3986, -9.4365, -10.4909, -10.4909, -10.4909, -8.4397, -8.9976, -9.2359, -9.2715, -8.5029, -8.5111, -8.5159, -8.527, -9.429, -9.812, -9.6636, -9.6152, -9.6217, -8.8659, -8.9792, -7.9745, -9.3238, -9.558, -8.6272, -7.1655, -6.6049, -10.6561, -10.0333, -10.0333, -10.0333, -9.0151, -7.227, -6.9359, -8.7405, -7.3421, -7.3531, -6.8808, -6.5989, -5.1733, -4.1974, -3.5888, -6.2868, -6.6149, -3.9612, -6.3136, -7.3593, -5.8369, -5.6813, -6.1478, -4.0648, -5.0544, -6.9872, -5.4152, -6.3003, -4.1773, -5.2554, -4.2073, -5.0762, -4.1133, -6.5023, -4.0825, -5.64, -4.4938, -5.019, -4.9457, -4.7621, -5.3945, -5.1753, -5.3945, -5.3948, -4.6575, -5.0233, -5.0231, -5.129, -5.0496, -5.1497, -5.2316, -5.2779, -5.2994, -5.274, -5.324, -5.3124, -8.1914, -7.6536, -7.884, -9.2284, -9.2338, -9.0057, -8.1648, -9.2826, -8.7896, -8.2114, -7.8546, -8.9042, -9.9742, -8.8691, -7.5409, -7.7245, -8.3617, -9.6031, -8.2766, -8.2787, -9.6154, -8.3124, -8.967, -9.0048, -8.4769, -8.888, -9.4041, -9.6267, -9.4183, -9.3188, -7.3485, -7.8558, -6.6957, -6.742, -7.201, -6.5727, -3.6291, -6.9431, -7.7119, -6.4403, -3.8824, -5.6388, -3.6602, -5.4528, -4.8748, -4.8784, -4.9009, -4.9007, -4.9119, -4.0473, -4.0636, -4.9819, -5.4448, -5.555, -4.1133, -5.061, -6.4089, -4.9842, -5.9571, -5.69, -5.0779, -5.3391, -5.3391, -5.3393, -4.2123, -5.0982, -5.7967, -5.2205, -5.5816, -5.1452, -4.7436, -5.229, -5.3256, -5.1859, -5.206, -5.3838], \"loglift\": [30.0, 29.0, 28.0, 27.0, 26.0, 25.0, 24.0, 23.0, 22.0, 21.0, 20.0, 19.0, 18.0, 17.0, 16.0, 15.0, 14.0, 13.0, 12.0, 11.0, 10.0, 9.0, 8.0, 7.0, 6.0, 5.0, 4.0, 3.0, 2.0, 1.0, 1.0559, 0.9479, 0.9282, 0.9146, 0.7108, 0.6595, 0.6385, 0.5998, 0.5731, 0.5638, 0.5598, 0.5574, 0.5556, 0.5546, 0.5434, 0.5239, 0.5211, 0.5185, 0.5173, 0.5146, 0.5099, 0.4977, 0.4971, 0.4964, 0.4874, 0.4864, 0.4844, 0.4817, 0.4799, 0.4791, 0.4177, 0.4713, 0.3545, 0.2991, 0.4378, 0.3958, 0.3737, 0.3733, 0.3733, 0.3733, 0.2108, 0.063, 0.1837, 0.2702, 0.1455, 0.2878, 0.258, 0.0752, -0.0971, 0.0318, 0.0884, -0.0313, -0.0458, -0.0495, -0.142, -0.0979, -0.0793, -0.3438, -0.318, -0.2643, -0.112, -0.1277, 0.0671, -0.2604, -0.0269, -0.2557, -0.132, -0.3037, -0.2693, 1.16, 1.0719, 0.9985, 0.9941, 0.9739, 0.9301, 0.9056, 0.8751, 0.8725, 0.8619, 0.8546, 0.8475, 0.8463, 0.8349, 0.8349, 0.8204, 0.7881, 0.7818, 0.7802, 0.7801, 0.7727, 0.765, 0.761, 0.7604, 0.7568, 0.7567, 0.7505, 0.748, 0.7441, 0.7404, 0.7085, 0.6641, 0.7173, 0.4296, 0.5287, 0.3906, 0.6436, 0.3539, 0.586, 0.5881, 0.5456, 0.6227, 0.1839, 0.3301, 0.266, 0.3258, 0.419, 0.2738, 0.3532, 0.4002, -0.0612, 0.2471, -0.1707, 0.2424, 0.1825, 0.3411, 0.1753, -0.0356, -0.108, 0.4015, 0.1936, -0.1591, -0.4788, -0.0762, -0.0762, -0.5075, -0.0762, -0.5416, -0.5842, -0.4536, -0.1301, -0.5929, -0.2501, -0.2791, -0.3044, -0.3783, -0.5706, -0.6039, 0.8689, 0.8674, 0.8503, 0.8302, 0.8294, 0.8263, 0.8046, 0.8012, 0.7977, 0.7861, 0.7856, 0.7763, 0.7492, 0.7481, 0.7328, 0.7323, 0.7277, 0.7271, 0.7189, 0.7181, 0.7115, 0.7005, 0.6955, 0.6929, 0.6878, 0.6797, 0.6776, 0.6716, 0.6713, 0.6706, 0.6336, 0.6488, 0.6044, 0.6311, 0.5896, 0.6379, 0.6511, 0.4499, 0.4142, 0.4357, 0.3713, 0.3138, 0.2802, 0.3965, 0.2612, 0.3424, 0.0756, 0.2345, 0.2247, 0.2022, 0.1747, 0.1562, 0.2855, 0.3937, -0.078, 0.1771, 0.0929, -0.1429, 0.2978, -0.1852, -0.2769, 0.1404, -0.3292, -0.2464, -0.3903, -0.4223, -0.0801, -0.0399, -0.0351, -0.0351, -0.339, -0.035, -0.728, -0.3462, -0.5409, 1.1367, 1.1287, 1.0768, 1.0506, 1.0427, 1.0356, 1.0216, 0.9773, 0.9755, 0.9351, 0.9349, 0.9302, 0.9249, 0.9012, 0.893, 0.8783, 0.8721, 0.8046, 0.7872, 0.7826, 0.7746, 0.7412, 0.7379, 0.7378, 0.7356, 0.7355, 0.7336, 0.7301, 0.7285, 0.7146, 0.6965, 0.7036, 0.6588, 0.6416, 0.6831, 0.6021, 0.6823, 0.6338, 0.5264, 0.2418, 0.5522, 0.2243, 0.169, 0.1884, 0.1077, 0.0541, 0.3387, 0.2493, 0.1416, -0.1454, 0.2843, 0.0686, 0.0211, 0.2576, 0.1034, 0.1034, 0.1033, 0.0336, 0.2281, 0.1008, 0.0533, -0.1247, -0.171, -0.0425, -0.1489, -0.1502, 0.1451, -0.1956, -0.5431, -0.4527, -0.2545, -0.2146, -0.6001, -0.3811, -0.3499, -0.2545, -0.742, -0.3426, -0.4652, 0.9261, 0.883, 0.883, 0.883, 0.8743, 0.8496, 0.8247, 0.8127, 0.8072, 0.8012, 0.7967, 0.7851, 0.7714, 0.7712, 0.7652, 0.7634, 0.7603, 0.7552, 0.7404, 0.7368, 0.6969, 0.6789, 0.6777, 0.6694, 0.6675, 0.654, 0.6378, 0.6378, 0.6378, 0.6296, 0.6115, 0.5793, 0.615, 0.5524, 0.5461, 0.5191, 0.498, 0.391, 0.2963, 0.2366, 0.4493, 0.4729, 0.192, 0.4272, 0.5352, 0.3423, 0.3192, 0.3639, 0.0775, 0.1826, 0.4657, 0.2069, 0.3528, -0.04, 0.1414, -0.0665, 0.0859, -0.1281, 0.3635, -0.1815, 0.1734, -0.1243, -0.0168, -0.0445, -0.1296, 0.0531, -0.0163, 0.0531, 0.0531, -0.2071, -0.0827, -0.0834, -0.0638, -0.1163, -0.103, -0.0762, -0.1201, -0.168, -0.2059, -0.1691, -0.2466, 1.073, 1.0387, 0.9649, 0.8704, 0.8644, 0.8309, 0.8184, 0.795, 0.7856, 0.7758, 0.7658, 0.754, 0.7466, 0.7351, 0.7293, 0.7282, 0.7275, 0.7088, 0.7043, 0.7039, 0.6963, 0.6961, 0.6941, 0.6924, 0.6846, 0.6841, 0.6796, 0.6788, 0.6642, 0.6616, 0.6492, 0.6451, 0.6166, 0.6135, 0.6267, 0.565, 0.3561, 0.5525, 0.607, 0.5083, 0.2707, 0.4146, 0.1652, 0.3607, 0.2842, 0.2771, 0.2613, 0.2542, 0.2459, 0.095, 0.0771, 0.2139, 0.2852, 0.2818, 0.0239, 0.1759, 0.4208, 0.081, 0.3018, 0.2263, 0.0535, 0.1085, 0.1085, 0.1085, -0.3112, -0.0301, 0.2068, -0.0549, 0.1033, -0.1431, -0.3741, -0.3278, -0.2789, -0.5534, -0.7123, -0.3179]}, \"token.table\": {\"Topic\": [1, 2, 3, 4, 5, 6, 1, 2, 3, 4, 5, 6, 1, 2, 3, 4, 5, 6, 1, 2, 3, 4, 5, 6, 1, 2, 3, 4, 5, 6, 1, 2, 3, 4, 5, 6, 1, 2, 3, 4, 5, 6, 1, 1, 2, 3, 4, 5, 6, 1, 2, 3, 4, 5, 6, 1, 2, 3, 4, 5, 6, 1, 2, 3, 4, 5, 6, 1, 2, 3, 4, 5, 6, 1, 2, 3, 4, 5, 6, 1, 2, 3, 4, 5, 6, 1, 2, 3, 4, 5, 6, 1, 2, 3, 4, 5, 6, 1, 2, 3, 4, 5, 6, 1, 2, 3, 4, 5, 6, 1, 2, 3, 4, 5, 6, 1, 2, 3, 4, 5, 6, 1, 2, 3, 4, 5, 6, 1, 2, 3, 4, 5, 6, 1, 2, 3, 4, 5, 6, 1, 2, 3, 4, 5, 6, 1, 2, 3, 4, 5, 6, 1, 2, 3, 4, 5, 6, 1, 2, 3, 4, 5, 6, 1, 2, 3, 4, 5, 6, 1, 2, 3, 4, 5, 6, 1, 2, 3, 4, 5, 6, 1, 2, 3, 4, 5, 6, 1, 2, 3, 4, 5, 6, 1, 2, 3, 4, 5, 6, 1, 2, 3, 4, 5, 6, 1, 2, 3, 4, 5, 6, 1, 2, 3, 4, 5, 6, 1, 2, 3, 5, 6, 1, 2, 3, 4, 5, 6, 1, 2, 3, 4, 5, 6, 1, 2, 3, 4, 5, 6, 1, 2, 3, 4, 5, 6, 1, 2, 3, 4, 5, 6, 1, 2, 3, 4, 5, 6, 1, 2, 3, 4, 5, 6, 4, 1, 2, 3, 4, 5, 6, 1, 2, 3, 4, 5, 6, 1, 2, 3, 4, 5, 6, 1, 2, 3, 4, 5, 6, 1, 2, 3, 4, 5, 6, 1, 2, 3, 4, 5, 6, 1, 2, 3, 4, 5, 6, 1, 2, 3, 4, 5, 6, 1, 2, 3, 4, 5, 6, 1, 2, 3, 4, 5, 6, 1, 2, 3, 4, 5, 6, 1, 2, 3, 4, 5, 6, 1, 2, 3, 4, 5, 6, 1, 2, 3, 4, 5, 6, 1, 2, 3, 4, 5, 6, 1, 2, 3, 4, 5, 6, 1, 2, 3, 4, 5, 6, 1, 2, 3, 4, 5, 6, 1, 2, 3, 4, 5, 6, 1, 2, 3, 4, 5, 6, 1, 2, 3, 4, 5, 6, 1, 2, 3, 4, 5, 6, 1, 2, 3, 4, 5, 6, 1, 2, 3, 4, 5, 6, 1, 2, 3, 4, 5, 6, 1, 2, 3, 4, 5, 6, 1, 2, 3, 4, 5, 6, 1, 2, 3, 4, 5, 6, 1, 2, 3, 4, 5, 6, 1, 2, 3, 4, 5, 6, 1, 2, 3, 4, 5, 6, 1, 2, 3, 4, 5, 6, 1, 2, 3, 4, 5, 6, 1, 2, 3, 4, 5, 6, 1, 2, 3, 4, 5, 6, 1, 2, 3, 4, 5, 6, 1, 2, 3, 4, 5, 6, 1, 2, 3, 4, 5, 6, 1, 2, 3, 4, 5, 6, 1, 2, 3, 4, 5, 6, 1, 2, 3, 4, 5, 6, 1, 2, 3, 4, 5, 6, 1, 2, 3, 4, 5, 6, 1, 2, 3, 4, 5, 6, 1, 2, 3, 4, 5, 6, 1, 2, 3, 4, 5, 6, 1, 2, 3, 4, 5, 6, 1, 2, 3, 4, 5, 6, 1, 2, 3, 4, 5, 6, 1, 2, 3, 4, 5, 6, 1, 2, 3, 4, 5, 6, 1, 2, 3, 4, 5, 6, 1, 2, 3, 4, 5, 6, 1, 2, 3, 4, 5, 6, 1, 2, 3, 4, 5, 6, 1, 2, 3, 4, 5, 6, 1, 2, 3, 4, 5, 6, 1, 2, 3, 4, 5, 6, 1, 2, 3, 4, 5, 6, 1, 2, 3, 4, 5, 6, 1, 2, 3, 4, 5, 6, 1, 2, 3, 4, 5, 6, 1, 2, 3, 4, 5, 6, 1, 2, 3, 4, 5, 6, 1, 2, 3, 4, 5, 6, 1, 2, 3, 4, 5, 6, 1, 2, 3, 4, 5, 6, 1, 2, 3, 4, 5, 6, 5, 1, 2, 3, 4, 5, 6, 1, 2, 3, 4, 5, 6, 1, 2, 3, 4, 5, 6, 1, 2, 3, 4, 5, 6, 1, 2, 3, 4, 5, 6, 1, 2, 3, 4, 5, 6, 1, 2, 3, 4, 5, 6, 1, 2, 3, 4, 5, 6, 1, 2, 3, 4, 5, 6, 5, 1, 2, 3, 4, 5, 6, 1, 2, 3, 4, 5, 6, 1, 2, 3, 4, 5, 6, 1, 2, 3, 4, 5, 6, 1, 2, 3, 4, 5, 6, 1, 2, 3, 4, 5, 6, 1, 2, 3, 4, 5, 6, 1, 2, 3, 4, 5, 6, 1, 2, 3, 4, 5, 6, 1, 2, 3, 4, 5, 6, 1, 2, 3, 4, 5, 6, 1, 2, 3, 4, 5, 6, 1, 2, 3, 4, 5, 6, 1, 2, 3, 4, 5, 6, 1, 2, 3, 4, 5, 6, 1, 2, 3, 4, 5, 6, 1, 2, 3, 4, 5, 6, 1, 2, 3, 4, 5, 6, 1, 2, 3, 4, 5, 6, 1, 2, 3, 4, 5, 6, 2, 1, 2, 3, 4, 5, 6, 1, 2, 3, 4, 5, 6, 1, 2, 3, 4, 5, 6, 1, 2, 3, 4, 5, 6, 1, 2, 3, 4, 5, 6, 1, 2, 3, 4, 5, 6, 1, 2, 3, 4, 5, 6, 1, 2, 3, 4, 5, 6, 1, 2, 3, 4, 5, 6, 1, 2, 3, 4, 5, 6, 1, 2, 3, 4, 5, 6, 1, 2, 3, 4, 5, 6, 1, 2, 3, 4, 5, 6, 1, 2, 3, 4, 5, 6, 5, 1, 2, 3, 4, 5, 6, 1, 2, 3, 4, 5, 6, 2, 1, 2, 3, 4, 5, 6, 1, 2, 3, 4, 5, 6, 1, 2, 3, 4, 5, 6, 1, 2, 3, 4, 5, 6, 1, 2, 3, 4, 5, 6, 1, 2, 3, 4, 5, 6, 1, 2, 3, 4, 5, 6, 1, 2, 3, 4, 5, 6, 1, 2, 3, 4, 5, 6, 1, 2, 3, 4, 5, 6, 1, 2, 3, 4, 5, 6, 1, 2, 3, 4, 5, 6, 1, 2, 3, 4, 5, 6, 1, 2, 3, 4, 5, 6, 2, 3, 1, 2, 3, 4, 5, 6, 1, 2, 3, 4, 5, 6, 1, 2, 3, 4, 5, 6, 1, 2, 3, 4, 5, 6, 1, 2, 3, 4, 5, 6, 1, 2, 3, 4, 5, 6, 1, 2, 3, 4, 5, 6, 1, 2, 3, 4, 5, 6, 1, 2, 3, 4, 5, 6, 1, 2, 3, 4, 5, 6, 1, 2, 3, 4, 5, 6, 1, 2, 3, 4, 5, 6, 1, 2, 3, 4, 5, 6, 1, 2, 3, 4, 5, 6, 1, 2, 3, 4, 5, 6, 1, 2, 3, 4, 5, 6, 1, 2, 3, 4, 5, 6, 1, 2, 3, 4, 5, 6, 1, 2, 3, 4, 5, 6, 1, 2, 3, 4, 5, 6, 1, 2, 3, 4, 5, 6, 1, 2, 3, 4, 5, 6, 1, 2, 3, 4, 5, 6, 1, 2, 3, 4, 5, 6, 1, 2, 3, 4, 5, 6, 1, 2, 3, 4, 5, 6, 1, 2, 3, 4, 5, 6, 1, 2, 3, 4, 5, 6, 1, 2, 3, 4, 5, 6, 1, 2, 3, 4, 5, 6, 1, 2, 3, 4, 5, 6, 1, 2, 3, 4, 5, 6, 1, 2, 3, 4, 5, 6, 1, 2, 3, 4, 5, 6, 1, 2, 3, 4, 5, 6, 1, 2, 3, 4, 5, 6, 3, 1, 2, 3, 4, 5, 6, 1, 2, 3, 4, 5, 6, 1, 2, 3, 4, 5, 6, 1, 2, 3, 4, 5, 6, 1, 2, 3, 4, 5, 6, 1, 2, 3, 4, 5, 6, 1, 2, 3, 4, 5, 6, 1, 2, 3, 4, 5, 6, 1, 2, 3, 4, 5, 6, 1, 2, 3, 4, 5, 6, 5, 1, 2, 3, 4, 5, 6, 1, 2, 3, 4, 5, 6, 1, 2, 3, 4, 5, 6, 1, 2, 3, 4, 5, 6, 1, 2, 3, 4, 5, 6, 1, 2, 3, 4, 5, 6, 1, 2, 3, 4, 5, 6, 1, 2, 3, 4, 5, 6, 1, 2, 3, 4, 5, 6, 1, 2, 3, 4, 5, 6, 1, 2, 3, 4, 5, 6, 1, 2, 3, 4, 5, 6, 1, 2, 3, 4, 5, 6, 1, 2, 3, 4, 5, 6, 1, 2, 3, 1, 2, 3, 4, 5, 6, 1, 2, 3, 4, 5, 6, 1, 2, 3, 4, 5, 6, 1, 2, 3, 4, 5, 6, 1, 2, 3, 4, 5, 6, 1, 2, 3, 4, 5, 6, 1, 2, 3, 4, 5, 6, 1, 2, 3, 4, 5, 6, 1, 2, 3, 4, 5, 6, 1, 2, 3, 4, 5, 6, 1, 2, 3, 4, 5, 6, 1, 2, 3, 4, 5, 6, 1, 2, 3, 4, 5, 6, 1, 2, 3, 4, 5, 6, 1, 2, 3, 4, 5, 6, 1, 2, 3, 4, 5, 6, 1, 2, 3, 4, 5, 6, 1, 2, 3, 4, 5, 6, 1, 2, 3, 4, 5, 6, 1, 2, 3, 4, 5, 6, 1, 2, 3, 4, 5, 6, 1, 2, 3, 4, 5, 6, 1, 2, 3, 4, 5, 6, 1, 2, 3, 4, 5, 6, 1, 2, 3, 4, 5, 6, 1, 2, 3, 4, 5, 6, 1, 2, 3, 4, 5, 6, 1, 2, 3, 4, 5, 6, 1, 2, 3, 4, 5, 6, 1, 2, 3, 4, 5, 6, 1, 2, 3, 4, 5, 6, 1, 2, 3, 4, 5, 6, 1, 2, 3, 4, 5, 6, 1, 2, 3, 4, 5, 6, 1, 2, 3, 4, 5, 6, 1, 2, 3, 4, 5, 6, 1, 2, 3, 4, 5, 6, 1, 2, 3, 4, 5, 6, 1, 2, 3, 4, 5, 6, 1, 2, 3, 4, 5, 6, 1, 2, 3, 4, 5, 6, 1, 2, 3, 4, 5, 6, 1, 2, 3, 4, 5, 6, 1, 2, 3, 4, 5, 6, 1, 2, 3, 4, 5, 6, 1, 2, 3, 4, 5, 6, 1, 2, 3, 4, 5, 6, 1, 2, 3, 4, 5, 6, 1, 2, 3, 4, 5, 6, 1, 2, 3, 4, 5, 6, 1, 2, 3, 4, 5, 6, 1, 2, 3, 4, 5, 6, 1, 2, 3, 4, 5, 6], \"Freq\": [0.35197363624633987, 0.14078945449853594, 0.14078945449853594, 0.14078945449853594, 0.14078945449853594, 0.14078945449853594, 0.19347183432243692, 0.18209113818582298, 0.17071044204920904, 0.09104556909291149, 0.26175601114212055, 0.11380696136613937, 0.1479349817151676, 0.5177724360030866, 0.0739674908575838, 0.0739674908575838, 0.0739674908575838, 0.0739674908575838, 0.15241367051808274, 0.11987592063219991, 0.15926372312563702, 0.17467634149263417, 0.2123516308341827, 0.183238907252077, 0.14320173847475648, 0.19093565129967532, 0.3102704333619724, 0.11933478206229707, 0.11933478206229707, 0.11933478206229707, 0.1471656516923596, 0.1471656516923596, 0.1471656516923596, 0.09811043446157307, 0.2943313033847192, 0.1471656516923596, 0.39739858396979405, 0.132466194656598, 0.132466194656598, 0.132466194656598, 0.132466194656598, 0.132466194656598, 0.31729340468075823, 0.13425252270706517, 0.14645729749861652, 0.17493510534556975, 0.15052555576246698, 0.2196859462479248, 0.1708668470817193, 0.16040457244439985, 0.08020228622219992, 0.16040457244439985, 0.4010114311109996, 0.08020228622219992, 0.08020228622219992, 0.22552914133702961, 0.15035276089135308, 0.07517638044567654, 0.07517638044567654, 0.15035276089135308, 0.30070552178270615, 0.07911790740375882, 0.07911790740375882, 0.3955895370187941, 0.07911790740375882, 0.15823581480751764, 0.15823581480751764, 0.2451963844146237, 0.12779932763428872, 0.17981068190405738, 0.18055370125076836, 0.12111215351388989, 0.14488877260864128, 0.1491014574902856, 0.0745507287451428, 0.0745507287451428, 0.2982029149805712, 0.1491014574902856, 0.1491014574902856, 0.16317073259412168, 0.12023106612198439, 0.16317073259412168, 0.20267522574848798, 0.16317073259412168, 0.18893453247740405, 0.17486674185622608, 0.16112721213895118, 0.15862911582671937, 0.17361769370011018, 0.16237626029506708, 0.16987054923176248, 0.21192665852249212, 0.10447849280026045, 0.10744816572223168, 0.18897918594362356, 0.18654945355291983, 0.20058790736587473, 0.16898927787296464, 0.16898927787296464, 0.08449463893648232, 0.3379785557459293, 0.08449463893648232, 0.16898927787296464, 0.1633372612739783, 0.12072754094163614, 0.1533949931964318, 0.15907628924074407, 0.1832217974290713, 0.2201502217171012, 0.09701058533311609, 0.14551587799967414, 0.355705479554759, 0.1374316625552478, 0.15360009344410047, 0.10509480077754244, 0.09854751480987567, 0.09854751480987567, 0.3941900592395027, 0.19709502961975134, 0.09854751480987567, 0.19709502961975134, 0.1387859527244236, 0.34696488181105894, 0.1387859527244236, 0.17348244090552947, 0.10408946454331769, 0.10408946454331769, 0.1176354745377543, 0.12603800843330817, 0.16805067791107758, 0.30249122023993963, 0.17645321180663145, 0.10923294064220042, 0.29029852414666807, 0.14514926207333403, 0.12337687276233393, 0.13426306741783398, 0.17055038293616748, 0.13789179896966733, 0.3143448527859805, 0.11787931979474268, 0.15717242639299026, 0.15717242639299026, 0.11787931979474268, 0.11787931979474268, 0.12795455946085513, 0.12795455946085513, 0.19193183919128268, 0.12795455946085513, 0.3198863986521378, 0.12795455946085513, 0.11836557307911426, 0.10760506643555842, 0.19368911958400514, 0.16140759965333762, 0.2797731727324519, 0.13988658636622595, 0.15988368030776437, 0.07994184015388218, 0.3997092007694109, 0.07994184015388218, 0.15988368030776437, 0.15988368030776437, 0.21478000777556133, 0.11915877143712648, 0.20080459631071315, 0.12136541535262883, 0.14269630653581813, 0.20227569225438138, 0.17844008655543314, 0.08922004327771657, 0.3568801731108663, 0.08922004327771657, 0.20818010098133866, 0.08922004327771657, 0.3368717718389381, 0.09624907766826803, 0.19249815533653605, 0.14437361650240205, 0.09624907766826803, 0.14437361650240205, 0.1782845262788612, 0.11885635085257415, 0.3268549648445789, 0.0891422631394306, 0.20799861399200475, 0.0891422631394306, 0.14093077694783768, 0.14093077694783768, 0.09395385129855845, 0.14093077694783768, 0.32883847954495454, 0.09395385129855845, 0.13069200538653733, 0.24702225193938923, 0.19531992013812172, 0.13500053303664294, 0.12997391744485304, 0.16156978687896098, 0.1406210107025845, 0.1406210107025845, 0.1406210107025845, 0.1406210107025845, 0.3281156916393639, 0.09374734046838967, 0.1913633611756262, 0.12637203096503616, 0.1245667162369642, 0.196779305359842, 0.12998266042118004, 0.23108028519320897, 0.16893311881543152, 0.13514649505234522, 0.13514649505234522, 0.10135987128925891, 0.13514649505234522, 0.30407961386777677, 0.19214631772713603, 0.19214631772713603, 0.19214631772713603, 0.19214631772713603, 0.38429263545427206, 0.12201597983907497, 0.12201597983907497, 0.12201597983907497, 0.3660479395172249, 0.18302396975861246, 0.12201597983907497, 0.33826198206997765, 0.14496942088713327, 0.12080785073927773, 0.14496942088713327, 0.14496942088713327, 0.12080785073927773, 0.4961788514734009, 0.0984058415108537, 0.09484900386588309, 0.09603461641420662, 0.14168069952466286, 0.07291517172189763, 0.17475507676768687, 0.10737070394624829, 0.21251994505222938, 0.13847118370998918, 0.16809068824688525, 0.19845068039720373, 0.20332017887023465, 0.10166008943511733, 0.10166008943511733, 0.10166008943511733, 0.30498026830535196, 0.10166008943511733, 0.14905111192311735, 0.30874873184074303, 0.14905111192311735, 0.1596976199176257, 0.09581857195057543, 0.13840460392860895, 0.15639412384738782, 0.20742799583969332, 0.18273418681115838, 0.18108793287592273, 0.13663907662455987, 0.13663907662455987, 0.30048219883686617, 0.14841616352790832, 0.44524849058372495, 0.07420808176395416, 0.07420808176395416, 0.14841616352790832, 0.07420808176395416, 0.14033666241983772, 0.2282584268274469, 0.11159300867119627, 0.20796878888722942, 0.1504814813899465, 0.16231710352174003, 0.15268844496188597, 0.22190720667794092, 0.1282582937679842, 0.2198713607451158, 0.12622244783515907, 0.1506525990290608, 0.31432885599115035, 0.07858221399778759, 0.15716442799557517, 0.19645553499446897, 0.15716442799557517, 0.07858221399778759, 0.34716428880755773, 0.17358214440377887, 0.08679107220188943, 0.17358214440377887, 0.08679107220188943, 0.08679107220188943, 0.3520739055697439, 0.11735796852324797, 0.11735796852324797, 0.11735796852324797, 0.11735796852324797, 0.11735796852324797, 0.1908147653410815, 0.09540738267054075, 0.1908147653410815, 0.09540738267054075, 0.28622214801162227, 0.09540738267054075, 0.14862584333750917, 0.11890067467000734, 0.356702024010022, 0.0891755060025055, 0.20807618067251282, 0.0891755060025055, 0.15901834542375556, 0.07950917271187778, 0.15901834542375556, 0.3180366908475111, 0.15901834542375556, 0.13251528785312963, 0.11417732790915347, 0.11417732790915347, 0.11417732790915347, 0.11417732790915347, 0.3425319837274604, 0.11417732790915347, 0.16901793844099455, 0.13521435075279564, 0.16901793844099455, 0.10141076306459673, 0.10141076306459673, 0.3380358768819891, 0.29402345022803184, 0.12348984909577337, 0.14701172511401592, 0.12348984909577337, 0.14701172511401592, 0.1587726631231372, 0.261847919576378, 0.15361744615147507, 0.13965222377406825, 0.18154789090628873, 0.1082304734249029, 0.15710875174582678, 0.09624511838994883, 0.19249023677989766, 0.28873535516984644, 0.09624511838994883, 0.09624511838994883, 0.09624511838994883, 0.3292955279827473, 0.18816887313299846, 0.14112665484974884, 0.09408443656649923, 0.09408443656649923, 0.14112665484974884, 0.18281677881460937, 0.18281677881460937, 0.18281677881460937, 0.18281677881460937, 0.36563355762921873, 0.18281677881460937, 0.13318592505004037, 0.13318592505004037, 0.19977888757506054, 0.13318592505004037, 0.06659296252502019, 0.3329648126251009, 0.1730838342435775, 0.4038622799016809, 0.11538922282905167, 0.1730838342435775, 0.05769461141452584, 0.11538922282905167, 0.11252375214158995, 0.33757125642476987, 0.14467339561061565, 0.12859857387610282, 0.17682303907964136, 0.11252375214158995, 0.07908235567914458, 0.07908235567914458, 0.3954117783957229, 0.15816471135828916, 0.15816471135828916, 0.15816471135828916, 0.18281677881460937, 0.18281677881460937, 0.18281677881460937, 0.18281677881460937, 0.36563355762921873, 0.18281677881460937, 0.12282920324153561, 0.11259343630474097, 0.0921219024311517, 0.38895914359819606, 0.14330073711512487, 0.14330073711512487, 0.14088654268392903, 0.14088654268392903, 0.18784872357857205, 0.30525417581517955, 0.09392436178928602, 0.11740545223660753, 0.11757551343167488, 0.15956676822870164, 0.14277026630989093, 0.29393878357918723, 0.17636327014751232, 0.10917726247226954, 0.17432091666613408, 0.40674880555431286, 0.1162139444440894, 0.17432091666613408, 0.1162139444440894, 0.0581069722220447, 0.1162869920297483, 0.3721183744951946, 0.16280178884164762, 0.1162869920297483, 0.1162869920297483, 0.1162869920297483, 0.2867259608532136, 0.15053112944793715, 0.16486742749059782, 0.12902668238394613, 0.15769927846926748, 0.11469038434128544, 0.17657739641771902, 0.10594643785063142, 0.2158168178438788, 0.1451858592767912, 0.12556614856371132, 0.23151258641434272, 0.16099300216974488, 0.1141586742658191, 0.137575838217782, 0.2634430944595825, 0.16392014766374025, 0.15513871118175418, 0.18655818120153597, 0.09327909060076799, 0.13991863590115197, 0.32647681710268794, 0.13991863590115197, 0.13991863590115197, 0.1502194833885867, 0.1502194833885867, 0.35051212790670233, 0.1502194833885867, 0.1001463222590578, 0.1001463222590578, 0.07252776551945932, 0.4351665931167559, 0.14505553103891863, 0.14505553103891863, 0.07252776551945932, 0.14505553103891863, 0.1222130311376985, 0.18331954670654774, 0.1222130311376985, 0.1222130311376985, 0.1222130311376985, 0.30553257784424626, 0.07349617880727233, 0.07349617880727233, 0.10289465033018125, 0.4409770728436339, 0.13229312185309017, 0.14699235761454466, 0.11788316618706059, 0.13472361849949782, 0.1263033923432792, 0.3283888200925259, 0.20208542774924673, 0.09262248771840476, 0.15484456086501622, 0.09611041708863076, 0.2402760427215769, 0.14416562563294613, 0.09611041708863076, 0.2669733808017521, 0.14409695668826988, 0.186271675718983, 0.30928127289189633, 0.15815519636517425, 0.10895135749600893, 0.09137855789987845, 0.11712622318937954, 0.1756893347840693, 0.11712622318937954, 0.3806602253654835, 0.11712622318937954, 0.08784466739203466, 0.1787391013079906, 0.11915940087199371, 0.3276883523979827, 0.0893695506539953, 0.208528951525989, 0.0893695506539953, 0.09356421151050606, 0.18712842302101212, 0.37425684604202425, 0.09356421151050606, 0.09356421151050606, 0.09356421151050606, 0.13287841224987873, 0.31004962858305035, 0.12401985143322014, 0.20374689878314736, 0.07972704734992724, 0.1417369730665373, 0.174882150029013, 0.2098585800348156, 0.20519505603404192, 0.08627519401431308, 0.13990572002321042, 0.18187743603017353, 0.09327888790467763, 0.09327888790467763, 0.12437185053957017, 0.4974874021582807, 0.12437185053957017, 0.09327888790467763, 0.14819108681475887, 0.518668803851656, 0.14819108681475887, 0.07409554340737944, 0.07409554340737944, 0.07409554340737944, 0.2681231330382973, 0.10762313009405758, 0.12418053472391259, 0.1650399364717806, 0.1663752110387044, 0.16824459543239773, 0.17421806460799613, 0.4065088174186577, 0.11614537640533076, 0.17421806460799613, 0.11614537640533076, 0.11614537640533076, 0.11671503363344501, 0.11671503363344501, 0.11671503363344501, 0.35014510090033507, 0.11671503363344501, 0.11671503363344501, 0.12739623627145316, 0.4246541209048439, 0.12739623627145316, 0.12739623627145316, 0.12739623627145316, 0.08493082418096878, 0.19383490150183344, 0.25844653533577794, 0.17892452446323087, 0.11928301630882059, 0.11928301630882059, 0.12922326766788897, 0.3082401160985249, 0.15412005804926246, 0.15412005804926246, 0.15412005804926246, 0.15412005804926246, 0.15412005804926246, 0.12347387669422603, 0.12347387669422603, 0.15434234586778253, 0.4012900992562346, 0.09260540752066952, 0.09260540752066952, 0.1322708165947638, 0.39681244978429137, 0.1322708165947638, 0.1322708165947638, 0.0661354082973819, 0.0661354082973819, 0.09928836606572874, 0.1985767321314575, 0.09928836606572874, 0.1985767321314575, 0.397153464262915, 0.09928836606572874, 0.18044960404036892, 0.26689755388296427, 0.1766727518627798, 0.1353372030302767, 0.12841297403802998, 0.11225643972278763, 0.17336086694220423, 0.17336086694220423, 0.10401652016532253, 0.13868869355376337, 0.10401652016532253, 0.3120495604959676, 0.15011960422869236, 0.09650545986130224, 0.19301091972260448, 0.15011960422869236, 0.3002392084573847, 0.11795111760825829, 0.17813205946443839, 0.17608456452806553, 0.1637995949098284, 0.17403706959169268, 0.21703446325552264, 0.09008977720040563, 0.13418876210237732, 0.24839196389163462, 0.12562352196818302, 0.14560908228130306, 0.22269624348905173, 0.12562352196818302, 0.07785092033682882, 0.10380122711577175, 0.1297515338947147, 0.4022297550736155, 0.11677638050524322, 0.18165214745260055, 0.1273313553083128, 0.1273313553083128, 0.1273313553083128, 0.33106152380161324, 0.17826389743163792, 0.07639881318498767, 0.12856024181040046, 0.12856024181040046, 0.16070030226300058, 0.29997389755760107, 0.11784688832620042, 0.17141365574720063, 0.19361485743019363, 0.15514832946393, 0.18848598703469183, 0.20130816302344637, 0.11283514870104, 0.15001945906842817, 0.25766055432392515, 0.1364085287597251, 0.15535415775413136, 0.18945628994406263, 0.09093901917315006, 0.17051066094965636, 0.3081332204694151, 0.18487993228164906, 0.12325328818776604, 0.12325328818776604, 0.12325328818776604, 0.12325328818776604, 0.12763424211073712, 0.12763424211073712, 0.12763424211073712, 0.12763424211073712, 0.12763424211073712, 0.25526848422147425, 0.17167455913628527, 0.15259960812114245, 0.13988297411104725, 0.08901643807066643, 0.16531624213123766, 0.28612426522714207, 0.07928129539922281, 0.07928129539922281, 0.31712518159689124, 0.07928129539922281, 0.15856259079844562, 0.15856259079844562, 0.3048003426108904, 0.20320022840726026, 0.10160011420363013, 0.10160011420363013, 0.10160011420363013, 0.20320022840726026, 0.34637961992570104, 0.20876352102450735, 0.17396960085375612, 0.12177872059762929, 0.10438176051225367, 0.12177872059762929, 0.2783513613660098, 0.13645730421091115, 0.13645730421091115, 0.13645730421091115, 0.13645730421091115, 0.2729146084218223, 0.13645730421091115, 0.1135939426403683, 0.3975787992412891, 0.17039091396055245, 0.17039091396055245, 0.1135939426403683, 0.1135939426403683, 0.21281992535458116, 0.12559864447155608, 0.1395540494128401, 0.17269813614838964, 0.16920928491306864, 0.18142026423669214, 0.23928523448077754, 0.14310195395419048, 0.14779382129695084, 0.13137228559728964, 0.18884766054610386, 0.14896678813264091, 0.1410328968494225, 0.14647968458981397, 0.15153741606303464, 0.18538531130689603, 0.19511171798616656, 0.1805221079672608, 0.3062334014730615, 0.15311670073653075, 0.15311670073653075, 0.15311670073653075, 0.15311670073653075, 0.15311670073653075, 0.13426386307044952, 0.1510468459542557, 0.3104851833504145, 0.10069789730283712, 0.12587237162854642, 0.17622132027996498, 0.2536800619061758, 0.1268400309530879, 0.1268400309530879, 0.1268400309530879, 0.1268400309530879, 0.2536800619061758, 0.36921955971878845, 0.0958428638097623, 0.3194762126992077, 0.15973810634960384, 0.11181667444472268, 0.11181667444472268, 0.1916857276195246, 0.1889482557549814, 0.3778965115099628, 0.12596550383665425, 0.12596550383665425, 0.06298275191832713, 0.12596550383665425, 0.13005018346064637, 0.13005018346064637, 0.13005018346064637, 0.39015055038193913, 0.13005018346064637, 0.13005018346064637, 0.18010520573121083, 0.20847342494894736, 0.22430684962861425, 0.13194520566389073, 0.1392021919754047, 0.11611178098422384, 0.1991934445682581, 0.13279562971217207, 0.06639781485608603, 0.13279562971217207, 0.13279562971217207, 0.3319890742804302, 0.09690739338271602, 0.4845369669135801, 0.09690739338271602, 0.19381478676543204, 0.09690739338271602, 0.09690739338271602, 0.16114777137342765, 0.16114777137342765, 0.19074634162568987, 0.12168301103707801, 0.22034491187795208, 0.14470412123328197, 0.19828721039891695, 0.24351060926182783, 0.13567019658873264, 0.12175530463091391, 0.1913297644200076, 0.10784041267309519, 0.09899510429765096, 0.39598041719060384, 0.09899510429765096, 0.19799020859530192, 0.09899510429765096, 0.09899510429765096, 0.14112110523152407, 0.14112110523152407, 0.11760092102627007, 0.09408073682101606, 0.1646412894367781, 0.3292825788735562, 0.17266241568005802, 0.25681354251402566, 0.24809321848978033, 0.09941169387639703, 0.135165022375803, 0.08807527264487808, 0.18895745937750616, 0.11293160658108767, 0.21700583225385475, 0.12621767794356858, 0.1513135905171436, 0.20371976089137384, 0.2042660221154233, 0.21414986189520185, 0.2438013812345375, 0.13837375691689965, 0.07907071823822838, 0.12190069061726876, 0.21690928686077698, 0.1528818467633187, 0.1816288606846265, 0.0940811364697346, 0.15026848186138164, 0.2038424623510916, 0.13576864399561414, 0.13576864399561414, 0.16971080499451766, 0.1018264829967106, 0.13576864399561414, 0.3394216099890353, 0.17904821221001585, 0.22293257794776483, 0.11761010017716726, 0.17904821221001585, 0.13165309721324694, 0.172026713691976, 0.18329475529292133, 0.1451083479402294, 0.10692194058753744, 0.10692194058753744, 0.18329475529292133, 0.26730485146884364, 0.12879443724068865, 0.10303554979255093, 0.12879443724068865, 0.10303554979255093, 0.3091066493776528, 0.20607109958510186, 0.12437261658785252, 0.18655892488177878, 0.3109315414696313, 0.18655892488177878, 0.12437261658785252, 0.12437261658785252, 0.08697891528815904, 0.0724824294067992, 0.10147540116951888, 0.49288051996623455, 0.08697891528815904, 0.17395783057631808, 0.29440953262411096, 0.12278812448179123, 0.13302046818860716, 0.09209109336134343, 0.3785967171521896, 0.1739498430158709, 0.10232343706815936, 0.21180381654334807, 0.14120254436223206, 0.14120254436223206, 0.14120254436223206, 0.35300636090558013, 0.14120254436223206, 0.29784499807083614, 0.19856333204722412, 0.09928166602361206, 0.19856333204722412, 0.09928166602361206, 0.09928166602361206, 0.35447623725633476, 0.11815874575211158, 0.11815874575211158, 0.11815874575211158, 0.11815874575211158, 0.11815874575211158, 0.1536783865021361, 0.35251664973954905, 0.09840808960224505, 0.12132504197537061, 0.1253692100412163, 0.14828616241434187, 0.1977736722127856, 0.3955473444255712, 0.06592455740426187, 0.13184911480852374, 0.06592455740426187, 0.13184911480852374, 0.5031782892539426, 0.09493929985923445, 0.09553267048335466, 0.0931591879868738, 0.14181557916473145, 0.07120447489442584, 0.14661330051879964, 0.39410731240374586, 0.11567654903318138, 0.11096878250276121, 0.12038431556360156, 0.11164132057853551, 0.14561516128697874, 0.14561516128697874, 0.1040108294906991, 0.3120324884720973, 0.1040108294906991, 0.16641732718511856, 0.13230176708658217, 0.22680302929128374, 0.1701022719684628, 0.14393269166562236, 0.12357857365230203, 0.20354118013320335, 0.1149122279948539, 0.1149122279948539, 0.3447366839845617, 0.1149122279948539, 0.1149122279948539, 0.1149122279948539, 0.15991085827002546, 0.26511537028977905, 0.13886995586607476, 0.15991085827002546, 0.12624541442370432, 0.15570267778923533, 0.08665063258600074, 0.08665063258600074, 0.1299759488790011, 0.41881139083233687, 0.08665063258600074, 0.18774303726966826, 0.14247910205780395, 0.12571685475688585, 0.14247910205780395, 0.3101015750669851, 0.16762247300918112, 0.10895460745596773, 0.36921955971878845, 0.15275908863529186, 0.15712363402487164, 0.244414541816467, 0.18549317905714013, 0.13093636168739303, 0.13093636168739303, 0.2867259608532136, 0.15053112944793715, 0.16486742749059782, 0.12902668238394613, 0.15769927846926748, 0.11469038434128544, 0.3409035116928257, 0.16007408686519273, 0.1715079502127065, 0.19437567690773405, 0.09147090678011013, 0.26297885699281665, 0.11433863347513767, 0.14348140013026028, 0.14348140013026028, 0.14348140013026028, 0.14348140013026028, 0.28696280026052057, 0.14348140013026028, 0.14573199418957003, 0.14573199418957003, 0.29146398837914006, 0.21859799128435503, 0.07286599709478501, 0.07286599709478501, 0.28344706821697013, 0.09679330739676403, 0.11092566357315106, 0.19918622761813426, 0.14399004406130186, 0.16532190244075398, 0.13434718183957509, 0.13434718183957509, 0.13434718183957509, 0.08956478789305006, 0.08956478789305006, 0.44782393946525023, 0.2071198754966356, 0.13807991699775707, 0.13807991699775707, 0.13807991699775707, 0.13807991699775707, 0.27615983399551414, 0.15285294325587157, 0.3787803199103835, 0.13609275210939442, 0.09084023601390613, 0.13609275210939442, 0.10525400039987648, 0.14117267690366328, 0.14117267690366328, 0.14117267690366328, 0.14117267690366328, 0.37646047174310204, 0.09411511793577551, 0.26387062725866456, 0.17743024936358479, 0.12283632648248177, 0.15013328792303327, 0.13193531362933228, 0.15468278149645853, 0.18793772588133184, 0.1625407358973681, 0.13206434791661156, 0.14222314391019708, 0.24889050184284486, 0.12698494991981882, 0.21335414392091995, 0.21335414392091995, 0.21335414392091995, 0.4267082878418399, 0.21335414392091995, 0.21335414392091995, 0.16368797608384708, 0.16368797608384708, 0.32737595216769416, 0.16368797608384708, 0.16368797608384708, 0.08184398804192354, 0.16355837504391602, 0.2959627738889909, 0.13240439884507488, 0.13240439884507488, 0.17134686909362631, 0.09346192859652344, 0.16744978470062916, 0.16744978470062916, 0.16744978470062916, 0.16744978470062916, 0.3348995694012583, 0.16744978470062916, 0.48135211837426467, 0.24067605918713234, 0.1258203986663105, 0.1258203986663105, 0.18873059799946576, 0.1258203986663105, 0.1258203986663105, 0.3145509966657763, 0.1331845438381807, 0.1331845438381807, 0.39955363151454215, 0.1331845438381807, 0.1331845438381807, 0.1331845438381807, 0.15962750729540032, 0.1526871808912525, 0.1526871808912525, 0.17350816010369602, 0.25679207695347006, 0.09716456965806976, 0.31570437397838735, 0.11049653089243557, 0.11049653089243557, 0.18942262438703242, 0.15785218698919368, 0.12628174959135494, 0.13291744914734982, 0.26583489829469964, 0.26583489829469964, 0.13291744914734982, 0.13291744914734982, 0.13291744914734982, 0.08080456400306293, 0.20201141000765732, 0.08080456400306293, 0.20201141000765732, 0.1212068460045944, 0.32321825601225174, 0.173507465048076, 0.29411631270344585, 0.12272479235107812, 0.1460001840038688, 0.10579723478541218, 0.15657990748241002, 0.16796071601671148, 0.10720896767024136, 0.12865076120428964, 0.1500925547383379, 0.24300699338588042, 0.20369703857345858, 0.33947322177027434, 0.14293609337695762, 0.1250690817048379, 0.1608031050490773, 0.1250690817048379, 0.1250690817048379, 0.17767244929544337, 0.1355518255400581, 0.2052423121171501, 0.16771666549871594, 0.12483021222050548, 0.18992572166064636, 0.174359851984985, 0.16056867725170934, 0.15859850943266995, 0.17337476807546529, 0.16253884507074873, 0.17041951634690622, 0.19991263580698887, 0.16915684568283673, 0.12302316049660854, 0.12302316049660854, 0.25117228601390906, 0.13327509053799258, 0.15268730706573394, 0.19251877847418628, 0.13277157136150777, 0.13941014992958317, 0.09957867852113084, 0.2854588784272417, 0.16571716500831526, 0.11600201550582069, 0.1822888815091468, 0.1325737320066522, 0.09943029900498916, 0.31486261351579903, 0.3513286048059752, 0.14638691866915635, 0.1756643024029876, 0.14638691866915635, 0.11710953493532507, 0.0878321512014938, 0.17664797427473614, 0.12617712448195437, 0.12617712448195437, 0.12617712448195437, 0.13879483693014982, 0.2902073863084951, 0.15872953402240012, 0.15872953402240012, 0.07936476701120006, 0.15872953402240012, 0.15872953402240012, 0.31745906804480023, 0.20320917069995217, 0.10160458534997609, 0.10160458534997609, 0.10160458534997609, 0.10160458534997609, 0.3048137560499283, 0.121826698132697, 0.121826698132697, 0.121826698132697, 0.1827400471990455, 0.1827400471990455, 0.3045667453317425, 0.20489260162790687, 0.13903426539036537, 0.12439907955980059, 0.14635185830564776, 0.24879815911960118, 0.13903426539036537, 0.07256017032671871, 0.11609627252274994, 0.11609627252274994, 0.391824919764281, 0.13060830658809366, 0.14512034065343743, 0.2029729565055963, 0.10148647825279815, 0.2029729565055963, 0.10148647825279815, 0.10148647825279815, 0.30445943475839443, 0.11842660769689767, 0.11842660769689767, 0.23685321539379534, 0.11842660769689767, 0.355279823090693, 0.11842660769689767, 0.11247795480193823, 0.16360429789372832, 0.08180214894686416, 0.37833493887924674, 0.1533790292753703, 0.12270322342029624, 0.1658535486097483, 0.1658535486097483, 0.1658535486097483, 0.49756064582924486, 0.1658535486097483, 0.1658535486097483, 0.14544461697723807, 0.14544461697723807, 0.13013465729542353, 0.34447409284082703, 0.12247967745451628, 0.11482469761360901, 0.174359851984985, 0.16056867725170934, 0.15859850943266995, 0.17337476807546529, 0.16253884507074873, 0.17041951634690622, 0.13429112257661782, 0.13429112257661782, 0.13429112257661782, 0.13429112257661782, 0.40287336772985344, 0.13429112257661782, 0.15344778811088228, 0.365650677245634, 0.11693976417372069, 0.106671882441394, 0.14717297149668263, 0.1100945096855029, 0.3021144087279055, 0.10097051479032902, 0.11797607517606866, 0.17430699395383117, 0.14800151773214018, 0.15677000980603717, 0.1835953415681571, 0.11133693404334025, 0.23742048186725537, 0.13493151609226003, 0.13640617747031752, 0.19612996328164573, 0.2867259608532136, 0.15053112944793715, 0.16486742749059782, 0.12902668238394613, 0.15769927846926748, 0.11469038434128544, 0.32306449995683423, 0.14358422220303743, 0.07179211110151872, 0.14358422220303743, 0.10768816665227808, 0.1794802777537968, 0.1916863309164789, 0.11501179854988734, 0.3833726618329578, 0.11501179854988734, 0.11501179854988734, 0.11501179854988734, 0.13990466318361505, 0.18653955091148675, 0.13990466318361505, 0.09326977545574337, 0.32644421409510177, 0.13990466318361505, 0.12118820653702181, 0.1817823098055327, 0.3635646196110654, 0.1817823098055327, 0.12118820653702181, 0.12118820653702181, 0.41624925228226645, 0.1527289642609876, 0.12829232997922957, 0.1832747571131851, 0.14051064712010858, 0.2993487699515357, 0.09774653712703206, 0.13608690626970252, 0.09072460417980167, 0.13608690626970252, 0.31753611462930587, 0.13608690626970252, 0.18144920835960335, 0.19246567742806217, 0.15586564696633232, 0.2568312482400698, 0.11043112639315042, 0.1514484019106063, 0.1325173516717805, 0.14348262491536556, 0.16739639573459317, 0.14946106762017247, 0.26902992171631046, 0.15543951032497935, 0.11359041139133107, 0.14857681500715117, 0.37144203751787797, 0.14857681500715117, 0.07428840750357558, 0.14857681500715117, 0.07428840750357558, 0.23898973464825346, 0.11380463554678737, 0.11380463554678737, 0.13656556265614483, 0.27313112531228967, 0.1251850991014661, 0.3142772490514338, 0.14285329502337898, 0.0857119770140274, 0.1142826360187032, 0.19999461303273058, 0.1142826360187032, 0.5716833680601028, 0.09594685897512216, 0.07922884566885087, 0.0857706769626092, 0.12502166472515916, 0.04215846833755368, 0.11025973803463572, 0.11025973803463572, 0.11025973803463572, 0.33077921410390715, 0.22051947606927144, 0.11025973803463572, 0.10109077863214157, 0.15163616794821236, 0.10109077863214157, 0.10109077863214157, 0.10109077863214157, 0.42963580918660166, 0.36921955971878845, 0.135470457987028, 0.15482338055660344, 0.3677055288219332, 0.15482338055660344, 0.11611753541745258, 0.07741169027830172, 0.09885189562600771, 0.39540758250403085, 0.09885189562600771, 0.19770379125201543, 0.09885189562600771, 0.09885189562600771, 0.35652520319664144, 0.11884173439888049, 0.11884173439888049, 0.11884173439888049, 0.11884173439888049, 0.11884173439888049, 0.38947977437444653, 0.19473988718722327, 0.09736994359361163, 0.09736994359361163, 0.09736994359361163, 0.19473988718722327, 0.13954820536826043, 0.13954820536826043, 0.37212854764869446, 0.09303213691217362, 0.09303213691217362, 0.13954820536826043, 0.3294584858356576, 0.13178339433426303, 0.19767509150139456, 0.13178339433426303, 0.13178339433426303, 0.13178339433426303, 0.12373127277134693, 0.12373127277134693, 0.12373127277134693, 0.4330594546997143, 0.0927984545785102, 0.0927984545785102, 0.15758235062061932, 0.07879117531030966, 0.31516470124123863, 0.15758235062061932, 0.15758235062061932, 0.15758235062061932, 0.14098529345582175, 0.14098529345582175, 0.0939901956372145, 0.14098529345582175, 0.32896568473025073, 0.14098529345582175, 0.13105764680900633, 0.393172940427019, 0.1747435290786751, 0.13105764680900633, 0.08737176453933755, 0.08737176453933755, 0.34383162625837194, 0.14735641125358798, 0.14735641125358798, 0.09823760750239198, 0.17191581312918597, 0.09823760750239198, 0.3149076333876698, 0.11451186668642538, 0.11451186668642538, 0.11451186668642538, 0.2576517000444571, 0.08588390001481903, 0.10645860704059162, 0.1703337712649466, 0.14904204985682828, 0.14904204985682828, 0.14904204985682828, 0.28743823900959736, 0.1030928657709457, 0.1030928657709457, 0.1030928657709457, 0.1030928657709457, 0.1030928657709457, 0.4123714630837828, 0.24027036692434575, 0.24027036692434575, 0.24027036692434575, 0.18211634492056233, 0.36423268984112467, 0.18211634492056233, 0.09105817246028117, 0.09105817246028117, 0.09105817246028117, 0.10099808806712114, 0.20199617613424228, 0.10099808806712114, 0.10099808806712114, 0.10099808806712114, 0.30299426420136344, 0.09939023337762166, 0.298170700132865, 0.34786581682167583, 0.1490853500664325, 0.09939023337762166, 0.04969511668881083, 0.32712542178443255, 0.13085016871377303, 0.13085016871377303, 0.13085016871377303, 0.06542508435688651, 0.19627525307065954, 0.10315125570832902, 0.10315125570832902, 0.10315125570832902, 0.10315125570832902, 0.10315125570832902, 0.41260502283331607, 0.1218990410648957, 0.15132294752883604, 0.2984424798485378, 0.17234002357450773, 0.1218990410648957, 0.13030587148316436, 0.20146404956542444, 0.20780937396118584, 0.1332518123109894, 0.1744964208834385, 0.1237338257173473, 0.158633109894035, 0.1496119086463518, 0.1163648178360514, 0.3823415443184546, 0.1828589994566522, 0.1163648178360514, 0.06649418162060079, 0.16187147054666876, 0.20178498383214874, 0.11087087023744435, 0.1707411401656643, 0.14856696611817544, 0.2062198186416465, 0.21843863876538036, 0.2574455385449126, 0.14432552918426916, 0.1521269091401756, 0.10921931938269018, 0.11702069933859661, 0.23034771376140656, 0.15262876968743605, 0.15731063378827764, 0.1498196512269311, 0.17697446301181236, 0.13296494046390134, 0.1446963892599149, 0.16341106421151275, 0.14195765634016888, 0.19581940376184068, 0.13556727952742817, 0.21864217809305755, 0.14634002995923645, 0.1427995453634485, 0.2537347293648052, 0.1652226144701057, 0.15814164527852972, 0.13335825310801389, 0.1290789845733219, 0.15269099394649055, 0.21880462019136274, 0.14482032415543433, 0.16370993165396924, 0.1920443429017716, 0.17441961987304241, 0.1606237177361916, 0.15865287457378432, 0.1734341982918388, 0.16259456089859886, 0.17047793354822788, 0.18311805403605194, 0.1364409030072544, 0.1220787026907013, 0.15080310332380747, 0.23697630522312604, 0.16875585371949886, 0.14551433404004094, 0.24252389006673492, 0.1919102086615033, 0.11809858994554048, 0.11388078316177118, 0.18769240187773398, 0.1459597172990564, 0.17028633684889913, 0.3284093639228769, 0.09730647819937094, 0.09730647819937094, 0.15812302707397777, 0.1272421480861755, 0.16965619744823404, 0.31810537021543883, 0.1272421480861755, 0.10603512340514627, 0.14844917276720476, 0.13693328110415515, 0.13693328110415515, 0.13693328110415515, 0.13693328110415515, 0.2738665622083103, 0.13693328110415515, 0.16681714764047548, 0.14708608716687085, 0.23139152737227245, 0.15784848378883704, 0.15605475101850932, 0.1399111560855601, 0.15161826724102212, 0.16757808484534023, 0.15161826724102212, 0.16199214868382888, 0.18513388421009017, 0.18273991156944244, 0.12521173519186754, 0.12521173519186754, 0.1878176027878013, 0.14608035772384545, 0.12521173519186754, 0.2921607154476909, 0.1738812330704234, 0.46368328818779575, 0.05796041102347447, 0.1738812330704234, 0.05796041102347447, 0.05796041102347447, 0.12266589729156824, 0.06133294864578412, 0.12266589729156824, 0.30666474322892057, 0.24533179458313648, 0.12266589729156824, 0.1477916213413691, 0.11823329707309528, 0.11823329707309528, 0.11823329707309528, 0.11823329707309528, 0.4138165397558335, 0.13921750182562445, 0.11932928727910669, 0.17899393091866003, 0.07955285818607112, 0.17899393091866003, 0.3182114327442845, 0.4049423070731437, 0.11043881101994829, 0.1282760073015207, 0.07438490364230194, 0.2072150887178411, 0.07514393327130502, 0.1738690250269872, 0.4056943917296368, 0.11591268335132479, 0.11591268335132479, 0.11591268335132479, 0.11591268335132479, 0.19020900215437764, 0.14786565538502855, 0.19155323538515062, 0.15996375446198544, 0.1445050723080961, 0.16601280400046386, 0.5130928397387652, 0.09012997070038012, 0.08836271637292167, 0.09837715756185281, 0.13725675276593835, 0.07245742742579578, 0.1686335778598491, 0.1349068622878793, 0.1349068622878793, 0.10118014671590946, 0.1349068622878793, 0.3035404401477284, 0.16041255680787903, 0.08020627840393951, 0.16041255680787903, 0.08020627840393951, 0.32082511361575805, 0.08020627840393951, 0.14386225162858166, 0.15232473701849822, 0.19886840666303934, 0.2877245032571633, 0.13116852354370678, 0.08462485389916567, 0.13668796546917392, 0.12757543443789565, 0.31893858609473913, 0.1822506206255652, 0.10935037237533912, 0.11846290340661739, 0.14181131789600587, 0.3545282947400147, 0.14181131789600587, 0.14181131789600587, 0.14181131789600587, 0.07090565894800294, 0.20511257206262742, 0.13159552114412296, 0.20731808359018256, 0.1286548391073828, 0.1301251801257529, 0.19776086697077697, 0.1309993755951121, 0.1309993755951121, 0.19649906339266815, 0.19649906339266815, 0.2619987511902242, 0.06549968779755605, 0.1298809007164846, 0.16235112589560574, 0.3030554350051307, 0.15152771750256536, 0.1298809007164846, 0.1298809007164846, 0.18127156888021995, 0.19895659999048532, 0.29622427109694477, 0.10168892888402582, 0.11495270221672485, 0.11053144443915851, 0.09281149539345969, 0.15468582565576616, 0.12374866052461293, 0.4640574769672985, 0.09281149539345969, 0.061874330262306466, 0.09164113773043536, 0.18328227546087072, 0.18328227546087072, 0.09164113773043536, 0.09164113773043536, 0.2749234131913061, 0.17235148605263073, 0.20770563703778577, 0.12815879732118696, 0.11932025957489821, 0.11932025957489821, 0.2563175946423739, 0.1545421368063976, 0.24064418445567629, 0.22077448115199658, 0.128049199068158, 0.15233439199487764, 0.10155626132991843, 0.14090189709868997, 0.14090189709868997, 0.09393459806579331, 0.14090189709868997, 0.3287710932302766, 0.14090189709868997, 0.18281677881460937, 0.18281677881460937, 0.18281677881460937, 0.18281677881460937, 0.36563355762921873, 0.18281677881460937, 0.16712998416080488, 0.33425996832160976, 0.08356499208040244, 0.08356499208040244, 0.08356499208040244, 0.08356499208040244, 0.1073321741764704, 0.4293286967058816, 0.1073321741764704, 0.1073321741764704, 0.1073321741764704, 0.1073321741764704, 0.15499666660970887, 0.14946107137364784, 0.1959600713565605, 0.1428183570903746, 0.22806652372571445, 0.12842580947661592, 0.08668917176091123, 0.08668917176091123, 0.13003375764136685, 0.40454946821758575, 0.11558556234788164, 0.18782653881530767, 0.14926850668521524, 0.3397145324560071, 0.15956288645660938, 0.14412131679951815, 0.12353255725672985, 0.0875022280568503, 0.17912972670243923, 0.18691797568950183, 0.1557649797412515, 0.11682373480593863, 0.27258871454719014, 0.08567073885768833, 0.127653308777439, 0.127653308777439, 0.127653308777439, 0.127653308777439, 0.127653308777439, 0.255306617554878], \"Term\": [\"aberdeen\", \"aberdeen\", \"aberdeen\", \"aberdeen\", \"aberdeen\", \"aberdeen\", \"ad_recipe\", \"ad_recipe\", \"ad_recipe\", \"ad_recipe\", \"ad_recipe\", \"ad_recipe\", \"ad_scda\", \"ad_scda\", \"ad_scda\", \"ad_scda\", \"ad_scda\", \"ad_scda\", \"adventure\", \"adventure\", \"adventure\", \"adventure\", \"adventure\", \"adventure\", \"airports\", \"airports\", \"airports\", \"airports\", \"airports\", \"airports\", \"alps\", \"alps\", \"alps\", \"alps\", \"alps\", \"alps\", \"annual\", \"annual\", \"annual\", \"annual\", \"annual\", \"annual\", \"artists\", \"australia\", \"australia\", \"australia\", \"australia\", \"australia\", \"australia\", \"avanza\", \"avanza\", \"avanza\", \"avanza\", \"avanza\", \"avanza\", \"avisa\", \"avisa\", \"avisa\", \"avisa\", \"avisa\", \"avisa\", \"bay_mydayinla\", \"bay_mydayinla\", \"bay_mydayinla\", \"bay_mydayinla\", \"bay_mydayinla\", \"bay_mydayinla\", \"beach\", \"beach\", \"beach\", \"beach\", \"beach\", \"beach\", \"beaten\", \"beaten\", \"beaten\", \"beaten\", \"beaten\", \"beaten\", \"beautiful\", \"beautiful\", \"beautiful\", \"beautiful\", \"beautiful\", \"beautiful\", \"beautiful_israel\", \"beautiful_israel\", \"beautiful_israel\", \"beautiful_israel\", \"beautiful_israel\", \"beautiful_israel\", \"bed_breakfasts\", \"bed_breakfasts\", \"bed_breakfasts\", \"bed_breakfasts\", \"bed_breakfasts\", \"bed_breakfasts\", \"beginner\", \"beginner\", \"beginner\", \"beginner\", \"beginner\", \"beginner\", \"best\", \"best\", \"best\", \"best\", \"best\", \"best\", \"big\", \"big\", \"big\", \"big\", \"big\", \"big\", \"birth\", \"birth\", \"birth\", \"birth\", \"birth\", \"birth\", \"blogging\", \"blogging\", \"blogging\", \"blogging\", \"blogging\", \"blogging\", \"blossoming_nature\", \"blossoming_nature\", \"blossoming_nature\", \"blossoming_nature\", \"blossoming_nature\", \"blossoming_nature\", \"book\", \"book\", \"book\", \"book\", \"book\", \"book\", \"books_deosailandofthegiant\", \"books_deosailandofthegiant\", \"books_deosailandofthegiant\", \"books_deosailandofthegiant\", \"books_deosailandofthegiant\", \"books_deosailandofthegiant\", \"bright\", \"bright\", \"bright\", \"bright\", \"bright\", \"bright\", \"bundle_check\", \"bundle_check\", \"bundle_check\", \"bundle_check\", \"bundle_check\", \"bundle_check\", \"california_b\", \"california_b\", \"california_b\", \"california_b\", \"california_b\", \"california_b\", \"campers_rvs\", \"campers_rvs\", \"campers_rvs\", \"campers_rvs\", \"campers_rvs\", \"campers_rvs\", \"change_lives\", \"change_lives\", \"change_lives\", \"change_lives\", \"change_lives\", \"change_lives\", \"cheapest\", \"cheapest\", \"cheapest\", \"cheapest\", \"cheapest\", \"cheapest\", \"check_unique\", \"check_unique\", \"check_unique\", \"check_unique\", \"check_unique\", \"check_unique\", \"childanddog_laurieshanholtzer\", \"childanddog_laurieshanholtzer\", \"childanddog_laurieshanholtzer\", \"childanddog_laurieshanholtzer\", \"childanddog_laurieshanholtzer\", \"childanddog_laurieshanholtzer\", \"christmas\", \"christmas\", \"christmas\", \"christmas\", \"christmas\", \"christmas\", \"christmas_sled\", \"christmas_sled\", \"christmas_sled\", \"christmas_sled\", \"christmas_sled\", \"christmas_sled\", \"city\", \"city\", \"city\", \"city\", \"city\", \"city\", \"coast_experience\", \"coast_experience\", \"coast_experience\", \"coast_experience\", \"coast_experience\", \"coast_experience\", \"coates\", \"coates\", \"coates\", \"coates\", \"coates\", \"code_oath\", \"code_oath\", \"code_oath\", \"code_oath\", \"code_oath\", \"code_oath\", \"community\", \"community\", \"community\", \"community\", \"community\", \"community\", \"condo\", \"condo\", \"condo\", \"condo\", \"condo\", \"condo\", \"crafted_gypsy\", \"crafted_gypsy\", \"crafted_gypsy\", \"crafted_gypsy\", \"crafted_gypsy\", \"crafted_gypsy\", \"curry\", \"curry\", \"curry\", \"curry\", \"curry\", \"curry\", \"cute\", \"cute\", \"cute\", \"cute\", \"cute\", \"cute\", \"daily_thanks\", \"daily_thanks\", \"daily_thanks\", \"daily_thanks\", \"daily_thanks\", \"daily_thanks\", \"damselfish\", \"dare_compare\", \"dare_compare\", \"dare_compare\", \"dare_compare\", \"dare_compare\", \"dare_compare\", \"day\", \"day\", \"day\", \"day\", \"day\", \"day\", \"de\", \"de\", \"de\", \"de\", \"de\", \"de\", \"deosai_expanse\", \"deosai_expanse\", \"deosai_expanse\", \"deosai_expanse\", \"deosai_expanse\", \"deosai_expanse\", \"destinos\", \"destinos\", \"destinos\", \"destinos\", \"destinos\", \"destinos\", \"devon\", \"devon\", \"devon\", \"devon\", \"devon\", \"devon\", \"download_goodies\", \"download_goodies\", \"download_goodies\", \"download_goodies\", \"download_goodies\", \"download_goodies\", \"drea\", \"drea\", \"drea\", \"drea\", \"drea\", \"drea\", \"east_africa\", \"east_africa\", \"east_africa\", \"east_africa\", \"east_africa\", \"east_africa\", \"europa\", \"europa\", \"europa\", \"europa\", \"europa\", \"europa\", \"exclusive_amalfi\", \"exclusive_amalfi\", \"exclusive_amalfi\", \"exclusive_amalfi\", \"exclusive_amalfi\", \"exclusive_amalfi\", \"experience\", \"experience\", \"experience\", \"experience\", \"experience\", \"experience\", \"explore\", \"explore\", \"explore\", \"explore\", \"explore\", \"explore\", \"extra\", \"extra\", \"extra\", \"extra\", \"extra\", \"extra\", \"festivals\", \"festivals\", \"festivals\", \"festivals\", \"festivals\", \"festivals\", \"festive_naughtiness\", \"festive_naughtiness\", \"festive_naughtiness\", \"festive_naughtiness\", \"festive_naughtiness\", \"festive_naughtiness\", \"final\", \"final\", \"final\", \"final\", \"final\", \"final\", \"find_ad\", \"find_ad\", \"find_ad\", \"find_ad\", \"find_ad\", \"find_ad\", \"finland\", \"finland\", \"finland\", \"finland\", \"finland\", \"finland\", \"fireball_sunset\", \"fireball_sunset\", \"fireball_sunset\", \"fireball_sunset\", \"fireball_sunset\", \"fireball_sunset\", \"firm_discipline\", \"firm_discipline\", \"firm_discipline\", \"firm_discipline\", \"firm_discipline\", \"firm_discipline\", \"fish_fishtank\", \"fish_fishtank\", \"fish_fishtank\", \"fish_fishtank\", \"fish_fishtank\", \"fish_fishtank\", \"fishtank_marinelife\", \"fishtank_marinelife\", \"fishtank_marinelife\", \"fishtank_marinelife\", \"fishtank_marinelife\", \"fishtank_marinelife\", \"flower_soul\", \"flower_soul\", \"flower_soul\", \"flower_soul\", \"flower_soul\", \"flower_soul\", \"forfrontier\", \"forfrontier\", \"forfrontier\", \"forfrontier\", \"forfrontier\", \"forfrontier\", \"forget\", \"forget\", \"forget\", \"forget\", \"forget\", \"forget\", \"found_mission\", \"found_mission\", \"found_mission\", \"found_mission\", \"found_mission\", \"found_mission\", \"france\", \"france\", \"france\", \"france\", \"france\", \"france\", \"free\", \"free\", \"free\", \"free\", \"free\", \"free\", \"free_rides\", \"free_rides\", \"free_rides\", \"free_rides\", \"free_rides\", \"free_rides\", \"fujifilm\", \"fujifilm\", \"fujifilm\", \"fujifilm\", \"fujifilm\", \"fujifilm\", \"funny\", \"funny\", \"funny\", \"funny\", \"funny\", \"funny\", \"gambling\", \"gambling\", \"gambling\", \"gambling\", \"gambling\", \"gambling\", \"george_moore\", \"george_moore\", \"george_moore\", \"george_moore\", \"george_moore\", \"george_moore\", \"gerard_de\", \"gerard_de\", \"gerard_de\", \"gerard_de\", \"gerard_de\", \"gerard_de\", \"germany\", \"germany\", \"germany\", \"germany\", \"germany\", \"germany\", \"gift\", \"gift\", \"gift\", \"gift\", \"gift\", \"gift\", \"girls_boys\", \"girls_boys\", \"girls_boys\", \"girls_boys\", \"girls_boys\", \"girls_boys\", \"giving_cow\", \"giving_cow\", \"giving_cow\", \"giving_cow\", \"giving_cow\", \"giving_cow\", \"glitter\", \"glitter\", \"glitter\", \"glitter\", \"glitter\", \"glitter\", \"going\", \"going\", \"going\", \"going\", \"going\", \"going\", \"great\", \"great\", \"great\", \"great\", \"great\", \"great\", \"great_giftidea\", \"great_giftidea\", \"great_giftidea\", \"great_giftidea\", \"great_giftidea\", \"great_giftidea\", \"great_tire\", \"great_tire\", \"great_tire\", \"great_tire\", \"great_tire\", \"great_tire\", \"guest_room\", \"guest_room\", \"guest_room\", \"guest_room\", \"guest_room\", \"guest_room\", \"guides_help\", \"guides_help\", \"guides_help\", \"guides_help\", \"guides_help\", \"guides_help\", \"hacer\", \"hacer\", \"hacer\", \"hacer\", \"hacer\", \"hacer\", \"hand\", \"hand\", \"hand\", \"hand\", \"hand\", \"hand\", \"happy\", \"happy\", \"happy\", \"happy\", \"happy\", \"happy\", \"hebei\", \"hebei\", \"hebei\", \"hebei\", \"hebei\", \"hebei\", \"heely_skateshoes\", \"heely_skateshoes\", \"heely_skateshoes\", \"heely_skateshoes\", \"heely_skateshoes\", \"heely_skateshoes\", \"himeji\", \"himeji\", \"himeji\", \"himeji\", \"himeji\", \"himeji\", \"hk\", \"hk\", \"hk\", \"hk\", \"hk\", \"hk\", \"holiday\", \"holiday\", \"holiday\", \"holiday\", \"holiday\", \"holiday\", \"holiday_baking\", \"holiday_baking\", \"holiday_baking\", \"holiday_baking\", \"holiday_baking\", \"holiday_baking\", \"holiday_lip\", \"holiday_lip\", \"holiday_lip\", \"holiday_lip\", \"holiday_lip\", \"holiday_lip\", \"holiday_season\", \"holiday_season\", \"holiday_season\", \"holiday_season\", \"holiday_season\", \"holiday_season\", \"holidays\", \"holidays\", \"holidays\", \"holidays\", \"holidays\", \"holidays\", \"home_find\", \"home_find\", \"home_find\", \"home_find\", \"home_find\", \"home_find\", \"hong_kong\", \"hong_kong\", \"hong_kong\", \"hong_kong\", \"hong_kong\", \"hong_kong\", \"hongkong\", \"hongkong\", \"hongkong\", \"hongkong\", \"hongkong\", \"hongkong\", \"hotel\", \"hotel\", \"hotel\", \"hotel\", \"hotel\", \"hotel\", \"hotels\", \"hotels\", \"hotels\", \"hotels\", \"hotels\", \"hotels\", \"icecream\", \"icecream\", \"icecream\", \"icecream\", \"icecream\", \"icecream\", \"icelagoon\", \"icelagoon\", \"icelagoon\", \"icelagoon\", \"icelagoon\", \"icelagoon\", \"iceland\", \"iceland\", \"iceland\", \"iceland\", \"iceland\", \"iceland\", \"ilovela_mondaymotivation\", \"ilovela_mondaymotivation\", \"ilovela_mondaymotivation\", \"ilovela_mondaymotivation\", \"ilovela_mondaymotivation\", \"ilovela_mondaymotivation\", \"inbox\", \"inbox\", \"inbox\", \"inbox\", \"inbox\", \"inbox\", \"inform\", \"inn\", \"inn\", \"inn\", \"inn\", \"inn\", \"inn\", \"james\", \"james\", \"james\", \"james\", \"james\", \"james\", \"janeiro\", \"janeiro\", \"janeiro\", \"janeiro\", \"janeiro\", \"janeiro\", \"japan\", \"japan\", \"japan\", \"japan\", \"japan\", \"japan\", \"japan_japantravel\", \"japan_japantravel\", \"japan_japantravel\", \"japan_japantravel\", \"japan_japantravel\", \"japan_japantravel\", \"jerusalem\", \"jerusalem\", \"jerusalem\", \"jerusalem\", \"jerusalem\", \"jerusalem\", \"jinshanling\", \"jinshanling\", \"jinshanling\", \"jinshanling\", \"jinshanling\", \"jinshanling\", \"job\", \"job\", \"job\", \"job\", \"job\", \"job\", \"jokulsarlon\", \"jokulsarlon\", \"jokulsarlon\", \"jokulsarlon\", \"jokulsarlon\", \"jokulsarlon\", \"julian\", \"kerala\", \"kerala\", \"kerala\", \"kerala\", \"kerala\", \"kerala\", \"kitty\", \"kitty\", \"kitty\", \"kitty\", \"kitty\", \"kitty\", \"lads\", \"lads\", \"lads\", \"lads\", \"lads\", \"lads\", \"latest\", \"latest\", \"latest\", \"latest\", \"latest\", \"latest\", \"lawyer\", \"lawyer\", \"lawyer\", \"lawyer\", \"lawyer\", \"lawyer\", \"leave_home\", \"leave_home\", \"leave_home\", \"leave_home\", \"leave_home\", \"leave_home\", \"life\", \"life\", \"life\", \"life\", \"life\", \"life\", \"like\", \"like\", \"like\", \"like\", \"like\", \"like\", \"liquid_paste\", \"liquid_paste\", \"liquid_paste\", \"liquid_paste\", \"liquid_paste\", \"liquid_paste\", \"lot\", \"lot\", \"lot\", \"lot\", \"lot\", \"lot\", \"love\", \"love\", \"love\", \"love\", \"love\", \"love\", \"love_hand\", \"love_hand\", \"love_hand\", \"love_hand\", \"love_hand\", \"love_hand\", \"loyalty\", \"loyalty\", \"loyalty\", \"loyalty\", \"loyalty\", \"loyalty\", \"lp\", \"lp\", \"lp\", \"lp\", \"lp\", \"lp\", \"lunch_winelover\", \"lunch_winelover\", \"lunch_winelover\", \"lunch_winelover\", \"lunch_winelover\", \"lunch_winelover\", \"luxury\", \"luxury\", \"luxury\", \"luxury\", \"luxury\", \"luxury\", \"magnificent\", \"magnificent\", \"magnificent\", \"magnificent\", \"magnificent\", \"magnificent\", \"makes\", \"makes\", \"makes\", \"makes\", \"makes\", \"makes\", \"making_working\", \"making_working\", \"making_working\", \"making_working\", \"making_working\", \"making_working\", \"man_travels\", \"man_travels\", \"man_travels\", \"man_travels\", \"man_travels\", \"man_travels\", \"mans\", \"marinelife_ocean\", \"marinelife_ocean\", \"marinelife_ocean\", \"marinelife_ocean\", \"marinelife_ocean\", \"marinelife_ocean\", \"memorable\", \"memorable\", \"memorable\", \"memorable\", \"memorable\", \"memorable\", \"mendoan\", \"mendoan\", \"mendoan\", \"mendoan\", \"mendoan\", \"mendoan\", \"michelin\", \"michelin\", \"michelin\", \"michelin\", \"michelin\", \"michelin\", \"mid_century\", \"mid_century\", \"mid_century\", \"mid_century\", \"mid_century\", \"mid_century\", \"miki\", \"miki\", \"miki\", \"miki\", \"miki\", \"miki\", \"mission_beach\", \"mission_beach\", \"mission_beach\", \"mission_beach\", \"mission_beach\", \"mission_beach\", \"modern_houses\", \"modern_houses\", \"modern_houses\", \"modern_houses\", \"modern_houses\", \"modern_houses\", \"natural\", \"natural\", \"natural\", \"natural\", \"natural\", \"natural\", \"nature\", \"nature\", \"nature\", \"nature\", \"nature\", \"nature\", \"naturecuts\", \"naturecuts\", \"naturecuts\", \"naturecuts\", \"naturecuts\", \"naturecuts\", \"need\", \"need\", \"need\", \"need\", \"need\", \"need\", \"needs_returns\", \"needs_returns\", \"needs_returns\", \"needs_returns\", \"needs_returns\", \"needs_returns\", \"nerval\", \"nerval\", \"nerval\", \"nerval\", \"nerval\", \"nerval\", \"nevea\", \"new\", \"new\", \"new\", \"new\", \"new\", \"new\", \"nice_vacation\", \"nice_vacation\", \"nice_vacation\", \"nice_vacation\", \"nice_vacation\", \"nice_vacation\", \"niggas\", \"noel_ganache\", \"noel_ganache\", \"noel_ganache\", \"noel_ganache\", \"noel_ganache\", \"noel_ganache\", \"nomads\", \"nomads\", \"nomads\", \"nomads\", \"nomads\", \"nomads\", \"organisations\", \"organisations\", \"organisations\", \"organisations\", \"organisations\", \"organisations\", \"owl_house\", \"owl_house\", \"owl_house\", \"owl_house\", \"owl_house\", \"owl_house\", \"palawan\", \"palawan\", \"palawan\", \"palawan\", \"palawan\", \"palawan\", \"palawan_philippines\", \"palawan_philippines\", \"palawan_philippines\", \"palawan_philippines\", \"palawan_philippines\", \"palawan_philippines\", \"palm_springs\", \"palm_springs\", \"palm_springs\", \"palm_springs\", \"palm_springs\", \"palm_springs\", \"paper_print\", \"paper_print\", \"paper_print\", \"paper_print\", \"paper_print\", \"paper_print\", \"paradise\", \"paradise\", \"paradise\", \"paradise\", \"paradise\", \"paradise\", \"paris\", \"paris\", \"paris\", \"paris\", \"paris\", \"paris\", \"parque\", \"parque\", \"parque\", \"parque\", \"parque\", \"parque\", \"parrot\", \"parrot\", \"parrot\", \"parrot\", \"parrot\", \"parrot\", \"party\", \"party\", \"party\", \"party\", \"party\", \"party\", \"pass\", \"pass\", \"pass\", \"pass\", \"pass\", \"pass\", \"pc\", \"pc\", \"penang\", \"penang\", \"penang\", \"penang\", \"penang\", \"penang\", \"penh\", \"penh\", \"penh\", \"penh\", \"penh\", \"penh\", \"people\", \"people\", \"people\", \"people\", \"people\", \"people\", \"pesan_hotel\", \"pesan_hotel\", \"pesan_hotel\", \"pesan_hotel\", \"pesan_hotel\", \"pesan_hotel\", \"phnom\", \"phnom\", \"phnom\", \"phnom\", \"phnom\", \"phnom\", \"phone\", \"phone\", \"phone\", \"phone\", \"phone\", \"phone\", \"photo\", \"photo\", \"photo\", \"photo\", \"photo\", \"photo\", \"photo_popular\", \"photo_popular\", \"photo_popular\", \"photo_popular\", \"photo_popular\", \"photo_popular\", \"photog\", \"photog\", \"photog\", \"photog\", \"photog\", \"photog\", \"photography\", \"photography\", \"photography\", \"photography\", \"photography\", \"photography\", \"photography_helena\", \"photography_helena\", \"photography_helena\", \"photography_helena\", \"photography_helena\", \"photography_helena\", \"photos\", \"photos\", \"photos\", \"photos\", \"photos\", \"photos\", \"places_world\", \"places_world\", \"places_world\", \"places_world\", \"places_world\", \"places_world\", \"plans_sorted\", \"plans_sorted\", \"plans_sorted\", \"plans_sorted\", \"plans_sorted\", \"plans_sorted\", \"posted_travelleisure\", \"posted_travelleisure\", \"posted_travelleisure\", \"posted_travelleisure\", \"posted_travelleisure\", \"posted_travelleisure\", \"posted_trips\", \"posted_trips\", \"posted_trips\", \"posted_trips\", \"posted_trips\", \"posted_trips\", \"pura\", \"pura\", \"pura\", \"pura\", \"pura\", \"pura\", \"quebecoriginal\", \"quebecoriginal\", \"quebecoriginal\", \"quebecoriginal\", \"quebecoriginal\", \"quebecoriginal\", \"quick\", \"quick\", \"quick\", \"quick\", \"quick\", \"quick\", \"quote\", \"quote\", \"quote\", \"quote\", \"quote\", \"quote\", \"quoteoftheday\", \"quoteoftheday\", \"quoteoftheday\", \"quoteoftheday\", \"quoteoftheday\", \"quoteoftheday\", \"rabbit\", \"rabbit\", \"rabbit\", \"rabbit\", \"rabbit\", \"rabbit\", \"railway\", \"railway\", \"railway\", \"railway\", \"railway\", \"railway\", \"reef_coral\", \"reef_coral\", \"reef_coral\", \"reef_coral\", \"reef_coral\", \"reef_coral\", \"reeftank\", \"reeftank\", \"reeftank\", \"reeftank\", \"reeftank\", \"reeftank\", \"reeftank_reefcandy\", \"reeftank_reefcandy\", \"reeftank_reefcandy\", \"reeftank_reefcandy\", \"reeftank_reefcandy\", \"reeftank_reefcandy\", \"reet_ennet\", \"reet_ennet\", \"reet_ennet\", \"reet_ennet\", \"reet_ennet\", \"reet_ennet\", \"religion\", \"religion\", \"religion\", \"religion\", \"religion\", \"religion\", \"rent\", \"rent\", \"rent\", \"rent\", \"rent\", \"rent\", \"rent_hightown\", \"rent_hightown\", \"rent_hightown\", \"rent_hightown\", \"rent_hightown\", \"rent_hightown\", \"rent_seattle\", \"rent_seattle\", \"rent_seattle\", \"rent_seattle\", \"rent_seattle\", \"rent_seattle\", \"rental_condo\", \"rental_condo\", \"rental_condo\", \"rental_condo\", \"rental_condo\", \"rental_condo\", \"resort_hollywood\", \"resort_hollywood\", \"resort_hollywood\", \"resort_hollywood\", \"resort_hollywood\", \"resort_hollywood\", \"rewards\", \"rewards\", \"rewards\", \"rewards\", \"rewards\", \"rewards\", \"ride_art\", \"ride_art\", \"ride_art\", \"ride_art\", \"ride_art\", \"ride_art\", \"risk\", \"risk\", \"risk\", \"risk\", \"risk\", \"risk\", \"roads\", \"romance\", \"romance\", \"romance\", \"romance\", \"romance\", \"romance\", \"rooftop\", \"rooftop\", \"rooftop\", \"rooftop\", \"rooftop\", \"rooftop\", \"rt\", \"rt\", \"rt\", \"rt\", \"rt\", \"rt\", \"rt_viajes\", \"rt_viajes\", \"rt_viajes\", \"rt_viajes\", \"rt_viajes\", \"rt_viajes\", \"safe_winter\", \"safe_winter\", \"safe_winter\", \"safe_winter\", \"safe_winter\", \"safe_winter\", \"saint_petersburg\", \"saint_petersburg\", \"saint_petersburg\", \"saint_petersburg\", \"saint_petersburg\", \"saint_petersburg\", \"salad\", \"salad\", \"salad\", \"salad\", \"salad\", \"salad\", \"san_diego\", \"san_diego\", \"san_diego\", \"san_diego\", \"san_diego\", \"san_diego\", \"santabarbara_sunset\", \"santabarbara_sunset\", \"santabarbara_sunset\", \"santabarbara_sunset\", \"santabarbara_sunset\", \"santabarbara_sunset\", \"santorini\", \"santorini\", \"santorini\", \"santorini\", \"santorini\", \"santorini\", \"sella\", \"service\", \"service\", \"service\", \"service\", \"service\", \"service\", \"ship_ahead\", \"ship_ahead\", \"ship_ahead\", \"ship_ahead\", \"ship_ahead\", \"ship_ahead\", \"shoes\", \"shoes\", \"shoes\", \"shoes\", \"shoes\", \"shoes\", \"siberia\", \"siberia\", \"siberia\", \"siberia\", \"siberia\", \"siberia\", \"simple\", \"simple\", \"simple\", \"simple\", \"simple\", \"simple\", \"single\", \"single\", \"single\", \"single\", \"single\", \"single\", \"single_double\", \"single_double\", \"single_double\", \"single_double\", \"single_double\", \"single_double\", \"sinks_santamonica\", \"sinks_santamonica\", \"sinks_santamonica\", \"sinks_santamonica\", \"sinks_santamonica\", \"sinks_santamonica\", \"snow_scene\", \"snow_scene\", \"snow_scene\", \"snow_scene\", \"snow_scene\", \"snow_scene\", \"statue\", \"statue\", \"statue\", \"statue\", \"statue\", \"statue\", \"straight\", \"straight\", \"straight\", \"straight\", \"straight\", \"straight\", \"street_food\", \"street_food\", \"street_food\", \"street_food\", \"street_food\", \"street_food\", \"stunning\", \"stunning\", \"stunning\", \"stunning\", \"stunning\", \"stunning\", \"suci\", \"suci\", \"suci\", \"suci\", \"suci\", \"suci\", \"surefire\", \"surefire\", \"surefire\", \"surprise_rt\", \"surprise_rt\", \"surprise_rt\", \"surprise_rt\", \"surprise_rt\", \"surprise_rt\", \"tanah\", \"tanah\", \"tanah\", \"tanah\", \"tanah\", \"tanah\", \"tayland\", \"tayland\", \"tayland\", \"tayland\", \"tayland\", \"tayland\", \"tempatwisata\", \"tempatwisata\", \"tempatwisata\", \"tempatwisata\", \"tempatwisata\", \"tempatwisata\", \"tepi\", \"tepi\", \"tepi\", \"tepi\", \"tepi\", \"tepi\", \"thailand\", \"thailand\", \"thailand\", \"thailand\", \"thailand\", \"thailand\", \"thanks\", \"thanks\", \"thanks\", \"thanks\", \"thanks\", \"thanks\", \"thanks_following\", \"thanks_following\", \"thanks_following\", \"thanks_following\", \"thanks_following\", \"thanks_following\", \"time\", \"time\", \"time\", \"time\", \"time\", \"time\", \"today\", \"today\", \"today\", \"today\", \"today\", \"today\", \"tour\", \"tour\", \"tour\", \"tour\", \"tour\", \"tour\", \"touri\", \"touri\", \"touri\", \"touri\", \"touri\", \"touri\", \"tourism\", \"tourism\", \"tourism\", \"tourism\", \"tourism\", \"tourism\", \"traveller\", \"traveller\", \"traveller\", \"traveller\", \"traveller\", \"traveller\", \"travelpics_travelblogger\", \"travelpics_travelblogger\", \"travelpics_travelblogger\", \"travelpics_travelblogger\", \"travelpics_travelblogger\", \"travelpics_travelblogger\", \"travelpix\", \"travelpix\", \"travelpix\", \"travelpix\", \"travelpix\", \"travelpix\", \"traveltuesday\", \"traveltuesday\", \"traveltuesday\", \"traveltuesday\", \"traveltuesday\", \"traveltuesday\", \"tree\", \"tree\", \"tree\", \"tree\", \"tree\", \"tree\", \"trees\", \"trees\", \"trees\", \"trees\", \"trees\", \"trees\", \"trendy\", \"trendy\", \"trendy\", \"trendy\", \"trendy\", \"trendy\", \"trip\", \"trip\", \"trip\", \"trip\", \"trip\", \"trip\", \"ttot\", \"ttot\", \"ttot\", \"ttot\", \"ttot\", \"ttot\", \"tulip_rainbow\", \"tulip_rainbow\", \"tulip_rainbow\", \"tulip_rainbow\", \"tulip_rainbow\", \"tulip_rainbow\", \"tv_special\", \"tv_special\", \"tv_special\", \"tv_special\", \"tv_special\", \"tv_special\", \"uber_lyft\", \"uber_lyft\", \"uber_lyft\", \"uber_lyft\", \"uber_lyft\", \"uber_lyft\", \"umroh\", \"umroh\", \"umroh\", \"umroh\", \"umroh\", \"umroh\", \"unesco\", \"unesco\", \"unesco\", \"unesco\", \"unesco\", \"unesco\", \"usa\", \"usa\", \"usa\", \"usa\", \"usa\", \"usa\", \"use_channel\", \"use_channel\", \"use_channel\", \"use_channel\", \"use_channel\", \"use_channel\", \"vacation\", \"vacation\", \"vacation\", \"vacation\", \"vacation\", \"vacation\", \"vacation_rental\", \"vacation_rental\", \"vacation_rental\", \"vacation_rental\", \"vacation_rental\", \"vacation_rental\", \"vespa_light\", \"vespa_light\", \"vespa_light\", \"vespa_light\", \"vespa_light\", \"vespa_light\", \"viaggilowcost_viaggi\", \"viaggilowcost_viaggi\", \"viaggilowcost_viaggi\", \"viaggilowcost_viaggi\", \"viaggilowcost_viaggi\", \"viaggilowcost_viaggi\", \"viajar\", \"viajar\", \"viajar\", \"viajar\", \"viajar\", \"viajar\", \"visa\", \"visa\", \"visa\", \"visa\", \"visa\", \"visa\", \"vote\", \"vote\", \"vote\", \"vote\", \"vote\", \"vote\", \"wagon_heart\", \"wagon_heart\", \"wagon_heart\", \"wagon_heart\", \"wagon_heart\", \"wagon_heart\", \"warsaw\", \"warsaw\", \"warsaw\", \"warsaw\", \"warsaw\", \"warsaw\", \"water\", \"water\", \"water\", \"water\", \"water\", \"water\", \"way\", \"way\", \"way\", \"way\", \"way\", \"way\", \"wheel_light\", \"wheel_light\", \"wheel_light\", \"wheel_light\", \"wheel_light\", \"wheel_light\", \"white_sand\", \"white_sand\", \"white_sand\", \"white_sand\", \"white_sand\", \"white_sand\", \"wine\", \"wine\", \"wine\", \"wine\", \"wine\", \"wine\", \"winter\", \"winter\", \"winter\", \"winter\", \"winter\", \"winter\", \"winter_canvas\", \"winter_canvas\", \"winter_canvas\", \"winter_canvas\", \"winter_canvas\", \"winter_canvas\", \"winter_spice\", \"winter_spice\", \"winter_spice\", \"winter_spice\", \"winter_spice\", \"winter_spice\", \"woes\", \"woes\", \"woes\", \"woes\", \"woes\", \"woes\", \"woods\", \"woods\", \"woods\", \"woods\", \"woods\", \"woods\", \"world\", \"world\", \"world\", \"world\", \"world\", \"world\", \"world_search\", \"world_search\", \"world_search\", \"world_search\", \"world_search\", \"world_search\", \"year\", \"year\", \"year\", \"year\", \"year\", \"year\", \"yummy\", \"yummy\", \"yummy\", \"yummy\", \"yummy\", \"yummy\", \"\\u043b\\u0435\\u0434\\u044f\\u043d\\u0430\\u044f\\u043b\\u0430\\u0433\\u0443\\u043d\\u0430\", \"\\u043b\\u0435\\u0434\\u044f\\u043d\\u0430\\u044f\\u043b\\u0430\\u0433\\u0443\\u043d\\u0430\", \"\\u043b\\u0435\\u0434\\u044f\\u043d\\u0430\\u044f\\u043b\\u0430\\u0433\\u0443\\u043d\\u0430\", \"\\u043b\\u0435\\u0434\\u044f\\u043d\\u0430\\u044f\\u043b\\u0430\\u0433\\u0443\\u043d\\u0430\", \"\\u043b\\u0435\\u0434\\u044f\\u043d\\u0430\\u044f\\u043b\\u0430\\u0433\\u0443\\u043d\\u0430\", \"\\u043b\\u0435\\u0434\\u044f\\u043d\\u0430\\u044f\\u043b\\u0430\\u0433\\u0443\\u043d\\u0430\"]}, \"R\": 30, \"lambda.step\": 0.01, \"plot.opts\": {\"xlab\": \"PC1\", \"ylab\": \"PC2\"}, \"topic.order\": [4, 5, 3, 2, 1, 6]};\n",
       "\n",
       "function LDAvis_load_lib(url, callback){\n",
       "  var s = document.createElement('script');\n",
       "  s.src = url;\n",
       "  s.async = true;\n",
       "  s.onreadystatechange = s.onload = callback;\n",
       "  s.onerror = function(){console.warn(\"failed to load library \" + url);};\n",
       "  document.getElementsByTagName(\"head\")[0].appendChild(s);\n",
       "}\n",
       "\n",
       "if(typeof(LDAvis) !== \"undefined\"){\n",
       "   // already loaded: just create the visualization\n",
       "   !function(LDAvis){\n",
       "       new LDAvis(\"#\" + \"ldavis_el83412132132602561123051182\", ldavis_el83412132132602561123051182_data);\n",
       "   }(LDAvis);\n",
       "}else if(typeof define === \"function\" && define.amd){\n",
       "   // require.js is available: use it to load d3/LDAvis\n",
       "   require.config({paths: {d3: \"https://d3js.org/d3.v5\"}});\n",
       "   require([\"d3\"], function(d3){\n",
       "      window.d3 = d3;\n",
       "      LDAvis_load_lib(\"https://cdn.jsdelivr.net/gh/bmabey/pyLDAvis@3.3.1/pyLDAvis/js/ldavis.v3.0.0.js\", function(){\n",
       "        new LDAvis(\"#\" + \"ldavis_el83412132132602561123051182\", ldavis_el83412132132602561123051182_data);\n",
       "      });\n",
       "    });\n",
       "}else{\n",
       "    // require.js not available: dynamically load d3 & LDAvis\n",
       "    LDAvis_load_lib(\"https://d3js.org/d3.v5.js\", function(){\n",
       "         LDAvis_load_lib(\"https://cdn.jsdelivr.net/gh/bmabey/pyLDAvis@3.3.1/pyLDAvis/js/ldavis.v3.0.0.js\", function(){\n",
       "                 new LDAvis(\"#\" + \"ldavis_el83412132132602561123051182\", ldavis_el83412132132602561123051182_data);\n",
       "            })\n",
       "         });\n",
       "}\n",
       "</script>"
      ],
      "text/plain": [
       "<IPython.core.display.HTML object>"
      ]
     },
     "execution_count": 6,
     "metadata": {},
     "output_type": "execute_result"
    }
   ],
   "source": [
    "vis = gensimvis.prepare(topic_model=basic_model.model, corpus=basic_model.corpus, dictionary=basic_model.id2word)\n",
    "pyLDAvis.enable_notebook()\n",
    "pyLDAvis.display(vis)"
   ]
  },
  {
   "cell_type": "markdown",
   "id": "17c489f7",
   "metadata": {},
   "source": [
    "## 3.2 LDA Tfidf Mode"
   ]
  },
  {
   "cell_type": "code",
   "execution_count": 26,
   "id": "8b4e789b",
   "metadata": {},
   "outputs": [
    {
     "data": {
      "text/html": [
       "\n",
       "<link rel=\"stylesheet\" type=\"text/css\" href=\"https://cdn.jsdelivr.net/gh/bmabey/pyLDAvis@3.3.1/pyLDAvis/js/ldavis.v1.0.0.css\">\n",
       "\n",
       "\n",
       "<div id=\"ldavis_el83412111884358721438057896\"></div>\n",
       "<script type=\"text/javascript\">\n",
       "\n",
       "var ldavis_el83412111884358721438057896_data = {\"mdsDat\": {\"x\": [0.33982677979663045, -0.04355462400671589, -0.053080653821509984, -0.07798832702619125, -0.0814705580648933, -0.08373261687732005], \"y\": [-0.01613040511913231, -0.004866840243480642, 0.2465624178556103, -0.044673152879212835, -0.12081120521140588, -0.06008081440237872], \"topics\": [1, 2, 3, 4, 5, 6], \"cluster\": [1, 1, 1, 1, 1, 1], \"Freq\": [20.19208495607529, 17.10456113394879, 16.915653445874867, 15.671942603605283, 15.406908357585792, 14.70884950290999]}, \"tinfo\": {\"Term\": [\"san_diego\", \"usa\", \"nice_vacation\", \"rental_condo\", \"found_mission\", \"mission_beach\", \"condo\", \"vacation_rental\", \"beach\", \"rent\", \"palm_springs\", \"love_hand\", \"campers_rvs\", \"rent_seattle\", \"crafted_gypsy\", \"wagon_heart\", \"beach_condominiums\", \"condo_steps\", \"diego\", \"cozy_san\", \"de_celeste\", \"love_chalet\", \"south_lake\", \"chalets_rent\", \"tahoe\", \"touri\", \"jerusalem\", \"rent_pioneertown\", \"pool_houses\", \"love_dragonfly\", \"found_mission\", \"nice_vacation\", \"rental_condo\", \"san_diego\", \"usa\", \"mission_beach\", \"condo\", \"vacation_rental\", \"spread_gathering\", \"goodfoods_sharethegoo\", \"like_post\", \"drone_lil\", \"help_u\", \"memories_check\", \"u_win\", \"holiday_giveaways\", \"print\", \"amazon\", \"traveltips_joyforall\", \"shanghai\", \"watch_periscope\", \"colorado_springs\", \"debate\", \"solution_emotional\", \"support_animal\", \"hark_hey\", \"holidays_nyc\", \"tim_celebrate\", \"join_tiny\", \"noon\", \"sandiego\", \"create\", \"beach\", \"rent_hightown\", \"owl_house\", \"guest_room\", \"bed_breakfasts\", \"chance\", \"holid\", \"tt_lp\", \"safari_bucket\", \"list_experiences\", \"switzerland_familytravel\", \"visiting_glacier\", \"cave_igloo\", \"holiday\", \"vacation\", \"latest\", \"lp\", \"japan_japantravel\", \"paradise\", \"rt\", \"photography\", \"wonderful_israel\", \"desert_retreat\", \"love_dragonfly\", \"pool_houses\", \"rent_pioneertown\", \"clownfish_redsea\", \"flight_cancellations\", \"weather_delays\", \"girls_boys\", \"spiti_grace\", \"himalayas_bookreview\", \"sublime_review\", \"planning_work\", \"australia_tips\", \"great_giftidea\", \"wheel_light\", \"single_double\", \"heely_skateshoes\", \"photography_pod\", \"day_table\", \"natgeo_photo\", \"hotel_airline\", \"rotorua\", \"making_working\", \"louisiana\", \"cranberry\", \"se\", \"simply\", \"east_africa\", \"orange\", \"touri\", \"reeftank_reefcandy\", \"mydayinla\", \"marinelife_ocean\", \"fish_fishtank\", \"reef_coral\", \"jerusalem\", \"sahara_gear\", \"modern_nomad\", \"packsmallthinkbig\", \"travelpics_travelblogger\", \"photography_helena\", \"reet_ennet\", \"rt_viajes\", \"israel_readon\", \"city_reflexion\", \"nikon_nikon\", \"nikoncanada_vatican\", \"vatican_rome\", \"mm_store\", \"beautiful_israel\", \"viajar\", \"insurance_need\", \"familytravel\", \"voyager\", \"de\", \"holiday\", \"ttot\", \"owl_house\", \"bed_breakfasts\", \"rent_hightown\", \"guest_room\", \"de_celeste\", \"love_chalet\", \"south_lake\", \"chalets_rent\", \"beach_condominiums\", \"condo_steps\", \"cozy_san\", \"diego\", \"tahoe\", \"rent\", \"modern_houses\", \"argentina\", \"mid_century\", \"palm_springs\", \"en_argentina\", \"mi_experiencia\", \"going_paris\", \"offer_print\", \"ebooks_lp\", \"giveaway_week\", \"tickets_orphe\", \"wanted\", \"monday\", \"decor\", \"throwback\", \"dining\", \"abroad\", \"blueribbonbags\", \"guests\", \"giftidea_gift\", \"love\", \"holiday_meal\", \"cityofallseasons_hermevsiminkenti\", \"win_u\", \"planning_breeze\", \"w_enter\", \"enter_win\", \"chance_win\", \"party\", \"holiday\", \"beach\", \"christmas\", \"italy\", \"latest\", \"daily_thanks\", \"beautiful_israel\", \"thanks\", \"traveltuesday\", \"reet_ennet\", \"photography_helena\", \"travelpics_travelblogger\", \"ttot\", \"touri\", \"jerusalem\", \"rt\", \"addicts_stop\", \"shadowfax_marcwainwright\", \"bars_rotterdam\", \"best_cocktail\", \"causing_stir\", \"yacht_cruise\", \"fashion_food\", \"cover_beauty\", \"events_influencermarketing\", \"today_beautyreview\", \"tourism_frizemedia\", \"vr\", \"viajes_viaja\", \"instead\", \"inspiration_holidays\", \"driving\", \"station\", \"countdown_traditions\", \"fave_easy\", \"got_little\", \"awesomemoment_ad\", \"help_year\", \"cruise_ship\", \"historical\", \"feedly\", \"lasvegas\", \"cocktail\", \"giftguide\", \"step\", \"pandora_charms\", \"youtube\", \"simple_holiday\", \"healthy_broccoli\", \"chicken_casserole\", \"goodness_community\", \"photo_proof\", \"sup\", \"water_warrior\", \"contact\", \"roadtrip\", \"million\", \"travelpix\", \"photo_popular\", \"cheer\", \"holidays\", \"romance\", \"check\", \"holiday_season\", \"adventure\", \"photos\", \"tips\", \"holiday\", \"rt\", \"guide\", \"lp\", \"vacation\", \"world\", \"ttot\", \"holiday_lip\", \"best\", \"traveller\", \"lighthouses_rent\", \"love_wings\", \"neck_lighthouse\", \"pocasset\", \"bundle_check\", \"life\", \"japan_japantravel\", \"tourism\", \"time\", \"cruise\", \"japan\", \"christmas\", \"latest\", \"city\", \"wine_winelover\", \"best_wine\", \"napa_thrillist\", \"trips_california\", \"frizemedia\", \"canda_country\", \"mediterranean_coast\", \"spain_italy\", \"visitcapri_palmademallorca\", \"visitspain_visititaly\", \"jungle_olivier\", \"symon\", \"campers_rvs\", \"wagon_heart\", \"love_hand\", \"crafted_gypsy\", \"rent_seattle\", \"breaking_news\", \"tulip_rainbow\", \"news_week\", \"berlin_killing\", \"germa\", \"injuring\", \"truck_plows\", \"stop\", \"taiwan_university\", \"baby_prize\", \"bundle_trv\", \"winner_giveaway\", \"bull_wants\", \"bloom_planted\", \"magnificent\", \"holiday_baking\", \"lighthouses_rent\", \"love_wings\", \"neck_lighthouse\", \"pocasset\", \"places_world\", \"gifts_prizes\", \"rsvp_twitterparty\", \"tour\", \"discover_sponsors\", \"keukenhof\", \"wine\", \"tulipsinholland_spring\", \"beautiful\", \"nature\", \"photography\", \"stunning\", \"germany\", \"jerusalem\", \"lp\", \"holiday\", \"japan_japantravel\", \"vacation\", \"latest\", \"world\", \"bed_breakfasts\", \"owl_house\", \"guest_room\", \"rent_hightown\", \"rt\", \"viet_bamboo\", \"cheap_flights\", \"brings_amazing\", \"packages_book\", \"steemit\", \"lights_extravaganza\", \"nyc_brooklyn\", \"related_project\", \"need_watch\", \"bay_mydayinla\", \"fireball_sunset\", \"sinks_santamonica\", \"ilovela_mondaymotivation\", \"california_b\", \"ryokou\", \"advice_services\", \"square\", \"rio_de\", \"information\", \"gingerbread\", \"feature\", \"etsy\", \"shop_online\", \"true\", \"enter_chance\", \"cheapest\", \"vietnam\", \"buche_de\", \"holiday_yulelog\", \"noel_ganache\", \"cake_ganache\", \"ad_recipe\", \"holiday_payday\", \"post\", \"memories_win\", \"drone_cameras\", \"steemit_steemit\", \"sweeps\", \"shopping_lastminute\", \"periscope_christmas\", \"tis_season\", \"win\", \"drea\", \"change_lives\", \"check_unique\", \"yummy\", \"gift_ideas\", \"blossoming_nature\", \"loyalty\", \"daily_thanks\", \"latest\", \"rt\", \"tourism\", \"way\", \"holiday\", \"vacation\", \"lighthouses_rent\", \"love_wings\", \"neck_lighthouse\", \"pocasset\", \"great\", \"photography\", \"christmas\", \"traveller\", \"world\", \"love\", \"japan_japantravel\"], \"Freq\": [1754.0, 1713.0, 1233.0, 1233.0, 1233.0, 1111.0, 1110.0, 1111.0, 1350.0, 549.0, 535.0, 453.0, 453.0, 453.0, 453.0, 453.0, 406.0, 406.0, 406.0, 406.0, 404.0, 404.0, 404.0, 404.0, 405.0, 548.0, 598.0, 272.0, 272.0, 272.0, 1232.9906209376904, 1232.9906209376904, 1232.9906209376904, 1736.1942611408676, 1691.8484686019344, 1095.821097294066, 1095.7065403390077, 1095.3902370515893, 16.21105169682831, 14.986524982901138, 11.72002748546467, 9.074492357047735, 9.074492357047735, 9.074492357047735, 9.074492357047735, 8.455891964020744, 8.365676235014586, 8.241821378253025, 38.80322221278917, 7.163509373913498, 6.78541970502193, 6.2371933232438375, 43.64004306772075, 43.63959529976008, 43.64099681347698, 15.737229237945161, 15.738178506021786, 15.737102743496273, 15.735392269886507, 5.973081869321317, 6.05903372792198, 15.053471890121047, 1048.268641370861, 308.8765363798266, 308.8376342994035, 308.77623635663616, 308.53623272971623, 18.054325447789598, 15.515296406498003, 15.302137588240202, 15.514000118251857, 15.50818025418303, 17.171687482553597, 17.166927709131656, 17.14518073870174, 46.49398171865315, 29.72514995089587, 27.854276902258693, 19.529777968617413, 19.2442027575001, 16.397155255482435, 16.781269642284837, 16.51036778723873, 54.26554474212167, 266.059622155519, 266.059622155519, 266.059622155519, 266.059622155519, 25.828499075983075, 18.93521297087149, 18.93521297087149, 17.749863759569138, 20.892687800550814, 20.891305249048234, 20.889399262408876, 12.03058671938175, 12.02961950228118, 16.725167412167384, 16.7245529448329, 16.723707103995935, 16.722946605844307, 12.458757609519179, 12.460029215530811, 12.454861241807176, 11.399321099669882, 11.38395088203935, 10.735473539197628, 9.87799670120769, 9.859914482687325, 9.627285494471355, 9.063675762692315, 8.978092221324799, 8.978763583782843, 477.19423957072286, 53.00937627401639, 15.013981141619436, 46.406113061266964, 46.40479688740854, 46.40369312201142, 471.316867102439, 34.54001678187013, 34.53317040200139, 34.48837876772439, 148.27512494702972, 148.22369175532882, 148.22369175532882, 38.47623004540837, 21.296125432223366, 59.08412551195658, 59.08412551195658, 59.08412551195658, 59.08412551195658, 58.73675802455532, 119.62153454410641, 41.03594544751392, 41.199253417180785, 64.2879166123786, 23.363580432254, 40.98401157872566, 86.77569144258685, 51.82415223198587, 43.5222699332315, 43.4797010017817, 43.43820169865488, 43.3882477801666, 404.08513538251265, 404.0835449088348, 404.07700296049967, 404.0780832822431, 405.70186688047806, 405.70186688047806, 405.70186688047806, 405.70186688047806, 403.88683632472043, 542.1345595173779, 261.03103074444203, 37.67237590668041, 260.9652211449054, 521.8959920297706, 21.150306523413494, 21.150306523413494, 13.522842085344957, 12.658379316944155, 12.656243055718884, 11.667822745053542, 11.667822745053542, 11.135510148231264, 10.179059671380967, 9.336847592221593, 8.709526699852985, 8.593499957053814, 7.819948326476248, 7.691516170323923, 7.709826310983885, 7.480307173919911, 270.2381928384887, 14.081191186407093, 14.951326581740142, 13.396600112727144, 13.396610428299347, 13.394494798218483, 20.98598133378154, 22.77908098303603, 29.227872198965194, 163.99786714816395, 260.38928961991326, 77.47158273007874, 34.546795040404994, 73.25844796648981, 42.392117798941534, 42.40234334433238, 35.86615297402538, 27.33298786100643, 39.89710347916144, 39.84887161465833, 39.771144715889555, 34.398164524989944, 41.18827551840663, 39.786314233703415, 33.9433603243616, 43.2204545346906, 16.060587562659045, 15.365921673852013, 15.365921673852013, 15.365921673852013, 20.427623106605605, 20.427079219172057, 20.42494537326664, 20.423758551806216, 28.254865289800914, 13.047473770381423, 12.056020846470355, 11.417828023626797, 11.07794268797786, 12.092882686954553, 10.837140436508781, 10.497321131922064, 11.428419927304711, 11.428396468901028, 11.428404288368922, 11.022809357513635, 11.02232889465301, 11.812858853356685, 9.395062003797827, 9.280443374571233, 12.965758593224903, 8.474409148692397, 8.363713285859516, 11.482825178424987, 7.940613172877857, 32.44932517731699, 18.37912408676577, 18.377900774455174, 18.3751900255851, 18.373730391578135, 21.935694373026642, 21.862052362056257, 21.20321701280112, 22.02382151385661, 15.90287237054708, 22.3349946322269, 72.74635869179836, 72.66979741281405, 22.35803773528207, 54.37580126652585, 30.261378980026155, 40.62978141360221, 68.57312605312642, 62.30197535752172, 29.630302741796314, 47.65625795462001, 149.5653603872745, 87.74047683088607, 43.139149445183655, 61.37055509512563, 74.60008693000421, 60.38420393960081, 63.977517036667926, 26.298347539633248, 47.2648640462908, 46.26804870506368, 72.50025049694801, 72.50025049694801, 72.50025049694801, 72.50025049694801, 26.29731536987118, 33.09635313005151, 44.16114694834997, 42.79865505986872, 35.444587993221354, 28.965752230340097, 33.506757033661884, 34.68751406231896, 35.459455408178, 30.984565074733542, 32.89977563546053, 30.821654328347332, 30.821654328347332, 30.821654328347332, 27.9471479649359, 16.988530306230995, 15.560405282923904, 14.646615727278387, 14.353113874413348, 14.353113874413348, 13.395548961222415, 13.394601723675482, 425.5071008013971, 425.498327109709, 425.5201110108785, 425.5018256534351, 425.4990924161491, 12.4933551647628, 34.65821067650871, 11.676742444274787, 11.038420500226552, 11.038420500226552, 11.038420500226552, 11.038420500226552, 10.591455915118532, 10.338048090829313, 9.562328870823277, 8.889388768274413, 8.886157569320359, 9.04038987868668, 13.576832632490376, 18.538137477261436, 14.143751314851539, 265.7955731442073, 265.7955731442073, 265.7955731442073, 265.7955731442073, 28.90655695915824, 18.95617757879025, 18.95049415350865, 93.85127801923964, 18.611557355583596, 33.10073349036786, 44.12223268938405, 41.04300172843051, 53.562267128528035, 52.91186598394894, 66.45417526710705, 18.533402143663423, 21.826935990573237, 64.61292313629275, 38.22963959138044, 58.47329321928628, 37.77247148982908, 39.08035969665126, 40.46724187758576, 31.57687170629833, 32.691612283757955, 32.30824158892889, 32.30791018390796, 32.28274048505041, 31.026103893887537, 129.19351213670654, 136.27157297509126, 54.46026071224718, 54.46026071224718, 54.924802284520055, 15.908315367632074, 15.869918056920898, 18.550351730180193, 14.449886219178232, 10.656516019262966, 10.656373317738703, 10.655302648588096, 10.655076772461122, 10.263536407377066, 10.48342559383124, 9.718777823411388, 9.766444209701351, 9.595701428203059, 9.531566470575964, 9.26838979603347, 20.983923182587922, 9.33645271504554, 9.125012274264966, 8.977569797648195, 50.88907923191991, 8.327963918902077, 143.50793302205864, 29.21267855551111, 29.213820167705208, 29.212234957629978, 29.209119987214656, 29.209410282886868, 46.27477407235483, 78.28347290490301, 23.16778816890622, 22.694787250275084, 17.492542025502605, 49.735105008635266, 25.609213913209338, 17.01194938578072, 36.33968520128048, 55.635596130557936, 16.178600208957384, 16.178655658692527, 16.17779129517414, 29.492239811350743, 27.697791791435478, 21.704957290006856, 44.46280067438561, 71.33035662853851, 102.50346709348837, 87.6320829743784, 59.93466628409241, 32.98440868084999, 113.97314695510846, 68.73787928221071, 78.72865599611312, 78.72865599611312, 78.72865599611312, 78.72865599611312, 39.86518914684736, 48.83372716116568, 49.00527233294897, 40.81702299154691, 37.62743680321855, 40.9481485681609, 36.2725747130132], \"Total\": [1754.0, 1713.0, 1233.0, 1233.0, 1233.0, 1111.0, 1110.0, 1111.0, 1350.0, 549.0, 535.0, 453.0, 453.0, 453.0, 453.0, 453.0, 406.0, 406.0, 406.0, 406.0, 404.0, 404.0, 404.0, 404.0, 405.0, 548.0, 598.0, 272.0, 272.0, 272.0, 1233.8433932765613, 1233.8433932765613, 1233.8433932765613, 1754.9104180928543, 1713.4934168683906, 1111.081330111652, 1110.986450263779, 1111.0126524056125, 17.066165308257066, 15.843055942161007, 12.796887681270395, 9.934433871293315, 9.934433871293315, 9.934433871293315, 9.934433871293315, 9.318137169970768, 9.22933299277466, 9.145417125048505, 43.083319608422855, 8.030358140994583, 7.649182545122113, 7.094070903455032, 49.684728290248685, 49.6883278246542, 49.69090400806185, 17.96560416480872, 17.966845091770338, 17.967436152687505, 17.96660438260629, 6.827299375754079, 6.925782766904711, 17.476737964840076, 1350.268087836139, 408.7763992494976, 408.8196836296882, 408.73584672311546, 409.0248752081936, 22.08538595434784, 19.308231497410397, 21.494506719797037, 22.482883007560353, 22.49033214692584, 27.65762487245525, 27.671068668585686, 27.66350555095046, 619.2793408710731, 268.92365977985236, 319.1964918083878, 180.50932609406698, 179.29732577077232, 59.75310155658765, 280.9013683487374, 215.93938182787016, 55.441071307260245, 272.5837945828129, 272.5837945828129, 272.5837945828129, 272.5837945828129, 26.607535860801846, 19.72348002463511, 19.72348002463511, 18.842543546173538, 22.236959739955452, 22.235954243488486, 22.235153126172463, 12.806127353177367, 12.805594112895896, 17.81811631720016, 17.817687678821912, 17.817225590537607, 17.817072324640083, 13.280033237786053, 13.28247511134318, 13.27954773764464, 12.17986720107952, 12.167133201558244, 11.51179117601225, 10.660611863991804, 10.643484808709484, 10.412642827224198, 9.845795309319694, 9.757308355662389, 9.762150683172878, 548.5012713715914, 58.94326359506234, 16.548728974084977, 53.210014188298096, 53.209465006998066, 53.210370483396325, 598.80200157959, 41.45717905071417, 41.44958965759107, 41.444268715404405, 235.0653347412125, 235.29616480239537, 235.31737898895904, 50.31467224640321, 24.98182631584492, 84.76516705070343, 84.76516705070343, 84.76516705070343, 84.76516705070343, 84.41691130251428, 211.91876996627298, 60.508696309565856, 64.67502386255981, 135.82481425055903, 28.21465340135287, 96.2780876667271, 619.2793408710731, 221.94253375346884, 408.8196836296882, 409.0248752081936, 408.7763992494976, 408.73584672311546, 404.94339359891757, 404.9422067138621, 404.9381975024897, 404.94078095505375, 406.61670636195396, 406.61670636195396, 406.61670636195396, 406.61670636195396, 405.2474866451231, 549.2111318332941, 266.69014863625495, 38.5218723696174, 267.0292955873057, 535.3066869579092, 22.06798263114701, 22.06798263114701, 14.368115462244093, 13.531002467149722, 13.529966117686794, 12.51127792367433, 12.51127792367433, 11.982013824973356, 11.031596708346136, 10.187638579960815, 9.57735199242969, 9.452909678273016, 8.668558149562555, 8.534467689114726, 8.575594219166986, 8.324806360964184, 354.69006548665806, 16.679844544273323, 17.96846872188759, 16.00833124553475, 16.00860888414042, 16.008590548457583, 30.847487799206924, 34.839813818684455, 49.8125722447555, 619.2793408710731, 1350.268087836139, 235.8433942019211, 81.97222250313979, 319.1964918083878, 177.06889558500023, 211.91876996627298, 144.7537137928059, 87.21354887875749, 235.31737898895904, 235.29616480239537, 235.0653347412125, 221.94253375346884, 548.5012713715914, 598.80200157959, 280.9013683487374, 44.061799282291155, 16.883371877926105, 16.189633505132022, 16.189633505132022, 16.189633505132022, 21.5544884841689, 21.554031673869872, 21.55334723281506, 21.553287606248777, 30.037184061963746, 13.883966271692861, 12.880311803642881, 12.245982056036555, 11.90000942686396, 13.004843555889508, 11.659752723284281, 11.326817376854597, 12.34948464690911, 12.349470918339732, 12.34948569817664, 11.944155905042157, 11.943881733663833, 12.834119093554087, 10.22643247003644, 10.15634958131623, 14.19789109931486, 9.305720795842348, 9.191520046520495, 12.660263701803835, 8.763173757829367, 36.11174864495921, 20.372500200229705, 20.37177094600807, 20.37121163769726, 20.370602535384126, 24.967737391663892, 24.907215197941873, 24.258574941765232, 25.919231579640574, 18.139546970478186, 26.99107691946252, 108.376338876828, 109.08487449952364, 28.701341539564993, 88.53719169164565, 45.61438829590817, 69.14989095665943, 145.7139222272765, 135.09698533207634, 46.57676999697035, 98.0872927481553, 619.2793408710731, 280.9013683487374, 93.97304117410607, 180.50932609406698, 268.92365977985236, 183.1612142207902, 221.94253375346884, 40.289370552607195, 134.99860677469576, 145.46666194358104, 418.67285803758443, 418.67285803758443, 418.67285803758443, 418.67285803758443, 40.29187942582029, 75.42807908011865, 179.29732577077232, 169.1339818314739, 100.41809931217585, 57.18605770389067, 129.43213780818883, 235.8433942019211, 319.1964918083878, 104.17497680391567, 33.725402711597894, 31.649243870117274, 31.649243870117274, 31.649243870117274, 28.962626875794243, 17.822370622950743, 16.38681661282455, 15.472864468738507, 15.179345826936116, 15.179345826936116, 14.227188088594621, 14.22686723334778, 453.48813881433006, 453.4840133351968, 453.52654633655914, 453.507847904306, 453.5137014698626, 13.318368757951056, 37.117594965038535, 12.510400306256589, 11.868719855778785, 11.868719855778785, 11.868719855778785, 11.868719855778785, 11.427491400119772, 11.167367218206028, 10.393810793176959, 9.719751451635133, 9.718873907762275, 9.888327707516423, 15.067539360017214, 21.181015553993852, 16.054840299913195, 418.67285803758443, 418.67285803758443, 418.67285803758443, 418.67285803758443, 36.56756483652338, 22.28578595067258, 22.284594656689283, 147.58783776080378, 21.95236393376684, 50.93615910683266, 77.13958455319388, 83.28606313972631, 128.47702446515422, 126.09387215071222, 215.93938182787016, 24.780948093809524, 38.050523035931526, 598.80200157959, 180.50932609406698, 619.2793408710731, 179.29732577077232, 268.92365977985236, 319.1964918083878, 183.1612142207902, 409.0248752081936, 408.8196836296882, 408.73584672311546, 408.7763992494976, 280.9013683487374, 130.0727281416768, 138.019178267711, 55.607568221028416, 55.607568221028416, 56.35762119312936, 16.736962937772052, 16.70085988940787, 19.52817858634261, 15.277881945908332, 11.482328828788571, 11.482328535885815, 11.481840520544669, 11.481751417751036, 11.089636999194223, 11.352093508013361, 10.547085448732686, 10.599778288785714, 10.430055598652649, 10.361431041645796, 10.097302052696755, 22.867518473948188, 10.181828008848088, 9.95562895010113, 9.81983093469096, 55.84764442164411, 9.153525417008908, 158.02625221734561, 32.19895892551458, 32.200472002382895, 32.200320561528486, 32.198731125656415, 32.199439504713546, 51.324420454855996, 91.04081851592606, 25.99334370011107, 25.528095360472577, 19.649248122527013, 60.15911941224152, 30.02864964441215, 19.55027098331476, 48.81009679308815, 81.39392482651348, 19.142847456982295, 19.14314852562357, 19.14220093135758, 40.82160187000502, 38.583531143675984, 28.875247672030447, 82.02480008782038, 177.06889558500023, 319.1964918083878, 280.9013683487374, 169.1339818314739, 61.34355927094159, 619.2793408710731, 268.92365977985236, 418.67285803758443, 418.67285803758443, 418.67285803758443, 418.67285803758443, 100.17443614316618, 215.93938182787016, 235.8433942019211, 145.46666194358104, 183.1612142207902, 354.69006548665806, 179.29732577077232], \"Category\": [\"Default\", \"Default\", \"Default\", \"Default\", \"Default\", \"Default\", \"Default\", \"Default\", \"Default\", \"Default\", \"Default\", \"Default\", \"Default\", \"Default\", \"Default\", \"Default\", \"Default\", \"Default\", \"Default\", \"Default\", \"Default\", \"Default\", \"Default\", \"Default\", \"Default\", \"Default\", \"Default\", \"Default\", \"Default\", \"Default\", \"Topic1\", \"Topic1\", \"Topic1\", \"Topic1\", \"Topic1\", \"Topic1\", \"Topic1\", \"Topic1\", \"Topic1\", \"Topic1\", \"Topic1\", \"Topic1\", \"Topic1\", \"Topic1\", \"Topic1\", \"Topic1\", \"Topic1\", \"Topic1\", \"Topic1\", \"Topic1\", \"Topic1\", \"Topic1\", \"Topic1\", \"Topic1\", \"Topic1\", \"Topic1\", \"Topic1\", \"Topic1\", \"Topic1\", \"Topic1\", \"Topic1\", \"Topic1\", \"Topic1\", \"Topic1\", \"Topic1\", \"Topic1\", \"Topic1\", \"Topic1\", \"Topic1\", \"Topic1\", \"Topic1\", \"Topic1\", \"Topic1\", \"Topic1\", \"Topic1\", \"Topic1\", \"Topic1\", \"Topic1\", \"Topic1\", \"Topic1\", \"Topic1\", \"Topic1\", \"Topic1\", \"Topic2\", \"Topic2\", \"Topic2\", \"Topic2\", \"Topic2\", \"Topic2\", \"Topic2\", \"Topic2\", \"Topic2\", \"Topic2\", \"Topic2\", \"Topic2\", \"Topic2\", \"Topic2\", \"Topic2\", \"Topic2\", \"Topic2\", \"Topic2\", \"Topic2\", \"Topic2\", \"Topic2\", \"Topic2\", \"Topic2\", \"Topic2\", \"Topic2\", \"Topic2\", \"Topic2\", \"Topic2\", \"Topic2\", \"Topic2\", \"Topic2\", \"Topic2\", \"Topic2\", \"Topic2\", \"Topic2\", \"Topic2\", \"Topic2\", \"Topic2\", \"Topic2\", \"Topic2\", \"Topic2\", \"Topic2\", \"Topic2\", \"Topic2\", \"Topic2\", \"Topic2\", \"Topic2\", \"Topic2\", \"Topic2\", \"Topic2\", \"Topic2\", \"Topic2\", \"Topic2\", \"Topic2\", \"Topic2\", \"Topic2\", \"Topic2\", \"Topic2\", \"Topic2\", \"Topic2\", \"Topic2\", \"Topic2\", \"Topic3\", \"Topic3\", \"Topic3\", \"Topic3\", \"Topic3\", \"Topic3\", \"Topic3\", \"Topic3\", \"Topic3\", \"Topic3\", \"Topic3\", \"Topic3\", \"Topic3\", \"Topic3\", \"Topic3\", \"Topic3\", \"Topic3\", \"Topic3\", \"Topic3\", \"Topic3\", \"Topic3\", \"Topic3\", \"Topic3\", \"Topic3\", \"Topic3\", \"Topic3\", \"Topic3\", \"Topic3\", \"Topic3\", \"Topic3\", \"Topic3\", \"Topic3\", \"Topic3\", \"Topic3\", \"Topic3\", \"Topic3\", \"Topic3\", \"Topic3\", \"Topic3\", \"Topic3\", \"Topic3\", \"Topic3\", \"Topic3\", \"Topic3\", \"Topic3\", \"Topic3\", \"Topic3\", \"Topic3\", \"Topic3\", \"Topic3\", \"Topic3\", \"Topic3\", \"Topic3\", \"Topic3\", \"Topic3\", \"Topic4\", \"Topic4\", \"Topic4\", \"Topic4\", \"Topic4\", \"Topic4\", \"Topic4\", \"Topic4\", \"Topic4\", \"Topic4\", \"Topic4\", \"Topic4\", \"Topic4\", \"Topic4\", \"Topic4\", \"Topic4\", \"Topic4\", \"Topic4\", \"Topic4\", \"Topic4\", \"Topic4\", \"Topic4\", \"Topic4\", \"Topic4\", \"Topic4\", \"Topic4\", \"Topic4\", \"Topic4\", \"Topic4\", \"Topic4\", \"Topic4\", \"Topic4\", \"Topic4\", \"Topic4\", \"Topic4\", \"Topic4\", \"Topic4\", \"Topic4\", \"Topic4\", \"Topic4\", \"Topic4\", \"Topic4\", \"Topic4\", \"Topic4\", \"Topic4\", \"Topic4\", \"Topic4\", \"Topic4\", \"Topic4\", \"Topic4\", \"Topic4\", \"Topic4\", \"Topic4\", \"Topic4\", \"Topic4\", \"Topic4\", \"Topic4\", \"Topic4\", \"Topic4\", \"Topic4\", \"Topic4\", \"Topic4\", \"Topic4\", \"Topic4\", \"Topic4\", \"Topic4\", \"Topic4\", \"Topic4\", \"Topic4\", \"Topic4\", \"Topic4\", \"Topic4\", \"Topic4\", \"Topic4\", \"Topic4\", \"Topic5\", \"Topic5\", \"Topic5\", \"Topic5\", \"Topic5\", \"Topic5\", \"Topic5\", \"Topic5\", \"Topic5\", \"Topic5\", \"Topic5\", \"Topic5\", \"Topic5\", \"Topic5\", \"Topic5\", \"Topic5\", \"Topic5\", \"Topic5\", \"Topic5\", \"Topic5\", \"Topic5\", \"Topic5\", \"Topic5\", \"Topic5\", \"Topic5\", \"Topic5\", \"Topic5\", \"Topic5\", \"Topic5\", \"Topic5\", \"Topic5\", \"Topic5\", \"Topic5\", \"Topic5\", \"Topic5\", \"Topic5\", \"Topic5\", \"Topic5\", \"Topic5\", \"Topic5\", \"Topic5\", \"Topic5\", \"Topic5\", \"Topic5\", \"Topic5\", \"Topic5\", \"Topic5\", \"Topic5\", \"Topic5\", \"Topic5\", \"Topic5\", \"Topic5\", \"Topic5\", \"Topic5\", \"Topic5\", \"Topic5\", \"Topic5\", \"Topic5\", \"Topic5\", \"Topic5\", \"Topic5\", \"Topic5\", \"Topic6\", \"Topic6\", \"Topic6\", \"Topic6\", \"Topic6\", \"Topic6\", \"Topic6\", \"Topic6\", \"Topic6\", \"Topic6\", \"Topic6\", \"Topic6\", \"Topic6\", \"Topic6\", \"Topic6\", \"Topic6\", \"Topic6\", \"Topic6\", \"Topic6\", \"Topic6\", \"Topic6\", \"Topic6\", \"Topic6\", \"Topic6\", \"Topic6\", \"Topic6\", \"Topic6\", \"Topic6\", \"Topic6\", \"Topic6\", \"Topic6\", \"Topic6\", \"Topic6\", \"Topic6\", \"Topic6\", \"Topic6\", \"Topic6\", \"Topic6\", \"Topic6\", \"Topic6\", \"Topic6\", \"Topic6\", \"Topic6\", \"Topic6\", \"Topic6\", \"Topic6\", \"Topic6\", \"Topic6\", \"Topic6\", \"Topic6\", \"Topic6\", \"Topic6\", \"Topic6\", \"Topic6\", \"Topic6\", \"Topic6\", \"Topic6\", \"Topic6\", \"Topic6\", \"Topic6\", \"Topic6\", \"Topic6\", \"Topic6\", \"Topic6\", \"Topic6\", \"Topic6\", \"Topic6\"], \"logprob\": [30.0, 29.0, 28.0, 27.0, 26.0, 25.0, 24.0, 23.0, 22.0, 21.0, 20.0, 19.0, 18.0, 17.0, 16.0, 15.0, 14.0, 13.0, 12.0, 11.0, 10.0, 9.0, 8.0, 7.0, 6.0, 5.0, 4.0, 3.0, 2.0, 1.0, -2.7471, -2.7471, -2.7471, -2.4049, -2.4307, -2.865, -2.8651, -2.8654, -7.0786, -7.1572, -7.403, -7.6588, -7.6588, -7.6588, -7.6588, -7.7294, -7.7402, -7.7551, -6.2058, -7.8953, -7.9495, -8.0338, -6.0883, -6.0883, -6.0883, -7.1083, -7.1082, -7.1083, -7.1084, -8.077, -8.0628, -7.1527, -2.9094, -4.1314, -4.1315, -4.1317, -4.1325, -6.9709, -7.1225, -7.1363, -7.1226, -7.1229, -7.021, -7.0213, -7.0226, -6.025, -6.4723, -6.5373, -6.8924, -6.9071, -7.0672, -7.044, -7.0603, -5.7045, -4.1146, -4.1146, -4.1146, -4.1146, -6.4469, -6.7573, -6.7573, -6.822, -6.659, -6.659, -6.6591, -7.2109, -7.211, -6.8814, -6.8815, -6.8815, -6.8816, -7.1759, -7.1758, -7.1762, -7.2648, -7.2662, -7.3248, -7.408, -7.4099, -7.4338, -7.4941, -7.5036, -7.5035, -3.5304, -5.7279, -6.9894, -5.8609, -5.861, -5.861, -3.5428, -6.1562, -6.1564, -6.1577, -4.6993, -4.6996, -4.6996, -6.0483, -6.6398, -5.6194, -5.6194, -5.6194, -5.6194, -5.6253, -4.914, -5.9839, -5.9799, -5.535, -6.5472, -5.9852, -5.235, -5.7505, -5.9251, -5.9261, -5.927, -5.9282, -3.6856, -3.6856, -3.6856, -3.6856, -3.6816, -3.6816, -3.6816, -3.6816, -3.6861, -3.3917, -4.1226, -6.0583, -4.1229, -3.4298, -6.6356, -6.6356, -7.0829, -7.1489, -7.1491, -7.2304, -7.2304, -7.2771, -7.3669, -7.4533, -7.5228, -7.5362, -7.6306, -7.6471, -7.6448, -7.675, -4.0879, -7.0424, -6.9825, -7.0923, -7.0923, -7.0924, -6.6434, -6.5614, -6.3121, -4.5874, -4.1251, -5.3373, -6.1449, -5.3933, -5.9403, -5.94, -6.1075, -6.3792, -6.0009, -6.0022, -6.0041, -6.1492, -5.9691, -6.0037, -6.1626, -5.8446, -6.8345, -6.8787, -6.8787, -6.8787, -6.594, -6.594, -6.5941, -6.5942, -6.2696, -7.0423, -7.1213, -7.1757, -7.2059, -7.1183, -7.2279, -7.2598, -7.1748, -7.1748, -7.1748, -7.2109, -7.211, -7.1417, -7.3707, -7.383, -7.0486, -7.4738, -7.487, -7.17, -7.5389, -6.1312, -6.6997, -6.6997, -6.6999, -6.7, -6.5228, -6.5261, -6.5567, -6.5188, -6.8444, -6.5047, -5.3239, -5.325, -6.5037, -5.615, -6.201, -5.9064, -5.383, -5.4789, -6.2221, -5.7469, -4.6032, -5.1365, -5.8465, -5.494, -5.2987, -5.5102, -5.4524, -6.3414, -5.7551, -5.7764, -5.3273, -5.3273, -5.3273, -5.3273, -6.3414, -6.1115, -5.823, -5.8544, -6.0429, -6.2448, -6.0991, -6.0645, -6.0425, -6.1774, -6.1004, -6.1656, -6.1656, -6.1656, -6.2635, -6.7613, -6.8491, -6.9096, -6.9299, -6.9299, -6.9989, -6.999, -3.5405, -3.5406, -3.5405, -3.5406, -3.5406, -7.0686, -6.0483, -7.1362, -7.1924, -7.1924, -7.1924, -7.1924, -7.2338, -7.258, -7.336, -7.409, -7.4093, -7.3921, -6.9855, -6.674, -6.9446, -4.0111, -4.0111, -4.0111, -4.0111, -6.2298, -6.6517, -6.652, -5.0521, -6.67, -6.0943, -5.8069, -5.8792, -5.613, -5.6252, -5.3973, -6.6743, -6.5107, -5.4254, -5.9502, -5.5253, -5.9622, -5.9282, -5.8933, -6.1414, -6.1067, -6.1185, -6.1185, -6.1193, -6.159, -4.6862, -4.6328, -5.55, -5.55, -5.5415, -6.7806, -6.783, -6.627, -6.8768, -7.1813, -7.1813, -7.1814, -7.1814, -7.2189, -7.1977, -7.2734, -7.2685, -7.2861, -7.2929, -7.3209, -6.5037, -7.3135, -7.3364, -7.3527, -5.6178, -7.4278, -4.5811, -6.1729, -6.1728, -6.1729, -6.173, -6.173, -5.7129, -5.1871, -6.4047, -6.4253, -6.6857, -5.6408, -6.3045, -6.7135, -5.9546, -5.5286, -6.7638, -6.7638, -6.7638, -6.1633, -6.2261, -6.4699, -5.7528, -5.2801, -4.9176, -5.0743, -5.4542, -6.0514, -4.8115, -5.3172, -5.1815, -5.1815, -5.1815, -5.1815, -5.862, -5.659, -5.6555, -5.8384, -5.9197, -5.8352, -5.9564], \"loglift\": [30.0, 29.0, 28.0, 27.0, 26.0, 25.0, 24.0, 23.0, 22.0, 21.0, 20.0, 19.0, 18.0, 17.0, 16.0, 15.0, 14.0, 13.0, 12.0, 11.0, 10.0, 9.0, 8.0, 7.0, 6.0, 5.0, 4.0, 3.0, 2.0, 1.0, 1.5992, 1.5992, 1.5992, 1.5892, 1.5872, 1.586, 1.586, 1.5857, 1.5485, 1.5443, 1.512, 1.5093, 1.5093, 1.5093, 1.5093, 1.5028, 1.5016, 1.4958, 1.4952, 1.4857, 1.4801, 1.4712, 1.4702, 1.4701, 1.4701, 1.4674, 1.4674, 1.4673, 1.4673, 1.4662, 1.4662, 1.4506, 1.3467, 1.3197, 1.3194, 1.3194, 1.3179, 1.3983, 1.3812, 1.2601, 1.2289, 1.2282, 1.1232, 1.1225, 1.1215, -0.9894, -0.6026, -0.8389, -0.624, -0.632, 0.3068, -1.2179, -0.9711, 1.7444, 1.7416, 1.7416, 1.7416, 1.7416, 1.7361, 1.725, 1.725, 1.7061, 1.7035, 1.7034, 1.7034, 1.7034, 1.7033, 1.7025, 1.7025, 1.7025, 1.7024, 1.702, 1.7019, 1.7017, 1.6996, 1.6993, 1.696, 1.6896, 1.6894, 1.6874, 1.6831, 1.6826, 1.6822, 1.6266, 1.6597, 1.6685, 1.629, 1.629, 1.629, 1.5264, 1.5833, 1.5833, 1.5821, 1.305, 1.3037, 1.3036, 1.4976, 1.6062, 1.4049, 1.4049, 1.4049, 1.4049, 1.4031, 1.194, 1.3775, 1.3149, 1.0178, 1.5772, 0.9118, -0.1994, 0.3113, -0.4742, -0.4757, -0.476, -0.4771, 1.7748, 1.7748, 1.7748, 1.7748, 1.7747, 1.7747, 1.7747, 1.7747, 1.7736, 1.764, 1.7555, 1.7546, 1.754, 1.7516, 1.7345, 1.7345, 1.7163, 1.7103, 1.7102, 1.7071, 1.7071, 1.7037, 1.6965, 1.6897, 1.6819, 1.6816, 1.6739, 1.6729, 1.6705, 1.67, 1.505, 1.6076, 1.5931, 1.5988, 1.5988, 1.5986, 1.3917, 1.352, 1.2438, 0.4482, 0.1311, 0.6637, 0.9129, 0.3051, 0.3474, 0.1679, 0.3817, 0.6167, 0.0023, 0.0012, 0.0002, -0.0875, -0.8121, -0.9345, -0.3364, 1.834, 1.8033, 1.8011, 1.8011, 1.8011, 1.7996, 1.7996, 1.7995, 1.7995, 1.7921, 1.7912, 1.7872, 1.7833, 1.7817, 1.7806, 1.7801, 1.7772, 1.7758, 1.7758, 1.7758, 1.773, 1.773, 1.7704, 1.7685, 1.7631, 1.7625, 1.7597, 1.7589, 1.7557, 1.7547, 1.7464, 1.7503, 1.7503, 1.7502, 1.7501, 1.7238, 1.7229, 1.7187, 1.6904, 1.7217, 1.6639, 1.4547, 1.4471, 1.6035, 1.3658, 1.4429, 1.3215, 1.0996, 1.0793, 1.401, 1.1315, 0.4325, 0.6897, 1.0747, 0.7744, 0.571, 0.7437, 0.6094, 1.4267, 0.8038, 0.7078, 0.0998, 0.0998, 0.0998, 0.0998, 1.4266, 1.0295, 0.4521, 0.4791, 0.8119, 1.1731, 0.5019, -0.0635, -0.3441, 0.6407, 1.8456, 1.8439, 1.8439, 1.8439, 1.8347, 1.8224, 1.8186, 1.8155, 1.8144, 1.8144, 1.8101, 1.8101, 1.8067, 1.8067, 1.8066, 1.8066, 1.8066, 1.8064, 1.8018, 1.8014, 1.7978, 1.7978, 1.7978, 1.7978, 1.7944, 1.7932, 1.787, 1.7811, 1.7808, 1.7807, 1.7662, 1.7371, 1.7436, 1.416, 1.416, 1.416, 1.416, 1.6353, 1.7085, 1.7083, 1.4176, 1.7053, 1.4393, 1.3117, 1.1627, 0.9954, 1.002, 0.6919, 1.5799, 1.3146, -0.3562, 0.3182, -0.4896, 0.3129, -0.0585, -0.195, 0.1124, -0.6563, -0.6676, -0.6674, -0.6683, -0.3328, 1.9099, 1.904, 1.8959, 1.8959, 1.891, 1.8659, 1.8657, 1.8654, 1.861, 1.8421, 1.8421, 1.842, 1.842, 1.8393, 1.8371, 1.8349, 1.8348, 1.8333, 1.8332, 1.8311, 1.8308, 1.83, 1.8296, 1.827, 1.8237, 1.8222, 1.8203, 1.8194, 1.8194, 1.8193, 1.8193, 1.8193, 1.8132, 1.7657, 1.8016, 1.7991, 1.8005, 1.7264, 1.7575, 1.7776, 1.6217, 1.5362, 1.7485, 1.7485, 1.7485, 1.5916, 1.5852, 1.6313, 1.3044, 1.0075, 0.7808, 0.7519, 0.8793, 1.2963, 0.2241, 0.5526, 0.2456, 0.2456, 0.2456, 0.2456, 0.9953, 0.4301, 0.3455, 0.6459, 0.3341, -0.2422, 0.3187]}, \"token.table\": {\"Topic\": [3, 1, 5, 6, 4, 1, 2, 3, 4, 5, 6, 6, 1, 3, 2, 4, 5, 4, 6, 1, 2, 3, 4, 5, 6, 3, 1, 2, 3, 4, 5, 6, 1, 2, 3, 4, 5, 6, 1, 2, 4, 5, 6, 5, 1, 2, 3, 4, 5, 6, 4, 5, 5, 6, 2, 4, 6, 3, 5, 6, 1, 5, 6, 5, 3, 4, 6, 5, 1, 5, 6, 6, 1, 2, 4, 5, 6, 5, 4, 1, 3, 4, 5, 3, 1, 2, 3, 1, 3, 4, 5, 6, 4, 6, 3, 4, 6, 6, 2, 3, 4, 5, 6, 4, 6, 2, 3, 4, 5, 6, 2, 4, 6, 1, 2, 3, 4, 5, 6, 1, 2, 3, 4, 5, 6, 1, 2, 3, 4, 5, 6, 3, 4, 5, 2, 4, 1, 1, 2, 3, 5, 3, 3, 4, 5, 6, 4, 4, 3, 1, 2, 4, 5, 6, 2, 1, 2, 1, 2, 3, 4, 5, 6, 4, 1, 2, 3, 4, 5, 6, 2, 1, 2, 3, 4, 5, 6, 3, 1, 2, 6, 3, 2, 4, 3, 3, 4, 5, 6, 4, 6, 4, 5, 6, 1, 2, 3, 3, 4, 5, 6, 1, 3, 5, 6, 4, 1, 2, 3, 4, 5, 6, 4, 4, 1, 6, 4, 6, 2, 3, 4, 5, 2, 1, 5, 5, 1, 2, 4, 5, 6, 2, 3, 4, 5, 6, 4, 3, 4, 5, 6, 6, 2, 3, 3, 1, 2, 4, 6, 4, 1, 2, 3, 4, 5, 6, 2, 1, 2, 4, 5, 6, 3, 1, 2, 3, 4, 5, 6, 1, 2, 2, 4, 6, 2, 1, 4, 2, 4, 1, 2, 3, 1, 2, 3, 4, 5, 6, 1, 5, 1, 3, 4, 6, 1, 2, 3, 4, 5, 6, 1, 2, 3, 4, 5, 6, 1, 5, 6, 1, 2, 3, 4, 5, 6, 1, 2, 2, 6, 6, 5, 4, 4, 1, 2, 3, 4, 2, 3, 4, 5, 1, 2, 3, 4, 5, 6, 1, 2, 3, 4, 5, 6, 1, 2, 3, 4, 5, 6, 1, 2, 3, 4, 5, 6, 1, 2, 5, 2, 3, 5, 6, 3, 4, 1, 2, 3, 4, 5, 6, 1, 2, 3, 4, 5, 6, 2, 4, 5, 6, 6, 1, 1, 3, 5, 6, 2, 1, 2, 3, 4, 5, 6, 3, 2, 4, 1, 2, 4, 5, 6, 2, 4, 5, 6, 1, 2, 3, 5, 6, 1, 2, 3, 4, 5, 6, 1, 4, 5, 6, 2, 2, 3, 4, 5, 5, 1, 5, 6, 3, 3, 4, 5, 6, 2, 3, 4, 1, 2, 3, 5, 1, 2, 3, 4, 5, 6, 3, 4, 5, 6, 1, 2, 5, 6, 3, 2, 5, 5, 2, 1, 2, 3, 4, 5, 6, 2, 4, 5, 6, 6, 5, 1, 1, 2, 3, 4, 5, 6, 1, 2, 3, 4, 5, 6, 1, 5, 6, 1, 6, 3, 2, 1, 2, 4, 5, 6, 6, 1, 2, 5, 6, 3, 4, 5, 6, 4, 1, 2, 3, 4, 5, 6, 1, 3, 4, 6, 5, 6, 1, 2, 3, 4, 5, 6, 1, 4, 5, 1, 2, 3, 4, 5, 6, 1, 2, 3, 4, 5, 6, 2, 1, 2, 3, 4, 5, 2, 3, 4, 5, 1, 2, 3, 2, 2, 4, 5, 6, 2, 4, 1, 2, 3, 5, 6, 1, 2, 3, 4, 5, 2, 3, 4, 5, 1, 2, 3, 4, 5, 6, 6, 2, 3, 4, 5, 6, 1, 2, 4, 5, 6, 2, 4, 1, 2, 4, 5, 6, 1, 6, 2, 4, 1, 2, 3, 4, 6, 2, 4, 5, 6, 1, 2, 3, 4, 5, 6, 1, 2, 3, 4, 6, 6, 1, 3, 5, 6, 1, 2, 5, 6, 1, 2, 3, 1, 2, 4, 1, 6, 2, 3, 6, 2, 4, 6, 2, 2, 6, 1, 2, 6, 3, 5, 2, 1, 6, 4, 5, 6, 3, 6, 4, 6, 5, 1, 2, 3, 5, 2, 1, 4, 5, 1, 2, 6, 4, 5, 6, 1, 3, 4, 5, 5, 2, 3, 5, 1, 2, 3, 4, 5, 6, 3, 3, 1, 2, 1, 2, 3, 4, 5, 6, 1, 2, 3, 4, 5, 6, 1, 3, 4, 5, 6, 4, 6, 1, 2, 3, 4, 5, 6, 1, 2, 3, 4, 5, 6, 1, 2, 3, 4, 5, 6, 4, 1, 2, 3, 4, 5, 6, 1, 2, 3, 4, 5, 6, 1, 2, 3, 4, 5, 6, 1, 2, 3, 6, 1, 2, 3, 4, 5, 6, 5, 5, 6, 1, 3, 6, 1, 2, 3, 4, 5, 6, 5, 6, 2, 3, 4, 5, 6, 1, 1, 2, 3, 4, 5, 6, 1, 2, 3, 4, 5, 6, 1, 2, 3, 5, 1, 2, 3, 4, 5, 6, 1, 2, 3, 4, 5, 6, 4, 6, 1, 2, 3, 4, 5, 6, 5, 1, 3, 4, 5, 5, 2, 6, 4, 1, 2, 3, 1, 2, 4, 5, 6, 3, 1, 1, 4, 5, 1, 2, 3, 4, 5, 6, 2, 2, 1, 2, 3, 4, 5, 6, 1, 2, 3, 1, 2, 3, 4, 5, 6, 5, 5, 2, 1, 2, 3, 4, 5, 6, 4, 4, 6, 1, 2, 3, 4, 5, 6], \"Freq\": [0.922875507318793, 0.031056441210835797, 0.031056441210835797, 0.9006367951142382, 0.975902044410658, 0.051814627712036564, 0.10362925542407313, 0.06661880705833273, 0.458929559735181, 0.15544388313610968, 0.16284597280925778, 0.9481292295021254, 0.8747550702841856, 0.9864525699942611, 0.937090453922429, 0.9209524798111864, 0.9621110292448775, 0.926518811883239, 0.9579938150195392, 0.7761421672043392, 0.008146530380961576, 0.19255435445909178, 0.005184155696975548, 0.01184949873594411, 0.005924749367972055, 0.9984833226173324, 0.046700957038644145, 0.17902033531480258, 0.17123684247502854, 0.11675239259661037, 0.42030861334779734, 0.07005143555796622, 0.05190668104458448, 0.566254702304558, 0.19818914580659527, 0.0283127351152279, 0.1179697296467829, 0.033031524301099215, 0.7554552760213399, 0.10512808048193403, 0.053786459781454625, 0.08067968967218193, 0.004889678161950421, 0.9268059347313845, 0.051852386978204615, 0.1407421932265554, 0.09629729010238, 0.34815174113937386, 0.20000206405878923, 0.1629646447886431, 0.926518811883239, 0.9794862754768596, 0.9291497214966629, 0.06636783724976163, 0.17315868791120953, 0.06926347516448382, 0.761898226809322, 0.937375392516113, 0.9010112438008603, 0.9710908375881738, 0.031056904737612374, 0.031056904737612374, 0.9006502373907588, 0.9101640101550056, 0.024818896865832694, 0.64529131851165, 0.29782676238999234, 0.9259496032160317, 0.03105712445926745, 0.03105712445926745, 0.900656609318756, 0.9017427712671392, 0.002205129339467523, 0.002205129339467523, 0.011025646697337615, 0.9393850986131648, 0.04410258678935046, 0.9538573941509366, 0.926518811883239, 0.6145280455757681, 0.03614870856328048, 0.1807435428164024, 0.14459483425312192, 0.9976767443554712, 0.8150185845611827, 0.1358364307601971, 0.04527881025339904, 0.17221676416600779, 0.6601642626363632, 0.05740558805533593, 0.028702794027667965, 0.08610838208300389, 0.10447602165980958, 0.8358081732784767, 0.007245369901133122, 0.007245369901133122, 0.9853703065541046, 0.8739802027680561, 0.13015204905588157, 0.23138142054378946, 0.5929148901434604, 0.04338401635196052, 0.014461338783986841, 0.1044811935248116, 0.8358495481984928, 0.06968315391261369, 0.06968315391261369, 0.7665146930387505, 0.034841576956306845, 0.034841576956306845, 0.04908888178990216, 0.8835998722182389, 0.04908888178990216, 0.050881221586075075, 0.14840356295938564, 0.3264878385106484, 0.14840356295938564, 0.1187228503675085, 0.20776498814313987, 0.038396936795378776, 0.1631869813803598, 0.1535877471815151, 0.29757626016418554, 0.22078238657342797, 0.11519081038613632, 0.01179729875836659, 0.6960406267436288, 0.02359459751673318, 0.2123513776505986, 0.02359459751673318, 0.03539189627509977, 0.8347956763688124, 0.05565304509125416, 0.05565304509125416, 0.9771667747069782, 0.8596862269470062, 0.8457767171565503, 0.9865106813316933, 0.012601413812631117, 0.0009001009866165085, 0.0009001009866165085, 0.9984833226173324, 0.07716278138318691, 0.8487905952150561, 0.038581390691593456, 0.038581390691593456, 0.8907254281864413, 0.9279301160958385, 0.9984833226173324, 0.002205033506302207, 0.002205033506302207, 0.011025167531511037, 0.9393442736847403, 0.04410067012604415, 0.9395419056564138, 0.8582837386574766, 0.11443783182099689, 0.01748677982276727, 0.29727525698704355, 0.0524603394683018, 0.5071166148602507, 0.1049206789366036, 0.01748677982276727, 0.9350076863496598, 0.05647519270373263, 0.107302866137092, 0.23719580935567705, 0.07341775051485241, 0.11295038540746526, 0.40097386819650166, 0.9034460745762699, 0.051932896894543924, 0.4258497545352602, 0.17657184944144935, 0.15579869068363178, 0.11425237316799663, 0.08309263503127029, 0.9976703074705499, 0.885583991583096, 0.020126908899615818, 0.08050763559846327, 0.8834235656634981, 0.9758467131441568, 0.018342983329777383, 0.9984833226173324, 0.9520878022018973, 0.09110636130278553, 0.8655104323764625, 0.045553180651392765, 0.10447766480375448, 0.8358213184300358, 0.9434162336936384, 0.07834505362655367, 0.9009681167053673, 0.9059398971899678, 0.9223855260018604, 0.9608301962416591, 0.9516048816514996, 0.035811716334895, 0.0537175745023425, 0.9131987665398225, 0.03241755070977642, 0.6807685649053049, 0.25934040567821137, 0.8839277183015594, 0.9279326831885061, 0.11043637411002948, 0.47119519620279243, 0.029449699762674527, 0.16933577363537852, 0.12516122399136675, 0.08834909928802358, 0.9279006499858754, 0.8907264183815613, 0.043730149431791196, 0.9183331380676151, 0.8861451575629626, 0.9579938394570066, 0.8645078463756424, 0.03758729766850619, 0.03758729766850619, 0.05638094650275928, 0.9633188451667016, 0.9993164503038577, 0.9667631365095972, 0.9268059347313845, 0.026280847678642656, 0.10512339071457062, 0.10512339071457062, 0.5781786489301385, 0.1839659337504986, 0.12958896844825263, 0.05183558737930105, 0.025917793689650526, 0.07775338106895158, 0.7256982233102147, 0.870367464740334, 0.8408603992068419, 0.08974330115288756, 0.8525613609524318, 0.04487165057644378, 0.8913272033489688, 0.9552850418464529, 0.9591346362223423, 0.9743796976568423, 0.9467870374731497, 0.049090349598789766, 0.8836262927782158, 0.049090349598789766, 0.8907253523621728, 0.06987810732466533, 0.059895520563998855, 0.14973880140999715, 0.18966914845266306, 0.13975621464933066, 0.39930347042665904, 0.9540851399420702, 0.7559894794579194, 0.10520241947149041, 0.053824493683088115, 0.07829017262994635, 0.004893135789371647, 0.9328799609150703, 0.09577214792192888, 0.08513079815282568, 0.07448944838372246, 0.457578040071438, 0.15962024653654813, 0.1170548474601353, 0.8905907006089462, 0.055661918788059137, 0.04908753405142492, 0.8835756129256486, 0.04908753405142492, 0.9541410446254902, 0.9059398971899678, 0.9209736202424458, 0.9444164064220262, 0.8800723054075894, 0.8286621176126828, 0.05179138235079268, 0.10358276470158535, 0.07427988786982105, 0.14048587488422676, 0.2648239480576229, 0.24221702566245995, 0.09365724992281785, 0.18408493950346955, 0.062286511813225996, 0.8720111653851639, 0.8585406990767765, 0.024820442371872406, 0.6453315016686826, 0.29784530846246887, 0.059952597120776475, 0.059952597120776475, 0.8393363596908706, 0.03896780484368377, 0.05845170726552566, 0.8962595114047268, 0.03431381108663918, 0.15784353099854023, 0.15098076878121242, 0.4735305929956207, 0.013725524434655674, 0.17843181765052374, 0.03105544539614196, 0.03105544539614196, 0.9006079164881169, 0.011294688490716607, 0.05647344245358303, 0.21459908132361552, 0.6099131784986968, 0.022589376981433214, 0.06776813094429963, 0.8905291896421345, 0.055658074352633403, 0.90312971548861, 0.9580419920077491, 0.9651176521666657, 0.9268059347313845, 0.9227331300395041, 0.9243690156385749, 0.06184767721926716, 0.6339386914974883, 0.01546191930481679, 0.2783145474867022, 0.8406110800106149, 0.040029099048124524, 0.040029099048124524, 0.040029099048124524, 0.12199254448196728, 0.09759403558557382, 0.4269739056868855, 0.09759403558557382, 0.12199254448196728, 0.14639105337836072, 0.061808451405288165, 0.21632957991850857, 0.061808451405288165, 0.2626859184724747, 0.21632957991850857, 0.18542535421586448, 0.10596923249313311, 0.19520648090840312, 0.039041296181680625, 0.24540243314199248, 0.21193846498626623, 0.2007838089343575, 0.01670001097795403, 0.7865705170616349, 0.06680004391181613, 0.010020006586772419, 0.10855007135670121, 0.011690007684567823, 0.8905411205853575, 0.055658820036584844, 0.9137434550697752, 0.05889725594950827, 0.01963241864983609, 0.647869815444591, 0.27485386109770527, 0.07043299550651268, 0.9156289415846649, 0.08772026234175616, 0.1253146604882231, 0.22869925539100713, 0.1096503279271952, 0.1253146604882231, 0.32268525075717447, 0.05303064917974719, 0.10606129835949438, 0.07954597376962078, 0.4375028557329143, 0.18560727212911515, 0.14583428524430475, 0.002388499709981748, 0.17436047882866762, 0.635340922855145, 0.1886914770885581, 0.9559679411066346, 0.9377280084721908, 0.7114167943574372, 0.044463549647339826, 0.044463549647339826, 0.1778541985893593, 0.9380324626372392, 0.02819362867206146, 0.011277451468824584, 0.7612279741456595, 0.06202598307853521, 0.02255490293764917, 0.11559387755545199, 0.9976732316408601, 0.9758467131441568, 0.018342983329777383, 0.00220494259504251, 0.00220494259504251, 0.011024712975212552, 0.9393055454881094, 0.04409885190085021, 0.002388499709981748, 0.17436047882866762, 0.635340922855145, 0.1886914770885581, 0.10972291295271785, 0.09753147818019366, 0.1462972172702905, 0.09753147818019366, 0.5364231299910651, 0.1107975993970395, 0.07755831957792764, 0.07201843960807566, 0.33793267816097045, 0.21051543885437504, 0.18835591897496715, 0.047212089403873836, 0.047212089403873836, 0.8970296986736028, 0.047212089403873836, 0.9555420031351248, 0.8644989237780787, 0.03758690972948168, 0.03758690972948168, 0.05638036459422252, 0.9763946456493678, 0.9059398971899678, 0.0769427751609907, 0.884841914351393, 0.9516048816514996, 0.9774208460010172, 0.007489814911885189, 0.007489814911885189, 0.007489814911885189, 0.03704928124890517, 0.11114784374671552, 0.8150841874759138, 0.986426439088724, 0.012600337725585891, 0.000900024123256135, 0.000900024123256135, 0.011845967645231957, 0.6989120910686855, 0.023691935290463914, 0.2132274176141752, 0.023691935290463914, 0.03553790293569587, 0.9786638214221558, 0.007499339627755983, 0.007499339627755983, 0.007499339627755983, 0.024125691189245832, 0.8443991916236041, 0.09650276475698333, 0.024125691189245832, 0.9064870901629621, 0.9064140227016674, 0.060427601513444486, 0.9794862754768596, 0.90364523228322, 0.03965299752254264, 0.1903343881082047, 0.15861199009017057, 0.11895899256762792, 0.420321773738952, 0.07137539554057676, 0.002388499709981748, 0.17436047882866762, 0.635340922855145, 0.1886914770885581, 0.9163573883845483, 0.9592019205011904, 0.9993164503038577, 0.01179729875836659, 0.6960406267436288, 0.02359459751673318, 0.2123513776505986, 0.02359459751673318, 0.03539189627509977, 0.01179729875836659, 0.6960406267436288, 0.02359459751673318, 0.2123513776505986, 0.02359459751673318, 0.03539189627509977, 0.031055591452550806, 0.031055591452550806, 0.9006121521239734, 0.8788247987641961, 0.9580345027711793, 0.9607566055479718, 0.9219279943622868, 0.7558344482255762, 0.10762691172144127, 0.05381345586072064, 0.07827411761559365, 0.004892132350974603, 0.9710908375881738, 0.024128788635817102, 0.8203788136177814, 0.09651515454326841, 0.024128788635817102, 0.9751419377300709, 0.011208528019885871, 0.005604264009942936, 0.007472352013257248, 0.9129112603584383, 0.2677685272093802, 0.016735532950586263, 0.11714873065410385, 0.08367766475293131, 0.2342974613082077, 0.2845040601599665, 0.020075253192837973, 0.5821823425923012, 0.18067727873554174, 0.20075253192837972, 0.10230037229186778, 0.8695531644808762, 0.04583586884010977, 0.07333739014417563, 0.036668695072087816, 0.6692036850656026, 0.14667478028835126, 0.02750152130406586, 0.04005168687547456, 0.8811371112604403, 0.04005168687547456, 0.07872579728671752, 0.1620825238255949, 0.12966601906047592, 0.1018804435475168, 0.3056413306425504, 0.22691553335583287, 0.04249963023578444, 0.6289945274896097, 0.16999852094313775, 0.025499778141470662, 0.10199911256588265, 0.029749741165049106, 0.903612196229755, 0.02146993018333058, 0.08587972073332233, 0.10734965091665291, 0.6440979054999175, 0.1288195810999835, 0.02734663914511497, 0.10938655658045988, 0.05469327829022994, 0.7930525352083342, 0.062466389630562516, 0.062466389630562516, 0.8120630651973128, 0.9370514339780203, 0.002388499709981748, 0.17436047882866762, 0.635340922855145, 0.1886914770885581, 0.9758467131441568, 0.018342983329777383, 0.02196816804376746, 0.02196816804376746, 0.06590450413130239, 0.02196816804376746, 0.856758553706931, 0.8668015344405642, 0.8644931351183462, 0.037586658048623746, 0.037586658048623746, 0.05637998707293562, 0.8991697569396173, 0.016965467112068252, 0.033930934224136504, 0.05089640133620475, 0.04249579883544936, 0.6289378227646505, 0.16998319534179743, 0.025497479301269613, 0.10198991720507845, 0.02974705918481455, 0.9729530030664508, 0.0018207933926283509, 0.9868700188045662, 0.0036415867852567017, 0.0036415867852567017, 0.0036415867852567017, 0.7559144817736925, 0.1051919829005462, 0.05381915404213992, 0.07828240587947624, 0.004892650367467265, 0.9758467131441568, 0.018342983329777383, 0.002205005045622537, 0.002205005045622537, 0.011025025228112684, 0.9371271443895782, 0.044100100912450736, 0.9993164503038577, 0.9587676600009493, 0.05512816839513597, 0.8820506943221755, 0.021922907165011895, 0.06576872149503568, 0.08769162866004758, 0.6576872149503569, 0.15346035015508327, 0.9040749219866543, 0.08974809866688105, 0.85260693733537, 0.044874049333440524, 0.060519463112385416, 0.0854392420410147, 0.12103892622477083, 0.3132772208170539, 0.11035902096964399, 0.3132772208170539, 0.019874918296252757, 0.7552468952576048, 0.15899934637002205, 0.019874918296252757, 0.039749836592505514, 0.880894787639044, 0.711652504468384, 0.044478281529274, 0.044478281529274, 0.177913126117096, 0.02412127459942968, 0.8442446109800389, 0.09648509839771872, 0.02412127459942968, 0.989224282961745, 0.005698296560839545, 0.004558637248671636, 0.8663280674455135, 0.9603709803484923, 0.947677994401044, 0.8716921309231956, 0.9040111925734816, 0.09990459229851689, 0.033301530766172295, 0.8658397999204798, 0.04908577691356335, 0.8835439844441403, 0.04908577691356335, 0.9140957857899917, 0.9541328369905346, 0.9580345572922301, 0.8855198378837015, 0.020125450860993214, 0.08050180344397286, 0.997683109402185, 0.9694391126029775, 0.9443737024116261, 0.9375275412490451, 0.9434159590469676, 0.8828605306583438, 0.017743829118925115, 0.9759106015408814, 0.050892532567367976, 0.8651730536452555, 0.868860259082338, 0.07898729628021255, 0.9625909672427939, 0.040353581154944106, 0.040353581154944106, 0.16141432461977642, 0.766718041943938, 0.9444504330973734, 0.04014900871305082, 0.883278191687118, 0.04014900871305082, 0.8854739288474495, 0.02012440747380567, 0.08049762989522267, 0.016622583737429412, 0.1329806698994353, 0.8311291868714706, 0.6146587090683489, 0.036156394651079345, 0.18078197325539672, 0.14462557860431738, 0.91376406251462, 0.0024676278890181104, 0.9969216671633165, 0.8954662101284819, 0.11053256998229209, 0.1243491412300786, 0.2486982824601572, 0.15198228372565165, 0.17961542622122464, 0.19343199746901116, 0.9397169496447398, 0.9591346362223423, 0.8904998945888436, 0.055656243411802725, 0.09958364147993273, 0.11950036977591928, 0.15933382636789237, 0.3485427451797646, 0.16929219051588565, 0.09958364147993273, 0.09175500462743946, 0.10195000514159941, 0.14273000719823917, 0.48936002467967715, 0.020390001028319883, 0.16312000822655906, 0.04097512874187158, 0.02048756437093579, 0.12292538622561473, 0.061462693112807366, 0.7375523173536884, 0.9321779279388761, 0.03329206885495986, 0.03387813031114068, 0.149063773369019, 0.02032687818668441, 0.0745318866845095, 0.6369088498494448, 0.08808313880896577, 0.020054648136900787, 0.8696424692092433, 0.07474914305572113, 0.010938898983764067, 0.010938898983764067, 0.014585198645018756, 0.0413873068214928, 0.15963675488290083, 0.07094966883684481, 0.25423631333202723, 0.11824944806140801, 0.354748344184224, 0.9363318626396318, 0.048120991479923665, 0.15123740179404582, 0.10999083766839696, 0.31622365829664123, 0.09624198295984733, 0.2818515215252672, 0.042541364131845186, 0.6296121891513088, 0.17016545652738074, 0.025524818479107113, 0.10209927391642845, 0.029778954892291633, 0.04613553153592507, 0.07381685045748011, 0.036908425228740056, 0.6735787604245059, 0.14763370091496023, 0.02768131892155504, 0.9052227255110453, 0.02321083911566783, 0.02321083911566783, 0.04642167823133566, 0.04586443335267458, 0.10319497504351781, 0.3095849251305534, 0.05733054169084323, 0.2637204917778788, 0.21785605842520425, 0.9794862754768596, 0.9268059347313845, 0.9165127240842094, 0.697852720955191, 0.04652351473034607, 0.18609405892138428, 0.04055103745907981, 0.23429488309690558, 0.15319280817874595, 0.28836293304234534, 0.12165311237723943, 0.16220414983631923, 0.9429490254680262, 0.05388280145531578, 0.08404767539865977, 0.012006810771237112, 0.03602043231371133, 0.49227924162072156, 0.3722111339083505, 0.9059398971899678, 0.9874563761629896, 0.007586839769573798, 0.0011672061183959689, 0.0017508091775939533, 0.0011672061183959689, 0.0011672061183959689, 0.11155582229008318, 0.11899287710942207, 0.09296318524173598, 0.27888955572520796, 0.14502256897710813, 0.25657839126719134, 0.9855873356879049, 0.012601116620667277, 0.0009000797586190913, 0.0009000797586190913, 0.01179729875836659, 0.6960406267436288, 0.02359459751673318, 0.2123513776505986, 0.02359459751673318, 0.03539189627509977, 0.03305310016543554, 0.6775885533914285, 0.14873895074445992, 0.06610620033087108, 0.01652655008271777, 0.08263275041358885, 0.8982538068131205, 0.9917528589043787, 0.02531224998298696, 0.018984187487240223, 0.00632806249574674, 0.00632806249574674, 0.0316403124787337, 0.9112409993875307, 0.92230588588058, 0.6143600814123851, 0.036138828318375595, 0.18069414159187797, 0.14455531327350238, 0.92230588588058, 0.8151792500451971, 0.14177030435568644, 0.9316544648093141, 0.062466461177392615, 0.062466461177392615, 0.8120639953061041, 0.0022051494001858914, 0.0022051494001858914, 0.011025747000929457, 0.9371884950790039, 0.04410298800371783, 0.9180426730165671, 0.9151304676947346, 0.041222536872037405, 0.8656732743127855, 0.041222536872037405, 0.01630162990026729, 0.11411140930187101, 0.09780977940160372, 0.16301629900267287, 0.06520651960106916, 0.5379537867088205, 0.9633188451667016, 0.9541080922754183, 0.012285929227905437, 0.024571858455810874, 0.07371557536743262, 0.14743115073486524, 0.061429646139527186, 0.6880120367627045, 0.06246747300902664, 0.06246747300902664, 0.8120771491173464, 0.038890538721157636, 0.09074459034936781, 0.07778107744231527, 0.1166716161634729, 0.570394567910312, 0.10370810325642035, 0.9784909103146622, 0.9260332097540515, 0.9740071525805539, 0.043677369327528394, 0.15833046381229043, 0.08735473865505679, 0.32758026995646294, 0.17470947731011358, 0.20746750430575986, 0.9278809847280476, 0.8861382015757587, 0.08307545639772738, 0.048993667773472756, 0.048993667773472756, 0.12248416943368189, 0.048993667773472756, 0.024496833886736378, 0.7104081827153549], \"Term\": [\"abroad\", \"ad_recipe\", \"ad_recipe\", \"ad_recipe\", \"addicts_stop\", \"adventure\", \"adventure\", \"adventure\", \"adventure\", \"adventure\", \"adventure\", \"advice_services\", \"amazon\", \"argentina\", \"australia_tips\", \"awesomemoment_ad\", \"baby_prize\", \"bars_rotterdam\", \"bay_mydayinla\", \"beach\", \"beach\", \"beach\", \"beach\", \"beach\", \"beach\", \"beach_condominiums\", \"beautiful\", \"beautiful\", \"beautiful\", \"beautiful\", \"beautiful\", \"beautiful\", \"beautiful_israel\", \"beautiful_israel\", \"beautiful_israel\", \"beautiful_israel\", \"beautiful_israel\", \"beautiful_israel\", \"bed_breakfasts\", \"bed_breakfasts\", \"bed_breakfasts\", \"bed_breakfasts\", \"bed_breakfasts\", \"berlin_killing\", \"best\", \"best\", \"best\", \"best\", \"best\", \"best\", \"best_cocktail\", \"best_wine\", \"bloom_planted\", \"bloom_planted\", \"blossoming_nature\", \"blossoming_nature\", \"blossoming_nature\", \"blueribbonbags\", \"breaking_news\", \"brings_amazing\", \"buche_de\", \"buche_de\", \"buche_de\", \"bull_wants\", \"bundle_check\", \"bundle_check\", \"bundle_check\", \"bundle_trv\", \"cake_ganache\", \"cake_ganache\", \"cake_ganache\", \"california_b\", \"campers_rvs\", \"campers_rvs\", \"campers_rvs\", \"campers_rvs\", \"campers_rvs\", \"canda_country\", \"causing_stir\", \"cave_igloo\", \"cave_igloo\", \"cave_igloo\", \"cave_igloo\", \"chalets_rent\", \"chance\", \"chance\", \"chance\", \"chance_win\", \"chance_win\", \"chance_win\", \"chance_win\", \"chance_win\", \"change_lives\", \"change_lives\", \"cheap_flights\", \"cheap_flights\", \"cheap_flights\", \"cheapest\", \"check\", \"check\", \"check\", \"check\", \"check\", \"check_unique\", \"check_unique\", \"cheer\", \"cheer\", \"cheer\", \"cheer\", \"cheer\", \"chicken_casserole\", \"chicken_casserole\", \"chicken_casserole\", \"christmas\", \"christmas\", \"christmas\", \"christmas\", \"christmas\", \"christmas\", \"city\", \"city\", \"city\", \"city\", \"city\", \"city\", \"city_reflexion\", \"city_reflexion\", \"city_reflexion\", \"city_reflexion\", \"city_reflexion\", \"city_reflexion\", \"cityofallseasons_hermevsiminkenti\", \"cityofallseasons_hermevsiminkenti\", \"cityofallseasons_hermevsiminkenti\", \"clownfish_redsea\", \"cocktail\", \"colorado_springs\", \"condo\", \"condo\", \"condo\", \"condo\", \"condo_steps\", \"contact\", \"contact\", \"contact\", \"contact\", \"countdown_traditions\", \"cover_beauty\", \"cozy_san\", \"crafted_gypsy\", \"crafted_gypsy\", \"crafted_gypsy\", \"crafted_gypsy\", \"crafted_gypsy\", \"cranberry\", \"create\", \"create\", \"cruise\", \"cruise\", \"cruise\", \"cruise\", \"cruise\", \"cruise\", \"cruise_ship\", \"daily_thanks\", \"daily_thanks\", \"daily_thanks\", \"daily_thanks\", \"daily_thanks\", \"daily_thanks\", \"day_table\", \"de\", \"de\", \"de\", \"de\", \"de\", \"de\", \"de_celeste\", \"debate\", \"debate\", \"debate\", \"decor\", \"desert_retreat\", \"desert_retreat\", \"diego\", \"dining\", \"discover_sponsors\", \"discover_sponsors\", \"discover_sponsors\", \"drea\", \"drea\", \"driving\", \"drone_cameras\", \"drone_cameras\", \"drone_lil\", \"east_africa\", \"ebooks_lp\", \"en_argentina\", \"enter_chance\", \"enter_chance\", \"enter_chance\", \"enter_win\", \"enter_win\", \"enter_win\", \"etsy\", \"events_influencermarketing\", \"familytravel\", \"familytravel\", \"familytravel\", \"familytravel\", \"familytravel\", \"familytravel\", \"fashion_food\", \"fave_easy\", \"feature\", \"feature\", \"feedly\", \"fireball_sunset\", \"fish_fishtank\", \"fish_fishtank\", \"fish_fishtank\", \"fish_fishtank\", \"flight_cancellations\", \"found_mission\", \"frizemedia\", \"germa\", \"germany\", \"germany\", \"germany\", \"germany\", \"germany\", \"gift_ideas\", \"gift_ideas\", \"gift_ideas\", \"gift_ideas\", \"gift_ideas\", \"giftguide\", \"giftidea_gift\", \"gifts_prizes\", \"gifts_prizes\", \"gifts_prizes\", \"gingerbread\", \"girls_boys\", \"giveaway_week\", \"going_paris\", \"goodfoods_sharethegoo\", \"goodness_community\", \"goodness_community\", \"goodness_community\", \"got_little\", \"great\", \"great\", \"great\", \"great\", \"great\", \"great\", \"great_giftidea\", \"guest_room\", \"guest_room\", \"guest_room\", \"guest_room\", \"guest_room\", \"guests\", \"guide\", \"guide\", \"guide\", \"guide\", \"guide\", \"guide\", \"hark_hey\", \"hark_hey\", \"healthy_broccoli\", \"healthy_broccoli\", \"healthy_broccoli\", \"heely_skateshoes\", \"help_u\", \"help_year\", \"himalayas_bookreview\", \"historical\", \"holid\", \"holid\", \"holid\", \"holiday\", \"holiday\", \"holiday\", \"holiday\", \"holiday\", \"holiday\", \"holiday_baking\", \"holiday_baking\", \"holiday_giveaways\", \"holiday_lip\", \"holiday_lip\", \"holiday_lip\", \"holiday_meal\", \"holiday_meal\", \"holiday_meal\", \"holiday_payday\", \"holiday_payday\", \"holiday_payday\", \"holiday_season\", \"holiday_season\", \"holiday_season\", \"holiday_season\", \"holiday_season\", \"holiday_season\", \"holiday_yulelog\", \"holiday_yulelog\", \"holiday_yulelog\", \"holidays\", \"holidays\", \"holidays\", \"holidays\", \"holidays\", \"holidays\", \"holidays_nyc\", \"holidays_nyc\", \"hotel_airline\", \"ilovela_mondaymotivation\", \"information\", \"injuring\", \"inspiration_holidays\", \"instead\", \"insurance_need\", \"insurance_need\", \"insurance_need\", \"insurance_need\", \"israel_readon\", \"israel_readon\", \"israel_readon\", \"israel_readon\", \"italy\", \"italy\", \"italy\", \"italy\", \"italy\", \"italy\", \"japan\", \"japan\", \"japan\", \"japan\", \"japan\", \"japan\", \"japan_japantravel\", \"japan_japantravel\", \"japan_japantravel\", \"japan_japantravel\", \"japan_japantravel\", \"japan_japantravel\", \"jerusalem\", \"jerusalem\", \"jerusalem\", \"jerusalem\", \"jerusalem\", \"jerusalem\", \"join_tiny\", \"join_tiny\", \"jungle_olivier\", \"keukenhof\", \"keukenhof\", \"keukenhof\", \"keukenhof\", \"lasvegas\", \"lasvegas\", \"latest\", \"latest\", \"latest\", \"latest\", \"latest\", \"latest\", \"life\", \"life\", \"life\", \"life\", \"life\", \"life\", \"lighthouses_rent\", \"lighthouses_rent\", \"lighthouses_rent\", \"lighthouses_rent\", \"lights_extravaganza\", \"like_post\", \"list_experiences\", \"list_experiences\", \"list_experiences\", \"list_experiences\", \"louisiana\", \"love\", \"love\", \"love\", \"love\", \"love\", \"love\", \"love_chalet\", \"love_dragonfly\", \"love_dragonfly\", \"love_hand\", \"love_hand\", \"love_hand\", \"love_hand\", \"love_hand\", \"love_wings\", \"love_wings\", \"love_wings\", \"love_wings\", \"loyalty\", \"loyalty\", \"loyalty\", \"loyalty\", \"loyalty\", \"lp\", \"lp\", \"lp\", \"lp\", \"lp\", \"lp\", \"magnificent\", \"magnificent\", \"magnificent\", \"magnificent\", \"making_working\", \"marinelife_ocean\", \"marinelife_ocean\", \"marinelife_ocean\", \"marinelife_ocean\", \"mediterranean_coast\", \"memories_check\", \"memories_win\", \"memories_win\", \"mi_experiencia\", \"mid_century\", \"mid_century\", \"mid_century\", \"mid_century\", \"million\", \"million\", \"million\", \"mission_beach\", \"mission_beach\", \"mission_beach\", \"mission_beach\", \"mm_store\", \"mm_store\", \"mm_store\", \"mm_store\", \"mm_store\", \"mm_store\", \"modern_houses\", \"modern_houses\", \"modern_houses\", \"modern_houses\", \"modern_nomad\", \"modern_nomad\", \"modern_nomad\", \"modern_nomad\", \"monday\", \"mydayinla\", \"mydayinla\", \"napa_thrillist\", \"natgeo_photo\", \"nature\", \"nature\", \"nature\", \"nature\", \"nature\", \"nature\", \"neck_lighthouse\", \"neck_lighthouse\", \"neck_lighthouse\", \"neck_lighthouse\", \"need_watch\", \"news_week\", \"nice_vacation\", \"nikon_nikon\", \"nikon_nikon\", \"nikon_nikon\", \"nikon_nikon\", \"nikon_nikon\", \"nikon_nikon\", \"nikoncanada_vatican\", \"nikoncanada_vatican\", \"nikoncanada_vatican\", \"nikoncanada_vatican\", \"nikoncanada_vatican\", \"nikoncanada_vatican\", \"noel_ganache\", \"noel_ganache\", \"noel_ganache\", \"noon\", \"nyc_brooklyn\", \"offer_print\", \"orange\", \"owl_house\", \"owl_house\", \"owl_house\", \"owl_house\", \"owl_house\", \"packages_book\", \"packsmallthinkbig\", \"packsmallthinkbig\", \"packsmallthinkbig\", \"packsmallthinkbig\", \"palm_springs\", \"palm_springs\", \"palm_springs\", \"palm_springs\", \"pandora_charms\", \"paradise\", \"paradise\", \"paradise\", \"paradise\", \"paradise\", \"paradise\", \"party\", \"party\", \"party\", \"party\", \"periscope_christmas\", \"periscope_christmas\", \"photo_popular\", \"photo_popular\", \"photo_popular\", \"photo_popular\", \"photo_popular\", \"photo_popular\", \"photo_proof\", \"photo_proof\", \"photo_proof\", \"photography\", \"photography\", \"photography\", \"photography\", \"photography\", \"photography\", \"photography_helena\", \"photography_helena\", \"photography_helena\", \"photography_helena\", \"photography_helena\", \"photography_helena\", \"photography_pod\", \"photos\", \"photos\", \"photos\", \"photos\", \"photos\", \"places_world\", \"places_world\", \"places_world\", \"places_world\", \"planning_breeze\", \"planning_breeze\", \"planning_breeze\", \"planning_work\", \"pocasset\", \"pocasset\", \"pocasset\", \"pocasset\", \"pool_houses\", \"pool_houses\", \"post\", \"post\", \"post\", \"post\", \"post\", \"print\", \"reef_coral\", \"reef_coral\", \"reef_coral\", \"reef_coral\", \"reeftank_reefcandy\", \"reeftank_reefcandy\", \"reeftank_reefcandy\", \"reeftank_reefcandy\", \"reet_ennet\", \"reet_ennet\", \"reet_ennet\", \"reet_ennet\", \"reet_ennet\", \"reet_ennet\", \"related_project\", \"rent\", \"rent\", \"rent\", \"rent\", \"rent\", \"rent_hightown\", \"rent_hightown\", \"rent_hightown\", \"rent_hightown\", \"rent_hightown\", \"rent_pioneertown\", \"rent_pioneertown\", \"rent_seattle\", \"rent_seattle\", \"rent_seattle\", \"rent_seattle\", \"rent_seattle\", \"rental_condo\", \"rio_de\", \"roadtrip\", \"roadtrip\", \"romance\", \"romance\", \"romance\", \"romance\", \"romance\", \"rotorua\", \"rsvp_twitterparty\", \"rsvp_twitterparty\", \"rsvp_twitterparty\", \"rt\", \"rt\", \"rt\", \"rt\", \"rt\", \"rt\", \"rt_viajes\", \"rt_viajes\", \"rt_viajes\", \"rt_viajes\", \"rt_viajes\", \"ryokou\", \"safari_bucket\", \"safari_bucket\", \"safari_bucket\", \"safari_bucket\", \"sahara_gear\", \"sahara_gear\", \"sahara_gear\", \"sahara_gear\", \"san_diego\", \"san_diego\", \"san_diego\", \"sandiego\", \"se\", \"shadowfax_marcwainwright\", \"shanghai\", \"shop_online\", \"shopping_lastminute\", \"shopping_lastminute\", \"shopping_lastminute\", \"simple_holiday\", \"simple_holiday\", \"simple_holiday\", \"simply\", \"single_double\", \"sinks_santamonica\", \"solution_emotional\", \"solution_emotional\", \"solution_emotional\", \"south_lake\", \"spain_italy\", \"spiti_grace\", \"spread_gathering\", \"square\", \"station\", \"steemit\", \"steemit\", \"steemit_steemit\", \"steemit_steemit\", \"step\", \"step\", \"stop\", \"stunning\", \"stunning\", \"stunning\", \"stunning\", \"sublime_review\", \"sup\", \"sup\", \"sup\", \"support_animal\", \"support_animal\", \"support_animal\", \"sweeps\", \"sweeps\", \"sweeps\", \"switzerland_familytravel\", \"switzerland_familytravel\", \"switzerland_familytravel\", \"switzerland_familytravel\", \"symon\", \"tahoe\", \"tahoe\", \"taiwan_university\", \"thanks\", \"thanks\", \"thanks\", \"thanks\", \"thanks\", \"thanks\", \"throwback\", \"tickets_orphe\", \"tim_celebrate\", \"tim_celebrate\", \"time\", \"time\", \"time\", \"time\", \"time\", \"time\", \"tips\", \"tips\", \"tips\", \"tips\", \"tips\", \"tips\", \"tis_season\", \"tis_season\", \"tis_season\", \"tis_season\", \"tis_season\", \"today_beautyreview\", \"today_beautyreview\", \"tour\", \"tour\", \"tour\", \"tour\", \"tour\", \"tour\", \"touri\", \"touri\", \"touri\", \"touri\", \"touri\", \"touri\", \"tourism\", \"tourism\", \"tourism\", \"tourism\", \"tourism\", \"tourism\", \"tourism_frizemedia\", \"traveller\", \"traveller\", \"traveller\", \"traveller\", \"traveller\", \"traveller\", \"travelpics_travelblogger\", \"travelpics_travelblogger\", \"travelpics_travelblogger\", \"travelpics_travelblogger\", \"travelpics_travelblogger\", \"travelpics_travelblogger\", \"travelpix\", \"travelpix\", \"travelpix\", \"travelpix\", \"travelpix\", \"travelpix\", \"traveltips_joyforall\", \"traveltips_joyforall\", \"traveltips_joyforall\", \"traveltips_joyforall\", \"traveltuesday\", \"traveltuesday\", \"traveltuesday\", \"traveltuesday\", \"traveltuesday\", \"traveltuesday\", \"trips_california\", \"truck_plows\", \"true\", \"tt_lp\", \"tt_lp\", \"tt_lp\", \"ttot\", \"ttot\", \"ttot\", \"ttot\", \"ttot\", \"ttot\", \"tulip_rainbow\", \"tulip_rainbow\", \"tulipsinholland_spring\", \"tulipsinholland_spring\", \"tulipsinholland_spring\", \"tulipsinholland_spring\", \"tulipsinholland_spring\", \"u_win\", \"usa\", \"usa\", \"usa\", \"usa\", \"usa\", \"usa\", \"vacation\", \"vacation\", \"vacation\", \"vacation\", \"vacation\", \"vacation\", \"vacation_rental\", \"vacation_rental\", \"vacation_rental\", \"vacation_rental\", \"vatican_rome\", \"vatican_rome\", \"vatican_rome\", \"vatican_rome\", \"vatican_rome\", \"vatican_rome\", \"viajar\", \"viajar\", \"viajar\", \"viajar\", \"viajar\", \"viajar\", \"viajes_viaja\", \"viet_bamboo\", \"vietnam\", \"vietnam\", \"vietnam\", \"vietnam\", \"vietnam\", \"vietnam\", \"visitcapri_palmademallorca\", \"visiting_glacier\", \"visiting_glacier\", \"visiting_glacier\", \"visiting_glacier\", \"visitspain_visititaly\", \"voyager\", \"voyager\", \"vr\", \"w_enter\", \"w_enter\", \"w_enter\", \"wagon_heart\", \"wagon_heart\", \"wagon_heart\", \"wagon_heart\", \"wagon_heart\", \"wanted\", \"watch_periscope\", \"water_warrior\", \"water_warrior\", \"water_warrior\", \"way\", \"way\", \"way\", \"way\", \"way\", \"way\", \"weather_delays\", \"wheel_light\", \"win\", \"win\", \"win\", \"win\", \"win\", \"win\", \"win_u\", \"win_u\", \"win_u\", \"wine\", \"wine\", \"wine\", \"wine\", \"wine\", \"wine\", \"wine_winelover\", \"winner_giveaway\", \"wonderful_israel\", \"world\", \"world\", \"world\", \"world\", \"world\", \"world\", \"yacht_cruise\", \"youtube\", \"youtube\", \"yummy\", \"yummy\", \"yummy\", \"yummy\", \"yummy\", \"yummy\"]}, \"R\": 30, \"lambda.step\": 0.01, \"plot.opts\": {\"xlab\": \"PC1\", \"ylab\": \"PC2\"}, \"topic.order\": [4, 2, 5, 1, 6, 3]};\n",
       "\n",
       "function LDAvis_load_lib(url, callback){\n",
       "  var s = document.createElement('script');\n",
       "  s.src = url;\n",
       "  s.async = true;\n",
       "  s.onreadystatechange = s.onload = callback;\n",
       "  s.onerror = function(){console.warn(\"failed to load library \" + url);};\n",
       "  document.getElementsByTagName(\"head\")[0].appendChild(s);\n",
       "}\n",
       "\n",
       "if(typeof(LDAvis) !== \"undefined\"){\n",
       "   // already loaded: just create the visualization\n",
       "   !function(LDAvis){\n",
       "       new LDAvis(\"#\" + \"ldavis_el83412111884358721438057896\", ldavis_el83412111884358721438057896_data);\n",
       "   }(LDAvis);\n",
       "}else if(typeof define === \"function\" && define.amd){\n",
       "   // require.js is available: use it to load d3/LDAvis\n",
       "   require.config({paths: {d3: \"https://d3js.org/d3.v5\"}});\n",
       "   require([\"d3\"], function(d3){\n",
       "      window.d3 = d3;\n",
       "      LDAvis_load_lib(\"https://cdn.jsdelivr.net/gh/bmabey/pyLDAvis@3.3.1/pyLDAvis/js/ldavis.v3.0.0.js\", function(){\n",
       "        new LDAvis(\"#\" + \"ldavis_el83412111884358721438057896\", ldavis_el83412111884358721438057896_data);\n",
       "      });\n",
       "    });\n",
       "}else{\n",
       "    // require.js not available: dynamically load d3 & LDAvis\n",
       "    LDAvis_load_lib(\"https://d3js.org/d3.v5.js\", function(){\n",
       "         LDAvis_load_lib(\"https://cdn.jsdelivr.net/gh/bmabey/pyLDAvis@3.3.1/pyLDAvis/js/ldavis.v3.0.0.js\", function(){\n",
       "                 new LDAvis(\"#\" + \"ldavis_el83412111884358721438057896\", ldavis_el83412111884358721438057896_data);\n",
       "            })\n",
       "         });\n",
       "}\n",
       "</script>"
      ],
      "text/plain": [
       "<IPython.core.display.HTML object>"
      ]
     },
     "execution_count": 26,
     "metadata": {},
     "output_type": "execute_result"
    },
    {
     "name": "stderr",
     "output_type": "stream",
     "text": [
      "/opt/homebrew/Caskroom/miniforge/base/envs/twitter/lib/python3.8/site-packages/past/builtins/misc.py:45: DeprecationWarning: the imp module is deprecated in favour of importlib; see the module's documentation for alternative uses\n",
      "  from imp import reload\n",
      "/opt/homebrew/Caskroom/miniforge/base/envs/twitter/lib/python3.8/site-packages/past/builtins/misc.py:45: DeprecationWarning: the imp module is deprecated in favour of importlib; see the module's documentation for alternative uses\n",
      "  from imp import reload\n",
      "/opt/homebrew/Caskroom/miniforge/base/envs/twitter/lib/python3.8/site-packages/past/builtins/misc.py:45: DeprecationWarning: the imp module is deprecated in favour of importlib; see the module's documentation for alternative uses\n",
      "  from imp import reload\n",
      "/opt/homebrew/Caskroom/miniforge/base/envs/twitter/lib/python3.8/site-packages/past/builtins/misc.py:45: DeprecationWarning: the imp module is deprecated in favour of importlib; see the module's documentation for alternative uses\n",
      "  from imp import reload\n",
      "/opt/homebrew/Caskroom/miniforge/base/envs/twitter/lib/python3.8/site-packages/past/builtins/misc.py:45: DeprecationWarning: the imp module is deprecated in favour of importlib; see the module's documentation for alternative uses\n",
      "  from imp import reload\n",
      "/opt/homebrew/Caskroom/miniforge/base/envs/twitter/lib/python3.8/site-packages/past/builtins/misc.py:45: DeprecationWarning: the imp module is deprecated in favour of importlib; see the module's documentation for alternative uses\n",
      "  from imp import reload\n",
      "/opt/homebrew/Caskroom/miniforge/base/envs/twitter/lib/python3.8/site-packages/past/builtins/misc.py:45: DeprecationWarning: the imp module is deprecated in favour of importlib; see the module's documentation for alternative uses\n",
      "  from imp import reload\n",
      "/opt/homebrew/Caskroom/miniforge/base/envs/twitter/lib/python3.8/site-packages/past/builtins/misc.py:45: DeprecationWarning: the imp module is deprecated in favour of importlib; see the module's documentation for alternative uses\n",
      "  from imp import reload\n",
      "/opt/homebrew/Caskroom/miniforge/base/envs/twitter/lib/python3.8/site-packages/past/builtins/misc.py:45: DeprecationWarning: the imp module is deprecated in favour of importlib; see the module's documentation for alternative uses\n",
      "  from imp import reload\n"
     ]
    }
   ],
   "source": [
    "vis = gensimvis.prepare(topic_model=lda_tfidf_model.model, corpus=lda_tfidf_model.corpus_tfidf, dictionary=basic_model.id2word)\n",
    "pyLDAvis.enable_notebook()\n",
    "pyLDAvis.display(vis)"
   ]
  },
  {
   "cell_type": "markdown",
   "id": "d1ec87a0",
   "metadata": {},
   "source": [
    "# 4. Model Selection and Analysis\n",
    "Based on Grid Search we identify that 6,7,8 total topics yield high coherance. However we can see that when have 8 topics, some clusters are overlapping. So I chose 6 so we can have distinc clusters.\n",
    "\n"
   ]
  },
  {
   "cell_type": "code",
   "execution_count": null,
   "id": "a90395f2",
   "metadata": {},
   "outputs": [],
   "source": []
  }
 ],
 "metadata": {
  "kernelspec": {
   "display_name": "Python 3 (ipykernel)",
   "language": "python",
   "name": "python3"
  },
  "language_info": {
   "codemirror_mode": {
    "name": "ipython",
    "version": 3
   },
   "file_extension": ".py",
   "mimetype": "text/x-python",
   "name": "python",
   "nbconvert_exporter": "python",
   "pygments_lexer": "ipython3",
   "version": "3.8.12"
  }
 },
 "nbformat": 4,
 "nbformat_minor": 5
}
