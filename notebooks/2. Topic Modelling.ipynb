{
 "cells": [
  {
   "cell_type": "code",
   "execution_count": 1,
   "id": "0f7f00bb",
   "metadata": {},
   "outputs": [],
   "source": [
    "import os\n",
    "import sys\n",
    "# Allow this notebook to import local libraries \n",
    "module_path = os.path.abspath(os.path.join('..'))\n",
    "if module_path not in sys.path:\n",
    "    sys.path.append(module_path)"
   ]
  },
  {
   "cell_type": "code",
   "execution_count": 2,
   "id": "3be5b432",
   "metadata": {},
   "outputs": [],
   "source": [
    "from topic_modelling.preprocessor_all import load_data\n",
    "from topic_modelling.pipelines import basic_pipeline, spacy_pipeline\n",
    "from topic_modelling.preprocessor_all import load_data\n",
    "from topic_modelling.models import BasicModel, HierarchicalModel, EnsembleModel, NMFModel\n",
    "\n",
    "import pyLDAvis.gensim_models as gensimvis\n",
    "import pyLDAvis\n",
    "\n",
    "import warnings\n",
    "warnings.filterwarnings('ignore')"
   ]
  },
  {
   "cell_type": "markdown",
   "id": "e2b58d07",
   "metadata": {},
   "source": [
    "# Table of contents\n",
    "* [1. Load and preprocess data](#1)\n",
    "* [2. Modeling](#2)\n",
    "    * [2.1 LDA Basic Mode](#2.1)\n",
    "        * [2.1.1 Hyper-parameter Tuning](#2.1.1)\n",
    "        * [2.1.2 Find best number of topics](#2.1.2)\n",
    "        * [2.1.3 Grid Search](#2.1.3)\n",
    "    * [2.2 NMF](#2.2)\n",
    "    * [2.3 Ensemble](#2.3)\n",
    "* [3. Topic Analysis](#3)\n",
    "    * [3.1 LDA BoW Model](#3.1)\n",
    "    * [3.2 LDA Tfidf Model](#3.2)\n",
    "* [4. Model Selection and Analysis](#4)\n",
    "    * [4.1 Model Selection](#4.1)\n",
    "    * [4.2 Analysis and insights from topics](#4.2)\n"
   ]
  },
  {
   "cell_type": "markdown",
   "id": "f784d72e",
   "metadata": {},
   "source": [
    "## 1. Load and preprocess data <a class=\"anchor\" id=\"1\"></a>"
   ]
  },
  {
   "cell_type": "code",
   "execution_count": 3,
   "id": "b5f27799",
   "metadata": {},
   "outputs": [
    {
     "name": "stdout",
     "output_type": "stream",
     "text": [
      "Func:load_data took: 0.53 seconds\n",
      "Func:reset_index took: 0.01 seconds\n"
     ]
    },
    {
     "data": {
      "application/vnd.jupyter.widget-view+json": {
       "model_id": "31a3dc7287b34a929b7463c24f709249",
       "version_major": 2,
       "version_minor": 0
      },
      "text/plain": [
       "Pandas Apply:   0%|          | 0/42368 [00:00<?, ?it/s]"
      ]
     },
     "metadata": {},
     "output_type": "display_data"
    },
    {
     "name": "stdout",
     "output_type": "stream",
     "text": [
      "Func:demoji_preprocessor took: 20.23 seconds\n"
     ]
    },
    {
     "data": {
      "application/vnd.jupyter.widget-view+json": {
       "model_id": "68a4bdaa05d948ae98c0ad69f43569e3",
       "version_major": 2,
       "version_minor": 0
      },
      "text/plain": [
       "Pandas Apply:   0%|          | 0/42368 [00:00<?, ?it/s]"
      ]
     },
     "metadata": {},
     "output_type": "display_data"
    },
    {
     "name": "stdout",
     "output_type": "stream",
     "text": [
      "Func:tweet_preprocessor took: 1.22 seconds\n",
      ":: Spacy preprocessor -> cleaning, this might take 1-2 minutes....\n"
     ]
    },
    {
     "data": {
      "application/vnd.jupyter.widget-view+json": {
       "model_id": "3c4ec8ba81b84aad85ef5350dfba0b66",
       "version_major": 2,
       "version_minor": 0
      },
      "text/plain": [
       "Pandas Apply:   0%|          | 0/42368 [00:00<?, ?it/s]"
      ]
     },
     "metadata": {},
     "output_type": "display_data"
    },
    {
     "name": "stdout",
     "output_type": "stream",
     "text": [
      "Func:spacy_preprocessor took: 56.98 seconds\n"
     ]
    },
    {
     "data": {
      "application/vnd.jupyter.widget-view+json": {
       "model_id": "34165309855a4add986ec4e5abc5dadb",
       "version_major": 2,
       "version_minor": 0
      },
      "text/plain": [
       "Pandas Apply:   0%|          | 0/42368 [00:00<?, ?it/s]"
      ]
     },
     "metadata": {},
     "output_type": "display_data"
    },
    {
     "name": "stdout",
     "output_type": "stream",
     "text": [
      "Func:predefined_denoiser took: 0.09 seconds\n",
      "Func:drop_empty took: 0.02 seconds\n",
      "Func:reset_index took: 0.00 seconds\n"
     ]
    },
    {
     "data": {
      "application/vnd.jupyter.widget-view+json": {
       "model_id": "605673d7c14243ae854421c2ef6f0e91",
       "version_major": 2,
       "version_minor": 0
      },
      "text/plain": [
       "Pandas Apply:   0%|          | 0/42360 [00:00<?, ?it/s]"
      ]
     },
     "metadata": {},
     "output_type": "display_data"
    },
    {
     "name": "stdout",
     "output_type": "stream",
     "text": [
      "Func:tokenizer_transformer took: 0.30 seconds\n"
     ]
    },
    {
     "data": {
      "application/vnd.jupyter.widget-view+json": {
       "model_id": "9279936988464833a7a63aa1c583fbd0",
       "version_major": 2,
       "version_minor": 0
      },
      "text/plain": [
       "Pandas Apply:   0%|          | 0/42360 [00:00<?, ?it/s]"
      ]
     },
     "metadata": {},
     "output_type": "display_data"
    },
    {
     "name": "stdout",
     "output_type": "stream",
     "text": [
      "Func:ngrammer_2_3_pre_trained took: 0.29 seconds\n"
     ]
    }
   ],
   "source": [
    "df = load_data()\n",
    "df = spacy_pipeline.apply(df, column='cleanBody')"
   ]
  },
  {
   "cell_type": "markdown",
   "id": "cfdbc4f0",
   "metadata": {},
   "source": [
    "# 2. Modeling<a class=\"anchor\" id=\"2\"></a>"
   ]
  },
  {
   "cell_type": "markdown",
   "id": "aae2cdad",
   "metadata": {},
   "source": [
    "## 2.1 LDA Basic Model<a class=\"anchor\" id=\"2.1\"></a>"
   ]
  },
  {
   "cell_type": "code",
   "execution_count": 4,
   "id": "7f09453d",
   "metadata": {},
   "outputs": [
    {
     "name": "stdout",
     "output_type": "stream",
     "text": [
      ":: Size of id2word: 25387\n",
      "Func:createid2word_dictionary took: 0.23 seconds\n",
      "Func:filter_extremes took: 0.02 seconds\n",
      "Func:create_bow_coprpus took: 0.11 seconds\n",
      "Func:create_tfidf_corpus took: 0.03 seconds\n",
      "----> Training BasicModel <----\n",
      "Func:train took: 4.17 seconds\n",
      "\n",
      "Coherence Score:  0.5754817460766332\n",
      "Func:get_coherance took: 2.73 seconds\n",
      "0.5754817460766332\n"
     ]
    }
   ],
   "source": [
    "basic_model = BasicModel()\n",
    "basic_model.fit(df,'cleanBody')\n",
    "basic_model.train(num_topics=6, \n",
    "                  passes=1,\n",
    "                  chunksize=100,\n",
    "                  eval_every=10,\n",
    "                  alpha = 0.9,\n",
    "                  decay=0.3,\n",
    "                  tfidf = False\n",
    "                 )\n",
    "\n",
    "print(basic_model.get_coherance())"
   ]
  },
  {
   "cell_type": "markdown",
   "id": "f48909f7",
   "metadata": {},
   "source": [
    "## 2.1 LDA Tfidf Model<a class=\"anchor\" id=\"2.1\"></a>"
   ]
  },
  {
   "cell_type": "code",
   "execution_count": 5,
   "id": "e84789cf",
   "metadata": {},
   "outputs": [
    {
     "name": "stdout",
     "output_type": "stream",
     "text": [
      ":: Size of id2word: 25387\n",
      "Func:createid2word_dictionary took: 0.22 seconds\n",
      "Func:filter_extremes took: 0.02 seconds\n",
      "Func:create_bow_coprpus took: 0.22 seconds\n",
      "Func:create_tfidf_corpus took: 0.03 seconds\n",
      "----> Training BasicModel <----\n",
      "Func:train took: 4.43 seconds\n",
      "\n",
      "Coherence Score:  0.528836016530934\n",
      "Func:get_coherance took: 2.81 seconds\n",
      "0.528836016530934\n"
     ]
    }
   ],
   "source": [
    "lda_tfidf_model = BasicModel()\n",
    "lda_tfidf_model.fit(df,'cleanBody')\n",
    "lda_tfidf_model.train(num_topics=7, \n",
    "                  passes=1,\n",
    "                  chunksize=100,\n",
    "                  eval_every=10,\n",
    "                  alpha = 'symmetric',\n",
    "                  decay=0.6,\n",
    "                  tfidf = True\n",
    "                 )\n",
    "\n",
    "print(lda_tfidf_model.get_coherance())"
   ]
  },
  {
   "cell_type": "markdown",
   "id": "e42039bf",
   "metadata": {},
   "source": [
    "### 2.1.1 Hyper-parameter Tuning<a class=\"anchor\" id=\"2.1.1\"></a>"
   ]
  },
  {
   "cell_type": "markdown",
   "id": "c83a4371",
   "metadata": {},
   "source": [
    "### 2.1.2 Find best number of topics<a class=\"anchor\" id=\"2.1.2\"></a>"
   ]
  },
  {
   "cell_type": "code",
   "execution_count": 6,
   "id": "08c8c321",
   "metadata": {},
   "outputs": [
    {
     "data": {
      "image/png": "[encoded data removed]",
      "text/plain": [
       "<Figure size 432x288 with 1 Axes>"
      ]
     },
     "metadata": {
      "needs_background": "light"
     },
     "output_type": "display_data"
    }
   ],
   "source": [
    "model_list, coherence_values = basic_model.compute_coherence_values(start=6, limit=18, step=1, plot=True)"
   ]
  },
  {
   "cell_type": "code",
   "execution_count": 7,
   "id": "f876b2bc",
   "metadata": {},
   "outputs": [
    {
     "name": "stdout",
     "output_type": "stream",
     "text": [
      "Topics:6,Coherence score:0.5110152155475262\n",
      "Topics:7,Coherence score:0.5215020285174051\n",
      "Topics:8,Coherence score:0.511052326804668\n",
      "Topics:9,Coherence score:0.4984938289862845\n",
      "Topics:10,Coherence score:0.49231141130199096\n",
      "Topics:11,Coherence score:0.49680579754169574\n",
      "Topics:12,Coherence score:0.49412231094784564\n",
      "Topics:13,Coherence score:0.47930072947792984\n",
      "Topics:14,Coherence score:0.50120503491685\n",
      "Topics:15,Coherence score:0.49397368986739093\n",
      "Topics:16,Coherence score:0.4916595041473172\n",
      "Topics:17,Coherence score:0.49009198142034077\n"
     ]
    }
   ],
   "source": [
    "for m,c in (zip(model_list, coherence_values)):\n",
    "    print(f\"Topics:{m.num_topics},Coherence score:{c}\")"
   ]
  },
  {
   "cell_type": "markdown",
   "id": "b36227ac",
   "metadata": {},
   "source": [
    "### 2.1.3 Grid Search<a class=\"anchor\" id=\"2.1.3\"></a>"
   ]
  },
  {
   "cell_type": "code",
   "execution_count": 8,
   "id": "8094514d",
   "metadata": {},
   "outputs": [],
   "source": [
    "import numpy as np\n",
    "import tqdm\n",
    "import gensim\n",
    "import pandas as pd\n",
    "\n",
    "\n",
    "def grid_search(df:pd.DataFrame,  k_start=5, k_end=12, k_step=1,\n",
    "                alpha_start=0.2, alpha_end=1, alpha_step=0.2,\n",
    "                decay_start=0.1, decay_end=0.5, decay_step=0.1\n",
    "               )-> pd.DataFrame:\n",
    "\n",
    "    \"\"\"\n",
    "    Create several models using different ranges for Alpha, Betta and Number of topics\n",
    "    Part of the code was retrieved from : https://towardsdatascience.com/evaluate-topic-model-in-python-latent-dirichlet-allocation-lda-7d57484bb5d0\n",
    "    \"\"\"\n",
    "\n",
    "    grid = {}\n",
    "\n",
    "    # Topics\n",
    "    topics_range = range(k_start, k_end, k_step)\n",
    "    # ALPHA\n",
    "    alpha_range = list(np.arange(alpha_start, alpha_end, alpha_step)) \n",
    "    alpha_range.append('symmetric')\n",
    "    alpha_range.append('asymmetric')\n",
    "    # Decay\n",
    "    decay_range = list(np.arange(decay_start, decay_end, decay_step))\n",
    "    \n",
    "    chunksize_range = [100,300,500]\n",
    "    passes_range = [1]\n",
    "    model_results = {\n",
    "                     'Topics': [],\n",
    "                     'Alpha': [],\n",
    "                     'Decay': [],\n",
    "                     'Chunksize': [],\n",
    "                     'Passes': [],\n",
    "                     'Coherence': []\n",
    "                    }\n",
    "\n",
    "    total_combinations = len(topics_range)*len(alpha_range)*len(decay_range)*len(chunksize_range)*len(passes_range)\n",
    "    print(f\"Total Models to grid search: {total_combinations}\")\n",
    "\n",
    "    with tqdm.tqdm(total=total_combinations)as pbar:\n",
    "\n",
    "        # iterate through number of topics\n",
    "        for k in topics_range:\n",
    "            # iterate through alpha values\n",
    "            for a in alpha_range:\n",
    "                # iterare through decay values\n",
    "                for d in decay_range:\n",
    "                    # iterare through chunk sizes\n",
    "                    for c in chunksize_range:\n",
    "                        # iterare through chunk sizes\n",
    "                        for p in passes_range:\n",
    "                            # get the coherence score for the given parameters\n",
    "                            cv = basic_model.compute_coherence_for_topics_a_d(k=k, a=a, d=d, c=c, p=p, tfidf=True)\n",
    "                            # Save the model results\n",
    "                            model_results['Topics'].append(k)\n",
    "                            model_results['Alpha'].append(a)\n",
    "                            model_results['Decay'].append(d)\n",
    "                            model_results['Chunksize'].append(c)\n",
    "                            model_results['Passes'].append(p)\n",
    "                            model_results['Coherence'].append(cv)\n",
    "                            pbar.update(1)\n",
    "\n",
    "        grid_search_results = pd.DataFrame(model_results).to_csv('gridSearch_results2.csv', index=False)\n",
    "        pbar.close()\n",
    "    \n",
    "    return grid_search_results\n",
    "\n",
    "\n"
   ]
  },
  {
   "cell_type": "markdown",
   "id": "bf6e56c8",
   "metadata": {},
   "source": [
    "### Run grid search "
   ]
  },
  {
   "cell_type": "code",
   "execution_count": 9,
   "id": "4d1ebccf",
   "metadata": {},
   "outputs": [],
   "source": [
    "# grid_search_results = grid_search(\n",
    "#     df.cleanBody.to_list(),\n",
    "#     k_start=4, k_end=8, k_step=1,\n",
    "#     alpha_start=0.5, alpha_end=1, alpha_step=0.1,\n",
    "#     decay_start=0.1, decay_end=0.3, decay_step=0.1,\n",
    "# )"
   ]
  },
  {
   "cell_type": "markdown",
   "id": "882c0387",
   "metadata": {},
   "source": [
    "### Load Previous Grid Search results"
   ]
  },
  {
   "cell_type": "markdown",
   "id": "43ebb8cd",
   "metadata": {},
   "source": [
    "### Bow LDA gridsearch"
   ]
  },
  {
   "cell_type": "code",
   "execution_count": 10,
   "id": "ed54c5fb",
   "metadata": {},
   "outputs": [
    {
     "data": {
      "text/html": [
       "<div>\n",
       "<style scoped>\n",
       "    .dataframe tbody tr th:only-of-type {\n",
       "        vertical-align: middle;\n",
       "    }\n",
       "\n",
       "    .dataframe tbody tr th {\n",
       "        vertical-align: top;\n",
       "    }\n",
       "\n",
       "    .dataframe thead th {\n",
       "        text-align: right;\n",
       "    }\n",
       "</style>\n",
       "<table border=\"1\" class=\"dataframe\">\n",
       "  <thead>\n",
       "    <tr style=\"text-align: right;\">\n",
       "      <th></th>\n",
       "      <th>Topics</th>\n",
       "      <th>Alpha</th>\n",
       "      <th>Decay</th>\n",
       "      <th>Chunksize</th>\n",
       "      <th>Passes</th>\n",
       "      <th>Coherence</th>\n",
       "    </tr>\n",
       "  </thead>\n",
       "  <tbody>\n",
       "    <tr>\n",
       "      <th>900</th>\n",
       "      <td>9</td>\n",
       "      <td>0.61</td>\n",
       "      <td>0.3</td>\n",
       "      <td>1500</td>\n",
       "      <td>1</td>\n",
       "      <td>0.597776</td>\n",
       "    </tr>\n",
       "    <tr>\n",
       "      <th>675</th>\n",
       "      <td>8</td>\n",
       "      <td>0.9099999999999999</td>\n",
       "      <td>0.3</td>\n",
       "      <td>1500</td>\n",
       "      <td>1</td>\n",
       "      <td>0.597586</td>\n",
       "    </tr>\n",
       "    <tr>\n",
       "      <th>1440</th>\n",
       "      <td>11</td>\n",
       "      <td>0.61</td>\n",
       "      <td>0.3</td>\n",
       "      <td>1500</td>\n",
       "      <td>1</td>\n",
       "      <td>0.597038</td>\n",
       "    </tr>\n",
       "    <tr>\n",
       "      <th>1170</th>\n",
       "      <td>10</td>\n",
       "      <td>0.61</td>\n",
       "      <td>0.3</td>\n",
       "      <td>1500</td>\n",
       "      <td>1</td>\n",
       "      <td>0.595427</td>\n",
       "    </tr>\n",
       "    <tr>\n",
       "      <th>945</th>\n",
       "      <td>9</td>\n",
       "      <td>0.9099999999999999</td>\n",
       "      <td>0.3</td>\n",
       "      <td>1500</td>\n",
       "      <td>1</td>\n",
       "      <td>0.594083</td>\n",
       "    </tr>\n",
       "  </tbody>\n",
       "</table>\n",
       "</div>"
      ],
      "text/plain": [
       "      Topics               Alpha  Decay  Chunksize  Passes  Coherence\n",
       "900        9                0.61    0.3       1500       1   0.597776\n",
       "675        8  0.9099999999999999    0.3       1500       1   0.597586\n",
       "1440      11                0.61    0.3       1500       1   0.597038\n",
       "1170      10                0.61    0.3       1500       1   0.595427\n",
       "945        9  0.9099999999999999    0.3       1500       1   0.594083"
      ]
     },
     "execution_count": 10,
     "metadata": {},
     "output_type": "execute_result"
    }
   ],
   "source": [
    "grid_search_results = pd.read_csv('gridSearch_results.csv')\n",
    "grid_search_results.sort_values(by='Coherence', ascending= False).head(5)"
   ]
  },
  {
   "cell_type": "markdown",
   "id": "b4ef0afc",
   "metadata": {},
   "source": [
    "### TFIDF LDA gridsearch"
   ]
  },
  {
   "cell_type": "code",
   "execution_count": 11,
   "id": "78894290",
   "metadata": {},
   "outputs": [
    {
     "data": {
      "text/html": [
       "<div>\n",
       "<style scoped>\n",
       "    .dataframe tbody tr th:only-of-type {\n",
       "        vertical-align: middle;\n",
       "    }\n",
       "\n",
       "    .dataframe tbody tr th {\n",
       "        vertical-align: top;\n",
       "    }\n",
       "\n",
       "    .dataframe thead th {\n",
       "        text-align: right;\n",
       "    }\n",
       "</style>\n",
       "<table border=\"1\" class=\"dataframe\">\n",
       "  <thead>\n",
       "    <tr style=\"text-align: right;\">\n",
       "      <th></th>\n",
       "      <th>Topics</th>\n",
       "      <th>Alpha</th>\n",
       "      <th>Decay</th>\n",
       "      <th>Chunksize</th>\n",
       "      <th>Passes</th>\n",
       "      <th>Coherence</th>\n",
       "    </tr>\n",
       "  </thead>\n",
       "  <tbody>\n",
       "    <tr>\n",
       "      <th>24</th>\n",
       "      <td>4</td>\n",
       "      <td>0.8999999999999999</td>\n",
       "      <td>0.1</td>\n",
       "      <td>100</td>\n",
       "      <td>1</td>\n",
       "      <td>0.586891</td>\n",
       "    </tr>\n",
       "    <tr>\n",
       "      <th>98</th>\n",
       "      <td>6</td>\n",
       "      <td>0.7</td>\n",
       "      <td>0.1</td>\n",
       "      <td>500</td>\n",
       "      <td>1</td>\n",
       "      <td>0.585723</td>\n",
       "    </tr>\n",
       "    <tr>\n",
       "      <th>14</th>\n",
       "      <td>4</td>\n",
       "      <td>0.7</td>\n",
       "      <td>0.1</td>\n",
       "      <td>500</td>\n",
       "      <td>1</td>\n",
       "      <td>0.582723</td>\n",
       "    </tr>\n",
       "    <tr>\n",
       "      <th>104</th>\n",
       "      <td>6</td>\n",
       "      <td>0.7999999999999999</td>\n",
       "      <td>0.1</td>\n",
       "      <td>500</td>\n",
       "      <td>1</td>\n",
       "      <td>0.582262</td>\n",
       "    </tr>\n",
       "    <tr>\n",
       "      <th>102</th>\n",
       "      <td>6</td>\n",
       "      <td>0.7999999999999999</td>\n",
       "      <td>0.1</td>\n",
       "      <td>100</td>\n",
       "      <td>1</td>\n",
       "      <td>0.581297</td>\n",
       "    </tr>\n",
       "    <tr>\n",
       "      <th>62</th>\n",
       "      <td>5</td>\n",
       "      <td>0.7999999999999999</td>\n",
       "      <td>0.1</td>\n",
       "      <td>500</td>\n",
       "      <td>1</td>\n",
       "      <td>0.573272</td>\n",
       "    </tr>\n",
       "    <tr>\n",
       "      <th>50</th>\n",
       "      <td>5</td>\n",
       "      <td>0.6</td>\n",
       "      <td>0.1</td>\n",
       "      <td>500</td>\n",
       "      <td>1</td>\n",
       "      <td>0.569391</td>\n",
       "    </tr>\n",
       "    <tr>\n",
       "      <th>68</th>\n",
       "      <td>5</td>\n",
       "      <td>0.8999999999999999</td>\n",
       "      <td>0.1</td>\n",
       "      <td>500</td>\n",
       "      <td>1</td>\n",
       "      <td>0.568744</td>\n",
       "    </tr>\n",
       "    <tr>\n",
       "      <th>108</th>\n",
       "      <td>6</td>\n",
       "      <td>0.8999999999999999</td>\n",
       "      <td>0.1</td>\n",
       "      <td>100</td>\n",
       "      <td>1</td>\n",
       "      <td>0.567316</td>\n",
       "    </tr>\n",
       "    <tr>\n",
       "      <th>110</th>\n",
       "      <td>6</td>\n",
       "      <td>0.8999999999999999</td>\n",
       "      <td>0.1</td>\n",
       "      <td>500</td>\n",
       "      <td>1</td>\n",
       "      <td>0.564067</td>\n",
       "    </tr>\n",
       "  </tbody>\n",
       "</table>\n",
       "</div>"
      ],
      "text/plain": [
       "     Topics               Alpha  Decay  Chunksize  Passes  Coherence\n",
       "24        4  0.8999999999999999    0.1        100       1   0.586891\n",
       "98        6                 0.7    0.1        500       1   0.585723\n",
       "14        4                 0.7    0.1        500       1   0.582723\n",
       "104       6  0.7999999999999999    0.1        500       1   0.582262\n",
       "102       6  0.7999999999999999    0.1        100       1   0.581297\n",
       "62        5  0.7999999999999999    0.1        500       1   0.573272\n",
       "50        5                 0.6    0.1        500       1   0.569391\n",
       "68        5  0.8999999999999999    0.1        500       1   0.568744\n",
       "108       6  0.8999999999999999    0.1        100       1   0.567316\n",
       "110       6  0.8999999999999999    0.1        500       1   0.564067"
      ]
     },
     "execution_count": 11,
     "metadata": {},
     "output_type": "execute_result"
    }
   ],
   "source": [
    "grid_search_results = pd.read_csv('gridSearch_results2.csv')\n",
    "grid_search_results.sort_values(by='Coherence', ascending= False).head(10)"
   ]
  },
  {
   "cell_type": "markdown",
   "id": "ec559d1f",
   "metadata": {},
   "source": [
    "### 2.1.4 Hierarchical Dirichlet Process<a class=\"anchor\" id=\"2.1.4\"></a>"
   ]
  },
  {
   "cell_type": "code",
   "execution_count": 12,
   "id": "a468f85e",
   "metadata": {},
   "outputs": [
    {
     "name": "stdout",
     "output_type": "stream",
     "text": [
      ":: Size of id2word: 25387\n",
      "Func:createid2word_dictionary took: 0.24 seconds\n",
      "Func:create_bow_coprpus took: 0.12 seconds\n",
      "----> Training HierarchicalModel <----\n",
      "Func:train took: 22.43 seconds\n",
      "\n",
      "Coherence Score:  0.43463640001687165\n",
      "Func:get_coherance took: 4.18 seconds\n",
      "0.43463640001687165\n"
     ]
    }
   ],
   "source": [
    "hdpModel = HierarchicalModel()\n",
    "hdpModel.fit(df,'cleanBody')\n",
    "hdpModel.train()\n",
    "\n",
    "print(hdpModel.get_coherance())"
   ]
  },
  {
   "cell_type": "code",
   "execution_count": 13,
   "id": "7b618a9f",
   "metadata": {},
   "outputs": [
    {
     "name": "stdout",
     "output_type": "stream",
     "text": [
      "[(0, '0.080*travel + 0.070*san_diego + 0.069*usa + 0.052*condo + 0.052*vacation_rental + 0.052*mission_beach + 0.018*beach + 0.017*found_mission + 0.017*nice_vacation + 0.017*rental_condo + 0.001*holiday + 0.001*blog + 0.001*rent + 0.001*related_project + 0.001*feature + 0.001*palm_springs + 0.001*love + 0.001*condo_steps + 0.001*diego + 0.001*beach_condominiums'), (1, '0.035*travel + 0.018*love_dragonfly + 0.018*pool_houses + 0.018*rent_pioneertown + 0.018*desert_retreat + 0.003*san_diego + 0.002*usa + 0.002*holiday + 0.002*beach + 0.001*reet_ennet + 0.001*rental_condo + 0.001*jerusalem + 0.001*photography_helena + 0.001*found_mission + 0.001*nice_vacation + 0.001*travelpics_travelblogger + 0.001*touri + 0.001*beautiful_israel + 0.001*rent + 0.001*palm_springs'), (2, '0.036*travel + 0.013*bed_breakfasts + 0.013*owl_house + 0.013*rent_hightown + 0.013*guest_room + 0.003*san_diego + 0.003*usa + 0.002*beach + 0.002*holiday + 0.002*jerusalem + 0.002*travelpics_travelblogger + 0.002*photography_helena + 0.002*reet_ennet + 0.002*touri + 0.002*rental_condo + 0.001*found_mission + 0.001*beautiful_israel + 0.001*nice_vacation + 0.001*condo + 0.001*mission_beach'), (3, '0.032*travel + 0.015*nikon_nikon + 0.015*city_reflexion + 0.015*nikoncanada_vatican + 0.015*vatican_rome + 0.015*mm_store + 0.003*san_diego + 0.002*usa + 0.002*holiday + 0.002*beach + 0.001*nice_vacation + 0.001*found_mission + 0.001*rental_condo + 0.001*rent + 0.001*palm_springs + 0.001*vacation_rental + 0.001*love + 0.001*mission_beach + 0.001*condo + 0.001*jerusalem'), (4, '0.031*travel + 0.011*rent_seattle + 0.011*wagon_heart + 0.010*campers_rvs + 0.010*love_hand + 0.010*crafted_gypsy + 0.003*san_diego + 0.002*usa + 0.002*holiday + 0.002*beach + 0.001*rental_condo + 0.001*jerusalem + 0.001*photography_helena + 0.001*found_mission + 0.001*nice_vacation + 0.001*travelpics_travelblogger + 0.001*reet_ennet + 0.001*touri + 0.001*beautiful_israel + 0.001*vacation_rental'), (5, '0.033*travel + 0.007*jerusalem + 0.007*photography_helena + 0.007*travelpics_travelblogger + 0.007*reet_ennet + 0.006*touri + 0.004*beautiful_israel + 0.003*san_diego + 0.003*wonderful_israel + 0.003*usa + 0.002*beach + 0.002*holiday + 0.001*rental_condo + 0.001*found_mission + 0.001*nice_vacation + 0.001*rent + 0.001*mission_beach + 0.001*condo + 0.001*vacation_rental + 0.001*palm_springs'), (6, '0.025*travel + 0.011*palm_springs + 0.009*rent + 0.006*love + 0.006*modern_houses + 0.006*mid_century + 0.005*beach + 0.004*san_diego + 0.003*beach_condominiums + 0.003*condo_steps + 0.003*diego + 0.003*cozy_san + 0.002*holiday + 0.002*usa + 0.002*rental_condo + 0.002*nice_vacation + 0.002*found_mission + 0.001*nikon_nikon + 0.001*nikoncanada_vatican + 0.001*vatican_rome'), (7, '0.030*travel + 0.005*reet_ennet + 0.005*photography_helena + 0.005*jerusalem + 0.005*travelpics_travelblogger + 0.004*touri + 0.004*beautiful_israel + 0.003*san_diego + 0.003*usa + 0.002*beach + 0.002*holiday + 0.002*rental_condo + 0.002*found_mission + 0.002*nice_vacation + 0.001*rent + 0.001*condo + 0.001*vacation_rental + 0.001*mission_beach + 0.001*palm_springs + 0.001*city_reflexion')]\n"
     ]
    }
   ],
   "source": [
    "print(hdpModel.model.show_topics(num_topics=8, formatted=True))"
   ]
  },
  {
   "cell_type": "code",
   "execution_count": 14,
   "id": "4919fa28",
   "metadata": {},
   "outputs": [
    {
     "data": {
      "text/html": [
       "<div>\n",
       "<style scoped>\n",
       "    .dataframe tbody tr th:only-of-type {\n",
       "        vertical-align: middle;\n",
       "    }\n",
       "\n",
       "    .dataframe tbody tr th {\n",
       "        vertical-align: top;\n",
       "    }\n",
       "\n",
       "    .dataframe thead th {\n",
       "        text-align: right;\n",
       "    }\n",
       "</style>\n",
       "<table border=\"1\" class=\"dataframe\">\n",
       "  <thead>\n",
       "    <tr style=\"text-align: right;\">\n",
       "      <th></th>\n",
       "      <th>topic_id</th>\n",
       "      <th>weight</th>\n",
       "    </tr>\n",
       "  </thead>\n",
       "  <tbody>\n",
       "    <tr>\n",
       "      <th>0</th>\n",
       "      <td>0</td>\n",
       "      <td>0.443478</td>\n",
       "    </tr>\n",
       "    <tr>\n",
       "      <th>1</th>\n",
       "      <td>1</td>\n",
       "      <td>0.117316</td>\n",
       "    </tr>\n",
       "    <tr>\n",
       "      <th>2</th>\n",
       "      <td>2</td>\n",
       "      <td>0.100086</td>\n",
       "    </tr>\n",
       "    <tr>\n",
       "      <th>3</th>\n",
       "      <td>3</td>\n",
       "      <td>0.117684</td>\n",
       "    </tr>\n",
       "    <tr>\n",
       "      <th>4</th>\n",
       "      <td>4</td>\n",
       "      <td>0.094194</td>\n",
       "    </tr>\n",
       "    <tr>\n",
       "      <th>5</th>\n",
       "      <td>5</td>\n",
       "      <td>0.079890</td>\n",
       "    </tr>\n",
       "    <tr>\n",
       "      <th>6</th>\n",
       "      <td>6</td>\n",
       "      <td>0.078604</td>\n",
       "    </tr>\n",
       "    <tr>\n",
       "      <th>7</th>\n",
       "      <td>7</td>\n",
       "      <td>0.065139</td>\n",
       "    </tr>\n",
       "  </tbody>\n",
       "</table>\n",
       "</div>"
      ],
      "text/plain": [
       "   topic_id    weight\n",
       "0         0  0.443478\n",
       "1         1  0.117316\n",
       "2         2  0.100086\n",
       "3         3  0.117684\n",
       "4         4  0.094194\n",
       "5         5  0.079890\n",
       "6         6  0.078604\n",
       "7         7  0.065139"
      ]
     },
     "execution_count": 14,
     "metadata": {},
     "output_type": "execute_result"
    }
   ],
   "source": [
    "import pandas as pd\n",
    "\n",
    "def topic_prob_extractor(gensim_hdp):\n",
    "    shown_topics = gensim_hdp.show_topics(num_topics=8, num_words=10, formatted=False)\n",
    "    topics_nos = [x[0] for x in shown_topics ]\n",
    "    weights = [ sum([item[1] for item in shown_topics[topicN][1]]) for topicN in topics_nos ]\n",
    "\n",
    "    return pd.DataFrame({'topic_id' : topics_nos, 'weight' : weights})\n",
    "\n",
    "topic_prob_extractor(hdpModel.model)"
   ]
  },
  {
   "cell_type": "code",
   "execution_count": 15,
   "id": "36652cb4",
   "metadata": {},
   "outputs": [],
   "source": [
    "import warnings\n",
    "warnings.filterwarnings('ignore')"
   ]
  },
  {
   "cell_type": "markdown",
   "id": "2245ea87",
   "metadata": {},
   "source": [
    "## 2.2 NMF<a class=\"anchor\" id=\"2.2\"></a>\n"
   ]
  },
  {
   "cell_type": "code",
   "execution_count": 16,
   "id": "b5cd50d9",
   "metadata": {},
   "outputs": [
    {
     "name": "stdout",
     "output_type": "stream",
     "text": [
      ":: Size of id2word: 25387\n",
      "Func:createid2word_dictionary took: 0.22 seconds\n",
      "Func:filter_extremes took: 0.02 seconds\n",
      "Func:create_bow_coprpus took: 0.25 seconds\n",
      "----> Training NMFModel <----\n",
      "Func:train took: 134.15 seconds\n",
      "------ Topic 0 ------\n",
      "san_diego usa condo vacation_rental mission_beach beach condo_steps beach_condominiums diego cozy_san\n",
      "\n",
      "------ Topic 1 ------\n",
      "jerusalem reet_ennet photography_helena travelpics_travelblogger touri beautiful_israel wonderful_israel tour ttot visit\n",
      "\n",
      "------ Topic 2 ------\n",
      "christmas gift holiday_season winter lp days holidays xmas santa time\n",
      "\n",
      "------ Topic 3 ------\n",
      "palm_springs love rent mid_century modern_houses diego condo_steps beach_condominiums cozy_san beach\n",
      "\n",
      "------ Topic 4 ------\n",
      "beach found_mission nice_vacation rental_condo san_diego usa condo_steps cozy_san diego beach_condominiums\n",
      "\n",
      "------ Topic 5 ------\n",
      "holiday gifts party shopping fun check vacation family gift trip\n",
      "\n",
      "------ Topic 6 ------\n",
      "diego condo_steps beach_condominiums cozy_san rent beach san_diego world hotel ttot\n",
      "\n",
      "------ Topic 7 ------\n",
      "bed_breakfasts rent_hightown owl_house guest_room christmas winter gifts gift russia saint_petersburg\n",
      "\n",
      "------ Topic 8 ------\n",
      "latest daily_thanks thanks lp ttot daily photography ad news daily_news\n",
      "\n",
      "------ Topic 9 ------\n",
      "rt vacation tourism traveller amsterdam traveller_video adventure best trip hotel\n",
      "\n",
      "None\n",
      "\n",
      "Coherence Score:  0.37885096797380124\n",
      "Func:get_coherance took: 3.33 seconds\n",
      "0.37885096797380124\n"
     ]
    }
   ],
   "source": [
    "nmf_model = NMFModel()\n",
    "nmf_model.fit(df, 'cleanBody')\n",
    "nmf_model.train(num_topics=10)\n",
    "\n",
    "print(nmf_model.get_topics())\n",
    "print(nmf_model.get_coherance())"
   ]
  },
  {
   "cell_type": "markdown",
   "id": "175f14ff",
   "metadata": {},
   "source": [
    "## 2.3 Ensemble<a class=\"anchor\" id=\"2.3\"></a>\n",
    "https://radimrehurek.com/gensim/models/ensemblelda.html"
   ]
  },
  {
   "cell_type": "code",
   "execution_count": 17,
   "id": "d5c3c480",
   "metadata": {},
   "outputs": [
    {
     "name": "stdout",
     "output_type": "stream",
     "text": [
      ":: Size of id2word: 25387\n",
      "Func:createid2word_dictionary took: 0.23 seconds\n",
      "Func:filter_extremes took: 0.02 seconds\n",
      "Func:create_bow_coprpus took: 0.11 seconds\n",
      "----> Training EnsembleModel <----\n",
      "Func:train took: 87.04 seconds\n",
      "------ Topic 0 ------\n",
      "palm_springs love rent mid_century modern_houses japan_japantravel holiday daily_thanks latest lp\n",
      "\n",
      "------ Topic 1 ------\n",
      "photography_helena reet_ennet travelpics_travelblogger touri beautiful_israel wonderful_israel tour contact fashion_food cover_beauty\n",
      "\n",
      "None\n",
      "\n",
      "Coherence Score:  0.6126277747541353\n",
      "Func:get_coherance took: 2.69 seconds\n",
      "0.6126277747541353\n"
     ]
    }
   ],
   "source": [
    "ensemble_model = EnsembleModel()\n",
    "ensemble_model.fit(df, 'cleanBody')\n",
    "ensemble_model.train(num_topics=10, num_models=10)\n",
    "\n",
    "print(ensemble_model.get_topics())\n",
    "print(ensemble_model.get_coherance())"
   ]
  },
  {
   "cell_type": "markdown",
   "id": "b2a42016",
   "metadata": {},
   "source": [
    "# 3. Topic Analysis<a class=\"anchor\" id=\"3\"></a>\n"
   ]
  },
  {
   "cell_type": "markdown",
   "id": "4f18b819",
   "metadata": {},
   "source": [
    "## 3.1 LDA BoW Model<a class=\"anchor\" id=\"3.1\"></a>\n"
   ]
  },
  {
   "cell_type": "code",
   "execution_count": 18,
   "id": "79e87132",
   "metadata": {},
   "outputs": [
    {
     "data": {
      "text/html": [
       "\n",
       "<link rel=\"stylesheet\" type=\"text/css\" href=\"https://cdn.jsdelivr.net/gh/bmabey/pyLDAvis@3.3.1/pyLDAvis/js/ldavis.v1.0.0.css\">\n",
       "\n",
       "\n",
       "<div id=\"ldavis_el83763132478026087942222454\"></div>\n",
       "<script type=\"text/javascript\">\n",
       "\n",
       "var ldavis_el83763132478026087942222454_data = {\"mdsDat\": {\"x\": [-0.05598752827098344, 0.009200370650192434, 0.020833329476895666, 0.012070929159307547, 0.025466954523853762, -0.011584055539265947], \"y\": [0.0020373884752288404, 0.0006159715981048263, -0.012588032075378465, -0.013967553547885696, 0.02202741177184753, 0.0018748137780829602], \"topics\": [1, 2, 3, 4, 5, 6], \"cluster\": [1, 1, 1, 1, 1, 1], \"Freq\": [18.38579336885884, 17.39782258854758, 16.91319367114653, 16.71504671664167, 16.04049895594837, 14.547644698857006]}, \"tinfo\": {\"Term\": [\"san_diego\", \"usa\", \"palm_springs\", \"mission_beach\", \"condo\", \"vacation_rental\", \"rent\", \"modern_houses\", \"mid_century\", \"love\", \"jerusalem\", \"holiday\", \"touri\", \"bed_breakfasts\", \"owl_house\", \"rt\", \"rent_hightown\", \"found_mission\", \"nice_vacation\", \"rental_condo\", \"christmas\", \"guest_room\", \"gerard_de\", \"nerval\", \"blossoming_nature\", \"flower_soul\", \"tourism\", \"tulipsinholland_spring\", \"ttot\", \"world\", \"san_diego\", \"found_mission\", \"nice_vacation\", \"rental_condo\", \"vacation_rental\", \"mission_beach\", \"condo\", \"usa\", \"posted_travelleisure\", \"shoes\", \"cairo\", \"destinos\", \"michelin\", \"hebei\", \"jinshanling\", \"luanping\", \"tempe\", \"single\", \"lights_extravaganza\", \"community\", \"photog\", \"oldest_street\", \"holiday_meal\", \"straight\", \"aberdeen\", \"long\", \"lisboa\", \"tempatwisata\", \"festivals\", \"street_food\", \"pesan_hotel\", \"deosai_expanse\", \"beach\", \"rent_hightown\", \"owl_house\", \"book\", \"guest_room\", \"resort_hollywood\", \"switzerland_familytravel\", \"experience\", \"baby\", \"japan_japantravel\", \"paradise\", \"bed_breakfasts\", \"explore\", \"tour\", \"china\", \"holiday\", \"love\", \"palm_springs\", \"lp\", \"rt\", \"mid_century\", \"vacation\", \"modern_houses\", \"rent\", \"latest\", \"jerusalem\", \"touri\", \"photography\", \"japan\", \"hotel\", \"ttot\", \"christmas\", \"extra\", \"naturecuts\", \"hustle\", \"ornament\", \"glitter\", \"birth\", \"mysteries\", \"bay_mydayinla\", \"fireball_sunset\", \"respect\", \"big\", \"drea\", \"change_lives\", \"california_b\", \"check_unique\", \"generous\", \"parrot\", \"fujifilm\", \"rewards\", \"sinks_santamonica\", \"risk\", \"tree\", \"giving_cow\", \"kremlin\", \"simple\", \"ilovela_mondaymotivation\", \"towel\", \"win_stylish\", \"service\", \"comfy\", \"trees\", \"gift\", \"way\", \"ideas\", \"rt\", \"thailand\", \"love\", \"tourism\", \"job\", \"celebrate\", \"latest\", \"loyalty\", \"visa\", \"holiday\", \"new\", \"trip\", \"vacation\", \"photography\", \"christmas\", \"traveller\", \"palm_springs\", \"jerusalem\", \"world\", \"winter\", \"usa\", \"touri\", \"lp\", \"condo\", \"mission_beach\", \"vacation_rental\", \"beach\", \"rent\", \"modern_houses\", \"guest_room\", \"rent_hightown\", \"mid_century\", \"san_diego\", \"owl_house\", \"bed_breakfasts\", \"ttot\", \"hotel\", \"tour\", \"nasional\", \"palawan\", \"santorini\", \"umroh\", \"bukit\", \"october\", \"pura\", \"tepi\", \"suci\", \"gambling\", \"avisa\", \"lawyer\", \"dunia\", \"quick\", \"pantai\", \"exclusive_amalfi\", \"pdf\", \"tanah\", \"value_inn\", \"tulip_rainbow\", \"white_sand\", \"lot\", \"rabbit\", \"keukenhof\", \"lunch_winelover\", \"fully\", \"merchant\", \"nagar\", \"panam\", \"holiday_baking\", \"month\", \"americas_best\", \"plans_sorted\", \"posted_trips\", \"places_world\", \"inn\", \"lovely_pond\", \"iceland\", \"unesco\", \"touri\", \"wine\", \"bed_breakfasts\", \"best\", \"city\", \"agency\", \"jerusalem\", \"lp\", \"tulipsinholland_spring\", \"germany\", \"lonely_planet\", \"guest_room\", \"france\", \"owl_house\", \"ttot\", \"rent_hightown\", \"photography\", \"mid_century\", \"traveller\", \"time\", \"vacation\", \"nature\", \"palm_springs\", \"christmas\", \"holiday\", \"modern_houses\", \"rent\", \"photography_helena\", \"reet_ennet\", \"rt\", \"beach\", \"travelpics_travelblogger\", \"vacation_rental\", \"condo\", \"mission_beach\", \"love\", \"usa\", \"latest\", \"san_diego\", \"te\", \"los\", \"reeftank\", \"complejo\", \"great_giftidea\", \"pierdas\", \"man_travels\", \"wheel_light\", \"single_double\", \"george_moore\", \"del_r\\u00edo\", \"heely_skateshoes\", \"d\\u00edas\", \"gerard_de\", \"lo\", \"marinelife_ocean\", \"girls_boys\", \"roma\", \"fish_fishtank\", \"reef_coral\", \"clownfish_redsea\", \"nerval\", \"avanza\", \"needs_returns\", \"chatbots\", \"quoteoftheday\", \"surf\", \"blossoming_nature\", \"castillo\", \"world_search\", \"flower_soul\", \"home_find\", \"reeftank_reefcandy\", \"viajar\", \"yellow\", \"rt_viajes\", \"en\", \"owl_house\", \"touri\", \"jerusalem\", \"bed_breakfasts\", \"de\", \"rent_hightown\", \"guest_room\", \"free\", \"holiday\", \"hotel\", \"beach\", \"day\", \"vacation\", \"tulipsinholland_spring\", \"mid_century\", \"vacation_rental\", \"condo\", \"mission_beach\", \"palm_springs\", \"modern_houses\", \"photography\", \"rent\", \"ttot\", \"san_diego\", \"love\", \"usa\", \"latest\", \"christmas\", \"tourism\", \"rt\", \"photography_helena\", \"reet_ennet\", \"travelpics_travelblogger\", \"eronen_blogger\", \"adventcalendar\", \"photography_aku\", \"harlem\", \"tale\", \"avon\", \"soap\", \"fowl\", \"obsession\", \"bigredbus\", \"bustour\", \"doubledeckerbus\", \"nyctour\", \"tv_special\", \"path\", \"flamingos\", \"use_channel\", \"finland\", \"guides_help\", \"finland_sunrise\", \"skiing\", \"janeiro\", \"travelampadventure\", \"ad_scda\", \"dare_compare\", \"great_tire\", \"safe_winter\", \"vanlife\", \"modern_houses\", \"onlineshopping\", \"rent\", \"palm_springs\", \"year\", \"mid_century\", \"love\", \"holiday\", \"photo\", \"christmas\", \"nature\", \"winter\", \"good\", \"going\", \"latest\", \"holidays\", \"night\", \"touri\", \"need\", \"day\", \"jerusalem\", \"luxury\", \"thanks\", \"traveltuesday\", \"daily_thanks\", \"like\", \"condo\", \"mission_beach\", \"usa\", \"vacation_rental\", \"rt\", \"ttot\", \"san_diego\", \"vacation\", \"guest_room\", \"bed_breakfasts\", \"rent_hightown\", \"owl_house\", \"photography\", \"beach\", \"tour\", \"lp\", \"urbanart\", \"bright\", \"dear\", \"graffiti\", \"religion\", \"street_streetphotography\", \"paper_print\", \"christmas_sled\", \"childanddog_laurieshanholtzer\", \"snow_scene\", \"winter_canvas\", \"james\", \"reject\", \"curry\", \"download_goodies\", \"lots_free\", \"trial_graphicstock\", \"want_day\", \"holiday_graphics\", \"ride_art\", \"customs\", \"michener\", \"ignore\", \"depend\", \"viaggilowcost_viaggi\", \"iphone\", \"rainbow\", \"fear\", \"veggies\", \"boarding\", \"romance\", \"memorable\", \"detroit\", \"usa\", \"people\", \"photos\", \"world\", \"condo\", \"mission_beach\", \"jerusalem\", \"vacation_rental\", \"bed_breakfasts\", \"adventure\", \"yummy\", \"guest_room\", \"san_diego\", \"palm_springs\", \"holiday_season\", \"rent\", \"japan_japantravel\", \"ttot\", \"love\", \"rent_hightown\", \"owl_house\", \"holiday\", \"mid_century\", \"touri\", \"modern_houses\", \"holidays\", \"rt\", \"tour\", \"vacation\", \"best\", \"latest\", \"tourism\", \"photography_helena\", \"christmas\", \"lp\", \"photography\", \"beach\"], \"Freq\": [6970.0, 7112.0, 6945.0, 6378.0, 6380.0, 6390.0, 3672.0, 3477.0, 3499.0, 4205.0, 3526.0, 4036.0, 3026.0, 2510.0, 2496.0, 1487.0, 2481.0, 201.0, 201.0, 201.0, 1218.0, 2487.0, 219.0, 220.0, 221.0, 220.0, 804.0, 398.0, 1100.0, 745.0, 3974.4237463690697, 114.5728517995494, 114.5728517995494, 114.5728517995494, 2697.2711848506237, 2685.1550502429595, 2685.721861459432, 2868.1651702139193, 12.013387714529491, 4.253903624923042, 8.952939734487728, 3.885297490424484, 2.9875795403732934, 1.3294234343742615, 1.3294234343742615, 1.3294234343742615, 3.043220706816089, 4.0479151173762355, 2.861121655963461, 8.737118286836546, 12.515503639977384, 5.220081351229544, 5.244803856753473, 7.629915672756993, 2.87774889439617, 14.841089671225268, 2.773019647744, 3.2011178288358986, 3.8944868829658312, 7.070688921291942, 15.956923579273626, 4.927056267709954, 281.2338947113147, 590.3255678643725, 552.1978675952511, 58.44274055761815, 521.5619312151774, 5.976796169892713, 32.49706710367279, 35.73871297879298, 9.681370621990318, 137.94022335992156, 44.69919303489867, 407.37606811892834, 48.71540405432542, 130.2920455667552, 38.47755555282227, 564.8671718506638, 555.4960598916173, 843.8329741430002, 129.90709502682935, 213.0556145473172, 424.37749871681984, 196.90718559141914, 404.7503082974735, 420.47911775624334, 182.4817513409074, 375.8405953964488, 328.9096235563588, 142.83411596002534, 84.49193656712126, 102.10854440195993, 125.28012110944726, 118.06575932760701, 13.98425397426435, 6.328625962745042, 9.091201479634956, 10.06600028589783, 4.549077903877113, 4.758814090713608, 4.04336714733329, 5.942004345661546, 5.831206514940983, 12.671665417972738, 43.48323326687227, 16.49447044567909, 16.49573074608993, 5.617549194581944, 16.186694582849167, 7.919471186448347, 5.132434981044874, 7.481042390828827, 7.026501800184396, 5.331711032511307, 4.613065897818545, 24.04623585913634, 15.104951051809278, 2.280454964378444, 7.054147850247695, 5.101174518297653, 1.6912957016189818, 1.6912957016189818, 11.140290619905825, 2.2981264706717384, 17.97050182456859, 87.45857565325502, 68.37695909204928, 29.624580879290633, 452.71518394142316, 71.0253849281203, 1110.601622510793, 234.54559188077548, 33.747699025064634, 26.049963135614295, 333.6143508983069, 77.89625633609445, 26.266419731175624, 819.2375062035571, 108.46447043947144, 120.5560503697662, 298.6179662764184, 238.45615129191788, 268.722342040022, 147.51137465221805, 1082.0220574306832, 581.3251363479941, 164.39843583667079, 94.19901551643788, 945.3155150847557, 463.7911622429211, 159.47944514225074, 769.8759692579536, 769.4017907761063, 755.603105296141, 211.79096344040943, 482.1894095495414, 460.954226018126, 348.46725857647687, 332.4636584322908, 389.7880789009377, 584.7178650539685, 311.6609488964004, 298.0408823564802, 180.3699747022236, 140.55905155632834, 126.50782860767637, 8.838326124380561, 9.693109982765833, 24.077841017249114, 13.461796349282622, 2.4277460885374897, 4.827697042279662, 3.562653374424645, 3.3396144366903604, 3.3232822896449568, 7.86325688912501, 9.02106970160925, 4.869473135388075, 7.362630622911902, 8.5432696318528, 6.2564354818345205, 9.027271085164237, 3.4131890086458188, 3.1812540730803134, 8.4700126705144, 28.662497774469827, 3.379197131181242, 12.821853013936511, 4.030374600599769, 51.95720324765635, 8.619231069349606, 1.680385537253058, 1.680385537253058, 1.680385537253058, 1.680385537253058, 10.77635362347188, 14.269586598778979, 8.080797247436848, 16.750969579098353, 27.539883759794986, 40.04868118601565, 21.25631707987971, 16.348587383097733, 50.17793870901205, 13.668709079275715, 777.7537873361449, 62.86000824479982, 603.7135926173929, 168.95228031310998, 125.43758146592182, 14.53483874304625, 758.3605283071842, 199.86716932405176, 109.44592460421916, 45.01688858517131, 68.93457495636551, 512.0331549363324, 64.867581156868, 503.8302594660375, 248.7650821357997, 479.4223563353197, 232.44277144769794, 628.7898946743024, 138.29742012954782, 92.78746528101547, 268.0731345027813, 136.634507237008, 891.6664437912183, 228.81495394647968, 545.2532090158102, 471.669552526538, 477.6882244103871, 139.65722749337417, 139.65722749337417, 240.11487953542886, 198.85961446880594, 139.59885443267845, 599.0179444370843, 582.0157439897266, 581.7064753647654, 431.19401195296706, 586.3825204437559, 181.8404283796811, 325.8967700188422, 16.420271761968447, 5.199705464405139, 7.80412550588769, 6.156345922185464, 18.599248362973903, 3.0909527126975855, 28.022200501337014, 17.795776877323995, 16.889601847531004, 25.787799302662204, 7.500629481177585, 16.20066826216017, 3.4033821226083028, 103.14428991858766, 3.6134393641072897, 51.62445416643693, 16.013544170539866, 4.030182471693109, 51.998067117306704, 50.9714352892234, 5.8920181649327175, 100.42664200026226, 6.492583933085206, 24.02201613304763, 12.735163796239709, 23.391959644747903, 5.895857651563991, 96.83090572529098, 10.107465469601182, 23.03073257848049, 95.65647344125095, 25.489430428757455, 56.39979631472115, 80.82338938250102, 11.552413866679823, 59.20854160019045, 51.85514671364286, 572.7805804164587, 657.7169365787922, 732.7216524826716, 536.1685935091728, 124.20358686059816, 502.66197100566905, 473.939671047432, 85.18967857609304, 624.19772867727, 159.73374322801064, 231.3535924849425, 128.35940086648333, 250.2115455373956, 102.73791548883817, 476.3323643558417, 711.1461707612913, 683.352695192091, 683.0158615075151, 713.0298709463417, 436.33384131003436, 195.92633917508923, 435.3594819969716, 200.48973845076648, 623.2543742077222, 449.0395527981926, 544.1869597318392, 196.2867108562508, 179.9661464972973, 147.87872942704996, 179.424313924298, 134.1585357898722, 134.1585357898722, 134.09254500755085, 15.55205028706779, 8.027959305337195, 15.90752462813272, 4.46720547624552, 2.8925322375786653, 6.874194990719919, 2.763246208509721, 2.064223044943844, 2.064223044943844, 2.2935856083200545, 2.2935856083200545, 2.2935856083200545, 2.2935856083200545, 6.122270709310228, 8.159626779435916, 2.917492433348201, 5.57368832760958, 18.997735234142496, 5.552647874271522, 9.025736632247972, 10.729020281525514, 7.814737310942983, 3.412840977121459, 3.8675041404558717, 3.8675041404558717, 3.8675041404558717, 3.8675041404558717, 2.336676228982748, 1305.6235244249424, 4.531750421569745, 1355.2812962470834, 2513.8678497140845, 56.114065436288584, 1166.2853820493663, 1124.3777770095717, 996.6536171641724, 115.11193453781036, 280.1414833166652, 141.05063050108066, 91.76697964931019, 36.343398478072196, 27.33221515157164, 247.66021264063346, 76.2209241006147, 41.73693985595781, 428.7410475322648, 50.19433171642321, 105.88411316234937, 451.2015100240382, 96.94552690979341, 101.8713444512334, 66.49408256918079, 100.58599683973573, 51.77102713395271, 598.780032090149, 598.3936223462576, 638.7140389756595, 591.0362033571829, 198.04877900174023, 159.50732959356606, 549.466381137978, 172.77779654069448, 242.41119859502516, 232.9816247838013, 228.85627647056606, 218.54858352338127, 122.18284728635217, 113.01078313974593, 100.79870001637249, 101.29408019537487, 8.04720982566839, 13.285856445015565, 8.146309063953668, 8.230027926414927, 5.909748740738886, 8.14038823798923, 9.918753673148384, 9.413263031691002, 9.346581138868187, 9.306510529572709, 9.219843728480244, 4.935675070676943, 3.4013151764403022, 3.6728249149356076, 4.035135953422866, 4.035135953422866, 4.035135953422866, 4.035135953422866, 4.088303633333088, 8.474420421705839, 3.4468490525050894, 3.144086324470801, 3.973466005349738, 1.8801672415912287, 3.358448067134906, 9.544083047678223, 9.631055220883466, 5.0515543069698134, 2.2775829749795125, 2.0281010692191273, 37.019454890151586, 4.970906629727762, 6.098439266967934, 1529.3626831924205, 35.86285302326063, 41.217634852583444, 160.79977346708876, 1060.9883814166842, 1060.6032532932734, 627.1665869159622, 1035.99375781336, 431.8290279039496, 107.32562769299066, 28.713986080607107, 389.37082383294177, 912.6272563712654, 900.6060216893219, 88.70148949222316, 501.61491448708273, 131.4356142322442, 186.15110363247751, 535.0627491215479, 348.03338730913316, 337.74200381434025, 485.8739041773509, 414.12868624995036, 369.8496181268069, 397.91408969891, 68.50895213663794, 204.1366987659433, 120.31919911636113, 184.8202879731942, 102.18205957911051, 165.05717965223047, 115.1188996499736, 102.15141858123218, 142.59180356684269, 108.33028198507203, 118.1399599329696, 116.24974248099836], \"Total\": [6970.0, 7112.0, 6945.0, 6378.0, 6380.0, 6390.0, 3672.0, 3477.0, 3499.0, 4205.0, 3526.0, 4036.0, 3026.0, 2510.0, 2496.0, 1487.0, 2481.0, 201.0, 201.0, 201.0, 1218.0, 2487.0, 219.0, 220.0, 221.0, 220.0, 804.0, 398.0, 1100.0, 745.0, 6970.386393158846, 201.96672898776393, 201.96672898776393, 201.96672898776393, 6390.068366515683, 6378.276053530877, 6380.734683406036, 7112.12688764235, 36.81246659640403, 13.612753087446558, 29.25580352439591, 13.213642225690947, 10.245587912667876, 4.606405958679019, 4.606405958679019, 4.606405958679019, 10.553718498390456, 14.0691442278419, 9.973360868762414, 30.493219222282182, 44.2387821986909, 18.51051631719993, 18.692295398635544, 27.196132819541504, 10.367157867520167, 54.14949992319437, 10.232559785888773, 11.878279512467277, 14.488885309844786, 26.32119878112762, 60.692327965636686, 18.397637805640837, 1152.4985907262167, 2481.7632174173514, 2496.7602437118694, 241.44495079510045, 2487.784038203386, 22.465268928640704, 136.42879870928806, 153.27846609463762, 37.60618709967301, 707.9652402886368, 203.55896511090688, 2510.109789289725, 234.0167579006479, 719.4344351023811, 180.46422608600986, 4036.0831370888245, 4205.7717732846895, 6945.02521771465, 777.8435095679957, 1487.4954697161509, 3499.7019049472187, 1371.407916421903, 3477.2455422760245, 3672.61244444731, 1306.94063376801, 3526.616009474299, 3026.7621753732888, 1049.982185094052, 513.9018559879491, 688.8232687805125, 1100.5633496242806, 1218.3024886949138, 26.69201060859657, 13.252999536098487, 19.41552147180271, 21.82907969414997, 9.8823323534881, 10.543358041854436, 9.036334173664732, 13.316324283397138, 13.307249351979, 29.031081507281947, 99.65518586915188, 38.307671378374955, 38.3685864462072, 13.088097494633802, 38.20738537733394, 18.834251964836678, 12.42513691077226, 18.147959810548294, 17.240168128116007, 13.14632234258132, 11.633363761940133, 60.649001735654934, 38.19442241193207, 5.77777832082597, 18.02746391751523, 13.220158748113553, 4.427854534146484, 4.427854534146484, 29.370584385135537, 6.1591318044633345, 48.55849910411838, 246.28930714758098, 194.98577262874858, 82.51898843810096, 1487.4954697161509, 211.80235851770738, 4205.7717732846895, 804.1558902597667, 99.54635482057186, 74.98144689447878, 1306.94063376801, 264.0319451611598, 76.96550545000427, 4036.0831370888245, 396.0567516629735, 462.5043419501234, 1371.407916421903, 1049.982185094052, 1218.3024886949138, 602.792391898164, 6945.02521771465, 3526.616009474299, 745.3492748677893, 372.3929084573531, 7112.12688764235, 3026.7621753732888, 777.8435095679957, 6380.734683406036, 6378.276053530877, 6390.068366515683, 1152.4985907262167, 3672.61244444731, 3477.2455422760245, 2487.784038203386, 2481.7632174173514, 3499.7019049472187, 6970.386393158846, 2496.7602437118694, 2510.109789289725, 1100.5633496242806, 688.8232687805125, 719.4344351023811, 16.407146370623835, 19.054103178804077, 48.691816662684644, 28.125183936968057, 5.455330861511427, 11.381732985610022, 8.4824989776902, 8.00734660681912, 7.99495453633085, 19.0991155062489, 22.112076776103002, 12.057431960793366, 18.35350710491337, 21.448036172486173, 15.736153967240265, 22.709640089326264, 8.616077160822556, 8.070113707748881, 21.7658035859774, 73.8214772299437, 8.772645696288908, 33.398715993463746, 10.516656736242046, 135.8840888540383, 22.59387487402699, 4.489349319230055, 4.489349319230055, 4.489349319230055, 4.489349319230055, 29.046094828030483, 38.526593607033234, 21.814260968699333, 45.8759192741851, 76.78600859739853, 113.64488027023005, 59.30796810855335, 45.52977127010722, 150.68285946015652, 37.817681818210716, 3026.7621753732888, 197.1290480865874, 2510.109789289725, 617.7276853845323, 452.56268278034656, 40.640803260209374, 3526.616009474299, 777.8435095679957, 398.6421522447487, 146.41231351307596, 240.01445980930893, 2487.784038203386, 228.59789984932578, 2496.7602437118694, 1100.5633496242806, 2481.7632174173514, 1049.982185094052, 3499.7019049472187, 602.792391898164, 372.0537322981113, 1371.407916421903, 612.3676092627861, 6945.02521771465, 1218.3024886949138, 4036.0831370888245, 3477.2455422760245, 3672.61244444731, 683.4550481796166, 683.4550481796166, 1487.4954697161509, 1152.4985907262167, 683.1578286585302, 6390.068366515683, 6380.734683406036, 6378.276053530877, 4205.7717732846895, 7112.12688764235, 1306.94063376801, 6970.386393158846, 22.657234801851992, 9.106788270524225, 13.80960354922143, 11.245020707214854, 34.149522488053144, 5.82220278330065, 53.15165263614225, 34.00734936962334, 33.95408471694888, 52.313358684067175, 15.428706621285475, 34.129632008367466, 7.191351239517675, 219.48303575230096, 7.717972800089075, 110.43019158260243, 34.28864618620351, 8.650136199298217, 111.78145752790152, 110.76381178143825, 12.824179424644063, 220.26949277472505, 14.27453389914519, 53.051354003413906, 28.141433211743486, 52.566506037808374, 13.343351435976627, 221.06164694958355, 23.087473570136996, 52.77707442456595, 220.13506497829803, 58.841599900908285, 138.0548934629363, 216.38382732127238, 26.824082820631133, 164.62009781832418, 152.5335012115091, 2496.7602437118694, 3026.7621753732888, 3526.616009474299, 2510.109789289725, 438.41878761842736, 2481.7632174173514, 2487.784038203386, 285.0267418071722, 4036.0831370888245, 688.8232687805125, 1152.4985907262167, 535.290803165874, 1371.407916421903, 398.6421522447487, 3499.7019049472187, 6390.068366515683, 6380.734683406036, 6378.276053530877, 6945.02521771465, 3477.2455422760245, 1049.982185094052, 3672.61244444731, 1100.5633496242806, 6970.386393158846, 4205.7717732846895, 7112.12688764235, 1306.94063376801, 1218.3024886949138, 804.1558902597667, 1487.4954697161509, 683.4550481796166, 683.4550481796166, 683.1578286585302, 29.938438426885728, 16.01353314681421, 31.824032530871918, 9.00957998174882, 5.846087830168728, 13.988635845532363, 5.765306227475319, 4.380023307917504, 4.380023307917504, 4.985730758203083, 4.985730758203083, 4.985730758203083, 4.985730758203083, 13.82618109954022, 18.63866452956699, 6.826141514745748, 13.846588597283413, 47.24707747898718, 13.86376759322467, 22.761170608117723, 27.75725459775862, 20.227697615971394, 8.86944655286912, 10.1268088143194, 10.1268088143194, 10.1268088143194, 10.1268088143194, 6.170568952394305, 3477.2455422760245, 12.140518336458777, 3672.61244444731, 6945.02521771465, 152.3820763033336, 3499.7019049472187, 4205.7717732846895, 4036.0831370888245, 400.48084002140683, 1218.3024886949138, 612.3676092627861, 372.3929084573531, 127.91865953144352, 93.24406919405244, 1306.94063376801, 324.2021270897263, 165.78804812485504, 3026.7621753732888, 209.81718603618958, 535.290803165874, 3526.616009474299, 494.1989994084151, 537.5510091475203, 311.60465018809407, 540.3743145304438, 225.9269704223867, 6380.734683406036, 6378.276053530877, 7112.12688764235, 6390.068366515683, 1487.4954697161509, 1100.5633496242806, 6970.386393158846, 1371.407916421903, 2487.784038203386, 2510.109789289725, 2481.7632174173514, 2496.7602437118694, 1049.982185094052, 1152.4985907262167, 719.4344351023811, 777.8435095679957, 14.81351470601586, 25.063355261248805, 16.839363246899673, 17.38936473815659, 13.224743524059518, 18.531109220691242, 22.980817369737075, 22.993773963268502, 22.958835453445122, 22.9945239987462, 22.98164220727616, 12.368582285464969, 8.773539181579386, 9.651610168369036, 10.779084745717226, 10.779084745717226, 10.779084745717226, 10.779084745717226, 10.922503167709396, 23.029721352618967, 9.48625138223623, 8.819692780414016, 11.15069254379695, 5.32465726413513, 9.722116698558416, 28.744111854804075, 29.15675234495837, 15.480271516895971, 7.23299458275565, 6.459449984585342, 125.33741001035011, 16.264128494989773, 20.162902322624234, 7112.12688764235, 131.26307671228278, 159.6393316103306, 745.3492748677893, 6380.734683406036, 6378.276053530877, 3526.616009474299, 6390.068366515683, 2510.109789289725, 525.7718199039189, 110.74910511200395, 2487.784038203386, 6970.386393158846, 6945.02521771465, 430.1152090672012, 3672.61244444731, 707.9652402886368, 1100.5633496242806, 4205.7717732846895, 2481.7632174173514, 2496.7602437118694, 4036.0831370888245, 3499.7019049472187, 3026.7621753732888, 3477.2455422760245, 324.2021270897263, 1487.4954697161509, 719.4344351023811, 1371.407916421903, 617.7276853845323, 1306.94063376801, 804.1558902597667, 683.4550481796166, 1218.3024886949138, 777.8435095679957, 1049.982185094052, 1152.4985907262167], \"Category\": [\"Default\", \"Default\", \"Default\", \"Default\", \"Default\", \"Default\", \"Default\", \"Default\", \"Default\", \"Default\", \"Default\", \"Default\", \"Default\", \"Default\", \"Default\", \"Default\", \"Default\", \"Default\", \"Default\", \"Default\", \"Default\", \"Default\", \"Default\", \"Default\", \"Default\", \"Default\", \"Default\", \"Default\", \"Default\", \"Default\", \"Topic1\", \"Topic1\", \"Topic1\", \"Topic1\", \"Topic1\", \"Topic1\", \"Topic1\", \"Topic1\", \"Topic1\", \"Topic1\", \"Topic1\", \"Topic1\", \"Topic1\", \"Topic1\", \"Topic1\", \"Topic1\", \"Topic1\", \"Topic1\", \"Topic1\", \"Topic1\", \"Topic1\", \"Topic1\", \"Topic1\", \"Topic1\", \"Topic1\", \"Topic1\", \"Topic1\", \"Topic1\", \"Topic1\", \"Topic1\", \"Topic1\", \"Topic1\", \"Topic1\", \"Topic1\", \"Topic1\", \"Topic1\", \"Topic1\", \"Topic1\", \"Topic1\", \"Topic1\", \"Topic1\", \"Topic1\", \"Topic1\", \"Topic1\", \"Topic1\", \"Topic1\", \"Topic1\", \"Topic1\", \"Topic1\", \"Topic1\", \"Topic1\", \"Topic1\", \"Topic1\", \"Topic1\", \"Topic1\", \"Topic1\", \"Topic1\", \"Topic1\", \"Topic1\", \"Topic1\", \"Topic1\", \"Topic1\", \"Topic1\", \"Topic1\", \"Topic2\", \"Topic2\", \"Topic2\", \"Topic2\", \"Topic2\", \"Topic2\", \"Topic2\", \"Topic2\", \"Topic2\", \"Topic2\", \"Topic2\", \"Topic2\", \"Topic2\", \"Topic2\", \"Topic2\", \"Topic2\", \"Topic2\", \"Topic2\", \"Topic2\", \"Topic2\", \"Topic2\", \"Topic2\", \"Topic2\", \"Topic2\", \"Topic2\", \"Topic2\", \"Topic2\", \"Topic2\", \"Topic2\", \"Topic2\", \"Topic2\", \"Topic2\", \"Topic2\", \"Topic2\", \"Topic2\", \"Topic2\", \"Topic2\", \"Topic2\", \"Topic2\", \"Topic2\", \"Topic2\", \"Topic2\", \"Topic2\", \"Topic2\", \"Topic2\", \"Topic2\", \"Topic2\", \"Topic2\", \"Topic2\", \"Topic2\", \"Topic2\", \"Topic2\", \"Topic2\", \"Topic2\", \"Topic2\", \"Topic2\", \"Topic2\", \"Topic2\", \"Topic2\", \"Topic2\", \"Topic2\", \"Topic2\", \"Topic2\", \"Topic2\", \"Topic2\", \"Topic2\", \"Topic2\", \"Topic2\", \"Topic2\", \"Topic2\", \"Topic2\", \"Topic2\", \"Topic3\", \"Topic3\", \"Topic3\", \"Topic3\", \"Topic3\", \"Topic3\", \"Topic3\", \"Topic3\", \"Topic3\", \"Topic3\", \"Topic3\", \"Topic3\", \"Topic3\", \"Topic3\", \"Topic3\", \"Topic3\", \"Topic3\", \"Topic3\", \"Topic3\", \"Topic3\", \"Topic3\", \"Topic3\", \"Topic3\", \"Topic3\", \"Topic3\", \"Topic3\", \"Topic3\", \"Topic3\", \"Topic3\", \"Topic3\", \"Topic3\", \"Topic3\", \"Topic3\", \"Topic3\", \"Topic3\", \"Topic3\", \"Topic3\", \"Topic3\", \"Topic3\", \"Topic3\", \"Topic3\", \"Topic3\", \"Topic3\", \"Topic3\", \"Topic3\", \"Topic3\", \"Topic3\", \"Topic3\", \"Topic3\", \"Topic3\", \"Topic3\", \"Topic3\", \"Topic3\", \"Topic3\", \"Topic3\", \"Topic3\", \"Topic3\", \"Topic3\", \"Topic3\", \"Topic3\", \"Topic3\", \"Topic3\", \"Topic3\", \"Topic3\", \"Topic3\", \"Topic3\", \"Topic3\", \"Topic3\", \"Topic3\", \"Topic3\", \"Topic3\", \"Topic3\", \"Topic3\", \"Topic3\", \"Topic3\", \"Topic3\", \"Topic3\", \"Topic3\", \"Topic4\", \"Topic4\", \"Topic4\", \"Topic4\", \"Topic4\", \"Topic4\", \"Topic4\", \"Topic4\", \"Topic4\", \"Topic4\", \"Topic4\", \"Topic4\", \"Topic4\", \"Topic4\", \"Topic4\", \"Topic4\", \"Topic4\", \"Topic4\", \"Topic4\", \"Topic4\", \"Topic4\", \"Topic4\", \"Topic4\", \"Topic4\", \"Topic4\", \"Topic4\", \"Topic4\", \"Topic4\", \"Topic4\", \"Topic4\", \"Topic4\", \"Topic4\", \"Topic4\", \"Topic4\", \"Topic4\", \"Topic4\", \"Topic4\", \"Topic4\", \"Topic4\", \"Topic4\", \"Topic4\", \"Topic4\", \"Topic4\", \"Topic4\", \"Topic4\", \"Topic4\", \"Topic4\", \"Topic4\", \"Topic4\", \"Topic4\", \"Topic4\", \"Topic4\", \"Topic4\", \"Topic4\", \"Topic4\", \"Topic4\", \"Topic4\", \"Topic4\", \"Topic4\", \"Topic4\", \"Topic4\", \"Topic4\", \"Topic4\", \"Topic4\", \"Topic4\", \"Topic4\", \"Topic4\", \"Topic4\", \"Topic4\", \"Topic4\", \"Topic5\", \"Topic5\", \"Topic5\", \"Topic5\", \"Topic5\", \"Topic5\", \"Topic5\", \"Topic5\", \"Topic5\", \"Topic5\", \"Topic5\", \"Topic5\", \"Topic5\", \"Topic5\", \"Topic5\", \"Topic5\", \"Topic5\", \"Topic5\", \"Topic5\", \"Topic5\", \"Topic5\", \"Topic5\", \"Topic5\", \"Topic5\", \"Topic5\", \"Topic5\", \"Topic5\", \"Topic5\", \"Topic5\", \"Topic5\", \"Topic5\", \"Topic5\", \"Topic5\", \"Topic5\", \"Topic5\", \"Topic5\", \"Topic5\", \"Topic5\", \"Topic5\", \"Topic5\", \"Topic5\", \"Topic5\", \"Topic5\", \"Topic5\", \"Topic5\", \"Topic5\", \"Topic5\", \"Topic5\", \"Topic5\", \"Topic5\", \"Topic5\", \"Topic5\", \"Topic5\", \"Topic5\", \"Topic5\", \"Topic5\", \"Topic5\", \"Topic5\", \"Topic5\", \"Topic5\", \"Topic5\", \"Topic5\", \"Topic5\", \"Topic5\", \"Topic5\", \"Topic5\", \"Topic5\", \"Topic5\", \"Topic5\", \"Topic5\", \"Topic6\", \"Topic6\", \"Topic6\", \"Topic6\", \"Topic6\", \"Topic6\", \"Topic6\", \"Topic6\", \"Topic6\", \"Topic6\", \"Topic6\", \"Topic6\", \"Topic6\", \"Topic6\", \"Topic6\", \"Topic6\", \"Topic6\", \"Topic6\", \"Topic6\", \"Topic6\", \"Topic6\", \"Topic6\", \"Topic6\", \"Topic6\", \"Topic6\", \"Topic6\", \"Topic6\", \"Topic6\", \"Topic6\", \"Topic6\", \"Topic6\", \"Topic6\", \"Topic6\", \"Topic6\", \"Topic6\", \"Topic6\", \"Topic6\", \"Topic6\", \"Topic6\", \"Topic6\", \"Topic6\", \"Topic6\", \"Topic6\", \"Topic6\", \"Topic6\", \"Topic6\", \"Topic6\", \"Topic6\", \"Topic6\", \"Topic6\", \"Topic6\", \"Topic6\", \"Topic6\", \"Topic6\", \"Topic6\", \"Topic6\", \"Topic6\", \"Topic6\", \"Topic6\", \"Topic6\", \"Topic6\", \"Topic6\", \"Topic6\", \"Topic6\", \"Topic6\", \"Topic6\", \"Topic6\", \"Topic6\", \"Topic6\", \"Topic6\"], \"logprob\": [30.0, 29.0, 28.0, 27.0, 26.0, 25.0, 24.0, 23.0, 22.0, 21.0, 20.0, 19.0, 18.0, 17.0, 16.0, 15.0, 14.0, 13.0, 12.0, 11.0, 10.0, 9.0, 8.0, 7.0, 6.0, 5.0, 4.0, 3.0, 2.0, 1.0, -2.3891, -5.9355, -5.9355, -5.9355, -2.7767, -2.7812, -2.781, -2.7153, -8.1907, -9.2289, -8.4848, -9.3195, -9.5823, -10.392, -10.392, -10.392, -9.5638, -9.2785, -9.6255, -8.5092, -8.1498, -9.0242, -9.0195, -8.6447, -9.6197, -7.9793, -9.6568, -9.5132, -9.3172, -8.7208, -7.9068, -9.082, -5.0375, -4.2961, -4.3628, -6.6087, -4.4199, -8.8889, -7.1956, -7.1005, -8.4065, -5.7499, -6.8768, -4.667, -6.7907, -5.807, -7.0267, -4.3401, -4.3569, -3.9388, -5.8099, -5.3152, -4.6261, -5.394, -4.6735, -4.6353, -5.4701, -4.7476, -4.881, -5.7151, -6.2401, -6.0507, -5.8462, -5.9055, -7.9836, -8.7764, -8.4142, -8.3123, -9.1066, -9.0615, -9.2244, -8.8395, -8.8583, -8.0821, -6.8491, -7.8185, -7.8184, -8.8956, -7.8373, -8.5522, -8.9859, -8.6091, -8.6718, -8.9478, -9.0926, -7.4415, -7.9065, -9.7971, -8.6679, -8.992, -10.096, -10.096, -8.2109, -9.7894, -7.7328, -6.1503, -6.3965, -7.2329, -4.5062, -6.3585, -3.6088, -5.1639, -7.1026, -7.3615, -4.8115, -6.2661, -7.3532, -3.9131, -5.9351, -5.8294, -4.9223, -5.1473, -5.0278, -5.6276, -3.6349, -4.2562, -5.5192, -6.0761, -3.77, -4.4821, -5.5496, -3.9753, -3.9759, -3.994, -5.2659, -4.4432, -4.4882, -4.768, -4.815, -4.6559, -4.2504, -4.8796, -4.9243, -5.4265, -5.6759, -5.7812, -8.4142, -8.3218, -7.412, -7.9934, -9.7063, -9.0189, -9.3227, -9.3874, -9.3923, -8.5311, -8.3937, -9.0103, -8.5968, -8.4481, -8.7596, -8.393, -9.3656, -9.436, -8.4567, -7.2377, -9.3756, -8.0421, -9.1994, -6.6428, -8.4393, -10.0742, -10.0742, -10.0742, -10.0742, -8.2159, -7.9351, -8.5038, -7.7748, -7.2776, -6.9032, -7.5366, -7.7991, -6.6777, -7.9781, -3.9368, -6.4523, -4.1902, -5.4636, -5.7614, -7.9167, -3.9621, -5.2956, -5.8978, -6.7862, -6.3601, -4.3549, -6.4209, -4.371, -5.0767, -4.4207, -5.1446, -4.1495, -5.6638, -6.0629, -5.002, -5.6759, -3.8002, -5.1603, -4.292, -4.437, -4.4243, -5.6541, -5.6541, -5.1121, -5.3007, -5.6545, -4.198, -4.2268, -4.2273, -4.5267, -4.2193, -5.3901, -4.8067, -7.783, -8.9329, -8.5268, -8.764, -7.6583, -9.453, -7.2485, -7.7025, -7.7548, -7.3316, -8.5665, -7.7964, -9.3567, -5.9453, -9.2968, -6.6375, -7.808, -9.1877, -6.6303, -6.6502, -8.8079, -5.972, -8.7108, -7.4025, -8.0371, -7.4291, -8.8072, -6.0085, -8.2682, -7.4446, -6.0207, -7.3432, -6.549, -6.1892, -8.1346, -6.5004, -6.633, -4.231, -4.0927, -3.9847, -4.297, -5.7595, -4.3615, -4.4204, -6.1366, -4.145, -5.508, -5.1375, -5.7266, -5.0592, -5.9493, -4.4154, -4.0146, -4.0545, -4.0549, -4.0119, -4.5031, -5.3037, -4.5053, -5.2807, -4.1465, -4.4744, -4.2822, -5.3019, -5.3887, -5.5851, -5.3917, -5.6824, -5.6824, -5.6829, -7.7961, -8.4573, -7.7735, -9.0435, -9.4781, -8.6125, -9.5239, -9.8155, -9.8155, -9.7102, -9.7102, -9.7102, -9.7102, -8.7283, -8.4411, -9.4695, -8.8222, -7.596, -8.826, -8.3402, -8.1673, -8.4843, -9.3127, -9.1877, -9.1877, -9.1877, -9.1877, -9.6915, -3.3658, -9.0292, -3.3285, -2.7107, -6.5129, -3.4787, -3.5153, -3.6359, -5.7944, -4.905, -5.5912, -6.021, -6.9473, -7.2322, -5.0282, -6.2066, -6.8089, -4.4794, -6.6244, -5.8779, -4.4284, -5.9661, -5.9166, -6.3432, -5.9293, -6.5934, -4.1454, -4.146, -4.0808, -4.1584, -5.2518, -5.4682, -4.2313, -5.3883, -5.0496, -5.0893, -5.1072, -5.1533, -5.7348, -5.8128, -5.9271, -5.9222, -8.3573, -7.8559, -8.345, -8.3348, -8.666, -8.3457, -8.1482, -8.2005, -8.2076, -8.2119, -8.2212, -8.8461, -9.2184, -9.1416, -9.0475, -9.0475, -9.0475, -9.0475, -9.0345, -8.3055, -9.2051, -9.2971, -9.0629, -9.8112, -9.2311, -8.1867, -8.1776, -8.8229, -9.6195, -9.7355, -6.8311, -8.839, -8.6346, -3.11, -6.8629, -6.7237, -5.3624, -3.4756, -3.476, -4.0014, -3.4995, -4.3746, -5.7667, -7.0852, -4.4781, -3.6263, -3.6395, -5.9573, -4.2248, -5.5641, -5.216, -4.1602, -4.5903, -4.6203, -4.2566, -4.4164, -4.5295, -4.4564, -6.2156, -5.1238, -5.6524, -5.2232, -5.8158, -5.3363, -5.6966, -5.8161, -5.4826, -5.7574, -5.6707, -5.6868], \"loglift\": [30.0, 29.0, 28.0, 27.0, 26.0, 25.0, 24.0, 23.0, 22.0, 21.0, 20.0, 19.0, 18.0, 17.0, 16.0, 15.0, 14.0, 13.0, 12.0, 11.0, 10.0, 9.0, 8.0, 7.0, 6.0, 5.0, 4.0, 3.0, 2.0, 1.0, 1.1318, 1.1267, 1.1267, 1.1267, 0.8311, 0.8284, 0.8283, 0.7855, 0.5738, 0.5304, 0.5095, 0.4695, 0.4612, 0.4509, 0.4509, 0.4509, 0.45, 0.4478, 0.4449, 0.4437, 0.431, 0.4278, 0.4227, 0.4226, 0.412, 0.3992, 0.388, 0.3824, 0.3798, 0.3792, 0.3577, 0.3761, 0.2831, 0.2575, 0.1847, 0.275, 0.1313, 0.3695, 0.2589, 0.2376, 0.3366, 0.058, 0.1776, -0.1248, 0.1242, -0.0151, 0.1481, -0.2728, -0.3308, -0.4142, -0.0961, -0.2497, -0.4162, -0.2473, -0.4571, -0.4737, -0.2752, -0.5453, -0.5259, -0.3013, -0.1118, -0.2154, -0.4794, -0.6404, 1.1024, 1.0097, 0.9901, 0.9747, 0.973, 0.9533, 0.9446, 0.9419, 0.9237, 0.9198, 0.9195, 0.9062, 0.9047, 0.903, 0.89, 0.8825, 0.8647, 0.8626, 0.8513, 0.8464, 0.8238, 0.8237, 0.8212, 0.8192, 0.8105, 0.7966, 0.7864, 0.7864, 0.7794, 0.763, 0.7548, 0.7135, 0.7009, 0.7244, 0.5592, 0.6562, 0.4173, 0.5167, 0.6671, 0.6916, 0.3834, 0.5281, 0.6738, 0.1542, 0.4537, 0.4043, 0.2244, 0.2665, 0.2373, 0.3412, -0.1104, -0.054, 0.2373, 0.3743, -0.2692, -0.127, 0.1642, -0.366, -0.3662, -0.3862, 0.0547, -0.2815, -0.2719, -0.2168, -0.2614, -0.446, -0.7295, -0.332, -0.382, -0.0597, 0.1595, 0.0107, 1.1585, 1.1012, 1.0729, 1.0403, 0.9674, 0.9194, 0.9096, 0.9026, 0.8992, 0.8896, 0.8805, 0.8704, 0.8637, 0.8566, 0.8547, 0.8545, 0.8511, 0.8462, 0.8333, 0.831, 0.8231, 0.8197, 0.818, 0.8157, 0.8134, 0.7944, 0.7944, 0.7944, 0.7944, 0.7855, 0.7839, 0.784, 0.7696, 0.7517, 0.7341, 0.751, 0.7529, 0.6775, 0.7594, 0.4182, 0.6341, 0.3521, 0.4806, 0.494, 0.7489, 0.2401, 0.4182, 0.4844, 0.5977, 0.5295, 0.1963, 0.5175, 0.1766, 0.29, 0.1329, 0.2692, 0.0604, 0.3049, 0.3883, 0.1447, 0.2771, -0.2756, 0.1048, -0.2247, -0.2206, -0.2626, 0.1891, 0.1891, -0.0467, 0.02, 0.1891, -0.5901, -0.6175, -0.6176, -0.5006, -0.7185, -0.1952, -1.2858, 1.4669, 1.2284, 1.2181, 1.1864, 1.1812, 1.1557, 1.1487, 1.1412, 1.0905, 1.0815, 1.0676, 1.0437, 1.0408, 1.0337, 1.03, 1.0285, 1.0275, 1.0251, 1.0235, 1.0127, 1.0111, 1.0034, 1.001, 0.9966, 0.996, 0.9792, 0.9721, 0.9634, 0.9628, 0.9596, 0.9554, 0.9523, 0.8937, 0.8041, 0.9465, 0.7663, 0.7099, 0.3166, 0.2624, 0.2175, 0.2452, 0.5276, 0.1921, 0.1308, 0.5812, -0.0777, 0.3274, 0.1831, 0.3609, 0.0876, 0.433, -0.2055, -0.4068, -0.4452, -0.4453, -0.4874, -0.2867, 0.1101, -0.3436, 0.086, -0.6256, -0.4482, -0.7814, -0.107, -0.1236, 0.0955, -0.3262, 0.1607, 0.1607, 0.1607, 1.1751, 1.1395, 1.1366, 1.1285, 1.1264, 1.1196, 1.0946, 1.0778, 1.0778, 1.0536, 1.0536, 1.0536, 1.0536, 1.0154, 1.004, 0.98, 0.9201, 0.919, 0.915, 0.9051, 0.8795, 0.879, 0.875, 0.8675, 0.8675, 0.8675, 0.8675, 0.859, 0.8505, 0.8446, 0.8332, 0.8139, 0.831, 0.7312, 0.5108, 0.4314, 0.5833, 0.3601, 0.3618, 0.4294, 0.5717, 0.6029, 0.1667, 0.3823, 0.4507, -0.1243, 0.3997, 0.2096, -0.2261, 0.2013, 0.1667, 0.2854, 0.1488, 0.3567, -0.5361, -0.5364, -0.58, -0.5506, -0.1863, -0.1014, -0.7104, -0.2415, -0.4985, -0.5471, -0.5536, -0.6057, -0.321, -0.4922, -0.1353, -0.2084, 1.3175, 1.293, 1.2016, 1.1797, 1.1223, 1.1051, 1.0875, 1.0346, 1.029, 1.0232, 1.0144, 1.0091, 0.9802, 0.9616, 0.9452, 0.9452, 0.9452, 0.9452, 0.945, 0.928, 0.9154, 0.8963, 0.8959, 0.8868, 0.8648, 0.8252, 0.82, 0.8079, 0.7722, 0.7693, 0.7082, 0.7424, 0.7319, 0.3908, 0.6302, 0.5737, 0.394, 0.1337, 0.1337, 0.2009, 0.1084, 0.1677, 0.3387, 0.5779, 0.0731, -0.1054, -0.115, 0.349, -0.0631, 0.2439, 0.1507, -0.1341, -0.0367, -0.0727, -0.1893, -0.2065, -0.1744, -0.24, 0.3733, -0.0583, 0.1394, -0.0765, 0.1284, -0.1414, -0.0161, 0.027, -0.2175, -0.0436, -0.2569, -0.3662]}, \"token.table\": {\"Topic\": [1, 2, 3, 4, 5, 6, 1, 2, 3, 4, 5, 6, 1, 2, 3, 4, 5, 6, 1, 2, 3, 4, 5, 6, 1, 2, 3, 4, 5, 6, 1, 2, 3, 4, 5, 6, 1, 2, 3, 4, 5, 6, 1, 2, 3, 4, 5, 6, 1, 2, 3, 4, 5, 6, 1, 2, 3, 4, 5, 6, 1, 2, 3, 4, 5, 6, 1, 2, 3, 4, 5, 6, 1, 2, 3, 4, 5, 6, 1, 2, 3, 4, 5, 6, 1, 2, 3, 4, 5, 6, 2, 3, 4, 5, 1, 2, 3, 4, 5, 6, 1, 2, 3, 4, 5, 6, 1, 2, 3, 4, 5, 6, 1, 2, 3, 4, 5, 6, 1, 2, 3, 4, 5, 6, 2, 3, 4, 5, 2, 3, 4, 5, 1, 2, 3, 4, 5, 6, 1, 2, 3, 4, 5, 6, 1, 2, 3, 4, 5, 6, 1, 2, 3, 4, 5, 6, 1, 2, 3, 4, 5, 6, 1, 2, 3, 4, 5, 6, 1, 2, 3, 4, 5, 6, 1, 2, 3, 4, 5, 6, 1, 2, 3, 4, 5, 6, 1, 2, 3, 4, 5, 6, 1, 2, 3, 4, 5, 6, 1, 2, 3, 4, 5, 6, 1, 2, 3, 4, 5, 6, 1, 2, 3, 4, 5, 6, 1, 2, 3, 4, 5, 6, 1, 2, 3, 4, 5, 6, 1, 2, 3, 4, 5, 6, 1, 2, 3, 4, 5, 6, 1, 2, 3, 4, 5, 6, 1, 2, 3, 4, 5, 6, 1, 2, 3, 4, 5, 6, 1, 2, 3, 4, 5, 6, 1, 2, 3, 4, 5, 6, 1, 2, 3, 4, 5, 6, 1, 2, 3, 4, 5, 6, 1, 2, 3, 4, 5, 6, 1, 2, 3, 4, 5, 6, 1, 2, 3, 4, 5, 6, 1, 2, 3, 4, 5, 6, 2, 3, 4, 5, 1, 2, 3, 4, 5, 6, 1, 2, 3, 4, 5, 6, 1, 2, 3, 4, 5, 6, 1, 2, 3, 4, 5, 6, 1, 2, 3, 4, 5, 6, 1, 2, 3, 4, 5, 6, 1, 2, 3, 4, 5, 6, 1, 2, 3, 4, 5, 6, 1, 2, 3, 4, 5, 6, 1, 2, 3, 4, 5, 6, 1, 2, 3, 4, 5, 6, 1, 2, 3, 4, 5, 6, 1, 2, 3, 4, 5, 6, 1, 2, 3, 4, 5, 6, 1, 2, 3, 4, 5, 6, 1, 2, 3, 4, 5, 6, 1, 2, 3, 4, 5, 6, 1, 2, 3, 4, 5, 6, 1, 2, 3, 4, 5, 6, 2, 4, 5, 1, 2, 3, 4, 5, 6, 1, 2, 3, 4, 5, 6, 1, 2, 3, 4, 5, 6, 3, 4, 6, 1, 2, 3, 4, 5, 6, 1, 2, 3, 4, 5, 6, 1, 2, 3, 4, 5, 6, 1, 2, 3, 4, 5, 6, 1, 2, 3, 4, 5, 6, 1, 2, 3, 4, 5, 6, 1, 2, 3, 4, 5, 6, 1, 2, 3, 4, 5, 6, 1, 2, 3, 4, 5, 6, 1, 2, 3, 4, 5, 6, 1, 2, 3, 4, 5, 6, 1, 2, 3, 4, 5, 6, 1, 2, 3, 4, 5, 6, 1, 2, 3, 4, 5, 6, 1, 2, 3, 4, 5, 6, 1, 2, 3, 4, 5, 6, 1, 2, 3, 4, 5, 6, 1, 2, 3, 4, 5, 1, 2, 3, 4, 5, 6, 1, 2, 3, 4, 5, 6, 1, 2, 3, 4, 5, 6, 1, 2, 3, 4, 5, 6, 1, 2, 3, 4, 5, 6, 1, 2, 3, 4, 5, 6, 1, 2, 3, 4, 5, 6, 1, 2, 3, 4, 5, 6, 1, 2, 3, 4, 5, 6, 1, 2, 3, 4, 5, 6, 1, 2, 3, 4, 5, 6, 1, 2, 3, 4, 5, 6, 1, 2, 3, 4, 5, 6, 1, 2, 3, 4, 5, 6, 1, 2, 3, 4, 5, 6, 1, 2, 3, 4, 5, 6, 1, 2, 3, 4, 5, 6, 1, 2, 3, 4, 5, 6, 1, 2, 3, 4, 5, 6, 1, 2, 3, 4, 5, 6, 1, 2, 3, 4, 5, 6, 1, 2, 3, 4, 5, 1, 2, 3, 4, 5, 6, 1, 2, 3, 4, 5, 6, 1, 2, 3, 4, 5, 6, 1, 2, 3, 4, 5, 6, 1, 2, 3, 4, 5, 6, 1, 2, 3, 4, 5, 6, 1, 2, 3, 4, 5, 6, 1, 2, 3, 4, 5, 6, 1, 2, 3, 4, 5, 6, 1, 2, 3, 4, 5, 6, 1, 2, 3, 4, 5, 6, 1, 2, 3, 4, 5, 6, 1, 2, 3, 4, 5, 6, 1, 2, 3, 4, 5, 6, 1, 2, 3, 4, 5, 6, 1, 2, 3, 4, 5, 6, 1, 2, 3, 4, 5, 6, 1, 2, 3, 4, 5, 6, 1, 2, 3, 4, 5, 1, 2, 3, 4, 5, 6, 1, 2, 3, 4, 5, 6, 1, 2, 3, 4, 5, 6, 1, 2, 3, 4, 5, 6, 1, 2, 3, 4, 5, 6, 3, 4, 6, 1, 2, 3, 4, 5, 6, 1, 2, 3, 4, 5, 6, 1, 2, 3, 4, 5, 6, 1, 2, 3, 4, 5, 6, 1, 2, 3, 4, 5, 6, 1, 2, 3, 4, 5, 6, 1, 2, 3, 4, 5, 6, 3, 4, 6, 1, 2, 3, 4, 5, 6, 1, 2, 3, 4, 5, 6, 1, 2, 3, 4, 5, 6, 1, 2, 3, 4, 5, 6, 1, 2, 3, 4, 5, 6, 1, 2, 3, 4, 5, 6, 1, 2, 3, 4, 5, 6, 1, 2, 3, 4, 5, 6, 1, 2, 3, 4, 5, 6, 2, 3, 4, 5, 2, 4, 5, 1, 2, 3, 4, 5, 6, 1, 2, 3, 4, 5, 6, 1, 2, 3, 4, 5, 6, 1, 2, 3, 4, 5, 6, 1, 2, 3, 4, 5, 6, 1, 2, 3, 4, 5, 6, 1, 2, 3, 4, 5, 6, 3, 4, 6, 1, 2, 3, 4, 5, 6, 1, 2, 3, 4, 5, 6, 1, 2, 3, 4, 5, 6, 1, 2, 3, 4, 5, 6, 1, 2, 3, 4, 5, 6, 1, 2, 3, 4, 5, 6, 1, 2, 3, 4, 5, 6, 1, 2, 3, 4, 5, 6, 1, 2, 3, 4, 5, 6, 1, 2, 3, 4, 5, 6, 1, 2, 3, 4, 5, 6, 1, 2, 3, 4, 5, 6, 1, 2, 3, 4, 5, 6, 1, 2, 3, 4, 5, 6, 1, 2, 3, 4, 5, 6, 1, 2, 3, 4, 5, 6, 1, 2, 3, 4, 5, 6, 1, 2, 3, 4, 5, 6, 1, 2, 3, 4, 5, 6, 1, 2, 3, 4, 5, 6, 1, 2, 3, 4, 5, 6, 1, 2, 3, 4, 5, 6, 1, 2, 3, 4, 5, 6, 1, 2, 3, 4, 5, 6, 1, 2, 3, 4, 5, 6, 1, 2, 3, 4, 5, 6, 1, 2, 3, 4, 5, 6, 1, 2, 3, 4, 5, 6, 1, 2, 3, 4, 5, 6, 1, 2, 3, 4, 5, 6, 1, 2, 3, 4, 5, 6, 1, 2, 3, 4, 5, 6, 1, 2, 3, 4, 5, 6, 1, 2, 3, 4, 5, 6, 1, 2, 3, 4, 5, 6, 1, 2, 3, 4, 5, 6, 1, 2, 3, 4, 5, 6, 1, 2, 3, 4, 5, 6, 1, 2, 3, 4, 5, 6, 1, 2, 3, 4, 5, 6, 1, 2, 3, 4, 5, 6, 1, 2, 3, 4, 5, 6, 1, 2, 3, 4, 5, 6, 1, 2, 3, 4, 5, 6, 1, 2, 3, 4, 5, 6, 1, 2, 3, 4, 5, 6, 1, 2, 3, 4, 5, 6, 1, 2, 3, 4, 5, 6, 1, 2, 3, 4, 5, 6, 1, 2, 3, 4, 5, 6, 1, 2, 3, 4, 5, 6, 1, 2, 3, 4, 5, 6, 1, 2, 3, 4, 5, 6, 1, 2, 3, 4, 5, 6, 1, 2, 3, 4, 5, 6, 1, 2, 3, 4, 5, 6, 1, 2, 3, 4, 5, 6, 1, 2, 3, 4, 5, 6, 1, 2, 3, 4, 5, 6, 1, 2, 3, 4, 5, 6, 2, 3, 4, 5, 6, 1, 2, 3, 4, 5, 6, 1, 2, 3, 4, 5, 6, 1, 2, 3, 4, 5, 6, 1, 2, 3, 4, 5, 6, 1, 2, 3, 4, 5, 6, 1, 2, 3, 4, 5, 6, 1, 2, 3, 4, 5, 6, 1, 2, 3, 4, 5, 6, 1, 2, 3, 4, 5, 6, 1, 2, 3, 4, 5, 6, 1, 2, 3, 4, 5, 6, 2, 3, 4, 5, 1, 2, 3, 4, 5, 6, 1, 2, 3, 4, 5, 6, 1, 2, 3, 4, 5, 6, 1, 2, 3, 4, 5, 6, 1, 2, 3, 4, 5, 6, 1, 2, 3, 4, 5, 6, 1, 2, 3, 4, 5, 6, 1, 2, 3, 4, 5, 6, 1, 2, 3, 4, 5, 6, 1, 2, 3, 4, 5, 6, 1, 2, 3, 4, 5, 6, 1, 2, 3, 4, 5, 6, 1, 2, 3, 4, 5, 6, 1, 2, 3, 4, 5, 6, 1, 2, 3, 4, 5, 6, 1, 2, 3, 4, 5, 6, 1, 2, 3, 4, 5, 6, 1, 2, 3, 4, 5, 6, 1, 2, 3, 4, 5, 6, 1, 2, 3, 4, 5, 6, 1, 2, 3, 4, 5, 6, 1, 2, 3, 4, 5, 6, 1, 2, 3, 4, 5, 6, 1, 2, 3, 4, 5, 6, 1, 2, 3, 4, 5, 6, 1, 2, 3, 4, 5, 6, 1, 2, 3, 4, 5, 6, 1, 2, 3, 4, 5, 6, 1, 2, 3, 4, 5, 6, 2, 3, 4, 5, 1, 2, 3, 4, 5, 6, 1, 2, 3, 4, 5, 6, 1, 2, 3, 4, 5, 6, 1, 2, 3, 4, 5, 6, 1, 2, 3, 4, 5, 6, 1, 2, 3, 4, 5, 6, 1, 2, 3, 4, 5, 6, 1, 2, 3, 4, 5, 6], \"Freq\": [0.2893753561329343, 0.19291690408862286, 0.19291690408862286, 0.09645845204431143, 0.09645845204431143, 0.09645845204431143, 0.09874779097103037, 0.09874779097103037, 0.09874779097103037, 0.09874779097103037, 0.3949911638841215, 0.09874779097103037, 0.062447180820863604, 0.12489436164172721, 0.062447180820863604, 0.12489436164172721, 0.49957744656690883, 0.062447180820863604, 0.11221597994883377, 0.17307888432786225, 0.21492213108844435, 0.19590247346999795, 0.10080418537776593, 0.2035103365173765, 0.12302906436141738, 0.0984232514891339, 0.3690871930842521, 0.0984232514891339, 0.12302906436141738, 0.1722406901059843, 0.1833662852818845, 0.1375247139614134, 0.366732570563769, 0.09168314264094225, 0.09168314264094225, 0.09168314264094225, 0.0700548268031283, 0.1401096536062566, 0.1401096536062566, 0.4203289608187698, 0.0700548268031283, 0.0700548268031283, 0.18089662226222397, 0.09044831113111199, 0.4070174000900039, 0.09044831113111199, 0.09044831113111199, 0.13567246669666796, 0.07148659891088495, 0.1429731978217699, 0.07148659891088495, 0.07148659891088495, 0.5004061923761947, 0.07148659891088495, 0.2659136905715962, 0.18613958340011733, 0.10636547622863847, 0.1595482143429577, 0.1595482143429577, 0.10636547622863847, 0.07509579811350833, 0.45057478868105, 0.15019159622701667, 0.15019159622701667, 0.07509579811350833, 0.15019159622701667, 0.2438180855587296, 0.18394816419377466, 0.17266832393660922, 0.20043408456963183, 0.09804784223536102, 0.10065088229470688, 0.16214430210846156, 0.11871990670349275, 0.240626924996341, 0.21353647648681917, 0.09282462503997922, 0.17210402582519754, 0.12141272242527529, 0.16350246619937073, 0.2735833345316203, 0.17321548399339276, 0.10198668683723125, 0.1651213024983744, 0.07024220504882767, 0.4314878310142271, 0.12041520865513315, 0.13044980937639425, 0.11038060793387205, 0.13044980937639425, 0.20057240322387807, 0.20057240322387807, 0.20057240322387807, 0.40114480644775613, 0.0948464422843515, 0.4742322114217575, 0.189692884568703, 0.189692884568703, 0.0948464422843515, 0.0948464422843515, 0.06785437549653729, 0.15380325112548454, 0.10404337576135718, 0.43879162821094114, 0.08594887562894724, 0.14927962609238205, 0.15481194256265984, 0.15481194256265984, 0.15481194256265984, 0.15481194256265984, 0.15481194256265984, 0.3096238851253197, 0.24022038899136494, 0.12011019449568247, 0.16152750294246954, 0.1325353870297186, 0.1325353870297186, 0.211228273078614, 0.039898887821541176, 0.1994944391077059, 0.07979777564308235, 0.07979777564308235, 0.07979777564308235, 0.5186855416800353, 0.18330693873312479, 0.36661387746624957, 0.18330693873312479, 0.18330693873312479, 0.20057240322387807, 0.20057240322387807, 0.20057240322387807, 0.40114480644775613, 0.307631270236521, 0.17090626124251165, 0.20508751349101398, 0.13672500899400933, 0.13672500899400933, 0.06836250449700466, 0.0764052988152026, 0.45843179289121555, 0.1528105976304052, 0.1528105976304052, 0.0764052988152026, 0.1528105976304052, 0.08662706181012998, 0.12994059271519498, 0.12994059271519498, 0.43313530905064995, 0.12994059271519498, 0.12994059271519498, 0.14670295727262073, 0.3467524444625581, 0.17337622223127905, 0.1200296923139624, 0.10669305983463326, 0.0933564273553041, 0.13031493894126137, 0.41700780461203635, 0.10425195115300909, 0.07818896336475682, 0.07818896336475682, 0.1824409145177659, 0.0710695857226417, 0.17767396430660426, 0.10660437858396256, 0.4619523071971711, 0.10660437858396256, 0.0710695857226417, 0.13086475168662517, 0.4187672053972006, 0.0785188510119751, 0.0785188510119751, 0.0785188510119751, 0.18321065236127523, 0.0871124323381083, 0.0871124323381083, 0.13066864850716245, 0.13066864850716245, 0.13066864850716245, 0.3920059455214873, 0.21056804899320639, 0.1994855200988271, 0.17732046231006854, 0.16623793341568927, 0.11082528894379284, 0.12744908228536175, 0.09685607728373397, 0.2207990236383427, 0.18796645506758541, 0.14774655856840774, 0.22982797999530094, 0.11737643264045727, 0.08698006700400326, 0.13047010050600488, 0.13047010050600488, 0.13047010050600488, 0.08698006700400326, 0.3914103015180147, 0.14141687424781044, 0.13478795826744433, 0.2762048325152548, 0.21654458869195975, 0.11048193300610192, 0.11932048764659006, 0.07797769875851181, 0.07797769875851181, 0.15595539751702361, 0.4678661925510708, 0.07797769875851181, 0.07797769875851181, 0.16236054556834303, 0.32472109113668607, 0.16236054556834303, 0.16236054556834303, 0.16236054556834303, 0.16236054556834303, 0.29514758459557683, 0.13117670426470082, 0.16397088033087603, 0.16397088033087603, 0.13117670426470082, 0.13117670426470082, 0.08892824887004394, 0.08892824887004394, 0.08892824887004394, 0.5335694932202636, 0.08892824887004394, 0.08892824887004394, 0.4209546601248452, 0.120675758859319, 0.09121206708587488, 0.10704096532586348, 0.09387633708666504, 0.16628179240225643, 0.2072193100540412, 0.1036096550270206, 0.1036096550270206, 0.1036096550270206, 0.1036096550270206, 0.4144386201080824, 0.10541571793812893, 0.10541571793812893, 0.10541571793812893, 0.10541571793812893, 0.10541571793812893, 0.3162471538143868, 0.11843642134547522, 0.20726373735458165, 0.16285007935002843, 0.20356259918753555, 0.18690747743582808, 0.12213755951252132, 0.09874779097103037, 0.09874779097103037, 0.09874779097103037, 0.09874779097103037, 0.3949911638841215, 0.09874779097103037, 0.10648417582159925, 0.12142932330533247, 0.19615506072399863, 0.23912235973973164, 0.19802320415946528, 0.13824261422453235, 0.11404620744382175, 0.13229360063483322, 0.1756311594634855, 0.28283459446067793, 0.17791208361236194, 0.11404620744382175, 0.059384668252471594, 0.17815400475741477, 0.059384668252471594, 0.11876933650494319, 0.11876933650494319, 0.47507734601977275, 0.06481424688057766, 0.12962849376115532, 0.12962849376115532, 0.5185139750446213, 0.12962849376115532, 0.12962849376115532, 0.2717740208184209, 0.16306441249105252, 0.10870960832736835, 0.2174192166547367, 0.10870960832736835, 0.10870960832736835, 0.18780551505833443, 0.18780551505833443, 0.18780551505833443, 0.18780551505833443, 0.18780551505833443, 0.37561103011666885, 0.30271744396279343, 0.15135872198139672, 0.15135872198139672, 0.22703808297209505, 0.15135872198139672, 0.07567936099069836, 0.148788103617096, 0.148788103617096, 0.198384138156128, 0.099192069078064, 0.099192069078064, 0.297576207234192, 0.20057240322387807, 0.20057240322387807, 0.20057240322387807, 0.40114480644775613, 0.09277225512094825, 0.09277225512094825, 0.09277225512094825, 0.09277225512094825, 0.09277225512094825, 0.371089020483793, 0.10441772773111023, 0.4176709109244409, 0.10441772773111023, 0.07831329579833267, 0.10441772773111023, 0.1827310235294429, 0.10897099876157104, 0.16345649814235655, 0.38139849566549866, 0.05448549938078552, 0.16345649814235655, 0.10897099876157104, 0.13905592519314494, 0.13905592519314494, 0.13905592519314494, 0.41716777557943485, 0.13905592519314494, 0.13905592519314494, 0.1770102946929718, 0.13111873680960875, 0.11800686312864787, 0.34090871570498277, 0.12456279996912832, 0.11800686312864787, 0.06680375146767617, 0.10020562720151426, 0.10020562720151426, 0.10020562720151426, 0.5344300117414094, 0.10020562720151426, 0.13210248987653606, 0.17613665316871474, 0.39630746962960817, 0.13210248987653606, 0.13210248987653606, 0.08806832658435737, 0.23486665098653048, 0.17614998823989786, 0.18919813551692732, 0.15005369368583893, 0.1109092518547505, 0.14352962004732417, 0.20938671418054178, 0.15810833519755196, 0.19229392118621183, 0.20938671418054178, 0.13246914570605703, 0.09828355971739716, 0.0749287878432009, 0.5245015149024063, 0.0749287878432009, 0.11239318176480136, 0.11239318176480136, 0.11239318176480136, 0.12919670031737468, 0.12919670031737468, 0.12919670031737468, 0.19379505047606202, 0.12919670031737468, 0.3229917507934367, 0.2760736878276008, 0.1380368439138004, 0.1380368439138004, 0.1380368439138004, 0.20705526587070058, 0.1380368439138004, 0.06349599086492133, 0.12699198172984266, 0.10582665144153554, 0.12699198172984266, 0.40214127547783507, 0.14815731201814974, 0.13180341431692694, 0.13180341431692694, 0.17573788575590257, 0.08786894287795129, 0.3954102429507808, 0.08786894287795129, 0.07514700999055707, 0.45088205994334246, 0.15029401998111414, 0.15029401998111414, 0.07514700999055707, 0.15029401998111414, 0.08051424806080677, 0.08946027562311863, 0.1520824685593017, 0.4651934332402169, 0.08946027562311863, 0.11629835831005422, 0.14649564440464824, 0.14649564440464824, 0.14649564440464824, 0.14649564440464824, 0.4394869332139447, 0.14649564440464824, 0.06813998488372933, 0.12719463844962806, 0.1135666414728822, 0.43609590325586767, 0.1135666414728822, 0.14536530108528922, 0.5694007155355139, 0.10397752196735471, 0.08417227968785858, 0.09407490082760664, 0.054464416268614375, 0.09407490082760664, 0.22830928734839384, 0.22830928734839384, 0.4566185746967877, 0.12686030807419743, 0.24059713600278823, 0.28434206982147703, 0.1531072683654107, 0.08748986763737754, 0.10936233454672192, 0.12279549553170835, 0.1508630373675274, 0.1859474646623012, 0.2982176320055774, 0.0947279536958893, 0.14735459463805, 0.11020522531891011, 0.3857182886161854, 0.11020522531891011, 0.16530783797836518, 0.11020522531891011, 0.11020522531891011, 0.4454988591404622, 0.2227494295702311, 0.2227494295702311, 0.10471689117465333, 0.15707533676198, 0.4188675646986133, 0.10471689117465333, 0.15707533676198, 0.10471689117465333, 0.053094755335491316, 0.4247580426839305, 0.10618951067098263, 0.10618951067098263, 0.10618951067098263, 0.15928426600647394, 0.0573467289324265, 0.114693457864853, 0.17204018679727948, 0.4970049840810296, 0.0573467289324265, 0.114693457864853, 0.06834241174305768, 0.11390401957176279, 0.08656705487453972, 0.46928456063566265, 0.09567937644028074, 0.1640217881833384, 0.11611045268048267, 0.2527109852457564, 0.3073511982718659, 0.15709061245006478, 0.08196031953916424, 0.08196031953916424, 0.10556690544596128, 0.35324310668456277, 0.10556690544596128, 0.17459142054524368, 0.16241062376301738, 0.09744637425781043, 0.0874925181854246, 0.11665669091389946, 0.0874925181854246, 0.46662676365559785, 0.14582086364237432, 0.0874925181854246, 0.130909166424205, 0.39272749927261497, 0.104727333139364, 0.104727333139364, 0.078545499854523, 0.209454666278728, 0.1011906869988072, 0.505953434994036, 0.1011906869988072, 0.1011906869988072, 0.1011906869988072, 0.1011906869988072, 0.09652088414620652, 0.13941905487785386, 0.16086814024367754, 0.23593993902406038, 0.28956265243861956, 0.07507179878038285, 0.10162708120627614, 0.18761922684235594, 0.0859921456360798, 0.21107163019765043, 0.28142884026353393, 0.1328969523466688, 0.0575064135497573, 0.2300256541990292, 0.1150128270995146, 0.0575064135497573, 0.1150128270995146, 0.4600513083980584, 0.08784895897298473, 0.11713194529731297, 0.08784895897298473, 0.5563767401622366, 0.08784895897298473, 0.08784895897298473, 0.09874779097103037, 0.09874779097103037, 0.09874779097103037, 0.09874779097103037, 0.3949911638841215, 0.09874779097103037, 0.20982528707635534, 0.1398835247175702, 0.20580564556148262, 0.19053100780496635, 0.09727532465991952, 0.15636405492854832, 0.14426092954540115, 0.07213046477270058, 0.14426092954540115, 0.14426092954540115, 0.4327827886362035, 0.07213046477270058, 0.11099296549070574, 0.11099296549070574, 0.11099296549070574, 0.11099296549070574, 0.44397186196282296, 0.11099296549070574, 0.217088986287863, 0.217088986287863, 0.217088986287863, 0.217088986287863, 0.217088986287863, 0.08790015665168902, 0.14650026108614836, 0.11720020886891869, 0.46880083547567475, 0.11720020886891869, 0.058600104434459344, 0.13998720561725775, 0.2029195069036002, 0.13503190630337253, 0.15460533859321918, 0.24702167079717874, 0.1204137733274111, 0.13771214422049818, 0.10328410816537363, 0.37870839660636996, 0.13771214422049818, 0.13771214422049818, 0.10328410816537363, 0.0915541048279425, 0.0915541048279425, 0.0915541048279425, 0.0915541048279425, 0.0915541048279425, 0.36621641931177, 0.2674898878585547, 0.10699595514342189, 0.10699595514342189, 0.21399191028684378, 0.16049393271513282, 0.16049393271513282, 0.13484759147621325, 0.19297155331940863, 0.10462313131775167, 0.20227138721431986, 0.1580971762134914, 0.2069213041617755, 0.10178835128637793, 0.13571780171517056, 0.148055783689277, 0.1696472521439632, 0.2344216575080219, 0.21283018905333567, 0.050984337697345505, 0.11896345462713952, 0.20393735078938202, 0.42486948081121256, 0.08497389616224252, 0.10196867539469101, 0.1480786213575218, 0.20469691775892723, 0.18146889872245323, 0.23228019036474012, 0.13356110945972557, 0.10017083209479417, 0.051505183698120426, 0.46354665328308386, 0.15451555109436127, 0.10301036739624085, 0.10301036739624085, 0.051505183698120426, 0.12609264297260014, 0.15263846254577912, 0.3318227446647372, 0.09291036850612643, 0.13936555275918963, 0.15263846254577912, 0.07271053746012304, 0.3635526873006152, 0.12118422910020507, 0.1696579207402871, 0.13330265201022556, 0.14542107492024609, 0.08968052845796495, 0.1793610569159299, 0.08968052845796495, 0.1793610569159299, 0.08968052845796495, 0.3587221138318598, 0.07564205688095045, 0.37821028440475224, 0.22692617064285134, 0.07564205688095045, 0.07564205688095045, 0.1512841137619009, 0.15175026707249523, 0.13488912628666241, 0.35408395650248886, 0.11802798550082962, 0.13488912628666241, 0.11802798550082962, 0.10436920142650372, 0.24352813666184203, 0.1391589352353383, 0.06957946761766914, 0.10436920142650372, 0.3478973380883457, 0.08085000988150093, 0.16170001976300186, 0.08085000988150093, 0.16170001976300186, 0.08085000988150093, 0.4042500494075046, 0.049437163783307675, 0.14831149134992302, 0.09887432756661535, 0.1977486551332307, 0.3954973102664614, 0.09887432756661535, 0.16345533494623102, 0.15177995387864307, 0.21988634343957267, 0.19458968445979882, 0.10897022329748735, 0.15956354125703504, 0.19492482419580023, 0.1638498522225567, 0.18362483438734806, 0.14831236623593497, 0.12288738916691755, 0.1850373331134046, 0.106617788551368, 0.16474716794772554, 0.21493692479238546, 0.20784797608551261, 0.1278846346719866, 0.17779083356837164, 0.217088986287863, 0.217088986287863, 0.217088986287863, 0.217088986287863, 0.217088986287863, 0.10045571249720375, 0.34154942249049275, 0.2009114249944075, 0.11050128374692413, 0.13059242624636488, 0.11050128374692413, 0.12510662685651722, 0.16190269357902226, 0.38267909391405264, 0.16926190692352328, 0.08095134678951113, 0.07359213344501012, 0.1730769068095786, 0.3461538136191572, 0.1730769068095786, 0.1730769068095786, 0.1730769068095786, 0.1730769068095786, 0.13925651655292104, 0.25555866224547047, 0.13925651655292104, 0.14996855628776112, 0.18975613244573855, 0.1262490397320438, 0.16587279998786758, 0.08293639999393379, 0.4146819999696689, 0.08293639999393379, 0.08293639999393379, 0.16587279998786758, 0.3008013085534994, 0.3008013085534994, 0.10026710285116647, 0.10026710285116647, 0.10026710285116647, 0.10026710285116647, 0.15491731657608204, 0.15934352562111295, 0.13278627135092747, 0.1460648984860202, 0.2301628703416076, 0.18147457084626753, 0.29318177101072546, 0.09772725700357515, 0.09772725700357515, 0.09772725700357515, 0.09772725700357515, 0.29318177101072546, 0.12956770202513007, 0.12956770202513007, 0.12956770202513007, 0.5182708081005203, 0.12956770202513007, 0.12956770202513007, 0.141658131876775, 0.1541573788070787, 0.2874826793969846, 0.09582755979899486, 0.16665662573738235, 0.1541573788070787, 0.2770108684526357, 0.12927173861122998, 0.1477391298414057, 0.12927173861122998, 0.1477391298414057, 0.18467391230175711, 0.10980819695091426, 0.10980819695091426, 0.10980819695091426, 0.5490409847545713, 0.10980819695091426, 0.10980819695091426, 0.08982381240605511, 0.14970635401009186, 0.3892365204262388, 0.11976508320807348, 0.11976508320807348, 0.14970635401009186, 0.09277225512094825, 0.09277225512094825, 0.09277225512094825, 0.09277225512094825, 0.09277225512094825, 0.371089020483793, 0.13196151144610194, 0.26416079138129595, 0.10247821879868457, 0.10675805160234193, 0.26725178173949293, 0.12720614166426042, 0.10981825430963175, 0.15374555603348444, 0.3514184137908216, 0.1757092068954108, 0.0878546034477054, 0.10981825430963175, 0.1552842402269711, 0.29541879848057917, 0.14770939924028959, 0.15149681973363036, 0.1817961836803564, 0.06817356888013366, 0.16712873270897424, 0.2044112961594377, 0.25712112724457575, 0.10156284526160742, 0.12984616925851075, 0.1388454087120709, 0.217088986287863, 0.217088986287863, 0.217088986287863, 0.217088986287863, 0.217088986287863, 0.08851956608377608, 0.17703913216755215, 0.3983380473769923, 0.08851956608377608, 0.1327793491256641, 0.1327793491256641, 0.13759639352042385, 0.12950248801922246, 0.2104415430312365, 0.20639459028063578, 0.19627720840413404, 0.1193851061427207, 0.05644227133513529, 0.09407045222522549, 0.18814090445045098, 0.5267945324612627, 0.05644227133513529, 0.07525636178018039, 0.08149945111041437, 0.0905549456782382, 0.10866593481388584, 0.4708857175268386, 0.09961044024606201, 0.14488791308518112, 0.12297000731493898, 0.1844550109724085, 0.12297000731493898, 0.12297000731493898, 0.12297000731493898, 0.3074250182873475, 0.4454988591404622, 0.2227494295702311, 0.2227494295702311, 0.29280896572960274, 0.19520597715306848, 0.19520597715306848, 0.19520597715306848, 0.09760298857653424, 0.09760298857653424, 0.11338263416847245, 0.11338263416847245, 0.11338263416847245, 0.2267652683369449, 0.11338263416847245, 0.3401479025054174, 0.12115317576066371, 0.11143806261004445, 0.1797295932864563, 0.13601158410866965, 0.3331712333418252, 0.11829578953989334, 0.4209601430646203, 0.12056549348852627, 0.09124722654138138, 0.10708222633636338, 0.09375574136038844, 0.16634588893540492, 0.11647149879870376, 0.1325761998671665, 0.13573962329132883, 0.12538660117588848, 0.3755846356323633, 0.11445841116514592, 0.07786829094208667, 0.12978048490347777, 0.3633853577297378, 0.12978048490347777, 0.15573658188417333, 0.12978048490347777, 0.11066434472004977, 0.44265737888019907, 0.11066434472004977, 0.11066434472004977, 0.11066434472004977, 0.11066434472004977, 0.4454988591404622, 0.2227494295702311, 0.2227494295702311, 0.1218981018893632, 0.1218981018893632, 0.5485414585021344, 0.0609490509446816, 0.0609490509446816, 0.0609490509446816, 0.09634735591424995, 0.18452968166627534, 0.22372182644495328, 0.1567685791147118, 0.23025385057473294, 0.10941140417380926, 0.07545461669082554, 0.4527277001449532, 0.07545461669082554, 0.15090923338165108, 0.07545461669082554, 0.07545461669082554, 0.11915134537972481, 0.15727977590123676, 0.1906421526075597, 0.17634399116199273, 0.23830269075944963, 0.11915134537972481, 0.056548980819734536, 0.13194762191271392, 0.2073462630056933, 0.4523918465578763, 0.07539864109297938, 0.07539864109297938, 0.08625797317938967, 0.12711701310646897, 0.10441754648031382, 0.45398933252310353, 0.08625797317938967, 0.14073669308216208, 0.11362008048354892, 0.2726881931605174, 0.1615930033543807, 0.20704103554780026, 0.12876942454802212, 0.11614497116096112, 0.5694007155355139, 0.10397752196735471, 0.08417227968785858, 0.09407490082760664, 0.054464416268614375, 0.09407490082760664, 0.10857236214304299, 0.20508112849241453, 0.1447631495240573, 0.13873135162722158, 0.2533355116671003, 0.15079494742089303, 0.20057240322387807, 0.20057240322387807, 0.20057240322387807, 0.40114480644775613, 0.22830928734839384, 0.22830928734839384, 0.4566185746967877, 0.08786008257831252, 0.17572016515662503, 0.4393004128915626, 0.08786008257831252, 0.08786008257831252, 0.08786008257831252, 0.2701167225332343, 0.21609337802658746, 0.21609337802658746, 0.10804668901329373, 0.10804668901329373, 0.054023344506646864, 0.0823688060333416, 0.1647376120666832, 0.0823688060333416, 0.1647376120666832, 0.41184403016670795, 0.1647376120666832, 0.04581045165490841, 0.458104516549084, 0.04581045165490841, 0.09162090330981681, 0.3206731615843588, 0.04581045165490841, 0.22108650655993936, 0.1249619384904005, 0.2018615929460316, 0.229497406266024, 0.0877136683634542, 0.13537543336460053, 0.10496426839048581, 0.10496426839048581, 0.524821341952429, 0.10496426839048581, 0.10496426839048581, 0.10496426839048581, 0.1215258366301122, 0.1557949706561391, 0.1284372586185546, 0.10266341411998815, 0.3619857266446707, 0.12973315024138754, 0.4454988591404622, 0.2227494295702311, 0.2227494295702311, 0.12709585862998207, 0.12709585862998207, 0.38128757588994616, 0.12709585862998207, 0.12709585862998207, 0.12709585862998207, 0.08702910639870257, 0.13054365959805386, 0.13054365959805386, 0.13054365959805386, 0.08702910639870257, 0.43514553199351286, 0.22106616613757218, 0.13755228115226714, 0.1915906773192292, 0.17685293291005774, 0.1522900255614386, 0.12281453674309566, 0.0804820105549925, 0.40241005277496256, 0.0804820105549925, 0.160964021109985, 0.0804820105549925, 0.160964021109985, 0.10730382516555029, 0.10730382516555029, 0.10730382516555029, 0.10730382516555029, 0.42921530066220115, 0.16095573774832542, 0.11606209894997417, 0.11606209894997417, 0.3481862968499225, 0.11606209894997417, 0.11606209894997417, 0.11606209894997417, 0.11427432889508367, 0.1676023490461227, 0.10665604030207809, 0.19045721482513944, 0.1371291946741004, 0.2742583893482008, 0.26362475351182807, 0.11533582966142478, 0.13181237675591403, 0.26362475351182807, 0.08238273547244626, 0.13181237675591403, 0.13234091298142253, 0.13733490969770262, 0.17978388178608343, 0.1672988899953832, 0.2871548111861055, 0.09738293596746186, 0.29385980702662046, 0.1356276032430556, 0.15823220378356487, 0.18083680432407412, 0.1356276032430556, 0.11302300270254634, 0.13619278691589495, 0.2266705124893916, 0.2209561298215918, 0.18666983381479307, 0.11619244757859569, 0.11238285913339584, 0.09426838025915649, 0.1256911736788753, 0.09426838025915649, 0.09426838025915649, 0.5027646947155012, 0.1256911736788753, 0.13314701565578982, 0.17411532816526362, 0.20484156254736896, 0.19606263843819602, 0.1419259397649628, 0.14924170985594024, 0.1440747700957652, 0.13781064965681886, 0.1566030109736578, 0.1440747700957652, 0.1566030109736578, 0.2568289379967988, 0.17175629864150704, 0.17175629864150704, 0.17175629864150704, 0.5152688959245212, 0.17175629864150704, 0.17175629864150704, 0.10559208625558711, 0.13199010781948387, 0.351973620851957, 0.14958878886208174, 0.1671874699046796, 0.08799340521298925, 0.13078756992617405, 0.19618135488926108, 0.37056478145749316, 0.13078756992617405, 0.08719171328411604, 0.08719171328411604, 0.32597652669034144, 0.21731768446022762, 0.08149413167258536, 0.16298826334517072, 0.13582355278764227, 0.10865884223011381, 0.130232058973551, 0.1432552648709061, 0.36464976512594277, 0.1432552648709061, 0.1041856471788408, 0.130232058973551, 0.11788978727024872, 0.11788978727024872, 0.4715591490809949, 0.11788978727024872, 0.11788978727024872, 0.11788978727024872, 0.09324863050005607, 0.09324863050005607, 0.41961883725025234, 0.18649726100011213, 0.09324863050005607, 0.1398729457500841, 0.057070561201884994, 0.11414112240376999, 0.171211683605655, 0.4375409692144516, 0.09511760200314166, 0.11414112240376999, 0.09508725301966388, 0.19017450603932776, 0.3803490120786555, 0.09508725301966388, 0.09508725301966388, 0.09508725301966388, 0.13718949053980145, 0.13718949053980145, 0.1714868631747518, 0.13718949053980145, 0.10289211790485109, 0.3429737263495036, 0.08125397505964323, 0.08125397505964323, 0.13542329176607204, 0.46043919200464495, 0.12639507231500058, 0.12639507231500058, 0.07241337497023069, 0.07241337497023069, 0.07241337497023069, 0.5793069997618455, 0.07241337497023069, 0.07241337497023069, 0.1014089370454557, 0.1376264145616899, 0.13038291905844304, 0.4056357481818228, 0.11589592805194937, 0.10865243254870253, 0.13314701565578982, 0.17411532816526362, 0.20484156254736896, 0.19606263843819602, 0.1419259397649628, 0.14924170985594024, 0.11397908863273384, 0.11397908863273384, 0.11397908863273384, 0.2279581772654677, 0.11397908863273384, 0.34193726589820156, 0.07561583316763153, 0.07561583316763153, 0.07561583316763153, 0.15123166633526305, 0.07561583316763153, 0.4536949990057892, 0.1143600111236909, 0.13124172705147386, 0.1301525840883911, 0.1184442972352513, 0.3689471787442885, 0.1366874418668877, 0.2377342027874778, 0.13377585648380108, 0.1930079375172913, 0.2026784813594938, 0.09227310582768207, 0.14022288571193606, 0.5694007155355139, 0.10397752196735471, 0.08417227968785858, 0.09407490082760664, 0.054464416268614375, 0.09407490082760664, 0.26707893055091236, 0.08902631018363745, 0.26707893055091236, 0.1780526203672749, 0.13353946527545618, 0.08902631018363745, 0.10333752117527904, 0.44779592509287586, 0.13778336156703871, 0.13778336156703871, 0.10333752117527904, 0.10333752117527904, 0.11600814940651966, 0.40602852292281877, 0.11600814940651966, 0.11600814940651966, 0.11600814940651966, 0.11600814940651966, 0.13026644804188378, 0.13026644804188378, 0.13026644804188378, 0.13026644804188378, 0.13026644804188378, 0.3473771947783567, 0.0859596605473314, 0.429798302736657, 0.0859596605473314, 0.1719193210946628, 0.1719193210946628, 0.0859596605473314, 0.11560511614616308, 0.11560511614616308, 0.11560511614616308, 0.4624204645846523, 0.11560511614616308, 0.11560511614616308, 0.11967695836990193, 0.1994615972831699, 0.11169849447857513, 0.1595692778265359, 0.11169849447857513, 0.2952031639790914, 0.14319371341725526, 0.3045387426197964, 0.16134502920254112, 0.12033650094689526, 0.13310964909209644, 0.13714327482215996, 0.0971934788767876, 0.15186481074498062, 0.1214918485959845, 0.35840095335815425, 0.13971562588538217, 0.12756644102578374, 0.09874779097103037, 0.09874779097103037, 0.09874779097103037, 0.09874779097103037, 0.3949911638841215, 0.09874779097103037, 0.5701262133617616, 0.0839264808295497, 0.046769286752877275, 0.08937811548172558, 0.07876177431696203, 0.13098269572201518, 0.08214932763158601, 0.08214932763158601, 0.4928959657895161, 0.10268665953948251, 0.12322399144737903, 0.10268665953948251, 0.13619068478679647, 0.37452438316369024, 0.10214301359009735, 0.13619068478679647, 0.13619068478679647, 0.10214301359009735, 0.29384210337942074, 0.14692105168971037, 0.14692105168971037, 0.14692105168971037, 0.14692105168971037, 0.14692105168971037, 0.11094183902688765, 0.38829643659410673, 0.16641275854033147, 0.11094183902688765, 0.11094183902688765, 0.05547091951344382, 0.284310114049742, 0.2132325855373065, 0.2132325855373065, 0.142155057024871, 0.142155057024871, 0.0710775285124355, 0.08835461256013444, 0.11780615008017925, 0.11780615008017925, 0.5006761378407618, 0.08835461256013444, 0.08835461256013444, 0.07606690098880133, 0.38033450494400667, 0.15213380197760265, 0.15213380197760265, 0.07606690098880133, 0.15213380197760265, 0.10807985312215453, 0.14410647082953937, 0.10807985312215453, 0.10807985312215453, 0.39629279478123325, 0.1801330885369242, 0.08697722988782251, 0.08697722988782251, 0.13046584483173376, 0.13046584483173376, 0.13046584483173376, 0.3913975344952013, 0.17345132427387283, 0.17345132427387283, 0.17345132427387283, 0.17345132427387283, 0.5203539728216184, 0.17345132427387283, 0.2941594694026381, 0.1838496683766488, 0.14707973470131905, 0.11030980102598928, 0.14707973470131905, 0.14707973470131905, 0.26594533395716846, 0.11397657169592934, 0.11397657169592934, 0.11397657169592934, 0.11397657169592934, 0.22795314339185868, 0.0539633104576078, 0.26981655228803897, 0.0539633104576078, 0.0539633104576078, 0.1079266209152156, 0.4317064836608624, 0.1250788851213322, 0.1250788851213322, 0.3752366553639966, 0.1250788851213322, 0.1250788851213322, 0.1250788851213322, 0.07494369048122189, 0.14988738096244378, 0.14988738096244378, 0.44966214288733136, 0.07494369048122189, 0.07494369048122189, 0.23455458307001456, 0.1465966144187591, 0.19057559874438681, 0.16858610658157297, 0.11727729153500728, 0.1465966144187591, 0.17105456316265064, 0.17105456316265064, 0.17105456316265064, 0.513163689487952, 0.17105456316265064, 0.1239139913282517, 0.1239139913282517, 0.3717419739847551, 0.1239139913282517, 0.1239139913282517, 0.1239139913282517, 0.04413601256929466, 0.04413601256929466, 0.04413601256929466, 0.7061762011087146, 0.04413601256929466, 0.04413601256929466, 0.25256182908065444, 0.1683745527204363, 0.25256182908065444, 0.1683745527204363, 0.08418727636021815, 0.08418727636021815, 0.28425999807153557, 0.1895066653810237, 0.09475333269051185, 0.09475333269051185, 0.09475333269051185, 0.1895066653810237, 0.12488531458703088, 0.12488531458703088, 0.3746559437610926, 0.12488531458703088, 0.12488531458703088, 0.12488531458703088, 0.0897062720782287, 0.3352181746081178, 0.15108424771070098, 0.18885530963837624, 0.12275595126494455, 0.10859180304206634, 0.15812452874899807, 0.14882308588140997, 0.1897494344987977, 0.20091116593990344, 0.1897494344987977, 0.11161731441105746, 0.12363805549232361, 0.1209502716772731, 0.24996389479969774, 0.19083265086858645, 0.1800815156083844, 0.13707697456757617, 0.18069749466676555, 0.17652755248214788, 0.162627745200089, 0.17235761029753022, 0.14038805354879477, 0.16679768738470666, 0.10869701051402383, 0.153299127290295, 0.25704034705139983, 0.21739402102804767, 0.14173561553348396, 0.12224283857200248, 0.10818797829348283, 0.29223189539044214, 0.15419895756772264, 0.1840439170969593, 0.11937983811694657, 0.1430070977442589, 0.4516860218818189, 0.22584301094090944, 0.22584301094090944, 0.22584301094090944, 0.11274660645838341, 0.11274660645838341, 0.11274660645838341, 0.11274660645838341, 0.33823981937515024, 0.11274660645838341, 0.09290097345731042, 0.24552400128003468, 0.2289345417340864, 0.15759986568650874, 0.12773883850380183, 0.14598724400434496, 0.13320494354677953, 0.1741910800227117, 0.2049306823796608, 0.19614793884910392, 0.14198768707733642, 0.14930664001946717, 0.10911262068610518, 0.21180685192008653, 0.2246436308243342, 0.1347861784946005, 0.21180685192008653, 0.10590342596004326, 0.09892990532888954, 0.39571962131555816, 0.18137149310296416, 0.09892990532888954, 0.13190654043851938, 0.08244158777407462, 0.10296858618465693, 0.37068691026476497, 0.16474973789545108, 0.12356230342158832, 0.1441560206585197, 0.08237486894772554, 0.09277225512094825, 0.09277225512094825, 0.09277225512094825, 0.09277225512094825, 0.09277225512094825, 0.371089020483793, 0.12540422811047844, 0.26161916554082576, 0.16648492352598002, 0.17729563284584884, 0.12756636997445223, 0.14270136302226857, 0.11357819615079272, 0.1635526024571415, 0.2262477667323791, 0.18172511384126833, 0.14538009107301467, 0.16900435587237955, 0.08127715977981353, 0.18964670615289825, 0.39283960560243203, 0.14900812626299148, 0.08127715977981353, 0.09482335307644912, 0.06772991729039028, 0.16556202004317624, 0.27342818461676077, 0.25837709188556296, 0.10034061820798561, 0.13545983458078056, 0.14465310309486026, 0.07232655154743013, 0.07232655154743013, 0.14465310309486026, 0.4339593092845808, 0.07232655154743013, 0.10666596907324635, 0.14222129209766182, 0.4622191993174009, 0.10666596907324635, 0.07111064604883091, 0.10666596907324635, 0.10577062917891072, 0.18509860106309378, 0.37019720212618756, 0.07932797188418304, 0.10577062917891072, 0.1586559437683661, 0.06750592414060208, 0.20251777242180624, 0.06750592414060208, 0.06750592414060208, 0.06750592414060208, 0.5400473931248166, 0.4032548976289052, 0.1328716451392313, 0.08239448047787254, 0.07648907402724003, 0.08984654099890879, 0.21498491578612136, 0.14443990922012254, 0.14443990922012254, 0.14443990922012254, 0.14443990922012254, 0.43331972766036764, 0.07221995461006127, 0.1436479968075337, 0.21802411698199278, 0.1954196098701474, 0.18229441219230166, 0.12614773323707276, 0.13489786502230322, 0.4220612120728522, 0.11830859337303533, 0.09373921617784148, 0.11126641519606893, 0.09248727339082523, 0.16212659091860396, 0.18377451511034476, 0.13783088633275856, 0.3675490302206895, 0.09188725755517238, 0.09188725755517238, 0.09188725755517238, 0.162059610339818, 0.162059610339818, 0.162059610339818, 0.162059610339818, 0.324119220679636, 0.162059610339818, 0.13825532268254745, 0.13825532268254745, 0.13825532268254745, 0.13825532268254745, 0.13825532268254745, 0.2765106453650949, 0.1028582592665524, 0.2057165185331048, 0.1028582592665524, 0.1028582592665524, 0.1028582592665524, 0.3085747777996572, 0.10167118435952173, 0.19409953377726877, 0.09242834941774704, 0.3743348151418755, 0.12939968918484585, 0.11091401930129643, 0.10394266825411404, 0.33781367182587063, 0.1429211688494068, 0.20788533650822807, 0.10394266825411404, 0.09094983472234978, 0.09277225512094825, 0.09277225512094825, 0.09277225512094825, 0.09277225512094825, 0.09277225512094825, 0.371089020483793, 0.13847164147410793, 0.3487433933421977, 0.12308590353254038, 0.11282874490482868, 0.169243117357243, 0.10770016559097283, 0.08821622548094601, 0.11762163397459469, 0.08821622548094601, 0.5292973528856761, 0.11762163397459469, 0.08821622548094601, 0.1139906972902177, 0.1139906972902177, 0.3419720918706531, 0.1139906972902177, 0.1139906972902177, 0.1139906972902177, 0.4516860218818189, 0.22584301094090944, 0.22584301094090944, 0.22584301094090944, 0.12682047746214928, 0.13696611565912123, 0.3195876032046162, 0.12682047746214928, 0.18262148754549495, 0.1065292010682054, 0.11278410261351658, 0.2524215629921562, 0.11815477416654119, 0.134266788825615, 0.2470508914391316, 0.13695212460212727, 0.08702598282409883, 0.08702598282409883, 0.17405196564819767, 0.13053897423614827, 0.13053897423614827, 0.3916169227084448, 0.11806545329451017, 0.22003107204885985, 0.15563173388821797, 0.1623399982799515, 0.12879867632128383, 0.21600611341381976, 0.056842862790507404, 0.13263334651118394, 0.20842383023186048, 0.4357952813938901, 0.07579048372067654, 0.09473810465084567, 0.10499922555294632, 0.16406128992647862, 0.09843677395588717, 0.15093638673236032, 0.36749728943531207, 0.10499922555294632, 0.1118397978436235, 0.1118397978436235, 0.18639966307270583, 0.447359191374494, 0.1118397978436235, 0.07455986522908234, 0.14447069331909013, 0.1896177849813058, 0.09029418332443134, 0.13544127498664701, 0.18058836664886269, 0.2618531316408509], \"Term\": [\"aberdeen\", \"aberdeen\", \"aberdeen\", \"aberdeen\", \"aberdeen\", \"aberdeen\", \"ad_scda\", \"ad_scda\", \"ad_scda\", \"ad_scda\", \"ad_scda\", \"ad_scda\", \"adventcalendar\", \"adventcalendar\", \"adventcalendar\", \"adventcalendar\", \"adventcalendar\", \"adventcalendar\", \"adventure\", \"adventure\", \"adventure\", \"adventure\", \"adventure\", \"adventure\", \"agency\", \"agency\", \"agency\", \"agency\", \"agency\", \"agency\", \"americas_best\", \"americas_best\", \"americas_best\", \"americas_best\", \"americas_best\", \"americas_best\", \"avanza\", \"avanza\", \"avanza\", \"avanza\", \"avanza\", \"avanza\", \"avisa\", \"avisa\", \"avisa\", \"avisa\", \"avisa\", \"avisa\", \"avon\", \"avon\", \"avon\", \"avon\", \"avon\", \"avon\", \"baby\", \"baby\", \"baby\", \"baby\", \"baby\", \"baby\", \"bay_mydayinla\", \"bay_mydayinla\", \"bay_mydayinla\", \"bay_mydayinla\", \"bay_mydayinla\", \"bay_mydayinla\", \"beach\", \"beach\", \"beach\", \"beach\", \"beach\", \"beach\", \"bed_breakfasts\", \"bed_breakfasts\", \"bed_breakfasts\", \"bed_breakfasts\", \"bed_breakfasts\", \"bed_breakfasts\", \"best\", \"best\", \"best\", \"best\", \"best\", \"best\", \"big\", \"big\", \"big\", \"big\", \"big\", \"big\", \"bigredbus\", \"bigredbus\", \"bigredbus\", \"bigredbus\", \"birth\", \"birth\", \"birth\", \"birth\", \"birth\", \"birth\", \"blossoming_nature\", \"blossoming_nature\", \"blossoming_nature\", \"blossoming_nature\", \"blossoming_nature\", \"blossoming_nature\", \"boarding\", \"boarding\", \"boarding\", \"boarding\", \"boarding\", \"boarding\", \"book\", \"book\", \"book\", \"book\", \"book\", \"book\", \"bright\", \"bright\", \"bright\", \"bright\", \"bright\", \"bright\", \"bukit\", \"bukit\", \"bukit\", \"bukit\", \"bustour\", \"bustour\", \"bustour\", \"bustour\", \"cairo\", \"cairo\", \"cairo\", \"cairo\", \"cairo\", \"cairo\", \"california_b\", \"california_b\", \"california_b\", \"california_b\", \"california_b\", \"california_b\", \"castillo\", \"castillo\", \"castillo\", \"castillo\", \"castillo\", \"castillo\", \"celebrate\", \"celebrate\", \"celebrate\", \"celebrate\", \"celebrate\", \"celebrate\", \"change_lives\", \"change_lives\", \"change_lives\", \"change_lives\", \"change_lives\", \"change_lives\", \"chatbots\", \"chatbots\", \"chatbots\", \"chatbots\", \"chatbots\", \"chatbots\", \"check_unique\", \"check_unique\", \"check_unique\", \"check_unique\", \"check_unique\", \"check_unique\", \"childanddog_laurieshanholtzer\", \"childanddog_laurieshanholtzer\", \"childanddog_laurieshanholtzer\", \"childanddog_laurieshanholtzer\", \"childanddog_laurieshanholtzer\", \"childanddog_laurieshanholtzer\", \"china\", \"china\", \"china\", \"china\", \"china\", \"china\", \"christmas\", \"christmas\", \"christmas\", \"christmas\", \"christmas\", \"christmas\", \"christmas_sled\", \"christmas_sled\", \"christmas_sled\", \"christmas_sled\", \"christmas_sled\", \"christmas_sled\", \"city\", \"city\", \"city\", \"city\", \"city\", \"city\", \"clownfish_redsea\", \"clownfish_redsea\", \"clownfish_redsea\", \"clownfish_redsea\", \"clownfish_redsea\", \"clownfish_redsea\", \"comfy\", \"comfy\", \"comfy\", \"comfy\", \"comfy\", \"comfy\", \"community\", \"community\", \"community\", \"community\", \"community\", \"community\", \"complejo\", \"complejo\", \"complejo\", \"complejo\", \"complejo\", \"complejo\", \"condo\", \"condo\", \"condo\", \"condo\", \"condo\", \"condo\", \"curry\", \"curry\", \"curry\", \"curry\", \"curry\", \"curry\", \"customs\", \"customs\", \"customs\", \"customs\", \"customs\", \"customs\", \"daily_thanks\", \"daily_thanks\", \"daily_thanks\", \"daily_thanks\", \"daily_thanks\", \"daily_thanks\", \"dare_compare\", \"dare_compare\", \"dare_compare\", \"dare_compare\", \"dare_compare\", \"dare_compare\", \"day\", \"day\", \"day\", \"day\", \"day\", \"day\", \"de\", \"de\", \"de\", \"de\", \"de\", \"de\", \"dear\", \"dear\", \"dear\", \"dear\", \"dear\", \"dear\", \"del_r\\u00edo\", \"del_r\\u00edo\", \"del_r\\u00edo\", \"del_r\\u00edo\", \"del_r\\u00edo\", \"del_r\\u00edo\", \"deosai_expanse\", \"deosai_expanse\", \"deosai_expanse\", \"deosai_expanse\", \"deosai_expanse\", \"deosai_expanse\", \"depend\", \"depend\", \"depend\", \"depend\", \"depend\", \"depend\", \"destinos\", \"destinos\", \"destinos\", \"destinos\", \"destinos\", \"destinos\", \"detroit\", \"detroit\", \"detroit\", \"detroit\", \"detroit\", \"detroit\", \"doubledeckerbus\", \"doubledeckerbus\", \"doubledeckerbus\", \"doubledeckerbus\", \"download_goodies\", \"download_goodies\", \"download_goodies\", \"download_goodies\", \"download_goodies\", \"download_goodies\", \"drea\", \"drea\", \"drea\", \"drea\", \"drea\", \"drea\", \"dunia\", \"dunia\", \"dunia\", \"dunia\", \"dunia\", \"dunia\", \"d\\u00edas\", \"d\\u00edas\", \"d\\u00edas\", \"d\\u00edas\", \"d\\u00edas\", \"d\\u00edas\", \"en\", \"en\", \"en\", \"en\", \"en\", \"en\", \"eronen_blogger\", \"eronen_blogger\", \"eronen_blogger\", \"eronen_blogger\", \"eronen_blogger\", \"eronen_blogger\", \"exclusive_amalfi\", \"exclusive_amalfi\", \"exclusive_amalfi\", \"exclusive_amalfi\", \"exclusive_amalfi\", \"exclusive_amalfi\", \"experience\", \"experience\", \"experience\", \"experience\", \"experience\", \"experience\", \"explore\", \"explore\", \"explore\", \"explore\", \"explore\", \"explore\", \"extra\", \"extra\", \"extra\", \"extra\", \"extra\", \"extra\", \"fear\", \"fear\", \"fear\", \"fear\", \"fear\", \"fear\", \"festivals\", \"festivals\", \"festivals\", \"festivals\", \"festivals\", \"festivals\", \"finland\", \"finland\", \"finland\", \"finland\", \"finland\", \"finland\", \"finland_sunrise\", \"finland_sunrise\", \"finland_sunrise\", \"finland_sunrise\", \"finland_sunrise\", \"finland_sunrise\", \"fireball_sunset\", \"fireball_sunset\", \"fireball_sunset\", \"fireball_sunset\", \"fireball_sunset\", \"fireball_sunset\", \"fish_fishtank\", \"fish_fishtank\", \"fish_fishtank\", \"fish_fishtank\", \"fish_fishtank\", \"fish_fishtank\", \"flamingos\", \"flamingos\", \"flamingos\", \"flamingos\", \"flamingos\", \"flamingos\", \"flower_soul\", \"flower_soul\", \"flower_soul\", \"flower_soul\", \"flower_soul\", \"flower_soul\", \"found_mission\", \"found_mission\", \"found_mission\", \"found_mission\", \"found_mission\", \"found_mission\", \"fowl\", \"fowl\", \"fowl\", \"france\", \"france\", \"france\", \"france\", \"france\", \"france\", \"free\", \"free\", \"free\", \"free\", \"free\", \"free\", \"fujifilm\", \"fujifilm\", \"fujifilm\", \"fujifilm\", \"fujifilm\", \"fujifilm\", \"fully\", \"fully\", \"fully\", \"gambling\", \"gambling\", \"gambling\", \"gambling\", \"gambling\", \"gambling\", \"generous\", \"generous\", \"generous\", \"generous\", \"generous\", \"generous\", \"george_moore\", \"george_moore\", \"george_moore\", \"george_moore\", \"george_moore\", \"george_moore\", \"gerard_de\", \"gerard_de\", \"gerard_de\", \"gerard_de\", \"gerard_de\", \"gerard_de\", \"germany\", \"germany\", \"germany\", \"germany\", \"germany\", \"germany\", \"gift\", \"gift\", \"gift\", \"gift\", \"gift\", \"gift\", \"girls_boys\", \"girls_boys\", \"girls_boys\", \"girls_boys\", \"girls_boys\", \"girls_boys\", \"giving_cow\", \"giving_cow\", \"giving_cow\", \"giving_cow\", \"giving_cow\", \"giving_cow\", \"glitter\", \"glitter\", \"glitter\", \"glitter\", \"glitter\", \"glitter\", \"going\", \"going\", \"going\", \"going\", \"going\", \"going\", \"good\", \"good\", \"good\", \"good\", \"good\", \"good\", \"graffiti\", \"graffiti\", \"graffiti\", \"graffiti\", \"graffiti\", \"graffiti\", \"great_giftidea\", \"great_giftidea\", \"great_giftidea\", \"great_giftidea\", \"great_giftidea\", \"great_giftidea\", \"great_tire\", \"great_tire\", \"great_tire\", \"great_tire\", \"great_tire\", \"great_tire\", \"guest_room\", \"guest_room\", \"guest_room\", \"guest_room\", \"guest_room\", \"guest_room\", \"guides_help\", \"guides_help\", \"guides_help\", \"guides_help\", \"guides_help\", \"guides_help\", \"harlem\", \"harlem\", \"harlem\", \"harlem\", \"harlem\", \"harlem\", \"hebei\", \"hebei\", \"hebei\", \"hebei\", \"hebei\", \"heely_skateshoes\", \"heely_skateshoes\", \"heely_skateshoes\", \"heely_skateshoes\", \"heely_skateshoes\", \"heely_skateshoes\", \"holiday\", \"holiday\", \"holiday\", \"holiday\", \"holiday\", \"holiday\", \"holiday_baking\", \"holiday_baking\", \"holiday_baking\", \"holiday_baking\", \"holiday_baking\", \"holiday_baking\", \"holiday_graphics\", \"holiday_graphics\", \"holiday_graphics\", \"holiday_graphics\", \"holiday_graphics\", \"holiday_graphics\", \"holiday_meal\", \"holiday_meal\", \"holiday_meal\", \"holiday_meal\", \"holiday_meal\", \"holiday_meal\", \"holiday_season\", \"holiday_season\", \"holiday_season\", \"holiday_season\", \"holiday_season\", \"holiday_season\", \"holidays\", \"holidays\", \"holidays\", \"holidays\", \"holidays\", \"holidays\", \"home_find\", \"home_find\", \"home_find\", \"home_find\", \"home_find\", \"home_find\", \"hotel\", \"hotel\", \"hotel\", \"hotel\", \"hotel\", \"hotel\", \"hustle\", \"hustle\", \"hustle\", \"hustle\", \"hustle\", \"hustle\", \"iceland\", \"iceland\", \"iceland\", \"iceland\", \"iceland\", \"iceland\", \"ideas\", \"ideas\", \"ideas\", \"ideas\", \"ideas\", \"ideas\", \"ignore\", \"ignore\", \"ignore\", \"ignore\", \"ignore\", \"ignore\", \"ilovela_mondaymotivation\", \"ilovela_mondaymotivation\", \"ilovela_mondaymotivation\", \"ilovela_mondaymotivation\", \"ilovela_mondaymotivation\", \"ilovela_mondaymotivation\", \"inn\", \"inn\", \"inn\", \"inn\", \"inn\", \"inn\", \"iphone\", \"iphone\", \"iphone\", \"iphone\", \"iphone\", \"iphone\", \"james\", \"james\", \"james\", \"james\", \"james\", \"james\", \"janeiro\", \"janeiro\", \"janeiro\", \"janeiro\", \"janeiro\", \"janeiro\", \"japan\", \"japan\", \"japan\", \"japan\", \"japan\", \"japan\", \"japan_japantravel\", \"japan_japantravel\", \"japan_japantravel\", \"japan_japantravel\", \"japan_japantravel\", \"japan_japantravel\", \"jerusalem\", \"jerusalem\", \"jerusalem\", \"jerusalem\", \"jerusalem\", \"jerusalem\", \"jinshanling\", \"jinshanling\", \"jinshanling\", \"jinshanling\", \"jinshanling\", \"job\", \"job\", \"job\", \"job\", \"job\", \"job\", \"keukenhof\", \"keukenhof\", \"keukenhof\", \"keukenhof\", \"keukenhof\", \"keukenhof\", \"kremlin\", \"kremlin\", \"kremlin\", \"kremlin\", \"kremlin\", \"kremlin\", \"latest\", \"latest\", \"latest\", \"latest\", \"latest\", \"latest\", \"lawyer\", \"lawyer\", \"lawyer\", \"lawyer\", \"lawyer\", \"lawyer\", \"lights_extravaganza\", \"lights_extravaganza\", \"lights_extravaganza\", \"lights_extravaganza\", \"lights_extravaganza\", \"lights_extravaganza\", \"like\", \"like\", \"like\", \"like\", \"like\", \"like\", \"lisboa\", \"lisboa\", \"lisboa\", \"lisboa\", \"lisboa\", \"lisboa\", \"lo\", \"lo\", \"lo\", \"lo\", \"lo\", \"lo\", \"lonely_planet\", \"lonely_planet\", \"lonely_planet\", \"lonely_planet\", \"lonely_planet\", \"lonely_planet\", \"long\", \"long\", \"long\", \"long\", \"long\", \"long\", \"los\", \"los\", \"los\", \"los\", \"los\", \"los\", \"lot\", \"lot\", \"lot\", \"lot\", \"lot\", \"lot\", \"lots_free\", \"lots_free\", \"lots_free\", \"lots_free\", \"lots_free\", \"lots_free\", \"love\", \"love\", \"love\", \"love\", \"love\", \"love\", \"lovely_pond\", \"lovely_pond\", \"lovely_pond\", \"lovely_pond\", \"lovely_pond\", \"lovely_pond\", \"loyalty\", \"loyalty\", \"loyalty\", \"loyalty\", \"loyalty\", \"loyalty\", \"lp\", \"lp\", \"lp\", \"lp\", \"lp\", \"lp\", \"luanping\", \"luanping\", \"luanping\", \"luanping\", \"luanping\", \"lunch_winelover\", \"lunch_winelover\", \"lunch_winelover\", \"lunch_winelover\", \"lunch_winelover\", \"lunch_winelover\", \"luxury\", \"luxury\", \"luxury\", \"luxury\", \"luxury\", \"luxury\", \"man_travels\", \"man_travels\", \"man_travels\", \"man_travels\", \"man_travels\", \"man_travels\", \"marinelife_ocean\", \"marinelife_ocean\", \"marinelife_ocean\", \"marinelife_ocean\", \"marinelife_ocean\", \"marinelife_ocean\", \"memorable\", \"memorable\", \"memorable\", \"memorable\", \"memorable\", \"memorable\", \"merchant\", \"merchant\", \"merchant\", \"michelin\", \"michelin\", \"michelin\", \"michelin\", \"michelin\", \"michelin\", \"michener\", \"michener\", \"michener\", \"michener\", \"michener\", \"michener\", \"mid_century\", \"mid_century\", \"mid_century\", \"mid_century\", \"mid_century\", \"mid_century\", \"mission_beach\", \"mission_beach\", \"mission_beach\", \"mission_beach\", \"mission_beach\", \"mission_beach\", \"modern_houses\", \"modern_houses\", \"modern_houses\", \"modern_houses\", \"modern_houses\", \"modern_houses\", \"month\", \"month\", \"month\", \"month\", \"month\", \"month\", \"mysteries\", \"mysteries\", \"mysteries\", \"mysteries\", \"mysteries\", \"mysteries\", \"nagar\", \"nagar\", \"nagar\", \"nasional\", \"nasional\", \"nasional\", \"nasional\", \"nasional\", \"nasional\", \"nature\", \"nature\", \"nature\", \"nature\", \"nature\", \"nature\", \"naturecuts\", \"naturecuts\", \"naturecuts\", \"naturecuts\", \"naturecuts\", \"naturecuts\", \"need\", \"need\", \"need\", \"need\", \"need\", \"need\", \"needs_returns\", \"needs_returns\", \"needs_returns\", \"needs_returns\", \"needs_returns\", \"needs_returns\", \"nerval\", \"nerval\", \"nerval\", \"nerval\", \"nerval\", \"nerval\", \"new\", \"new\", \"new\", \"new\", \"new\", \"new\", \"nice_vacation\", \"nice_vacation\", \"nice_vacation\", \"nice_vacation\", \"nice_vacation\", \"nice_vacation\", \"night\", \"night\", \"night\", \"night\", \"night\", \"night\", \"nyctour\", \"nyctour\", \"nyctour\", \"nyctour\", \"obsession\", \"obsession\", \"obsession\", \"october\", \"october\", \"october\", \"october\", \"october\", \"october\", \"oldest_street\", \"oldest_street\", \"oldest_street\", \"oldest_street\", \"oldest_street\", \"oldest_street\", \"onlineshopping\", \"onlineshopping\", \"onlineshopping\", \"onlineshopping\", \"onlineshopping\", \"onlineshopping\", \"ornament\", \"ornament\", \"ornament\", \"ornament\", \"ornament\", \"ornament\", \"owl_house\", \"owl_house\", \"owl_house\", \"owl_house\", \"owl_house\", \"owl_house\", \"palawan\", \"palawan\", \"palawan\", \"palawan\", \"palawan\", \"palawan\", \"palm_springs\", \"palm_springs\", \"palm_springs\", \"palm_springs\", \"palm_springs\", \"palm_springs\", \"panam\", \"panam\", \"panam\", \"pantai\", \"pantai\", \"pantai\", \"pantai\", \"pantai\", \"pantai\", \"paper_print\", \"paper_print\", \"paper_print\", \"paper_print\", \"paper_print\", \"paper_print\", \"paradise\", \"paradise\", \"paradise\", \"paradise\", \"paradise\", \"paradise\", \"parrot\", \"parrot\", \"parrot\", \"parrot\", \"parrot\", \"parrot\", \"path\", \"path\", \"path\", \"path\", \"path\", \"path\", \"pdf\", \"pdf\", \"pdf\", \"pdf\", \"pdf\", \"pdf\", \"people\", \"people\", \"people\", \"people\", \"people\", \"people\", \"pesan_hotel\", \"pesan_hotel\", \"pesan_hotel\", \"pesan_hotel\", \"pesan_hotel\", \"pesan_hotel\", \"photo\", \"photo\", \"photo\", \"photo\", \"photo\", \"photo\", \"photog\", \"photog\", \"photog\", \"photog\", \"photog\", \"photog\", \"photography\", \"photography\", \"photography\", \"photography\", \"photography\", \"photography\", \"photography_aku\", \"photography_aku\", \"photography_aku\", \"photography_aku\", \"photography_aku\", \"photography_aku\", \"photography_helena\", \"photography_helena\", \"photography_helena\", \"photography_helena\", \"photography_helena\", \"photography_helena\", \"photos\", \"photos\", \"photos\", \"photos\", \"photos\", \"photos\", \"pierdas\", \"pierdas\", \"pierdas\", \"pierdas\", \"pierdas\", \"pierdas\", \"places_world\", \"places_world\", \"places_world\", \"places_world\", \"places_world\", \"places_world\", \"plans_sorted\", \"plans_sorted\", \"plans_sorted\", \"plans_sorted\", \"plans_sorted\", \"plans_sorted\", \"posted_travelleisure\", \"posted_travelleisure\", \"posted_travelleisure\", \"posted_travelleisure\", \"posted_travelleisure\", \"posted_travelleisure\", \"posted_trips\", \"posted_trips\", \"posted_trips\", \"posted_trips\", \"posted_trips\", \"posted_trips\", \"pura\", \"pura\", \"pura\", \"pura\", \"pura\", \"pura\", \"quick\", \"quick\", \"quick\", \"quick\", \"quick\", \"quick\", \"quoteoftheday\", \"quoteoftheday\", \"quoteoftheday\", \"quoteoftheday\", \"quoteoftheday\", \"quoteoftheday\", \"rabbit\", \"rabbit\", \"rabbit\", \"rabbit\", \"rabbit\", \"rabbit\", \"rainbow\", \"rainbow\", \"rainbow\", \"rainbow\", \"rainbow\", \"rainbow\", \"reef_coral\", \"reef_coral\", \"reef_coral\", \"reef_coral\", \"reef_coral\", \"reef_coral\", \"reeftank\", \"reeftank\", \"reeftank\", \"reeftank\", \"reeftank\", \"reeftank\", \"reeftank_reefcandy\", \"reeftank_reefcandy\", \"reeftank_reefcandy\", \"reeftank_reefcandy\", \"reeftank_reefcandy\", \"reeftank_reefcandy\", \"reet_ennet\", \"reet_ennet\", \"reet_ennet\", \"reet_ennet\", \"reet_ennet\", \"reet_ennet\", \"reject\", \"reject\", \"reject\", \"reject\", \"reject\", \"reject\", \"religion\", \"religion\", \"religion\", \"religion\", \"religion\", \"religion\", \"rent\", \"rent\", \"rent\", \"rent\", \"rent\", \"rent\", \"rent_hightown\", \"rent_hightown\", \"rent_hightown\", \"rent_hightown\", \"rent_hightown\", \"rent_hightown\", \"rental_condo\", \"rental_condo\", \"rental_condo\", \"rental_condo\", \"rental_condo\", \"rental_condo\", \"resort_hollywood\", \"resort_hollywood\", \"resort_hollywood\", \"resort_hollywood\", \"resort_hollywood\", \"resort_hollywood\", \"respect\", \"respect\", \"respect\", \"respect\", \"respect\", \"respect\", \"rewards\", \"rewards\", \"rewards\", \"rewards\", \"rewards\", \"rewards\", \"ride_art\", \"ride_art\", \"ride_art\", \"ride_art\", \"ride_art\", \"ride_art\", \"risk\", \"risk\", \"risk\", \"risk\", \"risk\", \"risk\", \"roma\", \"roma\", \"roma\", \"roma\", \"roma\", \"roma\", \"romance\", \"romance\", \"romance\", \"romance\", \"romance\", \"romance\", \"rt\", \"rt\", \"rt\", \"rt\", \"rt\", \"rt\", \"rt_viajes\", \"rt_viajes\", \"rt_viajes\", \"rt_viajes\", \"rt_viajes\", \"rt_viajes\", \"safe_winter\", \"safe_winter\", \"safe_winter\", \"safe_winter\", \"safe_winter\", \"safe_winter\", \"san_diego\", \"san_diego\", \"san_diego\", \"san_diego\", \"san_diego\", \"san_diego\", \"santorini\", \"santorini\", \"santorini\", \"santorini\", \"santorini\", \"santorini\", \"service\", \"service\", \"service\", \"service\", \"service\", \"service\", \"shoes\", \"shoes\", \"shoes\", \"shoes\", \"shoes\", \"shoes\", \"simple\", \"simple\", \"simple\", \"simple\", \"simple\", \"simple\", \"single\", \"single\", \"single\", \"single\", \"single\", \"single\", \"single_double\", \"single_double\", \"single_double\", \"single_double\", \"single_double\", \"single_double\", \"sinks_santamonica\", \"sinks_santamonica\", \"sinks_santamonica\", \"sinks_santamonica\", \"sinks_santamonica\", \"sinks_santamonica\", \"skiing\", \"skiing\", \"skiing\", \"skiing\", \"skiing\", \"skiing\", \"snow_scene\", \"snow_scene\", \"snow_scene\", \"snow_scene\", \"snow_scene\", \"snow_scene\", \"soap\", \"soap\", \"soap\", \"soap\", \"soap\", \"soap\", \"straight\", \"straight\", \"straight\", \"straight\", \"straight\", \"straight\", \"street_food\", \"street_food\", \"street_food\", \"street_food\", \"street_food\", \"street_food\", \"street_streetphotography\", \"street_streetphotography\", \"street_streetphotography\", \"street_streetphotography\", \"street_streetphotography\", \"street_streetphotography\", \"suci\", \"suci\", \"suci\", \"suci\", \"suci\", \"suci\", \"surf\", \"surf\", \"surf\", \"surf\", \"surf\", \"surf\", \"switzerland_familytravel\", \"switzerland_familytravel\", \"switzerland_familytravel\", \"switzerland_familytravel\", \"switzerland_familytravel\", \"switzerland_familytravel\", \"tale\", \"tale\", \"tale\", \"tale\", \"tale\", \"tanah\", \"tanah\", \"tanah\", \"tanah\", \"tanah\", \"tanah\", \"te\", \"te\", \"te\", \"te\", \"te\", \"te\", \"tempatwisata\", \"tempatwisata\", \"tempatwisata\", \"tempatwisata\", \"tempatwisata\", \"tempatwisata\", \"tempe\", \"tempe\", \"tempe\", \"tempe\", \"tempe\", \"tempe\", \"tepi\", \"tepi\", \"tepi\", \"tepi\", \"tepi\", \"tepi\", \"thailand\", \"thailand\", \"thailand\", \"thailand\", \"thailand\", \"thailand\", \"thanks\", \"thanks\", \"thanks\", \"thanks\", \"thanks\", \"thanks\", \"time\", \"time\", \"time\", \"time\", \"time\", \"time\", \"tour\", \"tour\", \"tour\", \"tour\", \"tour\", \"tour\", \"touri\", \"touri\", \"touri\", \"touri\", \"touri\", \"touri\", \"tourism\", \"tourism\", \"tourism\", \"tourism\", \"tourism\", \"tourism\", \"towel\", \"towel\", \"towel\", \"towel\", \"travelampadventure\", \"travelampadventure\", \"travelampadventure\", \"travelampadventure\", \"travelampadventure\", \"travelampadventure\", \"traveller\", \"traveller\", \"traveller\", \"traveller\", \"traveller\", \"traveller\", \"travelpics_travelblogger\", \"travelpics_travelblogger\", \"travelpics_travelblogger\", \"travelpics_travelblogger\", \"travelpics_travelblogger\", \"travelpics_travelblogger\", \"traveltuesday\", \"traveltuesday\", \"traveltuesday\", \"traveltuesday\", \"traveltuesday\", \"traveltuesday\", \"tree\", \"tree\", \"tree\", \"tree\", \"tree\", \"tree\", \"trees\", \"trees\", \"trees\", \"trees\", \"trees\", \"trees\", \"trial_graphicstock\", \"trial_graphicstock\", \"trial_graphicstock\", \"trial_graphicstock\", \"trial_graphicstock\", \"trial_graphicstock\", \"trip\", \"trip\", \"trip\", \"trip\", \"trip\", \"trip\", \"ttot\", \"ttot\", \"ttot\", \"ttot\", \"ttot\", \"ttot\", \"tulip_rainbow\", \"tulip_rainbow\", \"tulip_rainbow\", \"tulip_rainbow\", \"tulip_rainbow\", \"tulip_rainbow\", \"tulipsinholland_spring\", \"tulipsinholland_spring\", \"tulipsinholland_spring\", \"tulipsinholland_spring\", \"tulipsinholland_spring\", \"tulipsinholland_spring\", \"tv_special\", \"tv_special\", \"tv_special\", \"tv_special\", \"tv_special\", \"tv_special\", \"umroh\", \"umroh\", \"umroh\", \"umroh\", \"umroh\", \"umroh\", \"unesco\", \"unesco\", \"unesco\", \"unesco\", \"unesco\", \"unesco\", \"urbanart\", \"urbanart\", \"urbanart\", \"urbanart\", \"urbanart\", \"urbanart\", \"usa\", \"usa\", \"usa\", \"usa\", \"usa\", \"usa\", \"use_channel\", \"use_channel\", \"use_channel\", \"use_channel\", \"use_channel\", \"use_channel\", \"vacation\", \"vacation\", \"vacation\", \"vacation\", \"vacation\", \"vacation\", \"vacation_rental\", \"vacation_rental\", \"vacation_rental\", \"vacation_rental\", \"vacation_rental\", \"vacation_rental\", \"value_inn\", \"value_inn\", \"value_inn\", \"value_inn\", \"value_inn\", \"value_inn\", \"vanlife\", \"vanlife\", \"vanlife\", \"vanlife\", \"vanlife\", \"vanlife\", \"veggies\", \"veggies\", \"veggies\", \"veggies\", \"veggies\", \"veggies\", \"viaggilowcost_viaggi\", \"viaggilowcost_viaggi\", \"viaggilowcost_viaggi\", \"viaggilowcost_viaggi\", \"viaggilowcost_viaggi\", \"viaggilowcost_viaggi\", \"viajar\", \"viajar\", \"viajar\", \"viajar\", \"viajar\", \"viajar\", \"visa\", \"visa\", \"visa\", \"visa\", \"visa\", \"visa\", \"want_day\", \"want_day\", \"want_day\", \"want_day\", \"want_day\", \"want_day\", \"way\", \"way\", \"way\", \"way\", \"way\", \"way\", \"wheel_light\", \"wheel_light\", \"wheel_light\", \"wheel_light\", \"wheel_light\", \"wheel_light\", \"white_sand\", \"white_sand\", \"white_sand\", \"white_sand\", \"white_sand\", \"white_sand\", \"win_stylish\", \"win_stylish\", \"win_stylish\", \"win_stylish\", \"wine\", \"wine\", \"wine\", \"wine\", \"wine\", \"wine\", \"winter\", \"winter\", \"winter\", \"winter\", \"winter\", \"winter\", \"winter_canvas\", \"winter_canvas\", \"winter_canvas\", \"winter_canvas\", \"winter_canvas\", \"winter_canvas\", \"world\", \"world\", \"world\", \"world\", \"world\", \"world\", \"world_search\", \"world_search\", \"world_search\", \"world_search\", \"world_search\", \"world_search\", \"year\", \"year\", \"year\", \"year\", \"year\", \"year\", \"yellow\", \"yellow\", \"yellow\", \"yellow\", \"yellow\", \"yellow\", \"yummy\", \"yummy\", \"yummy\", \"yummy\", \"yummy\", \"yummy\"]}, \"R\": 30, \"lambda.step\": 0.01, \"plot.opts\": {\"xlab\": \"PC1\", \"ylab\": \"PC2\"}, \"topic.order\": [4, 3, 6, 2, 5, 1]};\n",
       "\n",
       "function LDAvis_load_lib(url, callback){\n",
       "  var s = document.createElement('script');\n",
       "  s.src = url;\n",
       "  s.async = true;\n",
       "  s.onreadystatechange = s.onload = callback;\n",
       "  s.onerror = function(){console.warn(\"failed to load library \" + url);};\n",
       "  document.getElementsByTagName(\"head\")[0].appendChild(s);\n",
       "}\n",
       "\n",
       "if(typeof(LDAvis) !== \"undefined\"){\n",
       "   // already loaded: just create the visualization\n",
       "   !function(LDAvis){\n",
       "       new LDAvis(\"#\" + \"ldavis_el83763132478026087942222454\", ldavis_el83763132478026087942222454_data);\n",
       "   }(LDAvis);\n",
       "}else if(typeof define === \"function\" && define.amd){\n",
       "   // require.js is available: use it to load d3/LDAvis\n",
       "   require.config({paths: {d3: \"https://d3js.org/d3.v5\"}});\n",
       "   require([\"d3\"], function(d3){\n",
       "      window.d3 = d3;\n",
       "      LDAvis_load_lib(\"https://cdn.jsdelivr.net/gh/bmabey/pyLDAvis@3.3.1/pyLDAvis/js/ldavis.v3.0.0.js\", function(){\n",
       "        new LDAvis(\"#\" + \"ldavis_el83763132478026087942222454\", ldavis_el83763132478026087942222454_data);\n",
       "      });\n",
       "    });\n",
       "}else{\n",
       "    // require.js not available: dynamically load d3 & LDAvis\n",
       "    LDAvis_load_lib(\"https://d3js.org/d3.v5.js\", function(){\n",
       "         LDAvis_load_lib(\"https://cdn.jsdelivr.net/gh/bmabey/pyLDAvis@3.3.1/pyLDAvis/js/ldavis.v3.0.0.js\", function(){\n",
       "                 new LDAvis(\"#\" + \"ldavis_el83763132478026087942222454\", ldavis_el83763132478026087942222454_data);\n",
       "            })\n",
       "         });\n",
       "}\n",
       "</script>"
      ],
      "text/plain": [
       "<IPython.core.display.HTML object>"
      ]
     },
     "execution_count": 18,
     "metadata": {},
     "output_type": "execute_result"
    }
   ],
   "source": [
    "vis = gensimvis.prepare(topic_model=basic_model.model, corpus=basic_model.corpus, dictionary=basic_model.id2word)\n",
    "pyLDAvis.enable_notebook()\n",
    "pyLDAvis.display(vis)"
   ]
  },
  {
   "cell_type": "markdown",
   "id": "6b9a20a9",
   "metadata": {},
   "source": [
    "## 3.2 LDA Tfidf Model<a class=\"anchor\" id=\"3.2\"></a>"
   ]
  },
  {
   "cell_type": "code",
   "execution_count": 19,
   "id": "403b0475",
   "metadata": {},
   "outputs": [
    {
     "data": {
      "text/html": [
       "\n",
       "<link rel=\"stylesheet\" type=\"text/css\" href=\"https://cdn.jsdelivr.net/gh/bmabey/pyLDAvis@3.3.1/pyLDAvis/js/ldavis.v1.0.0.css\">\n",
       "\n",
       "\n",
       "<div id=\"ldavis_el83763112711242407812086759\"></div>\n",
       "<script type=\"text/javascript\">\n",
       "\n",
       "var ldavis_el83763112711242407812086759_data = {\"mdsDat\": {\"x\": [-0.41178560402341274, 0.06240162547378161, 0.0654113335796137, 0.08246254359655536, 0.08489559649642657, 0.05134765666051762, 0.06526684821651742], \"y\": [-0.01606475276244798, -0.08040235267206529, -0.04314997025385839, -0.0625435621577915, -0.12239976535986723, 0.3168166459899197, 0.007743757216110736], \"topics\": [1, 2, 3, 4, 5, 6, 7], \"cluster\": [1, 1, 1, 1, 1, 1, 1], \"Freq\": [21.257839836184235, 14.070572135067868, 13.883732626706205, 12.968551946497872, 12.934469388072634, 12.676370633829675, 12.20846343364152]}, \"tinfo\": {\"Term\": [\"san_diego\", \"rental_condo\", \"found_mission\", \"nice_vacation\", \"usa\", \"beach\", \"nikon_nikon\", \"nikoncanada_vatican\", \"city_reflexion\", \"vatican_rome\", \"mm_store\", \"love_dragonfly\", \"desert_retreat\", \"rent_pioneertown\", \"pool_houses\", \"neck_lighthouse\", \"lighthouses_rent\", \"love_wings\", \"pocasset\", \"rent\", \"tahoe\", \"de_celeste\", \"love_chalet\", \"south_lake\", \"chalets_rent\", \"condo\", \"vacation_rental\", \"mission_beach\", \"crafted_gypsy\", \"love_hand\", \"found_mission\", \"nice_vacation\", \"rental_condo\", \"san_diego\", \"condo\", \"mission_beach\", \"vacation_rental\", \"usa\", \"beach_condominiums\", \"condo_steps\", \"cozy_san\", \"diego\", \"beach\", \"holiday_lip\", \"bundle_check\", \"traveller_video\", \"today_beautyreview\", \"america\", \"live\", \"marinelife_ocean\", \"reef_coral\", \"fish_fishtank\", \"clownfish_redsea\", \"giving\", \"sup\", \"photo_proof\", \"easy\", \"cities\", \"water_warrior\", \"high\", \"vietnam\", \"viet_bamboo\", \"reeftank_reefcandy\", \"youtube\", \"tour\", \"paris\", \"rent\", \"holiday\", \"holiday_season\", \"touri\", \"palm_springs\", \"modern_houses\", \"mid_century\", \"year\", \"enter_win\", \"airport\", \"forget\", \"online_shopping\", \"started\", \"spread_gathering\", \"goodfoods_sharethegoo\", \"hong_kong\", \"buildings\", \"holiday_meal\", \"morocco\", \"online_shop\", \"planning_breeze\", \"win_u\", \"w_enter\", \"like_post\", \"destinosin\", \"today_daily\", \"norway\", \"brasil\", \"social\", \"np\", \"contact\", \"right\", \"news_thanks\", \"destinations\", \"party\", \"rent\", \"luxurytravel\", \"love\", \"daily_thanks\", \"night\", \"photography_photooftheday\", \"latest\", \"today\", \"travelphotography\", \"holiday\", \"like\", \"bali\", \"winter\", \"photo\", \"lp\", \"photography\", \"christmas\", \"ttot\", \"thanks\", \"ad\", \"luxury\", \"shopping\", \"world\", \"rt\", \"lighthouses_rent\", \"love_wings\", \"neck_lighthouse\", \"pocasset\", \"cheap_flights\", \"frizemedia\", \"vantage_hospitality\", \"holid\", \"hark_hey\", \"holidays_nyc\", \"join_tiny\", \"tim_celebrate\", \"caribbean\", \"travelbloggers\", \"dream\", \"million\", \"florida\", \"cambodia\", \"jewelry\", \"going_paris\", \"wanted\", \"christmas_tree\", \"dinner\", \"ways\", \"magical\", \"lifestyle\", \"guide_tips\", \"money\", \"edition\", \"diy\", \"traveller_x\", \"viajar\", \"rt_viajes\", \"use\", \"brings_amazing\", \"packages_book\", \"de\", \"australia\", \"things\", \"looking\", \"beauty\", \"tips\", \"holidays\", \"vacation\", \"tourism\", \"guide\", \"rt\", \"family\", \"holiday\", \"hotel\", \"book\", \"know\", \"day\", \"adventure\", \"traveller\", \"holiday_season\", \"vietnam\", \"fun\", \"christmas\", \"chalets_rent\", \"de_celeste\", \"love_chalet\", \"south_lake\", \"tahoe\", \"photo_popular\", \"travelpix\", \"keukenhof\", \"tulip_rainbow\", \"shop\", \"wine_winelover\", \"best_wine\", \"napa_thrillist\", \"trips_california\", \"feature\", \"related_project\", \"addicts_stop\", \"shadowfax_marcwainwright\", \"south\", \"voyager\", \"favorite\", \"inn\", \"miss\", \"tourism_frizemedia\", \"photog\", \"gift_guide\", \"jungle_olivier\", \"symon\", \"himalayas_bookreview\", \"spiti_grace\", \"memories_win\", \"drone_cameras\", \"travelling\", \"recipes\", \"instagram\", \"wine\", \"tulipsinholland_spring\", \"history\", \"popular\", \"nature\", \"lp\", \"enter\", \"blog\", \"holiday\", \"photography\", \"ttot\", \"city\", \"rt\", \"great\", \"desert_retreat\", \"love_dragonfly\", \"pool_houses\", \"rent_pioneertown\", \"sweeps\", \"enter_chance\", \"holiday_payday\", \"argentina\", \"tis_season\", \"en_argentina\", \"mi_experiencia\", \"holiday_spirit\", \"holiday_yulelog\", \"noel_ganache\", \"buche_de\", \"cake_ganache\", \"ad_recipe\", \"gifts_prizes\", \"rsvp_twitterparty\", \"discover_sponsors\", \"periscope_christmas\", \"celebrate\", \"lights_extravaganza\", \"nyc_brooklyn\", \"planning\", \"marketing\", \"house\", \"tourist\", \"tree\", \"chance_win\", \"win\", \"check\", \"italy\", \"gift\", \"yummy\", \"rt\", \"holiday\", \"christmas\", \"way\", \"traveller\", \"vacation\", \"trip\", \"photography\", \"world\", \"winter\", \"tourism\", \"best\", \"holiday_season\", \"city_reflexion\", \"nikon_nikon\", \"nikoncanada_vatican\", \"vatican_rome\", \"mm_store\", \"support_animal\", \"solution_emotional\", \"debate\", \"traveltips_joyforall\", \"recipe\", \"set\", \"chance\", \"little\", \"dogs\", \"beaches\", \"value_inn\", \"americas_best\", \"kyoto\", \"news_week\", \"spectacular_sunset\", \"spots_dubrovnik\", \"sex\", \"holiday_giveaways\", \"capital\", \"tokyo_japan\", \"family_favorite\", \"switzerland_familytravel\", \"visiting_glacier\", \"cave_igloo\", \"spain_italy\", \"guest_room\", \"rent_hightown\", \"owl_house\", \"bed_breakfasts\", \"ready\", \"spain_tourism\", \"trip_visitspain\", \"h\", \"japan_japantravel\", \"online\", \"paradise\", \"loyalty\", \"familytravel\", \"japan\", \"holiday\", \"tokyo\", \"vacation\", \"christmas\", \"campers_rvs\", \"crafted_gypsy\", \"love_hand\", \"rent_seattle\", \"wagon_heart\", \"jerusalem\", \"steemit\", \"china\", \"cheer\", \"islands\", \"shopping_lastminute\", \"chicken_casserole\", \"goodness_community\", \"healthy_broccoli\", \"simple_holiday\", \"israel_readon\", \"steemit_steemit\", \"thank\", \"conozcopablo\", \"venice\", \"click\", \"wedding\", \"wish\", \"texas\", \"mydayinla\", \"daily_news\", \"bloggers\", \"decor\", \"u\", \"central\", \"travelpics_travelblogger\", \"photography_helena\", \"reet_ennet\", \"post\", \"beautiful_israel\", \"pro\", \"new_york\", \"win_breville\", \"travelers\", \"gift_ideas\", \"sale\", \"holiday_baking\", \"cruise\", \"thanks\", \"latest\", \"familytravel\", \"visit\", \"ttot\", \"holiday\", \"world\"], \"Freq\": [1946.0, 1892.0, 1892.0, 1892.0, 1891.0, 1913.0, 820.0, 820.0, 820.0, 820.0, 819.0, 787.0, 787.0, 787.0, 787.0, 765.0, 765.0, 765.0, 765.0, 709.0, 570.0, 570.0, 570.0, 570.0, 570.0, 714.0, 713.0, 713.0, 522.0, 522.0, 1891.2401543716953, 1891.2401543716953, 1891.2401543716953, 1945.28962057319, 713.933542061254, 712.9471437908194, 712.9926246102926, 1888.2710035601085, 433.3464522147114, 433.3464522147114, 433.3464522147114, 433.3464522147114, 1882.46559945586, 32.92796716421313, 32.92798837728191, 26.43055504410184, 25.22874277417885, 23.673174298187618, 22.300408263940405, 31.56865728659803, 31.568461654963688, 31.568365017650336, 19.647841290888913, 17.022582608385616, 15.979981490710976, 15.664554942928136, 15.534663787251016, 15.1925040587848, 15.118057972390472, 12.576817184318463, 92.19986934165928, 62.13471423222549, 28.460285104580436, 26.504444876692492, 42.87940899414998, 24.373323418448347, 73.23811997745011, 29.175676993266435, 24.306676670343677, 249.36244379566708, 445.1124670249977, 221.8139733576604, 222.09626485924326, 52.81835246989959, 47.97906512818092, 37.97836324149933, 36.5737296295302, 31.81875656135222, 30.129388324560544, 29.862588658079783, 27.027854292529543, 26.788584225465904, 26.43513636950158, 26.16550199361694, 25.890304286012842, 26.135312416470803, 24.96302044863596, 24.96302668905292, 24.9627599112279, 24.23870617286893, 29.816899445310327, 29.816899445310327, 20.43974002122847, 20.097802614346065, 19.86933626914367, 19.480965479769385, 19.24428362563972, 21.735782577579965, 19.04961225848185, 49.54111637816355, 71.40532829687561, 634.8406126966873, 29.764117998666325, 270.72898246185383, 133.97506239487976, 54.883356365155315, 42.90733473555238, 176.5594805144425, 48.86030872933437, 55.78328689489418, 203.54449122433613, 40.964402756651175, 33.4415301885599, 43.70290989268492, 42.87445709880091, 52.118539631220045, 53.43325195501032, 56.48075957721389, 50.64501805643428, 45.5735872038198, 36.40849898948332, 39.048139199626675, 35.81553144977698, 39.171995875231644, 38.24818951020548, 763.0395173281764, 763.0395173281764, 763.0395173281764, 763.0395173281764, 154.4107288011988, 44.658874803535895, 35.3790959356323, 24.60834588268184, 23.48971417423625, 23.48971417423625, 23.48971417423625, 23.48971417423625, 22.835832944437833, 22.84346061206185, 21.93525400920607, 21.79280519966901, 21.367974131077553, 20.741450905116476, 20.28871227116562, 19.843105621897315, 19.85546844706149, 19.117411941107893, 18.90952374697003, 18.052024585392783, 17.759397699085536, 23.665527679652815, 19.85756817231662, 19.133841829412866, 16.10553463163644, 15.611163248767003, 25.796664147267016, 36.217098747974795, 31.42869069753508, 23.35062276996418, 31.94051566174077, 31.94051566174077, 53.03821635990529, 42.68448652074826, 44.55778319246239, 29.432005918709848, 29.612927113566673, 55.18893846125923, 44.702091582723924, 85.49907595913758, 64.57985806521103, 48.208528080402886, 88.17858400186803, 46.6484753187071, 124.1396363409825, 45.80411791263061, 38.51740318293636, 30.703605075012355, 44.871051732689, 44.6737914734202, 43.54398534735953, 42.838166705257024, 41.52325224893341, 34.80972864735279, 32.87789828568192, 570.0781626937836, 570.0781626937836, 570.0781626937836, 570.0781626937836, 570.1228416022344, 92.50322240959898, 92.4996161176836, 58.31621348624877, 49.23907895698715, 49.20895175275627, 36.086152991428904, 34.133869320469515, 34.133869320469515, 34.133869320469515, 35.30349274337258, 33.36517698296582, 33.17213683558153, 31.680052248493663, 26.04463446121393, 24.342375526397404, 39.29455932630476, 22.129507068327626, 21.24183154217881, 20.96403922103678, 20.736016028991695, 20.656786888426524, 20.435718893349023, 20.435718893349023, 20.03526519587465, 20.03526519587465, 31.476360023553898, 30.485716810894534, 35.73925014065014, 24.5335693903609, 30.65139055168651, 63.36570086386717, 63.53644469448914, 29.94555237375423, 32.67375534520244, 54.835210018703876, 61.766922951372116, 32.388038672088456, 35.583702200363795, 69.8377467413755, 40.34154581743791, 40.385160668465545, 34.906561938718255, 38.94776288126832, 34.27881407232523, 783.9521332169647, 783.9521332169647, 783.9521332169647, 783.9521332169647, 58.017468524336216, 51.919376876389364, 48.1186312943933, 45.96367490115907, 44.06748548621923, 38.970335040212134, 38.970335040212134, 44.95399693989585, 28.474311914608666, 28.47424020778559, 28.474214393329284, 28.47406811141021, 28.47409392586652, 24.220878290267006, 24.220878290267006, 23.938680390464604, 23.886968297935816, 22.83542215681555, 21.152531857794706, 21.09985028901794, 19.976471120814033, 19.099915442453153, 18.879566111689424, 19.036530913264208, 18.109684371607887, 32.9804231738292, 74.48120595217152, 55.9752065742467, 52.423797089174215, 45.550067077389365, 28.397445068545156, 82.82620508671819, 130.46045679123964, 67.66745152720662, 33.904767147360204, 44.28456211757781, 51.70902921330815, 37.40791507223027, 44.889538242497245, 41.71276535698965, 31.521143431885537, 31.259898265785658, 28.91705565473022, 28.963791293737604, 818.3954767548715, 818.3954767548715, 818.3954767548715, 818.3954767548715, 817.9277199584548, 75.78371294678416, 75.78360612732344, 75.78349930786273, 67.03596371625581, 41.19285329141326, 33.68654858922125, 28.704500185385076, 24.70820144234395, 22.201573166045392, 19.73013065790038, 20.33207237425088, 20.33216232748096, 20.3852937650355, 17.84271230708928, 17.583089013328063, 17.10736432845301, 16.152106001616698, 15.720490726422987, 15.233932299400154, 18.523156488434587, 13.613382693929383, 13.506246991384685, 13.506304617672706, 13.505704460965765, 14.34757393024759, 225.99548182019873, 226.00013689985536, 225.99845027679137, 225.94411852582294, 38.32783448024468, 17.645616346868316, 17.339685411365675, 27.153523781304433, 81.12602965916828, 28.400666284558678, 35.629816651758375, 40.03976532332314, 36.87008616602681, 33.73863150943767, 52.214027049257346, 25.321362013108512, 24.031280897683185, 21.12671077566374, 521.8604186351458, 521.8604186351458, 521.8604186351458, 521.8604186351458, 521.8604186351458, 335.95492680360917, 99.29654814007056, 41.60412525553895, 40.740449411153875, 35.83364330446545, 35.04144230795075, 27.10209222687599, 27.10209222687599, 27.10209222687599, 27.10209222687599, 27.572100062334112, 24.468755352312524, 24.11838484128303, 23.637829450531438, 22.34423785137126, 21.33067085031818, 20.224678730183587, 19.665011260174825, 18.790059602700083, 18.043937832282047, 19.158363123550924, 18.505417741874037, 17.2168332534724, 17.1880305222693, 16.92878563685601, 259.37278805761713, 260.15958803441663, 260.15958803441663, 126.9461413293863, 216.8062335761633, 24.15167082494147, 57.2419020364971, 21.539419585491768, 31.800483947230344, 36.41754903488039, 44.12218081606065, 24.06537092245428, 33.39308899275954, 40.393847431173796, 47.195171524554915, 32.352227214378736, 31.708176594744124, 33.488951001329006, 35.57068538720282, 29.60783779409188], \"Total\": [1946.0, 1892.0, 1892.0, 1892.0, 1891.0, 1913.0, 820.0, 820.0, 820.0, 820.0, 819.0, 787.0, 787.0, 787.0, 787.0, 765.0, 765.0, 765.0, 765.0, 709.0, 570.0, 570.0, 570.0, 570.0, 570.0, 714.0, 713.0, 713.0, 522.0, 522.0, 1892.1594470671496, 1892.1594470671496, 1892.1594470671496, 1946.2714218292915, 714.8555556358531, 713.8690957816316, 713.9148368896509, 1891.0152540992608, 434.3001601085555, 434.3001601085555, 434.3001601085555, 434.3001601085555, 1913.9920737747093, 33.847401791662136, 33.847435258980816, 27.356090550661875, 26.14841301507899, 24.597947775380334, 23.226454478122367, 33.009251627811665, 33.00929871225102, 33.00930389637683, 20.56671760848826, 17.995489410690034, 16.905025741726682, 16.592232569022737, 16.466131159860982, 16.118301345362486, 16.043891490906375, 13.504314419463368, 134.99187006542283, 88.11914269357078, 35.161955662361834, 32.4181515916723, 65.05052942251524, 39.088441372247516, 709.076288406076, 644.9427205276604, 139.91448255255898, 250.42754965320458, 447.3187105649402, 223.3216614792046, 223.6643403611392, 53.67807086886049, 48.83813593417016, 38.83780139944828, 37.43189221324707, 32.68005836258628, 30.987609876589225, 30.71916231227562, 27.88431618523952, 27.647234469821104, 27.295167523233435, 27.022664259224086, 26.747487565437638, 27.02553493593076, 25.819541823423865, 25.819582769204832, 25.819385790172863, 25.194162090268023, 31.004798169168613, 31.004798169168613, 21.29777582947351, 20.95436810993, 20.729219695805597, 20.33792215027075, 20.101113978600093, 22.709173350538343, 19.9067661139036, 52.18294388842166, 76.21079320736344, 709.076288406076, 31.652515724877585, 323.5946620444416, 155.08156666312678, 61.47643861293408, 49.35829416082573, 282.99930546365897, 64.13000649563527, 81.16982574425333, 644.9427205276604, 55.92653490932529, 40.736262447241714, 87.49671275160708, 87.91459250292125, 151.7186139060551, 163.46365960341956, 216.51987044055772, 181.7744780664398, 130.25691283051242, 61.53209978851421, 90.27308669672328, 68.62363679273122, 158.85023349168523, 271.0136608110153, 765.3380667528786, 765.3380667528786, 765.3380667528786, 765.3380667528786, 155.83622713279232, 45.549225746080864, 36.2615165116364, 25.49408558438108, 24.37083676448998, 24.37083676448998, 24.37083676448998, 24.37083676448998, 23.7196522672222, 23.728526341182224, 22.818010479937758, 22.673513229372, 22.249634497982502, 21.622449633170024, 21.17058447056468, 20.723994396199753, 20.737598435780843, 19.999977419726203, 19.792249235683343, 18.934092946827437, 18.641077969567966, 24.8457552308665, 20.85285362028942, 20.1291406901914, 16.987527553080703, 16.493480977160207, 27.37700390956357, 39.00014407996032, 33.97659754846867, 25.137831895509407, 37.09965730662671, 37.09965730662671, 78.36866209341599, 59.47864013477246, 64.66324330660727, 37.29651712539116, 38.15348465626556, 106.43388579012998, 77.02762843586545, 231.76902798522457, 144.6182725980735, 88.06816477806528, 271.0136608110153, 87.02366509549118, 644.9427205276604, 97.78440548928862, 68.96706444199661, 45.325825512548775, 111.72828329391788, 120.92745769640322, 135.28216331060182, 139.91448255255898, 134.99187006542283, 73.14301594554213, 216.51987044055772, 570.950720240655, 570.950720240655, 570.950720240655, 570.950720240655, 570.9982588275926, 93.70572959516895, 93.70267625104036, 59.18945985790469, 50.112266118801756, 50.16869904049714, 36.958411119441784, 35.00626233066683, 35.00626233066683, 35.00626233066683, 36.217301056681094, 34.23773135882211, 34.04483584356443, 32.55338443377301, 26.919765362445368, 25.21491941157678, 40.75468323536531, 23.00499066980164, 22.117051573791866, 21.845940868874628, 21.611069168912273, 21.531141981162715, 21.308210531018258, 21.308210531018258, 20.907773223251933, 20.907773223251933, 32.987801099190165, 32.00007484226119, 37.86291358979894, 25.700981284867403, 32.732134544577015, 73.64590202647537, 76.55819879867555, 32.85032751118083, 41.61374818123039, 105.24013620871638, 151.7186139060551, 50.34992301449182, 68.15765055979837, 644.9427205276604, 163.46365960341956, 181.7744780664398, 80.19588324107977, 271.0136608110153, 100.99144092283967, 787.3286842762874, 787.3286842762874, 787.3286842762874, 787.3286842762874, 58.925599992325225, 52.82627752983781, 49.025612449312675, 46.8714763426516, 44.973441139304846, 39.87657593405297, 39.87657593405297, 46.29015775850376, 29.37948999647395, 29.379447265053898, 29.379420985354923, 29.37935882269328, 29.3794007050831, 25.126077225892026, 25.126077225892026, 24.84387554183794, 24.792384465964254, 23.74147779728835, 22.058139680791218, 22.005717119824233, 20.883867681070026, 20.00704297141837, 19.78673730196789, 19.97146660866073, 19.01671768079013, 34.69641372130382, 81.19378946855996, 62.253453777392465, 78.35495241078026, 70.58413759267346, 35.67604976351529, 271.0136608110153, 644.9427205276604, 216.51987044055772, 58.25953222638669, 135.28216331060182, 231.76902798522457, 91.30887257739195, 163.46365960341956, 158.85023349168523, 87.49671275160708, 144.6182725980735, 113.52393771915031, 139.91448255255898, 820.2912827154965, 820.2912827154965, 820.2912827154965, 820.2912827154965, 819.8237788966363, 76.64435133314701, 76.64429516185739, 76.6441965642283, 67.89683579149023, 42.07003464541046, 34.55294954261229, 29.58826940860841, 25.573029175331705, 23.064244449614836, 20.593741154336488, 21.223679529769644, 21.223809104158246, 21.351047539571475, 18.703081835686234, 18.459612819033747, 17.98405234944689, 17.015354963431104, 16.582101536140943, 16.098355689677255, 19.58847829308838, 14.478188404928025, 14.367122743754491, 14.367292123529834, 14.366847804861031, 15.274520935377614, 243.34567751781094, 243.35110660392962, 243.35280438047363, 243.8373504988835, 40.951749361765486, 18.80871897741769, 18.50471544866613, 31.67461349488918, 160.36984659992186, 38.23720102903216, 55.43693968102129, 84.02940248430609, 80.26762544544673, 113.77982487564462, 644.9427205276604, 49.47361174761623, 231.76902798522457, 216.51987044055772, 522.701882853951, 522.701882853951, 522.701882853951, 522.701882853951, 522.701882853951, 336.79630416367075, 100.12280726538455, 42.433234219292004, 41.569516664227386, 36.66290246318399, 35.93138835428148, 27.92820810596489, 27.92820810596489, 27.92820810596489, 27.92820810596489, 28.424270344078394, 25.295438099109624, 24.94916578917178, 24.466645123564813, 23.173433912894566, 22.16028983829011, 21.054301632705073, 20.50317496272296, 19.623649557434902, 18.870831256890554, 20.056988210871477, 19.387976003729534, 18.048897933341525, 18.01905932642588, 17.75793343519054, 274.42438002768984, 275.29241246372237, 275.29241246372237, 134.2599390957894, 231.17532902635753, 25.430533800621525, 62.39024860918106, 22.68894716839328, 35.27691109550944, 43.739745551896924, 56.551574995166185, 27.156697045144746, 62.62165061936801, 130.25691283051242, 282.99930546365897, 80.26762544544673, 82.83831004929985, 181.7744780664398, 644.9427205276604, 158.85023349168523], \"Category\": [\"Default\", \"Default\", \"Default\", \"Default\", \"Default\", \"Default\", \"Default\", \"Default\", \"Default\", \"Default\", \"Default\", \"Default\", \"Default\", \"Default\", \"Default\", \"Default\", \"Default\", \"Default\", \"Default\", \"Default\", \"Default\", \"Default\", \"Default\", \"Default\", \"Default\", \"Default\", \"Default\", \"Default\", \"Default\", \"Default\", \"Topic1\", \"Topic1\", \"Topic1\", \"Topic1\", \"Topic1\", \"Topic1\", \"Topic1\", \"Topic1\", \"Topic1\", \"Topic1\", \"Topic1\", \"Topic1\", \"Topic1\", \"Topic1\", \"Topic1\", \"Topic1\", \"Topic1\", \"Topic1\", \"Topic1\", \"Topic1\", \"Topic1\", \"Topic1\", \"Topic1\", \"Topic1\", \"Topic1\", \"Topic1\", \"Topic1\", \"Topic1\", \"Topic1\", \"Topic1\", \"Topic1\", \"Topic1\", \"Topic1\", \"Topic1\", \"Topic1\", \"Topic1\", \"Topic1\", \"Topic1\", \"Topic1\", \"Topic2\", \"Topic2\", \"Topic2\", \"Topic2\", \"Topic2\", \"Topic2\", \"Topic2\", \"Topic2\", \"Topic2\", \"Topic2\", \"Topic2\", \"Topic2\", \"Topic2\", \"Topic2\", \"Topic2\", \"Topic2\", \"Topic2\", \"Topic2\", \"Topic2\", \"Topic2\", \"Topic2\", \"Topic2\", \"Topic2\", \"Topic2\", \"Topic2\", \"Topic2\", \"Topic2\", \"Topic2\", \"Topic2\", \"Topic2\", \"Topic2\", \"Topic2\", \"Topic2\", \"Topic2\", \"Topic2\", \"Topic2\", \"Topic2\", \"Topic2\", \"Topic2\", \"Topic2\", \"Topic2\", \"Topic2\", \"Topic2\", \"Topic2\", \"Topic2\", \"Topic2\", \"Topic2\", \"Topic2\", \"Topic2\", \"Topic2\", \"Topic2\", \"Topic2\", \"Topic2\", \"Topic2\", \"Topic2\", \"Topic2\", \"Topic3\", \"Topic3\", \"Topic3\", \"Topic3\", \"Topic3\", \"Topic3\", \"Topic3\", \"Topic3\", \"Topic3\", \"Topic3\", \"Topic3\", \"Topic3\", \"Topic3\", \"Topic3\", \"Topic3\", \"Topic3\", \"Topic3\", \"Topic3\", \"Topic3\", \"Topic3\", \"Topic3\", \"Topic3\", \"Topic3\", \"Topic3\", \"Topic3\", \"Topic3\", \"Topic3\", \"Topic3\", \"Topic3\", \"Topic3\", \"Topic3\", \"Topic3\", \"Topic3\", \"Topic3\", \"Topic3\", \"Topic3\", \"Topic3\", \"Topic3\", \"Topic3\", \"Topic3\", \"Topic3\", \"Topic3\", \"Topic3\", \"Topic3\", \"Topic3\", \"Topic3\", \"Topic3\", \"Topic3\", \"Topic3\", \"Topic3\", \"Topic3\", \"Topic3\", \"Topic3\", \"Topic3\", \"Topic3\", \"Topic3\", \"Topic3\", \"Topic3\", \"Topic3\", \"Topic4\", \"Topic4\", \"Topic4\", \"Topic4\", \"Topic4\", \"Topic4\", \"Topic4\", \"Topic4\", \"Topic4\", \"Topic4\", \"Topic4\", \"Topic4\", \"Topic4\", \"Topic4\", \"Topic4\", \"Topic4\", \"Topic4\", \"Topic4\", \"Topic4\", \"Topic4\", \"Topic4\", \"Topic4\", \"Topic4\", \"Topic4\", \"Topic4\", \"Topic4\", \"Topic4\", \"Topic4\", \"Topic4\", \"Topic4\", \"Topic4\", \"Topic4\", \"Topic4\", \"Topic4\", \"Topic4\", \"Topic4\", \"Topic4\", \"Topic4\", \"Topic4\", \"Topic4\", \"Topic4\", \"Topic4\", \"Topic4\", \"Topic4\", \"Topic4\", \"Topic4\", \"Topic4\", \"Topic4\", \"Topic4\", \"Topic5\", \"Topic5\", \"Topic5\", \"Topic5\", \"Topic5\", \"Topic5\", \"Topic5\", \"Topic5\", \"Topic5\", \"Topic5\", \"Topic5\", \"Topic5\", \"Topic5\", \"Topic5\", \"Topic5\", \"Topic5\", \"Topic5\", \"Topic5\", \"Topic5\", \"Topic5\", \"Topic5\", \"Topic5\", \"Topic5\", \"Topic5\", \"Topic5\", \"Topic5\", \"Topic5\", \"Topic5\", \"Topic5\", \"Topic5\", \"Topic5\", \"Topic5\", \"Topic5\", \"Topic5\", \"Topic5\", \"Topic5\", \"Topic5\", \"Topic5\", \"Topic5\", \"Topic5\", \"Topic5\", \"Topic5\", \"Topic5\", \"Topic5\", \"Topic5\", \"Topic5\", \"Topic5\", \"Topic5\", \"Topic6\", \"Topic6\", \"Topic6\", \"Topic6\", \"Topic6\", \"Topic6\", \"Topic6\", \"Topic6\", \"Topic6\", \"Topic6\", \"Topic6\", \"Topic6\", \"Topic6\", \"Topic6\", \"Topic6\", \"Topic6\", \"Topic6\", \"Topic6\", \"Topic6\", \"Topic6\", \"Topic6\", \"Topic6\", \"Topic6\", \"Topic6\", \"Topic6\", \"Topic6\", \"Topic6\", \"Topic6\", \"Topic6\", \"Topic6\", \"Topic6\", \"Topic6\", \"Topic6\", \"Topic6\", \"Topic6\", \"Topic6\", \"Topic6\", \"Topic6\", \"Topic6\", \"Topic6\", \"Topic6\", \"Topic6\", \"Topic6\", \"Topic6\", \"Topic6\", \"Topic6\", \"Topic6\", \"Topic6\", \"Topic7\", \"Topic7\", \"Topic7\", \"Topic7\", \"Topic7\", \"Topic7\", \"Topic7\", \"Topic7\", \"Topic7\", \"Topic7\", \"Topic7\", \"Topic7\", \"Topic7\", \"Topic7\", \"Topic7\", \"Topic7\", \"Topic7\", \"Topic7\", \"Topic7\", \"Topic7\", \"Topic7\", \"Topic7\", \"Topic7\", \"Topic7\", \"Topic7\", \"Topic7\", \"Topic7\", \"Topic7\", \"Topic7\", \"Topic7\", \"Topic7\", \"Topic7\", \"Topic7\", \"Topic7\", \"Topic7\", \"Topic7\", \"Topic7\", \"Topic7\", \"Topic7\", \"Topic7\", \"Topic7\", \"Topic7\", \"Topic7\", \"Topic7\", \"Topic7\", \"Topic7\", \"Topic7\", \"Topic7\", \"Topic7\", \"Topic7\"], \"logprob\": [30.0, 29.0, 28.0, 27.0, 26.0, 25.0, 24.0, 23.0, 22.0, 21.0, 20.0, 19.0, 18.0, 17.0, 16.0, 15.0, 14.0, 13.0, 12.0, 11.0, 10.0, 9.0, 8.0, 7.0, 6.0, 5.0, 4.0, 3.0, 2.0, 1.0, -2.3708, -2.3708, -2.3708, -2.3426, -3.3449, -3.3463, -3.3463, -2.3723, -3.8442, -3.8442, -3.8442, -3.8442, -2.3754, -6.4214, -6.4214, -6.6412, -6.6878, -6.7514, -6.8111, -6.4636, -6.4636, -6.4636, -6.9378, -7.0812, -7.1444, -7.1643, -7.1727, -7.1949, -7.1998, -7.3839, -5.3918, -5.7864, -6.5672, -6.6384, -6.1573, -6.7223, -5.622, -6.5424, -6.725, -3.9842, -3.4048, -4.1013, -4.1, -5.5362, -5.6323, -5.8661, -5.9038, -6.043, -6.0976, -6.1065, -6.2062, -6.2151, -6.2284, -6.2387, -6.2492, -6.2398, -6.2857, -6.2857, -6.2857, -6.3151, -6.108, -6.108, -6.4856, -6.5025, -6.5139, -6.5337, -6.5459, -6.4241, -6.5561, -5.6003, -5.2347, -3.0497, -6.1098, -3.902, -4.6054, -5.4979, -5.7441, -4.3294, -5.6141, -5.4816, -4.1872, -5.7904, -5.9933, -5.7257, -5.7448, -5.5496, -5.5247, -5.4692, -5.5783, -5.6838, -5.9083, -5.8383, -5.9247, -5.8351, -5.859, -2.8524, -2.8524, -2.8524, -2.8524, -4.4501, -5.6907, -5.9236, -6.2866, -6.3332, -6.3332, -6.3332, -6.3332, -6.3614, -6.3611, -6.4016, -6.4082, -6.4278, -6.4576, -6.4797, -6.5019, -6.5013, -6.5391, -6.5501, -6.5965, -6.6128, -6.3257, -6.5011, -6.5383, -6.7106, -6.7417, -6.2395, -5.9002, -6.042, -6.3391, -6.0259, -6.0259, -5.5187, -5.7359, -5.6929, -6.1076, -6.1015, -5.479, -5.6897, -5.0412, -5.3218, -5.6142, -5.0104, -5.6471, -4.6683, -5.6654, -5.8386, -6.0654, -5.6859, -5.6903, -5.716, -5.7323, -5.7635, -5.9398, -5.9969, -3.0758, -3.0758, -3.0758, -3.0758, -3.0757, -4.8943, -4.8943, -5.3557, -5.5249, -5.5255, -5.8356, -5.8913, -5.8913, -5.8913, -5.8576, -5.914, -5.9198, -5.9659, -6.1617, -6.2293, -5.7505, -6.3246, -6.3656, -6.3787, -6.3897, -6.3935, -6.4043, -6.4043, -6.424, -6.424, -5.9723, -6.0043, -5.8453, -6.2215, -5.9989, -5.2726, -5.2699, -6.0222, -5.935, -5.4172, -5.2982, -5.9438, -5.8497, -5.1754, -5.7242, -5.7231, -5.8689, -5.7593, -5.887, -2.7546, -2.7546, -2.7546, -2.7546, -5.3582, -5.4692, -5.5452, -5.5911, -5.6332, -5.7561, -5.7561, -5.6133, -6.0699, -6.0699, -6.0699, -6.0699, -6.0699, -6.2317, -6.2317, -6.2434, -6.2456, -6.2906, -6.3671, -6.3696, -6.4244, -6.4692, -6.4808, -6.4725, -6.5225, -5.923, -5.1084, -5.394, -5.4595, -5.6001, -6.0726, -5.0022, -4.5478, -5.2043, -5.8954, -5.6283, -5.4733, -5.797, -5.6147, -5.6881, -5.9683, -5.9766, -6.0545, -6.0529, -2.6914, -2.6914, -2.6914, -2.6914, -2.692, -5.0709, -5.0709, -5.0709, -5.1935, -5.6805, -5.8817, -6.0417, -6.1916, -6.2986, -6.4166, -6.3866, -6.3865, -6.3839, -6.5172, -6.5318, -6.5592, -6.6167, -6.6438, -6.6752, -6.4797, -6.7877, -6.7956, -6.7956, -6.7956, -6.7352, -3.9782, -3.9782, -3.9782, -3.9785, -5.7526, -6.5283, -6.5458, -6.0972, -5.0027, -6.0523, -5.8256, -5.7089, -5.7914, -5.8801, -5.4434, -6.1671, -6.2194, -6.3482, -3.1037, -3.1037, -3.1037, -3.1037, -3.1037, -3.5442, -4.763, -5.6329, -5.6539, -5.7823, -5.8046, -6.0615, -6.0615, -6.0615, -6.0615, -6.0443, -6.1637, -6.1782, -6.1983, -6.2546, -6.301, -6.3542, -6.3823, -6.4278, -6.4683, -6.4084, -6.4431, -6.5153, -6.5169, -6.5321, -3.8029, -3.7998, -3.7998, -4.5174, -3.9821, -6.1768, -5.3139, -6.2913, -5.9017, -5.7661, -5.5742, -6.1804, -5.8528, -5.6625, -5.5069, -5.8845, -5.9046, -5.8499, -5.7896, -5.9731], \"loglift\": [30.0, 29.0, 28.0, 27.0, 26.0, 25.0, 24.0, 23.0, 22.0, 21.0, 20.0, 19.0, 18.0, 17.0, 16.0, 15.0, 14.0, 13.0, 12.0, 11.0, 10.0, 9.0, 8.0, 7.0, 6.0, 5.0, 4.0, 3.0, 2.0, 1.0, 1.548, 1.548, 1.548, 1.5479, 1.5472, 1.5472, 1.5472, 1.547, 1.5462, 1.5462, 1.5462, 1.5462, 1.5318, 1.5209, 1.5209, 1.514, 1.5126, 1.5101, 1.5078, 1.5038, 1.5038, 1.5038, 1.5027, 1.4929, 1.4922, 1.4909, 1.4902, 1.4893, 1.489, 1.4773, 1.1672, 1.1991, 1.337, 1.347, 1.1317, 1.0761, -0.7218, -1.5474, -0.2018, 1.9568, 1.9561, 1.9543, 1.954, 1.9449, 1.9433, 1.9387, 1.9379, 1.9344, 1.933, 1.9328, 1.9299, 1.9295, 1.9291, 1.9289, 1.9285, 1.9276, 1.9273, 1.9273, 1.9273, 1.9224, 1.922, 1.922, 1.92, 1.9193, 1.9187, 1.918, 1.9175, 1.9173, 1.9171, 1.9091, 1.896, 1.8505, 1.8996, 1.7827, 1.8148, 1.8476, 1.821, 1.4893, 1.6891, 1.586, 0.8078, 1.6497, 1.7638, 1.2669, 1.243, 0.8926, 0.8429, 0.6173, 0.6832, 0.9109, 1.4363, 1.123, 1.3108, 0.5611, 0.003, 1.9714, 1.9714, 1.9714, 1.9714, 1.9653, 1.9547, 1.9498, 1.9391, 1.9376, 1.9376, 1.9376, 1.9376, 1.9365, 1.9364, 1.935, 1.9348, 1.934, 1.9329, 1.9319, 1.931, 1.931, 1.9293, 1.9288, 1.9267, 1.926, 1.9258, 1.9255, 1.9237, 1.9211, 1.9195, 1.915, 1.9004, 1.8965, 1.9007, 1.8247, 1.8247, 1.584, 1.6427, 1.602, 1.7376, 1.721, 1.3177, 1.4303, 0.9772, 1.1683, 1.3719, 0.8516, 1.3509, 0.3267, 1.2161, 1.3919, 1.585, 1.0622, 0.9786, 0.8409, 0.7909, 0.7955, 1.2319, 0.0896, 2.0411, 2.0411, 2.0411, 2.0411, 2.0411, 2.0297, 2.0297, 2.0278, 2.0251, 2.0233, 2.0188, 2.0174, 2.0174, 2.0174, 2.0171, 2.0168, 2.0167, 2.0154, 2.0096, 2.0074, 2.0062, 2.0038, 2.0023, 2.0014, 2.0013, 2.0012, 2.0008, 2.0008, 2.0, 2.0, 1.9957, 1.9942, 1.9849, 1.9962, 1.977, 1.8923, 1.8562, 1.9501, 1.8008, 1.3907, 1.144, 1.6014, 1.3927, -0.1803, 0.6434, 0.5383, 1.2108, 0.1027, 0.9621, 2.041, 2.041, 2.041, 2.041, 2.0297, 2.028, 2.0266, 2.0257, 2.0249, 2.0223, 2.0223, 2.016, 2.014, 2.014, 2.014, 2.014, 2.014, 2.0086, 2.0086, 2.0082, 2.0081, 2.0064, 2.0034, 2.0032, 2.0009, 1.9989, 1.9983, 1.9973, 1.9964, 1.9946, 1.959, 1.939, 1.6434, 1.6073, 1.8171, 0.8598, 0.4472, 0.8822, 1.5039, 0.9285, 0.5452, 1.1529, 0.7529, 0.7081, 1.0243, 0.5135, 0.6777, 0.4703, 2.0631, 2.0631, 2.0631, 2.0631, 2.0631, 2.0541, 2.0541, 2.0541, 2.0527, 2.0444, 2.04, 2.0351, 2.031, 2.0273, 2.0226, 2.0225, 2.0225, 2.0191, 2.0183, 2.0168, 2.0155, 2.0134, 2.0121, 2.0102, 2.0095, 2.0038, 2.0036, 2.0036, 2.0036, 2.0028, 1.9915, 1.9915, 1.9914, 1.9892, 1.9992, 2.0016, 2.0004, 1.9114, 1.384, 1.768, 1.6234, 1.3241, 1.2875, 0.8498, -0.4484, 1.3956, -0.201, -0.2617, 2.1014, 2.1014, 2.1014, 2.1014, 2.1014, 2.1005, 2.0948, 2.0833, 2.0829, 2.0802, 2.078, 2.073, 2.073, 2.073, 2.073, 2.0726, 2.0698, 2.0692, 2.0686, 2.0666, 2.0649, 2.0628, 2.0613, 2.0596, 2.0582, 2.0572, 2.0565, 2.0558, 2.0558, 2.0552, 2.0466, 2.0465, 2.0465, 2.047, 2.0389, 2.0514, 2.0169, 2.051, 1.9993, 1.9198, 1.8549, 1.9822, 1.4743, 0.9322, 0.3119, 1.1944, 1.1427, 0.4115, -0.7946, 0.4231]}, \"token.table\": {\"Topic\": [1, 2, 6, 7, 5, 4, 1, 2, 3, 4, 6, 2, 1, 6, 5, 1, 3, 4, 7, 2, 6, 7, 1, 2, 3, 4, 5, 6, 7, 1, 6, 2, 7, 2, 3, 4, 6, 1, 3, 4, 6, 1, 2, 3, 4, 5, 6, 7, 4, 1, 2, 3, 4, 5, 7, 7, 1, 3, 4, 6, 2, 1, 3, 5, 2, 1, 5, 3, 7, 6, 3, 6, 5, 7, 4, 6, 2, 5, 3, 1, 5, 7, 7, 7, 1, 2, 3, 4, 5, 6, 7, 3, 1, 1, 3, 4, 5, 6, 7, 4, 6, 7, 1, 1, 1, 7, 2, 1, 7, 1, 4, 6, 7, 7, 1, 2, 3, 4, 5, 7, 1, 2, 3, 4, 5, 7, 1, 2, 3, 4, 6, 7, 4, 6, 7, 3, 5, 6, 2, 4, 2, 1, 3, 5, 3, 6, 3, 2, 4, 1, 3, 5, 2, 4, 5, 6, 7, 5, 2, 1, 2, 3, 5, 6, 7, 6, 4, 5, 6, 7, 3, 4, 4, 1, 3, 3, 2, 1, 3, 1, 2, 3, 4, 6, 7, 1, 3, 4, 5, 6, 7, 4, 2, 3, 4, 7, 5, 1, 3, 2, 7, 1, 2, 3, 4, 5, 6, 7, 1, 3, 4, 6, 1, 2, 3, 4, 6, 7, 3, 1, 6, 7, 3, 7, 1, 4, 1, 4, 3, 1, 2, 3, 4, 5, 6, 7, 4, 7, 6, 1, 2, 5, 1, 2, 3, 5, 6, 7, 5, 5, 1, 2, 3, 4, 5, 7, 3, 2, 1, 2, 3, 4, 5, 6, 7, 5, 4, 1, 4, 7, 7, 1, 2, 4, 5, 6, 2, 3, 4, 5, 6, 7, 1, 2, 3, 4, 5, 6, 7, 7, 3, 3, 4, 4, 1, 2, 3, 5, 7, 6, 1, 2, 3, 4, 5, 6, 7, 3, 3, 4, 5, 1, 2, 5, 6, 2, 6, 1, 3, 5, 1, 2, 3, 4, 5, 6, 7, 4, 3, 5, 6, 7, 3, 4, 1, 2, 3, 4, 5, 6, 1, 2, 3, 4, 5, 6, 7, 1, 2, 3, 4, 5, 6, 7, 2, 5, 3, 1, 3, 5, 2, 4, 5, 2, 6, 3, 4, 1, 4, 6, 2, 3, 2, 7, 4, 1, 2, 4, 5, 6, 7, 3, 4, 1, 2, 7, 2, 6, 1, 2, 3, 7, 4, 6, 4, 6, 5, 2, 2, 5, 6, 7, 2, 2, 1, 3, 4, 6, 1, 3, 1, 2, 6, 3, 4, 6, 7, 1, 6, 7, 1, 2, 5, 1, 2, 3, 4, 5, 7, 4, 1, 4, 1, 2, 3, 4, 5, 6, 7, 2, 7, 2, 4, 6, 5, 2, 3, 4, 3, 5, 6, 1, 2, 3, 4, 5, 2, 3, 4, 5, 7, 4, 7, 1, 6, 6, 4, 1, 3, 1, 5, 7, 2, 7, 4, 1, 2, 1, 3, 4, 6, 3, 5, 6, 7, 1, 2, 5, 1, 2, 3, 4, 5, 6, 7, 1, 2, 3, 7, 4, 7, 1, 6, 6, 4, 4, 1, 2, 3, 5, 6, 7, 7, 2, 6, 4, 4, 6, 6, 6, 4, 6, 2, 2, 7, 7, 1, 6, 5, 6, 4, 4, 7, 7, 1, 2, 3, 4, 5, 6, 7, 1, 2, 3, 4, 5, 3, 2, 3, 4, 6, 7, 5, 1, 2, 3, 6, 1, 2, 2, 5, 6, 7, 6, 1, 2, 4, 5, 6, 2, 1, 2, 3, 4, 5, 6, 7, 4, 5, 3, 6, 7, 1, 2, 3, 4, 5, 6, 7, 1, 3, 5, 4, 6, 2, 3, 4, 5, 6, 2, 7, 4, 6, 5, 1, 2, 3, 4, 5, 6, 4, 1, 2, 3, 4, 5, 6, 7, 4, 1, 4, 7, 7, 1, 3, 5, 7, 1, 3, 6, 1, 2, 3, 4, 5, 6, 7, 1, 6, 3, 4, 6, 7, 1, 2, 3, 5, 7, 1, 3, 1, 3, 2, 4, 5, 6, 7, 6, 4, 2, 7, 3, 1, 2, 4, 5, 6, 7, 3, 7, 2, 5, 7, 2, 2, 4, 5, 7, 4, 1, 2, 3, 5, 6, 7, 1, 2, 3, 4, 5, 6, 7, 2, 1, 2, 7, 3, 5], \"Freq\": [0.26002688117246103, 0.5850604826380373, 0.03250336014655763, 0.0975100804396729, 0.9530487119553653, 0.9693100049486085, 0.04134710259561437, 0.2976991386884234, 0.3721239233605293, 0.1901966719398261, 0.09923304622947447, 0.9784281970333114, 0.9756911519269583, 0.9423379140778988, 0.981407107037109, 0.050438274869807204, 0.7229486064672366, 0.10087654973961441, 0.11768930802955015, 0.8100890464052491, 0.14728891752822712, 0.024548152921371184, 0.9832851586936744, 0.004702213830097274, 0.005224682033441416, 0.002612341016720708, 0.0015674046100324246, 0.002089872813376566, 0.0005224682033441415, 0.9970063098566888, 0.9711688541733728, 0.0605600954866762, 0.9386814800434811, 0.07862977725436517, 0.7862977725436516, 0.13104962875727527, 0.026209925751455053, 0.004101094430176639, 0.049213133162119664, 0.016404377720706555, 0.9268473412199204, 0.0528522893105025, 0.26426144655251255, 0.24664401678234502, 0.14093943816134, 0.25545273166742877, 0.02642614465525125, 0.0176174297701675, 0.971254790895362, 0.029343734468154716, 0.16139053957485094, 0.11737493787261886, 0.5281872204267849, 0.04401560170223207, 0.13204680510669622, 0.9799888341281782, 0.05799869883347175, 0.5654873136263495, 0.13049707237531144, 0.231994795333887, 0.9544549325027015, 0.10781770750441738, 0.862541660035339, 0.9530480540769494, 0.9525495668003869, 0.9749630879711643, 0.9530500705948752, 0.9712128068868223, 0.9986572023614708, 0.9317721815289772, 0.9696600835832371, 0.974465671952277, 0.9687686754961379, 0.9573186014038909, 0.9983348471121041, 0.9801181542426655, 0.028821422526040308, 0.9511069433593302, 0.9882169430909822, 0.08031682897272063, 0.8995484844944711, 0.9862996563364548, 0.9667644947916781, 0.9897902145037288, 0.0508036513120854, 0.2586367703160711, 0.15241095393625617, 0.0692777063346619, 0.31405893538380064, 0.09698878886852666, 0.05542216506772952, 0.9500010725642163, 0.9306191563613966, 0.04987787200965733, 0.08728627601690032, 0.43643138008450166, 0.1995114880386293, 0.012469468002414332, 0.21198095604104364, 0.001219079150383745, 0.9972067450139035, 0.9476410350786441, 0.9724449171094581, 0.9988031769088063, 0.9970063098566888, 0.9809272942322865, 0.9452212459581915, 0.9970063098566888, 0.9986572023614708, 0.07984458969935822, 0.25550268703794626, 0.1117824255791015, 0.5269742920157642, 0.9473007512514486, 0.019344658843411723, 0.864061428339057, 0.03224109807235287, 0.006448219614470574, 0.05158575691576459, 0.03224109807235287, 0.05370171117921956, 0.17005541873419527, 0.4027628338441467, 0.17900570393073187, 0.04475142598268297, 0.1432045631445855, 0.012760202525953461, 0.08932141768167423, 0.6762907338755334, 0.08932141768167423, 0.038280607577860386, 0.08932141768167423, 0.9983348471121041, 0.9915949727036611, 0.9418857629304941, 0.0012701175760149017, 0.995772179595683, 0.0025402351520298033, 0.9581674829789353, 0.038326699319157415, 0.9675921719055798, 0.9970063098566888, 0.9599717431682802, 0.9660328542373824, 0.9700802409240615, 0.9538573894349871, 0.9641506659549931, 0.031249926912025244, 0.9374978073607574, 0.9716915190741796, 0.9418674936658682, 0.9780177732535854, 0.11916602133181152, 0.6355521137696614, 0.1986100355530192, 0.019861003555301918, 0.019861003555301918, 0.9843585887843204, 0.9828384945875105, 0.04596450856914375, 0.20684028856114686, 0.540082975687439, 0.183858034276575, 0.011491127142285937, 0.011491127142285937, 0.966971806723743, 0.06229161473573441, 0.0747499376828813, 0.46095794904443466, 0.39866633430870024, 0.024537057354238966, 0.9569452368153197, 0.966388962701114, 0.9694236540235672, 0.030294489188236476, 0.9438357291623908, 0.9884619187620384, 0.9993872360656779, 0.9879421496834527, 0.04101553594992061, 0.2460932156995237, 0.47851458608240716, 0.17773398911632265, 0.013671845316640204, 0.04101553594992061, 0.11333991280259532, 0.12750740190291973, 0.07083744550162208, 0.6517044986149231, 0.014167489100324416, 0.014167489100324416, 0.9753314533141157, 0.045725003078196075, 0.11431250769549019, 0.022862501539098037, 0.8230500554075294, 0.9551829274514997, 0.9446811704882739, 0.9650649202871568, 0.9682862516919949, 0.9667644947916781, 0.019803658426143823, 0.1584292674091506, 0.12872377976993485, 0.336662193244445, 0.23764390111372588, 0.06931280449150339, 0.049509146065359555, 0.00410938057417029, 0.04520318631587318, 0.01643752229668116, 0.9287200097624854, 0.07948388634690225, 0.06812904544020192, 0.5450323635216153, 0.13625809088040383, 0.12490324997370353, 0.04541936362680128, 0.9591013471911772, 0.031571024541826025, 0.8524176626293026, 0.09471307362547807, 0.9437509356885364, 0.9667644947916781, 0.9626553111991739, 0.9565820226975495, 0.06088219361950917, 0.9132329042926375, 0.9806195996814343, 0.04496523346487829, 0.3163071595460404, 0.192265136194652, 0.10853677043246483, 0.20156828794600612, 0.08062731517840245, 0.05581891050812477, 0.07364665874775715, 0.8837599049730858, 0.9648957923172619, 0.9749640519860853, 0.9621553134282456, 0.9790800685993867, 0.17153335067357578, 0.2072694653972374, 0.30733058662348994, 0.2072694653972374, 0.07861945239205556, 0.021441668834196972, 0.9721288969194158, 0.9530458154093379, 0.051929419108761345, 0.19473532165785504, 0.5842059649735651, 0.03894706433157101, 0.10385883821752269, 0.012982354777190336, 0.9437509356885364, 0.9765895402475931, 0.051132897674033555, 0.13294553395248723, 0.4704226586011087, 0.1943050111613275, 0.0920392158132604, 0.051132897674033555, 0.02045315906961342, 0.9602391596976605, 0.9563142326712231, 0.030551017033066598, 0.9470815280250645, 0.98191898571452, 0.9850736592727777, 0.02552487033001931, 0.15314922198011585, 0.10209948132007723, 0.663646628580502, 0.03828730549502896, 0.1494113742799315, 0.26366713108223205, 0.06152233058585415, 0.166989183018747, 0.298822748559863, 0.06152233058585415, 0.012471172370635506, 0.0935337927797663, 0.13718289607699058, 0.05612027566785978, 0.09976937896508405, 0.505082481010738, 0.09976937896508405, 0.9976356505287428, 0.9447070310131378, 0.9437509356885364, 0.9386053310711426, 0.9799041947542653, 0.022062477377784172, 0.1544373416444892, 0.6839367987113093, 0.13237486426670503, 0.022062477377784172, 0.9367221895287583, 0.010600732730014568, 0.6254432310708594, 0.07067155153343045, 0.035335775766715226, 0.0636043963800874, 0.02826862061337218, 0.16607814610356156, 0.9659597696665787, 0.9969450536247355, 0.0013066121279485393, 0.952029513997834, 0.03576119999643526, 0.7331045999269228, 0.10728359998930578, 0.1251641999875234, 0.9526016350141169, 0.977592440402623, 0.947195794378449, 0.7775524964570227, 0.18768508535169515, 0.03090285833771457, 0.8374674609520648, 0.00927085750131437, 0.03708343000525748, 0.05253485917411477, 0.015451429168857285, 0.01854171500262874, 0.9983348471121041, 0.0012701175760149017, 0.995772179595683, 0.0025402351520298033, 0.9986572023614708, 0.9969450536247355, 0.0013066121279485393, 0.011900596344080477, 0.07140357806448286, 0.14280715612896572, 0.1547077524730462, 0.14280715612896572, 0.4760238537632191, 0.01318229812749548, 0.3427397513148825, 0.01977344719124322, 0.40865124195235986, 0.05272919250998192, 0.08568493782872062, 0.07250263970122514, 0.011077498694151752, 0.4320224490719183, 0.16616248041227627, 0.12185248563566926, 0.09969748824736577, 0.03323249608245525, 0.12185248563566926, 0.9477919625965536, 0.031593065419885116, 0.9656093939087352, 0.9694251890593809, 0.030294537158105653, 0.9496655766243411, 0.03031423637462606, 0.9397413276134079, 0.9780177732535854, 0.9925587585466155, 0.004470985398858629, 0.9702951535318528, 0.9494936488227236, 0.9987825558120288, 0.0012197743292416507, 0.9977754013196704, 0.9940818034826967, 0.9439051717323625, 0.972053914835593, 0.9538530526273147, 0.971254790895362, 0.009502078161669808, 0.3325727356584433, 0.5226142988918395, 0.07601662529335847, 0.019004156323339617, 0.028506234485009427, 0.9969450536247355, 0.0013066121279485393, 0.06411258312266732, 0.01602814578066683, 0.9136043094980094, 0.954449351104282, 0.9624082361472255, 0.9993872360656779, 0.89465169487597, 0.06506557780916145, 0.03253278890458072, 0.001219079150383745, 0.9972067450139035, 0.001219079150383745, 0.9972067450139035, 0.9530472015824915, 0.9390651944191494, 0.9342153962245874, 0.9542974621391359, 0.7322711716984878, 0.23537287661737108, 0.9620531124226777, 0.9791904177452497, 0.004109260226303104, 0.04520186248933414, 0.016437040905212415, 0.9286928111445014, 0.10781770750441738, 0.862541660035339, 0.0022355425256794024, 0.994816423927334, 0.0022355425256794024, 0.12626959641490515, 0.21646216528269457, 0.6493864958480837, 0.01803851377355788, 0.6139922482823735, 0.1023320413803956, 0.255830103450989, 0.05248600403772628, 0.9316265716696415, 0.9680391990108066, 0.011374675938659122, 0.4891110653623422, 0.12512143532525033, 0.1592454631412277, 0.1592454631412277, 0.05687337969329561, 0.9924686612204199, 0.9643066376656014, 0.9717242509319575, 0.012235135349668639, 0.3242310867662189, 0.055058109073508874, 0.24470270699337276, 0.2752905453675444, 0.03670540604900591, 0.048940541398674556, 0.05085501585280669, 0.9444502944092672, 0.8711808365964129, 0.08104007782292214, 0.04052003891146107, 0.9576770120090734, 0.9682588549003467, 0.9969450536247355, 0.0013066121279485393, 0.0012701175760149017, 0.995772179595683, 0.0025402351520298033, 0.024030519809101057, 0.024030519809101057, 0.024030519809101057, 0.7930071537003349, 0.14418311885460633, 0.02234471444128701, 0.00744823814709567, 0.00744823814709567, 0.01489647629419134, 0.94592624468115, 0.039322808079457615, 0.9437473939069827, 0.04883796250880788, 0.9279212876673498, 0.9745653966194869, 0.9727255050265284, 0.9694238062720058, 0.03029449394600018, 0.7963152069488514, 0.14219914409800918, 0.028439828819601835, 0.05085501585280669, 0.9444502944092672, 0.9638489085082683, 0.10295084068330056, 0.8955312853958336, 0.004109288895191126, 0.04520217784710239, 0.016437155580764504, 0.9286992903131945, 0.0012701175760149017, 0.995772179595683, 0.0025402351520298033, 0.9986572023614708, 0.9993872360656779, 0.9687715030577486, 0.9551829274514997, 0.03689850899056064, 0.14021433416413043, 0.32470687911693363, 0.1439041850631865, 0.3062576246216533, 0.025828956293392446, 0.01844925449528032, 0.029432022985040485, 0.029432022985040485, 0.912392712536255, 0.029432022985040485, 0.21219568157077348, 0.7780508324261695, 0.9993467397121331, 0.9839970378815167, 0.9403271359537738, 0.983000709652822, 0.9767046173640312, 0.18943910010576692, 0.5246005849082777, 0.20401133857544132, 0.014572238469674379, 0.07286119234837189, 0.9740786984043577, 0.9667644947916781, 0.9648216524062819, 0.9915936970847372, 0.9658330839789379, 0.9983348471121041, 0.9165590239608974, 0.9570029740787417, 0.9751017086035607, 0.9565820226975495, 0.9452819458970738, 0.9765891301017594, 0.9681288785897827, 0.988785699322149, 0.9487876788678657, 0.9464641015308952, 0.991592970363253, 0.9842920565518929, 0.9744470239238345, 0.9386053310711426, 0.9982517305225374, 0.9682194917102657, 0.9619560109867991, 0.0076771357332963905, 0.35314824373163395, 0.11515703599944586, 0.06909422159966752, 0.0844484930662603, 0.061417085866371124, 0.3070854293318556, 0.04639420861980582, 0.12371788965281552, 0.6959131292970873, 0.04639420861980582, 0.09278841723961163, 0.9437509356885364, 0.31944713610327424, 0.5167527201670613, 0.1315370560425247, 0.018791008006074958, 0.009395504003037479, 0.9783551999881526, 0.046779973431067434, 0.7640728993741014, 0.10915327133915735, 0.07796662238511239, 0.9560809669628235, 0.9675921719055798, 0.24255354675168206, 0.2021279556264017, 0.5053198890660042, 0.02021279556264017, 0.9699579372994982, 0.6610245970591113, 0.10760865533520417, 0.10760865533520417, 0.07686332523943154, 0.04611799514365893, 0.9942995502883709, 0.0691475552870987, 0.062232799758388836, 0.44945910936614164, 0.15903937716032704, 0.214357421390006, 0.027659022114839484, 0.020744266586129614, 0.9612769770845669, 0.9513572724679394, 0.9692974468491191, 0.08504145932385457, 0.9071088994544487, 0.0221758724623004, 0.12566327728636892, 0.3252461294470725, 0.15523110723610278, 0.3252461294470725, 0.029567829949733865, 0.0221758724623004, 0.9504282036151885, 0.9497021692325308, 0.03652700650894349, 0.9507984617881903, 0.026411068383005287, 0.6899115463970883, 0.012319849042805147, 0.18479773564207722, 0.07391909425683088, 0.03695954712841544, 0.051015875479384805, 0.943793696368619, 0.9818289474840751, 0.9867911990148643, 0.9465355852752037, 0.02190367642864971, 0.20808492607217224, 0.13142205857189826, 0.22998860250082195, 0.40521801393001966, 0.9186847561725359, 0.971254790895362, 0.0550132235634583, 0.28056744017363733, 0.14853570362133742, 0.2200528942538332, 0.09352248005787911, 0.01650396706903749, 0.1815436377594124, 0.9778045136461222, 0.1306195829697733, 0.8359653310065491, 0.02612391659395466, 0.9434454758172989, 0.9984054839892357, 0.0005288164639773494, 0.0005288164639773494, 0.0005288164639773494, 0.03978067814904271, 0.9149555974279824, 0.03978067814904271, 0.03883176314901642, 0.090607447347705, 0.3667444297407107, 0.1251245701468307, 0.22436129819431713, 0.10355136839737714, 0.05177568419868857, 0.9987185629960618, 0.9423436672206987, 0.965210596991122, 0.001219079150383745, 0.9972067450139035, 0.9493629680734704, 0.025640930914248496, 0.025640930914248496, 0.9230735129129458, 0.025640930914248496, 0.025640930914248496, 0.7035928642156837, 0.28370680008696925, 0.6815225239520933, 0.31112984789117304, 0.2293624772003734, 0.20521905854770253, 0.15693222124236075, 0.024143418652670886, 0.3862946984427342, 0.9744355359122749, 0.9518174382497141, 0.9682647063399653, 0.9986572023614708, 0.9644318295551435, 0.9349352685725872, 0.1888103041620015, 0.12015201173945551, 0.5835954855916411, 0.051493719316909506, 0.051493719316909506, 0.9506660842190514, 0.9499246448019271, 0.07389727760302817, 0.9113997571040141, 0.9696351195460927, 0.9682573193947056, 0.06789244020940259, 0.8554447466384726, 0.04073546412564155, 0.027156976083761036, 0.9740678484163077, 0.011429000799594413, 0.5028760351821542, 0.10286100719634972, 0.3657280255870212, 0.011429000799594413, 0.9754586807341894, 0.04406666484608223, 0.2455142755710296, 0.10701904319762828, 0.10701904319762828, 0.26439998907649337, 0.04406666484608223, 0.18885713505463814, 0.9873678234354386, 0.8328667328132263, 0.12338766412047797, 0.030846916030119492, 0.1681800546801569, 0.7848402551740655], \"Term\": [\"ad\", \"ad\", \"ad\", \"ad\", \"ad_recipe\", \"addicts_stop\", \"adventure\", \"adventure\", \"adventure\", \"adventure\", \"adventure\", \"airport\", \"america\", \"americas_best\", \"argentina\", \"australia\", \"australia\", \"australia\", \"australia\", \"bali\", \"bali\", \"bali\", \"beach\", \"beach\", \"beach\", \"beach\", \"beach\", \"beach\", \"beach\", \"beach_condominiums\", \"beaches\", \"beautiful_israel\", \"beautiful_israel\", \"beauty\", \"beauty\", \"beauty\", \"beauty\", \"bed_breakfasts\", \"bed_breakfasts\", \"bed_breakfasts\", \"bed_breakfasts\", \"best\", \"best\", \"best\", \"best\", \"best\", \"best\", \"best\", \"best_wine\", \"blog\", \"blog\", \"blog\", \"blog\", \"blog\", \"blog\", \"bloggers\", \"book\", \"book\", \"book\", \"book\", \"brasil\", \"brings_amazing\", \"brings_amazing\", \"buche_de\", \"buildings\", \"bundle_check\", \"cake_ganache\", \"cambodia\", \"campers_rvs\", \"capital\", \"caribbean\", \"cave_igloo\", \"celebrate\", \"central\", \"chalets_rent\", \"chance\", \"chance_win\", \"chance_win\", \"cheap_flights\", \"check\", \"check\", \"cheer\", \"chicken_casserole\", \"china\", \"christmas\", \"christmas\", \"christmas\", \"christmas\", \"christmas\", \"christmas\", \"christmas\", \"christmas_tree\", \"cities\", \"city\", \"city\", \"city\", \"city\", \"city\", \"city\", \"city_reflexion\", \"city_reflexion\", \"click\", \"clownfish_redsea\", \"condo\", \"condo_steps\", \"conozcopablo\", \"contact\", \"cozy_san\", \"crafted_gypsy\", \"cruise\", \"cruise\", \"cruise\", \"cruise\", \"daily_news\", \"daily_thanks\", \"daily_thanks\", \"daily_thanks\", \"daily_thanks\", \"daily_thanks\", \"daily_thanks\", \"day\", \"day\", \"day\", \"day\", \"day\", \"day\", \"de\", \"de\", \"de\", \"de\", \"de\", \"de\", \"de_celeste\", \"debate\", \"decor\", \"desert_retreat\", \"desert_retreat\", \"desert_retreat\", \"destinations\", \"destinations\", \"destinosin\", \"diego\", \"dinner\", \"discover_sponsors\", \"diy\", \"dogs\", \"dream\", \"drone_cameras\", \"drone_cameras\", \"easy\", \"edition\", \"en_argentina\", \"enter\", \"enter\", \"enter\", \"enter\", \"enter\", \"enter_chance\", \"enter_win\", \"family\", \"family\", \"family\", \"family\", \"family\", \"family\", \"family_favorite\", \"familytravel\", \"familytravel\", \"familytravel\", \"familytravel\", \"favorite\", \"favorite\", \"feature\", \"fish_fishtank\", \"fish_fishtank\", \"florida\", \"forget\", \"found_mission\", \"frizemedia\", \"fun\", \"fun\", \"fun\", \"fun\", \"fun\", \"fun\", \"gift\", \"gift\", \"gift\", \"gift\", \"gift\", \"gift\", \"gift_guide\", \"gift_ideas\", \"gift_ideas\", \"gift_ideas\", \"gift_ideas\", \"gifts_prizes\", \"giving\", \"going_paris\", \"goodfoods_sharethegoo\", \"goodness_community\", \"great\", \"great\", \"great\", \"great\", \"great\", \"great\", \"great\", \"guest_room\", \"guest_room\", \"guest_room\", \"guest_room\", \"guide\", \"guide\", \"guide\", \"guide\", \"guide\", \"guide\", \"guide_tips\", \"h\", \"h\", \"h\", \"hark_hey\", \"healthy_broccoli\", \"high\", \"himalayas_bookreview\", \"history\", \"history\", \"holid\", \"holiday\", \"holiday\", \"holiday\", \"holiday\", \"holiday\", \"holiday\", \"holiday\", \"holiday_baking\", \"holiday_baking\", \"holiday_giveaways\", \"holiday_lip\", \"holiday_meal\", \"holiday_payday\", \"holiday_season\", \"holiday_season\", \"holiday_season\", \"holiday_season\", \"holiday_season\", \"holiday_season\", \"holiday_spirit\", \"holiday_yulelog\", \"holidays\", \"holidays\", \"holidays\", \"holidays\", \"holidays\", \"holidays\", \"holidays_nyc\", \"hong_kong\", \"hotel\", \"hotel\", \"hotel\", \"hotel\", \"hotel\", \"hotel\", \"hotel\", \"house\", \"inn\", \"instagram\", \"instagram\", \"islands\", \"israel_readon\", \"italy\", \"italy\", \"italy\", \"italy\", \"italy\", \"japan\", \"japan\", \"japan\", \"japan\", \"japan\", \"japan\", \"japan_japantravel\", \"japan_japantravel\", \"japan_japantravel\", \"japan_japantravel\", \"japan_japantravel\", \"japan_japantravel\", \"japan_japantravel\", \"jerusalem\", \"jewelry\", \"join_tiny\", \"jungle_olivier\", \"keukenhof\", \"know\", \"know\", \"know\", \"know\", \"know\", \"kyoto\", \"latest\", \"latest\", \"latest\", \"latest\", \"latest\", \"latest\", \"latest\", \"lifestyle\", \"lighthouses_rent\", \"lighthouses_rent\", \"lights_extravaganza\", \"like\", \"like\", \"like\", \"like\", \"like_post\", \"little\", \"live\", \"looking\", \"looking\", \"love\", \"love\", \"love\", \"love\", \"love\", \"love\", \"love\", \"love_chalet\", \"love_dragonfly\", \"love_dragonfly\", \"love_dragonfly\", \"love_hand\", \"love_wings\", \"love_wings\", \"loyalty\", \"loyalty\", \"loyalty\", \"loyalty\", \"loyalty\", \"loyalty\", \"lp\", \"lp\", \"lp\", \"lp\", \"lp\", \"lp\", \"lp\", \"luxury\", \"luxury\", \"luxury\", \"luxury\", \"luxury\", \"luxury\", \"luxury\", \"luxurytravel\", \"luxurytravel\", \"magical\", \"marinelife_ocean\", \"marinelife_ocean\", \"marketing\", \"memories_win\", \"memories_win\", \"mi_experiencia\", \"mid_century\", \"mid_century\", \"million\", \"miss\", \"mission_beach\", \"mm_store\", \"mm_store\", \"modern_houses\", \"money\", \"morocco\", \"mydayinla\", \"napa_thrillist\", \"nature\", \"nature\", \"nature\", \"nature\", \"nature\", \"nature\", \"neck_lighthouse\", \"neck_lighthouse\", \"new_york\", \"new_york\", \"new_york\", \"news_thanks\", \"news_week\", \"nice_vacation\", \"night\", \"night\", \"night\", \"nikon_nikon\", \"nikon_nikon\", \"nikoncanada_vatican\", \"nikoncanada_vatican\", \"noel_ganache\", \"norway\", \"np\", \"nyc_brooklyn\", \"online\", \"online\", \"online_shop\", \"online_shopping\", \"owl_house\", \"owl_house\", \"owl_house\", \"owl_house\", \"packages_book\", \"packages_book\", \"palm_springs\", \"palm_springs\", \"palm_springs\", \"paradise\", \"paradise\", \"paradise\", \"paradise\", \"paris\", \"paris\", \"paris\", \"party\", \"party\", \"periscope_christmas\", \"photo\", \"photo\", \"photo\", \"photo\", \"photo\", \"photo\", \"photo_popular\", \"photo_proof\", \"photog\", \"photography\", \"photography\", \"photography\", \"photography\", \"photography\", \"photography\", \"photography\", \"photography_helena\", \"photography_helena\", \"photography_photooftheday\", \"photography_photooftheday\", \"photography_photooftheday\", \"planning\", \"planning_breeze\", \"pocasset\", \"pocasset\", \"pool_houses\", \"pool_houses\", \"pool_houses\", \"popular\", \"popular\", \"popular\", \"popular\", \"popular\", \"post\", \"post\", \"post\", \"post\", \"post\", \"pro\", \"pro\", \"ready\", \"ready\", \"recipe\", \"recipes\", \"reef_coral\", \"reef_coral\", \"reeftank_reefcandy\", \"reeftank_reefcandy\", \"reeftank_reefcandy\", \"reet_ennet\", \"reet_ennet\", \"related_project\", \"rent\", \"rent\", \"rent_hightown\", \"rent_hightown\", \"rent_hightown\", \"rent_hightown\", \"rent_pioneertown\", \"rent_pioneertown\", \"rent_pioneertown\", \"rent_seattle\", \"rental_condo\", \"right\", \"rsvp_twitterparty\", \"rt\", \"rt\", \"rt\", \"rt\", \"rt\", \"rt\", \"rt\", \"rt_viajes\", \"rt_viajes\", \"rt_viajes\", \"rt_viajes\", \"sale\", \"sale\", \"san_diego\", \"set\", \"sex\", \"shadowfax_marcwainwright\", \"shop\", \"shopping\", \"shopping\", \"shopping\", \"shopping\", \"shopping\", \"shopping_lastminute\", \"simple_holiday\", \"social\", \"solution_emotional\", \"south\", \"south_lake\", \"spain_italy\", \"spain_tourism\", \"spectacular_sunset\", \"spiti_grace\", \"spots_dubrovnik\", \"spread_gathering\", \"started\", \"steemit\", \"steemit_steemit\", \"sup\", \"support_animal\", \"sweeps\", \"switzerland_familytravel\", \"symon\", \"tahoe\", \"texas\", \"thank\", \"thanks\", \"thanks\", \"thanks\", \"thanks\", \"thanks\", \"thanks\", \"thanks\", \"things\", \"things\", \"things\", \"things\", \"things\", \"tim_celebrate\", \"tips\", \"tips\", \"tips\", \"tips\", \"tips\", \"tis_season\", \"today\", \"today\", \"today\", \"today\", \"today_beautyreview\", \"today_daily\", \"tokyo\", \"tokyo\", \"tokyo\", \"tokyo\", \"tokyo_japan\", \"tour\", \"tour\", \"tour\", \"tour\", \"tour\", \"touri\", \"tourism\", \"tourism\", \"tourism\", \"tourism\", \"tourism\", \"tourism\", \"tourism\", \"tourism_frizemedia\", \"tourist\", \"travelbloggers\", \"travelers\", \"travelers\", \"traveller\", \"traveller\", \"traveller\", \"traveller\", \"traveller\", \"traveller\", \"traveller\", \"traveller_video\", \"traveller_x\", \"traveller_x\", \"travelling\", \"travelling\", \"travelphotography\", \"travelphotography\", \"travelphotography\", \"travelphotography\", \"travelphotography\", \"travelpics_travelblogger\", \"travelpics_travelblogger\", \"travelpix\", \"traveltips_joyforall\", \"tree\", \"trip\", \"trip\", \"trip\", \"trip\", \"trip\", \"trip_visitspain\", \"trips_california\", \"ttot\", \"ttot\", \"ttot\", \"ttot\", \"ttot\", \"ttot\", \"ttot\", \"tulip_rainbow\", \"tulipsinholland_spring\", \"tulipsinholland_spring\", \"tulipsinholland_spring\", \"u\", \"usa\", \"usa\", \"usa\", \"usa\", \"use\", \"use\", \"use\", \"vacation\", \"vacation\", \"vacation\", \"vacation\", \"vacation\", \"vacation\", \"vacation\", \"vacation_rental\", \"value_inn\", \"vantage_hospitality\", \"vatican_rome\", \"vatican_rome\", \"venice\", \"viajar\", \"viajar\", \"viajar\", \"viajar\", \"viajar\", \"viet_bamboo\", \"viet_bamboo\", \"vietnam\", \"vietnam\", \"visit\", \"visit\", \"visit\", \"visit\", \"visit\", \"visiting_glacier\", \"voyager\", \"w_enter\", \"wagon_heart\", \"wanted\", \"water_warrior\", \"way\", \"way\", \"way\", \"way\", \"way\", \"ways\", \"wedding\", \"win\", \"win\", \"win_breville\", \"win_u\", \"wine\", \"wine\", \"wine\", \"wine\", \"wine_winelover\", \"winter\", \"winter\", \"winter\", \"winter\", \"winter\", \"wish\", \"world\", \"world\", \"world\", \"world\", \"world\", \"world\", \"world\", \"year\", \"youtube\", \"youtube\", \"youtube\", \"yummy\", \"yummy\"]}, \"R\": 30, \"lambda.step\": 0.01, \"plot.opts\": {\"xlab\": \"PC1\", \"ylab\": \"PC2\"}, \"topic.order\": [1, 5, 2, 6, 3, 4, 7]};\n",
       "\n",
       "function LDAvis_load_lib(url, callback){\n",
       "  var s = document.createElement('script');\n",
       "  s.src = url;\n",
       "  s.async = true;\n",
       "  s.onreadystatechange = s.onload = callback;\n",
       "  s.onerror = function(){console.warn(\"failed to load library \" + url);};\n",
       "  document.getElementsByTagName(\"head\")[0].appendChild(s);\n",
       "}\n",
       "\n",
       "if(typeof(LDAvis) !== \"undefined\"){\n",
       "   // already loaded: just create the visualization\n",
       "   !function(LDAvis){\n",
       "       new LDAvis(\"#\" + \"ldavis_el83763112711242407812086759\", ldavis_el83763112711242407812086759_data);\n",
       "   }(LDAvis);\n",
       "}else if(typeof define === \"function\" && define.amd){\n",
       "   // require.js is available: use it to load d3/LDAvis\n",
       "   require.config({paths: {d3: \"https://d3js.org/d3.v5\"}});\n",
       "   require([\"d3\"], function(d3){\n",
       "      window.d3 = d3;\n",
       "      LDAvis_load_lib(\"https://cdn.jsdelivr.net/gh/bmabey/pyLDAvis@3.3.1/pyLDAvis/js/ldavis.v3.0.0.js\", function(){\n",
       "        new LDAvis(\"#\" + \"ldavis_el83763112711242407812086759\", ldavis_el83763112711242407812086759_data);\n",
       "      });\n",
       "    });\n",
       "}else{\n",
       "    // require.js not available: dynamically load d3 & LDAvis\n",
       "    LDAvis_load_lib(\"https://d3js.org/d3.v5.js\", function(){\n",
       "         LDAvis_load_lib(\"https://cdn.jsdelivr.net/gh/bmabey/pyLDAvis@3.3.1/pyLDAvis/js/ldavis.v3.0.0.js\", function(){\n",
       "                 new LDAvis(\"#\" + \"ldavis_el83763112711242407812086759\", ldavis_el83763112711242407812086759_data);\n",
       "            })\n",
       "         });\n",
       "}\n",
       "</script>"
      ],
      "text/plain": [
       "<IPython.core.display.HTML object>"
      ]
     },
     "execution_count": 19,
     "metadata": {},
     "output_type": "execute_result"
    }
   ],
   "source": [
    "vis = gensimvis.prepare(topic_model=lda_tfidf_model.model, corpus=lda_tfidf_model.corpus_tfidf, dictionary=basic_model.id2word)\n",
    "pyLDAvis.enable_notebook()\n",
    "pyLDAvis.display(vis)"
   ]
  },
  {
   "cell_type": "markdown",
   "id": "2a6f9d3b",
   "metadata": {},
   "source": [
    "# 4. Model Selection and Analysis\n",
    "\n"
   ]
  },
  {
   "cell_type": "markdown",
   "id": "03e21e46",
   "metadata": {},
   "source": [
    "## 4.1 Model Selection<a class=\"anchor\" id=\"4.1\"></a>\n",
    "\n",
    "## Bow vs TF-IDF\n",
    "Based on the grid-search values, we can identify the <b>Bow</b> model has slightly higher scores than the <b>IDF</b> model. In addition, the highest coherence score in bow gird search shows that the best number of topics is between 8-11 in comparison to <b>IDF</b> where the topics are between 4-6.\n",
    "\n",
    "\n",
    "### Is coherence a good evaluation metric?\n",
    "It's the best metric to get an understanding of whether your model is performing well. However, it can not always be trusted 100%.\n",
    "Taking the example above, the <b>Bow</b> clusters are not coherent at all. \n",
    "* Many words appear in all clusters (i.e. San Diego, USA, vacation holiday, etc.)\n",
    "* By examining the words in the clusters, you can't get a unique topic out of them. Most of them are a mixture of different topics\n",
    "\n",
    "Compared to the <b>IDF</b> model:\n",
    "* We still have some topics that overlap\n",
    "* But we can see that we have distinct clusters now, by identifying the clusters being scattered across the axis of the plot\n",
    "* Most of our words have been grouped into one cluster\n",
    "* Words under Topics make more sense"
   ]
  },
  {
   "cell_type": "code",
   "execution_count": 20,
   "id": "cdc0d618",
   "metadata": {},
   "outputs": [],
   "source": [
    "# lda_tfidf_model.freeze_model(\"lda_tfidf\")"
   ]
  },
  {
   "cell_type": "code",
   "execution_count": 21,
   "id": "f0a8c49a",
   "metadata": {},
   "outputs": [
    {
     "name": "stdout",
     "output_type": "stream",
     "text": [
      "[(0, 0.14285715), (1, 0.14285715), (2, 0.14285715), (3, 0.14285715), (4, 0.14285715), (5, 0.14285715), (6, 0.14285715)]\n"
     ]
    }
   ],
   "source": [
    "tokenized_text = [['paris', 'holiday', 'condo']]\n",
    "tokenized_text = [['apoel', 'thrillos', 'afko']]\n",
    "\n",
    "\n",
    "vector = [lda_tfidf_model.id2word.doc2bow(text) for text in tokenized_text]\n",
    "topics = sorted(lda_tfidf_model.model[vector][0], key=lambda x: x[1], reverse=True)\n",
    "print(topics)"
   ]
  },
  {
   "cell_type": "markdown",
   "id": "348aa91f",
   "metadata": {},
   "source": [
    "## 4.2 Analysis and insights from topics<a class=\"anchor\" id=\"4.2\"></a>\n",
    "\n",
    "\n",
    "\n",
    "### Business insights that can be drawn from this dataset\n",
    "From the IDF model, we can see 2 unique clusters and another cluster that consists of many sub-clusters. \n",
    "\n",
    "### 3 big clusters\n",
    "\n",
    "### 1. San Diego, beach resorts\n",
    "* Users talk about the USA and San Diego more specifically. \n",
    "* Users also seem to be interested in renting condos near the beach \n",
    "* They also show interest in marine life, so maybe recommending some bundle offers on condos and marine life adventure activities might be beneficial\n",
    "\n",
    "### 2. International destinations\n",
    "* Users are interested in holidays and family travel on different destinations such as Japan and Italy (Vatican and Rome), Pioneertown even in some deserty destination\n",
    "* Also it appears to be a trend with photography of some sort, are interested in:\n",
    "    * The Nikon Camera\n",
    "    * City  reflexion\n",
    "    * Dragon Flies\n",
    "* Also they seem to be interested in different types of accommodation and renting such as:\n",
    "    * Renting in Hightown\n",
    "    * Owl house\n",
    "    * Pool houses\n",
    "    * Guest rooms\n",
    "    * Bed and breakfast\n",
    "\n",
    "\n",
    "### 3. Multiple overlapping Clusters \n",
    "All of those clusters seem to have 2 things in common:\n",
    "1. International traveling\n",
    "2. Photography\n",
    "\n",
    "If we examine each cluster one by one we can identify the following:\n",
    "* Israel/Jerusalem for camping using RVs\n",
    "* Holiday Destinations, maybe on Christmas in Italy and Argentina\n",
    "* Another distinct cluster for Palm Strings. This topic seems to be for more outgoing people who enjoy partying, modern houses, and luxury\n",
    "* Another cluster may be for couples or more romantic/cultural people. Popular destinations for this cluster are Pocasset and maybe California as well. They seem to be into wine and photography. Also, they are interested in\n",
    "    * lighthouse rents\n",
    "    * love wings\n",
    "    * Chalet\n",
    "    \n",
    "\n"
   ]
  },
  {
   "cell_type": "code",
   "execution_count": null,
   "id": "2470fdfd",
   "metadata": {},
   "outputs": [],
   "source": []
  }
 ],
 "metadata": {
  "kernelspec": {
   "display_name": "Python 3 (ipykernel)",
   "language": "python",
   "name": "python3"
  },
  "language_info": {
   "codemirror_mode": {
    "name": "ipython",
    "version": 3
   },
   "file_extension": ".py",
   "mimetype": "text/x-python",
   "name": "python",
   "nbconvert_exporter": "python",
   "pygments_lexer": "ipython3",
   "version": "3.8.12"
  }
 },
 "nbformat": 4,
 "nbformat_minor": 5
}
