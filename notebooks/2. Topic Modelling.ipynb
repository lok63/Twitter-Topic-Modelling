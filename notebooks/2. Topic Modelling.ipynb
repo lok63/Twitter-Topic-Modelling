{
 "cells": [
  {
   "cell_type": "code",
   "execution_count": 1,
   "id": "0f7f00bb",
   "metadata": {},
   "outputs": [],
   "source": [
    "import os\n",
    "import sys\n",
    "# Allow this notebook to import local libraries \n",
    "module_path = os.path.abspath(os.path.join('..'))\n",
    "if module_path not in sys.path:\n",
    "    sys.path.append(module_path)"
   ]
  },
  {
   "cell_type": "code",
   "execution_count": 2,
   "id": "3be5b432",
   "metadata": {},
   "outputs": [],
   "source": [
    "from topic_modelling.preprocessor_all import load_data\n",
    "from topic_modelling.pipelines import basic_pipeline, spacy_pipeline\n",
    "from topic_modelling.preprocessor_all import load_data\n",
    "from topic_modelling.models import BasicModel, HierarchicalModel, EnsembleModel, NMFModel\n",
    "\n",
    "import pyLDAvis.gensim_models as gensimvis\n",
    "import pyLDAvis\n",
    "\n",
    "import warnings\n",
    "warnings.filterwarnings('ignore')"
   ]
  },
  {
   "cell_type": "markdown",
   "id": "e2b58d07",
   "metadata": {},
   "source": [
    "# Table of contents\n",
    "* [1. Load and preprocess data](#1)\n",
    "* [2. Modeling](#2)\n",
    "    * [2.1 LDA Basic Mode](#2.1)\n",
    "        * [2.1.1 Hyper-parameter Tuning](#2.1.1)\n",
    "        * [2.1.2 Find best number of topics](#2.1.2)\n",
    "        * [2.1.3 Grid Search](#2.1.3)\n",
    "    * [2.2 NMF](#2.2)\n",
    "    * [2.3 Ensemble](#2.3)\n",
    "* [3. Topic Analysis](#3)\n",
    "    * [3.1 LDA BoW Model](#3.1)\n",
    "    * [3.2 LDA Tfidf Model](#3.2)\n",
    "* [4. Model Selection and Analysis](#4)\n",
    "    * [4.1 Model Selection](#4.1)\n",
    "    * [4.2 Analysis and insights from topics](#4.2)\n"
   ]
  },
  {
   "cell_type": "markdown",
   "id": "f784d72e",
   "metadata": {},
   "source": [
    "## 1. Load and preprocess data <a class=\"anchor\" id=\"1\"></a>"
   ]
  },
  {
   "cell_type": "code",
   "execution_count": 3,
   "id": "b5f27799",
   "metadata": {},
   "outputs": [
    {
     "name": "stdout",
     "output_type": "stream",
     "text": [
      "Func:load_data took: 0.49 seconds\n",
      "Func:reset_index took: 0.01 seconds\n"
     ]
    },
    {
     "data": {
      "application/vnd.jupyter.widget-view+json": {
       "model_id": "f28d2331592b4fa89fd8726f01f7514c",
       "version_major": 2,
       "version_minor": 0
      },
      "text/plain": [
       "Pandas Apply:   0%|          | 0/42368 [00:00<?, ?it/s]"
      ]
     },
     "metadata": {},
     "output_type": "display_data"
    },
    {
     "name": "stdout",
     "output_type": "stream",
     "text": [
      "Func:demoji_preprocessor took: 20.05 seconds\n"
     ]
    },
    {
     "data": {
      "application/vnd.jupyter.widget-view+json": {
       "model_id": "ba0ca716dde34068a77345a113c3b015",
       "version_major": 2,
       "version_minor": 0
      },
      "text/plain": [
       "Pandas Apply:   0%|          | 0/42368 [00:00<?, ?it/s]"
      ]
     },
     "metadata": {},
     "output_type": "display_data"
    },
    {
     "name": "stdout",
     "output_type": "stream",
     "text": [
      "Func:tweet_preprocessor took: 1.21 seconds\n",
      ":: Spacy preprocessor -> cleaning, this might take 1-2 minutes....\n"
     ]
    },
    {
     "data": {
      "application/vnd.jupyter.widget-view+json": {
       "model_id": "e607d70e65314e29bbaed1ad821e5d1a",
       "version_major": 2,
       "version_minor": 0
      },
      "text/plain": [
       "Pandas Apply:   0%|          | 0/42368 [00:00<?, ?it/s]"
      ]
     },
     "metadata": {},
     "output_type": "display_data"
    },
    {
     "name": "stdout",
     "output_type": "stream",
     "text": [
      "Func:spacy_preprocessor took: 56.21 seconds\n"
     ]
    },
    {
     "data": {
      "application/vnd.jupyter.widget-view+json": {
       "model_id": "3797f6526c1a4e38b0319b4df8e5f5f5",
       "version_major": 2,
       "version_minor": 0
      },
      "text/plain": [
       "Pandas Apply:   0%|          | 0/42368 [00:00<?, ?it/s]"
      ]
     },
     "metadata": {},
     "output_type": "display_data"
    },
    {
     "name": "stdout",
     "output_type": "stream",
     "text": [
      "Func:predefined_denoiser took: 0.09 seconds\n",
      "Func:drop_empty took: 0.02 seconds\n",
      "Func:reset_index took: 0.00 seconds\n"
     ]
    },
    {
     "data": {
      "application/vnd.jupyter.widget-view+json": {
       "model_id": "2da0690148ae427f857bf558ff48215b",
       "version_major": 2,
       "version_minor": 0
      },
      "text/plain": [
       "Pandas Apply:   0%|          | 0/42360 [00:00<?, ?it/s]"
      ]
     },
     "metadata": {},
     "output_type": "display_data"
    },
    {
     "name": "stdout",
     "output_type": "stream",
     "text": [
      "Func:tokenizer_transformer took: 0.30 seconds\n"
     ]
    },
    {
     "data": {
      "application/vnd.jupyter.widget-view+json": {
       "model_id": "bbc55338b9b84040b768837ee6a13657",
       "version_major": 2,
       "version_minor": 0
      },
      "text/plain": [
       "Pandas Apply:   0%|          | 0/42360 [00:00<?, ?it/s]"
      ]
     },
     "metadata": {},
     "output_type": "display_data"
    },
    {
     "name": "stdout",
     "output_type": "stream",
     "text": [
      "Func:ngrammer_2_3_pre_trained took: 0.29 seconds\n"
     ]
    }
   ],
   "source": [
    "df = load_data()\n",
    "df = spacy_pipeline.apply(df, column='cleanBody')"
   ]
  },
  {
   "cell_type": "markdown",
   "id": "cfdbc4f0",
   "metadata": {},
   "source": [
    "# 2. Modeling<a class=\"anchor\" id=\"2\"></a>"
   ]
  },
  {
   "cell_type": "markdown",
   "id": "aae2cdad",
   "metadata": {},
   "source": [
    "## 2.1 LDA Basic Model<a class=\"anchor\" id=\"2.1\"></a>"
   ]
  },
  {
   "cell_type": "code",
   "execution_count": 4,
   "id": "7f09453d",
   "metadata": {},
   "outputs": [
    {
     "name": "stdout",
     "output_type": "stream",
     "text": [
      ":: Size of id2word: 25387\n",
      "Func:createid2word_dictionary took: 0.22 seconds\n",
      "Func:filter_extremes took: 0.02 seconds\n",
      "Func:create_bow_coprpus took: 0.10 seconds\n",
      "Func:create_tfidf_corpus took: 0.03 seconds\n",
      "----> Training BasicModel <----\n",
      "Func:train took: 3.77 seconds\n",
      "\n",
      "Coherence Score:  0.5498318787250469\n",
      "Func:get_coherance took: 2.68 seconds\n",
      "0.5498318787250469\n"
     ]
    }
   ],
   "source": [
    "basic_model = BasicModel()\n",
    "basic_model.fit(df,'cleanBody')\n",
    "basic_model.train(num_topics=6, \n",
    "                  passes=1,\n",
    "                  chunksize=100,\n",
    "                  eval_every=10,\n",
    "                  alpha = 0.9,\n",
    "                  decay=0.3,\n",
    "                  tfidf = False\n",
    "                 )\n",
    "\n",
    "print(basic_model.get_coherance())"
   ]
  },
  {
   "cell_type": "markdown",
   "id": "f48909f7",
   "metadata": {},
   "source": [
    "## 2.1 LDA Tfidf Model<a class=\"anchor\" id=\"2.1\"></a>"
   ]
  },
  {
   "cell_type": "code",
   "execution_count": 5,
   "id": "e84789cf",
   "metadata": {},
   "outputs": [
    {
     "name": "stdout",
     "output_type": "stream",
     "text": [
      ":: Size of id2word: 25387\n",
      "Func:createid2word_dictionary took: 0.22 seconds\n",
      "Func:filter_extremes took: 0.02 seconds\n",
      "Func:create_bow_coprpus took: 0.22 seconds\n",
      "Func:create_tfidf_corpus took: 0.03 seconds\n",
      "----> Training BasicModel <----\n",
      "Func:train took: 4.47 seconds\n",
      "\n",
      "Coherence Score:  0.5203273713351738\n",
      "Func:get_coherance took: 2.80 seconds\n",
      "0.5203273713351738\n"
     ]
    }
   ],
   "source": [
    "lda_tfidf_model = BasicModel()\n",
    "lda_tfidf_model.fit(df,'cleanBody')\n",
    "lda_tfidf_model.train(num_topics=7, \n",
    "                  passes=1,\n",
    "                  chunksize=100,\n",
    "                  eval_every=10,\n",
    "                  alpha = 'symmetric',\n",
    "                  decay=0.6,\n",
    "                  tfidf = True\n",
    "                 )\n",
    "\n",
    "print(lda_tfidf_model.get_coherance())"
   ]
  },
  {
   "cell_type": "markdown",
   "id": "e42039bf",
   "metadata": {},
   "source": [
    "### 2.1.1 Hyper-parameter Tuning<a class=\"anchor\" id=\"2.1.1\"></a>"
   ]
  },
  {
   "cell_type": "markdown",
   "id": "c83a4371",
   "metadata": {},
   "source": [
    "### 2.1.2 Find best number of topics<a class=\"anchor\" id=\"2.1.2\"></a>"
   ]
  },
  {
   "cell_type": "code",
   "execution_count": 6,
   "id": "08c8c321",
   "metadata": {},
   "outputs": [
    {
     "data": {
      "image/png": "[encoded data removed]",
      "text/plain": [
       "<Figure size 432x288 with 1 Axes>"
      ]
     },
     "metadata": {
      "needs_background": "light"
     },
     "output_type": "display_data"
    }
   ],
   "source": [
    "model_list, coherence_values = basic_model.compute_coherence_values(start=6, limit=18, step=1, plot=True)"
   ]
  },
  {
   "cell_type": "code",
   "execution_count": 7,
   "id": "f876b2bc",
   "metadata": {},
   "outputs": [
    {
     "name": "stdout",
     "output_type": "stream",
     "text": [
      "Topics:6,Coherence score:0.5110152155475262\n",
      "Topics:7,Coherence score:0.51795216987792\n",
      "Topics:8,Coherence score:0.5116074421550758\n",
      "Topics:9,Coherence score:0.49889831399135254\n",
      "Topics:10,Coherence score:0.49231141130199096\n",
      "Topics:11,Coherence score:0.4988031722098475\n",
      "Topics:12,Coherence score:0.49412231094784564\n",
      "Topics:13,Coherence score:0.5006717948471546\n",
      "Topics:14,Coherence score:0.5016049770421113\n",
      "Topics:15,Coherence score:0.4946250300588099\n",
      "Topics:16,Coherence score:0.4916595041473172\n",
      "Topics:17,Coherence score:0.49009198142034077\n"
     ]
    }
   ],
   "source": [
    "for m,c in (zip(model_list, coherence_values)):\n",
    "    print(f\"Topics:{m.num_topics},Coherence score:{c}\")"
   ]
  },
  {
   "cell_type": "markdown",
   "id": "b36227ac",
   "metadata": {},
   "source": [
    "### 2.1.3 Grid Search<a class=\"anchor\" id=\"2.1.3\"></a>"
   ]
  },
  {
   "cell_type": "code",
   "execution_count": 8,
   "id": "8094514d",
   "metadata": {},
   "outputs": [],
   "source": [
    "import numpy as np\n",
    "import tqdm\n",
    "import gensim\n",
    "import pandas as pd\n",
    "\n",
    "\n",
    "def grid_search(df:pd.DataFrame,  k_start=5, k_end=12, k_step=1,\n",
    "                alpha_start=0.2, alpha_end=1, alpha_step=0.2,\n",
    "                decay_start=0.1, decay_end=0.5, decay_step=0.1\n",
    "               )-> pd.DataFrame:\n",
    "\n",
    "    \"\"\"\n",
    "    Create several models using different ranges for Alpha, Betta and Number of topics\n",
    "    Part of the code was retrieved from : https://towardsdatascience.com/evaluate-topic-model-in-python-latent-dirichlet-allocation-lda-7d57484bb5d0\n",
    "    \"\"\"\n",
    "\n",
    "    grid = {}\n",
    "\n",
    "    # Topics\n",
    "    topics_range = range(k_start, k_end, k_step)\n",
    "    # ALPHA\n",
    "    alpha_range = list(np.arange(alpha_start, alpha_end, alpha_step)) \n",
    "    alpha_range.append('symmetric')\n",
    "    alpha_range.append('asymmetric')\n",
    "    # Decay\n",
    "    decay_range = list(np.arange(decay_start, decay_end, decay_step))\n",
    "    \n",
    "    chunksize_range = [100,300,500]\n",
    "    passes_range = [1]\n",
    "    model_results = {\n",
    "                     'Topics': [],\n",
    "                     'Alpha': [],\n",
    "                     'Decay': [],\n",
    "                     'Chunksize': [],\n",
    "                     'Passes': [],\n",
    "                     'Coherence': []\n",
    "                    }\n",
    "\n",
    "    total_combinations = len(topics_range)*len(alpha_range)*len(decay_range)*len(chunksize_range)*len(passes_range)\n",
    "    print(f\"Total Models to grid search: {total_combinations}\")\n",
    "\n",
    "    with tqdm.tqdm(total=total_combinations)as pbar:\n",
    "\n",
    "        # iterate through number of topics\n",
    "        for k in topics_range:\n",
    "            # iterate through alpha values\n",
    "            for a in alpha_range:\n",
    "                # iterare through decay values\n",
    "                for d in decay_range:\n",
    "                    # iterare through chunk sizes\n",
    "                    for c in chunksize_range:\n",
    "                        # iterare through chunk sizes\n",
    "                        for p in passes_range:\n",
    "                            # get the coherence score for the given parameters\n",
    "                            cv = basic_model.compute_coherence_for_topics_a_d(k=k, a=a, d=d, c=c, p=p, tfidf=True)\n",
    "                            # Save the model results\n",
    "                            model_results['Topics'].append(k)\n",
    "                            model_results['Alpha'].append(a)\n",
    "                            model_results['Decay'].append(d)\n",
    "                            model_results['Chunksize'].append(c)\n",
    "                            model_results['Passes'].append(p)\n",
    "                            model_results['Coherence'].append(cv)\n",
    "                            pbar.update(1)\n",
    "\n",
    "        grid_search_results = pd.DataFrame(model_results).to_csv('gridSearch_results2.csv', index=False)\n",
    "        pbar.close()\n",
    "    \n",
    "    return grid_search_results\n",
    "\n",
    "\n"
   ]
  },
  {
   "cell_type": "markdown",
   "id": "bf6e56c8",
   "metadata": {},
   "source": [
    "### Run grid search "
   ]
  },
  {
   "cell_type": "code",
   "execution_count": 9,
   "id": "4d1ebccf",
   "metadata": {},
   "outputs": [],
   "source": [
    "# grid_search_results = grid_search(\n",
    "#     df.cleanBody.to_list(),\n",
    "#     k_start=4, k_end=8, k_step=1,\n",
    "#     alpha_start=0.5, alpha_end=1, alpha_step=0.1,\n",
    "#     decay_start=0.1, decay_end=0.3, decay_step=0.1,\n",
    "# )"
   ]
  },
  {
   "cell_type": "markdown",
   "id": "882c0387",
   "metadata": {},
   "source": [
    "### Load Previous Grid Search results"
   ]
  },
  {
   "cell_type": "markdown",
   "id": "43ebb8cd",
   "metadata": {},
   "source": [
    "### Bow LDA gridsearch"
   ]
  },
  {
   "cell_type": "code",
   "execution_count": 10,
   "id": "ed54c5fb",
   "metadata": {},
   "outputs": [
    {
     "data": {
      "text/html": [
       "<div>\n",
       "<style scoped>\n",
       "    .dataframe tbody tr th:only-of-type {\n",
       "        vertical-align: middle;\n",
       "    }\n",
       "\n",
       "    .dataframe tbody tr th {\n",
       "        vertical-align: top;\n",
       "    }\n",
       "\n",
       "    .dataframe thead th {\n",
       "        text-align: right;\n",
       "    }\n",
       "</style>\n",
       "<table border=\"1\" class=\"dataframe\">\n",
       "  <thead>\n",
       "    <tr style=\"text-align: right;\">\n",
       "      <th></th>\n",
       "      <th>Topics</th>\n",
       "      <th>Alpha</th>\n",
       "      <th>Decay</th>\n",
       "      <th>Chunksize</th>\n",
       "      <th>Passes</th>\n",
       "      <th>Coherence</th>\n",
       "    </tr>\n",
       "  </thead>\n",
       "  <tbody>\n",
       "    <tr>\n",
       "      <th>900</th>\n",
       "      <td>9</td>\n",
       "      <td>0.61</td>\n",
       "      <td>0.3</td>\n",
       "      <td>1500</td>\n",
       "      <td>1</td>\n",
       "      <td>0.597776</td>\n",
       "    </tr>\n",
       "    <tr>\n",
       "      <th>675</th>\n",
       "      <td>8</td>\n",
       "      <td>0.9099999999999999</td>\n",
       "      <td>0.3</td>\n",
       "      <td>1500</td>\n",
       "      <td>1</td>\n",
       "      <td>0.597586</td>\n",
       "    </tr>\n",
       "    <tr>\n",
       "      <th>1440</th>\n",
       "      <td>11</td>\n",
       "      <td>0.61</td>\n",
       "      <td>0.3</td>\n",
       "      <td>1500</td>\n",
       "      <td>1</td>\n",
       "      <td>0.597038</td>\n",
       "    </tr>\n",
       "    <tr>\n",
       "      <th>1170</th>\n",
       "      <td>10</td>\n",
       "      <td>0.61</td>\n",
       "      <td>0.3</td>\n",
       "      <td>1500</td>\n",
       "      <td>1</td>\n",
       "      <td>0.595427</td>\n",
       "    </tr>\n",
       "    <tr>\n",
       "      <th>945</th>\n",
       "      <td>9</td>\n",
       "      <td>0.9099999999999999</td>\n",
       "      <td>0.3</td>\n",
       "      <td>1500</td>\n",
       "      <td>1</td>\n",
       "      <td>0.594083</td>\n",
       "    </tr>\n",
       "  </tbody>\n",
       "</table>\n",
       "</div>"
      ],
      "text/plain": [
       "      Topics               Alpha  Decay  Chunksize  Passes  Coherence\n",
       "900        9                0.61    0.3       1500       1   0.597776\n",
       "675        8  0.9099999999999999    0.3       1500       1   0.597586\n",
       "1440      11                0.61    0.3       1500       1   0.597038\n",
       "1170      10                0.61    0.3       1500       1   0.595427\n",
       "945        9  0.9099999999999999    0.3       1500       1   0.594083"
      ]
     },
     "execution_count": 10,
     "metadata": {},
     "output_type": "execute_result"
    }
   ],
   "source": [
    "grid_search_results = pd.read_csv('gridSearch_results.csv')\n",
    "grid_search_results.sort_values(by='Coherence', ascending= False).head(5)"
   ]
  },
  {
   "cell_type": "markdown",
   "id": "b4ef0afc",
   "metadata": {},
   "source": [
    "### TFIDF LDA gridsearch"
   ]
  },
  {
   "cell_type": "code",
   "execution_count": 11,
   "id": "78894290",
   "metadata": {},
   "outputs": [
    {
     "data": {
      "text/html": [
       "<div>\n",
       "<style scoped>\n",
       "    .dataframe tbody tr th:only-of-type {\n",
       "        vertical-align: middle;\n",
       "    }\n",
       "\n",
       "    .dataframe tbody tr th {\n",
       "        vertical-align: top;\n",
       "    }\n",
       "\n",
       "    .dataframe thead th {\n",
       "        text-align: right;\n",
       "    }\n",
       "</style>\n",
       "<table border=\"1\" class=\"dataframe\">\n",
       "  <thead>\n",
       "    <tr style=\"text-align: right;\">\n",
       "      <th></th>\n",
       "      <th>Topics</th>\n",
       "      <th>Alpha</th>\n",
       "      <th>Decay</th>\n",
       "      <th>Chunksize</th>\n",
       "      <th>Passes</th>\n",
       "      <th>Coherence</th>\n",
       "    </tr>\n",
       "  </thead>\n",
       "  <tbody>\n",
       "    <tr>\n",
       "      <th>24</th>\n",
       "      <td>4</td>\n",
       "      <td>0.8999999999999999</td>\n",
       "      <td>0.1</td>\n",
       "      <td>100</td>\n",
       "      <td>1</td>\n",
       "      <td>0.586891</td>\n",
       "    </tr>\n",
       "    <tr>\n",
       "      <th>98</th>\n",
       "      <td>6</td>\n",
       "      <td>0.7</td>\n",
       "      <td>0.1</td>\n",
       "      <td>500</td>\n",
       "      <td>1</td>\n",
       "      <td>0.585723</td>\n",
       "    </tr>\n",
       "    <tr>\n",
       "      <th>14</th>\n",
       "      <td>4</td>\n",
       "      <td>0.7</td>\n",
       "      <td>0.1</td>\n",
       "      <td>500</td>\n",
       "      <td>1</td>\n",
       "      <td>0.582723</td>\n",
       "    </tr>\n",
       "    <tr>\n",
       "      <th>104</th>\n",
       "      <td>6</td>\n",
       "      <td>0.7999999999999999</td>\n",
       "      <td>0.1</td>\n",
       "      <td>500</td>\n",
       "      <td>1</td>\n",
       "      <td>0.582262</td>\n",
       "    </tr>\n",
       "    <tr>\n",
       "      <th>102</th>\n",
       "      <td>6</td>\n",
       "      <td>0.7999999999999999</td>\n",
       "      <td>0.1</td>\n",
       "      <td>100</td>\n",
       "      <td>1</td>\n",
       "      <td>0.581297</td>\n",
       "    </tr>\n",
       "    <tr>\n",
       "      <th>62</th>\n",
       "      <td>5</td>\n",
       "      <td>0.7999999999999999</td>\n",
       "      <td>0.1</td>\n",
       "      <td>500</td>\n",
       "      <td>1</td>\n",
       "      <td>0.573272</td>\n",
       "    </tr>\n",
       "    <tr>\n",
       "      <th>50</th>\n",
       "      <td>5</td>\n",
       "      <td>0.6</td>\n",
       "      <td>0.1</td>\n",
       "      <td>500</td>\n",
       "      <td>1</td>\n",
       "      <td>0.569391</td>\n",
       "    </tr>\n",
       "    <tr>\n",
       "      <th>68</th>\n",
       "      <td>5</td>\n",
       "      <td>0.8999999999999999</td>\n",
       "      <td>0.1</td>\n",
       "      <td>500</td>\n",
       "      <td>1</td>\n",
       "      <td>0.568744</td>\n",
       "    </tr>\n",
       "    <tr>\n",
       "      <th>108</th>\n",
       "      <td>6</td>\n",
       "      <td>0.8999999999999999</td>\n",
       "      <td>0.1</td>\n",
       "      <td>100</td>\n",
       "      <td>1</td>\n",
       "      <td>0.567316</td>\n",
       "    </tr>\n",
       "    <tr>\n",
       "      <th>110</th>\n",
       "      <td>6</td>\n",
       "      <td>0.8999999999999999</td>\n",
       "      <td>0.1</td>\n",
       "      <td>500</td>\n",
       "      <td>1</td>\n",
       "      <td>0.564067</td>\n",
       "    </tr>\n",
       "  </tbody>\n",
       "</table>\n",
       "</div>"
      ],
      "text/plain": [
       "     Topics               Alpha  Decay  Chunksize  Passes  Coherence\n",
       "24        4  0.8999999999999999    0.1        100       1   0.586891\n",
       "98        6                 0.7    0.1        500       1   0.585723\n",
       "14        4                 0.7    0.1        500       1   0.582723\n",
       "104       6  0.7999999999999999    0.1        500       1   0.582262\n",
       "102       6  0.7999999999999999    0.1        100       1   0.581297\n",
       "62        5  0.7999999999999999    0.1        500       1   0.573272\n",
       "50        5                 0.6    0.1        500       1   0.569391\n",
       "68        5  0.8999999999999999    0.1        500       1   0.568744\n",
       "108       6  0.8999999999999999    0.1        100       1   0.567316\n",
       "110       6  0.8999999999999999    0.1        500       1   0.564067"
      ]
     },
     "execution_count": 11,
     "metadata": {},
     "output_type": "execute_result"
    }
   ],
   "source": [
    "grid_search_results = pd.read_csv('gridSearch_results2.csv')\n",
    "grid_search_results.sort_values(by='Coherence', ascending= False).head(10)"
   ]
  },
  {
   "cell_type": "markdown",
   "id": "ec559d1f",
   "metadata": {},
   "source": [
    "### 2.1.4 Hierarchical Dirichlet Process<a class=\"anchor\" id=\"2.1.4\"></a>"
   ]
  },
  {
   "cell_type": "code",
   "execution_count": 12,
   "id": "a468f85e",
   "metadata": {},
   "outputs": [
    {
     "name": "stdout",
     "output_type": "stream",
     "text": [
      ":: Size of id2word: 25387\n",
      "Func:createid2word_dictionary took: 0.26 seconds\n",
      "Func:create_bow_coprpus took: 0.11 seconds\n",
      "----> Training HierarchicalModel <----\n",
      "Func:train took: 21.61 seconds\n",
      "\n",
      "Coherence Score:  0.43463640001687165\n",
      "Func:get_coherance took: 3.79 seconds\n",
      "0.43463640001687165\n"
     ]
    }
   ],
   "source": [
    "hdpModel = HierarchicalModel()\n",
    "hdpModel.fit(df,'cleanBody')\n",
    "hdpModel.train()\n",
    "\n",
    "print(hdpModel.get_coherance())"
   ]
  },
  {
   "cell_type": "code",
   "execution_count": 13,
   "id": "7b618a9f",
   "metadata": {},
   "outputs": [
    {
     "name": "stdout",
     "output_type": "stream",
     "text": [
      "[(0, '0.080*travel + 0.070*san_diego + 0.069*usa + 0.052*condo + 0.052*vacation_rental + 0.052*mission_beach + 0.018*beach + 0.017*found_mission + 0.017*nice_vacation + 0.017*rental_condo + 0.001*holiday + 0.001*blog + 0.001*rent + 0.001*related_project + 0.001*feature + 0.001*palm_springs + 0.001*love + 0.001*condo_steps + 0.001*diego + 0.001*beach_condominiums'), (1, '0.035*travel + 0.018*love_dragonfly + 0.018*pool_houses + 0.018*rent_pioneertown + 0.018*desert_retreat + 0.003*san_diego + 0.002*usa + 0.002*holiday + 0.002*beach + 0.001*reet_ennet + 0.001*rental_condo + 0.001*jerusalem + 0.001*photography_helena + 0.001*found_mission + 0.001*nice_vacation + 0.001*travelpics_travelblogger + 0.001*touri + 0.001*beautiful_israel + 0.001*rent + 0.001*palm_springs'), (2, '0.036*travel + 0.013*bed_breakfasts + 0.013*owl_house + 0.013*rent_hightown + 0.013*guest_room + 0.003*san_diego + 0.003*usa + 0.002*beach + 0.002*holiday + 0.002*jerusalem + 0.002*travelpics_travelblogger + 0.002*photography_helena + 0.002*reet_ennet + 0.002*touri + 0.002*rental_condo + 0.001*found_mission + 0.001*beautiful_israel + 0.001*nice_vacation + 0.001*condo + 0.001*mission_beach'), (3, '0.032*travel + 0.015*nikon_nikon + 0.015*city_reflexion + 0.015*nikoncanada_vatican + 0.015*vatican_rome + 0.015*mm_store + 0.003*san_diego + 0.002*usa + 0.002*holiday + 0.002*beach + 0.001*nice_vacation + 0.001*found_mission + 0.001*rental_condo + 0.001*rent + 0.001*palm_springs + 0.001*vacation_rental + 0.001*love + 0.001*mission_beach + 0.001*condo + 0.001*jerusalem'), (4, '0.031*travel + 0.011*rent_seattle + 0.011*wagon_heart + 0.010*campers_rvs + 0.010*love_hand + 0.010*crafted_gypsy + 0.003*san_diego + 0.002*usa + 0.002*holiday + 0.002*beach + 0.001*rental_condo + 0.001*jerusalem + 0.001*photography_helena + 0.001*found_mission + 0.001*nice_vacation + 0.001*travelpics_travelblogger + 0.001*reet_ennet + 0.001*touri + 0.001*beautiful_israel + 0.001*vacation_rental'), (5, '0.033*travel + 0.007*jerusalem + 0.007*photography_helena + 0.007*travelpics_travelblogger + 0.007*reet_ennet + 0.006*touri + 0.004*beautiful_israel + 0.003*san_diego + 0.003*wonderful_israel + 0.003*usa + 0.002*beach + 0.002*holiday + 0.001*rental_condo + 0.001*found_mission + 0.001*nice_vacation + 0.001*rent + 0.001*mission_beach + 0.001*condo + 0.001*vacation_rental + 0.001*palm_springs'), (6, '0.025*travel + 0.011*palm_springs + 0.009*rent + 0.006*love + 0.006*modern_houses + 0.006*mid_century + 0.005*beach + 0.004*san_diego + 0.003*beach_condominiums + 0.003*condo_steps + 0.003*diego + 0.003*cozy_san + 0.002*holiday + 0.002*usa + 0.002*rental_condo + 0.002*nice_vacation + 0.002*found_mission + 0.001*nikon_nikon + 0.001*nikoncanada_vatican + 0.001*vatican_rome'), (7, '0.030*travel + 0.005*reet_ennet + 0.005*photography_helena + 0.005*jerusalem + 0.005*travelpics_travelblogger + 0.004*touri + 0.004*beautiful_israel + 0.003*san_diego + 0.003*usa + 0.002*beach + 0.002*holiday + 0.002*rental_condo + 0.002*found_mission + 0.002*nice_vacation + 0.001*rent + 0.001*condo + 0.001*vacation_rental + 0.001*mission_beach + 0.001*palm_springs + 0.001*city_reflexion')]\n"
     ]
    }
   ],
   "source": [
    "print(hdpModel.model.show_topics(num_topics=8, formatted=True))"
   ]
  },
  {
   "cell_type": "code",
   "execution_count": 14,
   "id": "4919fa28",
   "metadata": {},
   "outputs": [
    {
     "data": {
      "text/html": [
       "<div>\n",
       "<style scoped>\n",
       "    .dataframe tbody tr th:only-of-type {\n",
       "        vertical-align: middle;\n",
       "    }\n",
       "\n",
       "    .dataframe tbody tr th {\n",
       "        vertical-align: top;\n",
       "    }\n",
       "\n",
       "    .dataframe thead th {\n",
       "        text-align: right;\n",
       "    }\n",
       "</style>\n",
       "<table border=\"1\" class=\"dataframe\">\n",
       "  <thead>\n",
       "    <tr style=\"text-align: right;\">\n",
       "      <th></th>\n",
       "      <th>topic_id</th>\n",
       "      <th>weight</th>\n",
       "    </tr>\n",
       "  </thead>\n",
       "  <tbody>\n",
       "    <tr>\n",
       "      <th>0</th>\n",
       "      <td>0</td>\n",
       "      <td>0.443478</td>\n",
       "    </tr>\n",
       "    <tr>\n",
       "      <th>1</th>\n",
       "      <td>1</td>\n",
       "      <td>0.117316</td>\n",
       "    </tr>\n",
       "    <tr>\n",
       "      <th>2</th>\n",
       "      <td>2</td>\n",
       "      <td>0.100086</td>\n",
       "    </tr>\n",
       "    <tr>\n",
       "      <th>3</th>\n",
       "      <td>3</td>\n",
       "      <td>0.117684</td>\n",
       "    </tr>\n",
       "    <tr>\n",
       "      <th>4</th>\n",
       "      <td>4</td>\n",
       "      <td>0.094194</td>\n",
       "    </tr>\n",
       "    <tr>\n",
       "      <th>5</th>\n",
       "      <td>5</td>\n",
       "      <td>0.079890</td>\n",
       "    </tr>\n",
       "    <tr>\n",
       "      <th>6</th>\n",
       "      <td>6</td>\n",
       "      <td>0.078604</td>\n",
       "    </tr>\n",
       "    <tr>\n",
       "      <th>7</th>\n",
       "      <td>7</td>\n",
       "      <td>0.065139</td>\n",
       "    </tr>\n",
       "  </tbody>\n",
       "</table>\n",
       "</div>"
      ],
      "text/plain": [
       "   topic_id    weight\n",
       "0         0  0.443478\n",
       "1         1  0.117316\n",
       "2         2  0.100086\n",
       "3         3  0.117684\n",
       "4         4  0.094194\n",
       "5         5  0.079890\n",
       "6         6  0.078604\n",
       "7         7  0.065139"
      ]
     },
     "execution_count": 14,
     "metadata": {},
     "output_type": "execute_result"
    }
   ],
   "source": [
    "import pandas as pd\n",
    "\n",
    "def topic_prob_extractor(gensim_hdp):\n",
    "    shown_topics = gensim_hdp.show_topics(num_topics=8, num_words=10, formatted=False)\n",
    "    topics_nos = [x[0] for x in shown_topics ]\n",
    "    weights = [ sum([item[1] for item in shown_topics[topicN][1]]) for topicN in topics_nos ]\n",
    "\n",
    "    return pd.DataFrame({'topic_id' : topics_nos, 'weight' : weights})\n",
    "\n",
    "topic_prob_extractor(hdpModel.model)"
   ]
  },
  {
   "cell_type": "code",
   "execution_count": 15,
   "id": "36652cb4",
   "metadata": {},
   "outputs": [],
   "source": [
    "import warnings\n",
    "warnings.filterwarnings('ignore')"
   ]
  },
  {
   "cell_type": "markdown",
   "id": "2245ea87",
   "metadata": {},
   "source": [
    "## 2.2 NMF<a class=\"anchor\" id=\"2.2\"></a>\n"
   ]
  },
  {
   "cell_type": "code",
   "execution_count": 16,
   "id": "b5cd50d9",
   "metadata": {},
   "outputs": [
    {
     "name": "stdout",
     "output_type": "stream",
     "text": [
      ":: Size of id2word: 25387\n",
      "Func:createid2word_dictionary took: 0.22 seconds\n",
      "Func:filter_extremes took: 0.02 seconds\n",
      "Func:create_bow_coprpus took: 0.25 seconds\n",
      "----> Training NMFModel <----\n",
      "Func:train took: 104.94 seconds\n",
      "------ Topic 0 ------\n",
      "san_diego usa condo vacation_rental mission_beach beach condo_steps beach_condominiums diego cozy_san\n",
      "\n",
      "------ Topic 1 ------\n",
      "jerusalem reet_ennet photography_helena travelpics_travelblogger touri beautiful_israel wonderful_israel tour ttot visit\n",
      "\n",
      "------ Topic 2 ------\n",
      "christmas gift holiday_season winter lp days holidays xmas santa time\n",
      "\n",
      "------ Topic 3 ------\n",
      "palm_springs love rent mid_century modern_houses diego condo_steps beach_condominiums cozy_san beach\n",
      "\n",
      "------ Topic 4 ------\n",
      "beach found_mission nice_vacation rental_condo san_diego usa condo_steps cozy_san diego beach_condominiums\n",
      "\n",
      "------ Topic 5 ------\n",
      "holiday gifts party shopping fun check vacation family gift trip\n",
      "\n",
      "------ Topic 6 ------\n",
      "diego condo_steps beach_condominiums cozy_san rent beach san_diego world hotel ttot\n",
      "\n",
      "------ Topic 7 ------\n",
      "bed_breakfasts rent_hightown owl_house guest_room christmas winter gifts gift russia saint_petersburg\n",
      "\n",
      "------ Topic 8 ------\n",
      "latest daily_thanks thanks lp ttot daily photography ad news daily_news\n",
      "\n",
      "------ Topic 9 ------\n",
      "rt vacation tourism traveller amsterdam traveller_video adventure best trip hotel\n",
      "\n",
      "None\n",
      "\n",
      "Coherence Score:  0.37885096797380124\n",
      "Func:get_coherance took: 3.26 seconds\n",
      "0.37885096797380124\n"
     ]
    }
   ],
   "source": [
    "nmf_model = NMFModel()\n",
    "nmf_model.fit(df, 'cleanBody')\n",
    "nmf_model.train(num_topics=10)\n",
    "\n",
    "print(nmf_model.get_topics())\n",
    "print(nmf_model.get_coherance())"
   ]
  },
  {
   "cell_type": "markdown",
   "id": "175f14ff",
   "metadata": {},
   "source": [
    "## 2.3 Ensemble<a class=\"anchor\" id=\"2.3\"></a>\n",
    "https://radimrehurek.com/gensim/models/ensemblelda.html"
   ]
  },
  {
   "cell_type": "code",
   "execution_count": 17,
   "id": "d5c3c480",
   "metadata": {},
   "outputs": [
    {
     "name": "stdout",
     "output_type": "stream",
     "text": [
      ":: Size of id2word: 25387\n",
      "Func:createid2word_dictionary took: 0.22 seconds\n",
      "Func:filter_extremes took: 0.02 seconds\n",
      "Func:create_bow_coprpus took: 0.11 seconds\n",
      "----> Training EnsembleModel <----\n",
      "Func:train took: 87.51 seconds\n",
      "------ Topic 0 ------\n",
      "jerusalem reet_ennet photography_helena travelpics_travelblogger beautiful_israel tour wonderful_israel holiday tahoe love_chalet\n",
      "\n",
      "------ Topic 1 ------\n",
      "palm_springs love rent mid_century modern_houses holiday tulipsinholland_spring cozy_san condo_steps beach_condominiums\n",
      "\n",
      "None\n",
      "\n",
      "Coherence Score:  0.5091344684405229\n",
      "Func:get_coherance took: 2.72 seconds\n",
      "0.5091344684405229\n"
     ]
    }
   ],
   "source": [
    "ensemble_model = EnsembleModel()\n",
    "ensemble_model.fit(df, 'cleanBody')\n",
    "ensemble_model.train(num_topics=10, num_models=10)\n",
    "\n",
    "print(ensemble_model.get_topics())\n",
    "print(ensemble_model.get_coherance())"
   ]
  },
  {
   "cell_type": "markdown",
   "id": "b2a42016",
   "metadata": {},
   "source": [
    "# 3. Topic Analysis<a class=\"anchor\" id=\"3\"></a>\n"
   ]
  },
  {
   "cell_type": "markdown",
   "id": "4f18b819",
   "metadata": {},
   "source": [
    "## 3.1 LDA BoW Model<a class=\"anchor\" id=\"3.1\"></a>\n"
   ]
  },
  {
   "cell_type": "code",
   "execution_count": 18,
   "id": "79e87132",
   "metadata": {},
   "outputs": [
    {
     "data": {
      "text/html": [
       "\n",
       "<link rel=\"stylesheet\" type=\"text/css\" href=\"https://cdn.jsdelivr.net/gh/bmabey/pyLDAvis@3.3.1/pyLDAvis/js/ldavis.v1.0.0.css\">\n",
       "\n",
       "\n",
       "<div id=\"ldavis_el12712131835280647219732461\"></div>\n",
       "<script type=\"text/javascript\">\n",
       "\n",
       "var ldavis_el12712131835280647219732461_data = {\"mdsDat\": {\"x\": [0.012630212775535537, -0.011210109551196291, -0.006307510488307361, 0.002360791056599338, 0.0018118381851059736, 0.0007147780222628076], \"y\": [-0.005902871143086075, -0.004003467778263862, -0.00275174447886846, -0.0016758066953741573, 0.005495805091182745, 0.008838085004409824], \"topics\": [1, 2, 3, 4, 5, 6], \"cluster\": [1, 1, 1, 1, 1, 1], \"Freq\": [20.237148837451628, 17.485087533844993, 16.42558124041, 15.541072066976309, 15.22992139282817, 15.081188928488903]}, \"tinfo\": {\"Term\": [\"san_diego\", \"bed_breakfasts\", \"touri\", \"owl_house\", \"rent_hightown\", \"jerusalem\", \"guest_room\", \"holiday\", \"usa\", \"vacation_rental\", \"mission_beach\", \"condo\", \"love\", \"christmas\", \"rt\", \"palm_springs\", \"world\", \"photography\", \"latest\", \"tourism\", \"ttot\", \"city\", \"nature\", \"day\", \"adventure\", \"best\", \"traveller\", \"man_travels\", \"gift\", \"photo\", \"san_diego\", \"vacation_rental\", \"mission_beach\", \"condo\", \"michelin\", \"aberdeen\", \"straight\", \"resort_hollywood\", \"emails\", \"inbox\", \"photog\", \"posted_travelleisure\", \"matters\", \"single\", \"icecream\", \"tempatwisata\", \"mendoan\", \"deosai_expanse\", \"fried\", \"usa\", \"links\", \"engaged\", \"harbour\", \"devon\", \"salad\", \"festivals\", \"street_food\", \"books_deosailandofthegiant\", \"likeforlike\", \"daily_stories\", \"rent_hightown\", \"owl_house\", \"community\", \"guest_room\", \"create\", \"fort\", \"experience\", \"book\", \"paradise\", \"bed_breakfasts\", \"beach\", \"japan_japantravel\", \"tour\", \"explore\", \"hotels\", \"holiday\", \"found_mission\", \"lp\", \"rt\", \"nice_vacation\", \"familytravel\", \"news\", \"rental_condo\", \"vacation\", \"guide\", \"china\", \"touri\", \"latest\", \"jerusalem\", \"photography_helena\", \"reet_ennet\", \"travelpics_travelblogger\", \"photography\", \"love\", \"beautiful_israel\", \"japan\", \"hotel\", \"thanks\", \"ttot\", \"christmas\", \"world\", \"tv_special\", \"woods\", \"funny\", \"ad_scda\", \"himeji\", \"pc\", \"kitty\", \"janeiro\", \"hand\", \"use_channel\", \"guides_help\", \"miki\", \"statue\", \"atmosfera_invernale\", \"del_caglieron\", \"vote\", \"cascate_di\", \"forget\", \"blogging\", \"great_tire\", \"bowl\", \"kerala\", \"surprise_rt\", \"student\", \"path\", \"tech_lover\", \"treviso_visitveneto\", \"leicester\", \"home_fitness\", \"find_ad\", \"italiavostra\", \"ghiaccio_e\", \"modern_houses\", \"year\", \"palm_springs\", \"going\", \"holiday\", \"photo\", \"mid_century\", \"rent\", \"cute\", \"christmas\", \"finland\", \"need\", \"latest\", \"holidays\", \"nature\", \"winter\", \"touri\", \"traveltuesday\", \"like\", \"luxury\", \"day\", \"today\", \"love\", \"good\", \"rome\", \"happy\", \"jerusalem\", \"thanks\", \"daily_thanks\", \"de\", \"ttot\", \"rt\", \"photography_helena\", \"reet_ennet\", \"travelpics_travelblogger\", \"guest_room\", \"bed_breakfasts\", \"rent_hightown\", \"vacation\", \"owl_house\", \"tour\", \"beautiful_israel\", \"photography\", \"usa\", \"beach\", \"san_diego\", \"world\", \"naturecuts\", \"birth\", \"fujifilm\", \"simple\", \"extra\", \"big\", \"bay_mydayinla\", \"service\", \"fireball_sunset\", \"risk\", \"glitter\", \"roads\", \"california_b\", \"parrot\", \"organisations\", \"comfy\", \"travelampadventure\", \"innovate\", \"rewards\", \"programs\", \"change_lives\", \"fog\", \"airports\", \"drea\", \"job\", \"globetrotting\", \"visa\", \"join_interactive\", \"sinks_santamonica\", \"architecture_art\", \"gift\", \"trees\", \"thailand\", \"water\", \"love\", \"tree\", \"way\", \"rt\", \"tourism\", \"celebrate\", \"latest\", \"new\", \"images_paris\", \"trip\", \"holiday\", \"photography\", \"rent_seattle\", \"christmas\", \"loyalty\", \"vacation\", \"traveller\", \"hotel\", \"world\", \"jerusalem\", \"touri\", \"beach\", \"winter\", \"guest_room\", \"usa\", \"rent_hightown\", \"photography_helena\", \"reet_ennet\", \"travelpics_travelblogger\", \"owl_house\", \"bed_breakfasts\", \"tour\", \"ttot\", \"lp\", \"beautiful_israel\", \"daily_thanks\", \"japan_japantravel\", \"nature\", \"san_diego\", \"download_goodies\", \"viaggilowcost_viaggi\", \"paper_print\", \"christmas_sled\", \"childanddog_laurieshanholtzer\", \"bright\", \"snow_scene\", \"curry\", \"trial_graphicstock\", \"winter_canvas\", \"memorable\", \"holiday_lip\", \"dove\", \"holiday_graphics\", \"hk\", \"religion\", \"lots_free\", \"bundle_check\", \"ya\", \"ride_art\", \"want_day\", \"romance\", \"las_vegas\", \"vlog\", \"warsaw\", \"recent\", \"historical\", \"swansea\", \"today_beautyreview\", \"europa\", \"useful\", \"people\", \"saint_petersburg\", \"egg\", \"photos\", \"usa\", \"world\", \"photo_popular\", \"jerusalem\", \"bed_breakfasts\", \"travelpix\", \"paris\", \"adventure\", \"guest_room\", \"holiday_season\", \"ttot\", \"holidays\", \"life\", \"japan_japantravel\", \"rent_hightown\", \"owl_house\", \"tour\", \"australia\", \"touri\", \"quote\", \"live\", \"holiday\", \"best\", \"photography_helena\", \"reet_ennet\", \"travelpics_travelblogger\", \"rt\", \"vacation\", \"latest\", \"beautiful_israel\", \"san_diego\", \"tourism\", \"christmas\", \"love\", \"photography\", \"traveller\", \"lp\", \"japan\", \"beach\", \"man_travels\", \"george_moore\", \"needs_returns\", \"quoteoftheday\", \"world_search\", \"home_find\", \"lads\", \"great_giftidea\", \"avanza\", \"wheel_light\", \"hacer\", \"los\", \"hong_kong\", \"fish_fishtank\", \"beaten\", \"marinelife_ocean\", \"single_double\", \"reef_coral\", \"surf\", \"damselfish\", \"heely_skateshoes\", \"mundo\", \"natural\", \"sheer\", \"beginner\", \"penginapan_carihotel\", \"reeftank_reefcandy\", \"rooftop\", \"east_africa\", \"citynomads\", \"gerard_de\", \"hongkong\", \"nerval\", \"viajar\", \"free\", \"blossoming_nature\", \"owl_house\", \"touri\", \"bed_breakfasts\", \"rt_viajes\", \"flower_soul\", \"jerusalem\", \"de\", \"rent_hightown\", \"viajes\", \"guest_room\", \"hotel\", \"day\", \"beach\", \"beautiful\", \"holiday\", \"photography_helena\", \"reet_ennet\", \"travelpics_travelblogger\", \"photography\", \"vacation\", \"city\", \"ttot\", \"beautiful_israel\", \"tour\", \"tourism\", \"latest\", \"daily_thanks\", \"christmas\", \"thanks\", \"adventure\", \"world\", \"rt\", \"luxury\", \"san_diego\", \"love\", \"usa\", \"santorini\", \"umroh\", \"tepi\", \"suci\", \"pura\", \"tanah\", \"exclusive_amalfi\", \"lunch_winelover\", \"rabbit\", \"plans_sorted\", \"coast_experience\", \"vespa_light\", \"\\u043b\\u0435\\u0434\\u044f\\u043d\\u0430\\u044f\\u043b\\u0430\\u0433\\u0443\\u043d\\u0430\", \"unesco\", \"holiday_baking\", \"white_sand\", \"quebecoriginal\", \"icelagoon\", \"lot\", \"lawyer\", \"pantai\", \"jokulsarlon\", \"hdr\", \"avisa\", \"louvre\", \"explorecanada\", \"phone\", \"final\", \"yuskov\", \"cannes\", \"posted_trips\", \"stunning\", \"south\", \"iceland\", \"places_world\", \"drive\", \"touri\", \"germany\", \"magnificent\", \"tulip_rainbow\", \"wine\", \"bed_breakfasts\", \"city\", \"best\", \"jerusalem\", \"guest_room\", \"owl_house\", \"photography\", \"lp\", \"rent_hightown\", \"nature\", \"ttot\", \"time\", \"france\", \"vacation\", \"traveller\", \"photography_helena\", \"reet_ennet\", \"travelpics_travelblogger\", \"christmas\", \"beautiful_israel\", \"holiday\", \"beach\", \"beautiful\", \"japan\", \"rt\", \"adventure\", \"familytravel\", \"luxury\", \"tour\", \"latest\", \"japan_japantravel\", \"hotel\", \"world\", \"tourism\", \"usa\"], \"Freq\": [1569.0, 4638.0, 5601.0, 4717.0, 4747.0, 4241.0, 4716.0, 5034.0, 1518.0, 595.0, 584.0, 585.0, 1158.0, 1490.0, 1644.0, 619.0, 976.0, 1376.0, 1672.0, 872.0, 1366.0, 626.0, 734.0, 633.0, 606.0, 699.0, 650.0, 78.0, 300.0, 520.0, 811.1766376697487, 295.7329697954196, 283.2731261178379, 276.1235118663007, 5.467319900198865, 6.004741657933664, 15.069250585044236, 13.083373110382649, 4.053736427727952, 5.537493355304025, 16.65837736624659, 13.37550880577439, 8.832892170992091, 5.673708862952588, 6.185845215358141, 4.162333592545579, 3.7684353854484987, 6.201120715387808, 3.668700051361038, 506.92762554325355, 7.6120918670352715, 3.779362917459543, 16.649539829718314, 2.560090718801734, 12.109344979804627, 7.157957574586961, 13.946329538150325, 6.009340897411856, 5.315463091252146, 13.107793642124538, 1510.331849706387, 1412.9748596780735, 16.294887517537735, 1334.6883350274618, 15.36103783216884, 18.837978195035493, 54.923631964532554, 86.47744114836624, 68.98388881539562, 1042.723626393357, 313.81776248451644, 216.86656059276606, 306.59136189611905, 76.61587208082005, 72.45359505905887, 963.8806506837287, 35.620125496361375, 180.1246315827978, 338.12175979876946, 35.620125496361375, 108.96373239465503, 67.73815433085691, 35.620125496361375, 297.5721991380201, 98.78024710491775, 50.632437413371186, 894.9934666742645, 317.50817114056815, 665.3477671790498, 245.3527145271285, 245.3527145271285, 245.29041031107622, 256.27427710570777, 222.23456301915, 197.10877198457504, 133.69002124387646, 171.17106039332714, 142.9002502645358, 219.74032867577722, 208.6719680352052, 159.8128907477846, 8.628790887881552, 1.6572345628020022, 7.898214534101877, 3.6924082284177833, 6.9998185757561355, 1.0502188390612064, 7.07251439627194, 9.888517129560277, 9.435445518372296, 7.734011278978621, 7.70378807331188, 6.731592198376668, 9.19958756754795, 10.449618634252797, 10.399892929824736, 5.00812491520112, 10.38627314610231, 15.708412040521203, 13.253384552610601, 3.3624148424456197, 5.560144465036724, 29.546275428053306, 6.750591526792629, 7.385653674716523, 6.845723707010753, 6.549899725599806, 9.920072927011747, 3.528973522516909, 6.546892698053163, 7.067979865900946, 9.714898171907645, 9.709856273107363, 104.07097081739632, 73.3060875805827, 202.1823320917264, 40.92313805396828, 1331.6054317171668, 153.8110494848341, 92.61593027307886, 153.1848872748424, 38.41334596146071, 371.7713738595949, 20.53738162495505, 71.29030681375134, 356.99216091839486, 92.87673923587977, 171.82681721293386, 120.08712639905913, 960.4917416806173, 114.2339322863631, 84.74344339648066, 143.6831408172327, 145.23176839992132, 70.36756316806243, 230.1922743257441, 40.96142457941256, 55.968034533138606, 60.2753741974451, 650.6962154963674, 145.8974933528721, 139.45593417898766, 120.49389434394851, 236.36022397919788, 267.4287318370912, 217.4766571278889, 217.4766571278889, 217.41701075140728, 518.6330735339566, 498.59427074999394, 489.4858775599375, 226.99618427012223, 467.49336807758937, 204.93245609307547, 173.42673338672515, 193.20204043417152, 189.9853581771453, 166.9546985224119, 175.3193543655672, 149.2083662198635, 3.761424609915642, 3.87303305691981, 7.990512517244639, 7.913950620079637, 6.28988582721604, 49.331588230317074, 3.8893087136514266, 19.293764847821972, 3.8097527018510897, 5.463130465732929, 2.9190197951851897, 0.8353236871385457, 3.6393985932959, 4.610429772752268, 4.956608749137541, 3.8745271564612356, 5.0179468311410025, 4.854053350976196, 11.487433902215095, 4.865968963834852, 9.430853207862494, 3.649589681759267, 12.537455735670207, 9.423347780226418, 40.65229413431734, 2.9791860344110628, 33.303965543840114, 12.418460735465574, 3.453623202803427, 4.029692098090857, 91.65554763647805, 14.157274852008848, 78.91786002681876, 28.161198301763584, 315.3642730727434, 26.32388854622017, 64.49429179100618, 404.6734038589546, 215.62857201700874, 26.254986444441755, 369.3799151969375, 117.07174479552837, 38.06310301014733, 135.90128412700855, 886.7446073786911, 280.71583878891283, 71.95426544857436, 287.5226227751655, 74.57507379230124, 280.7262050904069, 137.32546972548826, 173.8093613518561, 190.99506667746036, 651.4664134119199, 809.3368560684748, 231.382051099844, 105.08834533927735, 582.8675665159924, 234.1921481088523, 555.9366363684555, 206.44260465359284, 206.44260465359284, 206.39553263063462, 521.2082643788431, 498.618092276401, 202.611760471903, 209.47421600426628, 142.19263757462633, 164.52649160490884, 118.43711290074833, 129.0293366681468, 121.8438040820023, 146.05498629868288, 7.086619227197171, 5.567226942543048, 7.460529411227203, 6.995425391675025, 6.939219754516233, 6.159910114538731, 6.90362921202066, 3.281751269044772, 6.043287228726756, 6.826170954904725, 5.17888235430385, 30.906164418000607, 3.8068650221270524, 5.802304799815172, 2.9607372942577075, 2.7633736423331565, 5.600905442204755, 29.066884755305832, 9.42308972806264, 6.164766713997711, 5.325550485259651, 53.4244703774025, 3.905241678163933, 12.976719682142546, 3.6233838033064356, 0.8163921835581023, 11.507609806331093, 2.6612086148381513, 16.61515435955984, 1.6833903360369782, 5.164875987562092, 38.72656139925857, 27.99764609562305, 10.569709885963091, 55.67164256109465, 347.05764850064355, 222.9852988188933, 72.02475057074399, 817.8412252464007, 872.7858586957274, 70.16437500417604, 49.53166417380542, 128.55254482555435, 786.7130016001024, 107.31137047301971, 252.46185860738956, 78.66434409807412, 71.67384300294196, 165.75628644213208, 702.9814614768917, 682.2878765758137, 225.5556814012635, 55.6551905705665, 747.5315072683596, 35.08799772424836, 34.80732241616726, 651.6497499661714, 128.2387629782132, 205.90814970820895, 205.90814970820895, 205.85305387678756, 248.4119397321936, 218.19907447647284, 233.09968238301866, 162.88366143345993, 215.74217566080432, 139.90726689797853, 197.08730709764666, 164.73247625707253, 173.56604378721386, 107.86658464170395, 120.23278430286646, 103.79718606388158, 146.77145696163228, 35.18734107037503, 32.3466309209972, 29.898229066832, 29.018448169250703, 28.604866647901694, 31.36556347359414, 3.2056266324179172, 5.780164968644703, 3.8212285799684564, 5.537184545031807, 5.054989503896213, 2.265305008408054, 19.15177711460628, 31.26981619520814, 4.8457707411815845, 31.283916158862827, 5.254971097919902, 30.67316081263076, 5.472688912526266, 0.7420060165409206, 5.0498681329837, 7.306754535350744, 14.500076242171259, 4.8768092577951805, 3.145516082340476, 13.085755651038177, 37.355546892204345, 6.842144748233799, 12.296648719490541, 2.686815147434556, 29.847420721214426, 29.37110188381148, 28.687251557056552, 72.18649821734067, 89.08605269941945, 27.534684003416718, 883.2722057127917, 1023.2930858021504, 827.1071777560729, 47.230185220324664, 27.046392316022462, 732.2867525825959, 117.57276006387289, 774.9930434475132, 32.78103851492272, 730.8760541442482, 165.88420856105668, 126.17591097595277, 218.90924899816983, 112.74055959743276, 649.0355523590458, 209.88206278315167, 209.88206278315167, 209.83636118192828, 219.6653982049508, 229.15377943743528, 117.21641628769176, 210.4542187475531, 166.02188170943842, 185.36902105015943, 136.7328554883946, 209.21826959201044, 112.84882926499814, 190.58174501705633, 113.86136880080768, 102.00242177611723, 131.63176946728052, 172.5571939683596, 103.38426000432887, 147.08629080402076, 120.81967996936946, 121.05946293160379, 23.30674035301822, 14.011236490682302, 4.103155530189105, 4.085049380157249, 4.158529219723147, 3.817887066224083, 10.798111026205726, 10.308540965112416, 4.949663176355302, 21.151188268364187, 9.64228864737023, 9.662971340364365, 2.7254964749484043, 17.37940249238277, 8.864061976075613, 3.7059101263004806, 3.017013353029639, 2.6916388072003525, 13.698342478947055, 4.08111344050658, 4.4070890589964105, 2.660877025746066, 9.60855512543847, 5.982753966656726, 3.562932682863347, 2.975911259626754, 9.355311109334265, 4.325526550878596, 2.593322303899789, 2.933835656114451, 23.330803950409358, 30.217387566170743, 22.199322427954712, 41.8646135593219, 47.39228465537681, 10.650993061158161, 1165.4516580358684, 43.69340144091554, 39.52265653150644, 12.24332040646171, 56.985400179462516, 899.0613531376971, 139.56274034164727, 144.5866070242226, 724.2032620078547, 762.2890796907687, 749.9933469897658, 252.77179024819648, 153.7002507148218, 713.5395667605931, 142.98577155230922, 237.93523961264873, 99.78026316941857, 58.63884037193241, 240.799002197306, 121.69256253920469, 210.91339639427076, 210.91339639427076, 210.87040883628296, 234.9352807911321, 166.51353904755555, 551.118999406734, 190.22610172854544, 103.87878004290938, 107.24260197558812, 213.08209138267617, 104.38883726733617, 84.78477278346692, 103.16448639790787, 160.73109176911373, 186.67715355461308, 125.61933609043807, 124.74465432717591, 121.94245151462361, 114.37529225756543, 118.98549680387032], \"Total\": [1569.0, 4638.0, 5601.0, 4717.0, 4747.0, 4241.0, 4716.0, 5034.0, 1518.0, 595.0, 584.0, 585.0, 1158.0, 1490.0, 1644.0, 619.0, 976.0, 1376.0, 1672.0, 872.0, 1366.0, 626.0, 734.0, 633.0, 606.0, 699.0, 650.0, 78.0, 300.0, 520.0, 1569.0122071812289, 595.0206575312022, 584.2714944729429, 585.500210102568, 14.347631308107726, 16.320173825676434, 41.43649088963522, 36.7256981157543, 11.386347242411812, 15.682554177385072, 47.57723248389473, 38.2317633980824, 25.3161196584073, 16.399691053455786, 17.94561398348295, 12.11307334192725, 10.99256271557401, 18.363309228027045, 10.9515219540219, 1518.2077400653689, 22.819125484157226, 11.36919135209368, 50.28850610366593, 7.740123175328279, 36.82946687737695, 21.787043202159474, 42.46395014534919, 18.347035003755988, 16.234324292873787, 40.41012882408021, 4747.268435319778, 4717.229921412877, 50.49895568918019, 4716.06711051253, 48.12918569318065, 60.32051489857627, 186.23608715260775, 303.39791784364854, 242.40007328763093, 4638.89037900925, 1268.06131979512, 875.9429780353983, 1285.7913726816341, 281.9150920238384, 272.76788458107063, 5034.0349915115385, 124.96713810937644, 794.0624269439709, 1644.2751205780446, 124.96713810937644, 454.4097733403868, 263.17085873132396, 124.96713810937644, 1493.4464446097634, 412.47459107633307, 188.5743323071054, 5601.098315529735, 1672.8753527855429, 4241.841635924188, 1295.9755851942418, 1295.9755851942418, 1295.662777588117, 1376.1953885691535, 1158.6507829519717, 1030.4810791666628, 616.5896615799242, 873.3030657578709, 683.3018285050722, 1366.426085626833, 1490.5702975758009, 976.5758434459059, 20.111610666593425, 3.8980251833007937, 19.17970856909206, 9.190306121020148, 17.56976316219209, 2.6638055071921274, 18.281245901906413, 25.649927961266922, 24.487043727683982, 20.120552187678612, 20.047685980519997, 17.633844416856544, 24.183369275562736, 27.579410922875415, 27.57536848290994, 13.340873751697828, 27.704320362067328, 42.16515618445112, 36.12376522745929, 9.165393540280402, 15.256227202181158, 81.27305782342722, 18.643029723808592, 20.44238495640795, 19.209744490726116, 18.379930081692084, 27.85757909134713, 9.96536497466163, 18.498470494175997, 20.063067780658873, 27.582097340632462, 27.575349491747932, 304.3431681913887, 213.03198742694056, 619.4070610646047, 120.865048059028, 5034.0349915115385, 520.2472105014281, 305.57646057253316, 525.2120995682168, 119.95255188677169, 1490.5702975758009, 63.996858755914815, 264.88639737609725, 1672.8753527855429, 361.5188713353647, 734.1680608291715, 493.35236063235413, 5601.098315529735, 466.1167620799581, 329.4411989064892, 624.8147873622277, 633.5255319900444, 273.5347730324223, 1158.6507829519717, 144.34957680776117, 211.75999111160317, 231.84449178576514, 4241.841635924188, 683.3018285050722, 656.9665610237046, 551.1995403930642, 1366.426085626833, 1644.2751205780446, 1295.9755851942418, 1295.9755851942418, 1295.662777588117, 4716.06711051253, 4638.89037900925, 4747.268435319778, 1493.4464446097634, 4717.229921412877, 1285.7913726816341, 1030.4810791666628, 1376.1953885691535, 1518.2077400653689, 1268.06131979512, 1569.0122071812289, 976.5758434459059, 9.455004368392512, 10.133286635638479, 21.81093304142309, 21.736417833790203, 17.317341477272645, 136.0647015857942, 11.055310167953838, 55.29588665563894, 11.056877789466341, 15.905735189532754, 8.540755661051845, 2.497938634499798, 10.96184151921448, 13.9157410193136, 15.181578944381013, 11.987432932441433, 15.639900681923859, 15.170237863131034, 36.10199529209243, 15.332088849766384, 30.01826080486989, 11.62475873338245, 39.97163162194393, 30.064673928608244, 129.9354248980035, 9.531884389699702, 106.76874839097678, 40.0405033747548, 11.135853630261277, 12.998692329119763, 300.45619005196323, 45.95953896169304, 267.29861312681777, 93.78880918756077, 1158.6507829519717, 88.03293337197712, 230.31183012688635, 1644.2751205780446, 872.5909992001198, 91.16925971206769, 1672.8753527855429, 488.8051684304833, 142.71551120522594, 593.095995897689, 5034.0349915115385, 1376.1953885691535, 297.3655592082479, 1490.5702975758009, 316.35015183699363, 1493.4464446097634, 650.5165927366967, 873.3030657578709, 976.5758434459059, 4241.841635924188, 5601.098315529735, 1268.06131979512, 493.35236063235413, 4716.06711051253, 1518.2077400653689, 4747.268435319778, 1295.9755851942418, 1295.9755851942418, 1295.662777588117, 4717.229921412877, 4638.89037900925, 1285.7913726816341, 1366.426085626833, 794.0624269439709, 1030.4810791666628, 656.9665610237046, 875.9429780353983, 734.1680608291715, 1569.0122071812289, 18.21252184811326, 14.843751668067272, 20.780138916367374, 20.886668161095656, 20.81348773734228, 18.550014847553644, 20.80935334624364, 9.93471227627591, 18.37783087947114, 20.829508949156853, 15.927581942067789, 96.43423668158125, 12.039232840263828, 18.478888615424598, 9.432358600612556, 8.815530068356622, 18.3264640947286, 95.78715860680086, 31.984794303925185, 21.031458923325935, 18.451180170278004, 185.14577754252096, 13.717133363203404, 46.011276092191956, 12.991332092809662, 2.936102095747374, 41.56262685138457, 9.645026767168297, 60.29012957518231, 6.159010998939019, 19.00891575794219, 145.99460771632118, 105.62983109684066, 39.2273822956159, 216.52923630254116, 1518.2077400653689, 976.5758434459059, 300.3626903216695, 4241.841635924188, 4638.89037900925, 300.03961170909105, 206.12378241602943, 606.7692992389223, 4716.06711051253, 510.3553351050133, 1366.426085626833, 361.5188713353647, 328.90059958147054, 875.9429780353983, 4747.268435319778, 4717.229921412877, 1285.7913726816341, 249.05578093657365, 5601.098315529735, 145.2186052149485, 144.28858254677357, 5034.0349915115385, 699.8141027752504, 1295.9755851942418, 1295.9755851942418, 1295.662777588117, 1644.2751205780446, 1493.4464446097634, 1672.8753527855429, 1030.4810791666628, 1569.0122071812289, 872.5909992001198, 1490.5702975758009, 1158.6507829519717, 1376.1953885691535, 650.5165927366967, 794.0624269439709, 616.5896615799242, 1268.06131979512, 78.09001634192813, 78.06338857275954, 78.69845624181352, 79.18946880021197, 78.77210449659692, 87.69667899024947, 9.000097601413827, 16.593956828965187, 11.457654274644714, 16.700507563789703, 15.505273556425426, 6.959166341288624, 58.95700813493204, 97.72618190506486, 15.163647102923433, 98.08106203747813, 16.70824749344732, 98.08466784547647, 17.980611950280526, 2.4467472127990857, 16.73974768671432, 24.27355265837677, 48.35271181626226, 16.287511466423773, 10.554365547395486, 44.056046477210025, 125.95914457443764, 23.163504022261055, 41.653996921384405, 9.157288616048707, 103.72651478871177, 102.53180400549726, 104.33204181313614, 274.02212738897737, 371.6229778788511, 103.93179991263419, 4717.229921412877, 5601.098315529735, 4638.89037900925, 192.76667055979092, 104.09009298460141, 4241.841635924188, 551.1995403930642, 4747.268435319778, 129.6821781129512, 4716.06711051253, 873.3030657578709, 633.5255319900444, 1268.06131979512, 588.8420685131425, 5034.0349915115385, 1295.9755851942418, 1295.9755851942418, 1295.662777588117, 1376.1953885691535, 1493.4464446097634, 626.0993822887283, 1366.426085626833, 1030.4810791666628, 1285.7913726816341, 872.5909992001198, 1672.8753527855429, 656.9665610237046, 1490.5702975758009, 683.3018285050722, 606.7692992389223, 976.5758434459059, 1644.2751205780446, 624.8147873622277, 1569.0122071812289, 1158.6507829519717, 1518.2077400653689, 52.9797421948461, 35.304944489753204, 10.838897681989849, 10.850587150112913, 11.308342265560064, 11.06842571535615, 31.52354877029154, 31.395529184577207, 15.359997218787637, 67.47451826188671, 31.610070325345774, 31.714312193121383, 9.070130651210496, 57.89825403360069, 29.572627252641098, 12.407714324200377, 10.156928104428445, 9.066135810576343, 46.59227018875947, 13.927988704662727, 15.119266623229517, 9.151706005748062, 33.291983761105456, 20.74584902184031, 12.365576827000549, 10.373186187220522, 32.641629017922895, 15.12098004575342, 9.085823735741032, 10.384796137308872, 84.21089212417732, 110.51970508161556, 80.80543535777906, 158.8686760026868, 182.93946876546084, 38.97035784148397, 5601.098315529735, 172.39249316015048, 155.26639689273975, 45.211630818685265, 236.78514941159384, 4638.89037900925, 626.0993822887283, 699.8141027752504, 4241.841635924188, 4716.06711051253, 4717.229921412877, 1376.1953885691535, 794.0624269439709, 4747.268435319778, 734.1680608291715, 1366.426085626833, 498.91056165167726, 266.9151906445239, 1493.4464446097634, 650.5165927366967, 1295.9755851942418, 1295.9755851942418, 1295.662777588117, 1490.5702975758009, 1030.4810791666628, 5034.0349915115385, 1268.06131979512, 588.8420685131425, 616.5896615799242, 1644.2751205780446, 606.7692992389223, 454.4097733403868, 624.8147873622277, 1285.7913726816341, 1672.8753527855429, 875.9429780353983, 873.3030657578709, 976.5758434459059, 872.5909992001198, 1518.2077400653689], \"Category\": [\"Default\", \"Default\", \"Default\", \"Default\", \"Default\", \"Default\", \"Default\", \"Default\", \"Default\", \"Default\", \"Default\", \"Default\", \"Default\", \"Default\", \"Default\", \"Default\", \"Default\", \"Default\", \"Default\", \"Default\", \"Default\", \"Default\", \"Default\", \"Default\", \"Default\", \"Default\", \"Default\", \"Default\", \"Default\", \"Default\", \"Topic1\", \"Topic1\", \"Topic1\", \"Topic1\", \"Topic1\", \"Topic1\", \"Topic1\", \"Topic1\", \"Topic1\", \"Topic1\", \"Topic1\", \"Topic1\", \"Topic1\", \"Topic1\", \"Topic1\", \"Topic1\", \"Topic1\", \"Topic1\", \"Topic1\", \"Topic1\", \"Topic1\", \"Topic1\", \"Topic1\", \"Topic1\", \"Topic1\", \"Topic1\", \"Topic1\", \"Topic1\", \"Topic1\", \"Topic1\", \"Topic1\", \"Topic1\", \"Topic1\", \"Topic1\", \"Topic1\", \"Topic1\", \"Topic1\", \"Topic1\", \"Topic1\", \"Topic1\", \"Topic1\", \"Topic1\", \"Topic1\", \"Topic1\", \"Topic1\", \"Topic1\", \"Topic1\", \"Topic1\", \"Topic1\", \"Topic1\", \"Topic1\", \"Topic1\", \"Topic1\", \"Topic1\", \"Topic1\", \"Topic1\", \"Topic1\", \"Topic1\", \"Topic1\", \"Topic1\", \"Topic1\", \"Topic1\", \"Topic1\", \"Topic1\", \"Topic1\", \"Topic1\", \"Topic1\", \"Topic1\", \"Topic1\", \"Topic1\", \"Topic1\", \"Topic2\", \"Topic2\", \"Topic2\", \"Topic2\", \"Topic2\", \"Topic2\", \"Topic2\", \"Topic2\", \"Topic2\", \"Topic2\", \"Topic2\", \"Topic2\", \"Topic2\", \"Topic2\", \"Topic2\", \"Topic2\", \"Topic2\", \"Topic2\", \"Topic2\", \"Topic2\", \"Topic2\", \"Topic2\", \"Topic2\", \"Topic2\", \"Topic2\", \"Topic2\", \"Topic2\", \"Topic2\", \"Topic2\", \"Topic2\", \"Topic2\", \"Topic2\", \"Topic2\", \"Topic2\", \"Topic2\", \"Topic2\", \"Topic2\", \"Topic2\", \"Topic2\", \"Topic2\", \"Topic2\", \"Topic2\", \"Topic2\", \"Topic2\", \"Topic2\", \"Topic2\", \"Topic2\", \"Topic2\", \"Topic2\", \"Topic2\", \"Topic2\", \"Topic2\", \"Topic2\", \"Topic2\", \"Topic2\", \"Topic2\", \"Topic2\", \"Topic2\", \"Topic2\", \"Topic2\", \"Topic2\", \"Topic2\", \"Topic2\", \"Topic2\", \"Topic2\", \"Topic2\", \"Topic2\", \"Topic2\", \"Topic2\", \"Topic2\", \"Topic2\", \"Topic2\", \"Topic2\", \"Topic2\", \"Topic2\", \"Topic2\", \"Topic2\", \"Topic2\", \"Topic2\", \"Topic3\", \"Topic3\", \"Topic3\", \"Topic3\", \"Topic3\", \"Topic3\", \"Topic3\", \"Topic3\", \"Topic3\", \"Topic3\", \"Topic3\", \"Topic3\", \"Topic3\", \"Topic3\", \"Topic3\", \"Topic3\", \"Topic3\", \"Topic3\", \"Topic3\", \"Topic3\", \"Topic3\", \"Topic3\", \"Topic3\", \"Topic3\", \"Topic3\", \"Topic3\", \"Topic3\", \"Topic3\", \"Topic3\", \"Topic3\", \"Topic3\", \"Topic3\", \"Topic3\", \"Topic3\", \"Topic3\", \"Topic3\", \"Topic3\", \"Topic3\", \"Topic3\", \"Topic3\", \"Topic3\", \"Topic3\", \"Topic3\", \"Topic3\", \"Topic3\", \"Topic3\", \"Topic3\", \"Topic3\", \"Topic3\", \"Topic3\", \"Topic3\", \"Topic3\", \"Topic3\", \"Topic3\", \"Topic3\", \"Topic3\", \"Topic3\", \"Topic3\", \"Topic3\", \"Topic3\", \"Topic3\", \"Topic3\", \"Topic3\", \"Topic3\", \"Topic3\", \"Topic3\", \"Topic3\", \"Topic3\", \"Topic3\", \"Topic3\", \"Topic3\", \"Topic3\", \"Topic3\", \"Topic4\", \"Topic4\", \"Topic4\", \"Topic4\", \"Topic4\", \"Topic4\", \"Topic4\", \"Topic4\", \"Topic4\", \"Topic4\", \"Topic4\", \"Topic4\", \"Topic4\", \"Topic4\", \"Topic4\", \"Topic4\", \"Topic4\", \"Topic4\", \"Topic4\", \"Topic4\", \"Topic4\", \"Topic4\", \"Topic4\", \"Topic4\", \"Topic4\", \"Topic4\", \"Topic4\", \"Topic4\", \"Topic4\", \"Topic4\", \"Topic4\", \"Topic4\", \"Topic4\", \"Topic4\", \"Topic4\", \"Topic4\", \"Topic4\", \"Topic4\", \"Topic4\", \"Topic4\", \"Topic4\", \"Topic4\", \"Topic4\", \"Topic4\", \"Topic4\", \"Topic4\", \"Topic4\", \"Topic4\", \"Topic4\", \"Topic4\", \"Topic4\", \"Topic4\", \"Topic4\", \"Topic4\", \"Topic4\", \"Topic4\", \"Topic4\", \"Topic4\", \"Topic4\", \"Topic4\", \"Topic4\", \"Topic4\", \"Topic4\", \"Topic4\", \"Topic4\", \"Topic4\", \"Topic4\", \"Topic4\", \"Topic4\", \"Topic4\", \"Topic4\", \"Topic4\", \"Topic4\", \"Topic4\", \"Topic5\", \"Topic5\", \"Topic5\", \"Topic5\", \"Topic5\", \"Topic5\", \"Topic5\", \"Topic5\", \"Topic5\", \"Topic5\", \"Topic5\", \"Topic5\", \"Topic5\", \"Topic5\", \"Topic5\", \"Topic5\", \"Topic5\", \"Topic5\", \"Topic5\", \"Topic5\", \"Topic5\", \"Topic5\", \"Topic5\", \"Topic5\", \"Topic5\", \"Topic5\", \"Topic5\", \"Topic5\", \"Topic5\", \"Topic5\", \"Topic5\", \"Topic5\", \"Topic5\", \"Topic5\", \"Topic5\", \"Topic5\", \"Topic5\", \"Topic5\", \"Topic5\", \"Topic5\", \"Topic5\", \"Topic5\", \"Topic5\", \"Topic5\", \"Topic5\", \"Topic5\", \"Topic5\", \"Topic5\", \"Topic5\", \"Topic5\", \"Topic5\", \"Topic5\", \"Topic5\", \"Topic5\", \"Topic5\", \"Topic5\", \"Topic5\", \"Topic5\", \"Topic5\", \"Topic5\", \"Topic5\", \"Topic5\", \"Topic5\", \"Topic5\", \"Topic5\", \"Topic5\", \"Topic5\", \"Topic5\", \"Topic5\", \"Topic5\", \"Topic5\", \"Topic5\", \"Topic6\", \"Topic6\", \"Topic6\", \"Topic6\", \"Topic6\", \"Topic6\", \"Topic6\", \"Topic6\", \"Topic6\", \"Topic6\", \"Topic6\", \"Topic6\", \"Topic6\", \"Topic6\", \"Topic6\", \"Topic6\", \"Topic6\", \"Topic6\", \"Topic6\", \"Topic6\", \"Topic6\", \"Topic6\", \"Topic6\", \"Topic6\", \"Topic6\", \"Topic6\", \"Topic6\", \"Topic6\", \"Topic6\", \"Topic6\", \"Topic6\", \"Topic6\", \"Topic6\", \"Topic6\", \"Topic6\", \"Topic6\", \"Topic6\", \"Topic6\", \"Topic6\", \"Topic6\", \"Topic6\", \"Topic6\", \"Topic6\", \"Topic6\", \"Topic6\", \"Topic6\", \"Topic6\", \"Topic6\", \"Topic6\", \"Topic6\", \"Topic6\", \"Topic6\", \"Topic6\", \"Topic6\", \"Topic6\", \"Topic6\", \"Topic6\", \"Topic6\", \"Topic6\", \"Topic6\", \"Topic6\", \"Topic6\", \"Topic6\", \"Topic6\", \"Topic6\", \"Topic6\", \"Topic6\", \"Topic6\", \"Topic6\", \"Topic6\", \"Topic6\", \"Topic6\", \"Topic6\", \"Topic6\", \"Topic6\", \"Topic6\"], \"logprob\": [30.0, 29.0, 28.0, 27.0, 26.0, 25.0, 24.0, 23.0, 22.0, 21.0, 20.0, 19.0, 18.0, 17.0, 16.0, 15.0, 14.0, 13.0, 12.0, 11.0, 10.0, 9.0, 8.0, 7.0, 6.0, 5.0, 4.0, 3.0, 2.0, 1.0, -4.0742, -5.0832, -5.1263, -5.1518, -9.0739, -8.9801, -8.06, -8.2013, -9.373, -9.0611, -7.9598, -8.1793, -8.5942, -9.0368, -8.9504, -9.3466, -9.446, -8.9479, -9.4728, -4.5443, -8.7429, -9.4431, -7.9603, -9.8326, -8.2787, -8.8045, -8.1375, -8.9794, -9.1021, -8.1995, -3.4526, -3.5192, -7.9818, -3.5762, -8.0408, -7.8368, -6.7667, -6.3128, -6.5388, -3.8231, -5.0239, -5.3934, -5.0472, -6.4339, -6.4897, -3.9017, -7.1998, -5.579, -4.9493, -7.1998, -6.0817, -6.557, -7.1998, -5.077, -6.1798, -6.8481, -3.9759, -5.0122, -4.2724, -5.27, -5.27, -5.2702, -5.2264, -5.3689, -5.4889, -5.8772, -5.63, -5.8105, -5.3802, -5.4319, -5.6987, -8.4714, -10.1214, -8.5599, -9.3202, -8.6806, -10.5775, -8.6703, -8.3351, -8.382, -8.5809, -8.5848, -8.7197, -8.4073, -8.2799, -8.2847, -9.0154, -8.286, -7.8723, -8.0423, -9.4138, -8.9109, -7.2405, -8.7169, -8.627, -8.7029, -8.7471, -8.3319, -9.3655, -8.7475, -8.6709, -8.3528, -8.3534, -5.9814, -6.3319, -5.3173, -6.9148, -3.4324, -5.5908, -6.098, -5.5949, -6.9781, -4.7082, -7.6043, -6.3597, -4.7488, -6.0952, -5.48, -5.8383, -3.7591, -5.8883, -6.1869, -5.6589, -5.6482, -6.3728, -5.1876, -6.9139, -6.6017, -6.5276, -4.1485, -5.6436, -5.6888, -5.8349, -5.1611, -5.0377, -5.2444, -5.2444, -5.2447, -4.3753, -4.4147, -4.4332, -5.2016, -4.4791, -5.3038, -5.4708, -5.3628, -5.3796, -5.5088, -5.4599, -5.6212, -9.2392, -9.21, -8.4857, -8.4954, -8.7251, -6.6654, -9.2058, -7.6042, -9.2264, -8.866, -9.4927, -10.7439, -9.2722, -9.0357, -8.9633, -9.2096, -8.951, -8.9842, -8.1227, -8.9817, -8.32, -9.2694, -8.0353, -8.3208, -6.8589, -9.4723, -7.0583, -8.0448, -9.3246, -9.1703, -6.046, -7.9138, -6.1956, -7.2261, -4.8103, -7.2935, -6.3974, -4.5609, -5.1904, -7.2961, -4.6522, -5.8012, -6.9248, -5.6521, -3.7764, -4.9267, -6.288, -4.9027, -6.2522, -4.9266, -5.6416, -5.406, -5.3117, -4.0848, -3.8678, -5.1199, -5.9092, -4.196, -5.1079, -4.2433, -5.234, -5.234, -5.2342, -4.3078, -4.3522, -5.2527, -5.2194, -5.6068, -5.4609, -5.7896, -5.704, -5.7613, -5.58, -8.5504, -8.7917, -8.499, -8.5634, -8.5715, -8.6906, -8.5766, -9.3203, -8.7097, -8.5879, -8.8641, -7.0777, -9.1718, -8.7504, -9.4232, -9.4922, -8.7857, -7.139, -8.2655, -8.6898, -8.8361, -6.5304, -9.1463, -7.9455, -9.2212, -10.7115, -8.0656, -9.5299, -7.6983, -9.9878, -8.8668, -6.8521, -7.1765, -8.1507, -6.4892, -4.6592, -5.1015, -6.2316, -3.802, -3.737, -6.2578, -6.606, -5.6523, -3.8408, -5.8329, -4.9774, -6.1435, -6.2365, -5.3981, -3.9533, -3.9832, -5.0901, -6.4895, -3.8919, -6.9508, -6.9588, -4.0291, -5.6548, -5.1812, -5.1812, -5.1815, -4.9936, -5.1232, -5.0572, -5.4156, -5.1346, -5.5677, -5.225, -5.4043, -5.3521, -5.8277, -5.7192, -5.8662, -5.5198, -6.9277, -7.0119, -7.0906, -7.1205, -7.1348, -7.0427, -9.3235, -8.734, -9.1478, -8.7769, -8.868, -9.6707, -7.536, -7.0458, -8.9103, -7.0453, -8.8292, -7.065, -8.7886, -10.7868, -8.8691, -8.4996, -7.8143, -8.9039, -9.3424, -7.9169, -6.8679, -8.5653, -7.9791, -9.5001, -7.0923, -7.1084, -7.132, -6.2092, -5.9988, -7.173, -3.7048, -3.5576, -3.7705, -6.6334, -7.1909, -3.8922, -5.7214, -3.8356, -6.9986, -3.8942, -5.3771, -5.6507, -5.0998, -5.7633, -4.0129, -5.1419, -5.1419, -5.1421, -5.0963, -5.054, -5.7244, -5.1392, -5.3763, -5.2661, -5.5704, -5.145, -5.7624, -5.2383, -5.7534, -5.8634, -5.6084, -5.3377, -5.85, -5.4974, -5.6941, -5.6921, -7.3299, -7.8387, -9.0668, -9.0713, -9.0534, -9.1389, -8.0992, -8.1456, -8.8793, -7.4269, -8.2124, -8.2103, -9.476, -7.6233, -8.2966, -9.1687, -9.3743, -9.4885, -7.8613, -9.0722, -8.9954, -9.5, -8.216, -8.6897, -9.208, -9.3881, -8.2427, -9.0141, -9.5257, -9.4023, -7.3288, -7.0702, -7.3785, -6.7442, -6.6201, -8.113, -3.4177, -6.7014, -6.8017, -7.9736, -6.4358, -3.6773, -5.5401, -5.5047, -3.8935, -3.8423, -3.8585, -4.9461, -5.4436, -3.9084, -5.5159, -5.0066, -5.8756, -6.4072, -4.9946, -5.6771, -5.1272, -5.1272, -5.1274, -5.0193, -5.3635, -4.1667, -5.2304, -5.8354, -5.8035, -5.1169, -5.8305, -6.0385, -5.8423, -5.3989, -5.2492, -5.6453, -5.6523, -5.6751, -5.7391, -5.6996], \"loglift\": [30.0, 29.0, 28.0, 27.0, 26.0, 25.0, 24.0, 23.0, 22.0, 21.0, 20.0, 19.0, 18.0, 17.0, 16.0, 15.0, 14.0, 13.0, 12.0, 11.0, 10.0, 9.0, 8.0, 7.0, 6.0, 5.0, 4.0, 3.0, 2.0, 1.0, 0.9379, 0.8985, 0.8737, 0.846, 0.6329, 0.5978, 0.5861, 0.5655, 0.5649, 0.5566, 0.5482, 0.5474, 0.5447, 0.5362, 0.5326, 0.5294, 0.5271, 0.512, 0.504, 0.5007, 0.4998, 0.4963, 0.4923, 0.4913, 0.4853, 0.4846, 0.4842, 0.4815, 0.4811, 0.4718, 0.4524, 0.3921, 0.4665, 0.3354, 0.4556, 0.4339, 0.3766, 0.3425, 0.3409, 0.105, 0.2012, 0.2016, 0.164, 0.2948, 0.272, -0.0554, 0.3425, 0.1141, 0.016, 0.3425, 0.1697, 0.2405, 0.3425, -0.0155, 0.1684, 0.2828, -0.2363, -0.0641, -0.2548, -0.0667, -0.0667, -0.0667, -0.0832, -0.0536, -0.0564, 0.069, -0.032, 0.0329, -0.2299, -0.3685, -0.2124, 0.8976, 0.8885, 0.8566, 0.832, 0.8235, 0.8131, 0.7942, 0.7907, 0.7902, 0.7877, 0.7874, 0.7808, 0.7773, 0.7733, 0.7687, 0.7641, 0.7627, 0.7564, 0.7411, 0.741, 0.7345, 0.732, 0.728, 0.7258, 0.712, 0.712, 0.7113, 0.7057, 0.7051, 0.7005, 0.7003, 0.7, 0.6707, 0.677, 0.6242, 0.6608, 0.414, 0.5252, 0.5501, 0.5117, 0.6051, 0.3552, 0.6072, 0.4313, 0.1992, 0.3848, 0.2916, 0.3308, -0.0195, 0.3376, 0.3861, 0.274, 0.2709, 0.3861, 0.1277, 0.4842, 0.4131, 0.3967, -0.1309, 0.1998, 0.1939, 0.2233, -0.0108, -0.0724, -0.0411, -0.0411, -0.0411, -0.4637, -0.4866, -0.5281, -0.1401, -0.5678, -0.0926, -0.0382, -0.2195, -0.3345, -0.2837, -0.4478, -0.1349, 0.8846, 0.8445, 0.8022, 0.796, 0.7936, 0.7918, 0.7617, 0.7534, 0.7408, 0.7377, 0.7327, 0.7109, 0.7037, 0.7016, 0.687, 0.6769, 0.6695, 0.6668, 0.6612, 0.6586, 0.6485, 0.6478, 0.6469, 0.6462, 0.6443, 0.6433, 0.6413, 0.6356, 0.6356, 0.6352, 0.6191, 0.6288, 0.5864, 0.6032, 0.505, 0.5991, 0.5335, 0.4044, 0.4084, 0.5615, 0.2959, 0.3772, 0.4847, 0.3329, 0.0699, 0.2166, 0.3874, 0.1607, 0.3613, 0.1349, 0.2509, 0.192, 0.1745, -0.0672, -0.1282, 0.1052, 0.2599, -0.2844, -0.0628, -0.3383, -0.0307, -0.0307, -0.0307, -0.3965, -0.4241, -0.0415, -0.069, 0.0864, -0.0284, 0.0931, -0.1089, 0.0103, -0.5679, 0.9178, 0.881, 0.8373, 0.7678, 0.7633, 0.7593, 0.7583, 0.754, 0.7495, 0.7461, 0.7382, 0.7238, 0.7103, 0.7033, 0.703, 0.7016, 0.6763, 0.6692, 0.6396, 0.6345, 0.6191, 0.6188, 0.6054, 0.596, 0.5848, 0.5817, 0.5775, 0.574, 0.5728, 0.5646, 0.5587, 0.5346, 0.5339, 0.5503, 0.5034, 0.3859, 0.3847, 0.4337, 0.2156, 0.1911, 0.4086, 0.4358, 0.3099, 0.0708, 0.3023, 0.173, 0.3366, 0.3381, 0.1969, -0.0483, -0.0718, 0.1211, 0.3632, -0.1523, 0.4413, 0.4397, -0.1828, 0.1648, 0.0221, 0.0221, 0.0221, -0.0283, -0.0618, -0.1091, 0.0169, -0.1224, 0.0312, -0.1616, -0.089, -0.2088, 0.0648, -0.026, 0.0799, -0.2947, 1.0847, 1.0009, 0.9141, 0.878, 0.8689, 0.8537, 0.8496, 0.8273, 0.7838, 0.778, 0.7611, 0.7596, 0.7575, 0.7424, 0.7411, 0.7392, 0.7252, 0.7195, 0.6924, 0.6888, 0.6835, 0.6813, 0.6775, 0.676, 0.6713, 0.668, 0.6664, 0.6624, 0.6618, 0.6557, 0.6362, 0.6317, 0.5908, 0.548, 0.4536, 0.5536, 0.2066, 0.182, 0.1576, 0.4755, 0.5342, 0.1253, 0.3369, 0.0694, 0.5067, 0.0174, 0.2209, 0.2683, 0.1253, 0.2288, -0.1666, 0.0614, 0.0614, 0.0615, 0.0469, 0.0075, 0.2064, 0.0112, 0.0562, -0.0549, 0.0285, -0.197, 0.1203, -0.1749, 0.09, 0.0988, -0.1221, -0.3724, 0.0829, -0.4853, -0.3788, -0.6471, 1.0706, 0.9676, 0.9203, 0.9148, 0.8913, 0.8273, 0.8204, 0.778, 0.7593, 0.7317, 0.7044, 0.7033, 0.6894, 0.6883, 0.6869, 0.6833, 0.6778, 0.6773, 0.6676, 0.6642, 0.659, 0.6564, 0.6491, 0.6483, 0.6474, 0.643, 0.6421, 0.6402, 0.6379, 0.6277, 0.6082, 0.5949, 0.5997, 0.5581, 0.541, 0.5946, 0.3219, 0.5191, 0.5235, 0.5853, 0.4674, 0.2508, 0.3907, 0.3148, 0.124, 0.0693, 0.0528, 0.1971, 0.2496, -0.0034, 0.2557, 0.1438, 0.2823, 0.3762, 0.0668, 0.2155, 0.0762, 0.0762, 0.0762, 0.0441, 0.069, -0.3203, -0.0053, 0.1568, 0.1426, -0.1517, 0.1317, 0.2128, 0.0906, -0.1877, -0.3012, -0.0503, -0.0543, -0.1888, -0.1403, -0.6546]}, \"token.table\": {\"Topic\": [1, 2, 3, 4, 5, 6, 1, 2, 3, 4, 5, 6, 1, 2, 3, 4, 5, 6, 1, 2, 3, 4, 5, 6, 1, 2, 3, 4, 5, 6, 1, 2, 3, 4, 5, 6, 1, 2, 3, 4, 5, 6, 1, 2, 3, 4, 5, 6, 1, 2, 3, 4, 5, 6, 1, 2, 3, 4, 5, 6, 1, 2, 3, 4, 5, 6, 1, 2, 3, 4, 5, 6, 1, 2, 3, 4, 5, 6, 1, 2, 3, 4, 5, 6, 1, 2, 3, 4, 5, 6, 1, 2, 3, 4, 5, 6, 1, 2, 3, 4, 5, 6, 1, 2, 3, 4, 5, 6, 1, 2, 3, 4, 5, 6, 1, 2, 3, 4, 5, 6, 1, 2, 3, 4, 5, 6, 1, 2, 3, 4, 5, 6, 1, 2, 3, 4, 5, 6, 1, 2, 3, 4, 5, 6, 1, 2, 3, 4, 5, 6, 1, 2, 3, 4, 5, 6, 1, 2, 3, 4, 5, 6, 1, 2, 3, 4, 5, 6, 1, 2, 3, 4, 5, 6, 1, 2, 3, 4, 5, 6, 1, 2, 3, 4, 5, 6, 1, 2, 3, 4, 5, 6, 1, 2, 3, 4, 5, 6, 1, 2, 3, 4, 5, 6, 1, 2, 3, 4, 5, 6, 1, 2, 3, 4, 5, 6, 1, 2, 3, 4, 5, 6, 1, 2, 3, 4, 5, 6, 1, 2, 3, 4, 5, 6, 1, 2, 3, 4, 5, 6, 1, 2, 3, 4, 5, 6, 1, 2, 3, 4, 5, 6, 1, 2, 3, 4, 5, 6, 1, 2, 3, 4, 5, 6, 1, 2, 3, 4, 5, 6, 1, 2, 3, 4, 5, 6, 5, 1, 2, 3, 4, 5, 6, 1, 2, 3, 4, 5, 6, 1, 2, 3, 4, 5, 6, 1, 2, 3, 4, 5, 6, 1, 2, 3, 4, 5, 6, 1, 2, 3, 4, 5, 6, 1, 2, 3, 4, 5, 6, 1, 2, 3, 4, 5, 6, 1, 2, 3, 4, 5, 6, 1, 2, 3, 4, 5, 6, 1, 2, 3, 4, 5, 6, 1, 2, 3, 4, 5, 6, 1, 2, 3, 4, 5, 6, 1, 2, 3, 4, 5, 6, 1, 2, 3, 4, 5, 6, 1, 2, 3, 4, 5, 6, 1, 2, 3, 4, 5, 6, 1, 2, 3, 4, 5, 6, 1, 2, 3, 4, 5, 6, 1, 2, 3, 4, 5, 6, 1, 2, 3, 4, 5, 6, 1, 2, 3, 4, 5, 6, 1, 2, 3, 4, 5, 6, 1, 2, 3, 4, 5, 6, 1, 2, 3, 4, 5, 6, 1, 2, 3, 4, 5, 6, 1, 2, 3, 4, 5, 6, 1, 2, 3, 4, 5, 6, 1, 2, 3, 4, 5, 6, 1, 2, 3, 4, 5, 6, 1, 2, 3, 4, 5, 6, 1, 2, 3, 4, 5, 6, 1, 2, 3, 4, 5, 6, 1, 2, 3, 4, 5, 6, 1, 2, 3, 4, 5, 6, 1, 2, 3, 4, 5, 6, 1, 2, 3, 4, 5, 6, 1, 2, 3, 4, 5, 6, 1, 2, 3, 4, 5, 6, 1, 2, 3, 4, 5, 6, 1, 2, 3, 4, 5, 6, 1, 2, 3, 4, 5, 6, 1, 2, 3, 4, 5, 6, 1, 2, 3, 4, 5, 6, 1, 2, 3, 4, 5, 6, 1, 2, 3, 4, 5, 6, 1, 2, 3, 4, 5, 6, 1, 2, 3, 4, 5, 6, 1, 2, 3, 4, 5, 6, 1, 2, 3, 4, 5, 6, 1, 2, 3, 4, 5, 6, 1, 2, 3, 4, 5, 6, 1, 2, 3, 4, 5, 6, 1, 2, 3, 4, 5, 6, 1, 2, 3, 4, 5, 6, 1, 2, 3, 4, 5, 6, 1, 2, 3, 4, 5, 6, 1, 2, 3, 4, 5, 6, 1, 2, 3, 4, 5, 6, 1, 2, 3, 4, 5, 6, 1, 2, 3, 4, 5, 6, 1, 2, 3, 4, 5, 6, 1, 2, 3, 4, 5, 6, 1, 2, 3, 4, 5, 6, 1, 2, 3, 4, 5, 6, 1, 2, 3, 4, 5, 6, 1, 2, 3, 4, 5, 6, 1, 2, 3, 4, 5, 6, 1, 2, 3, 4, 5, 6, 1, 2, 3, 4, 5, 6, 1, 2, 3, 4, 5, 6, 1, 2, 3, 4, 5, 6, 1, 2, 3, 4, 5, 6, 1, 2, 3, 4, 5, 6, 1, 2, 3, 4, 5, 6, 1, 2, 3, 4, 5, 6, 1, 2, 3, 4, 5, 6, 1, 2, 3, 4, 5, 6, 1, 2, 3, 4, 5, 6, 1, 2, 3, 4, 5, 6, 1, 2, 3, 4, 5, 6, 1, 2, 3, 4, 5, 6, 1, 2, 3, 4, 5, 6, 1, 2, 3, 4, 5, 6, 1, 2, 3, 4, 5, 6, 1, 2, 3, 4, 5, 6, 1, 2, 3, 4, 5, 6, 1, 2, 3, 4, 5, 6, 1, 2, 3, 4, 5, 6, 1, 2, 3, 4, 5, 6, 1, 2, 3, 4, 5, 6, 1, 2, 3, 4, 5, 6, 1, 2, 3, 4, 5, 6, 1, 2, 3, 4, 5, 6, 1, 2, 3, 4, 5, 6, 1, 2, 3, 4, 5, 6, 1, 2, 3, 4, 5, 6, 1, 2, 3, 4, 5, 6, 1, 2, 3, 4, 5, 6, 1, 2, 3, 4, 5, 6, 1, 2, 3, 4, 5, 6, 1, 2, 3, 4, 5, 6, 1, 2, 3, 4, 5, 6, 1, 2, 3, 4, 5, 6, 1, 2, 3, 4, 5, 6, 1, 2, 3, 4, 5, 6, 1, 2, 3, 4, 5, 6, 1, 2, 3, 4, 5, 6, 1, 2, 3, 4, 5, 6, 1, 2, 3, 4, 5, 6, 1, 2, 3, 4, 5, 6, 1, 2, 3, 4, 5, 6, 1, 2, 3, 4, 5, 6, 1, 2, 3, 4, 5, 6, 1, 2, 3, 4, 5, 6, 1, 2, 3, 4, 5, 6, 1, 2, 3, 4, 5, 6, 1, 2, 3, 4, 5, 6, 1, 2, 3, 4, 5, 6, 1, 2, 3, 4, 5, 6, 1, 2, 3, 4, 5, 6, 1, 2, 3, 4, 5, 6, 1, 2, 3, 4, 5, 6, 1, 2, 3, 4, 5, 6, 1, 2, 3, 4, 5, 6, 1, 2, 3, 4, 5, 6, 1, 2, 3, 4, 5, 6, 1, 2, 3, 4, 5, 6, 1, 2, 3, 4, 5, 6, 1, 2, 3, 4, 5, 6, 1, 2, 3, 4, 5, 6, 1, 2, 3, 4, 5, 6, 1, 2, 3, 4, 5, 6, 1, 2, 3, 4, 5, 6, 1, 2, 3, 4, 5, 6, 1, 2, 3, 4, 5, 6, 2, 1, 2, 3, 4, 5, 6, 1, 2, 3, 4, 5, 6, 1, 2, 3, 4, 5, 6, 1, 2, 3, 4, 5, 6, 1, 2, 3, 4, 5, 6, 1, 2, 3, 4, 5, 6, 1, 2, 3, 4, 5, 6, 1, 2, 3, 4, 5, 6, 1, 2, 3, 4, 5, 6, 1, 2, 3, 4, 5, 6, 1, 2, 3, 4, 5, 6, 1, 2, 3, 4, 5, 6, 1, 2, 3, 4, 5, 6, 1, 2, 3, 4, 5, 6, 1, 2, 3, 4, 5, 6, 1, 2, 3, 4, 5, 6, 1, 2, 3, 4, 5, 6, 1, 2, 3, 4, 5, 6, 1, 2, 3, 4, 5, 6, 4, 1, 2, 3, 4, 5, 6, 1, 2, 3, 4, 5, 6, 1, 2, 3, 4, 5, 6, 1, 2, 3, 4, 5, 6, 1, 2, 3, 4, 5, 6, 1, 2, 3, 4, 5, 6, 1, 2, 3, 4, 5, 6, 1, 2, 3, 4, 5, 6, 1, 2, 3, 4, 5, 6, 1, 2, 3, 4, 5, 6, 1, 2, 3, 4, 5, 6, 1, 2, 3, 4, 5, 6, 3, 1, 2, 3, 4, 5, 6, 1, 2, 3, 4, 5, 6, 1, 2, 3, 4, 5, 6, 1, 2, 3, 4, 5, 6, 1, 2, 3, 4, 5, 6, 1, 2, 3, 4, 5, 6, 1, 2, 3, 4, 5, 6, 1, 2, 3, 4, 5, 6, 1, 2, 3, 4, 5, 6, 1, 2, 3, 4, 5, 6, 1, 2, 3, 4, 5, 6, 1, 2, 3, 4, 5, 6, 1, 2, 3, 4, 5, 6, 1, 2, 3, 4, 5, 6, 1, 2, 3, 4, 5, 6, 1, 2, 3, 4, 5, 6, 1, 2, 3, 4, 5, 6, 1, 2, 3, 4, 5, 6, 1, 2, 3, 4, 5, 6, 1, 2, 3, 4, 5, 6, 1, 2, 3, 4, 5, 6, 1, 2, 3, 4, 5, 6, 1, 2, 3, 4, 5, 6, 1, 2, 3, 4, 5, 6, 1, 2, 3, 4, 5, 6, 1, 2, 3, 4, 5, 6, 1, 2, 3, 4, 5, 6, 1, 2, 3, 4, 5, 6, 1, 2, 3, 4, 5, 6, 1, 2, 3, 4, 5, 6, 1, 2, 3, 4, 5, 6, 1, 2, 3, 4, 5, 6, 1, 2, 3, 4, 5, 6, 1, 2, 3, 4, 5, 6, 1, 2, 3, 4, 5, 6, 1, 2, 3, 4, 5, 6, 1, 2, 3, 4, 5, 6, 1, 2, 3, 4, 5, 6, 1, 2, 3, 4, 5, 6, 1, 2, 3, 4, 5, 6, 1, 2, 3, 4, 5, 6, 1, 2, 3, 4, 5, 6, 1, 2, 3, 4, 5, 6, 1, 2, 3, 4, 5, 6, 1, 2, 3, 4, 5, 6, 1, 2, 3, 4, 5, 6, 1, 2, 3, 4, 5, 6, 1, 2, 3, 4, 5, 6, 1, 2, 3, 4, 5, 6, 1, 2, 3, 4, 5, 6, 1, 2, 3, 4, 5, 6, 1, 2, 3, 4, 5, 6, 1, 2, 3, 4, 5, 6, 1, 2, 3, 4, 5, 6, 1, 2, 3, 4, 5, 6, 1, 2, 3, 4, 5, 6, 1, 2, 3, 4, 5, 6, 1, 2, 3, 4, 5, 6, 1, 2, 3, 4, 5, 6, 1, 2, 3, 4, 5, 6, 1, 2, 3, 4, 5, 6, 1, 2, 3, 4, 5, 6, 1, 2, 3, 4, 5, 6, 1, 2, 3, 4, 5, 6, 1, 2, 3, 4, 5, 6, 1, 2, 3, 4, 5, 6, 1, 2, 3, 4, 5, 6, 1, 2, 3, 4, 5, 6, 1, 2, 3, 4, 5, 6, 1, 2, 3, 4, 5, 6, 1, 2, 3, 4, 5, 6, 1, 2, 3, 4, 5, 6, 1, 2, 3, 4, 5, 6, 1, 2, 3, 4, 5, 6, 1, 2, 1, 2, 3, 4, 5, 6, 1, 2, 3, 4, 5, 6, 1, 2, 3, 4, 5, 6, 1, 2, 3, 4, 5, 6, 1, 2, 3, 4, 5, 6, 1, 2, 3, 4, 5, 6], \"Freq\": [0.36764314302585643, 0.12254771434195215, 0.12254771434195215, 0.12254771434195215, 0.12254771434195215, 0.12254771434195215, 0.21762060737297778, 0.43524121474595556, 0.10881030368648889, 0.10881030368648889, 0.10881030368648889, 0.10881030368648889, 0.15986306512486412, 0.12195738988907161, 0.16645535647021936, 0.2126013958877059, 0.16810342930655817, 0.17139957497923577, 0.15010645691796265, 0.20014194255728354, 0.32523065665558576, 0.12508871409830222, 0.12508871409830222, 0.12508871409830222, 0.15386163079801388, 0.15386163079801388, 0.30772326159602775, 0.07693081539900694, 0.15386163079801388, 0.15386163079801388, 0.10877679760417529, 0.36258932534725097, 0.10877679760417529, 0.14503573013890037, 0.18129466267362548, 0.10877679760417529, 0.14454593209851258, 0.14856109687902683, 0.17265208556211226, 0.22484922770879734, 0.14454593209851258, 0.168636920781598, 0.17455579929880694, 0.08727789964940347, 0.17455579929880694, 0.08727789964940347, 0.34911159859761387, 0.08727789964940347, 0.24101206919688953, 0.14460724151813373, 0.09640482767875581, 0.14460724151813373, 0.04820241383937791, 0.28921448303626746, 0.09045426901713823, 0.09045426901713823, 0.3618170760685529, 0.18090853803427645, 0.09045426901713823, 0.18090853803427645, 0.24762209452988662, 0.13169710123086328, 0.18216784661275098, 0.11592499329902337, 0.17270458185364704, 0.14983502535247917, 0.19784158650207728, 0.13189439100138486, 0.13189439100138486, 0.13189439100138486, 0.3297359775034622, 0.13189439100138486, 0.17152307112674603, 0.12567036894434858, 0.16982482289776835, 0.16642832643981298, 0.19190204987447823, 0.17661781581367908, 0.19117284536588625, 0.1678827525294331, 0.1601193882506154, 0.15817854718091096, 0.1610898087854676, 0.1620602293203198, 0.224838251129952, 0.1075688277218083, 0.1075688277218083, 0.1881915563149071, 0.178275391835542, 0.19379634493367867, 0.18949504743025908, 0.18949504743025908, 0.09474752371512954, 0.09474752371512954, 0.28424257114538864, 0.18949504743025908, 0.17433201119580902, 0.1286055820296952, 0.15575564934707528, 0.18290571666445538, 0.15146879661275212, 0.20719788215895335, 0.10289222580753203, 0.13963944931022204, 0.36012279032636213, 0.16168778341183607, 0.12494055990914604, 0.10289222580753203, 0.09868466529734081, 0.09868466529734081, 0.39473866118936324, 0.09868466529734081, 0.09868466529734081, 0.09868466529734081, 0.13841303553261045, 0.3598738923847872, 0.13841303553261045, 0.11073042842608835, 0.16609564263913254, 0.08304782131956627, 0.12508202504842494, 0.1347037192829192, 0.18281219045539032, 0.18281219045539032, 0.2694074385658384, 0.1058386365794365, 0.28345613117990737, 0.14502406711530144, 0.11865605491251936, 0.18457608541947457, 0.12854405948856265, 0.13513606253925817, 0.3270283181326948, 0.10900943937756492, 0.1635141590663474, 0.10900943937756492, 0.1635141590663474, 0.10900943937756492, 0.13109400990790587, 0.3932820297237177, 0.19664101486185884, 0.13109400990790587, 0.06554700495395294, 0.13109400990790587, 0.16172493793963927, 0.16172493793963927, 0.16172493793963927, 0.32344987587927854, 0.10781662529309284, 0.10781662529309284, 0.11483794028335446, 0.10439812753032224, 0.18791662955458005, 0.30275456983793453, 0.14615737854245114, 0.14615737854245114, 0.18245109605847679, 0.09122554802923839, 0.36490219211695357, 0.18245109605847679, 0.09122554802923839, 0.09122554802923839, 0.09629462020995833, 0.19258924041991665, 0.19258924041991665, 0.09629462020995833, 0.19258924041991665, 0.288883860629875, 0.10828635970105194, 0.3609545323368398, 0.10828635970105194, 0.10828635970105194, 0.1804772661684199, 0.10828635970105194, 0.2084035787940598, 0.14259192233277776, 0.2851838446655555, 0.10968609410213674, 0.09871748469192307, 0.14259192233277776, 0.16656527946445338, 0.09993916767867202, 0.29981750303601606, 0.19987833535734403, 0.09993916767867202, 0.09993916767867202, 0.1441373035532908, 0.1441373035532908, 0.09609153570219386, 0.3363203749576785, 0.1441373035532908, 0.09609153570219386, 0.2704503808977736, 0.13787666477141403, 0.17499730528679472, 0.13787666477141403, 0.1431796134164684, 0.13787666477141403, 0.1402147891581555, 0.24956890701834375, 0.19321463769162095, 0.13216417925433796, 0.12813887430242918, 0.1576577772830935, 0.14363229103184202, 0.14363229103184202, 0.14363229103184202, 0.3351420124076314, 0.14363229103184202, 0.09575486068789468, 0.19964881540540436, 0.1325668134291885, 0.12617805133621554, 0.1325668134291885, 0.18687129121945847, 0.22360667325405287, 0.2184052598817163, 0.10920262994085815, 0.2184052598817163, 0.10920262994085815, 0.32760788982257444, 0.10920262994085815, 0.18981292791332527, 0.12654195194221685, 0.15817743992777106, 0.12654195194221685, 0.09490646395666263, 0.3163548798555421, 0.1668413922540018, 0.1668413922540018, 0.3336827845080036, 0.1668413922540018, 0.0834206961270009, 0.0834206961270009, 0.31683823519994353, 0.13861672789997528, 0.11881433819997882, 0.15841911759997176, 0.15841911759997176, 0.11881433819997882, 0.47139180351728704, 0.10760030297677205, 0.10076853770840556, 0.1383432466844212, 0.1041844203425888, 0.07685735926912289, 0.3116612048170457, 0.14544189558128798, 0.1662193092357577, 0.14544189558128798, 0.12466448192681827, 0.12466448192681827, 0.20131433547159683, 0.10065716773579841, 0.10065716773579841, 0.30197150320739524, 0.10065716773579841, 0.10065716773579841, 0.15839596324665864, 0.3167919264933173, 0.14172270395753667, 0.09170292609017078, 0.15005933360209764, 0.1333860743129757, 0.3217015233134659, 0.17322389716878933, 0.22271643921701484, 0.09898508409645104, 0.12373135512056381, 0.07423881307233829, 0.16591407609871803, 0.2115785007130441, 0.17961340348301585, 0.13699327384297819, 0.17200266604729483, 0.13242683138154557, 0.40870589113944356, 0.14837602472740935, 0.22887791048376974, 0.11207125271963898, 0.1515329614237372, 0.1988870118686551, 0.15942530316455686, 0.16690870230841295, 0.21770700301097343, 0.12699575175640115, 0.13062420180658404, 0.21407855296079054, 0.1451380020073156, 0.1087927438525173, 0.362642479508391, 0.1087927438525173, 0.1450569918033564, 0.1813212397541955, 0.1087927438525173, 0.3267384938898968, 0.10891283129663226, 0.1633692469449484, 0.1633692469449484, 0.1633692469449484, 0.10891283129663226, 0.3875907310574243, 0.12919691035247477, 0.12919691035247477, 0.12919691035247477, 0.12919691035247477, 0.12919691035247477, 0.1661235418017027, 0.1661235418017027, 0.08306177090085134, 0.3322470836034054, 0.08306177090085134, 0.1661235418017027, 0.16472183396780868, 0.1098145559785391, 0.16472183396780868, 0.3843509459248869, 0.1098145559785391, 0.1098145559785391, 0.1663081399742778, 0.13304651197942224, 0.29935465195370003, 0.19956976796913334, 0.06652325598971112, 0.09978488398456667, 0.1539631743800155, 0.12830264531667956, 0.23094476157002322, 0.12830264531667956, 0.10264211625334366, 0.28226581969669506, 0.16805109995113884, 0.09602919997207933, 0.16805109995113884, 0.144043799958119, 0.288087599916238, 0.12003649996509917, 0.2294315723689228, 0.15295438157928187, 0.12746198464940156, 0.28041636622868343, 0.10196958771952125, 0.12746198464940156, 0.3512979109842021, 0.17564895549210105, 0.17564895549210105, 0.08782447774605052, 0.08782447774605052, 0.17564895549210105, 0.351828012751618, 0.175914006375809, 0.175914006375809, 0.0879570031879045, 0.0879570031879045, 0.175914006375809, 0.1623637301788006, 0.1623637301788006, 0.1623637301788006, 0.3247274603576012, 0.1623637301788006, 0.1623637301788006, 0.15861158388081312, 0.12688926710465048, 0.15861158388081312, 0.09516695032848788, 0.09516695032848788, 0.34894548453778884, 0.2953240740873774, 0.13423821549426243, 0.14497727273380343, 0.15034680135357392, 0.11812962963495095, 0.15571632997334442, 0.2731318832462115, 0.15962252916986386, 0.1383395252805487, 0.10996218676146177, 0.17026403111452146, 0.1489810272252063, 0.19280479149829052, 0.09640239574914526, 0.19280479149829052, 0.09640239574914526, 0.19280479149829052, 0.28920718724743577, 0.11549116835426551, 0.17323675253139825, 0.3464735050627965, 0.17323675253139825, 0.11549116835426551, 0.057745584177132755, 0.2398716013494518, 0.14084204115931115, 0.15404598251799656, 0.12323678601439725, 0.15404598251799656, 0.18705583591471012, 0.3212918767841879, 0.18359535816239309, 0.1376965186217948, 0.1376965186217948, 0.09179767908119654, 0.1376965186217948, 0.1322665590423605, 0.1983998385635408, 0.1322665590423605, 0.06613327952118025, 0.1322665590423605, 0.264533118084721, 0.14952847853567286, 0.34889978324990334, 0.09968565235711524, 0.09968565235711524, 0.14952847853567286, 0.09968565235711524, 0.12500613554349824, 0.3281411058016829, 0.14063190248643553, 0.18750920331524737, 0.12500613554349824, 0.10938036860056097, 0.090441444595931, 0.090441444595931, 0.361765778383724, 0.180882889191862, 0.090441444595931, 0.180882889191862, 0.14325741297864436, 0.12279206826740946, 0.10232672355617456, 0.14325741297864436, 0.3172128430241411, 0.1637227576898793, 0.12489180888639573, 0.17292711999654792, 0.1441059333304566, 0.17292711999654792, 0.2593906799948219, 0.11528474666436528, 0.08602329071383923, 0.17204658142767845, 0.3440931628553569, 0.17204658142767845, 0.08602329071383923, 0.08602329071383923, 0.14229758746186189, 0.3794602332316317, 0.14229758746186189, 0.1185813228848849, 0.1185813228848849, 0.09486505830790792, 0.31498404865984414, 0.21551540171463018, 0.11604675476941625, 0.09946864694521393, 0.16578107824202323, 0.09946864694521393, 0.2880757337060188, 0.15203997056706547, 0.16804417799517762, 0.16004207428112155, 0.12803365942489725, 0.11202945199678509, 0.19107192766679776, 0.10864874318308108, 0.21729748636616217, 0.12363477672557502, 0.13862081026806897, 0.22104399475178566, 0.16952665402874514, 0.12647226570398448, 0.14530856059606728, 0.16414485548815005, 0.23949003505648125, 0.15069035913666234, 0.36524603765516056, 0.18262301882758028, 0.09131150941379014, 0.18262301882758028, 0.09131150941379014, 0.09131150941379014, 0.13754569757756038, 0.13754569757756038, 0.3667885268734944, 0.13754569757756038, 0.13754569757756038, 0.0916971317183736, 0.10427687119412143, 0.41710748477648574, 0.10427687119412143, 0.10427687119412143, 0.15641530679118215, 0.10427687119412143, 0.08967071668270717, 0.08967071668270717, 0.11529092144919492, 0.1409111262156827, 0.40992327626380415, 0.15372122859892656, 0.13497031138583648, 0.14461104791339624, 0.13497031138583648, 0.20245546707875473, 0.2892220958267925, 0.09640736527559748, 0.16242006532145428, 0.1044128991352206, 0.23782938136355805, 0.09861218251659724, 0.1392171988469608, 0.25523153121942815, 0.10879281877815422, 0.3626427292605141, 0.10879281877815422, 0.14505709170420564, 0.14505709170420564, 0.14505709170420564, 0.15642879579838728, 0.18638324605765294, 0.3062010470947156, 0.11316125653500357, 0.14977225129632826, 0.08986335077779696, 0.11708565842250591, 0.11708565842250591, 0.3512569752675177, 0.11708565842250591, 0.11708565842250591, 0.11708565842250591, 0.20982210004154375, 0.10491105002077188, 0.3147331500623156, 0.10491105002077188, 0.10491105002077188, 0.10491105002077188, 0.1323790480121758, 0.3392213105312004, 0.12410535751141478, 0.09101059550837085, 0.1820211910167417, 0.1323790480121758, 0.1454801632565015, 0.2840326996912649, 0.18011829736519236, 0.1454801632565015, 0.16626304372171602, 0.07620389503911984, 0.12052580470192302, 0.12052580470192302, 0.12052580470192302, 0.12052580470192302, 0.3615774141057691, 0.12052580470192302, 0.21821212490334735, 0.32731818735502105, 0.10910606245167367, 0.10910606245167367, 0.10910606245167367, 0.10910606245167367, 0.28307485214198225, 0.11004932454059085, 0.12361995415638626, 0.1668763360567341, 0.15500203514291314, 0.16157530886306404, 0.2400147842844432, 0.16728303147097556, 0.15031228914783312, 0.1600098561896288, 0.14303911386648635, 0.14061472210603743, 0.19952427446672566, 0.3990485489334513, 0.09976213723336283, 0.09976213723336283, 0.14964320585004423, 0.09976213723336283, 0.12898837242192318, 0.19348255863288477, 0.12898837242192318, 0.12898837242192318, 0.32247093105480795, 0.06449418621096159, 0.12251376823443702, 0.36754130470331103, 0.12251376823443702, 0.16335169097924934, 0.12251376823443702, 0.08167584548962467, 0.19840885433890787, 0.2587941578333581, 0.17684267451946137, 0.12077060698890045, 0.11214413506112185, 0.12939707891667904, 0.33804941361661833, 0.13919681737154874, 0.13919681737154874, 0.13919681737154874, 0.11931155774704176, 0.13919681737154874, 0.12014904334637884, 0.18022356501956827, 0.12014904334637884, 0.12014904334637884, 0.15018630418297355, 0.3003726083659471, 0.17921417073573828, 0.17921417073573828, 0.17921417073573828, 0.11947611382382552, 0.2986902845595638, 0.11947611382382552, 0.17074789069756052, 0.39841174496097453, 0.113831927131707, 0.113831927131707, 0.17074789069756052, 0.113831927131707, 0.16842053860141926, 0.14436046165835936, 0.14436046165835936, 0.2887209233167187, 0.12030038471529947, 0.16842053860141926, 0.1060180218270177, 0.2120360436540354, 0.1060180218270177, 0.3180540654810531, 0.1060180218270177, 0.1060180218270177, 0.1914964837601468, 0.2645988759009497, 0.1762006027959027, 0.12951836868424865, 0.12892242527005732, 0.10945494040647394, 0.16907527211852494, 0.16907527211852494, 0.10144516327111495, 0.10144516327111495, 0.10144516327111495, 0.30433548981334485, 0.1623474258887981, 0.1623474258887981, 0.10823161725919873, 0.3246948517775962, 0.10823161725919873, 0.1623474258887981, 0.15554641708347727, 0.09332785025008636, 0.17628593936127424, 0.321462595305853, 0.13480689480568028, 0.11406737252788332, 0.19398249256986655, 0.18418539698552985, 0.16067236758312178, 0.20965784550480526, 0.1547941102325198, 0.09405211760963227, 0.1438375811694819, 0.257247981706958, 0.12447482985820549, 0.2185224790844052, 0.13553925917893486, 0.12170872252802314, 0.09122352285300882, 0.11402940356626101, 0.12543234392288713, 0.12543234392288713, 0.3534911510554091, 0.18244704570601764, 0.1621755701880602, 0.37840966377214047, 0.21623409358408027, 0.05405852339602007, 0.10811704679204014, 0.10811704679204014, 0.1356920958690914, 0.1356920958690914, 0.1356920958690914, 0.18657663182000067, 0.3222687276890921, 0.0678460479345457, 0.1365429988850034, 0.1365429988850034, 0.15604914158286104, 0.11703685618714577, 0.28283906911893564, 0.16580221293178984, 0.1958083129498722, 0.15916582163761542, 0.19924354651039627, 0.11336270749729443, 0.19008292368233207, 0.14313473168850308, 0.263960693578648, 0.14664482976591553, 0.1613093127425071, 0.0953191393478451, 0.17230767497495075, 0.1576431919983592, 0.3343435340536339, 0.22289568936908924, 0.11144784468454462, 0.11144784468454462, 0.11144784468454462, 0.11144784468454462, 0.11030057577931088, 0.11030057577931088, 0.22060115155862176, 0.22060115155862176, 0.11030057577931088, 0.33090172733793266, 0.17624619720206178, 0.16365718311620023, 0.1447736619874079, 0.16365718311620023, 0.08182859155810011, 0.26436929580309265, 0.1891875646311059, 0.14013893676378214, 0.2662639798511861, 0.14013893676378214, 0.12612504308740394, 0.13313198992559305, 0.38259073950162165, 0.12753024650054054, 0.12753024650054054, 0.12753024650054054, 0.12753024650054054, 0.12753024650054054, 0.1318370890453008, 0.19775563356795123, 0.329592722613252, 0.0659185445226504, 0.19775563356795123, 0.1318370890453008, 0.10876620305376711, 0.3625540101792237, 0.10876620305376711, 0.18127700508961184, 0.10876620305376711, 0.10876620305376711, 0.1169593928111688, 0.389864642703896, 0.1559458570815584, 0.1169593928111688, 0.1559458570815584, 0.0779729285407792, 0.21732443527619952, 0.1329895797958833, 0.1427205246589967, 0.16866971096063246, 0.165426062672928, 0.17353518339218918, 0.2477330208031312, 0.1484114871170832, 0.14726986029310563, 0.18951005278027547, 0.12443732381355438, 0.14384497982117295, 0.15677152922638837, 0.15347107597951706, 0.15347107597951706, 0.19284076828148225, 0.17256655547927263, 0.17068058219534615, 0.14622648146119188, 0.15392261206441252, 0.31554135473204564, 0.12313808965153, 0.10004969784186814, 0.16931487327085376, 0.1748229769861845, 0.14984826598815812, 0.29969653197631624, 0.12487355499013177, 0.09989884399210541, 0.14984826598815812, 0.2185384887521329, 0.10926924437606644, 0.10926924437606644, 0.2185384887521329, 0.10926924437606644, 0.32780773312819933, 0.11073780464312394, 0.3691260154770798, 0.14765040619083192, 0.11073780464312394, 0.09843360412722128, 0.17225880722263726, 0.16410260088931644, 0.3829060687417384, 0.10940173392621097, 0.054700866963105485, 0.10940173392621097, 0.10940173392621097, 0.11110990616845197, 0.11110990616845197, 0.11110990616845197, 0.11110990616845197, 0.3333297185053559, 0.11110990616845197, 0.2187045879460197, 0.1458030586306798, 0.1458030586306798, 0.2916061172613596, 0.1458030586306798, 0.0729015293153399, 0.19009186755635496, 0.21340502112458717, 0.2205782991455817, 0.13928114824097707, 0.124934592198988, 0.11178358249383137, 0.21539362671910253, 0.14359575114606837, 0.07179787557303419, 0.14359575114606837, 0.07179787557303419, 0.28719150229213675, 0.20069510801513912, 0.40139021603027825, 0.10034755400756956, 0.10034755400756956, 0.10034755400756956, 0.20069510801513912, 0.17026420770062622, 0.16418334313988958, 0.18850680138283618, 0.21891112418651942, 0.11553642665399637, 0.1429003171773113, 0.20033924177993864, 0.2580126598681028, 0.1426658236917745, 0.18212658343630786, 0.1183822792336001, 0.10016962088996932, 0.30798941242012756, 0.18479364745207652, 0.12319576496805101, 0.18479364745207652, 0.12319576496805101, 0.12319576496805101, 0.35058311088889926, 0.21911444430556204, 0.17529155544444963, 0.08764577772222482, 0.13146866658333722, 0.08764577772222482, 0.14554166122737047, 0.22177776948932645, 0.1732638824135363, 0.24256943537895082, 0.12474999533774613, 0.09702777415158031, 0.14369537254297485, 0.14369537254297485, 0.14369537254297485, 0.14369537254297485, 0.2873907450859497, 0.14369537254297485, 0.15023951337079883, 0.15023951337079883, 0.12877672574639898, 0.17170230099519865, 0.10731393812199916, 0.30047902674159765, 0.163697698830126, 0.109131799220084, 0.163697698830126, 0.327395397660252, 0.109131799220084, 0.109131799220084, 0.16173932101840569, 0.16173932101840569, 0.16173932101840569, 0.08086966050920284, 0.16173932101840569, 0.32347864203681137, 0.1916021663010453, 0.19850674887045233, 0.2718679386704021, 0.14240701549402016, 0.10443181136228144, 0.09062264622346736, 0.22127379928070665, 0.21179063645439064, 0.2370790706579, 0.08218741116140532, 0.12960322529298532, 0.12012006246666933, 0.22668242935602445, 0.15867770054921712, 0.17882724982530818, 0.15112161957068296, 0.09067297174240978, 0.19393941178237648, 0.1274066755328006, 0.15925834441600076, 0.15925834441600076, 0.1274066755328006, 0.09555500664960045, 0.3185166888320015, 0.18885596561848197, 0.23046829702594412, 0.12003557136767923, 0.13123889136199596, 0.16484885134494615, 0.16484885134494615, 0.18677576462364626, 0.15457304658508655, 0.10948924133110298, 0.18677576462364626, 0.10948924133110298, 0.2576217443084776, 0.08964014003210749, 0.07683440574180642, 0.10244587432240855, 0.10244587432240855, 0.4482007001605374, 0.17928028006421498, 0.14273907428378382, 0.14273907428378382, 0.10195648163127416, 0.1835216669362935, 0.31606509305694985, 0.11215212979440156, 0.3555047187893649, 0.1185015729297883, 0.15800209723971775, 0.03950052430992944, 0.1185015729297883, 0.15800209723971775, 0.18835250767578388, 0.1255683384505226, 0.1255683384505226, 0.3139208461263065, 0.1255683384505226, 0.1255683384505226, 0.3638823906215147, 0.18194119531075734, 0.09097059765537867, 0.18194119531075734, 0.18194119531075734, 0.09097059765537867, 0.34848957940357317, 0.13939583176142928, 0.13939583176142928, 0.13939583176142928, 0.13939583176142928, 0.13939583176142928, 0.170170175747739, 0.30434281431807164, 0.10472010815245476, 0.13090013519056845, 0.13090013519056845, 0.15708016222868212, 0.17012739417912978, 0.3969639197513028, 0.11341826278608652, 0.05670913139304326, 0.17012739417912978, 0.11341826278608652, 0.48436386624558403, 0.10098045268017476, 0.10098045268017476, 0.13863418079820602, 0.09926891958390062, 0.07530745623606254, 0.1642882286372109, 0.34171951556539865, 0.12485905376428028, 0.1281448183370245, 0.11828752461879184, 0.11828752461879184, 0.16478840391827052, 0.1235913029387029, 0.20598550489783815, 0.1235913029387029, 0.2883797068569734, 0.1235913029387029, 0.16545090646414157, 0.16545090646414157, 0.10340681654008849, 0.10340681654008849, 0.31022044962026546, 0.16545090646414157, 0.14438111061421455, 0.23427878326080095, 0.1661744858012658, 0.12394982137635399, 0.1362085949190703, 0.19477829073427055, 0.10576409708946698, 0.10576409708946698, 0.4230563883578679, 0.10576409708946698, 0.10576409708946698, 0.10576409708946698, 0.16610894495094394, 0.2680394338981141, 0.13968252189056649, 0.1283569120075476, 0.14723292847924577, 0.1510081317735854, 0.08894710689738801, 0.10165383645415774, 0.13977402512446688, 0.08894710689738801, 0.3812018867030915, 0.19060094335154576, 0.16294131414055754, 0.1341869645863415, 0.14377174777108018, 0.17252609732529622, 0.27795871235742164, 0.10543261503212546, 0.15548117104414075, 0.16161858569062, 0.23935917121269035, 0.14116053686902252, 0.17389341498357846, 0.12888570757606405, 0.2583872710216083, 0.16339195079307584, 0.17099157641135845, 0.09499532022853246, 0.16339195079307584, 0.14819269955651065, 0.2880757337060188, 0.15203997056706547, 0.16804417799517762, 0.16004207428112155, 0.12803365942489725, 0.11202945199678509, 0.13173860290337175, 0.19760790435505762, 0.3293465072584294, 0.06586930145168587, 0.19760790435505762, 0.06586930145168587, 0.2995402012494626, 0.0989987784738139, 0.11044617469990801, 0.14457637455918862, 0.18718612717853894, 0.15899161425130712, 0.1711314039878924, 0.32611833590145534, 0.1469146958763982, 0.1436858014615323, 0.09848127965340978, 0.11301130452030629, 0.13228154842690343, 0.19842232264035514, 0.13228154842690343, 0.13228154842690343, 0.13228154842690343, 0.26456309685380686, 0.14436862102192516, 0.14436862102192516, 0.14436862102192516, 0.33686011571782537, 0.14436862102192516, 0.0962457473479501, 0.2846533792839447, 0.17739268564071917, 0.1237623388191064, 0.11963692752513617, 0.14851480658292768, 0.14851480658292768, 0.19405815054987735, 0.1698008817311427, 0.13584070538491413, 0.24257268818734667, 0.13584070538491413, 0.12613779785742027, 0.14372213432430284, 0.14372213432430284, 0.3593053358107571, 0.14372213432430284, 0.14372213432430284, 0.07186106716215142, 0.15617073935826212, 0.36439839183594497, 0.10411382623884141, 0.15617073935826212, 0.10411382623884141, 0.10411382623884141, 0.37540278271069544, 0.2042852393633563, 0.13619015957557087, 0.11349179964630905, 0.09079343971704724, 0.2950786790804035, 0.13619015957557087, 0.17123920116677827, 0.157540065073436, 0.15069049702676487, 0.26713315382017405, 0.16438963312010713, 0.09589395265339583, 0.09190717774387906, 0.21445008140238447, 0.09190717774387906, 0.12254290365850541, 0.18381435548775812, 0.2757215332316372, 0.18452765927850465, 0.29601312009260117, 0.12494060263648751, 0.10956329769661213, 0.1403179075763629, 0.14416223381133175, 0.17978264857785567, 0.10986717413091181, 0.12984302397289577, 0.23971019810380756, 0.14316025720088507, 0.19975849841983964, 0.3573137635896462, 0.1471291967722073, 0.12611074009046339, 0.12611074009046339, 0.1471291967722073, 0.12611074009046339, 0.186020097237912, 0.1402417139332696, 0.20418612235880182, 0.1264355348413933, 0.15986102106383063, 0.1838401742234052, 0.18904677125015376, 0.1674414259644219, 0.15895361174502726, 0.15895361174502726, 0.16204008964298894, 0.16281170911747936, 0.20320581530395218, 0.1754959313988678, 0.12469447757287976, 0.258625583114121, 0.1154578496045183, 0.12469447757287976, 0.1639886690523944, 0.2022526918312864, 0.13665722421032866, 0.10385949039984978, 0.13119093524191552, 0.2569155815154179, 0.1778449155194377, 0.11856327701295848, 0.1778449155194377, 0.08892245775971885, 0.11856327701295848, 0.311228602159016, 0.3400313991442007, 0.15693756883578494, 0.18309383030841578, 0.1046250458905233, 0.13078130736315413, 0.07846878441789247, 0.18999917464841024, 0.13062443257078202, 0.13062443257078202, 0.14249938098630768, 0.1187494841552564, 0.2731238135570897, 0.13044536981211624, 0.19566805471817436, 0.32611342453029063, 0.06522268490605812, 0.19566805471817436, 0.13044536981211624, 0.08843029124131957, 0.17686058248263914, 0.08843029124131957, 0.08843029124131957, 0.08843029124131957, 0.3537211649652783, 0.19690992979737595, 0.09845496489868798, 0.09845496489868798, 0.09845496489868798, 0.09845496489868798, 0.2953648946960639, 0.22035743941097974, 0.15149573959504858, 0.13772339963186234, 0.2410159493557591, 0.1239510596686761, 0.13083722965026923, 0.08839559231872589, 0.12627941759817984, 0.12627941759817984, 0.1389073593579978, 0.3662103110347215, 0.1515353011178158, 0.13020835690996693, 0.13020835690996693, 0.19531253536495038, 0.13020835690996693, 0.06510417845498347, 0.3255208922749173, 0.3405876115304, 0.1325385535329571, 0.17331964692771312, 0.08156218678951206, 0.15292910023033512, 0.3160534738093593, 0.14273382688164613, 0.15878164358428673, 0.15878164358428673, 0.1349643970466437, 0.12702531486742938, 0.2937460406309304, 0.11908623268821504, 0.18904677125015376, 0.1674414259644219, 0.15895361174502726, 0.15895361174502726, 0.16204008964298894, 0.16281170911747936, 0.11343617368960077, 0.11343617368960077, 0.11343617368960077, 0.3403085210688023, 0.11343617368960077, 0.11343617368960077, 0.19039926932797474, 0.2913108820718014, 0.12375952506318359, 0.1561274008489393, 0.11804754698334434, 0.11804754698334434, 0.31807765256448695, 0.1030066040424067, 0.11711998332838063, 0.14808515877671147, 0.1632517753228327, 0.15040228074903556, 0.18832039644773615, 0.11770024777983511, 0.2421262240042322, 0.1345145688912401, 0.1277888404466781, 0.18832039644773615, 0.2880757337060188, 0.15203997056706547, 0.16804417799517762, 0.16004207428112155, 0.12803365942489725, 0.11202945199678509, 0.3539755720647108, 0.13614445079411955, 0.08168667047647173, 0.08168667047647173, 0.13614445079411955, 0.19060223111176736, 0.19389510035012494, 0.11079720020007139, 0.3046923005501963, 0.13849650025008925, 0.13849650025008925, 0.11079720020007139, 0.19019127558305576, 0.19019127558305576, 0.1426434566872918, 0.2852869133745836, 0.09509563779152788, 0.1426434566872918, 0.12574080834164522, 0.18861121251246782, 0.31435202085411307, 0.12574080834164522, 0.18861121251246782, 0.06287040417082261, 0.4003300906550276, 0.1620344811434338, 0.13502873428619483, 0.17823792925777718, 0.28626091668673304, 0.13502873428619483, 0.09722068868606028, 0.12750283874809137, 0.2644503322182636, 0.18417076708057642, 0.08500189249872758, 0.16528145763641475, 0.17472611235849558, 0.12951408375506918, 0.12951408375506918, 0.12951408375506918, 0.12951408375506918, 0.3021995287618281, 0.1726854450067589, 0.20556170665720233, 0.16238158484459475, 0.24630914555078978, 0.15082634097924905, 0.10521353624762131, 0.12954036543782277, 0.15562856334490055, 0.18156665723571733, 0.1504409445667372, 0.15562856334490055, 0.24381808257367754, 0.11412761311959374, 0.2556096106529471, 0.12307129401808561, 0.1136042714013098, 0.26507663326972286, 0.13253831663486143, 0.12307129401808561, 0.3258260577041146, 0.1629130288520573, 0.10860868590137153, 0.19006520032740018, 0.10860868590137153, 0.10860868590137153, 0.5168857171971801, 0.11153514242849139, 0.09305217596891281, 0.13766623294030936, 0.09368951963993277, 0.04716343165547636, 0.11325083421383059, 0.15100111228510743, 0.09437569517819215, 0.11325083421383059, 0.09437569517819215, 0.43412819781968387, 0.16276075028959142, 0.16276075028959142, 0.34360602838913745, 0.10850716685972762, 0.14467622247963682, 0.07233811123981841, 0.18419020033750472, 0.12279346689166981, 0.061396733445834906, 0.12279346689166981, 0.30698366722917453, 0.18419020033750472, 0.1380172217400224, 0.1380172217400224, 0.36804592464005975, 0.09201148116001494, 0.09201148116001494, 0.1380172217400224, 0.36586055069224394, 0.12195351689741464, 0.18293027534612197, 0.12195351689741464, 0.12195351689741464, 0.12195351689741464, 0.1795520446519928, 0.11970136310132853, 0.11970136310132853, 0.11970136310132853, 0.2992534077533213, 0.11970136310132853, 0.17960006178287696, 0.08980003089143848, 0.2694000926743154, 0.17960006178287696, 0.08980003089143848, 0.08980003089143848, 0.1441659406750157, 0.1441659406750157, 0.09611062711667713, 0.33638719490837, 0.1441659406750157, 0.1441659406750157, 0.11137864625258255, 0.1980064822268134, 0.13612945653093422, 0.14850486167011007, 0.12375405139175838, 0.27225891306186845, 0.12405219329928092, 0.3721565798978428, 0.16540292439904125, 0.08270146219952063, 0.12405219329928092, 0.08270146219952063, 0.36199976585739424, 0.1447999063429577, 0.1447999063429577, 0.168933224066784, 0.09653327089530513, 0.09653327089530513, 0.3296914194765117, 0.11774693552732561, 0.11774693552732561, 0.23549387105465122, 0.0941975484218605, 0.0941975484218605, 0.1467539138117839, 0.34242579889416247, 0.09783594254118927, 0.09783594254118927, 0.09783594254118927, 0.1467539138117839, 0.10857792274362615, 0.17191504434407473, 0.1447705636581682, 0.1538187238868037, 0.1447705636581682, 0.27144480685906536, 0.09216091130972519, 0.09216091130972519, 0.09216091130972519, 0.18432182261945038, 0.09216091130972519, 0.36864364523890075, 0.11123091947762083, 0.11123091947762083, 0.16684637921643125, 0.11123091947762083, 0.27807729869405207, 0.16684637921643125, 0.21455740076902255, 0.37547545134578947, 0.16091805057676692, 0.05363935019225564, 0.05363935019225564, 0.10727870038451127, 0.20736075163710346, 0.10368037581855173, 0.20736075163710346, 0.3110411274556552, 0.10368037581855173, 0.10368037581855173, 0.18069417019488446, 0.18069417019488446, 0.09034708509744223, 0.18069417019488446, 0.09034708509744223, 0.3613883403897689, 0.1632215131758442, 0.3808501974103032, 0.10881434211722948, 0.1632215131758442, 0.10881434211722948, 0.10881434211722948, 0.33022172714456466, 0.08255543178614116, 0.16511086357228233, 0.08255543178614116, 0.08255543178614116, 0.16511086357228233, 0.09226030444605285, 0.1845206088921057, 0.09226030444605285, 0.1845206088921057, 0.09226030444605285, 0.3690412177842114, 0.1309396992022346, 0.14964537051683957, 0.29554960677075814, 0.1271985649393136, 0.1646099075685235, 0.1309396992022346, 0.20927794136429492, 0.21366838768662277, 0.13317687177727858, 0.12439597913262285, 0.1668369602484589, 0.15220213917403266, 0.1743799524146785, 0.2024410941825578, 0.11024019980238295, 0.14832317791593344, 0.16435811606900733, 0.20043672691342354, 0.22666222401146446, 0.2559089625935889, 0.14257785058785669, 0.11333111200573223, 0.14623369291062224, 0.11333111200573223, 0.1326917035403603, 0.09951877765527023, 0.19903755531054046, 0.2819698700232656, 0.1326917035403603, 0.14927816648290534, 0.23876346234904636, 0.1594348852819365, 0.15787942298650298, 0.17576723938398853, 0.14388026232760123, 0.1252147147823989, 0.15979008929704058, 0.17139495611749606, 0.1444359578115149, 0.133545236641549, 0.18264275011270673, 0.20799492070508635, 0.1558576700019453, 0.1489815963253889, 0.2475386523560308, 0.1604417191196496, 0.15700368228137138, 0.13064539985457183, 0.19181707486591093, 0.12787804991060728, 0.3196951247765182, 0.12787804991060728, 0.12787804991060728, 0.12787804991060728, 0.13835158242678128, 0.15833569988842747, 0.21060185324965594, 0.16602189891213753, 0.1398888222315233, 0.18754325617852574, 0.1890924121908239, 0.16748185079758687, 0.15899198739310091, 0.15899198739310091, 0.16207921044927762, 0.1628510162133218, 0.19330780915766207, 0.13998151697623804, 0.12331705066954304, 0.23330252829373008, 0.14331441023757704, 0.16331176980561105, 0.1544677339615799, 0.24457391210583482, 0.1887938970641532, 0.12014157085900658, 0.11370541527727408, 0.18021235628850987, 0.17039077792192303, 0.19310954831151275, 0.29534401506466657, 0.10223446675315381, 0.09087508155835894, 0.14767200753233328, 0.15230788119598962, 0.17406614993827385, 0.30461576239197924, 0.10879134371142116, 0.10879134371142116, 0.1305496124537054, 0.1435874950541716, 0.35896873763542897, 0.10769062129062869, 0.1435874950541716, 0.1435874950541716, 0.10769062129062869, 0.21765354280565172, 0.10882677140282586, 0.16324015710423878, 0.32648031420847756, 0.10882677140282586, 0.10882677140282586, 0.1787231758993115, 0.15174609274469844, 0.22930520681421096, 0.15680429583618838, 0.1483739573503718, 0.1365714834702286, 0.16100395207185864, 0.17271333040435743, 0.1529537544682657, 0.18442270873685626, 0.15368559061404688, 0.1741770026959198, 0.13270921422989884, 0.13270921422989884, 0.19906382134484826, 0.13270921422989884, 0.13270921422989884, 0.2654184284597977, 0.14916756542941523, 0.4475026962882457, 0.09944504361961015, 0.09944504361961015, 0.14916756542941523, 0.09944504361961015, 0.14162322225010676, 0.11329857780008541, 0.14162322225010676, 0.11329857780008541, 0.11329857780008541, 0.3965450223002989, 0.15544510193307273, 0.12090174594794546, 0.1727167799256364, 0.1727167799256364, 0.06908671197025455, 0.29361852587358184, 0.33394639390928826, 0.12514756379243544, 0.15412910488120998, 0.22855897176829, 0.07969923799412994, 0.07838189521736746, 0.198801701001502, 0.397603402003004, 0.099400850500751, 0.099400850500751, 0.14910127575112647, 0.099400850500751, 0.1578206794223157, 0.2104275725630876, 0.1578206794223157, 0.2630344657038595, 0.1052137862815438, 0.1052137862815438, 0.19953845755605062, 0.1519974156551124, 0.18815539118540345, 0.1459710864000639, 0.15333659993401208, 0.16137170560741007, 0.4974617204520804, 0.09411437954498819, 0.09075315170409574, 0.13444911363569742, 0.10587867698811171, 0.07730824034052601, 0.18918903123181585, 0.15765752602651323, 0.15765752602651323, 0.12612602082121058, 0.09459451561590793, 0.31531505205302646, 0.20210524044630657, 0.06736841348210218, 0.20210524044630657, 0.40421048089261313, 0.13473682696420436, 0.06736841348210218, 0.1532722937384562, 0.1642203147197745, 0.1970643776637294, 0.1350255921029257, 0.2627525035516392, 0.0839348275234403, 0.11566739715718863, 0.1619343560200641, 0.17735667564102256, 0.1465120363991056, 0.254468273745815, 0.1465120363991056, 0.14985658482582895, 0.13112451172260034, 0.3090792062032722, 0.1123924386193717, 0.1779546944806719, 0.12175847517098602, 0.130402816648204, 0.10866901387350333, 0.17387042219760535, 0.28253943607110865, 0.15213661942290466, 0.15213661942290466, 0.14991521824014487, 0.37478804560036216, 0.14991521824014487, 0.14991521824014487, 0.14991521824014487, 0.07495760912007243, 0.21678830096967894, 0.10839415048483947, 0.1625912257272592, 0.27098537621209867, 0.10839415048483947, 0.1625912257272592, 0.15394880107074962, 0.07697440053537481, 0.23092320160612442, 0.30789760214149925, 0.15394880107074962, 0.07697440053537481, 0.13860928731915484, 0.17059604593126748, 0.2985430803797181, 0.12794703444845063, 0.13860928731915484, 0.12794703444845063, 0.19972921049976933, 0.1953872711410787, 0.2778841189562008, 0.11723236268464722, 0.1042065446085753, 0.10854848396726594, 0.1197568392673544, 0.1796352589010316, 0.1197568392673544, 0.1197568392673544, 0.3592705178020632, 0.1197568392673544, 0.16119004256079142, 0.16119004256079142, 0.16119004256079142, 0.16119004256079142, 0.08059502128039571, 0.32238008512158284, 0.17737598875761054, 0.21538512920566993, 0.12669713482686468, 0.12247389699930251, 0.1140274213441782, 0.24072455617104288, 0.17026370339514144, 0.2432338619930592, 0.21282962924392682, 0.152021163745662, 0.1216169309965296, 0.09932049364716584, 0.14402643899684614, 0.14402643899684614, 0.09601762599789741, 0.33606169099264094, 0.09601762599789741, 0.14402643899684614, 0.25654015892047516, 0.5130803178409503, 0.16383776137184644, 0.152573915277532, 0.1955813276376417, 0.22834887991201097, 0.13516615313177333, 0.12492629304603291, 0.08886394548849981, 0.10155879484399978, 0.1396433429104997, 0.11425364419949975, 0.3681506313094992, 0.1904227403324996, 0.18758913823196538, 0.1250594254879769, 0.15632428185997113, 0.28138370734794804, 0.1250594254879769, 0.1250594254879769, 0.1549063142985387, 0.34267154375131287, 0.1549063142985387, 0.12674152988062257, 0.13143566061694192, 0.08449435325374838, 0.22012313447514636, 0.11006156723757318, 0.11006156723757318, 0.22012313447514636, 0.11006156723757318, 0.3301847017127196, 0.11025199508747323, 0.11025199508747323, 0.22050399017494646, 0.22050399017494646, 0.11025199508747323, 0.33075598526241967], \"Term\": [\"aberdeen\", \"aberdeen\", \"aberdeen\", \"aberdeen\", \"aberdeen\", \"aberdeen\", \"ad_scda\", \"ad_scda\", \"ad_scda\", \"ad_scda\", \"ad_scda\", \"ad_scda\", \"adventure\", \"adventure\", \"adventure\", \"adventure\", \"adventure\", \"adventure\", \"airports\", \"airports\", \"airports\", \"airports\", \"airports\", \"airports\", \"architecture_art\", \"architecture_art\", \"architecture_art\", \"architecture_art\", \"architecture_art\", \"architecture_art\", \"atmosfera_invernale\", \"atmosfera_invernale\", \"atmosfera_invernale\", \"atmosfera_invernale\", \"atmosfera_invernale\", \"atmosfera_invernale\", \"australia\", \"australia\", \"australia\", \"australia\", \"australia\", \"australia\", \"avanza\", \"avanza\", \"avanza\", \"avanza\", \"avanza\", \"avanza\", \"avisa\", \"avisa\", \"avisa\", \"avisa\", \"avisa\", \"avisa\", \"bay_mydayinla\", \"bay_mydayinla\", \"bay_mydayinla\", \"bay_mydayinla\", \"bay_mydayinla\", \"bay_mydayinla\", \"beach\", \"beach\", \"beach\", \"beach\", \"beach\", \"beach\", \"beaten\", \"beaten\", \"beaten\", \"beaten\", \"beaten\", \"beaten\", \"beautiful\", \"beautiful\", \"beautiful\", \"beautiful\", \"beautiful\", \"beautiful\", \"beautiful_israel\", \"beautiful_israel\", \"beautiful_israel\", \"beautiful_israel\", \"beautiful_israel\", \"beautiful_israel\", \"bed_breakfasts\", \"bed_breakfasts\", \"bed_breakfasts\", \"bed_breakfasts\", \"bed_breakfasts\", \"bed_breakfasts\", \"beginner\", \"beginner\", \"beginner\", \"beginner\", \"beginner\", \"beginner\", \"best\", \"best\", \"best\", \"best\", \"best\", \"best\", \"big\", \"big\", \"big\", \"big\", \"big\", \"big\", \"birth\", \"birth\", \"birth\", \"birth\", \"birth\", \"birth\", \"blogging\", \"blogging\", \"blogging\", \"blogging\", \"blogging\", \"blogging\", \"blossoming_nature\", \"blossoming_nature\", \"blossoming_nature\", \"blossoming_nature\", \"blossoming_nature\", \"blossoming_nature\", \"book\", \"book\", \"book\", \"book\", \"book\", \"book\", \"books_deosailandofthegiant\", \"books_deosailandofthegiant\", \"books_deosailandofthegiant\", \"books_deosailandofthegiant\", \"books_deosailandofthegiant\", \"books_deosailandofthegiant\", \"bowl\", \"bowl\", \"bowl\", \"bowl\", \"bowl\", \"bowl\", \"bright\", \"bright\", \"bright\", \"bright\", \"bright\", \"bright\", \"bundle_check\", \"bundle_check\", \"bundle_check\", \"bundle_check\", \"bundle_check\", \"bundle_check\", \"california_b\", \"california_b\", \"california_b\", \"california_b\", \"california_b\", \"california_b\", \"cannes\", \"cannes\", \"cannes\", \"cannes\", \"cannes\", \"cannes\", \"cascate_di\", \"cascate_di\", \"cascate_di\", \"cascate_di\", \"cascate_di\", \"cascate_di\", \"celebrate\", \"celebrate\", \"celebrate\", \"celebrate\", \"celebrate\", \"celebrate\", \"change_lives\", \"change_lives\", \"change_lives\", \"change_lives\", \"change_lives\", \"change_lives\", \"childanddog_laurieshanholtzer\", \"childanddog_laurieshanholtzer\", \"childanddog_laurieshanholtzer\", \"childanddog_laurieshanholtzer\", \"childanddog_laurieshanholtzer\", \"childanddog_laurieshanholtzer\", \"china\", \"china\", \"china\", \"china\", \"china\", \"china\", \"christmas\", \"christmas\", \"christmas\", \"christmas\", \"christmas\", \"christmas\", \"christmas_sled\", \"christmas_sled\", \"christmas_sled\", \"christmas_sled\", \"christmas_sled\", \"christmas_sled\", \"city\", \"city\", \"city\", \"city\", \"city\", \"city\", \"citynomads\", \"citynomads\", \"citynomads\", \"citynomads\", \"citynomads\", \"citynomads\", \"coast_experience\", \"coast_experience\", \"coast_experience\", \"coast_experience\", \"coast_experience\", \"coast_experience\", \"comfy\", \"comfy\", \"comfy\", \"comfy\", \"comfy\", \"comfy\", \"community\", \"community\", \"community\", \"community\", \"community\", \"community\", \"condo\", \"condo\", \"condo\", \"condo\", \"condo\", \"condo\", \"create\", \"create\", \"create\", \"create\", \"create\", \"create\", \"curry\", \"curry\", \"curry\", \"curry\", \"curry\", \"curry\", \"cute\", \"cute\", \"cute\", \"cute\", \"cute\", \"cute\", \"daily_stories\", \"daily_stories\", \"daily_stories\", \"daily_stories\", \"daily_stories\", \"daily_stories\", \"daily_thanks\", \"daily_thanks\", \"daily_thanks\", \"daily_thanks\", \"daily_thanks\", \"daily_thanks\", \"damselfish\", \"day\", \"day\", \"day\", \"day\", \"day\", \"day\", \"de\", \"de\", \"de\", \"de\", \"de\", \"de\", \"del_caglieron\", \"del_caglieron\", \"del_caglieron\", \"del_caglieron\", \"del_caglieron\", \"del_caglieron\", \"deosai_expanse\", \"deosai_expanse\", \"deosai_expanse\", \"deosai_expanse\", \"deosai_expanse\", \"deosai_expanse\", \"devon\", \"devon\", \"devon\", \"devon\", \"devon\", \"devon\", \"dove\", \"dove\", \"dove\", \"dove\", \"dove\", \"dove\", \"download_goodies\", \"download_goodies\", \"download_goodies\", \"download_goodies\", \"download_goodies\", \"download_goodies\", \"drea\", \"drea\", \"drea\", \"drea\", \"drea\", \"drea\", \"drive\", \"drive\", \"drive\", \"drive\", \"drive\", \"drive\", \"east_africa\", \"east_africa\", \"east_africa\", \"east_africa\", \"east_africa\", \"east_africa\", \"egg\", \"egg\", \"egg\", \"egg\", \"egg\", \"egg\", \"emails\", \"emails\", \"emails\", \"emails\", \"emails\", \"emails\", \"engaged\", \"engaged\", \"engaged\", \"engaged\", \"engaged\", \"engaged\", \"europa\", \"europa\", \"europa\", \"europa\", \"europa\", \"europa\", \"exclusive_amalfi\", \"exclusive_amalfi\", \"exclusive_amalfi\", \"exclusive_amalfi\", \"exclusive_amalfi\", \"exclusive_amalfi\", \"experience\", \"experience\", \"experience\", \"experience\", \"experience\", \"experience\", \"explore\", \"explore\", \"explore\", \"explore\", \"explore\", \"explore\", \"explorecanada\", \"explorecanada\", \"explorecanada\", \"explorecanada\", \"explorecanada\", \"explorecanada\", \"extra\", \"extra\", \"extra\", \"extra\", \"extra\", \"extra\", \"familytravel\", \"familytravel\", \"familytravel\", \"familytravel\", \"familytravel\", \"familytravel\", \"festivals\", \"festivals\", \"festivals\", \"festivals\", \"festivals\", \"festivals\", \"final\", \"final\", \"final\", \"final\", \"final\", \"final\", \"find_ad\", \"find_ad\", \"find_ad\", \"find_ad\", \"find_ad\", \"find_ad\", \"finland\", \"finland\", \"finland\", \"finland\", \"finland\", \"finland\", \"fireball_sunset\", \"fireball_sunset\", \"fireball_sunset\", \"fireball_sunset\", \"fireball_sunset\", \"fireball_sunset\", \"fish_fishtank\", \"fish_fishtank\", \"fish_fishtank\", \"fish_fishtank\", \"fish_fishtank\", \"fish_fishtank\", \"flower_soul\", \"flower_soul\", \"flower_soul\", \"flower_soul\", \"flower_soul\", \"flower_soul\", \"fog\", \"fog\", \"fog\", \"fog\", \"fog\", \"fog\", \"forget\", \"forget\", \"forget\", \"forget\", \"forget\", \"forget\", \"fort\", \"fort\", \"fort\", \"fort\", \"fort\", \"fort\", \"found_mission\", \"found_mission\", \"found_mission\", \"found_mission\", \"found_mission\", \"found_mission\", \"france\", \"france\", \"france\", \"france\", \"france\", \"france\", \"free\", \"free\", \"free\", \"free\", \"free\", \"free\", \"fried\", \"fried\", \"fried\", \"fried\", \"fried\", \"fried\", \"fujifilm\", \"fujifilm\", \"fujifilm\", \"fujifilm\", \"fujifilm\", \"fujifilm\", \"funny\", \"funny\", \"funny\", \"funny\", \"funny\", \"funny\", \"george_moore\", \"george_moore\", \"george_moore\", \"george_moore\", \"george_moore\", \"george_moore\", \"gerard_de\", \"gerard_de\", \"gerard_de\", \"gerard_de\", \"gerard_de\", \"gerard_de\", \"germany\", \"germany\", \"germany\", \"germany\", \"germany\", \"germany\", \"ghiaccio_e\", \"ghiaccio_e\", \"ghiaccio_e\", \"ghiaccio_e\", \"ghiaccio_e\", \"ghiaccio_e\", \"gift\", \"gift\", \"gift\", \"gift\", \"gift\", \"gift\", \"glitter\", \"glitter\", \"glitter\", \"glitter\", \"glitter\", \"glitter\", \"globetrotting\", \"globetrotting\", \"globetrotting\", \"globetrotting\", \"globetrotting\", \"globetrotting\", \"going\", \"going\", \"going\", \"going\", \"going\", \"going\", \"good\", \"good\", \"good\", \"good\", \"good\", \"good\", \"great_giftidea\", \"great_giftidea\", \"great_giftidea\", \"great_giftidea\", \"great_giftidea\", \"great_giftidea\", \"great_tire\", \"great_tire\", \"great_tire\", \"great_tire\", \"great_tire\", \"great_tire\", \"guest_room\", \"guest_room\", \"guest_room\", \"guest_room\", \"guest_room\", \"guest_room\", \"guide\", \"guide\", \"guide\", \"guide\", \"guide\", \"guide\", \"guides_help\", \"guides_help\", \"guides_help\", \"guides_help\", \"guides_help\", \"guides_help\", \"hacer\", \"hacer\", \"hacer\", \"hacer\", \"hacer\", \"hacer\", \"hand\", \"hand\", \"hand\", \"hand\", \"hand\", \"hand\", \"happy\", \"happy\", \"happy\", \"happy\", \"happy\", \"happy\", \"harbour\", \"harbour\", \"harbour\", \"harbour\", \"harbour\", \"harbour\", \"hdr\", \"hdr\", \"hdr\", \"hdr\", \"hdr\", \"hdr\", \"heely_skateshoes\", \"heely_skateshoes\", \"heely_skateshoes\", \"heely_skateshoes\", \"heely_skateshoes\", \"heely_skateshoes\", \"himeji\", \"himeji\", \"himeji\", \"himeji\", \"himeji\", \"himeji\", \"historical\", \"historical\", \"historical\", \"historical\", \"historical\", \"historical\", \"hk\", \"hk\", \"hk\", \"hk\", \"hk\", \"hk\", \"holiday\", \"holiday\", \"holiday\", \"holiday\", \"holiday\", \"holiday\", \"holiday_baking\", \"holiday_baking\", \"holiday_baking\", \"holiday_baking\", \"holiday_baking\", \"holiday_baking\", \"holiday_graphics\", \"holiday_graphics\", \"holiday_graphics\", \"holiday_graphics\", \"holiday_graphics\", \"holiday_graphics\", \"holiday_lip\", \"holiday_lip\", \"holiday_lip\", \"holiday_lip\", \"holiday_lip\", \"holiday_lip\", \"holiday_season\", \"holiday_season\", \"holiday_season\", \"holiday_season\", \"holiday_season\", \"holiday_season\", \"holidays\", \"holidays\", \"holidays\", \"holidays\", \"holidays\", \"holidays\", \"home_find\", \"home_find\", \"home_find\", \"home_find\", \"home_find\", \"home_find\", \"home_fitness\", \"home_fitness\", \"home_fitness\", \"home_fitness\", \"home_fitness\", \"home_fitness\", \"hong_kong\", \"hong_kong\", \"hong_kong\", \"hong_kong\", \"hong_kong\", \"hong_kong\", \"hongkong\", \"hongkong\", \"hongkong\", \"hongkong\", \"hongkong\", \"hongkong\", \"hotel\", \"hotel\", \"hotel\", \"hotel\", \"hotel\", \"hotel\", \"hotels\", \"hotels\", \"hotels\", \"hotels\", \"hotels\", \"hotels\", \"icecream\", \"icecream\", \"icecream\", \"icecream\", \"icecream\", \"icecream\", \"icelagoon\", \"icelagoon\", \"icelagoon\", \"icelagoon\", \"icelagoon\", \"icelagoon\", \"iceland\", \"iceland\", \"iceland\", \"iceland\", \"iceland\", \"iceland\", \"images_paris\", \"images_paris\", \"images_paris\", \"images_paris\", \"images_paris\", \"images_paris\", \"inbox\", \"inbox\", \"inbox\", \"inbox\", \"inbox\", \"inbox\", \"innovate\", \"innovate\", \"innovate\", \"innovate\", \"innovate\", \"innovate\", \"italiavostra\", \"italiavostra\", \"italiavostra\", \"italiavostra\", \"italiavostra\", \"italiavostra\", \"janeiro\", \"janeiro\", \"janeiro\", \"janeiro\", \"janeiro\", \"janeiro\", \"japan\", \"japan\", \"japan\", \"japan\", \"japan\", \"japan\", \"japan_japantravel\", \"japan_japantravel\", \"japan_japantravel\", \"japan_japantravel\", \"japan_japantravel\", \"japan_japantravel\", \"jerusalem\", \"jerusalem\", \"jerusalem\", \"jerusalem\", \"jerusalem\", \"jerusalem\", \"job\", \"job\", \"job\", \"job\", \"job\", \"job\", \"join_interactive\", \"join_interactive\", \"join_interactive\", \"join_interactive\", \"join_interactive\", \"join_interactive\", \"jokulsarlon\", \"jokulsarlon\", \"jokulsarlon\", \"jokulsarlon\", \"jokulsarlon\", \"jokulsarlon\", \"kerala\", \"kerala\", \"kerala\", \"kerala\", \"kerala\", \"kerala\", \"kitty\", \"kitty\", \"kitty\", \"kitty\", \"kitty\", \"kitty\", \"lads\", \"lads\", \"lads\", \"lads\", \"lads\", \"lads\", \"las_vegas\", \"las_vegas\", \"las_vegas\", \"las_vegas\", \"las_vegas\", \"las_vegas\", \"latest\", \"latest\", \"latest\", \"latest\", \"latest\", \"latest\", \"lawyer\", \"lawyer\", \"lawyer\", \"lawyer\", \"lawyer\", \"lawyer\", \"leicester\", \"leicester\", \"leicester\", \"leicester\", \"leicester\", \"leicester\", \"life\", \"life\", \"life\", \"life\", \"life\", \"life\", \"like\", \"like\", \"like\", \"like\", \"like\", \"like\", \"likeforlike\", \"likeforlike\", \"likeforlike\", \"likeforlike\", \"likeforlike\", \"likeforlike\", \"links\", \"links\", \"links\", \"links\", \"links\", \"links\", \"live\", \"live\", \"live\", \"live\", \"live\", \"live\", \"los\", \"los\", \"los\", \"los\", \"los\", \"los\", \"lot\", \"lot\", \"lot\", \"lot\", \"lot\", \"lot\", \"lots_free\", \"lots_free\", \"lots_free\", \"lots_free\", \"lots_free\", \"lots_free\", \"louvre\", \"louvre\", \"louvre\", \"louvre\", \"louvre\", \"louvre\", \"love\", \"love\", \"love\", \"love\", \"love\", \"love\", \"loyalty\", \"loyalty\", \"loyalty\", \"loyalty\", \"loyalty\", \"loyalty\", \"lp\", \"lp\", \"lp\", \"lp\", \"lp\", \"lp\", \"lunch_winelover\", \"lunch_winelover\", \"lunch_winelover\", \"lunch_winelover\", \"lunch_winelover\", \"lunch_winelover\", \"luxury\", \"luxury\", \"luxury\", \"luxury\", \"luxury\", \"luxury\", \"magnificent\", \"magnificent\", \"magnificent\", \"magnificent\", \"magnificent\", \"magnificent\", \"man_travels\", \"man_travels\", \"man_travels\", \"man_travels\", \"man_travels\", \"man_travels\", \"marinelife_ocean\", \"marinelife_ocean\", \"marinelife_ocean\", \"marinelife_ocean\", \"marinelife_ocean\", \"marinelife_ocean\", \"matters\", \"matters\", \"matters\", \"matters\", \"matters\", \"matters\", \"memorable\", \"memorable\", \"memorable\", \"memorable\", \"memorable\", \"memorable\", \"mendoan\", \"mendoan\", \"mendoan\", \"mendoan\", \"mendoan\", \"mendoan\", \"michelin\", \"michelin\", \"michelin\", \"michelin\", \"michelin\", \"michelin\", \"mid_century\", \"mid_century\", \"mid_century\", \"mid_century\", \"mid_century\", \"mid_century\", \"miki\", \"miki\", \"miki\", \"miki\", \"miki\", \"miki\", \"mission_beach\", \"mission_beach\", \"mission_beach\", \"mission_beach\", \"mission_beach\", \"mission_beach\", \"modern_houses\", \"modern_houses\", \"modern_houses\", \"modern_houses\", \"modern_houses\", \"modern_houses\", \"mundo\", \"mundo\", \"mundo\", \"mundo\", \"mundo\", \"mundo\", \"natural\", \"natural\", \"natural\", \"natural\", \"natural\", \"natural\", \"nature\", \"nature\", \"nature\", \"nature\", \"nature\", \"nature\", \"naturecuts\", \"naturecuts\", \"naturecuts\", \"naturecuts\", \"naturecuts\", \"naturecuts\", \"need\", \"need\", \"need\", \"need\", \"need\", \"need\", \"needs_returns\", \"needs_returns\", \"needs_returns\", \"needs_returns\", \"needs_returns\", \"needs_returns\", \"nerval\", \"nerval\", \"nerval\", \"nerval\", \"nerval\", \"nerval\", \"new\", \"new\", \"new\", \"new\", \"new\", \"new\", \"news\", \"news\", \"news\", \"news\", \"news\", \"news\", \"nice_vacation\", \"nice_vacation\", \"nice_vacation\", \"nice_vacation\", \"nice_vacation\", \"nice_vacation\", \"organisations\", \"organisations\", \"organisations\", \"organisations\", \"organisations\", \"organisations\", \"owl_house\", \"owl_house\", \"owl_house\", \"owl_house\", \"owl_house\", \"owl_house\", \"palm_springs\", \"palm_springs\", \"palm_springs\", \"palm_springs\", \"palm_springs\", \"palm_springs\", \"pantai\", \"pantai\", \"pantai\", \"pantai\", \"pantai\", \"pantai\", \"paper_print\", \"paper_print\", \"paper_print\", \"paper_print\", \"paper_print\", \"paper_print\", \"paradise\", \"paradise\", \"paradise\", \"paradise\", \"paradise\", \"paradise\", \"paris\", \"paris\", \"paris\", \"paris\", \"paris\", \"paris\", \"parrot\", \"parrot\", \"parrot\", \"parrot\", \"parrot\", \"parrot\", \"path\", \"path\", \"path\", \"path\", \"path\", \"path\", \"pc\", \"penginapan_carihotel\", \"penginapan_carihotel\", \"penginapan_carihotel\", \"penginapan_carihotel\", \"penginapan_carihotel\", \"penginapan_carihotel\", \"people\", \"people\", \"people\", \"people\", \"people\", \"people\", \"phone\", \"phone\", \"phone\", \"phone\", \"phone\", \"phone\", \"photo\", \"photo\", \"photo\", \"photo\", \"photo\", \"photo\", \"photo_popular\", \"photo_popular\", \"photo_popular\", \"photo_popular\", \"photo_popular\", \"photo_popular\", \"photog\", \"photog\", \"photog\", \"photog\", \"photog\", \"photog\", \"photography\", \"photography\", \"photography\", \"photography\", \"photography\", \"photography\", \"photography_helena\", \"photography_helena\", \"photography_helena\", \"photography_helena\", \"photography_helena\", \"photography_helena\", \"photos\", \"photos\", \"photos\", \"photos\", \"photos\", \"photos\", \"places_world\", \"places_world\", \"places_world\", \"places_world\", \"places_world\", \"places_world\", \"plans_sorted\", \"plans_sorted\", \"plans_sorted\", \"plans_sorted\", \"plans_sorted\", \"plans_sorted\", \"posted_travelleisure\", \"posted_travelleisure\", \"posted_travelleisure\", \"posted_travelleisure\", \"posted_travelleisure\", \"posted_travelleisure\", \"posted_trips\", \"posted_trips\", \"posted_trips\", \"posted_trips\", \"posted_trips\", \"posted_trips\", \"programs\", \"programs\", \"programs\", \"programs\", \"programs\", \"programs\", \"pura\", \"pura\", \"pura\", \"pura\", \"pura\", \"pura\", \"quebecoriginal\", \"quebecoriginal\", \"quebecoriginal\", \"quebecoriginal\", \"quebecoriginal\", \"quebecoriginal\", \"quote\", \"quote\", \"quote\", \"quote\", \"quote\", \"quote\", \"quoteoftheday\", \"quoteoftheday\", \"quoteoftheday\", \"quoteoftheday\", \"quoteoftheday\", \"quoteoftheday\", \"rabbit\", \"rabbit\", \"rabbit\", \"rabbit\", \"rabbit\", \"rabbit\", \"recent\", \"reef_coral\", \"reef_coral\", \"reef_coral\", \"reef_coral\", \"reef_coral\", \"reef_coral\", \"reeftank_reefcandy\", \"reeftank_reefcandy\", \"reeftank_reefcandy\", \"reeftank_reefcandy\", \"reeftank_reefcandy\", \"reeftank_reefcandy\", \"reet_ennet\", \"reet_ennet\", \"reet_ennet\", \"reet_ennet\", \"reet_ennet\", \"reet_ennet\", \"religion\", \"religion\", \"religion\", \"religion\", \"religion\", \"religion\", \"rent\", \"rent\", \"rent\", \"rent\", \"rent\", \"rent\", \"rent_hightown\", \"rent_hightown\", \"rent_hightown\", \"rent_hightown\", \"rent_hightown\", \"rent_hightown\", \"rent_seattle\", \"rent_seattle\", \"rent_seattle\", \"rent_seattle\", \"rent_seattle\", \"rent_seattle\", \"rental_condo\", \"rental_condo\", \"rental_condo\", \"rental_condo\", \"rental_condo\", \"rental_condo\", \"resort_hollywood\", \"resort_hollywood\", \"resort_hollywood\", \"resort_hollywood\", \"resort_hollywood\", \"resort_hollywood\", \"rewards\", \"rewards\", \"rewards\", \"rewards\", \"rewards\", \"rewards\", \"ride_art\", \"ride_art\", \"ride_art\", \"ride_art\", \"ride_art\", \"ride_art\", \"risk\", \"risk\", \"risk\", \"risk\", \"risk\", \"risk\", \"roads\", \"romance\", \"romance\", \"romance\", \"romance\", \"romance\", \"romance\", \"rome\", \"rome\", \"rome\", \"rome\", \"rome\", \"rome\", \"rooftop\", \"rooftop\", \"rooftop\", \"rooftop\", \"rooftop\", \"rooftop\", \"rt\", \"rt\", \"rt\", \"rt\", \"rt\", \"rt\", \"rt_viajes\", \"rt_viajes\", \"rt_viajes\", \"rt_viajes\", \"rt_viajes\", \"rt_viajes\", \"saint_petersburg\", \"saint_petersburg\", \"saint_petersburg\", \"saint_petersburg\", \"saint_petersburg\", \"saint_petersburg\", \"salad\", \"salad\", \"salad\", \"salad\", \"salad\", \"salad\", \"san_diego\", \"san_diego\", \"san_diego\", \"san_diego\", \"san_diego\", \"san_diego\", \"santorini\", \"santorini\", \"santorini\", \"santorini\", \"santorini\", \"santorini\", \"service\", \"service\", \"service\", \"service\", \"service\", \"service\", \"sheer\", \"sheer\", \"sheer\", \"sheer\", \"sheer\", \"sheer\", \"simple\", \"simple\", \"simple\", \"simple\", \"simple\", \"simple\", \"single\", \"single\", \"single\", \"single\", \"single\", \"single\", \"single_double\", \"single_double\", \"single_double\", \"single_double\", \"single_double\", \"single_double\", \"sinks_santamonica\", \"sinks_santamonica\", \"sinks_santamonica\", \"sinks_santamonica\", \"sinks_santamonica\", \"sinks_santamonica\", \"snow_scene\", \"snow_scene\", \"snow_scene\", \"snow_scene\", \"snow_scene\", \"snow_scene\", \"south\", \"south\", \"south\", \"south\", \"south\", \"south\", \"statue\", \"statue\", \"statue\", \"statue\", \"statue\", \"statue\", \"straight\", \"straight\", \"straight\", \"straight\", \"straight\", \"straight\", \"street_food\", \"street_food\", \"street_food\", \"street_food\", \"street_food\", \"street_food\", \"student\", \"student\", \"student\", \"student\", \"student\", \"student\", \"stunning\", \"stunning\", \"stunning\", \"stunning\", \"stunning\", \"stunning\", \"suci\", \"suci\", \"suci\", \"suci\", \"suci\", \"suci\", \"surf\", \"surf\", \"surf\", \"surf\", \"surf\", \"surf\", \"surprise_rt\", \"surprise_rt\", \"surprise_rt\", \"surprise_rt\", \"surprise_rt\", \"surprise_rt\", \"swansea\", \"swansea\", \"swansea\", \"swansea\", \"swansea\", \"swansea\", \"tanah\", \"tanah\", \"tanah\", \"tanah\", \"tanah\", \"tanah\", \"tech_lover\", \"tech_lover\", \"tech_lover\", \"tech_lover\", \"tech_lover\", \"tech_lover\", \"tempatwisata\", \"tempatwisata\", \"tempatwisata\", \"tempatwisata\", \"tempatwisata\", \"tempatwisata\", \"tepi\", \"tepi\", \"tepi\", \"tepi\", \"tepi\", \"tepi\", \"thailand\", \"thailand\", \"thailand\", \"thailand\", \"thailand\", \"thailand\", \"thanks\", \"thanks\", \"thanks\", \"thanks\", \"thanks\", \"thanks\", \"time\", \"time\", \"time\", \"time\", \"time\", \"time\", \"today\", \"today\", \"today\", \"today\", \"today\", \"today\", \"today_beautyreview\", \"today_beautyreview\", \"today_beautyreview\", \"today_beautyreview\", \"today_beautyreview\", \"today_beautyreview\", \"tour\", \"tour\", \"tour\", \"tour\", \"tour\", \"tour\", \"touri\", \"touri\", \"touri\", \"touri\", \"touri\", \"touri\", \"tourism\", \"tourism\", \"tourism\", \"tourism\", \"tourism\", \"tourism\", \"travelampadventure\", \"travelampadventure\", \"travelampadventure\", \"travelampadventure\", \"travelampadventure\", \"travelampadventure\", \"traveller\", \"traveller\", \"traveller\", \"traveller\", \"traveller\", \"traveller\", \"travelpics_travelblogger\", \"travelpics_travelblogger\", \"travelpics_travelblogger\", \"travelpics_travelblogger\", \"travelpics_travelblogger\", \"travelpics_travelblogger\", \"travelpix\", \"travelpix\", \"travelpix\", \"travelpix\", \"travelpix\", \"travelpix\", \"traveltuesday\", \"traveltuesday\", \"traveltuesday\", \"traveltuesday\", \"traveltuesday\", \"traveltuesday\", \"tree\", \"tree\", \"tree\", \"tree\", \"tree\", \"tree\", \"trees\", \"trees\", \"trees\", \"trees\", \"trees\", \"trees\", \"treviso_visitveneto\", \"treviso_visitveneto\", \"treviso_visitveneto\", \"treviso_visitveneto\", \"treviso_visitveneto\", \"treviso_visitveneto\", \"trial_graphicstock\", \"trial_graphicstock\", \"trial_graphicstock\", \"trial_graphicstock\", \"trial_graphicstock\", \"trial_graphicstock\", \"trip\", \"trip\", \"trip\", \"trip\", \"trip\", \"trip\", \"ttot\", \"ttot\", \"ttot\", \"ttot\", \"ttot\", \"ttot\", \"tulip_rainbow\", \"tulip_rainbow\", \"tulip_rainbow\", \"tulip_rainbow\", \"tulip_rainbow\", \"tulip_rainbow\", \"tv_special\", \"tv_special\", \"tv_special\", \"tv_special\", \"tv_special\", \"tv_special\", \"umroh\", \"umroh\", \"umroh\", \"umroh\", \"umroh\", \"umroh\", \"unesco\", \"unesco\", \"unesco\", \"unesco\", \"unesco\", \"unesco\", \"usa\", \"usa\", \"usa\", \"usa\", \"usa\", \"usa\", \"use_channel\", \"use_channel\", \"use_channel\", \"use_channel\", \"use_channel\", \"use_channel\", \"useful\", \"useful\", \"useful\", \"useful\", \"useful\", \"useful\", \"vacation\", \"vacation\", \"vacation\", \"vacation\", \"vacation\", \"vacation\", \"vacation_rental\", \"vacation_rental\", \"vacation_rental\", \"vacation_rental\", \"vacation_rental\", \"vacation_rental\", \"vespa_light\", \"vespa_light\", \"vespa_light\", \"vespa_light\", \"vespa_light\", \"vespa_light\", \"viaggilowcost_viaggi\", \"viaggilowcost_viaggi\", \"viaggilowcost_viaggi\", \"viaggilowcost_viaggi\", \"viaggilowcost_viaggi\", \"viaggilowcost_viaggi\", \"viajar\", \"viajar\", \"viajar\", \"viajar\", \"viajar\", \"viajar\", \"viajes\", \"viajes\", \"viajes\", \"viajes\", \"viajes\", \"viajes\", \"visa\", \"visa\", \"visa\", \"visa\", \"visa\", \"visa\", \"vlog\", \"vlog\", \"vlog\", \"vlog\", \"vlog\", \"vlog\", \"vote\", \"vote\", \"vote\", \"vote\", \"vote\", \"vote\", \"want_day\", \"want_day\", \"want_day\", \"want_day\", \"want_day\", \"want_day\", \"warsaw\", \"warsaw\", \"warsaw\", \"warsaw\", \"warsaw\", \"warsaw\", \"water\", \"water\", \"water\", \"water\", \"water\", \"water\", \"way\", \"way\", \"way\", \"way\", \"way\", \"way\", \"wheel_light\", \"wheel_light\", \"wheel_light\", \"wheel_light\", \"wheel_light\", \"wheel_light\", \"white_sand\", \"white_sand\", \"white_sand\", \"white_sand\", \"white_sand\", \"white_sand\", \"wine\", \"wine\", \"wine\", \"wine\", \"wine\", \"wine\", \"winter\", \"winter\", \"winter\", \"winter\", \"winter\", \"winter\", \"winter_canvas\", \"winter_canvas\", \"winter_canvas\", \"winter_canvas\", \"winter_canvas\", \"winter_canvas\", \"woods\", \"woods\", \"world\", \"world\", \"world\", \"world\", \"world\", \"world\", \"world_search\", \"world_search\", \"world_search\", \"world_search\", \"world_search\", \"world_search\", \"ya\", \"ya\", \"ya\", \"ya\", \"ya\", \"ya\", \"year\", \"year\", \"year\", \"year\", \"year\", \"year\", \"yuskov\", \"yuskov\", \"yuskov\", \"yuskov\", \"yuskov\", \"yuskov\", \"\\u043b\\u0435\\u0434\\u044f\\u043d\\u0430\\u044f\\u043b\\u0430\\u0433\\u0443\\u043d\\u0430\", \"\\u043b\\u0435\\u0434\\u044f\\u043d\\u0430\\u044f\\u043b\\u0430\\u0433\\u0443\\u043d\\u0430\", \"\\u043b\\u0435\\u0434\\u044f\\u043d\\u0430\\u044f\\u043b\\u0430\\u0433\\u0443\\u043d\\u0430\", \"\\u043b\\u0435\\u0434\\u044f\\u043d\\u0430\\u044f\\u043b\\u0430\\u0433\\u0443\\u043d\\u0430\", \"\\u043b\\u0435\\u0434\\u044f\\u043d\\u0430\\u044f\\u043b\\u0430\\u0433\\u0443\\u043d\\u0430\", \"\\u043b\\u0435\\u0434\\u044f\\u043d\\u0430\\u044f\\u043b\\u0430\\u0433\\u0443\\u043d\\u0430\"]}, \"R\": 30, \"lambda.step\": 0.01, \"plot.opts\": {\"xlab\": \"PC1\", \"ylab\": \"PC2\"}, \"topic.order\": [4, 5, 3, 1, 2, 6]};\n",
       "\n",
       "function LDAvis_load_lib(url, callback){\n",
       "  var s = document.createElement('script');\n",
       "  s.src = url;\n",
       "  s.async = true;\n",
       "  s.onreadystatechange = s.onload = callback;\n",
       "  s.onerror = function(){console.warn(\"failed to load library \" + url);};\n",
       "  document.getElementsByTagName(\"head\")[0].appendChild(s);\n",
       "}\n",
       "\n",
       "if(typeof(LDAvis) !== \"undefined\"){\n",
       "   // already loaded: just create the visualization\n",
       "   !function(LDAvis){\n",
       "       new LDAvis(\"#\" + \"ldavis_el12712131835280647219732461\", ldavis_el12712131835280647219732461_data);\n",
       "   }(LDAvis);\n",
       "}else if(typeof define === \"function\" && define.amd){\n",
       "   // require.js is available: use it to load d3/LDAvis\n",
       "   require.config({paths: {d3: \"https://d3js.org/d3.v5\"}});\n",
       "   require([\"d3\"], function(d3){\n",
       "      window.d3 = d3;\n",
       "      LDAvis_load_lib(\"https://cdn.jsdelivr.net/gh/bmabey/pyLDAvis@3.3.1/pyLDAvis/js/ldavis.v3.0.0.js\", function(){\n",
       "        new LDAvis(\"#\" + \"ldavis_el12712131835280647219732461\", ldavis_el12712131835280647219732461_data);\n",
       "      });\n",
       "    });\n",
       "}else{\n",
       "    // require.js not available: dynamically load d3 & LDAvis\n",
       "    LDAvis_load_lib(\"https://d3js.org/d3.v5.js\", function(){\n",
       "         LDAvis_load_lib(\"https://cdn.jsdelivr.net/gh/bmabey/pyLDAvis@3.3.1/pyLDAvis/js/ldavis.v3.0.0.js\", function(){\n",
       "                 new LDAvis(\"#\" + \"ldavis_el12712131835280647219732461\", ldavis_el12712131835280647219732461_data);\n",
       "            })\n",
       "         });\n",
       "}\n",
       "</script>"
      ],
      "text/plain": [
       "<IPython.core.display.HTML object>"
      ]
     },
     "execution_count": 18,
     "metadata": {},
     "output_type": "execute_result"
    }
   ],
   "source": [
    "vis = gensimvis.prepare(topic_model=basic_model.model, corpus=basic_model.corpus, dictionary=basic_model.id2word)\n",
    "pyLDAvis.enable_notebook()\n",
    "pyLDAvis.display(vis)"
   ]
  },
  {
   "cell_type": "markdown",
   "id": "6b9a20a9",
   "metadata": {},
   "source": [
    "## 3.2 LDA Tfidf Model<a class=\"anchor\" id=\"3.2\"></a>"
   ]
  },
  {
   "cell_type": "code",
   "execution_count": 19,
   "id": "403b0475",
   "metadata": {},
   "outputs": [
    {
     "data": {
      "text/html": [
       "\n",
       "<link rel=\"stylesheet\" type=\"text/css\" href=\"https://cdn.jsdelivr.net/gh/bmabey/pyLDAvis@3.3.1/pyLDAvis/js/ldavis.v1.0.0.css\">\n",
       "\n",
       "\n",
       "<div id=\"ldavis_el12712131833943043456269984\"></div>\n",
       "<script type=\"text/javascript\">\n",
       "\n",
       "var ldavis_el12712131833943043456269984_data = {\"mdsDat\": {\"x\": [-0.4131586593110726, 0.06021626135402628, 0.06863806497636668, 0.06676483135934344, 0.0813763420856875, 0.07049766453097525, 0.06566549500467227], \"y\": [0.0012438729519934485, -0.03805560908409898, 0.27901085211507226, -0.2300152845309775, -0.02161712692293699, 0.03131735485103198, -0.021884059380084163], \"topics\": [1, 2, 3, 4, 5, 6, 7], \"cluster\": [1, 1, 1, 1, 1, 1, 1], \"Freq\": [21.342237582378484, 14.443317416128334, 14.437274090974345, 13.185378656392563, 12.988937163860289, 12.35393148213437, 11.248923608131616]}, \"tinfo\": {\"Term\": [\"san_diego\", \"rental_condo\", \"nice_vacation\", \"found_mission\", \"usa\", \"beach\", \"desert_retreat\", \"rent_pioneertown\", \"love_dragonfly\", \"pool_houses\", \"city_reflexion\", \"nikon_nikon\", \"nikoncanada_vatican\", \"vatican_rome\", \"mm_store\", \"pocasset\", \"lighthouses_rent\", \"neck_lighthouse\", \"love_wings\", \"wagon_heart\", \"rent_seattle\", \"love_hand\", \"crafted_gypsy\", \"campers_rvs\", \"condo\", \"vacation_rental\", \"mission_beach\", \"rent\", \"tahoe\", \"love_chalet\", \"found_mission\", \"nice_vacation\", \"rental_condo\", \"san_diego\", \"condo\", \"mission_beach\", \"vacation_rental\", \"usa\", \"beach_condominiums\", \"condo_steps\", \"cozy_san\", \"diego\", \"beach\", \"holiday_lip\", \"bundle_check\", \"traveller_video\", \"today_beautyreview\", \"america\", \"marinelife_ocean\", \"reef_coral\", \"fish_fishtank\", \"live\", \"gifts_prizes\", \"rsvp_twitterparty\", \"discover_sponsors\", \"clownfish_redsea\", \"destinosin\", \"today_daily\", \"photo_proof\", \"sup\", \"giving\", \"youtube\", \"tour\", \"reeftank_reefcandy\", \"rent\", \"holiday\", \"holiday_season\", \"palm_springs\", \"touri\", \"modern_houses\", \"mid_century\", \"year\", \"destinations\", \"enter_win\", \"airport\", \"forget\", \"online_shopping\", \"spread_gathering\", \"started\", \"memories_win\", \"drone_cameras\", \"goodfoods_sharethegoo\", \"hong_kong\", \"buildings\", \"morocco\", \"holiday_meal\", \"planning_breeze\", \"win_u\", \"w_enter\", \"online_shop\", \"like_post\", \"right\", \"norway\", \"brasil\", \"social\", \"np\", \"contact\", \"air\", \"rent\", \"daily_thanks\", \"love\", \"party\", \"night\", \"luxurytravel\", \"latest\", \"weather\", \"today\", \"holiday\", \"place\", \"ad\", \"enter\", \"photo\", \"great\", \"winter\", \"christmas\", \"nature\", \"photography\", \"thanks\", \"lp\", \"ttot\", \"luxury\", \"daily\", \"adventure\", \"rt\", \"world\", \"chalets_rent\", \"de_celeste\", \"love_chalet\", \"south_lake\", \"tahoe\", \"city_reflexion\", \"nikon_nikon\", \"nikoncanada_vatican\", \"vatican_rome\", \"mm_store\", \"photo_popular\", \"travelpix\", \"keukenhof\", \"tulip_rainbow\", \"shop\", \"wine_winelover\", \"best_wine\", \"napa_thrillist\", \"trips_california\", \"addicts_stop\", \"shadowfax_marcwainwright\", \"vantage_hospitality\", \"favorite\", \"south\", \"tourism_frizemedia\", \"inn\", \"voyager\", \"miss\", \"istanbul\", \"gift_guide\", \"recipes\", \"tulipsinholland_spring\", \"history\", \"wine\", \"travelling\", \"storystream\", \"lp\", \"paradise\", \"nature\", \"holiday\", \"vacation\", \"ttot\", \"rt\", \"desert_retreat\", \"love_dragonfly\", \"pool_houses\", \"rent_pioneertown\", \"lighthouses_rent\", \"love_wings\", \"neck_lighthouse\", \"pocasset\", \"cheap_flights\", \"wanderlust_ttot\", \"cheer\", \"holid\", \"lifestyle\", \"hark_hey\", \"holidays_nyc\", \"join_tiny\", \"tim_celebrate\", \"travelbloggers\", \"caribbean\", \"florida\", \"dream\", \"million\", \"cambodia\", \"jewelry\", \"wanted\", \"chicken_casserole\", \"goodness_community\", \"healthy_broccoli\", \"simple_holiday\", \"christmas_tree\", \"viajar\", \"rt_viajes\", \"guide_tips\", \"de\", \"family\", \"use\", \"vacation\", \"day\", \"tourism\", \"tips\", \"know\", \"holidays\", \"rt\", \"holiday\", \"hotel\", \"guide\", \"food\", \"holiday_season\", \"traveller\", \"adventure\", \"thailand\", \"things\", \"christmas\", \"steemit\", \"sweeps\", \"enter_chance\", \"holiday_payday\", \"argentina\", \"tis_season\", \"en_argentina\", \"mi_experiencia\", \"frizemedia\", \"holiday_yulelog\", \"noel_ganache\", \"buche_de\", \"cake_ganache\", \"ad_recipe\", \"feature\", \"related_project\", \"periscope_christmas\", \"celebrate\", \"lights_extravaganza\", \"nyc_brooklyn\", \"planning\", \"house\", \"marketing\", \"tourist\", \"tree\", \"c\", \"going_paris\", \"change_lives\", \"check_unique\", \"drea\", \"chance_win\", \"post\", \"win\", \"check\", \"looking\", \"yummy\", \"italy\", \"rt\", \"gift\", \"photography\", \"holiday\", \"christmas\", \"traveller\", \"trip\", \"vacation\", \"way\", \"world\", \"blog\", \"best\", \"beautiful\", \"campers_rvs\", \"crafted_gypsy\", \"love_hand\", \"rent_seattle\", \"wagon_heart\", \"jerusalem\", \"china\", \"islands\", \"shopping_lastminute\", \"israel_readon\", \"photog\", \"himalayas_bookreview\", \"spiti_grace\", \"sublime_review\", \"americas_best\", \"value_inn\", \"thank\", \"conozcopablo\", \"makes\", \"edition\", \"click\", \"wedding\", \"sydney\", \"texas\", \"mydayinla\", \"decor\", \"bloggers\", \"pack\", \"u\", \"baby_prize\", \"new_york\", \"pro\", \"paris_france\", \"beautiful_israel\", \"photography_helena\", \"reet_ennet\", \"travelpics_travelblogger\", \"sale\", \"holiday_baking\", \"gift_ideas\", \"cruise\", \"travelers\", \"visit\", \"awesome\", \"ttot\", \"thanks\", \"familytravel\", \"holiday\", \"latest\", \"city\", \"world\", \"australia\", \"viet_bamboo\", \"support_animal\", \"solution_emotional\", \"debate\", \"traveltips_joyforall\", \"vietnam\", \"recipe\", \"set\", \"chance\", \"little\", \"dogs\", \"kyoto\", \"beaches\", \"news_week\", \"escape\", \"spectacular_sunset\", \"spots_dubrovnik\", \"holiday_giveaways\", \"vacations\", \"capital\", \"store\", \"bed_breakfasts\", \"switzerland_familytravel\", \"visiting_glacier\", \"cave_igloo\", \"rent_hightown\", \"guest_room\", \"owl_house\", \"yes\", \"family_favorite\", \"ready\", \"book\", \"photooftheday\", \"deals\", \"japan_japantravel\", \"h\", \"photography_photooftheday\", \"online\", \"tokyo\", \"paris\", \"brings_amazing\", \"packages_book\", \"japan\", \"travelphotography\", \"loyalty\", \"familytravel\", \"holiday\", \"guide\"], \"Freq\": [1945.0, 1932.0, 1932.0, 1932.0, 1885.0, 1952.0, 742.0, 742.0, 742.0, 742.0, 683.0, 683.0, 683.0, 683.0, 682.0, 589.0, 589.0, 589.0, 589.0, 561.0, 561.0, 561.0, 561.0, 561.0, 668.0, 667.0, 667.0, 686.0, 507.0, 506.0, 1931.5149861870218, 1931.5149861870218, 1931.5149861870218, 1944.4199694289855, 667.2723381327337, 666.2439346554296, 666.3516137471553, 1882.4537568122826, 442.0709832501412, 442.0709832501412, 442.0709832501412, 442.0709832501412, 1922.7217994856376, 32.84414858512284, 32.84416278331531, 26.354571285397906, 25.244864225254762, 23.489704968861048, 31.464810750795042, 31.46462854065829, 31.464526786945555, 21.959729045110947, 21.097477548872885, 21.097477548872885, 20.850668002725385, 19.542971881257884, 18.673422514087992, 18.673422514087992, 15.929736587137231, 15.923787544490468, 17.034448249894808, 27.551367691813464, 44.13173053317547, 28.226271671986716, 129.5248944743681, 34.41412554980408, 26.591496523217828, 450.12626910723617, 235.76416709566408, 224.36611397765753, 224.64079179165955, 52.739133176941, 52.05323935851129, 47.665017861990144, 38.11147943258777, 36.58802006202888, 31.177241861546367, 29.785288978453767, 29.71058532484156, 34.17530728296997, 33.08350781244016, 26.97071897029964, 26.779211586977397, 26.02841008151809, 25.918500521521665, 25.785517512690465, 24.609927856851577, 24.60993426258418, 24.609678033280073, 25.612710064268533, 24.2978870060114, 21.747028197643537, 20.276492989847817, 20.231009085502638, 20.04066754551408, 19.570539619772877, 19.047256924894814, 25.143118618632805, 556.289910415207, 134.96068909201577, 274.8165109243315, 64.175870514135, 53.64393650133399, 29.334280563098353, 184.9094915529711, 29.899208527059457, 48.81616324221728, 242.63759504710842, 35.60985188213764, 41.86087323097724, 38.39300817760833, 48.81480522690552, 51.203916084189935, 47.76073552140537, 66.64198148016968, 47.72730080008579, 56.831422638684515, 50.29791168493396, 52.836993553911825, 54.397353147128335, 42.62546788016323, 38.856004921529625, 42.790450726211006, 46.58757363822289, 42.286998578037625, 505.9784673043255, 505.9784673043255, 505.9784673043255, 505.9784673043255, 506.12471301970686, 681.8834796824661, 681.8834796824661, 681.8834796824661, 681.8834796824661, 681.5152785608685, 83.49048794348266, 83.48491088489698, 52.70764415156773, 44.37248037621266, 44.676343627926215, 32.3910440215014, 30.72448957443997, 30.72448957443997, 30.72448957443997, 28.637920506268408, 27.949310645717937, 34.61681864900959, 35.769419294122, 23.65193568563944, 20.667338527177357, 20.212977933330546, 21.91255452205793, 19.183259866384176, 19.363734698797053, 18.962192883679702, 22.60676705340344, 56.8681074458094, 27.150200109458453, 54.91780173442552, 28.85313669989978, 38.363327811178266, 53.31465031160692, 27.811648221994577, 32.48233233867268, 45.962175784544655, 36.653293437221166, 30.70025402134372, 30.46024520906276, 740.7658045471364, 740.7658045471364, 740.7658045471364, 740.7658045471364, 587.2807173473298, 587.2807173473298, 587.2807173473298, 587.2807173473298, 117.67209901260915, 21.960293467837445, 22.613523431062383, 19.179485448774603, 18.47161193562126, 18.30766374235747, 18.30766374235747, 18.30766374235747, 18.30766374235747, 17.71696604659882, 17.659208529221253, 16.63072502098007, 16.969175271834192, 16.41797087028765, 16.41685101157119, 15.491912037862711, 15.276143332766454, 14.968239202045137, 14.968239202045137, 14.968239202045137, 14.968239202045137, 14.79324738901092, 27.860549811168614, 24.33099635971471, 16.193342708505032, 42.086416249419365, 44.5157348271684, 17.73004617184187, 63.94521923167532, 40.24368726952655, 47.4894392411199, 38.885035494280785, 24.499114053055976, 31.987012811757463, 60.15703835693747, 82.21647733205197, 34.32539769216465, 32.371586329772974, 26.454094980686772, 31.951835213277725, 30.196800235014397, 27.769776929047136, 20.36258694358447, 21.6500926033778, 23.186522680839996, 78.43635750833486, 76.99316897492332, 68.91706697771892, 63.88153877767303, 61.21896501243519, 58.96962949780006, 52.15259821362197, 52.15259821362197, 53.26454057857913, 37.96254141997624, 37.962452129083715, 37.96241180416451, 37.962236102730834, 37.96226202589318, 36.64051486701751, 34.36896032190067, 31.595395096903683, 30.558523329748535, 27.785024352833098, 27.714248358926373, 26.809803626438956, 25.455188778060204, 25.385803993866038, 25.443099943352955, 24.08206335159088, 21.999193423959177, 21.530747478614067, 21.3635718849975, 21.3635718849975, 21.3635718849975, 43.46208846530885, 100.05860222862405, 97.3171529214221, 74.62448322084822, 36.458675404567344, 37.392828081103026, 64.2590203463468, 117.20675107754677, 49.83714711359961, 74.24090106796908, 149.99880255360225, 82.6531919165818, 63.02890868601209, 49.31486452076506, 65.21309065261815, 42.50920486380266, 52.261515820393456, 40.23928923861635, 40.46398256877546, 38.452330768986045, 560.9218330010996, 560.9218330010996, 560.9218330010996, 560.9218330010996, 560.9218330010996, 325.2367508020617, 41.044355883286634, 36.10011766610085, 34.86740308549813, 27.855382125304192, 27.042797336448675, 26.456520153565155, 26.456520153565155, 26.456520153565155, 25.1672998994105, 25.1672998994105, 24.599120092629185, 24.099354723238175, 25.137967685373823, 21.930413236472532, 21.850029765447566, 19.723870245666497, 18.97505638035127, 18.65712361657935, 17.66869073892207, 17.433641272952784, 18.42264534390666, 17.107646054159854, 17.153056606123247, 17.008350195014764, 59.9122594146864, 24.058376740837815, 25.308199724976447, 143.0775048034024, 187.29117531961657, 187.29117531961657, 186.37397860163014, 53.698662580757556, 25.452206184587183, 37.339976957099346, 46.97690917807333, 28.867073665254495, 37.474910072833225, 25.934019373294305, 37.293511683701, 34.46923067635147, 32.07625402888734, 41.14446127537726, 35.276306257919444, 28.44419611870401, 28.659455175202766, 26.884164493094424, 205.7125886135315, 91.20179918879285, 91.20166947499787, 91.20152978321865, 80.71714788687201, 225.87785527015873, 50.242662847050745, 40.24036725876266, 34.95590208590411, 30.21029795137117, 26.464867000056145, 25.246213379648395, 23.808021655722456, 21.605915459169736, 21.6700963482313, 21.005141028698752, 20.460855708696258, 19.198509742594624, 22.707841631066195, 18.31341140424996, 17.79145556570553, 263.57801233674485, 16.880564138127056, 16.88061901704032, 16.879928041632414, 262.82176095600653, 262.8165125363017, 262.82010461062436, 16.777311957317995, 16.69475785754544, 45.91992568417302, 80.06186871754622, 21.330727643106382, 48.93561675884803, 137.10278166990577, 31.782301927305728, 46.759278706568544, 37.09338087860098, 46.73149999847302, 45.007813200774436, 30.439347568356332, 30.439347568356332, 64.12233825010757, 48.32450014772295, 48.720586209705615, 48.004615951302604, 78.83670695692464, 32.70212739251388], \"Total\": [1945.0, 1932.0, 1932.0, 1932.0, 1885.0, 1952.0, 742.0, 742.0, 742.0, 742.0, 683.0, 683.0, 683.0, 683.0, 682.0, 589.0, 589.0, 589.0, 589.0, 561.0, 561.0, 561.0, 561.0, 561.0, 668.0, 667.0, 667.0, 686.0, 507.0, 506.0, 1932.4593378124189, 1932.4593378124189, 1932.4593378124189, 1945.436806934898, 668.2192677361696, 667.1908041234716, 667.2987177947383, 1885.5323612073278, 443.07723700376295, 443.07723700376295, 443.07723700376295, 443.07723700376295, 1952.9594621452504, 33.81190797984065, 33.81192393301721, 27.305943414029265, 26.214484809982636, 24.439059990216187, 32.81498894669361, 32.81502795275083, 32.81501868950955, 22.91051555622615, 22.041815386529827, 22.041815386529827, 21.794979369972662, 20.48717649021138, 19.70603932810708, 19.70603932810708, 16.880516019523697, 16.87461222317098, 18.05740124744328, 32.173844021562594, 66.96206156926155, 36.55950952361074, 686.8714524675694, 675.2103444994133, 141.2922084977673, 452.4323932709332, 237.22908458026518, 225.9328054407944, 226.27910974501467, 53.62482745456087, 52.936996706089815, 48.55079715630718, 38.99660535525139, 37.471950395876604, 32.089218602028055, 30.667553423655168, 30.594100518292866, 35.2169259415627, 34.12507554748453, 27.85286614900069, 27.663697401799123, 26.913680054113605, 26.80136404221823, 26.66833709950764, 25.492146822474517, 25.49219658638097, 25.491994668046846, 26.537023457247408, 25.32940845706605, 22.682066097258172, 21.16019245637043, 21.11353384245266, 20.925895085168126, 20.453378814915844, 19.92958078349056, 26.495307146317945, 686.8714524675694, 155.27587253230547, 332.0364792837136, 73.47299683970772, 60.5973499652534, 31.701946328576316, 282.13440771236117, 32.54247913069885, 64.26222016809832, 675.2103444994133, 45.284808094564006, 61.06325578060637, 55.30429333054609, 90.49683369326765, 111.31370122476031, 96.7958860655908, 234.951732981691, 106.73262571020845, 175.85618170094332, 131.18932639062604, 152.31762858750054, 180.93114979562804, 91.8359520301727, 65.07638132360101, 116.34469577118901, 281.12169614517904, 169.88463719474058, 506.8905171690579, 506.8905171690579, 506.8905171690579, 506.8905171690579, 507.0394354215916, 683.3261711697942, 683.3261711697942, 683.3261711697942, 683.3261711697942, 682.958144903806, 84.49892836496574, 84.49370698366403, 53.62014743314222, 45.2849027894059, 45.724609513332396, 33.302529414976185, 31.636089063790447, 31.636089063790447, 31.636089063790447, 29.54990878848613, 28.862402715051612, 35.75946945375312, 36.98963818282627, 24.566693822932752, 21.58466527434533, 21.128274403419102, 22.925141993654655, 20.099462919140667, 20.28930918778168, 19.877406076841854, 23.947072420028935, 70.43038759806365, 30.003979780329317, 68.66063636478613, 35.852571195323165, 58.27853557191197, 152.31762858750054, 49.27717448242277, 106.73262571020845, 675.2103444994133, 229.3516067650358, 180.93114979562804, 281.12169614517904, 742.5478742051982, 742.5478742051982, 742.5478742051982, 742.5478742051982, 589.1564575268605, 589.1564575268605, 589.1564575268605, 589.1564575268605, 118.88427252450884, 22.931151667696607, 23.7116883418821, 20.125655041742224, 19.409556676272622, 19.245214868666956, 19.245214868666956, 19.245214868666956, 19.245214868666956, 18.658398255574834, 18.599941248011255, 17.569462619033818, 17.93388548049227, 17.35514373824447, 17.354476453012488, 16.430105329460027, 16.215015520952484, 15.906125525038801, 15.906125525038801, 15.906125525038801, 15.906125525038801, 15.732459878497139, 30.806000751297464, 26.96315148763865, 17.339130277453798, 66.10289258310692, 78.82739764416478, 20.522835412002948, 229.3516067650358, 99.59953856016924, 141.34666765808618, 96.14194681014753, 39.180096823684636, 70.80117788171472, 281.12169614517904, 675.2103444994133, 89.90945742723407, 87.33240653833528, 67.36663586338656, 141.2922084977673, 141.93489945507218, 116.34469577118901, 33.93741669639535, 60.162776242632034, 234.951732981691, 79.32854770285121, 77.88791925496714, 69.81091449239021, 64.77547631148921, 62.11313431678365, 59.86259660690299, 53.04582260983554, 53.04582260983554, 54.18029573028822, 38.854792308462585, 38.854726217028116, 38.854686331120554, 38.854593558317, 38.85463698354591, 37.549250734017626, 35.26122341059197, 32.48786387712777, 31.45190603974584, 28.67767065216274, 28.607220088391657, 27.704699321659056, 26.350243675085714, 26.28013915133613, 26.364840516357322, 24.976339175678294, 22.907941158931024, 22.423232564880315, 22.255825720890307, 22.255825720890307, 22.255825720890307, 45.398164127596225, 108.15313486464045, 105.68098863514943, 81.19976804186359, 40.42659570987008, 43.72260894127548, 96.07098381299292, 281.12169614517904, 86.18967232698864, 175.85618170094332, 675.2103444994133, 234.951732981691, 141.93489945507218, 98.81099278272737, 229.3516067650358, 69.07776562239486, 169.88463719474058, 70.18908728084644, 117.77258777409608, 110.01540349420536, 561.789182932865, 561.789182932865, 561.789182932865, 561.789182932865, 561.789182932865, 326.1042117821452, 41.89756412659085, 36.95352521969199, 35.77477008602041, 28.72451155500254, 27.898994480573563, 27.333347600907857, 27.333347600907857, 27.333347600907857, 26.024576454694483, 26.024576454694483, 25.453781449113013, 24.952002350383378, 26.03782880546335, 22.78295112943388, 22.70441884220548, 20.577399409834985, 19.845136795576504, 19.518032615644504, 18.519998367046384, 18.28973572050077, 19.332117801555846, 17.961887500096054, 18.010528003394988, 17.86036549468527, 63.59407334570232, 25.319488776397197, 26.652009267303303, 153.78586388298854, 202.8187391895885, 202.8187391895885, 201.9069419697299, 59.068206723259436, 27.32999590545627, 43.28134697254461, 67.3361559086928, 35.74033652359226, 88.09667237058555, 30.89395828060796, 180.93114979562804, 131.18932639062604, 89.86974421803694, 675.2103444994133, 282.13440771236117, 85.65959005432416, 169.88463719474058, 57.72671437125316, 206.6319392623818, 92.05391611790928, 92.05382955920524, 92.05369075228285, 81.56947237263441, 228.69136724175354, 51.10920838201042, 41.15871814856503, 35.82798185250347, 31.064640851227704, 27.318359063790613, 26.099272455455726, 24.66219332196376, 22.457683364045067, 22.525895765931903, 21.857349451095416, 21.313175503978513, 20.05113807618562, 23.762383620458568, 19.168338028781044, 18.653000305534338, 276.88264018112824, 17.732890053127342, 17.733066276694327, 17.73251925728747, 276.1162462341391, 276.1107893744546, 276.11624926256394, 17.631624325280743, 17.553883742720156, 48.50521138047819, 89.20086960043865, 22.618351409818846, 56.335483894350816, 180.96895100930868, 36.04687401934618, 56.45047964932073, 44.31488451777968, 60.74571163745984, 60.52066829819837, 37.71500664869201, 37.71500664869201, 123.51868659549473, 89.2929163273503, 90.7620169610754, 89.86974421803694, 675.2103444994133, 87.33240653833528], \"Category\": [\"Default\", \"Default\", \"Default\", \"Default\", \"Default\", \"Default\", \"Default\", \"Default\", \"Default\", \"Default\", \"Default\", \"Default\", \"Default\", \"Default\", \"Default\", \"Default\", \"Default\", \"Default\", \"Default\", \"Default\", \"Default\", \"Default\", \"Default\", \"Default\", \"Default\", \"Default\", \"Default\", \"Default\", \"Default\", \"Default\", \"Topic1\", \"Topic1\", \"Topic1\", \"Topic1\", \"Topic1\", \"Topic1\", \"Topic1\", \"Topic1\", \"Topic1\", \"Topic1\", \"Topic1\", \"Topic1\", \"Topic1\", \"Topic1\", \"Topic1\", \"Topic1\", \"Topic1\", \"Topic1\", \"Topic1\", \"Topic1\", \"Topic1\", \"Topic1\", \"Topic1\", \"Topic1\", \"Topic1\", \"Topic1\", \"Topic1\", \"Topic1\", \"Topic1\", \"Topic1\", \"Topic1\", \"Topic1\", \"Topic1\", \"Topic1\", \"Topic1\", \"Topic1\", \"Topic1\", \"Topic2\", \"Topic2\", \"Topic2\", \"Topic2\", \"Topic2\", \"Topic2\", \"Topic2\", \"Topic2\", \"Topic2\", \"Topic2\", \"Topic2\", \"Topic2\", \"Topic2\", \"Topic2\", \"Topic2\", \"Topic2\", \"Topic2\", \"Topic2\", \"Topic2\", \"Topic2\", \"Topic2\", \"Topic2\", \"Topic2\", \"Topic2\", \"Topic2\", \"Topic2\", \"Topic2\", \"Topic2\", \"Topic2\", \"Topic2\", \"Topic2\", \"Topic2\", \"Topic2\", \"Topic2\", \"Topic2\", \"Topic2\", \"Topic2\", \"Topic2\", \"Topic2\", \"Topic2\", \"Topic2\", \"Topic2\", \"Topic2\", \"Topic2\", \"Topic2\", \"Topic2\", \"Topic2\", \"Topic2\", \"Topic2\", \"Topic2\", \"Topic2\", \"Topic2\", \"Topic2\", \"Topic2\", \"Topic2\", \"Topic2\", \"Topic2\", \"Topic2\", \"Topic3\", \"Topic3\", \"Topic3\", \"Topic3\", \"Topic3\", \"Topic3\", \"Topic3\", \"Topic3\", \"Topic3\", \"Topic3\", \"Topic3\", \"Topic3\", \"Topic3\", \"Topic3\", \"Topic3\", \"Topic3\", \"Topic3\", \"Topic3\", \"Topic3\", \"Topic3\", \"Topic3\", \"Topic3\", \"Topic3\", \"Topic3\", \"Topic3\", \"Topic3\", \"Topic3\", \"Topic3\", \"Topic3\", \"Topic3\", \"Topic3\", \"Topic3\", \"Topic3\", \"Topic3\", \"Topic3\", \"Topic3\", \"Topic3\", \"Topic3\", \"Topic3\", \"Topic3\", \"Topic3\", \"Topic3\", \"Topic3\", \"Topic4\", \"Topic4\", \"Topic4\", \"Topic4\", \"Topic4\", \"Topic4\", \"Topic4\", \"Topic4\", \"Topic4\", \"Topic4\", \"Topic4\", \"Topic4\", \"Topic4\", \"Topic4\", \"Topic4\", \"Topic4\", \"Topic4\", \"Topic4\", \"Topic4\", \"Topic4\", \"Topic4\", \"Topic4\", \"Topic4\", \"Topic4\", \"Topic4\", \"Topic4\", \"Topic4\", \"Topic4\", \"Topic4\", \"Topic4\", \"Topic4\", \"Topic4\", \"Topic4\", \"Topic4\", \"Topic4\", \"Topic4\", \"Topic4\", \"Topic4\", \"Topic4\", \"Topic4\", \"Topic4\", \"Topic4\", \"Topic4\", \"Topic4\", \"Topic4\", \"Topic4\", \"Topic4\", \"Topic4\", \"Topic4\", \"Topic4\", \"Topic4\", \"Topic4\", \"Topic4\", \"Topic5\", \"Topic5\", \"Topic5\", \"Topic5\", \"Topic5\", \"Topic5\", \"Topic5\", \"Topic5\", \"Topic5\", \"Topic5\", \"Topic5\", \"Topic5\", \"Topic5\", \"Topic5\", \"Topic5\", \"Topic5\", \"Topic5\", \"Topic5\", \"Topic5\", \"Topic5\", \"Topic5\", \"Topic5\", \"Topic5\", \"Topic5\", \"Topic5\", \"Topic5\", \"Topic5\", \"Topic5\", \"Topic5\", \"Topic5\", \"Topic5\", \"Topic5\", \"Topic5\", \"Topic5\", \"Topic5\", \"Topic5\", \"Topic5\", \"Topic5\", \"Topic5\", \"Topic5\", \"Topic5\", \"Topic5\", \"Topic5\", \"Topic5\", \"Topic5\", \"Topic5\", \"Topic5\", \"Topic5\", \"Topic5\", \"Topic5\", \"Topic6\", \"Topic6\", \"Topic6\", \"Topic6\", \"Topic6\", \"Topic6\", \"Topic6\", \"Topic6\", \"Topic6\", \"Topic6\", \"Topic6\", \"Topic6\", \"Topic6\", \"Topic6\", \"Topic6\", \"Topic6\", \"Topic6\", \"Topic6\", \"Topic6\", \"Topic6\", \"Topic6\", \"Topic6\", \"Topic6\", \"Topic6\", \"Topic6\", \"Topic6\", \"Topic6\", \"Topic6\", \"Topic6\", \"Topic6\", \"Topic6\", \"Topic6\", \"Topic6\", \"Topic6\", \"Topic6\", \"Topic6\", \"Topic6\", \"Topic6\", \"Topic6\", \"Topic6\", \"Topic6\", \"Topic6\", \"Topic6\", \"Topic6\", \"Topic6\", \"Topic6\", \"Topic6\", \"Topic6\", \"Topic6\", \"Topic6\", \"Topic6\", \"Topic6\", \"Topic7\", \"Topic7\", \"Topic7\", \"Topic7\", \"Topic7\", \"Topic7\", \"Topic7\", \"Topic7\", \"Topic7\", \"Topic7\", \"Topic7\", \"Topic7\", \"Topic7\", \"Topic7\", \"Topic7\", \"Topic7\", \"Topic7\", \"Topic7\", \"Topic7\", \"Topic7\", \"Topic7\", \"Topic7\", \"Topic7\", \"Topic7\", \"Topic7\", \"Topic7\", \"Topic7\", \"Topic7\", \"Topic7\", \"Topic7\", \"Topic7\", \"Topic7\", \"Topic7\", \"Topic7\", \"Topic7\", \"Topic7\", \"Topic7\", \"Topic7\", \"Topic7\", \"Topic7\", \"Topic7\", \"Topic7\", \"Topic7\", \"Topic7\", \"Topic7\", \"Topic7\", \"Topic7\", \"Topic7\"], \"logprob\": [30.0, 29.0, 28.0, 27.0, 26.0, 25.0, 24.0, 23.0, 22.0, 21.0, 20.0, 19.0, 18.0, 17.0, 16.0, 15.0, 14.0, 13.0, 12.0, 11.0, 10.0, 9.0, 8.0, 7.0, 6.0, 5.0, 4.0, 3.0, 2.0, 1.0, -2.3536, -2.3536, -2.3536, -2.347, -3.4165, -3.418, -3.4179, -2.3794, -3.8282, -3.8282, -3.8282, -3.8282, -2.3582, -6.4279, -6.4279, -6.6481, -6.6911, -6.7631, -6.4708, -6.4708, -6.4708, -6.8305, -6.8705, -6.8705, -6.8823, -6.9471, -6.9926, -6.9926, -7.1515, -7.1519, -7.0845, -6.6036, -6.1325, -6.5794, -5.0558, -6.3812, -6.6391, -3.4197, -4.0664, -4.116, -4.1147, -5.5639, -5.577, -5.665, -5.8887, -5.9295, -6.0896, -6.1352, -6.1377, -5.9977, -6.0302, -6.2345, -6.2416, -6.2701, -6.2743, -6.2794, -6.3261, -6.3261, -6.3261, -6.2862, -6.3389, -6.4498, -6.5198, -6.522, -6.5315, -6.5552, -6.5823, -6.3047, -3.208, -4.6243, -3.9131, -5.3676, -5.5469, -6.1505, -4.3094, -6.1314, -5.6412, -4.0377, -5.9566, -5.7949, -5.8814, -5.6412, -5.5934, -5.663, -5.3299, -5.6637, -5.4892, -5.6113, -5.562, -5.5329, -5.7768, -5.8694, -5.7729, -5.6879, -5.7848, -3.3023, -3.3023, -3.3023, -3.3023, -3.302, -3.004, -3.004, -3.004, -3.004, -3.0045, -5.1041, -5.1042, -5.5641, -5.7362, -5.7294, -6.0509, -6.1038, -6.1038, -6.1038, -6.1741, -6.1984, -5.9845, -5.9517, -6.3654, -6.5003, -6.5225, -6.4418, -6.5748, -6.5654, -6.5864, -6.4106, -5.4881, -6.2274, -5.523, -6.1666, -5.8817, -5.5526, -6.2034, -6.0481, -5.701, -5.9273, -6.1046, -6.1124, -2.8304, -2.8304, -2.8304, -2.8304, -3.0626, -3.0626, -3.0626, -3.0626, -4.6702, -6.3489, -6.3196, -6.4843, -6.5219, -6.5308, -6.5308, -6.5308, -6.5308, -6.5636, -6.5669, -6.6269, -6.6067, -6.6397, -6.6398, -6.6978, -6.7118, -6.7322, -6.7322, -6.7322, -6.7322, -6.744, -6.1109, -6.2464, -6.6535, -5.6984, -5.6423, -6.5629, -5.2801, -5.7432, -5.5776, -5.7775, -6.2395, -5.9728, -5.3412, -5.0288, -5.9022, -5.9608, -6.1627, -5.9739, -6.0304, -6.1142, -6.4244, -6.3631, -6.2946, -5.0608, -5.0794, -5.1902, -5.2661, -5.3087, -5.3461, -5.4689, -5.4689, -5.4478, -5.7865, -5.7865, -5.7865, -5.7865, -5.7865, -5.822, -5.886, -5.9701, -6.0035, -6.0986, -6.1012, -6.1343, -6.1862, -6.1889, -6.1867, -6.2416, -6.3321, -6.3536, -6.3614, -6.3614, -6.3614, -5.6512, -4.8174, -4.8451, -5.1106, -5.8269, -5.8016, -5.2602, -4.6592, -5.5144, -5.1158, -4.4125, -5.0085, -5.2795, -5.5249, -5.2455, -5.6734, -5.4669, -5.7283, -5.7227, -5.7737, -3.0434, -3.0434, -3.0434, -3.0434, -3.0434, -3.5884, -5.6583, -5.7867, -5.8214, -6.046, -6.0756, -6.0975, -6.0975, -6.0975, -6.1474, -6.1474, -6.1703, -6.1908, -6.1486, -6.2851, -6.2888, -6.3912, -6.4299, -6.4468, -6.5012, -6.5146, -6.4594, -6.5335, -6.5308, -6.5393, -5.2801, -6.1925, -6.1419, -4.4096, -4.1403, -4.1403, -4.1452, -5.3896, -6.1362, -5.7529, -5.5233, -6.0103, -5.7493, -6.1174, -5.7542, -5.8329, -5.9049, -5.6559, -5.8098, -6.025, -6.0175, -6.0815, -3.9528, -4.7662, -4.7662, -4.7662, -4.8883, -3.8593, -5.3624, -5.5844, -5.7252, -5.8711, -6.0035, -6.0506, -6.1093, -6.2063, -6.2034, -6.2345, -6.2608, -6.3245, -6.1566, -6.3717, -6.4006, -3.7049, -6.4531, -6.4531, -6.4532, -3.7078, -3.7078, -3.7078, -6.4593, -6.4642, -5.4524, -4.8965, -6.2191, -5.3888, -4.3586, -5.8204, -5.4343, -5.6658, -5.4349, -5.4724, -5.8635, -5.8635, -5.1185, -5.4013, -5.3932, -5.408, -4.9119, -5.7918], \"loglift\": [30.0, 29.0, 28.0, 27.0, 26.0, 25.0, 24.0, 23.0, 22.0, 21.0, 20.0, 19.0, 18.0, 17.0, 16.0, 15.0, 14.0, 13.0, 12.0, 11.0, 10.0, 9.0, 8.0, 7.0, 6.0, 5.0, 4.0, 3.0, 2.0, 1.0, 1.544, 1.544, 1.544, 1.544, 1.5431, 1.5431, 1.5431, 1.5428, 1.5422, 1.5422, 1.5422, 1.5422, 1.5289, 1.5154, 1.5154, 1.509, 1.5068, 1.5049, 1.5025, 1.5025, 1.5025, 1.5021, 1.5007, 1.5007, 1.5002, 1.4973, 1.4907, 1.4907, 1.4865, 1.4865, 1.4862, 1.3894, 1.1275, 1.2858, -0.1238, -1.4321, -0.1258, 1.9298, 1.9287, 1.928, 1.9277, 1.9183, 1.9181, 1.9165, 1.912, 1.9111, 1.9061, 1.9057, 1.9056, 1.9049, 1.9039, 1.9028, 1.9024, 1.9015, 1.9014, 1.9013, 1.8997, 1.8997, 1.8997, 1.8995, 1.8934, 1.8928, 1.8923, 1.8922, 1.8917, 1.8908, 1.8897, 1.8826, 1.7241, 1.7947, 1.7458, 1.7996, 1.8131, 1.8573, 1.5124, 1.8502, 1.66, 0.9115, 1.6946, 1.5574, 1.57, 1.3177, 1.1584, 1.2285, 0.6749, 1.1301, 0.8054, 0.9763, 0.8762, 0.7331, 1.1674, 1.4192, 0.9347, 0.1375, 0.5443, 1.9336, 1.9336, 1.9336, 1.9336, 1.9336, 1.9332, 1.9332, 1.9332, 1.9332, 1.9332, 1.9234, 1.9233, 1.9182, 1.915, 1.9122, 1.9076, 1.9061, 1.9061, 1.9061, 1.904, 1.9032, 1.9029, 1.9018, 1.8974, 1.8919, 1.8911, 1.8902, 1.8887, 1.8887, 1.8882, 1.8778, 1.7215, 1.8354, 1.712, 1.7182, 1.5172, 0.8856, 1.3634, 0.7457, -0.7518, 0.1016, 0.1615, -0.287, 2.0237, 2.0237, 2.0237, 2.0237, 2.0229, 2.0229, 2.0229, 2.0229, 2.0158, 1.9828, 1.9786, 1.9779, 1.9765, 1.9761, 1.9761, 1.9761, 1.9761, 1.9743, 1.9742, 1.9712, 1.9708, 1.9705, 1.9705, 1.9673, 1.9664, 1.9653, 1.9653, 1.9653, 1.9653, 1.9645, 1.9256, 1.9233, 1.9577, 1.5746, 1.4546, 1.8798, 0.7488, 1.1199, 0.9354, 1.1208, 1.5565, 1.2315, 0.4842, -0.0796, 1.0631, 1.0336, 1.0913, 0.5395, 0.4784, 0.5935, 1.5152, 1.004, -0.2897, 2.0298, 2.0295, 2.0282, 2.0272, 2.0266, 2.026, 2.0241, 2.0241, 2.024, 2.0178, 2.0178, 2.0178, 2.0178, 2.0178, 2.0166, 2.0154, 2.0132, 2.0123, 2.0095, 2.0094, 2.0082, 2.0065, 2.0064, 2.0055, 2.0046, 2.0006, 2.0005, 2.0002, 2.0002, 2.0002, 1.9975, 1.9633, 1.9586, 1.9566, 1.9378, 1.8847, 1.6389, 1.1662, 1.4933, 1.1787, 0.5367, 0.9963, 1.2293, 1.3461, 0.7835, 1.5556, 0.8622, 1.4847, 0.9727, 0.9899, 2.0897, 2.0897, 2.0897, 2.0897, 2.0897, 2.0885, 2.0706, 2.0678, 2.0655, 2.0605, 2.06, 2.0586, 2.0586, 2.0586, 2.0577, 2.0577, 2.057, 2.0564, 2.056, 2.0531, 2.0528, 2.0488, 2.0464, 2.0461, 2.0441, 2.0433, 2.043, 2.0425, 2.0424, 2.0423, 2.0316, 2.0401, 2.0395, 2.019, 2.0115, 2.0115, 2.0111, 1.9959, 2.02, 1.9435, 1.7312, 1.8776, 1.2364, 1.9162, 0.5119, 0.7546, 1.061, -0.7067, 0.012, 0.9888, 0.3116, 1.327, 2.1804, 2.1756, 2.1756, 2.1756, 2.1744, 2.1725, 2.1678, 2.1623, 2.1603, 2.157, 2.1532, 2.1517, 2.1496, 2.1462, 2.1462, 2.1451, 2.1441, 2.1414, 2.1395, 2.1393, 2.1376, 2.1357, 2.1356, 2.1356, 2.1356, 2.1356, 2.1356, 2.1355, 2.1352, 2.1347, 2.1301, 2.0768, 2.1263, 2.0441, 1.9073, 2.059, 1.9965, 2.007, 1.9226, 1.8887, 1.9706, 1.9706, 1.5293, 1.5709, 1.5628, 1.5578, 0.0373, 1.2026]}, \"token.table\": {\"Topic\": [1, 2, 7, 5, 3, 1, 2, 3, 4, 7, 1, 2, 2, 1, 6, 5, 1, 3, 4, 6, 6, 7, 6, 1, 2, 3, 4, 5, 6, 7, 1, 7, 1, 2, 3, 4, 5, 6, 7, 2, 6, 1, 3, 4, 5, 7, 1, 2, 3, 4, 5, 6, 7, 3, 1, 2, 3, 5, 6, 6, 1, 3, 7, 2, 4, 7, 5, 2, 1, 5, 5, 4, 6, 7, 4, 7, 5, 3, 7, 2, 5, 7, 5, 4, 1, 5, 5, 4, 4, 6, 1, 2, 3, 4, 5, 6, 7, 4, 1, 3, 4, 5, 6, 7, 3, 6, 1, 1, 1, 6, 2, 1, 6, 1, 3, 6, 7, 2, 4, 5, 6, 7, 1, 2, 3, 4, 5, 6, 1, 2, 3, 4, 5, 6, 1, 2, 3, 4, 6, 7, 3, 1, 3, 5, 7, 7, 6, 4, 7, 2, 1, 1, 1, 7, 5, 4, 2, 6, 5, 2, 3, 5, 7, 5, 2, 7, 1, 2, 4, 5, 6, 7, 7, 3, 5, 6, 7, 3, 5, 1, 4, 1, 3, 4, 7, 2, 1, 5, 1, 3, 4, 5, 6, 7, 3, 2, 4, 6, 1, 1, 5, 2, 4, 1, 2, 3, 4, 5, 6, 7, 1, 3, 4, 5, 7, 1, 3, 4, 6, 7, 4, 1, 6, 7, 4, 4, 6, 1, 3, 4, 1, 2, 3, 4, 5, 6, 7, 3, 6, 7, 1, 2, 5, 1, 2, 4, 5, 6, 7, 5, 1, 2, 3, 4, 5, 6, 4, 2, 1, 2, 3, 4, 5, 6, 7, 5, 3, 6, 6, 3, 2, 3, 5, 7, 2, 3, 4, 5, 6, 7, 1, 2, 3, 4, 5, 6, 7, 6, 4, 4, 3, 1, 2, 4, 5, 6, 7, 1, 2, 3, 4, 5, 6, 7, 4, 3, 4, 5, 2, 7, 1, 4, 5, 1, 2, 3, 4, 5, 6, 7, 3, 4, 7, 6, 3, 4, 2, 3, 4, 5, 7, 1, 2, 3, 4, 5, 6, 7, 2, 3, 4, 5, 6, 7, 2, 5, 6, 1, 5, 2, 5, 2, 7, 4, 3, 1, 3, 2, 7, 2, 6, 3, 1, 2, 3, 5, 6, 7, 3, 4, 1, 2, 6, 7, 7, 1, 2, 4, 6, 3, 3, 5, 2, 2, 5, 6, 7, 2, 2, 1, 3, 4, 5, 7, 6, 4, 7, 1, 2, 7, 3, 4, 6, 7, 1, 6, 7, 1, 6, 1, 2, 5, 1, 2, 3, 4, 5, 6, 3, 1, 6, 1, 2, 3, 4, 5, 6, 7, 2, 6, 2, 3, 7, 2, 7, 1, 2, 7, 5, 2, 3, 4, 4, 7, 1, 2, 3, 5, 6, 3, 6, 1, 7, 7, 3, 7, 1, 1, 5, 2, 6, 5, 1, 2, 1, 3, 4, 5, 7, 4, 7, 6, 1, 2, 1, 1, 2, 3, 4, 5, 6, 7, 1, 2, 4, 5, 6, 3, 6, 1, 7, 3, 3, 6, 4, 2, 7, 3, 3, 7, 6, 7, 2, 2, 5, 7, 1, 3, 6, 6, 1, 7, 5, 7, 6, 3, 6, 1, 4, 5, 6, 6, 2, 3, 4, 5, 6, 7, 1, 2, 3, 4, 5, 4, 1, 2, 3, 4, 6, 7, 5, 1, 2, 4, 7, 1, 1, 2, 5, 7, 1, 2, 3, 5, 7, 2, 6, 1, 2, 3, 4, 5, 6, 7, 3, 5, 4, 6, 7, 1, 2, 3, 4, 5, 6, 7, 1, 3, 7, 1, 2, 3, 5, 7, 2, 6, 3, 7, 5, 1, 2, 3, 4, 5, 3, 1, 2, 3, 4, 5, 6, 7, 3, 1, 3, 6, 6, 1, 4, 5, 6, 1, 4, 7, 1, 2, 3, 4, 5, 6, 7, 1, 7, 6, 3, 3, 1, 2, 4, 5, 6, 7, 1, 6, 7, 2, 3, 5, 6, 7, 7, 3, 2, 6, 4, 4, 2, 3, 5, 6, 7, 1, 2, 6, 1, 2, 5, 2, 2, 3, 5, 6, 3, 1, 2, 4, 5, 7, 1, 2, 3, 4, 5, 6, 7, 2, 7, 1, 2, 6, 4, 5], \"Freq\": [0.26202336897145245, 0.6878113435500627, 0.04912938168214734, 0.978004247371869, 0.9813905080918424, 0.042975745192830477, 0.36959140865834206, 0.1633078317327558, 0.24066417307985066, 0.1890932788484541, 0.03774253283713943, 0.9435633209284857, 0.9744437920641422, 0.9411163935604605, 0.9606304273009729, 0.9820789221309209, 0.138584017592795, 0.10393801319459625, 0.2944910373846894, 0.46772105937568315, 0.8415884997268258, 0.12947515380412705, 0.9518282257470437, 0.9846594551879018, 0.0030722603906018775, 0.0020481735937345853, 0.003584303789035524, 0.0015361301953009387, 0.0020481735937345853, 0.0025602169921682314, 0.9975687376515942, 0.9731494553903274, 0.02726890875929036, 0.2181512700743229, 0.23633054258051647, 0.09089636253096788, 0.34540617761767795, 0.06362745377167751, 0.009089636253096786, 0.06502548249563904, 0.9298643996876383, 0.003611638488226746, 0.010834915464680238, 0.028893107905813967, 0.003611638488226746, 0.9534725608918608, 0.0594365814006478, 0.26321914620286885, 0.09340034220101798, 0.16132786380175831, 0.33963760800370174, 0.033963760800370175, 0.05094564120055526, 0.9798935619852426, 0.014247229002974728, 0.2706973510565199, 0.05698891601189891, 0.5698891601189892, 0.08548337401784838, 0.9310930227494973, 0.033631959121452865, 0.05605326520242144, 0.896852243238743, 0.9472597126202675, 0.1590878680173343, 0.7954393400866715, 0.978003005253037, 0.9660514633347603, 0.9759870531287819, 0.9603656586756576, 0.9780053404230227, 0.9219523298971447, 0.9985952329506507, 0.9390485483390998, 0.9677449923087579, 0.9586906267147332, 0.985631839317631, 0.9982431765067704, 0.9768900783775066, 0.022027322452718504, 0.9471748654668956, 0.022027322452718504, 0.9435731688125355, 0.9925619049035561, 0.07389183669720119, 0.9236479587150148, 0.9435731688125355, 0.9699857584318431, 0.943032920014845, 0.9785771763752442, 0.05958670669218249, 0.28516495345544474, 0.04256193335155892, 0.09789244670858552, 0.353264046817939, 0.04256193335155892, 0.12342960671952086, 0.9534427620248851, 0.04669646442929804, 0.2568305543611392, 0.05837058053662255, 0.29185290268311276, 0.3268752510050863, 0.02334823221464902, 0.9980592413612318, 0.9689743724734311, 0.9762204181506344, 0.998175347831109, 0.9975687376515942, 0.9618466551495516, 0.9533567317050334, 0.9975687376515942, 0.9985952329506507, 0.07425431304364855, 0.08910517565237826, 0.6979905426102964, 0.1336577634785674, 0.5992957691680378, 0.09219934910277505, 0.2151318145731418, 0.06146623273518337, 0.030733116367591684, 0.012880301152929576, 0.8694203278227464, 0.006440150576464788, 0.03220075288232394, 0.05796135518818309, 0.019320451729394363, 0.030120621474442527, 0.17068352168850764, 0.16064331453036015, 0.40160828632590034, 0.1104422787396226, 0.13052269305591763, 0.015127931031804156, 0.12102344825443324, 0.04538379309541247, 0.6353731033357746, 0.10589551722262909, 0.07563965515902078, 0.9982431765067704, 0.01775080164173894, 0.01775080164173894, 0.0887540082086947, 0.869789280445208, 0.9885535197592638, 0.9294830860210234, 0.9979154553410378, 0.0013467145146302804, 0.9822997758771226, 0.9641714239806655, 0.9975687376515942, 0.9635246560009174, 0.9517409131085752, 0.9435731688125355, 0.9479262047531133, 0.9670308261759303, 0.9656343410041219, 0.9802845434686194, 0.6871075952978781, 0.03616355764725674, 0.23506312470716884, 0.01808177882362837, 0.988384130213928, 0.9886552396959845, 0.9766537246111533, 0.0380578338199406, 0.16491727988640925, 0.570867507299109, 0.17760322449305613, 0.012685944606646866, 0.0380578338199406, 0.9684466554046844, 0.05563607689668371, 0.044508861517346975, 0.3560708921387758, 0.5341063382081637, 0.973245529520055, 0.9853725247966124, 0.9446893903464457, 0.9675879318917305, 0.0296882867070254, 0.25235043700971593, 0.38594772719133025, 0.3117270104237667, 0.987405235358965, 0.9997623040219108, 0.9782154062767804, 0.09281854523880065, 0.09281854523880065, 0.0696139089291005, 0.5801159077425041, 0.03480695446455025, 0.1276254997033509, 0.9558591260122177, 0.06931392412308796, 0.04620928274872531, 0.8548717308514182, 0.952734592488852, 0.9414422245508336, 0.9811252653400567, 0.9693795911545251, 0.943032920014845, 0.026950860199523113, 0.45816462339189296, 0.01796724013301541, 0.08983620066507705, 0.1796724013301541, 0.04491810033253853, 0.1706887812636464, 0.0036217346024961915, 0.010865203807488575, 0.028973876819969532, 0.0036217346024961915, 0.9525162004564983, 0.02290100638784165, 0.16030704471489154, 0.3664161022054664, 0.06870301916352495, 0.3778666053993872, 0.9227683132876002, 0.02774165658479304, 0.08322496975437912, 0.8877330107133773, 0.9352974296642287, 0.943032920014845, 0.9512190156736027, 0.06665782388345712, 0.8998806224266711, 0.9440686507143482, 0.05035467877081606, 0.35988785121495004, 0.06812691833698642, 0.12144363703549754, 0.22215299457712964, 0.06072181851774877, 0.11700057714395495, 0.036589833509647764, 0.9147458377411941, 0.9475771364103249, 0.9759875136202096, 0.9749389286248381, 0.9880282422353771, 0.19109333973236503, 0.18401580863116634, 0.22648099523835857, 0.2547911196431534, 0.01415506220239741, 0.1344730909227754, 0.978000337727287, 0.05649623522764936, 0.2824811761382468, 0.02824811761382468, 0.4519698818211949, 0.16948870568294808, 0.01412405880691234, 0.9352974296642287, 0.9760083624340122, 0.06673380277993499, 0.17795680741315997, 0.17795680741315997, 0.37815821575296493, 0.08897840370657999, 0.03336690138996749, 0.0778561032432575, 0.9487578296529237, 0.9465988380368385, 0.9741966371537438, 0.9747772367298492, 0.9364537660770575, 0.1561345518142946, 0.13531661157238864, 0.6661740877409903, 0.031226910362858917, 0.11334317410488594, 0.05667158705244297, 0.17001476115732891, 0.12953505611986965, 0.008095941007491853, 0.5181402244794786, 0.005525809783516742, 0.01657742935055023, 0.03315485870110046, 0.1160420054538516, 0.04420647826813394, 0.027629048917583714, 0.7570359403417938, 0.9966139297124966, 0.9129582372855655, 0.9352974296642287, 0.9884344325252841, 0.025523163061595428, 0.07656948918478627, 0.6125559134782902, 0.2552316306159543, 0.025523163061595428, 0.9578811073246627, 0.007088819886296959, 0.6557158394824687, 0.021266459658890877, 0.060254969033524154, 0.09569906846500895, 0.12405434801019678, 0.03898850937463327, 0.9273782137437613, 0.001697342000116172, 0.996339754068193, 0.976369396929676, 0.9475152189472, 0.9657282098857541, 0.9602577447900901, 0.07420857352249316, 0.8905028822699178, 0.033128890005489076, 0.8282222501372268, 0.027105455459036514, 0.0030117172732262794, 0.04517575909839419, 0.04517575909839419, 0.015058586366131397, 0.9982431765067704, 0.9979154553410378, 0.0013467145146302804, 0.9985952329506507, 0.001697342000116172, 0.996339754068193, 0.07712477349420353, 0.09916042306397597, 0.12119607263374842, 0.15424954698840707, 0.5398734144594247, 0.0065652282619771685, 0.3479570978847899, 0.3479570978847899, 0.013130456523954337, 0.07221751088174885, 0.1050436521916347, 0.11817410871558903, 0.4682262126043224, 0.05444490844236307, 0.141556761950144, 0.11977879857319876, 0.17422370701556184, 0.04355592675389046, 0.9147703330082051, 0.06308760917297966, 0.9601414997687677, 0.944690246593044, 0.9512887224849019, 0.965444856158598, 0.9802845434686194, 0.9943472035644119, 0.004419320904730719, 0.9219168818948918, 0.9452988906438067, 0.9982151970379207, 0.9985970664367126, 0.9914452200200697, 0.004426094732232454, 0.9700998784630551, 0.9719223319170673, 0.9798935619852426, 0.009369206401003539, 0.4497219072481699, 0.29981460483211325, 0.12179968321304602, 0.037476825604014156, 0.07495365120802831, 0.001697342000116172, 0.996339754068193, 0.031449471543171084, 0.015724735771585542, 0.9434841462951326, 0.015724735771585542, 0.9796201880387261, 0.9997623040219108, 0.8911280778938959, 0.03300474362569985, 0.0660094872513997, 0.9980592413612318, 0.9980592413612318, 0.9780020012944132, 0.9451709875152319, 0.9778335492136285, 0.97877388692381, 0.1579604703063485, 0.8349339144764135, 0.9797632368938218, 0.9660565557691948, 0.0036216629867700466, 0.01086498896031014, 0.028973303894160373, 0.0036216629867700466, 0.9524973655205222, 0.9464484175123071, 0.1590878680173343, 0.7954393400866715, 0.002210274982236215, 0.9946237420062967, 0.002210274982236215, 0.5682143973167056, 0.18264034199465537, 0.020293371332739486, 0.22322708466013436, 0.01652328085791757, 0.231325932010846, 0.7435476386062907, 0.037520623303504565, 0.9380155825876142, 0.12249398264827607, 0.8710683210544077, 0.9849831962183503, 0.011050110365070078, 0.5414554078884339, 0.055250551825350394, 0.07735077255549055, 0.23205231766647166, 0.07735077255549055, 0.9822609778139244, 0.9478383232772442, 0.9677768142791116, 0.011372929746655994, 0.3241284977796959, 0.11941576233988795, 0.03980525411329598, 0.42079840062627183, 0.05117818385995198, 0.034118789239967987, 0.07395766318209127, 0.9220055343367377, 0.10628784799124728, 0.05314392399562364, 0.8325881425981038, 0.04421188714779143, 0.92844963010362, 0.06624738242757665, 0.7949685891309197, 0.1324947648551533, 0.974563906524402, 0.9806941790386745, 0.001697342000116172, 0.996339754068193, 0.9979154553410378, 0.0013467145146302804, 0.009246149002075202, 0.018492298004150403, 0.009246149002075202, 0.9246149002075201, 0.036984596008300806, 0.03949526820352704, 0.947886436884649, 0.04123268290311867, 0.9483517067717294, 0.9782972889401894, 0.9604514320824946, 0.0417587579166302, 0.9446891236733297, 0.7658746073143331, 0.19146865182858328, 0.07395766318209127, 0.9220055343367377, 0.9642320008042287, 0.18926394383254405, 0.8094673290068807, 0.003621663026492208, 0.010864989079476623, 0.028973304211937664, 0.003621663026492208, 0.9524973759674508, 0.9979154553410378, 0.0013467145146302804, 0.9985952329506507, 0.9997623040219108, 0.9699292782970674, 0.952734592488852, 0.0320146047900627, 0.16718738057032745, 0.106715349300209, 0.213430698600418, 0.4161898622708151, 0.017785891550034835, 0.04624331803009057, 0.03708765277154095, 0.03708765277154095, 0.8901036665169827, 0.03708765277154095, 0.03708765277154095, 0.08464790582564169, 0.9141973829169302, 0.9992614476451889, 0.9718475647277799, 0.9701202036585168, 0.9841527457304777, 0.978343114877958, 0.943032920014845, 0.9557536209849211, 0.9885520291306571, 0.9769324343349878, 0.9982431765067704, 0.9607752324675192, 0.9512190156736027, 0.9383866799326368, 0.9782325830028471, 0.9805812065650487, 0.9832525901289951, 0.9649922106450299, 0.03431795223358226, 0.6520410924380631, 0.29170259398544923, 0.9512190156736027, 0.9481699364937093, 0.9885510995908164, 0.9886000388319461, 0.9586705804337804, 0.9574134053958808, 0.997949990969189, 0.9734587688295346, 0.147330011731007, 0.589320046924028, 0.0883980070386042, 0.147330011731007, 0.9821723365535997, 0.3811285672061556, 0.03811285672061556, 0.07622571344123112, 0.15245142688246224, 0.2591674257001858, 0.08384828478535424, 0.06648629351591581, 0.14959416041081058, 0.09972944027387372, 0.36567461433753695, 0.29918832082162117, 0.9352974296642287, 0.010401287192308577, 0.3432424773461831, 0.11441415911539435, 0.40565020050003453, 0.010401287192308577, 0.11441415911539435, 0.9855903910656038, 0.06224497052135337, 0.7625008888865787, 0.04668372789101503, 0.12448994104270673, 0.9536712310470373, 0.9641714239806655, 0.18108274153819723, 0.049386202237690156, 0.7737171683904791, 0.6570884911374635, 0.07466914672016631, 0.10453680540823282, 0.10453680540823282, 0.04480148803209978, 0.9948189970785419, 0.004215334733383652, 0.06367323792712794, 0.10612206321187989, 0.17687010535313316, 0.3325157980638903, 0.26176775592263707, 0.028299216856501302, 0.021224412642375977, 0.9729129330052554, 0.948232551776274, 0.9647130344975826, 0.8114081405153263, 0.16787754631351579, 0.021136450665184107, 0.12681870399110465, 0.09863676977085917, 0.2113645066518411, 0.4438654639688663, 0.028181934220245477, 0.06340935199555232, 0.952173657059646, 0.8088680681229061, 0.16735201409439437, 0.01119909664876408, 0.24638012627280972, 0.12319006313640486, 0.07839367654134854, 0.5375566391406758, 0.07429165066671564, 0.9212164682672739, 0.9823216777084616, 0.9930185600559865, 0.9609094363745251, 0.020240662943218697, 0.21252696090379633, 0.16192530354574958, 0.10120331471609349, 0.4958962421088581, 0.9798935619852426, 0.0552696426861575, 0.29845607050525047, 0.17133589232708824, 0.10501232110369925, 0.12712017817816224, 0.20449767793878273, 0.0331617856116945, 0.971626243841546, 0.15618258503382743, 0.8093097588116512, 0.028396833642514076, 0.9438923721056649, 0.9981265974108946, 0.0005303541962863415, 0.0005303541962863415, 0.0005303541962863415, 0.048726210580782706, 0.8770717904540887, 0.048726210580782706, 0.030520823894516252, 0.12644341327728162, 0.16132435487101449, 0.2790475327498629, 0.2834076504490795, 0.04796129469138268, 0.07412200088668233, 0.9980537684846297, 0.9679163659405707, 0.9606304273009729, 0.9787617247863444, 0.9980592413612318, 0.03246120806375306, 0.03246120806375306, 0.9089138257850856, 0.03246120806375306, 0.03246120806375306, 0.996941715474202, 0.004372705502883644, 0.004372705502883644, 0.9882314436517036, 0.21567216432506114, 0.13621399852109123, 0.17026749815136405, 0.419993162106698, 0.04540466617369708, 0.9586610535788862, 0.9596450921040872, 0.9807000325218356, 0.9985952329506507, 0.9593935934317537, 0.9250684947305488, 0.1302879431450837, 0.11581150501785219, 0.6224868394709555, 0.07238219063615761, 0.057905752508926094, 0.061458132675371556, 0.9218719901305733, 0.9719401174883636, 0.009462439866572185, 0.06623707906600529, 0.9178566670575019, 0.9806922646028894, 0.02912877167893155, 0.8010412211706177, 0.1165150867157262, 0.04369315751839733, 0.9608879734405268, 0.01033101757364337, 0.4958888435348818, 0.07231712301550358, 0.3719166326511613, 0.05165508786821685, 0.035318084666609, 0.24722659266626298, 0.08240886422208767, 0.07652251677765283, 0.3060900671106113, 0.17070407588861017, 0.08240886422208767, 0.9883481684842655, 0.964176623002618, 0.8702721372439884, 0.062162295517427746, 0.062162295517427746, 0.11435731126464978, 0.8462441033584084], \"Term\": [\"ad\", \"ad\", \"ad\", \"ad_recipe\", \"addicts_stop\", \"adventure\", \"adventure\", \"adventure\", \"adventure\", \"adventure\", \"air\", \"air\", \"airport\", \"america\", \"americas_best\", \"argentina\", \"australia\", \"australia\", \"australia\", \"australia\", \"awesome\", \"awesome\", \"baby_prize\", \"beach\", \"beach\", \"beach\", \"beach\", \"beach\", \"beach\", \"beach\", \"beach_condominiums\", \"beaches\", \"beautiful\", \"beautiful\", \"beautiful\", \"beautiful\", \"beautiful\", \"beautiful\", \"beautiful\", \"beautiful_israel\", \"beautiful_israel\", \"bed_breakfasts\", \"bed_breakfasts\", \"bed_breakfasts\", \"bed_breakfasts\", \"bed_breakfasts\", \"best\", \"best\", \"best\", \"best\", \"best\", \"best\", \"best\", \"best_wine\", \"blog\", \"blog\", \"blog\", \"blog\", \"blog\", \"bloggers\", \"book\", \"book\", \"book\", \"brasil\", \"brings_amazing\", \"brings_amazing\", \"buche_de\", \"buildings\", \"bundle_check\", \"c\", \"cake_ganache\", \"cambodia\", \"campers_rvs\", \"capital\", \"caribbean\", \"cave_igloo\", \"celebrate\", \"chalets_rent\", \"chance\", \"chance_win\", \"chance_win\", \"chance_win\", \"change_lives\", \"cheap_flights\", \"check\", \"check\", \"check_unique\", \"cheer\", \"chicken_casserole\", \"china\", \"christmas\", \"christmas\", \"christmas\", \"christmas\", \"christmas\", \"christmas\", \"christmas\", \"christmas_tree\", \"city\", \"city\", \"city\", \"city\", \"city\", \"city\", \"city_reflexion\", \"click\", \"clownfish_redsea\", \"condo\", \"condo_steps\", \"conozcopablo\", \"contact\", \"cozy_san\", \"crafted_gypsy\", \"cruise\", \"cruise\", \"cruise\", \"cruise\", \"daily\", \"daily\", \"daily\", \"daily\", \"daily\", \"daily_thanks\", \"daily_thanks\", \"daily_thanks\", \"daily_thanks\", \"daily_thanks\", \"daily_thanks\", \"day\", \"day\", \"day\", \"day\", \"day\", \"day\", \"de\", \"de\", \"de\", \"de\", \"de\", \"de\", \"de_celeste\", \"deals\", \"deals\", \"deals\", \"deals\", \"debate\", \"decor\", \"desert_retreat\", \"desert_retreat\", \"destinations\", \"destinosin\", \"diego\", \"discover_sponsors\", \"dogs\", \"drea\", \"dream\", \"drone_cameras\", \"edition\", \"en_argentina\", \"enter\", \"enter\", \"enter\", \"enter\", \"enter_chance\", \"enter_win\", \"escape\", \"family\", \"family\", \"family\", \"family\", \"family\", \"family\", \"family_favorite\", \"familytravel\", \"familytravel\", \"familytravel\", \"familytravel\", \"favorite\", \"feature\", \"fish_fishtank\", \"florida\", \"food\", \"food\", \"food\", \"food\", \"forget\", \"found_mission\", \"frizemedia\", \"gift\", \"gift\", \"gift\", \"gift\", \"gift\", \"gift\", \"gift_guide\", \"gift_ideas\", \"gift_ideas\", \"gift_ideas\", \"gifts_prizes\", \"giving\", \"going_paris\", \"goodfoods_sharethegoo\", \"goodness_community\", \"great\", \"great\", \"great\", \"great\", \"great\", \"great\", \"great\", \"guest_room\", \"guest_room\", \"guest_room\", \"guest_room\", \"guest_room\", \"guide\", \"guide\", \"guide\", \"guide\", \"guide\", \"guide_tips\", \"h\", \"h\", \"h\", \"hark_hey\", \"healthy_broccoli\", \"himalayas_bookreview\", \"history\", \"history\", \"holid\", \"holiday\", \"holiday\", \"holiday\", \"holiday\", \"holiday\", \"holiday\", \"holiday\", \"holiday_baking\", \"holiday_baking\", \"holiday_giveaways\", \"holiday_lip\", \"holiday_meal\", \"holiday_payday\", \"holiday_season\", \"holiday_season\", \"holiday_season\", \"holiday_season\", \"holiday_season\", \"holiday_season\", \"holiday_yulelog\", \"holidays\", \"holidays\", \"holidays\", \"holidays\", \"holidays\", \"holidays\", \"holidays_nyc\", \"hong_kong\", \"hotel\", \"hotel\", \"hotel\", \"hotel\", \"hotel\", \"hotel\", \"hotel\", \"house\", \"inn\", \"islands\", \"israel_readon\", \"istanbul\", \"italy\", \"italy\", \"italy\", \"italy\", \"japan\", \"japan\", \"japan\", \"japan\", \"japan\", \"japan\", \"japan_japantravel\", \"japan_japantravel\", \"japan_japantravel\", \"japan_japantravel\", \"japan_japantravel\", \"japan_japantravel\", \"japan_japantravel\", \"jerusalem\", \"jewelry\", \"join_tiny\", \"keukenhof\", \"know\", \"know\", \"know\", \"know\", \"know\", \"kyoto\", \"latest\", \"latest\", \"latest\", \"latest\", \"latest\", \"latest\", \"latest\", \"lifestyle\", \"lighthouses_rent\", \"lighthouses_rent\", \"lights_extravaganza\", \"like_post\", \"little\", \"live\", \"looking\", \"looking\", \"love\", \"love\", \"love\", \"love\", \"love\", \"love\", \"love\", \"love_chalet\", \"love_dragonfly\", \"love_dragonfly\", \"love_hand\", \"love_wings\", \"love_wings\", \"loyalty\", \"loyalty\", \"loyalty\", \"loyalty\", \"loyalty\", \"lp\", \"lp\", \"lp\", \"lp\", \"lp\", \"lp\", \"lp\", \"luxury\", \"luxury\", \"luxury\", \"luxury\", \"luxury\", \"luxury\", \"luxurytravel\", \"luxurytravel\", \"makes\", \"marinelife_ocean\", \"marketing\", \"memories_win\", \"mi_experiencia\", \"mid_century\", \"mid_century\", \"million\", \"miss\", \"mission_beach\", \"mm_store\", \"modern_houses\", \"modern_houses\", \"morocco\", \"mydayinla\", \"napa_thrillist\", \"nature\", \"nature\", \"nature\", \"nature\", \"nature\", \"nature\", \"neck_lighthouse\", \"neck_lighthouse\", \"new_york\", \"new_york\", \"new_york\", \"new_york\", \"news_week\", \"nice_vacation\", \"night\", \"night\", \"night\", \"nikon_nikon\", \"nikoncanada_vatican\", \"noel_ganache\", \"norway\", \"np\", \"nyc_brooklyn\", \"online\", \"online\", \"online_shop\", \"online_shopping\", \"owl_house\", \"owl_house\", \"owl_house\", \"owl_house\", \"owl_house\", \"pack\", \"packages_book\", \"packages_book\", \"palm_springs\", \"palm_springs\", \"palm_springs\", \"paradise\", \"paradise\", \"paradise\", \"paradise\", \"paris\", \"paris\", \"paris\", \"paris_france\", \"paris_france\", \"party\", \"party\", \"periscope_christmas\", \"photo\", \"photo\", \"photo\", \"photo\", \"photo\", \"photo\", \"photo_popular\", \"photo_proof\", \"photog\", \"photography\", \"photography\", \"photography\", \"photography\", \"photography\", \"photography\", \"photography\", \"photography_helena\", \"photography_helena\", \"photography_photooftheday\", \"photography_photooftheday\", \"photography_photooftheday\", \"photooftheday\", \"photooftheday\", \"place\", \"place\", \"place\", \"planning\", \"planning_breeze\", \"pocasset\", \"pocasset\", \"pool_houses\", \"pool_houses\", \"post\", \"post\", \"post\", \"post\", \"post\", \"pro\", \"pro\", \"ready\", \"ready\", \"recipe\", \"recipes\", \"recipes\", \"reef_coral\", \"reeftank_reefcandy\", \"reeftank_reefcandy\", \"reet_ennet\", \"reet_ennet\", \"related_project\", \"rent\", \"rent\", \"rent_hightown\", \"rent_hightown\", \"rent_hightown\", \"rent_hightown\", \"rent_hightown\", \"rent_pioneertown\", \"rent_pioneertown\", \"rent_seattle\", \"rental_condo\", \"right\", \"rsvp_twitterparty\", \"rt\", \"rt\", \"rt\", \"rt\", \"rt\", \"rt\", \"rt\", \"rt_viajes\", \"rt_viajes\", \"rt_viajes\", \"rt_viajes\", \"rt_viajes\", \"sale\", \"sale\", \"san_diego\", \"set\", \"shadowfax_marcwainwright\", \"shop\", \"shopping_lastminute\", \"simple_holiday\", \"social\", \"solution_emotional\", \"south\", \"south_lake\", \"spectacular_sunset\", \"spiti_grace\", \"spots_dubrovnik\", \"spread_gathering\", \"started\", \"steemit\", \"store\", \"storystream\", \"storystream\", \"storystream\", \"sublime_review\", \"sup\", \"support_animal\", \"sweeps\", \"switzerland_familytravel\", \"sydney\", \"tahoe\", \"texas\", \"thailand\", \"thailand\", \"thailand\", \"thailand\", \"thank\", \"thanks\", \"thanks\", \"thanks\", \"thanks\", \"thanks\", \"thanks\", \"things\", \"things\", \"things\", \"things\", \"things\", \"tim_celebrate\", \"tips\", \"tips\", \"tips\", \"tips\", \"tips\", \"tips\", \"tis_season\", \"today\", \"today\", \"today\", \"today\", \"today_beautyreview\", \"today_daily\", \"tokyo\", \"tokyo\", \"tokyo\", \"tour\", \"tour\", \"tour\", \"tour\", \"tour\", \"touri\", \"touri\", \"tourism\", \"tourism\", \"tourism\", \"tourism\", \"tourism\", \"tourism\", \"tourism\", \"tourism_frizemedia\", \"tourist\", \"travelbloggers\", \"travelers\", \"travelers\", \"traveller\", \"traveller\", \"traveller\", \"traveller\", \"traveller\", \"traveller\", \"traveller\", \"traveller_video\", \"travelling\", \"travelling\", \"travelphotography\", \"travelphotography\", \"travelphotography\", \"travelphotography\", \"travelphotography\", \"travelpics_travelblogger\", \"travelpics_travelblogger\", \"travelpix\", \"traveltips_joyforall\", \"tree\", \"trip\", \"trip\", \"trip\", \"trip\", \"trip\", \"trips_california\", \"ttot\", \"ttot\", \"ttot\", \"ttot\", \"ttot\", \"ttot\", \"ttot\", \"tulip_rainbow\", \"tulipsinholland_spring\", \"tulipsinholland_spring\", \"tulipsinholland_spring\", \"u\", \"usa\", \"usa\", \"usa\", \"usa\", \"use\", \"use\", \"use\", \"vacation\", \"vacation\", \"vacation\", \"vacation\", \"vacation\", \"vacation\", \"vacation\", \"vacation_rental\", \"vacations\", \"value_inn\", \"vantage_hospitality\", \"vatican_rome\", \"viajar\", \"viajar\", \"viajar\", \"viajar\", \"viajar\", \"viet_bamboo\", \"vietnam\", \"vietnam\", \"vietnam\", \"visit\", \"visit\", \"visit\", \"visit\", \"visit\", \"visiting_glacier\", \"voyager\", \"w_enter\", \"wagon_heart\", \"wanderlust_ttot\", \"wanted\", \"way\", \"way\", \"way\", \"way\", \"way\", \"weather\", \"weather\", \"wedding\", \"win\", \"win\", \"win\", \"win_u\", \"wine\", \"wine\", \"wine\", \"wine\", \"wine_winelover\", \"winter\", \"winter\", \"winter\", \"winter\", \"winter\", \"world\", \"world\", \"world\", \"world\", \"world\", \"world\", \"world\", \"year\", \"yes\", \"youtube\", \"youtube\", \"youtube\", \"yummy\", \"yummy\"]}, \"R\": 30, \"lambda.step\": 0.01, \"plot.opts\": {\"xlab\": \"PC1\", \"ylab\": \"PC2\"}, \"topic.order\": [1, 5, 6, 2, 3, 7, 4]};\n",
       "\n",
       "function LDAvis_load_lib(url, callback){\n",
       "  var s = document.createElement('script');\n",
       "  s.src = url;\n",
       "  s.async = true;\n",
       "  s.onreadystatechange = s.onload = callback;\n",
       "  s.onerror = function(){console.warn(\"failed to load library \" + url);};\n",
       "  document.getElementsByTagName(\"head\")[0].appendChild(s);\n",
       "}\n",
       "\n",
       "if(typeof(LDAvis) !== \"undefined\"){\n",
       "   // already loaded: just create the visualization\n",
       "   !function(LDAvis){\n",
       "       new LDAvis(\"#\" + \"ldavis_el12712131833943043456269984\", ldavis_el12712131833943043456269984_data);\n",
       "   }(LDAvis);\n",
       "}else if(typeof define === \"function\" && define.amd){\n",
       "   // require.js is available: use it to load d3/LDAvis\n",
       "   require.config({paths: {d3: \"https://d3js.org/d3.v5\"}});\n",
       "   require([\"d3\"], function(d3){\n",
       "      window.d3 = d3;\n",
       "      LDAvis_load_lib(\"https://cdn.jsdelivr.net/gh/bmabey/pyLDAvis@3.3.1/pyLDAvis/js/ldavis.v3.0.0.js\", function(){\n",
       "        new LDAvis(\"#\" + \"ldavis_el12712131833943043456269984\", ldavis_el12712131833943043456269984_data);\n",
       "      });\n",
       "    });\n",
       "}else{\n",
       "    // require.js not available: dynamically load d3 & LDAvis\n",
       "    LDAvis_load_lib(\"https://d3js.org/d3.v5.js\", function(){\n",
       "         LDAvis_load_lib(\"https://cdn.jsdelivr.net/gh/bmabey/pyLDAvis@3.3.1/pyLDAvis/js/ldavis.v3.0.0.js\", function(){\n",
       "                 new LDAvis(\"#\" + \"ldavis_el12712131833943043456269984\", ldavis_el12712131833943043456269984_data);\n",
       "            })\n",
       "         });\n",
       "}\n",
       "</script>"
      ],
      "text/plain": [
       "<IPython.core.display.HTML object>"
      ]
     },
     "execution_count": 19,
     "metadata": {},
     "output_type": "execute_result"
    }
   ],
   "source": [
    "vis = gensimvis.prepare(topic_model=lda_tfidf_model.model, corpus=lda_tfidf_model.corpus_tfidf, dictionary=basic_model.id2word)\n",
    "pyLDAvis.enable_notebook()\n",
    "pyLDAvis.display(vis)"
   ]
  },
  {
   "cell_type": "markdown",
   "id": "2a6f9d3b",
   "metadata": {},
   "source": [
    "# 4. Model Selection and Analysis\n",
    "\n"
   ]
  },
  {
   "cell_type": "markdown",
   "id": "03e21e46",
   "metadata": {},
   "source": [
    "## 4.1 Model Selection<a class=\"anchor\" id=\"4.1\"></a>\n",
    "\n",
    "## Bow vs TF-IDF\n",
    "Based on the grid-search values, we can identify the <b>Bow</b> model has slightly higher scores than the <b>IDF</b> model. In addition, the highest coherance score in bow gird search shows that the best number of topics is between 8-11 in comparison to <b>IDF</b> where the topics are between 4-6.\n",
    "\n",
    "\n",
    "### Is coherance a good evaluation metric?\n",
    "It's the best metric to get an understanding if your model is performing well. However, it can not always be trusted 100%.\n",
    "Taking the example above, the <b>Bow</b> clusters are not coherant at all. \n",
    "* Many words appear in all clusters (i.e. San Diego, USA, vacation holiday etc.)\n",
    "* By examining the words in the clusters, you can't get a unique topic out of them. Most of them are a mixture of different topics\n",
    "\n",
    "Compared to the <b>IDF</b> model:\n",
    "* We still have some topics that overlap\n",
    "* But we can clearly see that we have distinct clusters now, by identifying the clusters being scattered accross the axis of the plot\n",
    "* Most of our words have been grouped to one cluster\n",
    "* Words under Topics make more sence"
   ]
  },
  {
   "cell_type": "code",
   "execution_count": 20,
   "id": "cdc0d618",
   "metadata": {},
   "outputs": [],
   "source": [
    "# lda_tfidf_model.freeze_model(\"lda_tfidf\")"
   ]
  },
  {
   "cell_type": "code",
   "execution_count": 21,
   "id": "f0a8c49a",
   "metadata": {},
   "outputs": [
    {
     "name": "stdout",
     "output_type": "stream",
     "text": [
      "[(0, 0.14285715), (1, 0.14285715), (2, 0.14285715), (3, 0.14285715), (4, 0.14285715), (5, 0.14285715), (6, 0.14285715)]\n"
     ]
    },
    {
     "name": "stderr",
     "output_type": "stream",
     "text": [
      "/opt/homebrew/Caskroom/miniforge/base/envs/test/lib/python3.8/site-packages/past/builtins/misc.py:45: DeprecationWarning: the imp module is deprecated in favour of importlib; see the module's documentation for alternative uses\n",
      "  from imp import reload\n",
      "/opt/homebrew/Caskroom/miniforge/base/envs/test/lib/python3.8/site-packages/past/builtins/misc.py:45: DeprecationWarning: the imp module is deprecated in favour of importlib; see the module's documentation for alternative uses\n",
      "  from imp import reload\n",
      "/opt/homebrew/Caskroom/miniforge/base/envs/test/lib/python3.8/site-packages/past/builtins/misc.py:45: DeprecationWarning: the imp module is deprecated in favour of importlib; see the module's documentation for alternative uses\n",
      "  from imp import reload\n",
      "/opt/homebrew/Caskroom/miniforge/base/envs/test/lib/python3.8/site-packages/past/builtins/misc.py:45: DeprecationWarning: the imp module is deprecated in favour of importlib; see the module's documentation for alternative uses\n",
      "  from imp import reload\n",
      "/opt/homebrew/Caskroom/miniforge/base/envs/test/lib/python3.8/site-packages/past/builtins/misc.py:45: DeprecationWarning: the imp module is deprecated in favour of importlib; see the module's documentation for alternative uses\n",
      "  from imp import reload\n",
      "/opt/homebrew/Caskroom/miniforge/base/envs/test/lib/python3.8/site-packages/past/builtins/misc.py:45: DeprecationWarning: the imp module is deprecated in favour of importlib; see the module's documentation for alternative uses\n",
      "  from imp import reload\n",
      "/opt/homebrew/Caskroom/miniforge/base/envs/test/lib/python3.8/site-packages/past/builtins/misc.py:45: DeprecationWarning: the imp module is deprecated in favour of importlib; see the module's documentation for alternative uses\n",
      "  from imp import reload\n",
      "/opt/homebrew/Caskroom/miniforge/base/envs/test/lib/python3.8/site-packages/past/builtins/misc.py:45: DeprecationWarning: the imp module is deprecated in favour of importlib; see the module's documentation for alternative uses\n",
      "  from imp import reload\n",
      "/opt/homebrew/Caskroom/miniforge/base/envs/test/lib/python3.8/site-packages/past/builtins/misc.py:45: DeprecationWarning: the imp module is deprecated in favour of importlib; see the module's documentation for alternative uses\n",
      "  from imp import reload\n",
      "/opt/homebrew/Caskroom/miniforge/base/envs/test/lib/python3.8/site-packages/past/builtins/misc.py:45: DeprecationWarning: the imp module is deprecated in favour of importlib; see the module's documentation for alternative uses\n",
      "  from imp import reload\n"
     ]
    }
   ],
   "source": [
    "tokenized_text = [['paris', 'holiday', 'condo']]\n",
    "tokenized_text = [['apoel', 'thrillos', 'afko']]\n",
    "\n",
    "\n",
    "vector = [lda_tfidf_model.id2word.doc2bow(text) for text in tokenized_text]\n",
    "topics = sorted(lda_tfidf_model.model[vector][0], key=lambda x: x[1], reverse=True)\n",
    "print(topics)"
   ]
  },
  {
   "cell_type": "markdown",
   "id": "348aa91f",
   "metadata": {},
   "source": [
    "## 4.2 Analysis and insights from topics<a class=\"anchor\" id=\"4.2\"></a>\n",
    "\n",
    "\n",
    "\n",
    "### Business insights that can be drawn from this dataset\n",
    "From the IDF model we can clearly see 2 unique clusters and another cluster which consists of many sub-clusters. \n",
    "\n",
    "### 3 big clusters\n",
    "\n",
    "### 1. San Diego, beach resorts\n",
    "* Users talk about USA and San Diego more specifically. \n",
    "* Users also seem to be intrested in renting condos near the beach \n",
    "* They also show interest in marine life, so maybe recommendig some bundle offers on condos and marine life adventure activities might be beneficial\n",
    "\n",
    "### 2. International destinations\n",
    "* Users are interested on holidays and familty travel on different destinations such as Japan and Italy (Vatican and Rome), Pioneertown even in some deserty destination\n",
    "* Also it appears to be a trent with photography of some sort, are interested in:\n",
    "    * The Nikon Camera\n",
    "    * City reflexion\n",
    "    * Dragon Flies\n",
    "* Also they seems to be intrested in different types of accomodation and renting such as:\n",
    "    * Renting in Hightown\n",
    "    * Owl house\n",
    "    * Pool houses\n",
    "    * Guest rooms\n",
    "    * Bed and breakfast\n",
    "\n",
    "\n",
    "### 3. Mutliple overlapping Clusters \n",
    "All of those clusters seems to have 2 things in common:\n",
    "1. International travelling\n",
    "2. Photography\n",
    "\n",
    "If we examine each cluster one by one we can identify the following:\n",
    "* Israeel/Jerusalim for camping using RVS\n",
    "* Holiday Destinations, maybe on Christmass at Italy and Argentina\n",
    "* Another distinct cluster for Palm Strings. This topic seems to be for more outgoing people who enjoy partying, modern houses and luxary\n",
    "* Another cluster maybe for couples or more romantic/cultural peaple. Popular destinations for this cluster is Pocasset and maybe California as well. They seems to be into wine and photography. Also they are intrested in\n",
    "    * lighthouse rents\n",
    "    * love wings\n",
    "    * Chalet\n",
    "    \n",
    "\n"
   ]
  }
 ],
 "metadata": {
  "kernelspec": {
   "display_name": "Python 3 (ipykernel)",
   "language": "python",
   "name": "python3"
  },
  "language_info": {
   "codemirror_mode": {
    "name": "ipython",
    "version": 3
   },
   "file_extension": ".py",
   "mimetype": "text/x-python",
   "name": "python",
   "nbconvert_exporter": "python",
   "pygments_lexer": "ipython3",
   "version": "3.8.12"
  }
 },
 "nbformat": 4,
 "nbformat_minor": 5
}
