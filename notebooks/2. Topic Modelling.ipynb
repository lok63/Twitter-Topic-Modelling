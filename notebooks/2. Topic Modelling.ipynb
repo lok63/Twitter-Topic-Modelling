{
 "cells": [
  {
   "cell_type": "code",
   "execution_count": 1,
   "id": "0f7f00bb",
   "metadata": {},
   "outputs": [],
   "source": [
    "import os\n",
    "import sys\n",
    "# Allow this notebook to import local libraries \n",
    "module_path = os.path.abspath(os.path.join('..'))\n",
    "if module_path not in sys.path:\n",
    "    sys.path.append(module_path)"
   ]
  },
  {
   "cell_type": "code",
   "execution_count": 2,
   "id": "3be5b432",
   "metadata": {},
   "outputs": [],
   "source": [
    "from topic_modelling.preprocessor_all import load_data\n",
    "from topic_modelling.pipelines import basic_pipeline, spacy_pipeline\n",
    "from topic_modelling.preprocessor_all import load_data\n",
    "from topic_modelling.models import BasicModel, HierarchicalModel, EnsembleModel, NMFModel\n",
    "\n",
    "import pyLDAvis.gensim_models as gensimvis\n",
    "import pyLDAvis\n",
    "\n",
    "import warnings\n",
    "warnings.filterwarnings('ignore')"
   ]
  },
  {
   "cell_type": "markdown",
   "id": "e2b58d07",
   "metadata": {},
   "source": [
    "# Table of contents\n",
    "* [1. Load and preprocess data](#1)\n",
    "* [2. Modeling](#2)\n",
    "    * [2.1 LDA Basic Mode](#2.1)\n",
    "        * [2.1.1 Hyper-parameter Tuning](#2.1.1)\n",
    "        * [2.1.2 Find best number of topics](#2.1.2)\n",
    "        * [2.1.3 Grid Search](#2.1.3)\n",
    "    * [2.2 NMF](#2.2)\n",
    "    * [2.3 Ensemble](#2.3)\n",
    "* [3. Topic Analysis](#3)\n",
    "    * [3.1 LDA BoW Model](#3.1)\n",
    "    * [3.2 LDA Tfidf Model](#3.2)\n",
    "* [4. Model Selection and Analysis](#4)\n",
    "    * [4.1 Model Selection](#4.1)\n",
    "    * [4.2 Analysis and insights from topics](#4.2)\n"
   ]
  },
  {
   "cell_type": "markdown",
   "id": "f784d72e",
   "metadata": {},
   "source": [
    "## 1. Load and preprocess data <a class=\"anchor\" id=\"1\"></a>"
   ]
  },
  {
   "cell_type": "code",
   "execution_count": 3,
   "id": "b5f27799",
   "metadata": {},
   "outputs": [
    {
     "name": "stdout",
     "output_type": "stream",
     "text": [
      "Func:load_data took: 0.52 seconds\n",
      "Func:reset_index took: 0.01 seconds\n"
     ]
    },
    {
     "data": {
      "application/vnd.jupyter.widget-view+json": {
       "model_id": "505ba559996f46a48fa00834cf20d3c6",
       "version_major": 2,
       "version_minor": 0
      },
      "text/plain": [
       "Pandas Apply:   0%|          | 0/42368 [00:00<?, ?it/s]"
      ]
     },
     "metadata": {},
     "output_type": "display_data"
    },
    {
     "name": "stdout",
     "output_type": "stream",
     "text": [
      "Func:demoji_preprocessor took: 19.72 seconds\n"
     ]
    },
    {
     "data": {
      "application/vnd.jupyter.widget-view+json": {
       "model_id": "18fbd686e6764b07a25ef61b64d22514",
       "version_major": 2,
       "version_minor": 0
      },
      "text/plain": [
       "Pandas Apply:   0%|          | 0/42368 [00:00<?, ?it/s]"
      ]
     },
     "metadata": {},
     "output_type": "display_data"
    },
    {
     "name": "stdout",
     "output_type": "stream",
     "text": [
      "Func:tweet_preprocessor took: 1.20 seconds\n",
      ":: Spacy preprocessor -> cleaning, this might take 1-2 minutes....\n"
     ]
    },
    {
     "data": {
      "application/vnd.jupyter.widget-view+json": {
       "model_id": "6869403b8ee34599b4a73e1fdc63a550",
       "version_major": 2,
       "version_minor": 0
      },
      "text/plain": [
       "Pandas Apply:   0%|          | 0/42368 [00:00<?, ?it/s]"
      ]
     },
     "metadata": {},
     "output_type": "display_data"
    },
    {
     "name": "stdout",
     "output_type": "stream",
     "text": [
      "Func:spacy_preprocessor took: 55.71 seconds\n"
     ]
    },
    {
     "data": {
      "application/vnd.jupyter.widget-view+json": {
       "model_id": "1aff674d57a741799ae364283675bfcb",
       "version_major": 2,
       "version_minor": 0
      },
      "text/plain": [
       "Pandas Apply:   0%|          | 0/42368 [00:00<?, ?it/s]"
      ]
     },
     "metadata": {},
     "output_type": "display_data"
    },
    {
     "name": "stdout",
     "output_type": "stream",
     "text": [
      "Func:predefined_denoiser took: 0.10 seconds\n",
      "Func:drop_empty took: 0.02 seconds\n",
      "Func:reset_index took: 0.01 seconds\n"
     ]
    },
    {
     "data": {
      "application/vnd.jupyter.widget-view+json": {
       "model_id": "1a17c95fa24c451f80f88303e1201183",
       "version_major": 2,
       "version_minor": 0
      },
      "text/plain": [
       "Pandas Apply:   0%|          | 0/42360 [00:00<?, ?it/s]"
      ]
     },
     "metadata": {},
     "output_type": "display_data"
    },
    {
     "name": "stdout",
     "output_type": "stream",
     "text": [
      "Func:tokenizer_transformer took: 0.31 seconds\n"
     ]
    },
    {
     "data": {
      "application/vnd.jupyter.widget-view+json": {
       "model_id": "9bf332d0be42471cb8c66e423815f712",
       "version_major": 2,
       "version_minor": 0
      },
      "text/plain": [
       "Pandas Apply:   0%|          | 0/42360 [00:00<?, ?it/s]"
      ]
     },
     "metadata": {},
     "output_type": "display_data"
    },
    {
     "name": "stdout",
     "output_type": "stream",
     "text": [
      "Func:ngrammer_2_3_pre_trained took: 0.29 seconds\n"
     ]
    }
   ],
   "source": [
    "df = load_data()\n",
    "df = spacy_pipeline.apply(df, column='cleanBody')"
   ]
  },
  {
   "cell_type": "markdown",
   "id": "cfdbc4f0",
   "metadata": {},
   "source": [
    "# 2. Modeling<a class=\"anchor\" id=\"2\"></a>"
   ]
  },
  {
   "cell_type": "markdown",
   "id": "aae2cdad",
   "metadata": {},
   "source": [
    "## 2.1 LDA Basic Model<a class=\"anchor\" id=\"2.1\"></a>"
   ]
  },
  {
   "cell_type": "code",
   "execution_count": 4,
   "id": "7f09453d",
   "metadata": {},
   "outputs": [
    {
     "name": "stdout",
     "output_type": "stream",
     "text": [
      ":: Size of id2word: 25387\n",
      "Func:createid2word_dictionary took: 0.22 seconds\n",
      "Func:filter_extremes took: 0.02 seconds\n",
      "Func:create_bow_coprpus took: 0.10 seconds\n",
      "Func:create_tfidf_corpus took: 0.03 seconds\n",
      "----> Training BasicModel <----\n",
      "Func:train took: 3.73 seconds\n",
      "\n",
      "Coherence Score:  0.5731948690935075\n",
      "Func:get_coherance took: 2.64 seconds\n",
      "0.5731948690935075\n"
     ]
    }
   ],
   "source": [
    "basic_model = BasicModel()\n",
    "basic_model.fit(df,'cleanBody')\n",
    "basic_model.train(num_topics=6, \n",
    "                  passes=1,\n",
    "                  chunksize=100,\n",
    "                  eval_every=10,\n",
    "                  alpha = 0.9,\n",
    "                  decay=0.3,\n",
    "                  tfidf = False\n",
    "                 )\n",
    "\n",
    "print(basic_model.get_coherance())"
   ]
  },
  {
   "cell_type": "markdown",
   "id": "f48909f7",
   "metadata": {},
   "source": [
    "## 2.1 LDA Tfidf Model<a class=\"anchor\" id=\"2.1\"></a>"
   ]
  },
  {
   "cell_type": "code",
   "execution_count": 27,
   "id": "e84789cf",
   "metadata": {},
   "outputs": [
    {
     "name": "stdout",
     "output_type": "stream",
     "text": [
      ":: Size of id2word: 25387\n",
      "Func:createid2word_dictionary took: 0.23 seconds\n",
      "Func:filter_extremes took: 0.02 seconds\n",
      "Func:create_bow_coprpus took: 0.11 seconds\n",
      "Func:create_tfidf_corpus took: 0.03 seconds\n",
      "----> Training BasicModel <----\n",
      "Func:train took: 4.47 seconds\n",
      "\n",
      "Coherence Score:  0.502185778315482\n",
      "Func:get_coherance took: 2.74 seconds\n",
      "0.502185778315482\n"
     ]
    }
   ],
   "source": [
    "lda_tfidf_model = BasicModel()\n",
    "lda_tfidf_model.fit(df,'cleanBody')\n",
    "lda_tfidf_model.train(num_topics=7, \n",
    "                  passes=1,\n",
    "                  chunksize=100,\n",
    "                  eval_every=10,\n",
    "                  alpha = 'symmetric',\n",
    "                  decay=0.6,\n",
    "                  tfidf = True\n",
    "                 )\n",
    "\n",
    "print(lda_tfidf_model.get_coherance())"
   ]
  },
  {
   "cell_type": "markdown",
   "id": "e42039bf",
   "metadata": {},
   "source": [
    "### 2.1.1 Hyper-parameter Tuning<a class=\"anchor\" id=\"2.1.1\"></a>"
   ]
  },
  {
   "cell_type": "markdown",
   "id": "c83a4371",
   "metadata": {},
   "source": [
    "### 2.1.2 Find best number of topics<a class=\"anchor\" id=\"2.1.2\"></a>"
   ]
  },
  {
   "cell_type": "code",
   "execution_count": 6,
   "id": "08c8c321",
   "metadata": {},
   "outputs": [
    {
     "data": {
      "image/png": "[encoded data removed]",
      "text/plain": [
       "<Figure size 432x288 with 1 Axes>"
      ]
     },
     "metadata": {
      "needs_background": "light"
     },
     "output_type": "display_data"
    }
   ],
   "source": [
    "model_list, coherence_values = basic_model.compute_coherence_values(start=6, limit=18, step=1, plot=True)"
   ]
  },
  {
   "cell_type": "code",
   "execution_count": 7,
   "id": "f876b2bc",
   "metadata": {},
   "outputs": [
    {
     "name": "stdout",
     "output_type": "stream",
     "text": [
      "Topics:6,Coherence score:0.5066259359946337\n",
      "Topics:7,Coherence score:0.51795216987792\n",
      "Topics:8,Coherence score:0.4926395636643403\n",
      "Topics:9,Coherence score:0.48391288257384246\n",
      "Topics:10,Coherence score:0.49231141130199096\n",
      "Topics:11,Coherence score:0.4988031722098475\n",
      "Topics:12,Coherence score:0.49412231094784564\n",
      "Topics:13,Coherence score:0.47930072947792984\n",
      "Topics:14,Coherence score:0.499621466283475\n",
      "Topics:15,Coherence score:0.4946250300588099\n",
      "Topics:16,Coherence score:0.49158795446162795\n",
      "Topics:17,Coherence score:0.49009198142034077\n"
     ]
    }
   ],
   "source": [
    "for m,c in (zip(model_list, coherence_values)):\n",
    "    print(f\"Topics:{m.num_topics},Coherence score:{c}\")"
   ]
  },
  {
   "cell_type": "markdown",
   "id": "b36227ac",
   "metadata": {},
   "source": [
    "### 2.1.3 Grid Search<a class=\"anchor\" id=\"2.1.3\"></a>"
   ]
  },
  {
   "cell_type": "code",
   "execution_count": 8,
   "id": "8094514d",
   "metadata": {},
   "outputs": [],
   "source": [
    "import numpy as np\n",
    "import tqdm\n",
    "import gensim\n",
    "import pandas as pd\n",
    "\n",
    "\n",
    "def grid_search(df:pd.DataFrame,  k_start=5, k_end=12, k_step=1,\n",
    "                alpha_start=0.2, alpha_end=1, alpha_step=0.2,\n",
    "                decay_start=0.1, decay_end=0.5, decay_step=0.1\n",
    "               )-> pd.DataFrame:\n",
    "\n",
    "    \"\"\"\n",
    "    Create several models using different ranges for Alpha, Betta and Number of topics\n",
    "    Part of the code was retrieved from : https://towardsdatascience.com/evaluate-topic-model-in-python-latent-dirichlet-allocation-lda-7d57484bb5d0\n",
    "    \"\"\"\n",
    "\n",
    "    grid = {}\n",
    "\n",
    "    # Topics\n",
    "    topics_range = range(k_start, k_end, k_step)\n",
    "    # ALPHA\n",
    "    alpha_range = list(np.arange(alpha_start, alpha_end, alpha_step)) \n",
    "    alpha_range.append('symmetric')\n",
    "    alpha_range.append('asymmetric')\n",
    "    # Decay\n",
    "    decay_range = list(np.arange(decay_start, decay_end, decay_step))\n",
    "    \n",
    "    chunksize_range = [100,300,500]\n",
    "    passes_range = [1]\n",
    "    model_results = {\n",
    "                     'Topics': [],\n",
    "                     'Alpha': [],\n",
    "                     'Decay': [],\n",
    "                     'Chunksize': [],\n",
    "                     'Passes': [],\n",
    "                     'Coherence': []\n",
    "                    }\n",
    "\n",
    "    total_combinations = len(topics_range)*len(alpha_range)*len(decay_range)*len(chunksize_range)*len(passes_range)\n",
    "    print(f\"Total Models to grid search: {total_combinations}\")\n",
    "\n",
    "    with tqdm.tqdm(total=total_combinations)as pbar:\n",
    "\n",
    "        # iterate through number of topics\n",
    "        for k in topics_range:\n",
    "            # iterate through alpha values\n",
    "            for a in alpha_range:\n",
    "                # iterare through decay values\n",
    "                for d in decay_range:\n",
    "                    # iterare through chunk sizes\n",
    "                    for c in chunksize_range:\n",
    "                        # iterare through chunk sizes\n",
    "                        for p in passes_range:\n",
    "                            # get the coherence score for the given parameters\n",
    "                            cv = basic_model.compute_coherence_for_topics_a_d(k=k, a=a, d=d, c=c, p=p, tfidf=True)\n",
    "                            # Save the model results\n",
    "                            model_results['Topics'].append(k)\n",
    "                            model_results['Alpha'].append(a)\n",
    "                            model_results['Decay'].append(d)\n",
    "                            model_results['Chunksize'].append(c)\n",
    "                            model_results['Passes'].append(p)\n",
    "                            model_results['Coherence'].append(cv)\n",
    "                            pbar.update(1)\n",
    "\n",
    "        grid_search_results = pd.DataFrame(model_results).to_csv('gridSearch_results2.csv', index=False)\n",
    "        pbar.close()\n",
    "    \n",
    "    return grid_search_results\n",
    "\n",
    "\n"
   ]
  },
  {
   "cell_type": "markdown",
   "id": "bf6e56c8",
   "metadata": {},
   "source": [
    "### Run grid search "
   ]
  },
  {
   "cell_type": "code",
   "execution_count": 9,
   "id": "4d1ebccf",
   "metadata": {},
   "outputs": [],
   "source": [
    "# grid_search_results = grid_search(\n",
    "#     df.cleanBody.to_list(),\n",
    "#     k_start=4, k_end=8, k_step=1,\n",
    "#     alpha_start=0.5, alpha_end=1, alpha_step=0.1,\n",
    "#     decay_start=0.1, decay_end=0.3, decay_step=0.1,\n",
    "# )"
   ]
  },
  {
   "cell_type": "markdown",
   "id": "882c0387",
   "metadata": {},
   "source": [
    "### Load Previous Grid Search results"
   ]
  },
  {
   "cell_type": "markdown",
   "id": "43ebb8cd",
   "metadata": {},
   "source": [
    "### Bow LDA gridsearch"
   ]
  },
  {
   "cell_type": "code",
   "execution_count": 10,
   "id": "ed54c5fb",
   "metadata": {},
   "outputs": [
    {
     "data": {
      "text/html": [
       "<div>\n",
       "<style scoped>\n",
       "    .dataframe tbody tr th:only-of-type {\n",
       "        vertical-align: middle;\n",
       "    }\n",
       "\n",
       "    .dataframe tbody tr th {\n",
       "        vertical-align: top;\n",
       "    }\n",
       "\n",
       "    .dataframe thead th {\n",
       "        text-align: right;\n",
       "    }\n",
       "</style>\n",
       "<table border=\"1\" class=\"dataframe\">\n",
       "  <thead>\n",
       "    <tr style=\"text-align: right;\">\n",
       "      <th></th>\n",
       "      <th>Topics</th>\n",
       "      <th>Alpha</th>\n",
       "      <th>Decay</th>\n",
       "      <th>Chunksize</th>\n",
       "      <th>Passes</th>\n",
       "      <th>Coherence</th>\n",
       "    </tr>\n",
       "  </thead>\n",
       "  <tbody>\n",
       "    <tr>\n",
       "      <th>900</th>\n",
       "      <td>9</td>\n",
       "      <td>0.61</td>\n",
       "      <td>0.3</td>\n",
       "      <td>1500</td>\n",
       "      <td>1</td>\n",
       "      <td>0.597776</td>\n",
       "    </tr>\n",
       "    <tr>\n",
       "      <th>675</th>\n",
       "      <td>8</td>\n",
       "      <td>0.9099999999999999</td>\n",
       "      <td>0.3</td>\n",
       "      <td>1500</td>\n",
       "      <td>1</td>\n",
       "      <td>0.597586</td>\n",
       "    </tr>\n",
       "    <tr>\n",
       "      <th>1440</th>\n",
       "      <td>11</td>\n",
       "      <td>0.61</td>\n",
       "      <td>0.3</td>\n",
       "      <td>1500</td>\n",
       "      <td>1</td>\n",
       "      <td>0.597038</td>\n",
       "    </tr>\n",
       "    <tr>\n",
       "      <th>1170</th>\n",
       "      <td>10</td>\n",
       "      <td>0.61</td>\n",
       "      <td>0.3</td>\n",
       "      <td>1500</td>\n",
       "      <td>1</td>\n",
       "      <td>0.595427</td>\n",
       "    </tr>\n",
       "    <tr>\n",
       "      <th>945</th>\n",
       "      <td>9</td>\n",
       "      <td>0.9099999999999999</td>\n",
       "      <td>0.3</td>\n",
       "      <td>1500</td>\n",
       "      <td>1</td>\n",
       "      <td>0.594083</td>\n",
       "    </tr>\n",
       "  </tbody>\n",
       "</table>\n",
       "</div>"
      ],
      "text/plain": [
       "      Topics               Alpha  Decay  Chunksize  Passes  Coherence\n",
       "900        9                0.61    0.3       1500       1   0.597776\n",
       "675        8  0.9099999999999999    0.3       1500       1   0.597586\n",
       "1440      11                0.61    0.3       1500       1   0.597038\n",
       "1170      10                0.61    0.3       1500       1   0.595427\n",
       "945        9  0.9099999999999999    0.3       1500       1   0.594083"
      ]
     },
     "execution_count": 10,
     "metadata": {},
     "output_type": "execute_result"
    }
   ],
   "source": [
    "grid_search_results = pd.read_csv('gridSearch_results.csv')\n",
    "grid_search_results.sort_values(by='Coherence', ascending= False).head(5)"
   ]
  },
  {
   "cell_type": "markdown",
   "id": "b4ef0afc",
   "metadata": {},
   "source": [
    "### TFIDF LDA gridsearch"
   ]
  },
  {
   "cell_type": "code",
   "execution_count": 11,
   "id": "78894290",
   "metadata": {},
   "outputs": [
    {
     "data": {
      "text/html": [
       "<div>\n",
       "<style scoped>\n",
       "    .dataframe tbody tr th:only-of-type {\n",
       "        vertical-align: middle;\n",
       "    }\n",
       "\n",
       "    .dataframe tbody tr th {\n",
       "        vertical-align: top;\n",
       "    }\n",
       "\n",
       "    .dataframe thead th {\n",
       "        text-align: right;\n",
       "    }\n",
       "</style>\n",
       "<table border=\"1\" class=\"dataframe\">\n",
       "  <thead>\n",
       "    <tr style=\"text-align: right;\">\n",
       "      <th></th>\n",
       "      <th>Topics</th>\n",
       "      <th>Alpha</th>\n",
       "      <th>Decay</th>\n",
       "      <th>Chunksize</th>\n",
       "      <th>Passes</th>\n",
       "      <th>Coherence</th>\n",
       "    </tr>\n",
       "  </thead>\n",
       "  <tbody>\n",
       "    <tr>\n",
       "      <th>24</th>\n",
       "      <td>4</td>\n",
       "      <td>0.8999999999999999</td>\n",
       "      <td>0.1</td>\n",
       "      <td>100</td>\n",
       "      <td>1</td>\n",
       "      <td>0.586891</td>\n",
       "    </tr>\n",
       "    <tr>\n",
       "      <th>98</th>\n",
       "      <td>6</td>\n",
       "      <td>0.7</td>\n",
       "      <td>0.1</td>\n",
       "      <td>500</td>\n",
       "      <td>1</td>\n",
       "      <td>0.585723</td>\n",
       "    </tr>\n",
       "    <tr>\n",
       "      <th>14</th>\n",
       "      <td>4</td>\n",
       "      <td>0.7</td>\n",
       "      <td>0.1</td>\n",
       "      <td>500</td>\n",
       "      <td>1</td>\n",
       "      <td>0.582723</td>\n",
       "    </tr>\n",
       "    <tr>\n",
       "      <th>104</th>\n",
       "      <td>6</td>\n",
       "      <td>0.7999999999999999</td>\n",
       "      <td>0.1</td>\n",
       "      <td>500</td>\n",
       "      <td>1</td>\n",
       "      <td>0.582262</td>\n",
       "    </tr>\n",
       "    <tr>\n",
       "      <th>102</th>\n",
       "      <td>6</td>\n",
       "      <td>0.7999999999999999</td>\n",
       "      <td>0.1</td>\n",
       "      <td>100</td>\n",
       "      <td>1</td>\n",
       "      <td>0.581297</td>\n",
       "    </tr>\n",
       "    <tr>\n",
       "      <th>62</th>\n",
       "      <td>5</td>\n",
       "      <td>0.7999999999999999</td>\n",
       "      <td>0.1</td>\n",
       "      <td>500</td>\n",
       "      <td>1</td>\n",
       "      <td>0.573272</td>\n",
       "    </tr>\n",
       "    <tr>\n",
       "      <th>50</th>\n",
       "      <td>5</td>\n",
       "      <td>0.6</td>\n",
       "      <td>0.1</td>\n",
       "      <td>500</td>\n",
       "      <td>1</td>\n",
       "      <td>0.569391</td>\n",
       "    </tr>\n",
       "    <tr>\n",
       "      <th>68</th>\n",
       "      <td>5</td>\n",
       "      <td>0.8999999999999999</td>\n",
       "      <td>0.1</td>\n",
       "      <td>500</td>\n",
       "      <td>1</td>\n",
       "      <td>0.568744</td>\n",
       "    </tr>\n",
       "    <tr>\n",
       "      <th>108</th>\n",
       "      <td>6</td>\n",
       "      <td>0.8999999999999999</td>\n",
       "      <td>0.1</td>\n",
       "      <td>100</td>\n",
       "      <td>1</td>\n",
       "      <td>0.567316</td>\n",
       "    </tr>\n",
       "    <tr>\n",
       "      <th>110</th>\n",
       "      <td>6</td>\n",
       "      <td>0.8999999999999999</td>\n",
       "      <td>0.1</td>\n",
       "      <td>500</td>\n",
       "      <td>1</td>\n",
       "      <td>0.564067</td>\n",
       "    </tr>\n",
       "  </tbody>\n",
       "</table>\n",
       "</div>"
      ],
      "text/plain": [
       "     Topics               Alpha  Decay  Chunksize  Passes  Coherence\n",
       "24        4  0.8999999999999999    0.1        100       1   0.586891\n",
       "98        6                 0.7    0.1        500       1   0.585723\n",
       "14        4                 0.7    0.1        500       1   0.582723\n",
       "104       6  0.7999999999999999    0.1        500       1   0.582262\n",
       "102       6  0.7999999999999999    0.1        100       1   0.581297\n",
       "62        5  0.7999999999999999    0.1        500       1   0.573272\n",
       "50        5                 0.6    0.1        500       1   0.569391\n",
       "68        5  0.8999999999999999    0.1        500       1   0.568744\n",
       "108       6  0.8999999999999999    0.1        100       1   0.567316\n",
       "110       6  0.8999999999999999    0.1        500       1   0.564067"
      ]
     },
     "execution_count": 11,
     "metadata": {},
     "output_type": "execute_result"
    }
   ],
   "source": [
    "grid_search_results = pd.read_csv('gridSearch_results2.csv')\n",
    "grid_search_results.sort_values(by='Coherence', ascending= False).head(10)"
   ]
  },
  {
   "cell_type": "markdown",
   "id": "ec559d1f",
   "metadata": {},
   "source": [
    "### 2.1.4 Hierarchical Dirichlet Process<a class=\"anchor\" id=\"2.1.4\"></a>"
   ]
  },
  {
   "cell_type": "code",
   "execution_count": 12,
   "id": "a468f85e",
   "metadata": {},
   "outputs": [
    {
     "name": "stdout",
     "output_type": "stream",
     "text": [
      ":: Size of id2word: 25387\n",
      "Func:createid2word_dictionary took: 0.22 seconds\n",
      "Func:create_bow_coprpus took: 0.11 seconds\n",
      "----> Training HierarchicalModel <----\n",
      "Func:train took: 21.27 seconds\n",
      "\n",
      "Coherence Score:  0.43463640001687165\n",
      "Func:get_coherance took: 3.83 seconds\n",
      "0.43463640001687165\n"
     ]
    }
   ],
   "source": [
    "hdpModel = HierarchicalModel()\n",
    "hdpModel.fit(df,'cleanBody')\n",
    "hdpModel.train()\n",
    "\n",
    "print(hdpModel.get_coherance())"
   ]
  },
  {
   "cell_type": "code",
   "execution_count": 13,
   "id": "7b618a9f",
   "metadata": {},
   "outputs": [
    {
     "name": "stdout",
     "output_type": "stream",
     "text": [
      "[(0, '0.080*travel + 0.070*san_diego + 0.069*usa + 0.052*condo + 0.052*vacation_rental + 0.052*mission_beach + 0.018*beach + 0.017*found_mission + 0.017*nice_vacation + 0.017*rental_condo + 0.001*holiday + 0.001*blog + 0.001*rent + 0.001*related_project + 0.001*feature + 0.001*palm_springs + 0.001*love + 0.001*condo_steps + 0.001*diego + 0.001*beach_condominiums'), (1, '0.035*travel + 0.018*love_dragonfly + 0.018*pool_houses + 0.018*rent_pioneertown + 0.018*desert_retreat + 0.003*san_diego + 0.002*usa + 0.002*holiday + 0.002*beach + 0.001*reet_ennet + 0.001*rental_condo + 0.001*jerusalem + 0.001*photography_helena + 0.001*found_mission + 0.001*nice_vacation + 0.001*travelpics_travelblogger + 0.001*touri + 0.001*beautiful_israel + 0.001*rent + 0.001*palm_springs'), (2, '0.036*travel + 0.013*bed_breakfasts + 0.013*owl_house + 0.013*rent_hightown + 0.013*guest_room + 0.003*san_diego + 0.003*usa + 0.002*beach + 0.002*holiday + 0.002*jerusalem + 0.002*travelpics_travelblogger + 0.002*photography_helena + 0.002*reet_ennet + 0.002*touri + 0.002*rental_condo + 0.001*found_mission + 0.001*beautiful_israel + 0.001*nice_vacation + 0.001*condo + 0.001*mission_beach'), (3, '0.032*travel + 0.015*nikon_nikon + 0.015*city_reflexion + 0.015*nikoncanada_vatican + 0.015*vatican_rome + 0.015*mm_store + 0.003*san_diego + 0.002*usa + 0.002*holiday + 0.002*beach + 0.001*nice_vacation + 0.001*found_mission + 0.001*rental_condo + 0.001*rent + 0.001*palm_springs + 0.001*vacation_rental + 0.001*love + 0.001*mission_beach + 0.001*condo + 0.001*jerusalem'), (4, '0.031*travel + 0.011*rent_seattle + 0.011*wagon_heart + 0.010*campers_rvs + 0.010*love_hand + 0.010*crafted_gypsy + 0.003*san_diego + 0.002*usa + 0.002*holiday + 0.002*beach + 0.001*rental_condo + 0.001*jerusalem + 0.001*photography_helena + 0.001*found_mission + 0.001*nice_vacation + 0.001*travelpics_travelblogger + 0.001*reet_ennet + 0.001*touri + 0.001*beautiful_israel + 0.001*vacation_rental'), (5, '0.033*travel + 0.007*jerusalem + 0.007*photography_helena + 0.007*travelpics_travelblogger + 0.007*reet_ennet + 0.006*touri + 0.004*beautiful_israel + 0.003*san_diego + 0.003*wonderful_israel + 0.003*usa + 0.002*beach + 0.002*holiday + 0.001*rental_condo + 0.001*found_mission + 0.001*nice_vacation + 0.001*rent + 0.001*mission_beach + 0.001*condo + 0.001*vacation_rental + 0.001*palm_springs'), (6, '0.025*travel + 0.011*palm_springs + 0.009*rent + 0.006*love + 0.006*modern_houses + 0.006*mid_century + 0.005*beach + 0.004*san_diego + 0.003*beach_condominiums + 0.003*condo_steps + 0.003*diego + 0.003*cozy_san + 0.002*holiday + 0.002*usa + 0.002*rental_condo + 0.002*nice_vacation + 0.002*found_mission + 0.001*nikon_nikon + 0.001*nikoncanada_vatican + 0.001*vatican_rome'), (7, '0.030*travel + 0.005*reet_ennet + 0.005*photography_helena + 0.005*jerusalem + 0.005*travelpics_travelblogger + 0.004*touri + 0.004*beautiful_israel + 0.003*san_diego + 0.003*usa + 0.002*beach + 0.002*holiday + 0.002*rental_condo + 0.002*found_mission + 0.002*nice_vacation + 0.001*rent + 0.001*condo + 0.001*vacation_rental + 0.001*mission_beach + 0.001*palm_springs + 0.001*city_reflexion')]\n"
     ]
    }
   ],
   "source": [
    "print(hdpModel.model.show_topics(num_topics=8, formatted=True))"
   ]
  },
  {
   "cell_type": "code",
   "execution_count": 22,
   "id": "4919fa28",
   "metadata": {},
   "outputs": [
    {
     "data": {
      "text/html": [
       "<div>\n",
       "<style scoped>\n",
       "    .dataframe tbody tr th:only-of-type {\n",
       "        vertical-align: middle;\n",
       "    }\n",
       "\n",
       "    .dataframe tbody tr th {\n",
       "        vertical-align: top;\n",
       "    }\n",
       "\n",
       "    .dataframe thead th {\n",
       "        text-align: right;\n",
       "    }\n",
       "</style>\n",
       "<table border=\"1\" class=\"dataframe\">\n",
       "  <thead>\n",
       "    <tr style=\"text-align: right;\">\n",
       "      <th></th>\n",
       "      <th>topic_id</th>\n",
       "      <th>weight</th>\n",
       "    </tr>\n",
       "  </thead>\n",
       "  <tbody>\n",
       "    <tr>\n",
       "      <th>0</th>\n",
       "      <td>0</td>\n",
       "      <td>0.443478</td>\n",
       "    </tr>\n",
       "    <tr>\n",
       "      <th>1</th>\n",
       "      <td>1</td>\n",
       "      <td>0.117316</td>\n",
       "    </tr>\n",
       "    <tr>\n",
       "      <th>2</th>\n",
       "      <td>2</td>\n",
       "      <td>0.100086</td>\n",
       "    </tr>\n",
       "    <tr>\n",
       "      <th>3</th>\n",
       "      <td>3</td>\n",
       "      <td>0.117684</td>\n",
       "    </tr>\n",
       "    <tr>\n",
       "      <th>4</th>\n",
       "      <td>4</td>\n",
       "      <td>0.094194</td>\n",
       "    </tr>\n",
       "    <tr>\n",
       "      <th>5</th>\n",
       "      <td>5</td>\n",
       "      <td>0.079890</td>\n",
       "    </tr>\n",
       "    <tr>\n",
       "      <th>6</th>\n",
       "      <td>6</td>\n",
       "      <td>0.078604</td>\n",
       "    </tr>\n",
       "    <tr>\n",
       "      <th>7</th>\n",
       "      <td>7</td>\n",
       "      <td>0.065139</td>\n",
       "    </tr>\n",
       "  </tbody>\n",
       "</table>\n",
       "</div>"
      ],
      "text/plain": [
       "   topic_id    weight\n",
       "0         0  0.443478\n",
       "1         1  0.117316\n",
       "2         2  0.100086\n",
       "3         3  0.117684\n",
       "4         4  0.094194\n",
       "5         5  0.079890\n",
       "6         6  0.078604\n",
       "7         7  0.065139"
      ]
     },
     "execution_count": 22,
     "metadata": {},
     "output_type": "execute_result"
    },
    {
     "name": "stderr",
     "output_type": "stream",
     "text": [
      "/opt/homebrew/Caskroom/miniforge/base/envs/twitter/lib/python3.8/site-packages/past/builtins/misc.py:45: DeprecationWarning: the imp module is deprecated in favour of importlib; see the module's documentation for alternative uses\n",
      "  from imp import reload\n",
      "/opt/homebrew/Caskroom/miniforge/base/envs/twitter/lib/python3.8/site-packages/past/builtins/misc.py:45: DeprecationWarning: the imp module is deprecated in favour of importlib; see the module's documentation for alternative uses\n",
      "  from imp import reload\n",
      "/opt/homebrew/Caskroom/miniforge/base/envs/twitter/lib/python3.8/site-packages/past/builtins/misc.py:45: DeprecationWarning: the imp module is deprecated in favour of importlib; see the module's documentation for alternative uses\n",
      "  from imp import reload\n",
      "/opt/homebrew/Caskroom/miniforge/base/envs/twitter/lib/python3.8/site-packages/past/builtins/misc.py:45: DeprecationWarning: the imp module is deprecated in favour of importlib; see the module's documentation for alternative uses\n",
      "  from imp import reload\n",
      "/opt/homebrew/Caskroom/miniforge/base/envs/twitter/lib/python3.8/site-packages/past/builtins/misc.py:45: DeprecationWarning: the imp module is deprecated in favour of importlib; see the module's documentation for alternative uses\n",
      "  from imp import reload\n",
      "/opt/homebrew/Caskroom/miniforge/base/envs/twitter/lib/python3.8/site-packages/past/builtins/misc.py:45: DeprecationWarning: the imp module is deprecated in favour of importlib; see the module's documentation for alternative uses\n",
      "  from imp import reload\n",
      "/opt/homebrew/Caskroom/miniforge/base/envs/twitter/lib/python3.8/site-packages/past/builtins/misc.py:45: DeprecationWarning: the imp module is deprecated in favour of importlib; see the module's documentation for alternative uses\n",
      "  from imp import reload\n",
      "/opt/homebrew/Caskroom/miniforge/base/envs/twitter/lib/python3.8/site-packages/past/builtins/misc.py:45: DeprecationWarning: the imp module is deprecated in favour of importlib; see the module's documentation for alternative uses\n",
      "  from imp import reload\n",
      "/opt/homebrew/Caskroom/miniforge/base/envs/twitter/lib/python3.8/site-packages/past/builtins/misc.py:45: DeprecationWarning: the imp module is deprecated in favour of importlib; see the module's documentation for alternative uses\n",
      "  from imp import reload\n",
      "/opt/homebrew/Caskroom/miniforge/base/envs/twitter/lib/python3.8/site-packages/past/builtins/misc.py:45: DeprecationWarning: the imp module is deprecated in favour of importlib; see the module's documentation for alternative uses\n",
      "  from imp import reload\n"
     ]
    }
   ],
   "source": [
    "import pandas as pd\n",
    "\n",
    "def topic_prob_extractor(gensim_hdp):\n",
    "    shown_topics = gensim_hdp.show_topics(num_topics=8, num_words=10, formatted=False)\n",
    "    topics_nos = [x[0] for x in shown_topics ]\n",
    "    weights = [ sum([item[1] for item in shown_topics[topicN][1]]) for topicN in topics_nos ]\n",
    "\n",
    "    return pd.DataFrame({'topic_id' : topics_nos, 'weight' : weights})\n",
    "\n",
    "topic_prob_extractor(hdpModel.model)"
   ]
  },
  {
   "cell_type": "code",
   "execution_count": 15,
   "id": "36652cb4",
   "metadata": {},
   "outputs": [],
   "source": [
    "import warnings\n",
    "warnings.filterwarnings('ignore')"
   ]
  },
  {
   "cell_type": "markdown",
   "id": "2245ea87",
   "metadata": {},
   "source": [
    "## 2.2 NMF<a class=\"anchor\" id=\"2.2\"></a>\n"
   ]
  },
  {
   "cell_type": "code",
   "execution_count": 16,
   "id": "b5cd50d9",
   "metadata": {},
   "outputs": [
    {
     "name": "stdout",
     "output_type": "stream",
     "text": [
      ":: Size of id2word: 25387\n",
      "Func:createid2word_dictionary took: 0.22 seconds\n",
      "Func:filter_extremes took: 0.02 seconds\n",
      "Func:create_bow_coprpus took: 0.10 seconds\n",
      "----> Training NMFModel <----\n",
      "Func:train took: 35.31 seconds\n",
      "------ Topic 0 ------\n",
      "san_diego usa condo vacation_rental mission_beach beach condo_steps beach_condominiums diego cozy_san\n",
      "\n",
      "------ Topic 1 ------\n",
      "jerusalem reet_ennet photography_helena travelpics_travelblogger touri beautiful_israel wonderful_israel tour ttot visit\n",
      "\n",
      "------ Topic 2 ------\n",
      "christmas gift holiday_season winter lp days holidays xmas santa time\n",
      "\n",
      "------ Topic 3 ------\n",
      "palm_springs love rent mid_century modern_houses diego condo_steps beach_condominiums cozy_san beach\n",
      "\n",
      "------ Topic 4 ------\n",
      "beach found_mission nice_vacation rental_condo san_diego usa condo_steps cozy_san diego beach_condominiums\n",
      "\n",
      "------ Topic 5 ------\n",
      "holiday gifts party shopping fun check vacation family gift trip\n",
      "\n",
      "------ Topic 6 ------\n",
      "diego condo_steps beach_condominiums cozy_san rent beach san_diego world hotel ttot\n",
      "\n",
      "------ Topic 7 ------\n",
      "bed_breakfasts rent_hightown owl_house guest_room christmas winter gifts gift russia saint_petersburg\n",
      "\n",
      "------ Topic 8 ------\n",
      "latest daily_thanks thanks lp ttot daily photography ad news daily_news\n",
      "\n",
      "------ Topic 9 ------\n",
      "rt vacation tourism traveller amsterdam traveller_video adventure best trip hotel\n",
      "\n",
      "None\n",
      "\n",
      "Coherence Score:  0.37885096797380124\n",
      "Func:get_coherance took: 2.84 seconds\n",
      "0.37885096797380124\n"
     ]
    }
   ],
   "source": [
    "nmf_model = NMFModel()\n",
    "nmf_model.fit(df, 'cleanBody')\n",
    "nmf_model.train(num_topics=10)\n",
    "\n",
    "print(nmf_model.get_topics())\n",
    "print(nmf_model.get_coherance())"
   ]
  },
  {
   "cell_type": "markdown",
   "id": "175f14ff",
   "metadata": {},
   "source": [
    "## 2.3 Ensemble<a class=\"anchor\" id=\"2.3\"></a>\n",
    "https://radimrehurek.com/gensim/models/ensemblelda.html"
   ]
  },
  {
   "cell_type": "code",
   "execution_count": 17,
   "id": "d5c3c480",
   "metadata": {},
   "outputs": [
    {
     "name": "stdout",
     "output_type": "stream",
     "text": [
      ":: Size of id2word: 25387\n",
      "Func:createid2word_dictionary took: 0.21 seconds\n",
      "Func:filter_extremes took: 0.02 seconds\n",
      "Func:create_bow_coprpus took: 0.11 seconds\n",
      "----> Training EnsembleModel <----\n",
      "Func:train took: 82.28 seconds\n",
      "------ Topic 0 ------\n",
      "photography_helena reet_ennet travelpics_travelblogger beautiful_israel jerusalem touri wonderful_israel tour san_diego usa\n",
      "\n",
      "------ Topic 1 ------\n",
      "bed_breakfasts owl_house guest_room rent_hightown contact events_influencermarketing yacht_cruise cover_beauty fashion_food tulipsinholland_spring\n",
      "\n",
      "------ Topic 2 ------\n",
      "palm_springs love rent mid_century modern_houses usa holiday japan_japantravel san_diego vacation_rental\n",
      "\n",
      "None\n",
      "\n",
      "Coherence Score:  0.446511638611854\n",
      "Func:get_coherance took: 2.62 seconds\n",
      "0.446511638611854\n"
     ]
    }
   ],
   "source": [
    "ensemble_model = EnsembleModel()\n",
    "ensemble_model.fit(df, 'cleanBody')\n",
    "ensemble_model.train(num_topics=10, num_models=10)\n",
    "\n",
    "print(ensemble_model.get_topics())\n",
    "print(ensemble_model.get_coherance())"
   ]
  },
  {
   "cell_type": "markdown",
   "id": "b2a42016",
   "metadata": {},
   "source": [
    "# 3. Topic Analysis<a class=\"anchor\" id=\"3\"></a>\n"
   ]
  },
  {
   "cell_type": "markdown",
   "id": "4f18b819",
   "metadata": {},
   "source": [
    "## 3.1 LDA BoW Model<a class=\"anchor\" id=\"3.1\"></a>\n"
   ]
  },
  {
   "cell_type": "code",
   "execution_count": 18,
   "id": "79e87132",
   "metadata": {},
   "outputs": [
    {
     "data": {
      "text/html": [
       "\n",
       "<link rel=\"stylesheet\" type=\"text/css\" href=\"https://cdn.jsdelivr.net/gh/bmabey/pyLDAvis@3.3.1/pyLDAvis/js/ldavis.v1.0.0.css\">\n",
       "\n",
       "\n",
       "<div id=\"ldavis_el79669108883105602064038915\"></div>\n",
       "<script type=\"text/javascript\">\n",
       "\n",
       "var ldavis_el79669108883105602064038915_data = {\"mdsDat\": {\"x\": [0.060824879642087104, -0.025607962968841144, -0.01153129344144144, -0.010357498064170656, -0.02554715903010263, 0.012219033862468778], \"y\": [0.0010748674707299144, -0.011602641924383957, -0.0001108736558377968, -0.010296938407579349, 0.019229907240347153, 0.0017056792767240403], \"topics\": [1, 2, 3, 4, 5, 6], \"cluster\": [1, 1, 1, 1, 1, 1], \"Freq\": [17.88525096562606, 17.70609636417823, 17.494901060814282, 16.894477737403744, 15.934988901152531, 14.08428497082516]}, \"tinfo\": {\"Term\": [\"san_diego\", \"usa\", \"mission_beach\", \"condo\", \"vacation_rental\", \"palm_springs\", \"rent\", \"modern_houses\", \"mid_century\", \"love\", \"holiday\", \"bed_breakfasts\", \"jerusalem\", \"touri\", \"found_mission\", \"nice_vacation\", \"rental_condo\", \"owl_house\", \"rt\", \"christmas\", \"rent_hightown\", \"guest_room\", \"tourism\", \"latest\", \"world\", \"viajes\", \"ttot\", \"best\", \"adventure\", \"traveller\", \"san_diego\", \"found_mission\", \"nice_vacation\", \"rental_condo\", \"beach_condominiums\", \"condo_steps\", \"cozy_san\", \"diego\", \"mission_beach\", \"condo\", \"vacation_rental\", \"usa\", \"michelin\", \"destinos\", \"jinshanling\", \"sardinia\", \"posted_travelleisure\", \"fifth\", \"shoes\", \"whiskey\", \"straight\", \"tempe\", \"hebei\", \"community\", \"chavetas\", \"festivals\", \"deosai_expanse\", \"abudhabi\", \"street_food\", \"single\", \"photog\", \"tempatwisata\", \"beach\", \"rent_hightown\", \"owl_house\", \"guest_room\", \"book\", \"experience\", \"create\", \"long\", \"japan_japantravel\", \"tour\", \"bed_breakfasts\", \"paradise\", \"holiday\", \"explore\", \"lp\", \"love\", \"palm_springs\", \"rt\", \"rent\", \"vacation\", \"mid_century\", \"modern_houses\", \"latest\", \"jerusalem\", \"touri\", \"photography\", \"ttot\", \"christmas\", \"palawan\", \"santorini\", \"umroh\", \"october\", \"pura\", \"tepi\", \"suci\", \"value_inn\", \"holiday_baking\", \"exclusive_amalfi\", \"lot\", \"hollandaise_sauce\", \"lawyer\", \"tanah\", \"scritto\", \"avisa\", \"gambling\", \"unesco\", \"pantai\", \"napa_valley\", \"lunch_winelover\", \"americas_best\", \"quick\", \"cultural\", \"onaboat\", \"groups\", \"hdr\", \"hudsonriver\", \"palawan_philippines\", \"chinatown\", \"inn\", \"plans_sorted\", \"win_breville\", \"south\", \"tulip_rainbow\", \"posted_trips\", \"iceland\", \"quotes\", \"places_world\", \"stunning\", \"wine\", \"touri\", \"bed_breakfasts\", \"agency\", \"city\", \"best\", \"germany\", \"lp\", \"france\", \"jerusalem\", \"lonely_planet\", \"keukenhof\", \"guest_room\", \"owl_house\", \"ttot\", \"photography\", \"rent_hightown\", \"mid_century\", \"tulipsinholland_spring\", \"vacation\", \"time\", \"nature\", \"traveller\", \"christmas\", \"palm_springs\", \"holiday\", \"vacation_rental\", \"japan\", \"adventure\", \"usa\", \"beach\", \"rent\", \"modern_houses\", \"condo\", \"mission_beach\", \"rt\", \"love\", \"san_diego\", \"japan_japantravel\", \"photography_helena\", \"latest\", \"tourism\", \"sheep\", \"bay_mydayinla\", \"fireball_sunset\", \"california_b\", \"sinks_santamonica\", \"glitter\", \"naturecuts\", \"tibet\", \"drea\", \"change_lives\", \"check_unique\", \"birth\", \"extra\", \"ilovela_mondaymotivation\", \"simple\", \"rewards\", \"saturday\", \"fujifilm\", \"giving_cow\", \"parrot\", \"service\", \"towel\", \"win_stylish\", \"tree\", \"risk\", \"hear\", \"hd\", \"tapas\", \"realtalk\", \"truestory\", \"big\", \"gift\", \"way\", \"job\", \"visa\", \"ideas\", \"thailand\", \"rt\", \"love\", \"tourism\", \"latest\", \"holiday\", \"water\", \"loyalty\", \"vacation\", \"new\", \"christmas\", \"trip\", \"photography\", \"usa\", \"traveller\", \"palm_springs\", \"winter\", \"world\", \"jerusalem\", \"condo\", \"mission_beach\", \"vacation_rental\", \"beach\", \"hotel\", \"lp\", \"touri\", \"great\", \"san_diego\", \"guest_room\", \"rent\", \"modern_houses\", \"rent_hightown\", \"owl_house\", \"mid_century\", \"bed_breakfasts\", \"ttot\", \"estado\", \"man_travels\", \"roma\", \"great_giftidea\", \"wheel_light\", \"single_double\", \"george_moore\", \"needs_returns\", \"heely_skateshoes\", \"girls_boys\", \"world_search\", \"home_find\", \"marinelife_ocean\", \"fish_fishtank\", \"avanza\", \"reef_coral\", \"clownfish_redsea\", \"quoteoftheday\", \"atlantispalms\", \"rooftop\", \"skylineview\", \"majestuoso\", \"reeftank_reefcandy\", \"dubairt\", \"del_r\\u00edo\", \"jap\\u00f3n\", \"obi\", \"hong_kong\", \"nycrooftop\", \"los\", \"yellow\", \"te\", \"viajes\", \"santabarbara_sunset\", \"gerard_de\", \"viajar\", \"nerval\", \"blossoming_nature\", \"flower_soul\", \"rt_viajes\", \"t\", \"owl_house\", \"free\", \"de\", \"bed_breakfasts\", \"touri\", \"jerusalem\", \"rent_hightown\", \"guest_room\", \"vacation_rental\", \"beach\", \"holiday\", \"hotel\", \"condo\", \"mission_beach\", \"san_diego\", \"vacation\", \"day\", \"mid_century\", \"usa\", \"palm_springs\", \"photography\", \"modern_houses\", \"ttot\", \"rent\", \"love\", \"latest\", \"tourism\", \"christmas\", \"rt\", \"photography_helena\", \"reet_ennet\", \"world\", \"ad_scda\", \"great_tire\", \"dare_compare\", \"snowflakes\", \"tv_special\", \"leave_home\", \"flamingos\", \"safe_winter\", \"use_channel\", \"guides_help\", \"ship_ahead\", \"liquid_paste\", \"harlem\", \"forfrontier\", \"modern_houses\", \"find_ad\", \"janeiro\", \"surprise_rt\", \"palm_springs\", \"highlight\", \"rent\", \"avon\", \"vibrant\", \"home_fitness\", \"decorating\", \"swiss\", \"lesser\", \"gujarat\", \"hand\", \"blogging\", \"mid_century\", \"year\", \"forget\", \"love\", \"holiday\", \"photo\", \"rio_de\", \"swimming\", \"christmas\", \"going\", \"good\", \"latest\", \"holidays\", \"winter\", \"party\", \"nature\", \"like\", \"need\", \"today\", \"day\", \"luxury\", \"usa\", \"touri\", \"thanks\", \"condo\", \"mission_beach\", \"vacation_rental\", \"jerusalem\", \"san_diego\", \"traveltuesday\", \"rt\", \"daily_thanks\", \"ttot\", \"vacation\", \"de\", \"guest_room\", \"bed_breakfasts\", \"rent_hightown\", \"owl_house\", \"photography\", \"beach\", \"lp\", \"tour\", \"tourism\", \"religion\", \"paper_print\", \"james\", \"christmas_sled\", \"childanddog_laurieshanholtzer\", \"reject\", \"snow_scene\", \"winter_canvas\", \"bright\", \"curry\", \"europa\", \"ignore\", \"viaggilowcost_viaggi\", \"michener\", \"veggies\", \"customs\", \"ride_art\", \"fear\", \"organics_healthy\", \"nomads\", \"boarding\", \"scener\", \"ft\", \"detroit\", \"sarajevo\", \"romance\", \"memorable\", \"warsaw\", \"hottest\", \"main\", \"holiday_lip\", \"people\", \"usa\", \"yummy\", \"bundle_check\", \"mission_beach\", \"condo\", \"world\", \"vacation_rental\", \"jerusalem\", \"holidays\", \"bed_breakfasts\", \"san_diego\", \"holiday_season\", \"photos\", \"adventure\", \"paris\", \"guest_room\", \"japan_japantravel\", \"palm_springs\", \"rent\", \"ttot\", \"rent_hightown\", \"love\", \"holiday\", \"owl_house\", \"life\", \"tour\", \"mid_century\", \"rt\", \"modern_houses\", \"touri\", \"vacation\", \"best\", \"latest\", \"tourism\", \"christmas\", \"lp\", \"beach\", \"photography\"], \"Freq\": [10031.0, 10413.0, 8592.0, 8595.0, 9672.0, 5732.0, 3151.0, 2876.0, 2898.0, 3586.0, 4023.0, 2204.0, 2587.0, 2168.0, 405.0, 405.0, 405.0, 2174.0, 1422.0, 1196.0, 2154.0, 2168.0, 799.0, 1195.0, 721.0, 266.0, 1002.0, 586.0, 516.0, 574.0, 4995.8901678579205, 193.3668351513882, 193.3668351513882, 193.3668351513882, 65.2199511465537, 65.2199511465537, 65.2199511465537, 65.2199511465537, 3242.1461699762945, 3242.6923676520173, 3599.355994939483, 3440.7689602989867, 5.892948591694307, 2.9848821939052117, 1.315747558568111, 2.406986400381252, 8.946111936306668, 1.4546968001647114, 3.787300813570981, 3.8139405628273915, 5.519790276527596, 2.2069996445906446, 1.2075398336813898, 7.959646793995255, 2.067232365283147, 4.585526798264777, 4.662765875986081, 3.658607255851981, 5.339848972000681, 2.8961381381193987, 13.215501972688061, 5.1160391299829735, 271.2847289694821, 453.8042478881174, 424.46814818433353, 400.92947038882374, 43.74387921770972, 29.180896448548033, 19.578494358267157, 11.521467643562838, 118.05729828291669, 111.01322493723457, 313.117142072352, 39.19338848077413, 491.3238115893335, 42.30811292052257, 113.89941166347081, 413.4388969293482, 602.5149669367445, 181.36997932358634, 340.52971274899977, 183.45807042359417, 303.06427020189415, 289.3204416255448, 145.31350260009177, 246.7046164739853, 208.80742178197437, 111.18539380996766, 100.356098331467, 100.93432308841237, 10.9558460985587, 22.202385633707785, 14.148815858478555, 4.544580370054361, 3.228162273625321, 2.9964419637920208, 2.9818681206787927, 8.223722543979797, 12.401261608961597, 7.771744231425149, 13.615672216852266, 3.1965428490314998, 4.937739508106502, 2.888487120503869, 2.4926763294673284, 10.49675743887749, 7.327560700675201, 13.006910385772889, 7.23209815670319, 1.5090948087922431, 7.421203753701603, 7.845357094075034, 6.294094094716847, 5.090450731392321, 2.189413465606833, 2.726236019541453, 9.047108393300414, 2.225063281275597, 4.674225476649545, 2.469927834193433, 26.406048604736405, 14.395404251532943, 8.950262404610749, 28.0567568655637, 24.98734851712967, 25.234801714959275, 53.25397358197765, 29.53588397222518, 33.63961826563226, 27.568513839282065, 64.79963232720823, 582.3512956925629, 571.0752908497706, 15.140646122734656, 130.47648763752787, 166.92529789564944, 46.50546951858258, 208.04699816293407, 70.43400548362074, 587.8032193336738, 68.07499296116909, 38.185573881763496, 484.41419544998746, 476.64047504248185, 238.08110442553243, 226.45352243243843, 453.58217560400027, 557.9657055453695, 92.51953558669096, 312.3786592516055, 99.98519115606805, 141.38149123175265, 139.55767626226842, 243.01142446738976, 793.7593333221034, 594.5058644517135, 1149.8171440501806, 116.90019926173791, 119.51151128967801, 1084.3395679391026, 227.25077526611136, 448.2892983062683, 419.15832030240745, 903.3968340632275, 903.0356760420453, 246.59503941917706, 408.9305365824372, 616.8169336967784, 139.9978327421304, 130.21888270049706, 180.65728999860855, 133.8800871593641, 2.9726319642280403, 8.131772424822238, 7.9883387962398436, 7.696078774035918, 7.374815912994048, 4.041082613558028, 5.40204741171863, 7.957386353127707, 15.102872037529089, 15.099676102667795, 14.823121526037403, 4.190104927707575, 5.404800500179692, 7.063303473574626, 9.740656199253529, 6.667035153666395, 7.219146402369477, 7.9563230417168525, 13.826064257110097, 4.467727616251805, 10.74231475029056, 1.5739799173008273, 1.5739799173008273, 22.580212292742655, 3.9617068967880247, 2.294660528239568, 2.9838093353623463, 2.674872665825031, 3.2970331540954017, 3.2970331540954017, 26.544587669126656, 95.99933534718517, 61.5166359444726, 29.448519935188656, 25.744528641134984, 26.915424124353823, 64.53612831860592, 428.0472560180371, 954.8694310013019, 232.79538046177967, 308.3213290636274, 835.0812127201777, 25.409134299435312, 73.30092987048471, 324.7770308469486, 94.43589793449907, 268.092557203195, 125.50648142506033, 216.6284193319126, 1580.816078375044, 139.38637732250214, 893.1096927852398, 94.21820472520139, 163.05643820659247, 437.1676356264099, 1108.4560321843317, 1107.958853691332, 1148.1128721193047, 234.72403054044773, 140.24081884854286, 156.38599529587063, 340.10507527742374, 91.89743036082565, 981.0536785149749, 312.44031423960234, 408.56316652855406, 379.21335213546155, 298.10115422172504, 279.432055724764, 320.52739518177356, 267.2015070414018, 168.3878768201148, 3.151285623244005, 26.021965439014323, 6.4338046984016675, 17.224630463739555, 16.518560512395236, 15.726161303279113, 20.71986557176698, 22.65590087406939, 15.13200183815065, 15.071892383410516, 21.814655924218822, 23.828993682852207, 57.320670873903154, 57.637329697362766, 5.183383520294949, 56.5028457339741, 6.763222265300799, 18.9091311200823, 3.195440274528238, 8.676062012096779, 2.5603396021951075, 4.210219606972505, 61.85642792487212, 3.108294545255555, 5.427138797979766, 2.183338957017469, 1.2049140467067692, 14.947848980029766, 2.4508553517309677, 2.4739115449975375, 8.818690717427558, 6.720268563048195, 98.55184888823115, 8.034390743348865, 65.04342736752136, 74.96445196188508, 62.620033330667795, 60.054474742970456, 59.027461376060444, 50.848662958248305, 25.005964296662608, 513.6431228543762, 80.06374471227755, 128.27143006311098, 480.7696832149011, 469.99886998310063, 540.1982945972456, 450.7999662316791, 425.0275316356081, 1389.6738890956615, 262.5752320375784, 643.0167488808554, 154.64299828425618, 1026.6977650375973, 1026.3269791950079, 1133.5575179862205, 272.6464178518506, 124.40581705851027, 406.877939209474, 989.7705658366185, 611.96452860104, 180.58099406234155, 373.11276666491176, 185.50588525512183, 378.1478959970296, 407.19342982388764, 184.57120676034492, 149.06438287225376, 182.0805109023432, 178.9819198514226, 119.38071948978717, 119.38071948978717, 121.04219089816128, 7.008324077280844, 6.473074498978719, 6.024678607655554, 3.109064392483956, 7.184842950614634, 4.003742631567593, 2.5107938313795604, 5.209920954932111, 6.575409468971202, 6.55104605602819, 3.645403262826538, 3.5957369020596572, 4.101667143898023, 6.027102596716984, 1103.4942136839886, 6.101146580960269, 8.045167771780106, 3.2867121833840103, 2124.8729869592526, 2.5604131880744494, 1163.4219131643881, 4.466140817313475, 2.502640264565942, 3.203888275739869, 1.956364542108687, 4.035077950816713, 2.1295074572834736, 3.4541906979645725, 4.971335937328251, 4.906828314109501, 985.3253295711935, 52.38733685880415, 14.998252772968177, 966.762682593961, 999.8755865340095, 105.62648369647658, 12.487681117812624, 10.379815209768461, 268.95632050244126, 25.32001358135516, 39.23909549299561, 231.7347272287628, 80.41211777907137, 82.86204871576794, 30.4856321053172, 120.38328748280327, 51.538097893362, 50.01875138771988, 47.44935140367191, 102.13404179525189, 93.97278817618584, 1126.134662853963, 313.6749714368772, 101.29214858245588, 891.4486395805177, 891.0159397698858, 949.2252228479327, 342.23127003075393, 954.9076872163353, 62.98411411994236, 197.9868704218923, 92.26626489716531, 149.51258101790944, 191.2318037379434, 83.53406265367848, 219.0580569480052, 210.51256799588458, 206.81629020367328, 197.48947551831273, 114.11978282503516, 124.32279713703788, 104.33526653521506, 96.95890658638847, 98.0780844716888, 7.778436061258328, 7.2505573732495705, 3.890880312783577, 6.842990522741162, 6.786476311059003, 2.6748189867129217, 6.755743655987965, 6.686250986775884, 4.310301007960682, 2.940308054969366, 3.049670858749933, 3.1515997686237336, 3.2397287415129257, 2.4712418370995004, 4.432085759814069, 3.8329820736755558, 6.092871328898817, 4.03121320600859, 4.3109695922390046, 1.7095919798617234, 1.7832688562462673, 1.8741535654184727, 5.540721678959803, 4.810819913319823, 5.123546827937265, 38.22053619211739, 3.771252518157581, 4.115193236647513, 2.3564325351643474, 2.6963610233626563, 23.702957074683436, 31.395272331293167, 2191.306691529237, 27.702177025422806, 22.308473840930677, 1422.1213329653092, 1422.5116315978892, 147.16554049776624, 1436.4628290123323, 433.61105253073725, 72.5743983005106, 361.7274679696411, 1349.176052028833, 91.95726714362148, 34.309723952076894, 97.97464158799372, 37.32689021418578, 326.2073552716151, 122.46318325738153, 706.4252518769258, 412.6251427378516, 160.74894699544993, 291.5898081614303, 435.78502580770936, 459.55119501388634, 282.9492877445236, 53.33995516718728, 111.54619134252195, 324.5295720100325, 189.2979748962953, 312.13418953449064, 253.10286625461998, 187.36269780063137, 92.04361113175027, 145.09973101722014, 109.18237104769837, 133.4777421010881, 103.52718377902453, 117.60841890327691, 101.0141493860158], \"Total\": [10031.0, 10413.0, 8592.0, 8595.0, 9672.0, 5732.0, 3151.0, 2876.0, 2898.0, 3586.0, 4023.0, 2204.0, 2587.0, 2168.0, 405.0, 405.0, 405.0, 2174.0, 1422.0, 1196.0, 2154.0, 2168.0, 799.0, 1195.0, 721.0, 266.0, 1002.0, 586.0, 516.0, 574.0, 10031.402037301064, 405.4502691017169, 405.4502691017169, 405.4502691017169, 162.586595418799, 162.586595418799, 162.586595418799, 162.586595418799, 8592.604951639874, 8595.20327011558, 9672.647952064894, 10413.13652683295, 18.606026931854107, 10.884209058007443, 4.806228941087597, 8.882852408849613, 34.0640059898884, 5.614015516434777, 14.935923700241615, 15.237697380919776, 22.208485294913324, 8.884248154426293, 4.87654638654379, 32.177047294195354, 8.533304343774825, 19.009827614027067, 19.336393316404394, 15.253871721309832, 22.327507604896564, 12.128084401938285, 55.56892734172262, 21.425483626432474, 1237.7659828539345, 2154.6936423106254, 2174.622565068792, 2168.076923933642, 210.88771152265184, 142.12139349594904, 92.53886569314143, 51.88054381718504, 694.6799138792595, 678.4006443458177, 2204.4036591439512, 209.57595889845248, 4023.354419189976, 235.31073480255816, 768.3002216151247, 3586.980002738645, 5732.646760481306, 1422.2790399304106, 3151.5771294830915, 1471.8546799125736, 2898.2902117197373, 2876.4332839468047, 1195.6977866686555, 2587.716088592806, 2168.040500426559, 949.9822618477111, 1002.5924928455955, 1196.5528782648698, 20.654916891155477, 42.7962312845923, 28.76713260451497, 9.968446084862236, 7.489002269203993, 6.97488962667131, 6.947680109788243, 19.738593458521486, 29.84827251532036, 18.78637286437948, 32.93453705648002, 7.752877207418285, 12.001216818910406, 7.041294136545199, 6.080592862617021, 25.62643333703236, 18.043310761449543, 32.50498508523448, 18.08219029627774, 3.787662423223168, 18.693663628476262, 19.765207478221715, 15.988965178728307, 12.944434354330753, 5.57834794237008, 6.9505745774384735, 23.090849332868878, 5.6943400925623635, 12.048701529367463, 6.366830917488766, 68.83435903545781, 37.44623724180299, 23.26966930235624, 74.8459061812175, 66.82126161940286, 68.49679406046417, 149.80779988868974, 82.37483386349788, 95.52337966387776, 78.05729681837948, 196.05850526524952, 2168.040500426559, 2204.4036591439512, 41.06228623877906, 441.52028182578124, 586.409111793403, 142.60701778736086, 768.3002216151247, 229.50354937514123, 2587.716088592806, 225.29612549691308, 117.38866570543357, 2168.076923933642, 2174.622565068792, 1002.5924928455955, 949.9822618477111, 2154.6936423106254, 2898.2902117197373, 336.7067213471981, 1471.8546799125736, 370.97198887654775, 575.5131181260224, 574.5433373057627, 1196.5528782648698, 5732.646760481306, 4023.354419189976, 9672.647952064894, 497.3037922227716, 516.6489423045954, 10413.13652683295, 1237.7659828539345, 3151.5771294830915, 2876.4332839468047, 8595.20327011558, 8592.604951639874, 1422.2790399304106, 3586.980002738645, 10031.402037301064, 694.6799138792595, 606.6769747241922, 1195.6977866686555, 799.2873264786668, 5.858482145578789, 16.31964131453529, 16.278724538773833, 16.01679888052969, 16.02639915162383, 8.86119660928604, 11.879139571482682, 17.73447288841734, 33.945437557179794, 33.9638236654942, 33.78352886148044, 9.575330317730005, 12.356187267558159, 16.208367771462413, 22.681240822573287, 16.045666926631938, 17.46291404462293, 19.303540663109366, 33.8157535820952, 10.953522722780884, 26.659622138985505, 3.9167253992748354, 3.9167253992748354, 56.76585126854159, 10.232193877615913, 5.971249021830889, 7.790103167879732, 7.041940845774393, 8.750268722283844, 8.750268722283844, 71.29537657251443, 264.4594110055972, 172.31209260300787, 83.9534699787169, 73.22289497660688, 76.81476052683561, 193.41355315065894, 1422.2790399304106, 3586.980002738645, 799.2873264786668, 1195.6977866686555, 4023.354419189976, 73.73988554536584, 256.1773591940708, 1471.8546799125736, 344.5826481979399, 1196.5528782648698, 486.28274716618535, 949.9822618477111, 10413.13652683295, 574.5433373057627, 5732.646760481306, 366.074994977044, 721.9098003515, 2587.716088592806, 8595.20327011558, 8592.604951639874, 9672.647952064894, 1237.7659828539345, 662.9476212336215, 768.3002216151247, 2168.040500426559, 384.37312729483847, 10031.402037301064, 2168.076923933642, 3151.5771294830915, 2876.4332839468047, 2154.6936423106254, 2174.622565068792, 2898.2902117197373, 2204.4036591439512, 1002.5924928455955, 5.288463410825029, 46.99492657405262, 11.663201070782021, 31.840557904743495, 31.748223648482433, 31.63834161810234, 42.190334134501605, 46.9607847070319, 31.856173032082832, 32.05000900822698, 46.65183788503163, 51.69783379139769, 125.00655563384922, 127.16223836798602, 11.465595642625235, 125.90774260144697, 15.162475082881866, 42.57467089792951, 7.43459108673337, 20.3405099464865, 6.045090552834426, 9.99892345152794, 147.64180140129443, 7.4259248630947265, 13.08499323671694, 5.370361793740253, 2.9679696918338663, 36.98886940612936, 6.083813173254174, 6.165735127518075, 22.170967171193134, 16.89680686994405, 266.4770508298318, 20.542389514669978, 178.8833179229499, 212.8587399120631, 179.60118099961886, 181.04808460747824, 180.3367396332764, 154.257177327543, 71.54207243112606, 2174.622565068792, 264.94888751805786, 460.59478295687285, 2204.4036591439512, 2168.040500426559, 2587.716088592806, 2154.6936423106254, 2168.076923933642, 9672.647952064894, 1237.7659828539345, 4023.354419189976, 662.9476212336215, 8595.20327011558, 8592.604951639874, 10031.402037301064, 1471.8546799125736, 510.23460671516125, 2898.2902117197373, 10413.13652683295, 5732.646760481306, 949.9822618477111, 2876.4332839468047, 1002.5924928455955, 3151.5771294830915, 3586.980002738645, 1195.6977866686555, 799.2873264786668, 1196.5528782648698, 1422.2790399304106, 606.6769747241922, 606.6769747241922, 721.9098003515, 12.267363819734841, 12.352404881113939, 12.124776573865866, 6.354986483863165, 15.677761845375047, 9.044189754912502, 5.877485425444089, 12.264283362297434, 15.663097439240087, 15.695527817900139, 8.975864189504737, 8.94795414990538, 10.435430582136428, 15.678203461077498, 2876.4332839468047, 16.041554069968807, 21.159992395956642, 8.658141286200717, 5732.646760481306, 6.933736565740584, 3151.5771294830915, 12.104995689072716, 6.7874507106815605, 8.723325079387056, 5.333115672997719, 11.000887880823054, 5.805926059363358, 9.476746429202167, 14.103143375145489, 13.921204297892118, 2898.2902117197373, 150.54710694512906, 42.75467102534547, 3586.980002738645, 4023.354419189976, 382.30101680194014, 38.280237568981924, 31.33228213167815, 1196.5528782648698, 87.75887823109733, 144.94513099444302, 1195.6977866686555, 346.3146850423374, 366.074994977044, 111.84131376424403, 575.5131181260224, 210.77119744381122, 205.4123758648483, 197.67759255622906, 510.23460671516125, 464.1457858032494, 10413.13652683295, 2168.040500426559, 520.5452172274057, 8595.20327011558, 8592.604951639874, 9672.647952064894, 2587.716088592806, 10031.402037301064, 288.0226836238136, 1422.2790399304106, 492.5624890276225, 1002.5924928455955, 1471.8546799125736, 460.59478295687285, 2168.076923933642, 2204.4036591439512, 2154.6936423106254, 2174.622565068792, 949.9822618477111, 1237.7659828539345, 768.3002216151247, 678.4006443458177, 799.2873264786668, 18.03713781905507, 18.736143545023985, 10.254481647205925, 18.7356313103165, 18.742087825053282, 7.387151504805029, 18.806068753792196, 18.799030992610277, 12.130338968185063, 8.394532391157387, 9.059495460124655, 9.400634895038404, 9.683986087545339, 7.424732016523757, 13.383486486737976, 11.69898621350323, 18.822099948896895, 12.910737962975325, 13.939210609853788, 5.660975021062592, 5.952593975959851, 6.291380108487438, 18.92774589962965, 16.649956589296536, 18.00441850978791, 136.75007577066037, 13.660454355050087, 15.145156424641574, 8.694792051364594, 9.987251925125168, 88.20294624933628, 120.14586212414818, 10413.13652683295, 110.75550076856317, 89.67207108348856, 8592.604951639874, 8595.20327011558, 721.9098003515, 9672.647952064894, 2587.716088592806, 346.3146850423374, 2204.4036591439512, 10031.402037301064, 461.41778125975685, 148.8013426552857, 516.6489423045954, 166.73517049425124, 2168.076923933642, 694.6799138792595, 5732.646760481306, 3151.5771294830915, 1002.5924928455955, 2154.6936423106254, 3586.980002738645, 4023.354419189976, 2174.622565068792, 263.44970721687986, 678.4006443458177, 2898.2902117197373, 1422.2790399304106, 2876.4332839468047, 2168.040500426559, 1471.8546799125736, 586.409111793403, 1195.6977866686555, 799.2873264786668, 1196.5528782648698, 768.3002216151247, 1237.7659828539345, 949.9822618477111], \"Category\": [\"Default\", \"Default\", \"Default\", \"Default\", \"Default\", \"Default\", \"Default\", \"Default\", \"Default\", \"Default\", \"Default\", \"Default\", \"Default\", \"Default\", \"Default\", \"Default\", \"Default\", \"Default\", \"Default\", \"Default\", \"Default\", \"Default\", \"Default\", \"Default\", \"Default\", \"Default\", \"Default\", \"Default\", \"Default\", \"Default\", \"Topic1\", \"Topic1\", \"Topic1\", \"Topic1\", \"Topic1\", \"Topic1\", \"Topic1\", \"Topic1\", \"Topic1\", \"Topic1\", \"Topic1\", \"Topic1\", \"Topic1\", \"Topic1\", \"Topic1\", \"Topic1\", \"Topic1\", \"Topic1\", \"Topic1\", \"Topic1\", \"Topic1\", \"Topic1\", \"Topic1\", \"Topic1\", \"Topic1\", \"Topic1\", \"Topic1\", \"Topic1\", \"Topic1\", \"Topic1\", \"Topic1\", \"Topic1\", \"Topic1\", \"Topic1\", \"Topic1\", \"Topic1\", \"Topic1\", \"Topic1\", \"Topic1\", \"Topic1\", \"Topic1\", \"Topic1\", \"Topic1\", \"Topic1\", \"Topic1\", \"Topic1\", \"Topic1\", \"Topic1\", \"Topic1\", \"Topic1\", \"Topic1\", \"Topic1\", \"Topic1\", \"Topic1\", \"Topic1\", \"Topic1\", \"Topic1\", \"Topic1\", \"Topic1\", \"Topic1\", \"Topic2\", \"Topic2\", \"Topic2\", \"Topic2\", \"Topic2\", \"Topic2\", \"Topic2\", \"Topic2\", \"Topic2\", \"Topic2\", \"Topic2\", \"Topic2\", \"Topic2\", \"Topic2\", \"Topic2\", \"Topic2\", \"Topic2\", \"Topic2\", \"Topic2\", \"Topic2\", \"Topic2\", \"Topic2\", \"Topic2\", \"Topic2\", \"Topic2\", \"Topic2\", \"Topic2\", \"Topic2\", \"Topic2\", \"Topic2\", \"Topic2\", \"Topic2\", \"Topic2\", \"Topic2\", \"Topic2\", \"Topic2\", \"Topic2\", \"Topic2\", \"Topic2\", \"Topic2\", \"Topic2\", \"Topic2\", \"Topic2\", \"Topic2\", \"Topic2\", \"Topic2\", \"Topic2\", \"Topic2\", \"Topic2\", \"Topic2\", \"Topic2\", \"Topic2\", \"Topic2\", \"Topic2\", \"Topic2\", \"Topic2\", \"Topic2\", \"Topic2\", \"Topic2\", \"Topic2\", \"Topic2\", \"Topic2\", \"Topic2\", \"Topic2\", \"Topic2\", \"Topic2\", \"Topic2\", \"Topic2\", \"Topic2\", \"Topic2\", \"Topic2\", \"Topic2\", \"Topic2\", \"Topic2\", \"Topic2\", \"Topic2\", \"Topic2\", \"Topic2\", \"Topic2\", \"Topic2\", \"Topic2\", \"Topic2\", \"Topic3\", \"Topic3\", \"Topic3\", \"Topic3\", \"Topic3\", \"Topic3\", \"Topic3\", \"Topic3\", \"Topic3\", \"Topic3\", \"Topic3\", \"Topic3\", \"Topic3\", \"Topic3\", \"Topic3\", \"Topic3\", \"Topic3\", \"Topic3\", \"Topic3\", \"Topic3\", \"Topic3\", \"Topic3\", \"Topic3\", \"Topic3\", \"Topic3\", \"Topic3\", \"Topic3\", \"Topic3\", \"Topic3\", \"Topic3\", \"Topic3\", \"Topic3\", \"Topic3\", \"Topic3\", \"Topic3\", \"Topic3\", \"Topic3\", \"Topic3\", \"Topic3\", \"Topic3\", \"Topic3\", \"Topic3\", \"Topic3\", \"Topic3\", \"Topic3\", \"Topic3\", \"Topic3\", \"Topic3\", \"Topic3\", \"Topic3\", \"Topic3\", \"Topic3\", \"Topic3\", \"Topic3\", \"Topic3\", \"Topic3\", \"Topic3\", \"Topic3\", \"Topic3\", \"Topic3\", \"Topic3\", \"Topic3\", \"Topic3\", \"Topic3\", \"Topic3\", \"Topic3\", \"Topic3\", \"Topic3\", \"Topic3\", \"Topic3\", \"Topic3\", \"Topic3\", \"Topic4\", \"Topic4\", \"Topic4\", \"Topic4\", \"Topic4\", \"Topic4\", \"Topic4\", \"Topic4\", \"Topic4\", \"Topic4\", \"Topic4\", \"Topic4\", \"Topic4\", \"Topic4\", \"Topic4\", \"Topic4\", \"Topic4\", \"Topic4\", \"Topic4\", \"Topic4\", \"Topic4\", \"Topic4\", \"Topic4\", \"Topic4\", \"Topic4\", \"Topic4\", \"Topic4\", \"Topic4\", \"Topic4\", \"Topic4\", \"Topic4\", \"Topic4\", \"Topic4\", \"Topic4\", \"Topic4\", \"Topic4\", \"Topic4\", \"Topic4\", \"Topic4\", \"Topic4\", \"Topic4\", \"Topic4\", \"Topic4\", \"Topic4\", \"Topic4\", \"Topic4\", \"Topic4\", \"Topic4\", \"Topic4\", \"Topic4\", \"Topic4\", \"Topic4\", \"Topic4\", \"Topic4\", \"Topic4\", \"Topic4\", \"Topic4\", \"Topic4\", \"Topic4\", \"Topic4\", \"Topic4\", \"Topic4\", \"Topic4\", \"Topic4\", \"Topic4\", \"Topic4\", \"Topic4\", \"Topic4\", \"Topic4\", \"Topic4\", \"Topic4\", \"Topic4\", \"Topic4\", \"Topic5\", \"Topic5\", \"Topic5\", \"Topic5\", \"Topic5\", \"Topic5\", \"Topic5\", \"Topic5\", \"Topic5\", \"Topic5\", \"Topic5\", \"Topic5\", \"Topic5\", \"Topic5\", \"Topic5\", \"Topic5\", \"Topic5\", \"Topic5\", \"Topic5\", \"Topic5\", \"Topic5\", \"Topic5\", \"Topic5\", \"Topic5\", \"Topic5\", \"Topic5\", \"Topic5\", \"Topic5\", \"Topic5\", \"Topic5\", \"Topic5\", \"Topic5\", \"Topic5\", \"Topic5\", \"Topic5\", \"Topic5\", \"Topic5\", \"Topic5\", \"Topic5\", \"Topic5\", \"Topic5\", \"Topic5\", \"Topic5\", \"Topic5\", \"Topic5\", \"Topic5\", \"Topic5\", \"Topic5\", \"Topic5\", \"Topic5\", \"Topic5\", \"Topic5\", \"Topic5\", \"Topic5\", \"Topic5\", \"Topic5\", \"Topic5\", \"Topic5\", \"Topic5\", \"Topic5\", \"Topic5\", \"Topic5\", \"Topic5\", \"Topic5\", \"Topic5\", \"Topic5\", \"Topic5\", \"Topic5\", \"Topic5\", \"Topic5\", \"Topic5\", \"Topic5\", \"Topic5\", \"Topic5\", \"Topic6\", \"Topic6\", \"Topic6\", \"Topic6\", \"Topic6\", \"Topic6\", \"Topic6\", \"Topic6\", \"Topic6\", \"Topic6\", \"Topic6\", \"Topic6\", \"Topic6\", \"Topic6\", \"Topic6\", \"Topic6\", \"Topic6\", \"Topic6\", \"Topic6\", \"Topic6\", \"Topic6\", \"Topic6\", \"Topic6\", \"Topic6\", \"Topic6\", \"Topic6\", \"Topic6\", \"Topic6\", \"Topic6\", \"Topic6\", \"Topic6\", \"Topic6\", \"Topic6\", \"Topic6\", \"Topic6\", \"Topic6\", \"Topic6\", \"Topic6\", \"Topic6\", \"Topic6\", \"Topic6\", \"Topic6\", \"Topic6\", \"Topic6\", \"Topic6\", \"Topic6\", \"Topic6\", \"Topic6\", \"Topic6\", \"Topic6\", \"Topic6\", \"Topic6\", \"Topic6\", \"Topic6\", \"Topic6\", \"Topic6\", \"Topic6\", \"Topic6\", \"Topic6\", \"Topic6\", \"Topic6\", \"Topic6\", \"Topic6\", \"Topic6\", \"Topic6\", \"Topic6\", \"Topic6\", \"Topic6\", \"Topic6\", \"Topic6\"], \"logprob\": [30.0, 29.0, 28.0, 27.0, 26.0, 25.0, 24.0, 23.0, 22.0, 21.0, 20.0, 19.0, 18.0, 17.0, 16.0, 15.0, 14.0, 13.0, 12.0, 11.0, 10.0, 9.0, 8.0, 7.0, 6.0, 5.0, 4.0, 3.0, 2.0, 1.0, -2.1328, -5.3845, -5.3845, -5.3845, -6.4714, -6.4714, -6.4714, -6.4714, -2.5651, -2.565, -2.4606, -2.5057, -8.8754, -9.5556, -10.3747, -9.7708, -8.4579, -10.2743, -9.3175, -9.3105, -8.9408, -9.8575, -10.4605, -8.5747, -9.9229, -9.1262, -9.1095, -9.3521, -8.9739, -9.5858, -8.0677, -9.0168, -5.046, -4.5315, -4.5983, -4.6553, -6.8708, -7.2756, -7.6747, -8.2049, -5.878, -5.9395, -4.9026, -6.9806, -4.452, -6.9042, -5.9138, -4.6246, -4.248, -5.4486, -4.8186, -5.4371, -4.9352, -4.9816, -5.6702, -5.1409, -5.3077, -5.9379, -6.0404, -6.0347, -8.2452, -7.5389, -7.9894, -9.1251, -9.4672, -9.5416, -9.5465, -8.532, -8.1213, -8.5886, -8.0278, -9.477, -9.0422, -9.5783, -9.7257, -8.288, -8.6474, -8.0736, -8.6605, -10.2276, -8.6347, -8.5791, -8.7995, -9.0117, -9.8554, -9.6361, -8.4366, -9.8393, -9.097, -9.7349, -7.3655, -7.9722, -8.4474, -7.3048, -7.4207, -7.4108, -6.664, -7.2535, -7.1234, -7.3224, -6.4678, -4.272, -4.2915, -7.9217, -5.7679, -5.5215, -6.7995, -5.3013, -6.3844, -4.2627, -6.4185, -6.9966, -4.4561, -4.4723, -5.1665, -5.2165, -4.5219, -4.3148, -6.1116, -4.8949, -6.034, -5.6876, -5.7006, -5.146, -3.9623, -4.2513, -3.5917, -5.8777, -5.8557, -3.6503, -5.213, -4.5336, -4.6008, -3.8329, -3.8333, -5.1313, -4.6255, -4.2145, -5.6974, -5.7698, -5.4425, -5.7421, -9.5376, -8.5313, -8.5491, -8.5864, -8.629, -9.2306, -8.9403, -8.553, -7.9122, -7.9124, -7.9309, -9.1943, -8.9398, -8.6722, -8.3508, -8.7299, -8.6503, -8.5531, -8.0005, -9.1302, -8.2529, -10.1735, -10.1735, -7.51, -9.2504, -9.7965, -9.5339, -9.6432, -9.434, -9.434, -7.3482, -6.0627, -6.5078, -7.2444, -7.3788, -7.3344, -6.4598, -4.5678, -3.7655, -5.1769, -4.8959, -3.8995, -7.392, -6.3325, -4.8439, -6.0791, -5.0357, -5.7947, -5.2489, -3.2614, -5.6898, -3.8324, -6.0815, -5.533, -4.5468, -3.6163, -3.6168, -3.5812, -5.1687, -5.6837, -5.5747, -4.7978, -6.1064, -3.7384, -4.8827, -4.6144, -4.689, -4.9296, -4.9943, -4.8571, -5.0391, -5.5008, -9.4443, -7.3332, -8.7306, -7.7458, -7.7877, -7.8368, -7.5611, -7.4717, -7.8753, -7.8793, -7.5096, -7.4212, -6.5435, -6.538, -8.9467, -6.5579, -8.6806, -7.6525, -9.4304, -8.4316, -9.652, -9.1546, -6.4673, -9.4581, -8.9007, -9.8113, -10.4057, -7.8876, -9.6957, -9.6863, -8.4153, -8.687, -6.0016, -8.5084, -6.4171, -6.2751, -6.4551, -6.4969, -6.5141, -6.6633, -7.373, -4.3506, -6.2093, -5.738, -4.4168, -4.4394, -4.3002, -4.4811, -4.54, -3.3553, -5.0216, -4.126, -5.551, -3.658, -3.6584, -3.559, -4.984, -5.7686, -4.5836, -3.6947, -4.1755, -5.396, -4.6703, -5.3691, -4.6569, -4.5829, -5.3741, -5.5878, -5.3877, -5.4049, -5.8098, -5.8098, -5.796, -8.5866, -8.666, -8.7378, -9.3994, -8.5617, -9.1464, -9.6131, -8.8831, -8.6503, -8.6541, -9.2402, -9.2539, -9.1223, -8.7374, -3.5274, -8.7252, -8.4486, -9.3438, -2.8722, -9.5935, -3.4746, -9.0372, -9.6163, -9.3693, -9.8626, -9.1386, -9.7778, -9.2941, -8.93, -8.943, -3.6407, -6.575, -7.8257, -3.6597, -3.626, -5.8738, -8.0089, -8.1938, -4.9391, -7.3021, -6.864, -5.0881, -6.1465, -6.1165, -7.1164, -5.743, -6.5914, -6.6213, -6.674, -5.9074, -5.9907, -3.5071, -4.7853, -5.9157, -3.7408, -3.7413, -3.678, -4.6982, -3.6721, -6.3908, -5.2455, -6.009, -5.5263, -5.2802, -6.1084, -5.1443, -5.1841, -5.2018, -5.248, -5.7964, -5.7108, -5.8861, -5.9594, -5.9479, -8.3589, -8.4291, -9.0516, -8.487, -8.4953, -9.4263, -8.4998, -8.5102, -8.9492, -9.3317, -9.2952, -9.2623, -9.2347, -9.5055, -8.9213, -9.0666, -8.6031, -9.0161, -8.9491, -9.874, -9.8318, -9.7821, -8.6981, -8.8393, -8.7764, -6.7668, -9.0828, -8.9955, -9.5531, -9.4183, -7.2446, -6.9636, -2.718, -7.0887, -7.3053, -3.1503, -3.15, -5.4187, -3.1403, -4.3381, -6.1256, -4.5193, -3.203, -5.8889, -6.8748, -5.8255, -6.7905, -4.6227, -5.6024, -3.85, -4.3877, -5.3304, -4.7349, -4.3331, -4.28, -4.7649, -6.4335, -5.6958, -4.6278, -5.1669, -4.6668, -4.8764, -5.1772, -5.888, -5.4328, -5.7172, -5.5163, -5.7704, -5.6429, -5.795], \"loglift\": [30.0, 29.0, 28.0, 27.0, 26.0, 25.0, 24.0, 23.0, 22.0, 21.0, 20.0, 19.0, 18.0, 17.0, 16.0, 15.0, 14.0, 13.0, 12.0, 11.0, 10.0, 9.0, 8.0, 7.0, 6.0, 5.0, 4.0, 3.0, 2.0, 1.0, 1.0241, 0.9808, 0.9808, 0.9808, 0.8077, 0.8077, 0.8077, 0.8077, 0.7465, 0.7464, 0.7326, 0.6138, 0.5715, 0.4274, 0.4257, 0.4154, 0.3842, 0.3707, 0.3491, 0.3361, 0.3291, 0.3285, 0.3253, 0.3243, 0.3034, 0.2991, 0.2988, 0.2934, 0.2906, 0.289, 0.285, 0.289, 0.2033, 0.1635, 0.0874, 0.0334, 0.1482, 0.138, 0.168, 0.2165, -0.0511, -0.0889, -0.2304, 0.0446, -0.3816, 0.0053, -0.1877, -0.4394, -0.5316, -0.3383, -0.504, -0.3611, -0.5367, -0.5756, -0.3864, -0.6291, -0.619, -0.4241, -0.5804, -0.7515, 1.0972, 1.075, 1.0217, 0.9458, 0.8897, 0.8864, 0.8854, 0.8557, 0.8529, 0.8486, 0.848, 0.8453, 0.8432, 0.8402, 0.8395, 0.8387, 0.8301, 0.8153, 0.8149, 0.811, 0.8074, 0.8073, 0.799, 0.798, 0.796, 0.7954, 0.7943, 0.7916, 0.7844, 0.7843, 0.7732, 0.7753, 0.7758, 0.7501, 0.7476, 0.7327, 0.697, 0.7056, 0.6876, 0.6905, 0.6241, 0.4168, 0.3806, 0.7336, 0.5122, 0.4748, 0.6107, 0.4248, 0.55, 0.2491, 0.5345, 0.6082, 0.2326, 0.2134, 0.2935, 0.2974, 0.173, 0.0837, 0.4395, 0.1812, 0.4202, 0.3275, 0.3162, 0.1372, -0.2459, -0.1809, -0.3984, 0.2834, 0.2673, -0.5308, 0.0363, -0.219, -0.1948, -0.5215, -0.5216, -0.021, -0.4403, -1.0576, 0.1294, 0.1925, -0.1586, -0.0555, 1.0648, 1.0467, 1.0314, 1.0103, 0.9671, 0.9581, 0.9553, 0.9419, 0.9334, 0.9326, 0.9195, 0.9168, 0.9164, 0.9126, 0.898, 0.865, 0.8599, 0.8569, 0.8489, 0.8465, 0.8343, 0.8316, 0.8316, 0.8214, 0.7944, 0.7869, 0.7836, 0.7753, 0.7672, 0.7672, 0.7553, 0.7299, 0.7133, 0.6956, 0.698, 0.6946, 0.6457, 0.5425, 0.4198, 0.5097, 0.3879, 0.1709, 0.6778, 0.492, 0.2321, 0.4488, 0.2474, 0.3888, 0.265, -0.1419, 0.3269, -0.116, 0.386, 0.2555, -0.035, -0.305, -0.3051, -0.3879, 0.0806, 0.1899, 0.1514, -0.1091, 0.3123, -0.5816, -0.1939, -0.2998, -0.2829, -0.2347, -0.3086, -0.4586, -0.3669, -0.0408, 1.2605, 1.1871, 1.1833, 1.1638, 1.1248, 1.0791, 1.0671, 1.0493, 1.0338, 1.0237, 1.0181, 1.0037, 0.9985, 0.9869, 0.9843, 0.9769, 0.9709, 0.9666, 0.9338, 0.9261, 0.9191, 0.9132, 0.9082, 0.9073, 0.8981, 0.8781, 0.8767, 0.8721, 0.869, 0.865, 0.8563, 0.8562, 0.7835, 0.8394, 0.7665, 0.7346, 0.7245, 0.6747, 0.6614, 0.6684, 0.727, 0.3351, 0.5815, 0.4998, 0.2554, 0.2493, 0.2116, 0.2138, 0.1487, -0.162, 0.2277, -0.0555, 0.3226, -0.3467, -0.3467, -0.4022, 0.0921, 0.3669, -0.1852, -0.5752, -0.4591, 0.1179, -0.2642, 0.0909, -0.3422, -0.3976, -0.0903, 0.0988, -0.1046, -0.2945, 0.1525, 0.1525, -0.0076, 1.2768, 1.1905, 1.1373, 1.1217, 1.0564, 1.0218, 0.9861, 0.9805, 0.9687, 0.9629, 0.9356, 0.925, 0.9028, 0.8806, 0.8786, 0.8699, 0.8696, 0.868, 0.8442, 0.8404, 0.8401, 0.8396, 0.8389, 0.835, 0.8338, 0.8337, 0.8337, 0.8274, 0.7939, 0.7939, 0.7577, 0.781, 0.7891, 0.5255, 0.4444, 0.5504, 0.7165, 0.7319, 0.344, 0.5937, 0.53, 0.1958, 0.3765, 0.351, 0.5368, 0.2721, 0.4282, 0.424, 0.4097, 0.2281, 0.2395, -0.3876, -0.0966, 0.1998, -0.4295, -0.4296, -0.4848, -0.1864, -0.5152, 0.3165, -0.1352, 0.1617, -0.0663, -0.2041, 0.1294, -0.4556, -0.512, -0.5069, -0.5623, -0.2825, -0.4615, -0.1599, -0.1088, -0.2613, 1.119, 1.0107, 0.991, 0.9529, 0.9443, 0.9443, 0.9363, 0.9264, 0.9254, 0.911, 0.8713, 0.8672, 0.8651, 0.86, 0.855, 0.8443, 0.8322, 0.7961, 0.7866, 0.7628, 0.7547, 0.7491, 0.7316, 0.7186, 0.7033, 0.6853, 0.673, 0.6571, 0.6545, 0.6507, 0.6461, 0.6181, 0.4015, 0.5743, 0.5689, 0.1614, 0.1613, 0.3698, 0.053, 0.1737, 0.3974, 0.1528, -0.0461, 0.3471, 0.4929, 0.2975, 0.4634, 0.066, 0.2245, -0.1336, -0.073, 0.1296, -0.0399, -0.1478, -0.2095, -0.0792, 0.3629, 0.1548, -0.2294, -0.0566, -0.2608, -0.1877, -0.1011, 0.1084, -0.149, -0.0306, -0.2332, -0.0442, -0.3936, -0.2811]}, \"token.table\": {\"Topic\": [1, 2, 3, 4, 5, 6, 1, 2, 3, 4, 5, 6, 1, 2, 3, 4, 5, 6, 1, 2, 3, 4, 5, 6, 1, 2, 3, 4, 5, 6, 1, 2, 3, 4, 5, 6, 1, 2, 3, 4, 5, 6, 1, 2, 3, 4, 5, 6, 1, 2, 3, 4, 5, 6, 1, 2, 3, 4, 5, 6, 1, 2, 3, 4, 5, 6, 1, 2, 3, 4, 5, 6, 1, 2, 3, 4, 5, 6, 1, 2, 3, 4, 5, 6, 1, 2, 3, 4, 5, 6, 1, 2, 3, 4, 5, 6, 1, 2, 3, 4, 5, 6, 1, 2, 3, 4, 5, 6, 1, 2, 3, 4, 5, 6, 1, 2, 3, 4, 5, 6, 1, 2, 3, 4, 5, 6, 1, 2, 3, 4, 5, 6, 1, 2, 3, 4, 5, 6, 1, 2, 3, 4, 5, 6, 1, 2, 3, 4, 5, 6, 1, 2, 3, 4, 5, 6, 1, 2, 3, 4, 5, 6, 2, 3, 4, 5, 6, 1, 2, 3, 4, 5, 6, 1, 2, 3, 4, 5, 6, 1, 2, 3, 4, 5, 6, 1, 2, 3, 4, 5, 6, 1, 2, 3, 4, 5, 6, 1, 2, 3, 4, 5, 6, 1, 2, 3, 4, 5, 6, 1, 2, 3, 4, 5, 6, 1, 2, 3, 4, 5, 6, 1, 2, 3, 4, 5, 6, 1, 2, 3, 4, 5, 6, 1, 2, 3, 4, 5, 6, 1, 2, 3, 4, 5, 6, 1, 2, 3, 4, 5, 6, 1, 2, 3, 4, 5, 6, 1, 2, 3, 4, 5, 6, 1, 2, 3, 4, 5, 1, 2, 3, 4, 5, 6, 1, 2, 3, 4, 5, 6, 1, 2, 3, 4, 5, 6, 1, 2, 3, 4, 5, 6, 1, 2, 3, 4, 5, 6, 1, 2, 3, 4, 5, 6, 1, 2, 3, 4, 5, 6, 3, 4, 1, 2, 3, 4, 5, 6, 1, 2, 3, 4, 5, 6, 1, 2, 3, 4, 5, 6, 1, 2, 3, 4, 5, 6, 1, 2, 3, 4, 5, 6, 1, 2, 3, 4, 5, 6, 1, 2, 3, 4, 5, 6, 1, 2, 3, 4, 5, 6, 1, 2, 3, 4, 5, 6, 1, 2, 3, 4, 5, 6, 1, 2, 3, 4, 5, 6, 2, 3, 4, 5, 1, 2, 3, 4, 5, 6, 1, 2, 3, 4, 5, 6, 1, 2, 3, 4, 5, 6, 1, 2, 3, 4, 5, 6, 1, 2, 3, 4, 5, 6, 1, 2, 3, 4, 5, 6, 1, 2, 3, 4, 5, 6, 1, 2, 3, 4, 5, 6, 1, 2, 3, 4, 5, 6, 1, 2, 3, 4, 5, 6, 1, 2, 3, 4, 5, 6, 1, 2, 3, 4, 5, 6, 1, 2, 3, 4, 5, 6, 1, 2, 3, 4, 5, 6, 1, 2, 3, 4, 5, 6, 1, 2, 3, 4, 5, 6, 1, 2, 3, 4, 5, 6, 1, 2, 3, 4, 5, 6, 1, 2, 3, 4, 5, 6, 1, 2, 3, 4, 5, 6, 1, 2, 3, 4, 5, 6, 2, 3, 4, 5, 6, 1, 2, 3, 4, 5, 6, 1, 2, 3, 4, 5, 6, 1, 2, 3, 4, 5, 6, 1, 2, 3, 4, 5, 6, 1, 2, 3, 4, 5, 6, 1, 2, 3, 4, 5, 6, 1, 2, 3, 4, 5, 6, 1, 2, 3, 4, 5, 6, 1, 2, 3, 4, 6, 1, 2, 3, 4, 5, 6, 1, 2, 3, 4, 5, 1, 2, 3, 4, 5, 6, 1, 2, 3, 4, 5, 6, 1, 2, 3, 4, 5, 6, 1, 2, 3, 4, 5, 6, 1, 2, 3, 4, 5, 6, 1, 2, 3, 4, 5, 6, 1, 2, 3, 4, 5, 6, 1, 2, 3, 4, 5, 6, 1, 2, 3, 4, 5, 6, 1, 2, 3, 4, 5, 6, 1, 2, 3, 4, 5, 6, 1, 2, 3, 4, 5, 6, 1, 2, 3, 4, 5, 6, 1, 2, 3, 4, 5, 6, 1, 2, 3, 4, 5, 6, 1, 2, 3, 4, 5, 6, 1, 2, 3, 4, 5, 6, 1, 2, 3, 4, 5, 6, 1, 2, 3, 4, 5, 6, 1, 2, 3, 4, 5, 6, 1, 2, 3, 4, 5, 6, 2, 3, 4, 5, 6, 1, 2, 3, 4, 5, 6, 1, 2, 3, 4, 6, 1, 2, 3, 4, 5, 6, 1, 2, 3, 4, 5, 6, 1, 2, 3, 4, 5, 6, 1, 2, 3, 4, 5, 6, 1, 2, 3, 4, 5, 6, 2, 3, 4, 5, 1, 2, 3, 4, 5, 6, 1, 2, 3, 4, 5, 6, 1, 2, 3, 4, 5, 6, 1, 2, 3, 4, 5, 6, 1, 2, 3, 4, 5, 6, 1, 2, 3, 4, 5, 6, 1, 2, 3, 4, 5, 6, 1, 2, 3, 4, 5, 6, 1, 2, 3, 4, 5, 6, 1, 2, 3, 4, 5, 6, 1, 2, 3, 4, 5, 6, 1, 2, 3, 4, 5, 6, 1, 2, 3, 4, 5, 6, 1, 2, 3, 4, 5, 6, 1, 2, 3, 4, 5, 6, 1, 2, 3, 4, 5, 6, 1, 2, 3, 4, 5, 6, 1, 2, 3, 4, 5, 6, 1, 2, 3, 4, 5, 6, 1, 2, 3, 4, 5, 6, 1, 2, 3, 4, 5, 6, 1, 2, 3, 4, 5, 6, 2, 3, 4, 5, 1, 2, 3, 4, 5, 6, 1, 2, 3, 4, 5, 6, 1, 2, 3, 4, 5, 6, 1, 2, 3, 4, 5, 6, 1, 2, 3, 4, 5, 6, 1, 2, 3, 4, 5, 6, 1, 2, 3, 4, 5, 6, 1, 2, 3, 4, 5, 6, 2, 3, 4, 5, 6, 4, 1, 2, 3, 4, 5, 6, 1, 2, 3, 4, 5, 6, 1, 2, 3, 4, 5, 6, 1, 2, 3, 4, 5, 6, 1, 2, 3, 4, 5, 6, 1, 2, 3, 4, 5, 6, 1, 2, 3, 4, 5, 6, 1, 2, 3, 4, 5, 6, 1, 2, 3, 4, 5, 6, 1, 2, 3, 4, 5, 6, 1, 2, 3, 4, 5, 6, 1, 2, 3, 4, 5, 6, 1, 2, 3, 4, 5, 6, 1, 2, 3, 4, 5, 6, 1, 2, 3, 4, 5, 6, 1, 2, 3, 4, 5, 6, 1, 2, 3, 4, 5, 6, 1, 2, 3, 4, 5, 6, 1, 2, 3, 4, 5, 6, 1, 2, 3, 4, 5, 6, 1, 2, 3, 4, 5, 6, 1, 2, 3, 4, 5, 6, 1, 2, 3, 4, 5, 6, 1, 2, 3, 4, 5, 6, 1, 2, 3, 4, 5, 6, 1, 2, 3, 4, 5, 6, 1, 2, 3, 4, 5, 6, 1, 2, 3, 4, 5, 6, 1, 2, 3, 4, 5, 6, 1, 2, 3, 4, 5, 6, 1, 2, 3, 4, 5, 6, 1, 2, 3, 4, 5, 6, 1, 2, 3, 4, 5, 6, 1, 2, 3, 4, 5, 6, 1, 2, 3, 4, 5, 6, 1, 2, 3, 4, 5, 6, 1, 2, 3, 4, 5, 6, 1, 2, 3, 4, 5, 6, 1, 2, 3, 4, 5, 6, 1, 2, 3, 4, 5, 6, 1, 2, 3, 4, 5, 6, 1, 2, 3, 4, 5, 6, 1, 2, 3, 4, 5, 6, 1, 2, 3, 4, 5, 6, 1, 2, 3, 4, 5, 6, 1, 2, 3, 4, 5, 6, 1, 2, 3, 4, 5, 6, 1, 2, 3, 4, 5, 6, 1, 2, 3, 4, 5, 6, 1, 2, 3, 4, 5, 6, 1, 2, 3, 4, 5, 6, 1, 2, 3, 4, 5, 6, 1, 2, 3, 4, 5, 6, 2, 3, 4, 5, 6, 1, 2, 3, 4, 5, 6, 2, 3, 4, 5, 1, 2, 3, 4, 5, 6, 1, 2, 3, 4, 5, 6, 1, 2, 3, 4, 5, 6, 1, 2, 3, 4, 5, 6, 1, 2, 3, 4, 5, 6, 1, 2, 3, 4, 5, 6, 1, 2, 3, 4, 5, 6, 1, 2, 3, 4, 5, 6, 2, 3, 4, 5, 6, 1, 2, 3, 4, 5, 6, 1, 2, 3, 4, 5, 6, 1, 2, 3, 4, 5, 6, 1, 2, 3, 4, 5, 6, 1, 2, 3, 4, 5, 6, 1, 2, 3, 4, 5, 6, 1, 2, 3, 4, 5, 6, 1, 2, 3, 4, 5, 6, 1, 2, 3, 4, 5, 6, 1, 2, 3, 4, 5, 6, 1, 2, 3, 4, 5, 6, 1, 2, 3, 4, 5, 6, 1, 2, 3, 4, 5, 6, 1, 2, 3, 4, 5, 6, 1, 2, 3, 4, 5, 6, 1, 2, 3, 4, 5, 6, 1, 2, 3, 4, 5, 6, 1, 2, 3, 4, 5, 6, 1, 2, 3, 4, 5, 6, 1, 2, 3, 4, 5, 6, 1, 2, 3, 4, 5, 6, 1, 2, 3, 4, 5, 6, 1, 2, 3, 4, 5, 6, 2, 3, 4, 1, 2, 3, 4, 5, 6, 1, 2, 3, 4, 5, 6, 1, 2, 3, 4, 5, 6, 1, 2, 3, 4, 5, 6, 1, 2, 3, 4, 5, 6, 1, 2, 3, 4, 5, 6, 1, 2, 3, 4, 5, 6, 1, 2, 3, 4, 5, 6, 1, 2, 3, 4, 5, 6, 1, 2, 3, 4, 5, 6, 1, 2, 3, 4, 5, 6, 1, 2, 3, 4, 5, 6, 1, 2, 3, 4, 5, 6, 1, 2, 3, 4, 5, 6, 1, 2, 3, 4, 5, 6, 1, 2, 3, 4, 5, 6, 1, 2, 3, 4, 5, 6, 1, 2, 3, 4, 5, 6, 1, 2, 3, 4, 5, 6, 1, 2, 3, 4, 5, 6, 1, 2, 3, 4, 5, 6, 1, 2, 3, 4, 5, 6, 1, 2, 3, 4, 5, 6, 1, 2, 3, 4, 5, 6, 1, 2, 3, 4, 5, 6, 1, 2, 3, 4, 5, 6, 1, 2, 3, 4, 5, 6, 1, 2, 3, 4, 5, 6, 2, 3, 4, 1, 2, 3, 4, 5, 6, 1, 2, 3, 4, 5, 6, 1, 2, 3, 4, 5, 6, 1, 2, 3, 4, 5, 6, 1, 2, 3, 4, 5, 6, 1, 2, 3, 4, 5, 6, 1, 2, 3, 4, 5, 6, 1, 2, 3, 4, 5, 6], \"Freq\": [0.2622285065116914, 0.19667137988376854, 0.19667137988376854, 0.1311142532558457, 0.1311142532558457, 0.1311142532558457, 0.08151710625809212, 0.08151710625809212, 0.08151710625809212, 0.08151710625809212, 0.5706197438066449, 0.08151710625809212, 0.09677751352198069, 0.23226603245275365, 0.17807062488044448, 0.19936167785528022, 0.10451971460373914, 0.18968392650308216, 0.12176623510256523, 0.3652987053076957, 0.09741298808205219, 0.12176623510256523, 0.1461194821230783, 0.1461194821230783, 0.1517818623106056, 0.4047516328282815, 0.1517818623106056, 0.10118790820707038, 0.10118790820707038, 0.10118790820707038, 0.1345063888966868, 0.1345063888966868, 0.1345063888966868, 0.4035191666900604, 0.1345063888966868, 0.1345063888966868, 0.08721744871957073, 0.08721744871957073, 0.17443489743914145, 0.4360872435978536, 0.08721744871957073, 0.08721744871957073, 0.1951110376633871, 0.3902220753267742, 0.07804441506535485, 0.07804441506535485, 0.11706662259803227, 0.11706662259803227, 0.08261052095232951, 0.16522104190465903, 0.16522104190465903, 0.16522104190465903, 0.33044208380931805, 0.08261052095232951, 0.061275856541610246, 0.18382756962483074, 0.49020685233288197, 0.12255171308322049, 0.061275856541610246, 0.12255171308322049, 0.2189428403704806, 0.18339492532877896, 0.18985818260908835, 0.2124795830901712, 0.10018048784479555, 0.09533304488456351, 0.3997869555763169, 0.11071023385190314, 0.11686080239923109, 0.1537642136831988, 0.12301137094655905, 0.09840909675724724, 0.1419885140825565, 0.2590269697799992, 0.12112119252409771, 0.21819960151344944, 0.09571749671380007, 0.16421674791656693, 0.1057282343556816, 0.28478411511933593, 0.16711882204607736, 0.1773505866611433, 0.1074335284581926, 0.1568870574310114, 0.07013077481839944, 0.14026154963679888, 0.37870618401935696, 0.15428770460047875, 0.12623539467311898, 0.12623539467311898, 0.10443503950441962, 0.20887007900883925, 0.4177401580176785, 0.20887007900883925, 0.10443503950441962, 0.10443503950441962, 0.07183286579246705, 0.1436657315849341, 0.1436657315849341, 0.21549859737740115, 0.35916432896233524, 0.07183286579246705, 0.07732752340546842, 0.13256146869508872, 0.19331880851367103, 0.3314036717377218, 0.11599128510820263, 0.15465504681093684, 0.1679939878376722, 0.1679939878376722, 0.1679939878376722, 0.1679939878376722, 0.1679939878376722, 0.3359879756753444, 0.20864183921533938, 0.18019067932233856, 0.13751393948283733, 0.14699765944717094, 0.13751393948283733, 0.18967439928667218, 0.08243792713647635, 0.08243792713647635, 0.1648758542729527, 0.08243792713647635, 0.08243792713647635, 0.3297517085459054, 0.0780622095087187, 0.1784279074484999, 0.22303488431062485, 0.1784279074484999, 0.10036569793978119, 0.24533837274168735, 0.06243444819773681, 0.12486889639547362, 0.4994755855818945, 0.12486889639547362, 0.06243444819773681, 0.12486889639547362, 0.1177723697836716, 0.1177723697836716, 0.4416463866887685, 0.0883292773377537, 0.0883292773377537, 0.1766585546755074, 0.2343757962247099, 0.11718789811235494, 0.11718789811235494, 0.2343757962247099, 0.11718789811235494, 0.11718789811235494, 0.11840089341764265, 0.08880067006323199, 0.44400335031615995, 0.08880067006323199, 0.08880067006323199, 0.17760134012646397, 0.10671169715289253, 0.1600675457293388, 0.10671169715289253, 0.1600675457293388, 0.10671169715289253, 0.37349094003512384, 0.31412802160432574, 0.15706401080216287, 0.15706401080216287, 0.15706401080216287, 0.15706401080216287, 0.08440914048567652, 0.20308337760415243, 0.22397672920951792, 0.15210359968706066, 0.22481246327373253, 0.11115263054054433, 0.10674847123505946, 0.10674847123505946, 0.16012270685258917, 0.16012270685258917, 0.10674847123505946, 0.3736196493227081, 0.12230468728797327, 0.2944372101377134, 0.13815899860308092, 0.21969545679506308, 0.11098017920575352, 0.11098017920575352, 0.06595229304805125, 0.1319045860961025, 0.1319045860961025, 0.4616660513363588, 0.1319045860961025, 0.1319045860961025, 0.2486244286760015, 0.15539026792250094, 0.12431221433800076, 0.18646832150700113, 0.15539026792250094, 0.12431221433800076, 0.3773034677696914, 0.10505859740858198, 0.12890910955560225, 0.11948524865848692, 0.10366246986826859, 0.16555745748882852, 0.3997869555763169, 0.11071023385190314, 0.11686080239923109, 0.1537642136831988, 0.12301137094655905, 0.09840909675724724, 0.3997869555763169, 0.11071023385190314, 0.11686080239923109, 0.1537642136831988, 0.12301137094655905, 0.09840909675724724, 0.21612540687844536, 0.17290032550275627, 0.18370659584667856, 0.15128778481491176, 0.14048151447098947, 0.15128778481491176, 0.1545065582051386, 0.38626639551284647, 0.1545065582051386, 0.1545065582051386, 0.0772532791025693, 0.0772532791025693, 0.11912515830582507, 0.11912515830582507, 0.11912515830582507, 0.11912515830582507, 0.11912515830582507, 0.3573754749174752, 0.08547749195958344, 0.08547749195958344, 0.1709549839191669, 0.1709549839191669, 0.1709549839191669, 0.3419099678383338, 0.1035401621846603, 0.1745971362329566, 0.2070803243693206, 0.20911052362784338, 0.18677833178409312, 0.11775155699431956, 0.08247574657626534, 0.08247574657626534, 0.08247574657626534, 0.08247574657626534, 0.4948544794575921, 0.08247574657626534, 0.09211448886734916, 0.20970745337885874, 0.12151272999522655, 0.2430254599904531, 0.19990803966956627, 0.1332720264463775, 0.09987086632786969, 0.19322841528653048, 0.13677966475338674, 0.2779015410862461, 0.18237288633784898, 0.11072639527655118, 0.1875076524334798, 0.1875076524334798, 0.1875076524334798, 0.1875076524334798, 0.3750153048669596, 0.07642342505718426, 0.15284685011436852, 0.15284685011436852, 0.3821171252859213, 0.15284685011436852, 0.07642342505718426, 0.2585797629466999, 0.10343190517867995, 0.2068638103573599, 0.2068638103573599, 0.10343190517867995, 0.10343190517867995, 0.2756286638754811, 0.18375244258365406, 0.18375244258365406, 0.18375244258365406, 0.09187622129182703, 0.09187622129182703, 0.12012043330405466, 0.180180649956082, 0.180180649956082, 0.12012043330405466, 0.06006021665202733, 0.30030108326013666, 0.3997869555763169, 0.11071023385190314, 0.11686080239923109, 0.1537642136831988, 0.12301137094655905, 0.09840909675724724, 0.08837711975126597, 0.11783615966835463, 0.4418855987563298, 0.08837711975126597, 0.08837711975126597, 0.17675423950253194, 0.13466336091949815, 0.13466336091949815, 0.13466336091949815, 0.4039900827584944, 0.13466336091949815, 0.13466336091949815, 0.18909084214387983, 0.5672725264316395, 0.11038142293922408, 0.11038142293922408, 0.11038142293922408, 0.22076284587844816, 0.11038142293922408, 0.3311442688176722, 0.10646014610900041, 0.42584058443600165, 0.15969021916350062, 0.10646014610900041, 0.10646014610900041, 0.10646014610900041, 0.2040509122986231, 0.21108715065374803, 0.18294219723324828, 0.15479724381274856, 0.11961605203712389, 0.13368852874737375, 0.17848739470063224, 0.2082352938174043, 0.16148859520533393, 0.21248499369122886, 0.14024009583621105, 0.0934933972241407, 0.08093111397118061, 0.08093111397118061, 0.404655569855903, 0.16186222794236121, 0.16186222794236121, 0.08093111397118061, 0.07745490636304003, 0.15490981272608007, 0.15490981272608007, 0.2323647190891201, 0.15490981272608007, 0.30981962545216013, 0.26302184856797833, 0.157813109140787, 0.157813109140787, 0.10520873942719133, 0.21041747885438267, 0.10520873942719133, 0.17812562096997153, 0.17812562096997153, 0.17812562096997153, 0.17812562096997153, 0.17812562096997153, 0.17812562096997153, 0.12467619977943253, 0.12467619977943253, 0.12467619977943253, 0.1870142996691488, 0.3740285993382976, 0.06233809988971627, 0.061429874166009035, 0.1842896224980271, 0.4914389933280723, 0.12285974833201807, 0.061429874166009035, 0.12285974833201807, 0.0786396978249289, 0.17300733521484357, 0.09436763738991467, 0.4561102473845876, 0.09436763738991467, 0.11009557695490045, 0.1701407877033472, 0.1701407877033472, 0.1701407877033472, 0.5104223631100416, 0.07763254469649215, 0.144174725864914, 0.1552650893929843, 0.3271657240780741, 0.144174725864914, 0.14971990762894916, 0.1275656362647145, 0.1275656362647145, 0.1275656362647145, 0.19134845439707174, 0.3826969087941435, 0.06378281813235726, 0.0935570290700811, 0.14033554360512163, 0.1871140581401622, 0.14033554360512163, 0.3508388590128041, 0.0935570290700811, 0.4760139891572777, 0.09372296159573343, 0.1331852612149896, 0.12085329258397205, 0.06165984315508778, 0.11345411140536152, 0.10893077718434574, 0.30500617611616804, 0.23093324763081297, 0.15686031914545787, 0.08714462174747659, 0.1045735460969719, 0.10190644789236863, 0.20003858289983473, 0.15474682828100422, 0.30194503079220336, 0.10190644789236863, 0.13964957674139405, 0.05283249285481831, 0.15849747856445492, 0.26416246427409157, 0.10566498570963662, 0.10566498570963662, 0.31699495712890985, 0.10360793571006185, 0.15541190356509277, 0.4144317428402474, 0.15541190356509277, 0.10360793571006185, 0.10360793571006185, 0.055422201236845686, 0.38795540865791983, 0.16626660371053706, 0.11084440247369137, 0.16626660371053706, 0.11084440247369137, 0.047404222816156326, 0.1896168912646253, 0.11851055704039082, 0.4977443395696414, 0.07110633422423449, 0.09480844563231265, 0.07826330684468964, 0.11739496026703447, 0.14534614128299506, 0.36336535320748764, 0.12298519647022658, 0.17888755850214777, 0.09817188675016811, 0.3295770483755644, 0.2594542721254443, 0.16128238537527617, 0.0841473315001441, 0.07713505387513209, 0.09075116634624907, 0.11343895793281132, 0.36300466538499626, 0.17772103409473775, 0.16637713830145662, 0.09075116634624907, 0.0936037178407633, 0.0936037178407633, 0.12480495712101773, 0.46801858920381645, 0.12480495712101773, 0.0936037178407633, 0.11828806329242725, 0.11828806329242725, 0.41400822152349537, 0.08871604746932044, 0.08871604746932044, 0.17743209493864087, 0.11285157570615867, 0.11285157570615867, 0.4514063028246347, 0.11285157570615867, 0.11285157570615867, 0.11285157570615867, 0.09115886803991989, 0.18231773607983978, 0.13673830205987986, 0.22789717009979973, 0.28487146262474966, 0.06836915102993993, 0.08968911139552802, 0.09658827381056863, 0.19317654762113726, 0.22077319728129974, 0.269067334186584, 0.1241849234707311, 0.11707374112416073, 0.23154584355667346, 0.2393507596316175, 0.09886227028262462, 0.1925212631819532, 0.11967537981580875, 0.06281296973449221, 0.09421945460173832, 0.12562593946898443, 0.5339102427431839, 0.09421945460173832, 0.09421945460173832, 0.0809558956028828, 0.0809558956028828, 0.1619117912057656, 0.0809558956028828, 0.4857353736172968, 0.0809558956028828, 0.43161899301648865, 0.14387299767216288, 0.14387299767216288, 0.14387299767216288, 0.14387299767216288, 0.18495653709207294, 0.22323931160240224, 0.1439063330990692, 0.19602625502277055, 0.10101117611761588, 0.15036366855864283, 0.12742483229643783, 0.12742483229643783, 0.12742483229643783, 0.19113724844465674, 0.4459869130375324, 0.06371241614821892, 0.10552144741559667, 0.21104289483119335, 0.21104289483119335, 0.10552144741559667, 0.31656434224679, 0.10552144741559667, 0.07090617838873697, 0.07090617838873697, 0.14181235677747395, 0.14181235677747395, 0.3545308919436848, 0.14181235677747395, 0.09582738269677336, 0.28748214809032013, 0.09582738269677336, 0.09582738269677336, 0.38330953078709346, 0.09582738269677336, 0.12836800469128762, 0.25673600938257524, 0.38510401407386285, 0.12836800469128762, 0.12836800469128762, 0.12836800469128762, 0.0866143973817837, 0.3897647882180266, 0.12992159607267556, 0.1732287947635674, 0.12992159607267556, 0.0866143973817837, 0.16746915031411344, 0.16746915031411344, 0.3349383006282269, 0.16746915031411344, 0.16746915031411344, 0.16746915031411344, 0.20506315755744126, 0.20506315755744126, 0.20506315755744126, 0.20506315755744126, 0.20506315755744126, 0.09417327049858296, 0.12556436066477727, 0.1569554508309716, 0.47086635249291475, 0.12556436066477727, 0.06278218033238864, 0.14422238147047214, 0.14422238147047214, 0.14422238147047214, 0.14422238147047214, 0.43266714441141646, 0.12203747143381251, 0.14788654888618827, 0.2075382660839785, 0.1598168923257463, 0.24854882165745928, 0.11433245796243127, 0.10050832919929206, 0.40203331679716825, 0.10050832919929206, 0.13401110559905607, 0.13401110559905607, 0.10050832919929206, 0.10203740784982819, 0.1587248566552883, 0.22674979522184044, 0.17006234641638032, 0.09069991808873618, 0.2720997542662085, 0.11703060045187227, 0.11919783379357361, 0.19071653406971778, 0.2080544008033285, 0.16254250062760037, 0.19938546743652313, 0.08662641607684775, 0.15881509614088754, 0.13571471852039482, 0.1761403793562571, 0.23100377620492735, 0.2107909457869962, 0.1289843722848025, 0.3869531168544075, 0.1289843722848025, 0.1289843722848025, 0.1289843722848025, 0.1289843722848025, 0.0386863404774378, 0.21277487262590788, 0.11605902143231339, 0.46423608572925357, 0.0773726809548756, 0.0967158511935945, 0.11463518680084142, 0.11463518680084142, 0.22927037360168284, 0.11463518680084142, 0.3439055604025243, 0.11463518680084142, 0.0811054797880055, 0.10814063971734067, 0.162210959576011, 0.40552739894002754, 0.10814063971734067, 0.162210959576011, 0.1282152575520686, 0.19458550852019824, 0.21117807126223065, 0.2338042931831839, 0.1372657463204499, 0.09503013206800379, 0.1150113762459743, 0.1150113762459743, 0.1150113762459743, 0.2300227524919486, 0.1150113762459743, 0.2300227524919486, 0.1756129742419399, 0.3512259484838798, 0.1756129742419399, 0.1756129742419399, 0.1756129742419399, 0.1756129742419399, 0.10680351765320849, 0.3537866522262531, 0.1535300566264872, 0.09345307794655743, 0.14017961691983613, 0.14685483677316166, 0.06509165641743067, 0.13018331283486134, 0.3514949446541257, 0.16923830668531975, 0.13018331283486134, 0.1432016441183475, 0.10637579388683563, 0.10637579388683563, 0.21275158777367126, 0.10637579388683563, 0.10637579388683563, 0.3191273816605069, 0.06169652700999727, 0.18508958102999182, 0.43187568906998086, 0.12339305401999454, 0.06169652700999727, 0.12339305401999454, 0.1307486570095603, 0.37771834247206304, 0.1307486570095603, 0.11622102845294248, 0.1452762855661781, 0.10169339989632467, 0.09751833728938153, 0.09751833728938153, 0.19503667457876306, 0.19503667457876306, 0.09751833728938153, 0.3900733491575261, 0.04725899618901021, 0.09451799237802042, 0.18903598475604083, 0.18903598475604083, 0.37807196951208166, 0.09451799237802042, 0.14478071779462112, 0.23526866641625935, 0.15684577761083957, 0.20108433027030712, 0.11260722495137199, 0.15081324770273033, 0.1698624037379455, 0.20153166545179976, 0.1698624037379455, 0.15546728477710267, 0.126677046855417, 0.17562045132228266, 0.1862071939297665, 0.1862071939297665, 0.372414387859533, 0.1862071939297665, 0.1862071939297665, 0.09545096584931696, 0.22722740048339424, 0.16887478573340695, 0.2086782249337294, 0.13216287579136196, 0.16771546226155287, 0.20806333036930008, 0.20806333036930008, 0.20806333036930008, 0.20806333036930008, 0.20806333036930008, 0.08337951965266682, 0.21440447910685756, 0.3454294385610483, 0.11911359950380976, 0.13102495945419074, 0.10720223955342878, 0.11926193994853442, 0.3237109798603077, 0.18741161991912553, 0.18741161991912553, 0.10222451995588665, 0.07666838996691498, 0.12126810103411316, 0.15137604335982402, 0.25759017323108174, 0.15472137028490301, 0.19402896165458106, 0.12126810103411316, 0.16664976811756166, 0.4166244202939041, 0.08332488405878083, 0.08332488405878083, 0.08332488405878083, 0.16664976811756166, 0.11056822414156375, 0.11056822414156375, 0.11056822414156375, 0.2211364482831275, 0.442272896566255, 0.11056822414156375, 0.17223781181079212, 0.17223781181079212, 0.17223781181079212, 0.34447562362158424, 0.1062821450659254, 0.18219796297015783, 0.22015587192227407, 0.14044426312283, 0.14803584491325325, 0.20117691744621594, 0.13284547575559713, 0.13758995703258275, 0.1660568446944964, 0.14707891958655397, 0.24671302640325182, 0.17080132597148204, 0.11175738981748967, 0.11175738981748967, 0.11175738981748967, 0.22351477963497934, 0.4470295592699587, 0.11175738981748967, 0.1242808767272105, 0.3018249863375112, 0.15978969864927065, 0.1020878630259229, 0.16866690412978566, 0.14203528768824056, 0.23130058239723172, 0.15420038826482116, 0.1349253397317185, 0.1349253397317185, 0.15420038826482116, 0.19275048533102643, 0.16218666214462168, 0.16218666214462168, 0.16218666214462168, 0.32437332428924337, 0.16218666214462168, 0.16218666214462168, 0.09108978805001106, 0.4250856775667183, 0.12145305073334808, 0.12145305073334808, 0.12145305073334808, 0.1518163134166851, 0.11513864021674951, 0.11402349600157517, 0.26624068137287116, 0.113465923893988, 0.2695861140183941, 0.1215507194540019, 0.14052764113602909, 0.15614182348447675, 0.2849588278591701, 0.16004536907158867, 0.19127373376848403, 0.07026382056801454, 0.14837949644261278, 0.2707275022812584, 0.2030456267109438, 0.10672911147626533, 0.1353637511406292, 0.1353637511406292, 0.10698812387708626, 0.3744584335698019, 0.16048218581562937, 0.10698812387708626, 0.10698812387708626, 0.10698812387708626, 0.1163427562022302, 0.22622202594878094, 0.13357872008404206, 0.20898606206696904, 0.20252257561128958, 0.1141882607170037, 0.1001276434695991, 0.1001276434695991, 0.30038293040879727, 0.1001276434695991, 0.1001276434695991, 0.30038293040879727, 0.100010766643802, 0.100010766643802, 0.100010766643802, 0.400043066575208, 0.100010766643802, 0.100010766643802, 0.04255778539941933, 0.19151003429738697, 0.08511557079883866, 0.5532512101924513, 0.04255778539941933, 0.06383667809912899, 0.07199622415292742, 0.11999370692154569, 0.09599496553723656, 0.45597608630187364, 0.11199412646010931, 0.14399244830585484, 0.14640801455191912, 0.14640801455191912, 0.21961202182787867, 0.14640801455191912, 0.14640801455191912, 0.29281602910383825, 0.32247615366652027, 0.16123807683326014, 0.16123807683326014, 0.16123807683326014, 0.10749205122217344, 0.10749205122217344, 0.13468499573782566, 0.13468499573782566, 0.13468499573782566, 0.13468499573782566, 0.13468499573782566, 0.2693699914756513, 0.10454439613216342, 0.19252730376814253, 0.11075495431823254, 0.1404276212072294, 0.3398555451821154, 0.11213507835958123, 0.377301181451531, 0.10509036608597548, 0.128948090391208, 0.119405000669115, 0.10369381637054723, 0.1654911412782471, 0.1004716506420959, 0.14566651079251966, 0.13176039997700464, 0.1296744833546774, 0.3834610057378262, 0.10846766436101703, 0.5280301612248934, 0.2640150806124467, 0.2640150806124467, 0.2640150806124467, 0.0868789927201126, 0.24499875947071753, 0.1911337839842477, 0.16159492645940943, 0.20850958252827023, 0.10599237111853736, 0.0841811811354268, 0.0841811811354268, 0.42090590567713404, 0.1683623622708536, 0.0841811811354268, 0.0841811811354268, 0.10223337280231361, 0.19959848975689798, 0.16065244297506423, 0.18012546636598112, 0.24341279238646096, 0.11196988449777204, 0.04258872615688043, 0.21294363078440215, 0.12776617847064128, 0.48977035080412495, 0.06388308923532064, 0.06388308923532064, 0.09465416599925407, 0.13362941082247634, 0.15590097929288907, 0.35077720340900037, 0.1169257344696668, 0.15033308717528587, 0.09867008735874958, 0.17412368357426397, 0.27279377093301355, 0.20894842028911675, 0.13349482407360236, 0.11318039432327158, 0.4760139891572777, 0.09372296159573343, 0.1331852612149896, 0.12085329258397205, 0.06165984315508778, 0.11345411140536152, 0.17664801492310686, 0.17664801492310686, 0.17664801492310686, 0.17664801492310686, 0.17664801492310686, 0.3532960298462137, 0.16437059645359056, 0.16437059645359056, 0.3287411929071811, 0.16437059645359056, 0.16437059645359056, 0.33693066433643876, 0.10031653795254689, 0.5015826897627345, 0.10031653795254689, 0.10031653795254689, 0.10031653795254689, 0.10031653795254689, 0.17926454397090347, 0.35852908794180693, 0.17926454397090347, 0.17926454397090347, 0.17926454397090347, 0.17926454397090347, 0.0717400739531899, 0.1434801479063798, 0.1434801479063798, 0.1434801479063798, 0.21522022185956968, 0.2869602958127596, 0.1949763636277669, 0.21934840908123776, 0.12829812606638435, 0.23636285590724573, 0.09059043310063698, 0.13013752572325007, 0.09682924460743816, 0.53256084534091, 0.09682924460743816, 0.09682924460743816, 0.09682924460743816, 0.09682924460743816, 0.08299649531217979, 0.4149824765608989, 0.16599299062435957, 0.16599299062435957, 0.08299649531217979, 0.08299649531217979, 0.10518701486316119, 0.13850495821119402, 0.15577446811410106, 0.10675697030888001, 0.37068392468361117, 0.12315428274194329, 0.11060606968679587, 0.38712124390378555, 0.11060606968679587, 0.1659091045301938, 0.11060606968679587, 0.11060606968679587, 0.10674555279713191, 0.16011832919569785, 0.16011832919569785, 0.16011832919569785, 0.10674555279713191, 0.37360943478996167, 0.1860900468020618, 0.20994774511001843, 0.14314618984773983, 0.18131850714047046, 0.16223234849410514, 0.1192884915397832, 0.1259482323840251, 0.17392851138746324, 0.15593590676117394, 0.17392851138746324, 0.14993837188574416, 0.22190879039090136, 0.09129483046766526, 0.09129483046766526, 0.36517932187066104, 0.18258966093533052, 0.09129483046766526, 0.09129483046766526, 0.1162361167126788, 0.13411859620693709, 0.1609423154483245, 0.16988355519545364, 0.26823719241387417, 0.15200107570119537, 0.10820181211540138, 0.11652502843197071, 0.16646432633138672, 0.19975719159766409, 0.14149467738167873, 0.2580197058136494, 0.11509255289999716, 0.19618048789772244, 0.14386569112499645, 0.17263882934999575, 0.27726842289544773, 0.09678237402954307, 0.23394369158965672, 0.1799566858381975, 0.143965348670558, 0.19795235442201722, 0.12596968008673823, 0.1079740115029185, 0.11684428694921684, 0.2378991788335406, 0.22842531772955002, 0.1905298733135878, 0.12000224065054702, 0.10631777461144955, 0.12032762580644717, 0.214282073353947, 0.17966727688907863, 0.19615051330092073, 0.14670080406539449, 0.14175583314184187, 0.13440738936295857, 0.17472960617184613, 0.14784812829925442, 0.15456849776740234, 0.16128886723555028, 0.22849256191702955, 0.09421777193885611, 0.3559338051023453, 0.14656097857155395, 0.1570296198980935, 0.16749826122463307, 0.08374913061231654, 0.10681981140509927, 0.37386933991784743, 0.18693466995892372, 0.13352476425637408, 0.10681981140509927, 0.08011485855382446, 0.264208502155371, 0.11742600095794267, 0.23485200191588534, 0.176139001436914, 0.14678250119742833, 0.088069500718457, 0.11679378735504264, 0.36498058548450824, 0.1459922341938033, 0.1459922341938033, 0.10219456393566231, 0.11679378735504264, 0.13352913566499564, 0.40058740699498685, 0.13352913566499564, 0.13352913566499564, 0.13352913566499564, 0.13352913566499564, 0.0625431345194496, 0.37525880711669757, 0.1250862690388992, 0.18762940355834878, 0.1250862690388992, 0.1250862690388992, 0.0469762879622697, 0.1879051518490788, 0.11744071990567424, 0.4462747356415621, 0.0939525759245394, 0.11744071990567424, 0.10925666951770448, 0.36418889839234825, 0.1335359294105277, 0.1456755593569393, 0.10925666951770448, 0.1456755593569393, 0.11428220455142746, 0.11428220455142746, 0.3428466136542824, 0.11428220455142746, 0.11428220455142746, 0.11428220455142746, 0.07148090986341431, 0.15090414304498576, 0.07942323318157145, 0.45271242913495724, 0.13501949640867147, 0.11913484977235718, 0.08805094408639492, 0.13546299090214603, 0.13546299090214603, 0.41993527179665274, 0.12191669181193143, 0.10159724317660954, 0.12032762580644717, 0.214282073353947, 0.17966727688907863, 0.19615051330092073, 0.14670080406539449, 0.14175583314184187, 0.13537017608878638, 0.13537017608878638, 0.13537017608878638, 0.13537017608878638, 0.13537017608878638, 0.4061105282663591, 0.05544116866166897, 0.11088233732333794, 0.11088233732333794, 0.1663235059850069, 0.11088233732333794, 0.44352934929335175, 0.10819979521044734, 0.1421510505990628, 0.1297762939620908, 0.11993994894295923, 0.36902158894354914, 0.13104549977101101, 0.2107028076219433, 0.2107028076219433, 0.13830272394568086, 0.2093104983204767, 0.0960693418011944, 0.13551810534274766, 0.4760139891572777, 0.09372296159573343, 0.1331852612149896, 0.12085329258397205, 0.06165984315508778, 0.11345411140536152, 0.12464424253257322, 0.12464424253257322, 0.4362548488640063, 0.12464424253257322, 0.06232212126628661, 0.12464424253257322, 0.10625806926060946, 0.15938710389091418, 0.15938710389091418, 0.10625806926060946, 0.15938710389091418, 0.31877420778182836, 0.07836941958873496, 0.10449255945164661, 0.2351082587662049, 0.18286197904038157, 0.31347767835493984, 0.07836941958873496, 0.09773075177822946, 0.09773075177822946, 0.39092300711291783, 0.19546150355645892, 0.19546150355645892, 0.09773075177822946, 0.08573975480069038, 0.08573975480069038, 0.08573975480069038, 0.5144385288041423, 0.08573975480069038, 0.08573975480069038, 0.10237654290940941, 0.12431437353285428, 0.21206569602663378, 0.16087742457192908, 0.11700176332503932, 0.2778791878969684, 0.0983259517712076, 0.1966519035424152, 0.0983259517712076, 0.4424667829704342, 0.0983259517712076, 0.0983259517712076, 0.12726054094761602, 0.1736649370942605, 0.3009254780418765, 0.1258543471249904, 0.13921318843993352, 0.13288531623811836, 0.0907575274132821, 0.1426189716494433, 0.16206701323800374, 0.33061670700552764, 0.14910165217896343, 0.12965361059040298, 0.08153758115816014, 0.08153758115816014, 0.16307516231632027, 0.08153758115816014, 0.40768790579080066, 0.08153758115816014, 0.4980360652900487, 0.06150685594154524, 0.0977929103381781, 0.11304501562027926, 0.09520104930984717, 0.13447771258532337, 0.04867982857037483, 0.1460394857111245, 0.1460394857111245, 0.38943862856299866, 0.09735965714074966, 0.19471931428149933, 0.07009963050368115, 0.514063957026995, 0.0934661740049082, 0.0934661740049082, 0.11683271750613525, 0.0934661740049082, 0.11108384305289956, 0.11108384305289956, 0.16662576457934933, 0.16662576457934933, 0.11108384305289956, 0.2777096076322489, 0.22515290223751594, 0.11257645111875797, 0.11257645111875797, 0.11257645111875797, 0.11257645111875797, 0.11257645111875797, 0.05726421131345565, 0.17179263394036695, 0.40084947919418956, 0.1145284226269113, 0.1145284226269113, 0.1145284226269113, 0.15894763672774148, 0.15894763672774148, 0.31789527345548296, 0.15894763672774148, 0.15894763672774148, 0.31789527345548296, 0.3289152957922629, 0.16445764789613146, 0.16445764789613146, 0.16445764789613146, 0.16445764789613146, 0.11252972695411807, 0.11252972695411807, 0.41260899883176627, 0.1500396359388241, 0.11252972695411807, 0.11252972695411807, 0.17069267690005135, 0.5120780307001541, 0.17069267690005135, 0.17069267690005135, 0.1114098853199312, 0.1114098853199312, 0.1114098853199312, 0.3342296559597936, 0.4456395412797248, 0.1114098853199312, 0.26781068786092505, 0.13390534393046252, 0.13390534393046252, 0.13390534393046252, 0.2008580158956938, 0.13390534393046252, 0.08817859726657984, 0.17635719453315968, 0.4408929863328992, 0.13226789589986976, 0.13226789589986976, 0.08817859726657984, 0.24735975613102976, 0.24735975613102976, 0.24735975613102976, 0.16490650408735316, 0.08245325204367658, 0.08245325204367658, 0.09482165772821373, 0.12642887697095165, 0.12642887697095165, 0.5057155078838066, 0.09482165772821373, 0.09482165772821373, 0.06239704817901517, 0.12479409635803033, 0.4367793372531062, 0.12479409635803033, 0.06239704817901517, 0.12479409635803033, 0.16542349386827948, 0.16542349386827948, 0.16542349386827948, 0.4962704816048385, 0.16542349386827948, 0.16542349386827948, 0.10634864873588772, 0.15952297310383157, 0.10634864873588772, 0.15952297310383157, 0.10634864873588772, 0.372220270575607, 0.15735674694812332, 0.15735674694812332, 0.15735674694812332, 0.47207024084436994, 0.15735674694812332, 0.06680392095051879, 0.37410195732290524, 0.13360784190103758, 0.14696862609114136, 0.14696862609114136, 0.13360784190103758, 0.2701670069040797, 0.13508350345203984, 0.18011133793605313, 0.13508350345203984, 0.13508350345203984, 0.18011133793605313, 0.22393901229277685, 0.1343634073756661, 0.1343634073756661, 0.1343634073756661, 0.1343634073756661, 0.22393901229277685, 0.064055510551868, 0.35871085909046085, 0.15373322532448322, 0.1665443274348568, 0.1409221232141096, 0.128111021103736, 0.14393293649072147, 0.4317988094721645, 0.14393293649072147, 0.14393293649072147, 0.14393293649072147, 0.14393293649072147, 0.11549823073386349, 0.11549823073386349, 0.23099646146772698, 0.11549823073386349, 0.34649469220159046, 0.11549823073386349, 0.09574789309607563, 0.19149578619215127, 0.15957982182679273, 0.09574789309607563, 0.31915964365358546, 0.12766385746143416, 0.0909017536432871, 0.1818035072865742, 0.1818035072865742, 0.0909017536432871, 0.3636070145731484, 0.0909017536432871, 0.11182231277548807, 0.1677334691632321, 0.1677334691632321, 0.3494447274234002, 0.08386673458161605, 0.12580010187242407, 0.14201934766648572, 0.42605804299945715, 0.14201934766648572, 0.14201934766648572, 0.14201934766648572, 0.14201934766648572, 0.14200630506574943, 0.14200630506574943, 0.42601891519724827, 0.14200630506574943, 0.14200630506574943, 0.14200630506574943, 0.1183655595636587, 0.1183655595636587, 0.1183655595636587, 0.41427945847280545, 0.1183655595636587, 0.1183655595636587, 0.23336696091338324, 0.32671374527873653, 0.14002017654802995, 0.14002017654802995, 0.0933467843653533, 0.04667339218267665, 0.22511752995143025, 0.11255876497571513, 0.22511752995143025, 0.11255876497571513, 0.11255876497571513, 0.22511752995143025, 0.14337144435606491, 0.43011433306819474, 0.14337144435606491, 0.14337144435606491, 0.14337144435606491, 0.14337144435606491, 0.07755402739701386, 0.160278323287162, 0.33606745205372673, 0.19129993424596753, 0.12408644383522217, 0.10340536986268514, 0.13639545163467115, 0.20555370880154666, 0.15176395322731015, 0.20363264610246679, 0.1940273326070674, 0.10757951114847301, 0.11277470791399902, 0.11277470791399902, 0.45109883165599607, 0.11277470791399902, 0.11277470791399902, 0.05638735395699951, 0.10512923123416318, 0.2695621313696492, 0.12399858043003863, 0.19408473458614742, 0.18060662801766494, 0.1266942017437351, 0.14670352681349555, 0.16187975372523647, 0.16693849602915012, 0.18211472294089104, 0.23776088828394107, 0.1011748460782728, 0.1636201276121095, 0.17393851403809837, 0.17983473485294918, 0.17393851403809837, 0.14298335476013171, 0.1650941828158222, 0.09640041316519665, 0.26844516967533233, 0.1568236386419467, 0.21678561812269104, 0.14483124274579784, 0.11669523698944859, 0.0950847054398134, 0.16764934906493414, 0.2915096890457437, 0.18641606724384469, 0.12260922543554885, 0.1363714854334166, 0.25531532034008453, 0.5106306406801691, 0.25531532034008453, 0.0818040989221103, 0.24367178402330728, 0.24193127128028366, 0.16186768510119698, 0.13227896846979537, 0.13924101944188988, 0.09374261658940967, 0.23956446461738026, 0.21526082327938517, 0.1354060017402584, 0.2187327720419559, 0.10068651411455112, 0.08808112427217123, 0.19377847339877668, 0.40517317165198763, 0.10569734912660546, 0.14092979883547396, 0.08808112427217123, 0.11310292277592146, 0.1789082596637303, 0.25910851399574736, 0.18096467644147432, 0.13366709055336173, 0.13572350733110575, 0.11428220455142746, 0.11428220455142746, 0.3428466136542824, 0.11428220455142746, 0.11428220455142746, 0.11428220455142746, 0.09974142107944202, 0.237384582169072, 0.16756558741346259, 0.18551904320776214, 0.14961213161916304, 0.16058368793790165, 0.0748264830508401, 0.3741324152542005, 0.19454885593218424, 0.1646182627118482, 0.08979177966100811, 0.08979177966100811, 0.06533876102020104, 0.2762047624944862, 0.1871064520123939, 0.2197758325224944, 0.11879774730945644, 0.1336474657231385, 0.12756922957022732, 0.12756922957022732, 0.12756922957022732, 0.19135384435534097, 0.4464923034957956, 0.06378461478511366, 0.06952378700705479, 0.4866665090493835, 0.13904757401410958, 0.10428568051058218, 0.10428568051058218, 0.06952378700705479, 0.09229353565717408, 0.399938654514421, 0.18458707131434815, 0.09229353565717408, 0.09229353565717408, 0.15382255942862347, 0.3304479866496618, 0.10409927856095127, 0.15182745332552028, 0.09507221934994628, 0.10813264544246415, 0.21040730565225485, 0.12768866488626227, 0.12768866488626227, 0.12768866488626227, 0.12768866488626227, 0.4469103271019179, 0.06384433244313113, 0.12433292667919497, 0.21197744876452915, 0.2208098424630512, 0.185480267668963, 0.12976824587828548, 0.12705058627874022, 0.37208011889150727, 0.11889195241045662, 0.11868518379756887, 0.1437041859569867, 0.09811170681523768, 0.14845986405340497, 0.1519865134415061, 0.4052973691773496, 0.1013243422943374, 0.1013243422943374, 0.1013243422943374, 0.1013243422943374, 0.07471894569407789, 0.14943789138815577, 0.14943789138815577, 0.14943789138815577, 0.14943789138815577, 0.29887578277631155, 0.10326326276801542, 0.10326326276801542, 0.20652652553603085, 0.10326326276801542, 0.10326326276801542, 0.3097897883040463, 0.09395902657444306, 0.10335492923188737, 0.20670985846377474, 0.35234634965416145, 0.13624058853294244, 0.11275083188933167, 0.06004269392120133, 0.16887007665337875, 0.16887007665337875, 0.37151416863743325, 0.12383805621247775, 0.10882738273217742, 0.1473307199750678, 0.1473307199750678, 0.1473307199750678, 0.1473307199750678, 0.4419921599252034, 0.1473307199750678, 0.09559851467544882, 0.15022623734713383, 0.35508019736595275, 0.2048539600188189, 0.10925544534337008, 0.09559851467544882, 0.13205542048716953, 0.13205542048716953, 0.1980831307307543, 0.1980831307307543, 0.06602771024358477, 0.26411084097433907, 0.08136709130513518, 0.16273418261027037, 0.33902954710472993, 0.16273418261027037, 0.13561181884189197, 0.10848945507351357, 0.1218718877054217, 0.1334787341535571, 0.3598122398921974, 0.116068464481354, 0.1682992734979633, 0.0986581948091509, 0.0629956504698996, 0.0944934757048494, 0.1259913009397992, 0.5354630289941466, 0.1259913009397992, 0.0629956504698996, 0.26250685389045, 0.19688014041783747, 0.19688014041783747, 0.131253426945225, 0.131253426945225, 0.131253426945225, 0.12892319014160747, 0.3867695704248224, 0.08594879342773831, 0.17189758685547663, 0.12892319014160747, 0.08594879342773831, 0.25531532034008453, 0.5106306406801691, 0.25531532034008453, 0.10711088494523045, 0.33153369149714185, 0.14281451326030728, 0.13261347659885675, 0.1887191782368346, 0.09690984828377994, 0.1038038667524476, 0.13385235449657717, 0.25677798617710723, 0.14477907731262427, 0.22672949843297766, 0.13385235449657717, 0.10638846229819937, 0.15958269344729906, 0.10638846229819937, 0.10638846229819937, 0.15958269344729906, 0.3723596180436978, 0.10389109548517318, 0.1662257527762771, 0.22578998085444305, 0.16761096738274606, 0.13298060222102168, 0.20362654715093945, 0.0428707654547026, 0.214353827273513, 0.1286122963641078, 0.47157842000172856, 0.0643061481820539, 0.0857415309094052, 0.0929941483704677, 0.11292146587842507, 0.17270341840229717, 0.1594185400636589, 0.34540683680459433, 0.10627902670910594, 0.09020806284890501, 0.18041612569781001, 0.13531209427335752, 0.40593628282007255, 0.09020806284890501, 0.045104031424452504, 0.1264045569100416, 0.10834676306574995, 0.19863573228720824, 0.13543345383218744, 0.18057793844291659, 0.2528091138200832], \"Term\": [\"abudhabi\", \"abudhabi\", \"abudhabi\", \"abudhabi\", \"abudhabi\", \"abudhabi\", \"ad_scda\", \"ad_scda\", \"ad_scda\", \"ad_scda\", \"ad_scda\", \"ad_scda\", \"adventure\", \"adventure\", \"adventure\", \"adventure\", \"adventure\", \"adventure\", \"agency\", \"agency\", \"agency\", \"agency\", \"agency\", \"agency\", \"americas_best\", \"americas_best\", \"americas_best\", \"americas_best\", \"americas_best\", \"americas_best\", \"atlantispalms\", \"atlantispalms\", \"atlantispalms\", \"atlantispalms\", \"atlantispalms\", \"atlantispalms\", \"avanza\", \"avanza\", \"avanza\", \"avanza\", \"avanza\", \"avanza\", \"avisa\", \"avisa\", \"avisa\", \"avisa\", \"avisa\", \"avisa\", \"avon\", \"avon\", \"avon\", \"avon\", \"avon\", \"avon\", \"bay_mydayinla\", \"bay_mydayinla\", \"bay_mydayinla\", \"bay_mydayinla\", \"bay_mydayinla\", \"bay_mydayinla\", \"beach\", \"beach\", \"beach\", \"beach\", \"beach\", \"beach\", \"beach_condominiums\", \"beach_condominiums\", \"beach_condominiums\", \"beach_condominiums\", \"beach_condominiums\", \"beach_condominiums\", \"bed_breakfasts\", \"bed_breakfasts\", \"bed_breakfasts\", \"bed_breakfasts\", \"bed_breakfasts\", \"bed_breakfasts\", \"best\", \"best\", \"best\", \"best\", \"best\", \"best\", \"big\", \"big\", \"big\", \"big\", \"big\", \"big\", \"birth\", \"birth\", \"birth\", \"birth\", \"birth\", \"birth\", \"blogging\", \"blogging\", \"blogging\", \"blogging\", \"blogging\", \"blogging\", \"blossoming_nature\", \"blossoming_nature\", \"blossoming_nature\", \"blossoming_nature\", \"blossoming_nature\", \"blossoming_nature\", \"boarding\", \"boarding\", \"boarding\", \"boarding\", \"boarding\", \"boarding\", \"book\", \"book\", \"book\", \"book\", \"book\", \"book\", \"bright\", \"bright\", \"bright\", \"bright\", \"bright\", \"bright\", \"bundle_check\", \"bundle_check\", \"bundle_check\", \"bundle_check\", \"bundle_check\", \"bundle_check\", \"california_b\", \"california_b\", \"california_b\", \"california_b\", \"california_b\", \"california_b\", \"change_lives\", \"change_lives\", \"change_lives\", \"change_lives\", \"change_lives\", \"change_lives\", \"chavetas\", \"chavetas\", \"chavetas\", \"chavetas\", \"chavetas\", \"chavetas\", \"check_unique\", \"check_unique\", \"check_unique\", \"check_unique\", \"check_unique\", \"check_unique\", \"childanddog_laurieshanholtzer\", \"childanddog_laurieshanholtzer\", \"childanddog_laurieshanholtzer\", \"childanddog_laurieshanholtzer\", \"childanddog_laurieshanholtzer\", \"childanddog_laurieshanholtzer\", \"chinatown\", \"chinatown\", \"chinatown\", \"chinatown\", \"chinatown\", \"christmas\", \"christmas\", \"christmas\", \"christmas\", \"christmas\", \"christmas\", \"christmas_sled\", \"christmas_sled\", \"christmas_sled\", \"christmas_sled\", \"christmas_sled\", \"christmas_sled\", \"city\", \"city\", \"city\", \"city\", \"city\", \"city\", \"clownfish_redsea\", \"clownfish_redsea\", \"clownfish_redsea\", \"clownfish_redsea\", \"clownfish_redsea\", \"clownfish_redsea\", \"community\", \"community\", \"community\", \"community\", \"community\", \"community\", \"condo\", \"condo\", \"condo\", \"condo\", \"condo\", \"condo\", \"condo_steps\", \"condo_steps\", \"condo_steps\", \"condo_steps\", \"condo_steps\", \"condo_steps\", \"cozy_san\", \"cozy_san\", \"cozy_san\", \"cozy_san\", \"cozy_san\", \"cozy_san\", \"create\", \"create\", \"create\", \"create\", \"create\", \"create\", \"cultural\", \"cultural\", \"cultural\", \"cultural\", \"cultural\", \"cultural\", \"curry\", \"curry\", \"curry\", \"curry\", \"curry\", \"curry\", \"customs\", \"customs\", \"customs\", \"customs\", \"customs\", \"customs\", \"daily_thanks\", \"daily_thanks\", \"daily_thanks\", \"daily_thanks\", \"daily_thanks\", \"daily_thanks\", \"dare_compare\", \"dare_compare\", \"dare_compare\", \"dare_compare\", \"dare_compare\", \"dare_compare\", \"day\", \"day\", \"day\", \"day\", \"day\", \"day\", \"de\", \"de\", \"de\", \"de\", \"de\", \"de\", \"decorating\", \"decorating\", \"decorating\", \"decorating\", \"decorating\", \"del_r\\u00edo\", \"del_r\\u00edo\", \"del_r\\u00edo\", \"del_r\\u00edo\", \"del_r\\u00edo\", \"del_r\\u00edo\", \"deosai_expanse\", \"deosai_expanse\", \"deosai_expanse\", \"deosai_expanse\", \"deosai_expanse\", \"deosai_expanse\", \"destinos\", \"destinos\", \"destinos\", \"destinos\", \"destinos\", \"destinos\", \"detroit\", \"detroit\", \"detroit\", \"detroit\", \"detroit\", \"detroit\", \"diego\", \"diego\", \"diego\", \"diego\", \"diego\", \"diego\", \"drea\", \"drea\", \"drea\", \"drea\", \"drea\", \"drea\", \"dubairt\", \"dubairt\", \"dubairt\", \"dubairt\", \"dubairt\", \"dubairt\", \"estado\", \"estado\", \"europa\", \"europa\", \"europa\", \"europa\", \"europa\", \"europa\", \"exclusive_amalfi\", \"exclusive_amalfi\", \"exclusive_amalfi\", \"exclusive_amalfi\", \"exclusive_amalfi\", \"exclusive_amalfi\", \"experience\", \"experience\", \"experience\", \"experience\", \"experience\", \"experience\", \"explore\", \"explore\", \"explore\", \"explore\", \"explore\", \"explore\", \"extra\", \"extra\", \"extra\", \"extra\", \"extra\", \"extra\", \"fear\", \"fear\", \"fear\", \"fear\", \"fear\", \"fear\", \"festivals\", \"festivals\", \"festivals\", \"festivals\", \"festivals\", \"festivals\", \"fifth\", \"fifth\", \"fifth\", \"fifth\", \"fifth\", \"fifth\", \"find_ad\", \"find_ad\", \"find_ad\", \"find_ad\", \"find_ad\", \"find_ad\", \"fireball_sunset\", \"fireball_sunset\", \"fireball_sunset\", \"fireball_sunset\", \"fireball_sunset\", \"fireball_sunset\", \"fish_fishtank\", \"fish_fishtank\", \"fish_fishtank\", \"fish_fishtank\", \"fish_fishtank\", \"fish_fishtank\", \"flamingos\", \"flamingos\", \"flamingos\", \"flamingos\", \"flower_soul\", \"flower_soul\", \"flower_soul\", \"flower_soul\", \"flower_soul\", \"flower_soul\", \"forfrontier\", \"forfrontier\", \"forfrontier\", \"forfrontier\", \"forfrontier\", \"forfrontier\", \"forget\", \"forget\", \"forget\", \"forget\", \"forget\", \"forget\", \"found_mission\", \"found_mission\", \"found_mission\", \"found_mission\", \"found_mission\", \"found_mission\", \"france\", \"france\", \"france\", \"france\", \"france\", \"france\", \"free\", \"free\", \"free\", \"free\", \"free\", \"free\", \"ft\", \"ft\", \"ft\", \"ft\", \"ft\", \"ft\", \"fujifilm\", \"fujifilm\", \"fujifilm\", \"fujifilm\", \"fujifilm\", \"fujifilm\", \"gambling\", \"gambling\", \"gambling\", \"gambling\", \"gambling\", \"gambling\", \"george_moore\", \"george_moore\", \"george_moore\", \"george_moore\", \"george_moore\", \"george_moore\", \"gerard_de\", \"gerard_de\", \"gerard_de\", \"gerard_de\", \"gerard_de\", \"gerard_de\", \"germany\", \"germany\", \"germany\", \"germany\", \"germany\", \"germany\", \"gift\", \"gift\", \"gift\", \"gift\", \"gift\", \"gift\", \"girls_boys\", \"girls_boys\", \"girls_boys\", \"girls_boys\", \"girls_boys\", \"girls_boys\", \"giving_cow\", \"giving_cow\", \"giving_cow\", \"giving_cow\", \"giving_cow\", \"giving_cow\", \"glitter\", \"glitter\", \"glitter\", \"glitter\", \"glitter\", \"glitter\", \"going\", \"going\", \"going\", \"going\", \"going\", \"going\", \"good\", \"good\", \"good\", \"good\", \"good\", \"good\", \"great\", \"great\", \"great\", \"great\", \"great\", \"great\", \"great_giftidea\", \"great_giftidea\", \"great_giftidea\", \"great_giftidea\", \"great_giftidea\", \"great_giftidea\", \"great_tire\", \"great_tire\", \"great_tire\", \"great_tire\", \"great_tire\", \"great_tire\", \"groups\", \"groups\", \"groups\", \"groups\", \"groups\", \"guest_room\", \"guest_room\", \"guest_room\", \"guest_room\", \"guest_room\", \"guest_room\", \"guides_help\", \"guides_help\", \"guides_help\", \"guides_help\", \"guides_help\", \"guides_help\", \"gujarat\", \"gujarat\", \"gujarat\", \"gujarat\", \"gujarat\", \"gujarat\", \"hand\", \"hand\", \"hand\", \"hand\", \"hand\", \"hand\", \"harlem\", \"harlem\", \"harlem\", \"harlem\", \"harlem\", \"harlem\", \"hd\", \"hd\", \"hd\", \"hd\", \"hd\", \"hd\", \"hdr\", \"hdr\", \"hdr\", \"hdr\", \"hdr\", \"hdr\", \"hear\", \"hear\", \"hear\", \"hear\", \"hear\", \"hear\", \"hebei\", \"hebei\", \"hebei\", \"hebei\", \"hebei\", \"heely_skateshoes\", \"heely_skateshoes\", \"heely_skateshoes\", \"heely_skateshoes\", \"heely_skateshoes\", \"heely_skateshoes\", \"highlight\", \"highlight\", \"highlight\", \"highlight\", \"highlight\", \"holiday\", \"holiday\", \"holiday\", \"holiday\", \"holiday\", \"holiday\", \"holiday_baking\", \"holiday_baking\", \"holiday_baking\", \"holiday_baking\", \"holiday_baking\", \"holiday_baking\", \"holiday_lip\", \"holiday_lip\", \"holiday_lip\", \"holiday_lip\", \"holiday_lip\", \"holiday_lip\", \"holiday_season\", \"holiday_season\", \"holiday_season\", \"holiday_season\", \"holiday_season\", \"holiday_season\", \"holidays\", \"holidays\", \"holidays\", \"holidays\", \"holidays\", \"holidays\", \"hollandaise_sauce\", \"hollandaise_sauce\", \"hollandaise_sauce\", \"hollandaise_sauce\", \"hollandaise_sauce\", \"hollandaise_sauce\", \"home_find\", \"home_find\", \"home_find\", \"home_find\", \"home_find\", \"home_find\", \"home_fitness\", \"home_fitness\", \"home_fitness\", \"home_fitness\", \"home_fitness\", \"home_fitness\", \"hong_kong\", \"hong_kong\", \"hong_kong\", \"hong_kong\", \"hong_kong\", \"hong_kong\", \"hotel\", \"hotel\", \"hotel\", \"hotel\", \"hotel\", \"hotel\", \"hottest\", \"hottest\", \"hottest\", \"hottest\", \"hottest\", \"hottest\", \"hudsonriver\", \"hudsonriver\", \"hudsonriver\", \"hudsonriver\", \"hudsonriver\", \"hudsonriver\", \"iceland\", \"iceland\", \"iceland\", \"iceland\", \"iceland\", \"iceland\", \"ideas\", \"ideas\", \"ideas\", \"ideas\", \"ideas\", \"ideas\", \"ignore\", \"ignore\", \"ignore\", \"ignore\", \"ignore\", \"ignore\", \"ilovela_mondaymotivation\", \"ilovela_mondaymotivation\", \"ilovela_mondaymotivation\", \"ilovela_mondaymotivation\", \"ilovela_mondaymotivation\", \"ilovela_mondaymotivation\", \"inn\", \"inn\", \"inn\", \"inn\", \"inn\", \"inn\", \"james\", \"james\", \"james\", \"james\", \"james\", \"james\", \"janeiro\", \"janeiro\", \"janeiro\", \"janeiro\", \"janeiro\", \"janeiro\", \"japan\", \"japan\", \"japan\", \"japan\", \"japan\", \"japan\", \"japan_japantravel\", \"japan_japantravel\", \"japan_japantravel\", \"japan_japantravel\", \"japan_japantravel\", \"japan_japantravel\", \"jap\\u00f3n\", \"jap\\u00f3n\", \"jap\\u00f3n\", \"jap\\u00f3n\", \"jap\\u00f3n\", \"jerusalem\", \"jerusalem\", \"jerusalem\", \"jerusalem\", \"jerusalem\", \"jerusalem\", \"jinshanling\", \"jinshanling\", \"jinshanling\", \"jinshanling\", \"jinshanling\", \"job\", \"job\", \"job\", \"job\", \"job\", \"job\", \"keukenhof\", \"keukenhof\", \"keukenhof\", \"keukenhof\", \"keukenhof\", \"keukenhof\", \"latest\", \"latest\", \"latest\", \"latest\", \"latest\", \"latest\", \"lawyer\", \"lawyer\", \"lawyer\", \"lawyer\", \"lawyer\", \"lawyer\", \"leave_home\", \"leave_home\", \"leave_home\", \"leave_home\", \"leave_home\", \"leave_home\", \"lesser\", \"lesser\", \"lesser\", \"lesser\", \"life\", \"life\", \"life\", \"life\", \"life\", \"life\", \"like\", \"like\", \"like\", \"like\", \"like\", \"like\", \"liquid_paste\", \"liquid_paste\", \"liquid_paste\", \"liquid_paste\", \"liquid_paste\", \"liquid_paste\", \"lonely_planet\", \"lonely_planet\", \"lonely_planet\", \"lonely_planet\", \"lonely_planet\", \"lonely_planet\", \"long\", \"long\", \"long\", \"long\", \"long\", \"long\", \"los\", \"los\", \"los\", \"los\", \"los\", \"los\", \"lot\", \"lot\", \"lot\", \"lot\", \"lot\", \"lot\", \"love\", \"love\", \"love\", \"love\", \"love\", \"love\", \"loyalty\", \"loyalty\", \"loyalty\", \"loyalty\", \"loyalty\", \"loyalty\", \"lp\", \"lp\", \"lp\", \"lp\", \"lp\", \"lp\", \"lunch_winelover\", \"lunch_winelover\", \"lunch_winelover\", \"lunch_winelover\", \"lunch_winelover\", \"lunch_winelover\", \"luxury\", \"luxury\", \"luxury\", \"luxury\", \"luxury\", \"luxury\", \"main\", \"main\", \"main\", \"main\", \"main\", \"main\", \"majestuoso\", \"majestuoso\", \"majestuoso\", \"majestuoso\", \"majestuoso\", \"majestuoso\", \"man_travels\", \"man_travels\", \"man_travels\", \"man_travels\", \"man_travels\", \"man_travels\", \"marinelife_ocean\", \"marinelife_ocean\", \"marinelife_ocean\", \"marinelife_ocean\", \"marinelife_ocean\", \"marinelife_ocean\", \"memorable\", \"memorable\", \"memorable\", \"memorable\", \"memorable\", \"memorable\", \"michelin\", \"michelin\", \"michelin\", \"michelin\", \"michelin\", \"michelin\", \"michener\", \"michener\", \"michener\", \"michener\", \"michener\", \"michener\", \"mid_century\", \"mid_century\", \"mid_century\", \"mid_century\", \"mid_century\", \"mid_century\", \"mission_beach\", \"mission_beach\", \"mission_beach\", \"mission_beach\", \"mission_beach\", \"mission_beach\", \"modern_houses\", \"modern_houses\", \"modern_houses\", \"modern_houses\", \"modern_houses\", \"modern_houses\", \"napa_valley\", \"napa_valley\", \"napa_valley\", \"napa_valley\", \"nature\", \"nature\", \"nature\", \"nature\", \"nature\", \"nature\", \"naturecuts\", \"naturecuts\", \"naturecuts\", \"naturecuts\", \"naturecuts\", \"naturecuts\", \"need\", \"need\", \"need\", \"need\", \"need\", \"need\", \"needs_returns\", \"needs_returns\", \"needs_returns\", \"needs_returns\", \"needs_returns\", \"needs_returns\", \"nerval\", \"nerval\", \"nerval\", \"nerval\", \"nerval\", \"nerval\", \"new\", \"new\", \"new\", \"new\", \"new\", \"new\", \"nice_vacation\", \"nice_vacation\", \"nice_vacation\", \"nice_vacation\", \"nice_vacation\", \"nice_vacation\", \"nomads\", \"nomads\", \"nomads\", \"nomads\", \"nomads\", \"nomads\", \"nycrooftop\", \"nycrooftop\", \"nycrooftop\", \"nycrooftop\", \"nycrooftop\", \"obi\", \"october\", \"october\", \"october\", \"october\", \"october\", \"october\", \"onaboat\", \"onaboat\", \"onaboat\", \"onaboat\", \"onaboat\", \"onaboat\", \"organics_healthy\", \"organics_healthy\", \"organics_healthy\", \"organics_healthy\", \"organics_healthy\", \"organics_healthy\", \"owl_house\", \"owl_house\", \"owl_house\", \"owl_house\", \"owl_house\", \"owl_house\", \"palawan\", \"palawan\", \"palawan\", \"palawan\", \"palawan\", \"palawan\", \"palawan_philippines\", \"palawan_philippines\", \"palawan_philippines\", \"palawan_philippines\", \"palawan_philippines\", \"palawan_philippines\", \"palm_springs\", \"palm_springs\", \"palm_springs\", \"palm_springs\", \"palm_springs\", \"palm_springs\", \"pantai\", \"pantai\", \"pantai\", \"pantai\", \"pantai\", \"pantai\", \"paper_print\", \"paper_print\", \"paper_print\", \"paper_print\", \"paper_print\", \"paper_print\", \"paradise\", \"paradise\", \"paradise\", \"paradise\", \"paradise\", \"paradise\", \"paris\", \"paris\", \"paris\", \"paris\", \"paris\", \"paris\", \"parrot\", \"parrot\", \"parrot\", \"parrot\", \"parrot\", \"parrot\", \"party\", \"party\", \"party\", \"party\", \"party\", \"party\", \"people\", \"people\", \"people\", \"people\", \"people\", \"people\", \"photo\", \"photo\", \"photo\", \"photo\", \"photo\", \"photo\", \"photog\", \"photog\", \"photog\", \"photog\", \"photog\", \"photog\", \"photography\", \"photography\", \"photography\", \"photography\", \"photography\", \"photography\", \"photography_helena\", \"photography_helena\", \"photography_helena\", \"photography_helena\", \"photography_helena\", \"photography_helena\", \"photos\", \"photos\", \"photos\", \"photos\", \"photos\", \"photos\", \"places_world\", \"places_world\", \"places_world\", \"places_world\", \"places_world\", \"places_world\", \"plans_sorted\", \"plans_sorted\", \"plans_sorted\", \"plans_sorted\", \"plans_sorted\", \"plans_sorted\", \"posted_travelleisure\", \"posted_travelleisure\", \"posted_travelleisure\", \"posted_travelleisure\", \"posted_travelleisure\", \"posted_travelleisure\", \"posted_trips\", \"posted_trips\", \"posted_trips\", \"posted_trips\", \"posted_trips\", \"posted_trips\", \"pura\", \"pura\", \"pura\", \"pura\", \"pura\", \"pura\", \"quick\", \"quick\", \"quick\", \"quick\", \"quick\", \"quick\", \"quoteoftheday\", \"quoteoftheday\", \"quoteoftheday\", \"quoteoftheday\", \"quoteoftheday\", \"quoteoftheday\", \"quotes\", \"quotes\", \"quotes\", \"quotes\", \"quotes\", \"quotes\", \"realtalk\", \"realtalk\", \"realtalk\", \"realtalk\", \"realtalk\", \"realtalk\", \"reef_coral\", \"reef_coral\", \"reef_coral\", \"reef_coral\", \"reef_coral\", \"reef_coral\", \"reeftank_reefcandy\", \"reeftank_reefcandy\", \"reeftank_reefcandy\", \"reeftank_reefcandy\", \"reeftank_reefcandy\", \"reeftank_reefcandy\", \"reet_ennet\", \"reet_ennet\", \"reet_ennet\", \"reet_ennet\", \"reet_ennet\", \"reet_ennet\", \"reject\", \"reject\", \"reject\", \"reject\", \"reject\", \"reject\", \"religion\", \"religion\", \"religion\", \"religion\", \"religion\", \"religion\", \"rent\", \"rent\", \"rent\", \"rent\", \"rent\", \"rent\", \"rent_hightown\", \"rent_hightown\", \"rent_hightown\", \"rent_hightown\", \"rent_hightown\", \"rent_hightown\", \"rental_condo\", \"rental_condo\", \"rental_condo\", \"rental_condo\", \"rental_condo\", \"rental_condo\", \"rewards\", \"rewards\", \"rewards\", \"rewards\", \"rewards\", \"rewards\", \"ride_art\", \"ride_art\", \"ride_art\", \"ride_art\", \"ride_art\", \"ride_art\", \"rio_de\", \"rio_de\", \"rio_de\", \"rio_de\", \"rio_de\", \"rio_de\", \"risk\", \"risk\", \"risk\", \"risk\", \"risk\", \"risk\", \"roma\", \"roma\", \"roma\", \"roma\", \"roma\", \"roma\", \"romance\", \"romance\", \"romance\", \"romance\", \"romance\", \"romance\", \"rooftop\", \"rooftop\", \"rooftop\", \"rooftop\", \"rooftop\", \"rooftop\", \"rt\", \"rt\", \"rt\", \"rt\", \"rt\", \"rt\", \"rt_viajes\", \"rt_viajes\", \"rt_viajes\", \"rt_viajes\", \"rt_viajes\", \"rt_viajes\", \"safe_winter\", \"safe_winter\", \"safe_winter\", \"safe_winter\", \"safe_winter\", \"safe_winter\", \"san_diego\", \"san_diego\", \"san_diego\", \"san_diego\", \"san_diego\", \"san_diego\", \"santabarbara_sunset\", \"santabarbara_sunset\", \"santabarbara_sunset\", \"santabarbara_sunset\", \"santabarbara_sunset\", \"santabarbara_sunset\", \"santorini\", \"santorini\", \"santorini\", \"santorini\", \"santorini\", \"santorini\", \"sarajevo\", \"sarajevo\", \"sarajevo\", \"sarajevo\", \"sarajevo\", \"sarajevo\", \"sardinia\", \"sardinia\", \"sardinia\", \"sardinia\", \"sardinia\", \"sardinia\", \"saturday\", \"saturday\", \"saturday\", \"saturday\", \"saturday\", \"saturday\", \"scener\", \"scener\", \"scener\", \"scener\", \"scener\", \"scener\", \"scritto\", \"scritto\", \"scritto\", \"scritto\", \"scritto\", \"service\", \"service\", \"service\", \"service\", \"service\", \"service\", \"sheep\", \"sheep\", \"sheep\", \"sheep\", \"ship_ahead\", \"ship_ahead\", \"ship_ahead\", \"ship_ahead\", \"ship_ahead\", \"ship_ahead\", \"shoes\", \"shoes\", \"shoes\", \"shoes\", \"shoes\", \"shoes\", \"simple\", \"simple\", \"simple\", \"simple\", \"simple\", \"simple\", \"single\", \"single\", \"single\", \"single\", \"single\", \"single\", \"single_double\", \"single_double\", \"single_double\", \"single_double\", \"single_double\", \"single_double\", \"sinks_santamonica\", \"sinks_santamonica\", \"sinks_santamonica\", \"sinks_santamonica\", \"sinks_santamonica\", \"sinks_santamonica\", \"skylineview\", \"skylineview\", \"skylineview\", \"skylineview\", \"skylineview\", \"skylineview\", \"snow_scene\", \"snow_scene\", \"snow_scene\", \"snow_scene\", \"snow_scene\", \"snow_scene\", \"snowflakes\", \"snowflakes\", \"snowflakes\", \"snowflakes\", \"snowflakes\", \"south\", \"south\", \"south\", \"south\", \"south\", \"south\", \"straight\", \"straight\", \"straight\", \"straight\", \"straight\", \"straight\", \"street_food\", \"street_food\", \"street_food\", \"street_food\", \"street_food\", \"street_food\", \"stunning\", \"stunning\", \"stunning\", \"stunning\", \"stunning\", \"stunning\", \"suci\", \"suci\", \"suci\", \"suci\", \"suci\", \"suci\", \"surprise_rt\", \"surprise_rt\", \"surprise_rt\", \"surprise_rt\", \"surprise_rt\", \"surprise_rt\", \"swimming\", \"swimming\", \"swimming\", \"swimming\", \"swimming\", \"swimming\", \"swiss\", \"swiss\", \"swiss\", \"swiss\", \"swiss\", \"swiss\", \"t\", \"t\", \"t\", \"t\", \"t\", \"t\", \"tanah\", \"tanah\", \"tanah\", \"tanah\", \"tanah\", \"tanah\", \"tapas\", \"tapas\", \"tapas\", \"tapas\", \"tapas\", \"tapas\", \"te\", \"te\", \"te\", \"te\", \"te\", \"te\", \"tempatwisata\", \"tempatwisata\", \"tempatwisata\", \"tempatwisata\", \"tempatwisata\", \"tempatwisata\", \"tempe\", \"tempe\", \"tempe\", \"tempe\", \"tempe\", \"tempe\", \"tepi\", \"tepi\", \"tepi\", \"tepi\", \"tepi\", \"tepi\", \"thailand\", \"thailand\", \"thailand\", \"thailand\", \"thailand\", \"thailand\", \"thanks\", \"thanks\", \"thanks\", \"thanks\", \"thanks\", \"thanks\", \"tibet\", \"tibet\", \"tibet\", \"tibet\", \"tibet\", \"tibet\", \"time\", \"time\", \"time\", \"time\", \"time\", \"time\", \"today\", \"today\", \"today\", \"today\", \"today\", \"today\", \"tour\", \"tour\", \"tour\", \"tour\", \"tour\", \"tour\", \"touri\", \"touri\", \"touri\", \"touri\", \"touri\", \"touri\", \"tourism\", \"tourism\", \"tourism\", \"tourism\", \"tourism\", \"tourism\", \"towel\", \"towel\", \"towel\", \"traveller\", \"traveller\", \"traveller\", \"traveller\", \"traveller\", \"traveller\", \"traveltuesday\", \"traveltuesday\", \"traveltuesday\", \"traveltuesday\", \"traveltuesday\", \"traveltuesday\", \"tree\", \"tree\", \"tree\", \"tree\", \"tree\", \"tree\", \"trip\", \"trip\", \"trip\", \"trip\", \"trip\", \"trip\", \"truestory\", \"truestory\", \"truestory\", \"truestory\", \"truestory\", \"truestory\", \"ttot\", \"ttot\", \"ttot\", \"ttot\", \"ttot\", \"ttot\", \"tulip_rainbow\", \"tulip_rainbow\", \"tulip_rainbow\", \"tulip_rainbow\", \"tulip_rainbow\", \"tulip_rainbow\", \"tulipsinholland_spring\", \"tulipsinholland_spring\", \"tulipsinholland_spring\", \"tulipsinholland_spring\", \"tulipsinholland_spring\", \"tulipsinholland_spring\", \"tv_special\", \"tv_special\", \"tv_special\", \"tv_special\", \"tv_special\", \"tv_special\", \"umroh\", \"umroh\", \"umroh\", \"umroh\", \"umroh\", \"umroh\", \"unesco\", \"unesco\", \"unesco\", \"unesco\", \"unesco\", \"unesco\", \"usa\", \"usa\", \"usa\", \"usa\", \"usa\", \"usa\", \"use_channel\", \"use_channel\", \"use_channel\", \"use_channel\", \"use_channel\", \"use_channel\", \"vacation\", \"vacation\", \"vacation\", \"vacation\", \"vacation\", \"vacation\", \"vacation_rental\", \"vacation_rental\", \"vacation_rental\", \"vacation_rental\", \"vacation_rental\", \"vacation_rental\", \"value_inn\", \"value_inn\", \"value_inn\", \"value_inn\", \"value_inn\", \"value_inn\", \"veggies\", \"veggies\", \"veggies\", \"veggies\", \"veggies\", \"veggies\", \"viaggilowcost_viaggi\", \"viaggilowcost_viaggi\", \"viaggilowcost_viaggi\", \"viaggilowcost_viaggi\", \"viaggilowcost_viaggi\", \"viaggilowcost_viaggi\", \"viajar\", \"viajar\", \"viajar\", \"viajar\", \"viajar\", \"viajar\", \"viajes\", \"viajes\", \"viajes\", \"viajes\", \"viajes\", \"viajes\", \"vibrant\", \"vibrant\", \"vibrant\", \"vibrant\", \"vibrant\", \"vibrant\", \"visa\", \"visa\", \"visa\", \"visa\", \"visa\", \"visa\", \"warsaw\", \"warsaw\", \"warsaw\", \"warsaw\", \"warsaw\", \"warsaw\", \"water\", \"water\", \"water\", \"water\", \"water\", \"water\", \"way\", \"way\", \"way\", \"way\", \"way\", \"way\", \"wheel_light\", \"wheel_light\", \"wheel_light\", \"wheel_light\", \"wheel_light\", \"wheel_light\", \"whiskey\", \"whiskey\", \"whiskey\", \"whiskey\", \"whiskey\", \"whiskey\", \"win_breville\", \"win_breville\", \"win_breville\", \"win_breville\", \"win_breville\", \"win_breville\", \"win_stylish\", \"win_stylish\", \"win_stylish\", \"wine\", \"wine\", \"wine\", \"wine\", \"wine\", \"wine\", \"winter\", \"winter\", \"winter\", \"winter\", \"winter\", \"winter\", \"winter_canvas\", \"winter_canvas\", \"winter_canvas\", \"winter_canvas\", \"winter_canvas\", \"winter_canvas\", \"world\", \"world\", \"world\", \"world\", \"world\", \"world\", \"world_search\", \"world_search\", \"world_search\", \"world_search\", \"world_search\", \"world_search\", \"year\", \"year\", \"year\", \"year\", \"year\", \"year\", \"yellow\", \"yellow\", \"yellow\", \"yellow\", \"yellow\", \"yellow\", \"yummy\", \"yummy\", \"yummy\", \"yummy\", \"yummy\", \"yummy\"]}, \"R\": 30, \"lambda.step\": 0.01, \"plot.opts\": {\"xlab\": \"PC1\", \"ylab\": \"PC2\"}, \"topic.order\": [4, 6, 3, 2, 5, 1]};\n",
       "\n",
       "function LDAvis_load_lib(url, callback){\n",
       "  var s = document.createElement('script');\n",
       "  s.src = url;\n",
       "  s.async = true;\n",
       "  s.onreadystatechange = s.onload = callback;\n",
       "  s.onerror = function(){console.warn(\"failed to load library \" + url);};\n",
       "  document.getElementsByTagName(\"head\")[0].appendChild(s);\n",
       "}\n",
       "\n",
       "if(typeof(LDAvis) !== \"undefined\"){\n",
       "   // already loaded: just create the visualization\n",
       "   !function(LDAvis){\n",
       "       new LDAvis(\"#\" + \"ldavis_el79669108883105602064038915\", ldavis_el79669108883105602064038915_data);\n",
       "   }(LDAvis);\n",
       "}else if(typeof define === \"function\" && define.amd){\n",
       "   // require.js is available: use it to load d3/LDAvis\n",
       "   require.config({paths: {d3: \"https://d3js.org/d3.v5\"}});\n",
       "   require([\"d3\"], function(d3){\n",
       "      window.d3 = d3;\n",
       "      LDAvis_load_lib(\"https://cdn.jsdelivr.net/gh/bmabey/pyLDAvis@3.3.1/pyLDAvis/js/ldavis.v3.0.0.js\", function(){\n",
       "        new LDAvis(\"#\" + \"ldavis_el79669108883105602064038915\", ldavis_el79669108883105602064038915_data);\n",
       "      });\n",
       "    });\n",
       "}else{\n",
       "    // require.js not available: dynamically load d3 & LDAvis\n",
       "    LDAvis_load_lib(\"https://d3js.org/d3.v5.js\", function(){\n",
       "         LDAvis_load_lib(\"https://cdn.jsdelivr.net/gh/bmabey/pyLDAvis@3.3.1/pyLDAvis/js/ldavis.v3.0.0.js\", function(){\n",
       "                 new LDAvis(\"#\" + \"ldavis_el79669108883105602064038915\", ldavis_el79669108883105602064038915_data);\n",
       "            })\n",
       "         });\n",
       "}\n",
       "</script>"
      ],
      "text/plain": [
       "<IPython.core.display.HTML object>"
      ]
     },
     "execution_count": 18,
     "metadata": {},
     "output_type": "execute_result"
    }
   ],
   "source": [
    "vis = gensimvis.prepare(topic_model=basic_model.model, corpus=basic_model.corpus, dictionary=basic_model.id2word)\n",
    "pyLDAvis.enable_notebook()\n",
    "pyLDAvis.display(vis)"
   ]
  },
  {
   "cell_type": "markdown",
   "id": "6b9a20a9",
   "metadata": {},
   "source": [
    "## 3.2 LDA Tfidf Model<a class=\"anchor\" id=\"3.2\"></a>"
   ]
  },
  {
   "cell_type": "code",
   "execution_count": 28,
   "id": "403b0475",
   "metadata": {},
   "outputs": [
    {
     "data": {
      "text/html": [
       "\n",
       "<link rel=\"stylesheet\" type=\"text/css\" href=\"https://cdn.jsdelivr.net/gh/bmabey/pyLDAvis@3.3.1/pyLDAvis/js/ldavis.v1.0.0.css\">\n",
       "\n",
       "\n",
       "<div id=\"ldavis_el79669129979045284588674659\"></div>\n",
       "<script type=\"text/javascript\">\n",
       "\n",
       "var ldavis_el79669129979045284588674659_data = {\"mdsDat\": {\"x\": [0.4099810830666762, -0.0813817440535131, -0.07049926027276612, -0.07924322092454025, -0.016523964345547638, -0.09322117120321319, -0.06911172226709526], \"y\": [0.046527250745317446, 0.08599158667263829, 0.08240362507570731, 0.04319944447059426, -0.36395326736097783, 0.06405176875765702, 0.041779591639064], \"topics\": [1, 2, 3, 4, 5, 6, 7], \"cluster\": [1, 1, 1, 1, 1, 1, 1], \"Freq\": [21.1972691261075, 13.855784248078448, 13.75051196450996, 13.349040975575344, 12.966662857566606, 12.769548059369185, 12.111182768792975]}, \"tinfo\": {\"Term\": [\"san_diego\", \"found_mission\", \"nice_vacation\", \"rental_condo\", \"usa\", \"beach\", \"rent_pioneertown\", \"love_dragonfly\", \"desert_retreat\", \"pool_houses\", \"love_wings\", \"lighthouses_rent\", \"neck_lighthouse\", \"pocasset\", \"rent\", \"nikon_nikon\", \"vatican_rome\", \"city_reflexion\", \"nikoncanada_vatican\", \"mm_store\", \"crafted_gypsy\", \"love_hand\", \"rent_seattle\", \"wagon_heart\", \"campers_rvs\", \"condo\", \"vacation_rental\", \"mission_beach\", \"tahoe\", \"chalets_rent\", \"found_mission\", \"nice_vacation\", \"rental_condo\", \"san_diego\", \"condo\", \"mission_beach\", \"vacation_rental\", \"usa\", \"beach_condominiums\", \"condo_steps\", \"cozy_san\", \"diego\", \"beach\", \"holiday_lip\", \"bundle_check\", \"traveller_video\", \"today_beautyreview\", \"america\", \"live\", \"clownfish_redsea\", \"marinelife_ocean\", \"reef_coral\", \"fish_fishtank\", \"easy\", \"sup\", \"photo_proof\", \"giving\", \"cities\", \"water_warrior\", \"making\", \"viet_bamboo\", \"vietnam\", \"youtube\", \"reeftank_reefcandy\", \"tour\", \"paris\", \"rent\", \"holiday_season\", \"holiday\", \"chalets_rent\", \"de_celeste\", \"love_chalet\", \"south_lake\", \"tahoe\", \"lighthouses_rent\", \"love_wings\", \"neck_lighthouse\", \"pocasset\", \"photo_popular\", \"travelpix\", \"keukenhof\", \"tulip_rainbow\", \"shop\", \"wine_winelover\", \"best_wine\", \"napa_thrillist\", \"trips_california\", \"addicts_stop\", \"feature\", \"related_project\", \"favorite\", \"shadowfax_marcwainwright\", \"south\", \"voyager\", \"inn\", \"bars_rotterdam\", \"best_cocktail\", \"causing_stir\", \"gift_guide\", \"istanbul\", \"recipes\", \"memories_win\", \"drone_cameras\", \"travelling\", \"instagram\", \"wine\", \"history\", \"tulipsinholland_spring\", \"nature\", \"lp\", \"holiday\", \"popular\", \"photography\", \"ttot\", \"palm_springs\", \"touri\", \"modern_houses\", \"mid_century\", \"year\", \"enter_win\", \"airport\", \"destinations\", \"forget\", \"online_shopping\", \"spread_gathering\", \"started\", \"goodfoods_sharethegoo\", \"morocco\", \"hong_kong\", \"holiday_meal\", \"online_shop\", \"buildings\", \"planning_breeze\", \"win_u\", \"w_enter\", \"like_post\", \"destinosin\", \"today_daily\", \"brasil\", \"norway\", \"social\", \"contact\", \"np\", \"right\", \"rent\", \"party\", \"love\", \"daily_thanks\", \"night\", \"photography_photooftheday\", \"latest\", \"travelphotography\", \"bali\", \"today\", \"luxurytravel\", \"holiday\", \"like\", \"place\", \"got\", \"photo\", \"lp\", \"photography\", \"thanks\", \"ad\", \"ttot\", \"christmas\", \"luxury\", \"winter\", \"shopping\", \"world\", \"cheap_flights\", \"frizemedia\", \"vantage_hospitality\", \"holid\", \"hark_hey\", \"holidays_nyc\", \"join_tiny\", \"tim_celebrate\", \"going_paris\", \"caribbean\", \"dream\", \"wanted\", \"million\", \"florida\", \"cambodia\", \"travelbloggers\", \"tourism_frizemedia\", \"jewelry\", \"money\", \"diy\", \"christmas_tree\", \"dinner\", \"guide_tips\", \"ways\", \"magical\", \"lifestyle\", \"mediterranean_coast\", \"edition\", \"lasvegas\", \"gt\", \"use\", \"viajar\", \"rt_viajes\", \"traveller_x\", \"de\", \"australia\", \"beauty\", \"days\", \"guide\", \"things\", \"tourism\", \"tips\", \"hotel\", \"storystream\", \"vacation\", \"rt\", \"holidays\", \"know\", \"book\", \"family\", \"holiday\", \"day\", \"fun\", \"looking\", \"hotels\", \"food\", \"traveller\", \"holiday_season\", \"adventure\", \"traveling\", \"christmas\", \"best\", \"city_reflexion\", \"nikon_nikon\", \"nikoncanada_vatican\", \"vatican_rome\", \"mm_store\", \"desert_retreat\", \"love_dragonfly\", \"pool_houses\", \"rent_pioneertown\", \"support_animal\", \"solution_emotional\", \"debate\", \"traveltips_joyforall\", \"recipe\", \"set\", \"chance\", \"little\", \"dogs\", \"value_inn\", \"americas_best\", \"beaches\", \"kyoto\", \"news_week\", \"spectacular_sunset\", \"spots_dubrovnik\", \"holiday_giveaways\", \"sex\", \"capital\", \"switzerland_familytravel\", \"visiting_glacier\", \"guest_room\", \"rent_hightown\", \"owl_house\", \"bed_breakfasts\", \"ready\", \"tokyo_japan\", \"h\", \"japan_japantravel\", \"online\", \"loyalty\", \"familytravel\", \"japan\", \"holiday\", \"paradise\", \"sweeps\", \"enter_chance\", \"holiday_payday\", \"argentina\", \"tis_season\", \"en_argentina\", \"mi_experiencia\", \"holiday_spirit\", \"holiday_yulelog\", \"noel_ganache\", \"buche_de\", \"cake_ganache\", \"ad_recipe\", \"gifts_prizes\", \"rsvp_twitterparty\", \"discover_sponsors\", \"celebrate\", \"planning\", \"periscope_christmas\", \"lights_extravaganza\", \"nyc_brooklyn\", \"house\", \"marketing\", \"tourist\", \"tree\", \"chance_win\", \"c\", \"change_lives\", \"check_unique\", \"drea\", \"win\", \"check\", \"rtw\", \"italy\", \"yummy\", \"way\", \"christmas\", \"holiday\", \"gift\", \"rt\", \"traveller\", \"photography\", \"winter\", \"trip\", \"vacation\", \"world\", \"france\", \"europe\", \"holiday_season\", \"campers_rvs\", \"crafted_gypsy\", \"love_hand\", \"rent_seattle\", \"wagon_heart\", \"jerusalem\", \"steemit\", \"cheer\", \"china\", \"islands\", \"shopping_lastminute\", \"chicken_casserole\", \"goodness_community\", \"healthy_broccoli\", \"simple_holiday\", \"israel_readon\", \"steemit_steemit\", \"thank\", \"conozcopablo\", \"venice\", \"mydayinla\", \"click\", \"wedding\", \"texas\", \"daily_news\", \"mondaymotivation\", \"central\", \"bloggers\", \"decor\", \"baby_prize\", \"post\", \"travelpics_travelblogger\", \"photography_helena\", \"reet_ennet\", \"beautiful_israel\", \"pro\", \"new_york\", \"travelers\", \"gift_ideas\", \"found\", \"cruise\", \"sale\", \"latest\", \"thanks\", \"visit\", \"familytravel\", \"ttot\", \"world\", \"holiday\"], \"Freq\": [1943.0, 1893.0, 1893.0, 1893.0, 1880.0, 1924.0, 929.0, 929.0, 929.0, 929.0, 695.0, 695.0, 695.0, 695.0, 745.0, 604.0, 604.0, 604.0, 604.0, 604.0, 528.0, 528.0, 528.0, 528.0, 528.0, 701.0, 700.0, 699.0, 499.0, 499.0, 1892.6665525323435, 1892.6665525323435, 1892.6665525323435, 1942.1679836243156, 700.1134037988116, 699.0722057532297, 699.1239497762981, 1877.632807969538, 447.020939825654, 447.020939825654, 447.020939825654, 447.020939825654, 1890.9439579039117, 31.929646428181417, 31.929679332265852, 25.541988267937157, 24.51543253992949, 22.66133908833798, 21.18479180215704, 19.544762922743935, 31.132629593204395, 31.132432168697775, 31.13233580673621, 17.31697190847509, 15.632635329076178, 15.023856885432345, 15.51903515270423, 14.68316329459092, 14.506964272723959, 14.93226131552746, 70.86606721849343, 98.05726460540153, 26.529157806874057, 28.059042613926945, 44.39263482890472, 25.18930818919378, 60.3085990030445, 24.042408122650503, 26.117276229353763, 498.17527217310607, 498.17527217310607, 498.17527217310607, 498.17527217310607, 498.21391291872925, 688.2660113649151, 688.2660113649151, 688.2660113649151, 688.2660113649151, 80.25011200302905, 80.2451712970047, 49.64887830652311, 41.47761421919602, 44.66251684013517, 34.79546909535373, 33.11589636139715, 33.11589636139715, 33.11589636139715, 29.915397332634903, 30.857422208697052, 29.178414829161166, 33.79346134428714, 27.033300382967255, 22.322945559278498, 20.757764918161545, 19.015778899707215, 17.876136536695835, 17.876136536695835, 17.876136536695835, 17.782644121951698, 18.55893412055563, 21.585760265632125, 26.336393519217058, 25.55985617805407, 29.827122155968706, 27.72286685698353, 56.97667046911309, 25.60277856164051, 44.60468476999207, 47.27791705957486, 55.42639490568523, 61.72982630954253, 28.311843260213244, 32.110152355028575, 31.707945700800995, 485.543793124796, 248.81589265406123, 242.10426072294914, 242.3708369388685, 51.098550834425474, 44.211377562557274, 37.30722920611249, 50.827458703245114, 35.36944112484462, 30.6620400795493, 29.192038005103434, 28.395075012403865, 26.569102334660926, 25.033076725313958, 24.91819226796716, 24.30867787402111, 24.72830428217192, 23.73387290844496, 23.263376132772837, 23.263383755857344, 23.263115423282756, 23.49546703900677, 28.53847437965149, 28.53847437965149, 19.787751197279523, 19.74773000362627, 19.6755226225744, 19.25324795486642, 18.888344621145936, 20.911553938147307, 684.3275892205656, 68.40890781525613, 288.33696317601806, 128.77526632637188, 52.32485204493571, 42.02435730723667, 166.73209210475972, 54.96406147618031, 31.104709547542974, 43.33527780499044, 27.08340745236857, 178.26552623495627, 37.000662288877884, 31.421024865243062, 27.485927658889306, 42.489853339473264, 51.37704650527746, 52.7525253810904, 45.10703510573111, 35.22787739634589, 45.25258113357545, 47.78444228881527, 37.62340425905767, 37.33735563607775, 34.04433254220943, 37.82866953091717, 169.17102035997712, 56.90617573687528, 42.64906619639295, 28.306791531490394, 27.020191310530606, 27.020191310530606, 27.020191310530606, 27.020191310530606, 26.764083174643744, 25.856134734187577, 25.46690613791915, 25.308354548448452, 24.776239772456698, 24.79429702859029, 24.762270560703517, 24.59408498105466, 25.064546068173897, 23.924671414020263, 25.803034560331128, 22.470325203991266, 21.757756274900547, 21.56549978078443, 25.209388944012684, 20.80175185148164, 20.373587666700896, 29.62812088834515, 19.70715946734039, 18.624625482028677, 19.6759233744352, 17.402708720704144, 32.72309018655371, 41.45652059824178, 36.211225154909016, 28.838101131470946, 61.81669557190312, 49.754495837959425, 34.90966109300573, 32.337493762953464, 62.80953679783455, 52.76160326415141, 95.32159686430506, 71.03873757333061, 66.24524651928397, 43.92017861996078, 114.70331425261745, 122.20364720520777, 54.86443290523243, 42.11791052712042, 46.28770395431284, 56.43626672816078, 176.33285968562257, 59.81025023569255, 45.777891369749035, 34.193590240307465, 38.92080524393198, 41.413067735490145, 57.167934905870176, 54.79022646314114, 48.244669448511445, 39.087337548572535, 47.50131141761, 41.86996367896476, 603.5517787528357, 603.5517787528357, 603.5517787528357, 603.5517787528357, 603.2746810521807, 926.0537986268557, 926.0537986268557, 926.0537986268557, 926.0537986268557, 53.28858382223074, 53.28851481234348, 53.28842279916046, 47.358848875541156, 29.51142844474247, 22.37836090532514, 20.461211604342918, 17.805213696207687, 15.603204519959343, 15.03934198360852, 15.039405242671844, 14.354858790558591, 14.86354073351305, 12.43945342693573, 12.135740913093063, 11.78457691322744, 11.435230173726397, 11.266831671745827, 10.703339344686047, 10.12511268784271, 10.125152224757286, 160.83211992132604, 160.83565092722432, 160.8344547558451, 160.79373892236018, 26.689309360906336, 12.971706559508318, 19.82219154993919, 54.26804115214871, 19.853340887802343, 27.442394132719215, 25.841422256466466, 24.607930905298986, 35.42253934810706, 17.670584032394277, 76.04591759190546, 68.55187770256163, 63.410194076992866, 59.92959754645171, 58.64879089673242, 51.299796392659566, 51.299796392659566, 58.32221082794746, 37.5864747504949, 37.586369977560324, 37.58634732395285, 37.58614344148556, 37.58616892679397, 31.05346601943118, 31.05346601943118, 30.66994044485184, 29.904693089188488, 29.879357860926813, 29.49396336373065, 25.709681066460607, 25.645585515806417, 25.034275086348632, 24.80104203887206, 25.303691608367256, 23.249663533152834, 42.66743254952162, 21.498426407171983, 20.971982054723522, 20.971982054723522, 20.971982054723522, 95.86536621754517, 76.07157280237276, 27.94311721778713, 64.29520256028235, 37.565684402233224, 44.057265348624064, 94.9529581960127, 170.42496929610525, 50.74303868170644, 99.26998821201158, 59.53586652170415, 61.67095769957275, 45.96668412051142, 45.910486183763766, 62.78667618480611, 51.78085707422953, 34.25429049763596, 35.83027648447667, 39.78013966219527, 527.5560428940637, 527.5560428940637, 527.5560428940637, 527.5560428940637, 527.5560428940637, 343.29055068710085, 96.65530255853584, 40.81606824687814, 40.748530806515056, 34.37991427689221, 34.497916126704624, 27.372862539357822, 27.372862539357822, 27.372862539357822, 27.372862539357822, 25.13954519351114, 24.133506708379382, 24.023731175019506, 23.47905663758619, 22.03260136609181, 21.828051308365104, 21.79761689176692, 19.711564844660806, 18.398513944968837, 18.935801448969986, 17.099898713227383, 17.087735152269637, 18.189689586675943, 16.854458786747823, 16.730886783385753, 124.58570685116901, 249.66354240843145, 250.35149128598684, 250.35149128598684, 200.21420078667643, 23.543717687181832, 55.278859138905545, 31.01466062144562, 35.81425298727798, 24.597781961018914, 33.8482627262295, 30.251933641053743, 49.78925527356692, 37.54777393735704, 30.260936126443532, 29.173010475579463, 30.921915147708855, 29.513909781370486, 30.745206457760567], \"Total\": [1943.0, 1893.0, 1893.0, 1893.0, 1880.0, 1924.0, 929.0, 929.0, 929.0, 929.0, 695.0, 695.0, 695.0, 695.0, 745.0, 604.0, 604.0, 604.0, 604.0, 604.0, 528.0, 528.0, 528.0, 528.0, 528.0, 701.0, 700.0, 699.0, 499.0, 499.0, 1893.5886275344978, 1893.5886275344978, 1893.5886275344978, 1943.134210403879, 701.0352928071495, 699.9940289610716, 700.0459313969691, 1880.9784269227055, 447.96717385749605, 447.96717385749605, 447.96717385749605, 447.96717385749605, 1924.438040696044, 32.851868943858875, 32.85192191229542, 26.47110316929954, 25.437897434442185, 23.58849651031733, 22.11510969710981, 20.4664195466772, 32.65246357323728, 32.65247789411313, 32.65247679447379, 18.25491713351665, 16.560496396091974, 15.954150141445169, 16.494226233603058, 15.611183708677316, 15.436654098118353, 16.031975539400026, 77.4263506092067, 125.72231762584622, 31.193471136459195, 36.540361522310086, 68.76008893324028, 36.71952282635531, 745.575686599085, 153.2272385541847, 679.038203561448, 499.0687275870984, 499.0687275870984, 499.0687275870984, 499.0687275870984, 499.1107166798675, 695.6074824286143, 695.6074824286143, 695.6074824286143, 695.6074824286143, 81.49227609805372, 81.48792094134912, 50.5430812473982, 42.371754407947016, 45.64277504299866, 35.68863220270578, 34.00921372966825, 34.00921372966825, 34.00921372966825, 30.809064792253086, 31.799133367546087, 30.071847005375098, 34.8485792804599, 27.927893564243185, 23.21988398942934, 21.65119641245927, 19.912726869885496, 18.769777653175872, 18.769777653175872, 18.769777653175872, 18.678588977584646, 19.495861682255146, 22.727051730034002, 27.849920167836054, 27.076180572470104, 32.47948397932824, 30.194026476084282, 68.97243326881251, 28.57869812245047, 65.61719527453656, 98.93372449410569, 143.46441653029183, 679.038203561448, 39.50108008386903, 171.73263834880305, 184.26097345142688, 487.6027426374571, 249.9182385223021, 243.54687096713613, 243.85381712557967, 51.963274231383146, 45.075559873015635, 38.17161161195501, 52.01613501435911, 36.23219980182762, 31.528700202438372, 30.05312462991716, 29.257945903827977, 27.430077585911118, 25.894963881863923, 25.781880896136165, 25.1703841557336, 25.625859113695903, 24.59806753129289, 24.124420121965976, 24.124459295118715, 24.12425625330992, 24.444271479330702, 29.723280616284107, 29.723280616284107, 20.648797358582307, 20.610316817802318, 20.540741164792202, 20.11465742682796, 19.749816581793137, 21.886259810969772, 745.575686599085, 73.37474538933587, 342.4024699229551, 155.6847632119855, 59.72413205532961, 47.546135717734906, 284.083192322327, 79.18820424316837, 36.46906446311881, 62.28224044011649, 30.475251227675688, 679.038203561448, 54.33102164602152, 40.45103619049616, 32.14209227357608, 90.65741344575775, 143.46441653029183, 171.73263834880305, 130.84851627026188, 59.70263409111213, 184.26097345142688, 237.1108823648408, 94.57854507079969, 97.5455077380846, 70.21901711303721, 169.85392952739664, 170.61508094699096, 57.770286495041184, 43.50904898345942, 29.172134317157848, 27.87895800511321, 27.87895800511321, 27.87895800511321, 27.87895800511321, 27.622727391445274, 26.71718231915158, 26.3271654812438, 26.168400187296363, 25.63466304162421, 25.653610124192486, 25.62096221050558, 25.455833378348785, 25.96212483217036, 24.784093749612385, 26.748756811406135, 23.33014007512595, 22.617461636151223, 22.425131675422517, 26.21799734675179, 21.661435781354264, 21.232812346800653, 30.926033706937176, 20.575527000719845, 19.48421223916464, 20.616347569169683, 18.26361045044458, 34.348727274423446, 44.67345611060457, 38.84624669338125, 31.065175696190074, 84.22719967185806, 64.99649523031067, 41.81622953629322, 38.14950124413716, 92.51600625103175, 73.43913760703842, 165.79760988041156, 111.31980568614169, 108.14645224465892, 59.65159628431379, 253.5006641800142, 302.4882565658803, 86.65324495359447, 58.609713538575626, 68.85459460388165, 98.12272982195498, 679.038203561448, 121.57694098927685, 75.45664844556315, 43.9693656828705, 58.72938238494766, 71.28228971002892, 152.0394748436366, 153.2272385541847, 117.98933805486189, 77.54103125399992, 237.1108823648408, 126.25520922767083, 604.9294617410715, 604.9294617410715, 604.9294617410715, 604.9294617410715, 604.6525005439464, 929.0434577976985, 929.0434577976985, 929.0434577976985, 929.0434577976985, 54.19540697976181, 54.195379044931116, 54.19529206013964, 48.26591073125255, 30.43800424815086, 23.29110460653112, 21.390852792693657, 18.716317888580978, 16.51218839921515, 15.97862064791173, 15.978732843093285, 15.264660588789734, 15.87712107888065, 13.345987863974212, 13.056678675698862, 12.70568816804252, 12.343382259392019, 12.176373037888608, 11.614142371818641, 11.032171320324819, 11.032334731339086, 178.96738034986376, 178.97229066031278, 178.9747759375593, 179.64101991228384, 29.598196089266416, 14.143982295377127, 23.699090853584355, 142.94508314560701, 30.673500461777074, 76.69619737030207, 68.71501919955558, 111.69858106667029, 679.038203561448, 47.35274184862823, 76.91717057586514, 69.42209762633735, 64.28047667566692, 60.800489153950544, 59.518106745899985, 52.16934585689371, 52.16934585689371, 59.61923471835044, 38.4550078569376, 38.45493468631707, 38.45491374167781, 38.45478466264232, 38.45482659546517, 31.922019381576145, 31.922019381576145, 31.538490021743723, 30.77419185472191, 30.750939798574738, 30.362744616579796, 26.578622336933055, 26.514853008724536, 25.90473904040683, 25.671358331127653, 26.196176176428978, 24.120367125011377, 44.26840444311228, 22.381520149954095, 21.840546671686134, 21.840546671686134, 21.840546671686134, 102.46860204790303, 80.98270512132481, 30.97634513107823, 90.21541803189749, 45.90651822408105, 65.78963901442934, 237.1108823648408, 679.038203561448, 86.0778112978342, 302.4882565658803, 152.0394748436366, 171.73263834880305, 97.5455077380846, 102.06718811352762, 253.5006641800142, 169.85392952739664, 49.172076736387595, 64.07998055756373, 153.2272385541847, 528.392129346843, 528.392129346843, 528.392129346843, 528.392129346843, 528.392129346843, 344.1342079476497, 97.48334596331767, 41.64717724628007, 41.579519692844045, 35.21094201933914, 35.38674191429384, 28.20077254550974, 28.20077254550974, 28.20077254550974, 28.20077254550974, 25.998946505555644, 24.96201148527252, 24.85652593353878, 24.30976643529346, 22.86416265444513, 22.65678337951491, 22.629420456336817, 20.543163094685347, 19.23495702776743, 19.85011087581285, 17.929621939602733, 17.918603186323033, 19.07492506199843, 17.688941099652503, 17.560261295016332, 131.6489926823008, 265.81325113875545, 266.5862078473445, 266.5862078473445, 214.903159835186, 24.77078888734141, 60.299959514019484, 33.707269379470006, 44.038335730661714, 26.656053837402602, 57.87947374522404, 50.16257982398338, 284.083192322327, 130.84851627026188, 81.87454933924386, 68.71501919955558, 184.26097345142688, 169.85392952739664, 679.038203561448], \"Category\": [\"Default\", \"Default\", \"Default\", \"Default\", \"Default\", \"Default\", \"Default\", \"Default\", \"Default\", \"Default\", \"Default\", \"Default\", \"Default\", \"Default\", \"Default\", \"Default\", \"Default\", \"Default\", \"Default\", \"Default\", \"Default\", \"Default\", \"Default\", \"Default\", \"Default\", \"Default\", \"Default\", \"Default\", \"Default\", \"Default\", \"Topic1\", \"Topic1\", \"Topic1\", \"Topic1\", \"Topic1\", \"Topic1\", \"Topic1\", \"Topic1\", \"Topic1\", \"Topic1\", \"Topic1\", \"Topic1\", \"Topic1\", \"Topic1\", \"Topic1\", \"Topic1\", \"Topic1\", \"Topic1\", \"Topic1\", \"Topic1\", \"Topic1\", \"Topic1\", \"Topic1\", \"Topic1\", \"Topic1\", \"Topic1\", \"Topic1\", \"Topic1\", \"Topic1\", \"Topic1\", \"Topic1\", \"Topic1\", \"Topic1\", \"Topic1\", \"Topic1\", \"Topic1\", \"Topic1\", \"Topic1\", \"Topic1\", \"Topic2\", \"Topic2\", \"Topic2\", \"Topic2\", \"Topic2\", \"Topic2\", \"Topic2\", \"Topic2\", \"Topic2\", \"Topic2\", \"Topic2\", \"Topic2\", \"Topic2\", \"Topic2\", \"Topic2\", \"Topic2\", \"Topic2\", \"Topic2\", \"Topic2\", \"Topic2\", \"Topic2\", \"Topic2\", \"Topic2\", \"Topic2\", \"Topic2\", \"Topic2\", \"Topic2\", \"Topic2\", \"Topic2\", \"Topic2\", \"Topic2\", \"Topic2\", \"Topic2\", \"Topic2\", \"Topic2\", \"Topic2\", \"Topic2\", \"Topic2\", \"Topic2\", \"Topic2\", \"Topic2\", \"Topic2\", \"Topic2\", \"Topic2\", \"Topic2\", \"Topic3\", \"Topic3\", \"Topic3\", \"Topic3\", \"Topic3\", \"Topic3\", \"Topic3\", \"Topic3\", \"Topic3\", \"Topic3\", \"Topic3\", \"Topic3\", \"Topic3\", \"Topic3\", \"Topic3\", \"Topic3\", \"Topic3\", \"Topic3\", \"Topic3\", \"Topic3\", \"Topic3\", \"Topic3\", \"Topic3\", \"Topic3\", \"Topic3\", \"Topic3\", \"Topic3\", \"Topic3\", \"Topic3\", \"Topic3\", \"Topic3\", \"Topic3\", \"Topic3\", \"Topic3\", \"Topic3\", \"Topic3\", \"Topic3\", \"Topic3\", \"Topic3\", \"Topic3\", \"Topic3\", \"Topic3\", \"Topic3\", \"Topic3\", \"Topic3\", \"Topic3\", \"Topic3\", \"Topic3\", \"Topic3\", \"Topic3\", \"Topic3\", \"Topic3\", \"Topic3\", \"Topic3\", \"Topic3\", \"Topic3\", \"Topic4\", \"Topic4\", \"Topic4\", \"Topic4\", \"Topic4\", \"Topic4\", \"Topic4\", \"Topic4\", \"Topic4\", \"Topic4\", \"Topic4\", \"Topic4\", \"Topic4\", \"Topic4\", \"Topic4\", \"Topic4\", \"Topic4\", \"Topic4\", \"Topic4\", \"Topic4\", \"Topic4\", \"Topic4\", \"Topic4\", \"Topic4\", \"Topic4\", \"Topic4\", \"Topic4\", \"Topic4\", \"Topic4\", \"Topic4\", \"Topic4\", \"Topic4\", \"Topic4\", \"Topic4\", \"Topic4\", \"Topic4\", \"Topic4\", \"Topic4\", \"Topic4\", \"Topic4\", \"Topic4\", \"Topic4\", \"Topic4\", \"Topic4\", \"Topic4\", \"Topic4\", \"Topic4\", \"Topic4\", \"Topic4\", \"Topic4\", \"Topic4\", \"Topic4\", \"Topic4\", \"Topic4\", \"Topic4\", \"Topic4\", \"Topic4\", \"Topic4\", \"Topic4\", \"Topic4\", \"Topic4\", \"Topic4\", \"Topic5\", \"Topic5\", \"Topic5\", \"Topic5\", \"Topic5\", \"Topic5\", \"Topic5\", \"Topic5\", \"Topic5\", \"Topic5\", \"Topic5\", \"Topic5\", \"Topic5\", \"Topic5\", \"Topic5\", \"Topic5\", \"Topic5\", \"Topic5\", \"Topic5\", \"Topic5\", \"Topic5\", \"Topic5\", \"Topic5\", \"Topic5\", \"Topic5\", \"Topic5\", \"Topic5\", \"Topic5\", \"Topic5\", \"Topic5\", \"Topic5\", \"Topic5\", \"Topic5\", \"Topic5\", \"Topic5\", \"Topic5\", \"Topic5\", \"Topic5\", \"Topic5\", \"Topic5\", \"Topic5\", \"Topic5\", \"Topic5\", \"Topic5\", \"Topic6\", \"Topic6\", \"Topic6\", \"Topic6\", \"Topic6\", \"Topic6\", \"Topic6\", \"Topic6\", \"Topic6\", \"Topic6\", \"Topic6\", \"Topic6\", \"Topic6\", \"Topic6\", \"Topic6\", \"Topic6\", \"Topic6\", \"Topic6\", \"Topic6\", \"Topic6\", \"Topic6\", \"Topic6\", \"Topic6\", \"Topic6\", \"Topic6\", \"Topic6\", \"Topic6\", \"Topic6\", \"Topic6\", \"Topic6\", \"Topic6\", \"Topic6\", \"Topic6\", \"Topic6\", \"Topic6\", \"Topic6\", \"Topic6\", \"Topic6\", \"Topic6\", \"Topic6\", \"Topic6\", \"Topic6\", \"Topic6\", \"Topic6\", \"Topic6\", \"Topic6\", \"Topic6\", \"Topic6\", \"Topic6\", \"Topic7\", \"Topic7\", \"Topic7\", \"Topic7\", \"Topic7\", \"Topic7\", \"Topic7\", \"Topic7\", \"Topic7\", \"Topic7\", \"Topic7\", \"Topic7\", \"Topic7\", \"Topic7\", \"Topic7\", \"Topic7\", \"Topic7\", \"Topic7\", \"Topic7\", \"Topic7\", \"Topic7\", \"Topic7\", \"Topic7\", \"Topic7\", \"Topic7\", \"Topic7\", \"Topic7\", \"Topic7\", \"Topic7\", \"Topic7\", \"Topic7\", \"Topic7\", \"Topic7\", \"Topic7\", \"Topic7\", \"Topic7\", \"Topic7\", \"Topic7\", \"Topic7\", \"Topic7\", \"Topic7\", \"Topic7\", \"Topic7\", \"Topic7\", \"Topic7\", \"Topic7\", \"Topic7\", \"Topic7\", \"Topic7\"], \"logprob\": [30.0, 29.0, 28.0, 27.0, 26.0, 25.0, 24.0, 23.0, 22.0, 21.0, 20.0, 19.0, 18.0, 17.0, 16.0, 15.0, 14.0, 13.0, 12.0, 11.0, 10.0, 9.0, 8.0, 7.0, 6.0, 5.0, 4.0, 3.0, 2.0, 1.0, -2.3671, -2.3671, -2.3671, -2.3413, -3.3616, -3.3631, -3.3631, -2.3751, -3.8103, -3.8103, -3.8103, -3.8103, -2.3681, -6.4494, -6.4493, -6.6726, -6.7136, -6.7922, -6.8596, -6.9402, -6.4746, -6.4746, -6.4746, -7.0612, -7.1635, -7.2032, -7.1708, -7.2262, -7.2383, -7.2094, -5.6521, -5.3273, -6.6346, -6.5786, -6.1198, -6.6865, -5.8134, -6.7331, -6.6503, -3.2768, -3.2768, -3.2768, -3.2768, -3.2767, -2.9535, -2.9535, -2.9535, -2.9535, -5.1026, -5.1026, -5.5827, -5.7626, -5.6886, -5.9382, -5.9877, -5.9877, -5.9877, -6.0893, -6.0583, -6.1143, -5.9674, -6.1906, -6.3821, -6.4548, -6.5424, -6.6042, -6.6042, -6.6042, -6.6095, -6.5668, -6.4157, -6.2168, -6.2467, -6.0923, -6.1655, -5.4451, -6.245, -5.6899, -5.6317, -5.4727, -5.3649, -6.1444, -6.0185, -6.0311, -3.2948, -3.9634, -3.9907, -3.9896, -5.5463, -5.6911, -5.8609, -5.5517, -5.9142, -6.0571, -6.1062, -6.1339, -6.2003, -6.2599, -6.2645, -6.2893, -6.2721, -6.3132, -6.3332, -6.3332, -6.3332, -6.3233, -6.1288, -6.1288, -6.495, -6.4971, -6.5007, -6.5224, -6.5415, -6.4398, -2.9517, -5.2546, -3.816, -4.622, -5.5226, -5.7418, -4.3637, -5.4734, -6.0427, -5.7111, -6.1812, -4.2968, -5.8692, -6.0326, -6.1664, -5.7308, -5.5409, -5.5145, -5.6711, -5.9183, -5.6678, -5.6134, -5.8525, -5.8601, -5.9524, -5.847, -4.3195, -5.4091, -5.6975, -6.1074, -6.1539, -6.1539, -6.1539, -6.1539, -6.1634, -6.1979, -6.2131, -6.2193, -6.2406, -6.2398, -6.2411, -6.248, -6.229, -6.2755, -6.2, -6.3383, -6.3705, -6.3794, -6.2232, -6.4154, -6.4362, -6.0617, -6.4695, -6.526, -6.4711, -6.5938, -5.9624, -5.7258, -5.8611, -6.0888, -5.3263, -5.5434, -5.8977, -5.9742, -5.3104, -5.4847, -4.8932, -5.1872, -5.2571, -5.6681, -4.7081, -4.6448, -5.4456, -5.71, -5.6156, -5.4173, -4.2781, -5.3593, -5.6267, -5.9184, -5.7889, -5.7269, -5.4045, -5.4469, -5.5742, -5.7847, -5.5897, -5.7159, -3.0186, -3.0186, -3.0186, -3.0186, -3.019, -2.5905, -2.5905, -2.5905, -2.5905, -5.4457, -5.4457, -5.4457, -5.5636, -6.0366, -6.3133, -6.4029, -6.5419, -6.6739, -6.7107, -6.7107, -6.7573, -6.7225, -6.9005, -6.9252, -6.9546, -6.9847, -6.9995, -7.0508, -7.1064, -7.1064, -4.341, -4.341, -4.341, -4.3413, -6.1371, -6.8586, -6.4346, -5.4275, -6.433, -6.1093, -6.1694, -6.2183, -5.854, -6.5495, -5.0747, -5.1785, -5.2565, -5.3129, -5.3345, -5.4684, -5.4684, -5.3401, -5.7794, -5.7794, -5.7794, -5.7794, -5.7794, -5.9704, -5.9704, -5.9828, -6.0081, -6.0089, -6.0219, -6.1592, -6.1617, -6.1858, -6.1952, -6.1751, -6.2598, -5.6526, -6.3381, -6.3629, -6.3629, -6.3629, -4.8431, -5.0744, -6.0759, -5.2426, -5.78, -5.6206, -4.8527, -4.2678, -5.4793, -4.8082, -5.3195, -5.2843, -5.5782, -5.5794, -5.2663, -5.4591, -5.8723, -5.8273, -5.7227, -3.0849, -3.0849, -3.0849, -3.0849, -3.0849, -3.5146, -4.782, -5.6441, -5.6457, -5.8157, -5.8122, -6.0436, -6.0436, -6.0436, -6.0436, -6.1287, -6.1695, -6.1741, -6.197, -6.2606, -6.2699, -6.2713, -6.3719, -6.4409, -6.4121, -6.5141, -6.5148, -6.4523, -6.5285, -6.5359, -4.5281, -3.833, -3.8303, -3.8303, -4.0538, -6.1943, -5.3408, -5.9187, -5.7748, -6.1505, -5.8313, -5.9436, -5.4453, -5.7275, -5.9433, -5.9799, -5.9217, -5.9683, -5.9274], \"loglift\": [30.0, 29.0, 28.0, 27.0, 26.0, 25.0, 24.0, 23.0, 22.0, 21.0, 20.0, 19.0, 18.0, 17.0, 16.0, 15.0, 14.0, 13.0, 12.0, 11.0, 10.0, 9.0, 8.0, 7.0, 6.0, 5.0, 4.0, 3.0, 2.0, 1.0, 1.5508, 1.5508, 1.5508, 1.5508, 1.55, 1.55, 1.55, 1.5495, 1.5492, 1.5492, 1.5492, 1.5492, 1.5337, 1.5228, 1.5228, 1.5156, 1.5144, 1.5112, 1.5083, 1.5052, 1.5036, 1.5036, 1.5036, 1.4986, 1.4936, 1.4912, 1.4904, 1.49, 1.4892, 1.4802, 1.4628, 1.3028, 1.3893, 1.2872, 1.1137, 1.1744, -0.9634, -0.3008, -1.7068, 1.9747, 1.9747, 1.9747, 1.9747, 1.9747, 1.9659, 1.9659, 1.9659, 1.9659, 1.9611, 1.9611, 1.9586, 1.9551, 1.9548, 1.9511, 1.9498, 1.9498, 1.9498, 1.947, 1.9464, 1.9463, 1.9457, 1.9439, 1.9371, 1.9343, 1.9304, 1.9277, 1.9277, 1.9277, 1.9273, 1.9272, 1.9249, 1.9206, 1.9188, 1.8913, 1.8911, 1.7854, 1.8665, 1.5905, 1.2381, 1.0254, -0.4214, 1.6434, 0.2997, 0.2167, 1.9799, 1.9797, 1.9782, 1.978, 1.9673, 1.9647, 1.9612, 1.961, 1.96, 1.9562, 1.955, 1.9542, 1.9522, 1.9502, 1.95, 1.9493, 1.9484, 1.9483, 1.9477, 1.9477, 1.9477, 1.9445, 1.9434, 1.9434, 1.9415, 1.9413, 1.9411, 1.9403, 1.9395, 1.9385, 1.8984, 1.914, 1.8122, 1.7943, 1.8518, 1.8606, 1.4512, 1.6189, 1.825, 1.6214, 1.8661, 0.6467, 1.5999, 1.7315, 1.8276, 1.2263, 0.9572, 0.8038, 0.9191, 1.4566, 0.58, 0.3823, 1.0623, 1.0238, 1.2601, 0.4822, 2.0052, 1.9987, 1.9938, 1.9836, 1.9824, 1.9824, 1.9824, 1.9824, 1.9821, 1.981, 1.9805, 1.9803, 1.9797, 1.9797, 1.9796, 1.9793, 1.9785, 1.9784, 1.9777, 1.9762, 1.975, 1.9746, 1.9745, 1.9732, 1.9724, 1.9709, 1.9706, 1.9686, 1.967, 1.9654, 1.9652, 1.939, 1.9435, 1.9393, 1.7044, 1.7465, 1.8332, 1.8484, 1.6265, 1.6831, 1.4602, 1.5645, 1.5236, 1.7076, 1.2207, 1.1074, 1.5567, 1.6833, 1.6166, 1.4606, 0.6654, 1.3044, 1.514, 1.7623, 1.6023, 1.4707, 1.0356, 0.9853, 1.1194, 1.3287, 0.406, 0.91, 2.0405, 2.0405, 2.0405, 2.0405, 2.0405, 2.0396, 2.0396, 2.0396, 2.0396, 2.0259, 2.0259, 2.0259, 2.0238, 2.0119, 2.0028, 1.9984, 1.9929, 1.9862, 1.9822, 1.9822, 1.9813, 1.9768, 1.9724, 1.9696, 1.9675, 1.9664, 1.9652, 1.9611, 1.957, 1.957, 1.9359, 1.9359, 1.9359, 1.932, 1.9393, 1.9563, 1.8642, 1.0743, 1.6078, 1.015, 1.0648, 0.5301, -0.9105, 1.0571, 2.0467, 2.0455, 2.0445, 2.0437, 2.0434, 2.0413, 2.0413, 2.0361, 2.0353, 2.0353, 2.0353, 2.0353, 2.0353, 2.0305, 2.0305, 2.0302, 2.0294, 2.0294, 2.0291, 2.0249, 2.0248, 2.0239, 2.0236, 2.0234, 2.0213, 2.0213, 2.0179, 2.0175, 2.0175, 2.0175, 1.9915, 1.9955, 1.9551, 1.7194, 1.8576, 1.6571, 1.143, 0.6757, 1.5296, 0.9439, 1.1205, 1.034, 1.3057, 1.2592, 0.6625, 0.8702, 1.6966, 1.4768, 0.7096, 2.1095, 2.1095, 2.1095, 2.1095, 2.1095, 2.1086, 2.1025, 2.0909, 2.0909, 2.0872, 2.0856, 2.0812, 2.0812, 2.0812, 2.0812, 2.0774, 2.0773, 2.077, 2.0763, 2.074, 2.0738, 2.0736, 2.0697, 2.0666, 2.0639, 2.0637, 2.0636, 2.0635, 2.0627, 2.0627, 2.0559, 2.0484, 2.0482, 2.0482, 2.0402, 2.0602, 2.0241, 2.0278, 1.9043, 2.0307, 1.5746, 1.6053, 0.3696, 0.8626, 1.1157, 1.2543, 0.3262, 0.361, -0.9839]}, \"token.table\": {\"Topic\": [1, 3, 5, 7, 6, 2, 1, 2, 3, 4, 5, 3, 1, 5, 6, 1, 2, 4, 7, 7, 3, 5, 7, 2, 1, 2, 3, 4, 5, 6, 7, 1, 5, 3, 7, 2, 3, 4, 5, 1, 2, 4, 5, 6, 1, 2, 3, 4, 5, 6, 7, 2, 2, 7, 1, 2, 4, 5, 3, 6, 3, 1, 6, 6, 4, 7, 5, 4, 2, 6, 7, 2, 5, 6, 6, 4, 6, 1, 6, 6, 7, 7, 7, 1, 2, 3, 4, 5, 6, 7, 4, 1, 5, 7, 1, 1, 1, 7, 3, 1, 7, 1, 2, 5, 7, 7, 1, 2, 3, 4, 6, 7, 1, 2, 3, 4, 6, 7, 1, 4, 5, 6, 1, 2, 3, 4, 5, 7, 2, 5, 7, 4, 5, 6, 3, 3, 1, 4, 6, 4, 5, 6, 4, 2, 3, 1, 4, 6, 6, 3, 2, 3, 4, 6, 7, 1, 3, 4, 6, 7, 1, 2, 5, 6, 7, 2, 2, 1, 4, 4, 1, 2, 4, 5, 3, 5, 7, 1, 1, 2, 5, 6, 7, 4, 1, 2, 3, 4, 5, 7, 1, 2, 4, 5, 6, 7, 2, 2, 3, 4, 7, 6, 1, 4, 3, 7, 1, 3, 4, 1, 2, 4, 5, 6, 1, 2, 3, 4, 5, 7, 4, 1, 5, 7, 4, 7, 1, 2, 4, 1, 2, 3, 4, 5, 6, 7, 5, 1, 3, 6, 1, 3, 4, 5, 6, 7, 6, 6, 1, 2, 3, 4, 6, 7, 4, 3, 1, 2, 3, 4, 5, 6, 7, 1, 4, 5, 6, 7, 6, 2, 1, 2, 7, 7, 2, 2, 3, 5, 6, 2, 3, 4, 5, 6, 7, 1, 2, 3, 4, 5, 6, 7, 7, 4, 4, 2, 1, 3, 4, 6, 7, 5, 4, 1, 2, 3, 4, 5, 6, 7, 4, 6, 2, 4, 6, 6, 1, 3, 5, 6, 3, 5, 1, 4, 6, 1, 2, 3, 4, 5, 6, 7, 2, 4, 5, 6, 7, 2, 4, 6, 1, 2, 3, 4, 5, 6, 1, 2, 3, 4, 5, 6, 7, 1, 2, 3, 4, 5, 6, 7, 3, 6, 4, 1, 1, 4, 6, 4, 2, 3, 6, 3, 4, 1, 5, 3, 7, 4, 3, 7, 2, 1, 2, 3, 5, 6, 7, 2, 4, 6, 1, 3, 7, 5, 1, 3, 4, 7, 5, 5, 6, 3, 3, 6, 5, 7, 3, 3, 1, 2, 4, 5, 6, 1, 3, 5, 2, 4, 5, 7, 1, 5, 7, 1, 3, 6, 1, 2, 3, 4, 6, 7, 2, 1, 1, 2, 3, 4, 5, 6, 7, 3, 7, 2, 3, 5, 1, 3, 5, 6, 3, 2, 4, 6, 4, 5, 6, 2, 3, 4, 6, 2, 3, 4, 6, 7, 2, 7, 1, 5, 5, 2, 1, 4, 1, 6, 7, 3, 7, 2, 1, 3, 1, 2, 4, 5, 6, 4, 5, 6, 7, 1, 3, 6, 1, 2, 3, 4, 5, 6, 7, 1, 3, 4, 6, 7, 3, 6, 7, 2, 7, 1, 5, 5, 2, 2, 1, 3, 4, 5, 6, 7, 7, 3, 5, 2, 2, 5, 5, 3, 3, 7, 7, 2, 4, 5, 6, 1, 5, 6, 5, 2, 7, 7, 1, 2, 3, 4, 5, 6, 7, 1, 2, 3, 4, 6, 4, 1, 2, 3, 4, 5, 7, 6, 1, 3, 4, 5, 1, 3, 5, 1, 2, 3, 5, 6, 3, 1, 2, 3, 4, 5, 6, 7, 4, 6, 4, 5, 7, 1, 2, 3, 4, 5, 6, 1, 2, 3, 4, 5, 6, 7, 1, 4, 6, 2, 5, 2, 3, 4, 5, 6, 3, 7, 2, 5, 6, 1, 2, 3, 4, 6, 2, 1, 2, 3, 4, 5, 6, 7, 2, 1, 2, 7, 1, 4, 6, 7, 1, 4, 1, 2, 3, 4, 5, 6, 7, 1, 5, 4, 5, 7, 1, 3, 4, 6, 7, 1, 4, 1, 4, 2, 3, 5, 6, 7, 5, 2, 3, 7, 4, 1, 2, 3, 5, 6, 7, 4, 7, 3, 6, 3, 2, 3, 6, 7, 2, 1, 3, 4, 5, 6, 1, 2, 3, 4, 5, 6, 7, 3, 1, 3, 7, 4, 6], \"Freq\": [0.26799487566298025, 0.5862387905127693, 0.03349935945787253, 0.11724775810255385, 0.9881724445087263, 0.9737393913866375, 0.050852052388073915, 0.16103149922890073, 0.27121094606972757, 0.4068164191045913, 0.10170410477614783, 0.9693067292032262, 0.9750515464154348, 0.9387477810221768, 0.9868341658909412, 0.046156334881899456, 0.09231266976379891, 0.7692722480316576, 0.09231266976379891, 0.9680949340329386, 0.8500355152063284, 0.10968200196210688, 0.02742050049052672, 0.9589884511473888, 0.9826245168776907, 0.0020785288564308634, 0.005196322141077159, 0.006235586569292591, 0.0010392644282154317, 0.0020785288564308634, 0.0005196322141077158, 0.9978409715846641, 0.9171510836134481, 0.06514562191983082, 0.9306517417118689, 0.0956566396434263, 0.04782831982171315, 0.8369955968799802, 0.023914159910856575, 0.005566657328533794, 0.022266629314135176, 0.07236654527093932, 0.8962318298939408, 0.005566657328533794, 0.03960232635616409, 0.087125117983561, 0.2217730275945189, 0.33265954139177834, 0.015840930542465635, 0.2851367497643814, 0.023761395813698453, 0.9589884511473888, 0.9703252848569136, 0.9436472196611705, 0.04357007716418791, 0.14523359054729304, 0.6680745165175479, 0.13071023149256372, 0.968579411802274, 0.9881702051203728, 0.9756864017658278, 0.9740678212200252, 0.9382740698264443, 0.988173522056304, 0.9757635093715972, 0.99925788193074, 0.9471211603786743, 0.9731565136403818, 0.9589884511473888, 0.974842820946308, 0.9487346654886477, 0.997858556290903, 0.9349790863331675, 0.9713474099853258, 0.9615143941073686, 0.9905337738139763, 0.0058611465906152444, 0.04939326235160176, 0.9384719846804335, 0.9615143941073686, 0.9844604775384176, 0.9574205797528432, 0.9860623764505922, 0.04639179733250024, 0.05060923345363663, 0.20243693381454653, 0.20243693381454653, 0.0590441056959094, 0.40065643150795666, 0.04217436121136386, 0.9726997818727683, 0.9608496242128266, 0.998463520460061, 0.9721857456512739, 0.9772104961684456, 0.9985231944557258, 0.9978409715846641, 0.9461218009321589, 0.9445848167743943, 0.9978409715846641, 0.99925788193074, 0.12094097522055665, 0.1900501039180176, 0.10366369304619141, 0.587427593928418, 0.95717349484185, 0.012846472311980422, 0.006423236155990211, 0.8285974641227372, 0.05138588924792169, 0.06423236155990211, 0.03853941693594126, 0.04112621981861678, 0.12337865945585033, 0.13160390341957368, 0.4935146378234013, 0.06580195170978684, 0.13160390341957368, 0.052425324965614355, 0.8388051994498297, 0.07863798744842154, 0.026212662482807177, 0.023745298523420326, 0.05936324630855081, 0.08310854483197114, 0.7361042542260301, 0.011872649261710163, 0.08310854483197114, 0.997858556290903, 0.9779447251836332, 0.9610524397265342, 0.002152751825776814, 0.996724095334665, 0.001076375912888407, 0.9804650035209536, 0.975666191574834, 0.9978409715846641, 0.9810421770727682, 0.9829259415599013, 0.94298619421732, 0.968981192145343, 0.9615143941073686, 0.9495895035798932, 0.9602536048395127, 0.036932830955365877, 0.9312559391895251, 0.9751484826165391, 0.9775855756347538, 0.9939198376198703, 0.976138735136166, 0.09363298721057095, 0.09363298721057095, 0.15605497868428492, 0.5617979232634257, 0.09363298721057095, 0.0407652743381483, 0.17325241593713028, 0.5707138407340762, 0.1936350531062044, 0.010191318584537075, 0.014552859209656854, 0.058211436838627416, 0.3783743394510782, 0.1309757328869117, 0.42203291708004875, 0.9756495301105227, 0.9748693350127059, 0.9493919923785548, 0.030625548141243703, 0.9745217097699593, 0.028057460108757055, 0.26654587103319205, 0.5751779322295196, 0.11222984043502822, 0.9659915818369531, 0.03751493023310314, 0.9378732558275786, 0.9996891470903772, 0.040673490581291424, 0.18303070761581142, 0.020336745290645712, 0.6914493398819542, 0.06101023587193714, 0.9866663895615733, 0.03975792805274537, 0.10602114147398764, 0.21204228294797528, 0.609621563475429, 0.013252642684248455, 0.02650528536849691, 0.058086978799910594, 0.11617395759982119, 0.20911312367967813, 0.01161739575998212, 0.592487183759088, 0.01161739575998212, 0.9636702227133436, 0.022707488450880525, 0.04541497690176105, 0.11353744225440263, 0.8174695842316989, 0.9711165083087353, 0.9700364099168114, 0.9774559773689063, 0.9843209489814926, 0.9574205797528432, 0.12444740578659803, 0.8400199890595367, 0.9308126696047757, 0.0055876104240063056, 0.022350441696025222, 0.06705132508807567, 0.8996052782650152, 0.0055876104240063056, 0.07566258298057407, 0.07566258298057407, 0.054044702128981485, 0.6809632468251666, 0.07566258298057407, 0.03242682127738889, 0.9535434636504496, 0.04219571148016235, 0.843914229603247, 0.12658713444048705, 0.9684723509052239, 0.9574205797528432, 0.06998219413042006, 0.9097685236954608, 0.9598200699196545, 0.038289450967020876, 0.09130561384443439, 0.26213547200498905, 0.25919012962291055, 0.05154349168637425, 0.25035410247667494, 0.045652806922217196, 0.8911657898004539, 0.9740693917501422, 0.9535015378195173, 0.9800798509611607, 0.1566301150269248, 0.16315636981971335, 0.35894401360336936, 0.05221003834230827, 0.26105019171154137, 0.013052509585577068, 0.9728403974656848, 0.9881677866604437, 0.046160994918795314, 0.023080497459397657, 0.1615634822157836, 0.6347136801334355, 0.1154024872969883, 0.011540248729698829, 0.9684723509052239, 0.969673240703965, 0.04623360171527899, 0.10171392377361378, 0.10171392377361378, 0.6102835426416827, 0.027740161029167393, 0.10171392377361378, 0.018493440686111598, 0.017027252107733724, 0.6640628322016153, 0.11919076475413608, 0.187299773185071, 0.017027252107733724, 0.9650743812166724, 0.9541636423856225, 0.03311913370653191, 0.9273357437828936, 0.965608928648542, 0.9615774237105268, 0.9745657980992719, 0.12193037775550436, 0.1330149575514593, 0.022169159591909883, 0.7094131069411163, 0.053715991221220075, 0.17905330407073358, 0.2775326213096371, 0.22381663008841698, 0.23276929529195367, 0.044763326017683396, 0.013991387153643864, 0.05596554861457546, 0.11892679080597285, 0.16090095226690443, 0.37776745314838434, 0.16789664584372638, 0.10493540365232898, 0.9967041697063076, 0.9683630251913227, 0.9684723509052239, 0.9892550823179947, 0.01706201821549293, 0.10237210929295759, 0.7166047650507031, 0.1535581639394364, 0.01706201821549293, 0.9447556597620601, 0.9701039397448175, 0.010560286849340014, 0.0246406693151267, 0.5878559679465941, 0.10208277287695347, 0.021120573698680027, 0.08096219917827344, 0.17600478082233356, 0.9700564994621521, 0.0323352166487384, 0.9890635414069242, 0.008625554140176664, 0.0014375923566961107, 0.978229784463696, 0.03681138214242385, 0.6810105696348412, 0.09202845535605962, 0.16565121964090732, 0.9409157486836156, 0.961727627579033, 0.949577021666072, 0.7732656469330339, 0.20468796536462663, 0.026284857121577174, 0.026284857121577174, 0.8411154278904696, 0.014602698400876206, 0.011682158720700966, 0.06425187296385532, 0.014602698400876206, 0.997858556290903, 0.002152751825776814, 0.996724095334665, 0.001076375912888407, 0.99925788193074, 0.9890635414069242, 0.008625554140176664, 0.0014375923566961107, 0.01303845606806075, 0.1303845606806075, 0.0782307364083645, 0.24773066529315424, 0.3520383138376402, 0.1825383849528505, 0.02091110863972715, 0.3833703250616644, 0.35548884687536153, 0.013940739093151433, 0.06273332591918145, 0.0836444345589086, 0.07667406501233288, 0.010573222491966006, 0.07401255744376205, 0.40178245469470825, 0.23261089482325215, 0.03171966747589802, 0.13745189239555808, 0.11630544741162607, 0.8859648046307266, 0.0984405338478585, 0.9419383392710852, 0.9356301700396278, 0.9493923767947582, 0.030625560541766392, 0.9738479622905812, 0.9720285657470785, 0.9335753870500307, 0.035906745655770414, 0.9775855756347538, 0.9923978342950236, 0.9752419978919294, 0.9985799465139052, 0.9972670243777049, 0.9936485697352898, 0.9481516150907011, 0.9720077902429151, 0.9654386897024896, 0.9710116229425251, 0.9703252848569136, 0.01010777674765068, 0.47506550713958196, 0.3133410791771711, 0.01010777674765068, 0.14150887446710952, 0.03032333024295204, 0.9890635414069242, 0.008625554140176664, 0.0014375923566961107, 0.06633503624608598, 0.016583759061521496, 0.9121067483836823, 0.8991466291073489, 0.9996891470903772, 0.8706698316155717, 0.08371825303995882, 0.03348730121598353, 0.998463520460061, 0.998463520460061, 0.9881696669093826, 0.9703878002847995, 0.9620342508656827, 0.9805824679263684, 0.6520286142405703, 0.3260143071202852, 0.9755770485227787, 0.9832311449871478, 0.005587379533017993, 0.022349518132071974, 0.06704855439621592, 0.8995681048158969, 0.005587379533017993, 0.0020508498262150282, 0.9967130155405037, 0.0020508498262150282, 0.23229911448767906, 0.3801258237071112, 0.3801258237071112, 0.02111810131706173, 0.6808367341325127, 0.05446693873060102, 0.24510122428770456, 0.05451466957432675, 0.9267493827635547, 0.9551178711348888, 0.011030537514709938, 0.09927483763238944, 0.4632825756178174, 0.16545806272064906, 0.19854967526477887, 0.06618322508825962, 0.9816881283784714, 0.9401942357953302, 0.01164600986294659, 0.18633615780714544, 0.3086192613680846, 0.06405305424620625, 0.02329201972589318, 0.36102630575134426, 0.04658403945178636, 0.06001810869811425, 0.9377829484080351, 0.08412881382719781, 0.883352545185577, 0.021032203456799452, 0.12360622794564491, 0.7663586132629984, 0.09888498235651592, 0.9755799398817222, 0.9533907917255114, 0.9890635414069242, 0.008625554140176664, 0.0014375923566961107, 0.002152751825776814, 0.996724095334665, 0.001076375912888407, 0.7088413770091897, 0.02531576346461392, 0.05063152692922784, 0.17721034425229742, 0.007595956335292511, 0.015191912670585022, 0.007595956335292511, 0.015191912670585022, 0.9494945419115638, 0.04037013130861686, 0.9688831514068046, 0.06757168558408484, 0.9122177553851455, 0.9856099550883837, 0.9680094128059208, 0.9493919604058271, 0.03062554710986539, 0.7662759434633486, 0.19156898586583715, 0.027366997980833876, 0.06001810869811425, 0.9377829484080351, 0.9643571276089722, 0.08047472721875858, 0.9174118902938478, 0.0055874571214936716, 0.022349828485974686, 0.06704948545792407, 0.8995805965604812, 0.0055874571214936716, 0.002152751825776814, 0.996724095334665, 0.001076375912888407, 0.99925788193074, 0.9996891470903772, 0.9595061093752728, 0.9711165083087353, 0.029753221173529586, 0.09256557698431427, 0.11240105776666733, 0.4033214425745122, 0.01652956731862755, 0.32728543290882545, 0.01652956731862755, 0.025742512729560133, 0.025742512729560133, 0.9267304582641648, 0.025742512729560133, 0.025742512729560133, 0.0645653963221575, 0.9039155485102052, 0.03228269816107875, 0.37876839801042, 0.5980553652796106, 0.9994162984739776, 0.9445666219639459, 0.9033888799047017, 0.9667753831090509, 0.985917266371444, 0.1851350322815378, 0.48419931519786813, 0.2563408139282831, 0.05696462531739625, 0.014241156329349063, 0.9608118227540554, 0.9574205797528432, 0.973674700418354, 0.9779431555605492, 0.9474638206640187, 0.997858556290903, 0.9190698720597639, 0.9444588786762865, 0.964957898957741, 0.9570049822375468, 0.9950417585840811, 0.9614609789823988, 0.03352802145423772, 0.7376164719932299, 0.20116812872542633, 0.01676401072711886, 0.9661546138058855, 0.9779426514832112, 0.9880758669488432, 0.9064398756731391, 0.9977746086334188, 0.935796215921634, 0.9655412049202309, 0.007642425214318394, 0.053496976500228756, 0.3439091346443277, 0.15284850428636787, 0.045854551285910365, 0.10699395300045751, 0.290412158144099, 0.027233435265834598, 0.027233435265834598, 0.10893374106333839, 0.7216860345446169, 0.10893374106333839, 0.9684723509052239, 0.008983127430346304, 0.06288189201242414, 0.26949382291038915, 0.6378020475545877, 0.01796625486069261, 0.008983127430346304, 0.9912949726692092, 0.048167824066709004, 0.6904054782894957, 0.19267129626683602, 0.048167824066709004, 0.9827856277992031, 0.975666191574834, 0.9191187975573873, 0.639906094983675, 0.07271660170269034, 0.14543320340538068, 0.029086640681076137, 0.08725992204322841, 0.9963258442931922, 0.04825160028404712, 0.09650320056809424, 0.042220150248541234, 0.5729877533730595, 0.018094350106517672, 0.20506930120720027, 0.02412580014202356, 0.9629412138494086, 0.9543377564583153, 0.9820931661684865, 0.05933438207302946, 0.9196829221319567, 0.025792795990146583, 0.09027478596551304, 0.18054957193102608, 0.5029595218078584, 0.012896397995073292, 0.18054957193102608, 0.01973171772058091, 0.07892687088232364, 0.09865858860290455, 0.3749026366910373, 0.01973171772058091, 0.3946343544116182, 0.01973171772058091, 0.982203115363703, 0.933521196970299, 0.06438077220484821, 0.9236599946936864, 0.0615773329795791, 0.1389095775706895, 0.6945478878534475, 0.012628143415517226, 0.025256286831034452, 0.12628143415517226, 0.05643059529853892, 0.9405099216423154, 0.9817405951193668, 0.9737721569514928, 0.953550992022438, 0.019594935815959127, 0.1861518902516117, 0.16655695443565258, 0.17635442234363213, 0.4506835237670599, 0.9703252848569136, 0.054270851893855346, 0.17366672606033712, 0.24421883352234905, 0.18994798162849372, 0.01085417037877107, 0.16281255568156605, 0.16823964087095158, 0.967625734947389, 0.27431833873254696, 0.6857958468313674, 0.030479815414727444, 0.9984165544484324, 0.0005316382079065135, 0.0005316382079065135, 0.0005316382079065135, 0.029113160205636333, 0.9607342867859989, 0.03550286556097139, 0.0986190710026983, 0.07100573112194278, 0.4536477266124122, 0.05522667976151105, 0.24852005892679974, 0.04339239124118725, 0.9985059103266526, 0.9387543725159012, 0.9883001583497505, 0.998463520460061, 0.9622044914784087, 0.02238465717817208, 0.02238465717817208, 0.9177709443050553, 0.02238465717817208, 0.02238465717817208, 0.9170004713041126, 0.07749299757499542, 0.7794956524079618, 0.20680496900619397, 0.13435188454500005, 0.2320623460322728, 0.02442761537181819, 0.2442761537181819, 0.36641423057727285, 0.9064264494797664, 0.9699233058509166, 0.9533972678160526, 0.99925788193074, 0.955350721521617, 0.9717131643073107, 0.09119977081321343, 0.15199961802202236, 0.030399923604404473, 0.6687983192968985, 0.04559988540660671, 0.9694648227370222, 0.9735599093390896, 0.05855452187388153, 0.9368723499821044, 0.953389243615245, 0.8264171249091465, 0.07249273025518829, 0.05799418420415063, 0.028997092102075316, 0.9807044383546429, 0.010251625350959867, 0.3793101379855151, 0.12301950421151842, 0.010251625350959867, 0.47157476614415395, 0.03532446977643946, 0.07653635118228548, 0.2237216419174499, 0.15307270236457096, 0.02943705814703288, 0.3061454047291419, 0.17662234888219727, 0.9814624030985065, 0.8655657423274761, 0.09617397136971956, 0.032057990456573184, 0.15248379251572233, 0.827769159371064], \"Term\": [\"ad\", \"ad\", \"ad\", \"ad\", \"ad_recipe\", \"addicts_stop\", \"adventure\", \"adventure\", \"adventure\", \"adventure\", \"adventure\", \"airport\", \"america\", \"americas_best\", \"argentina\", \"australia\", \"australia\", \"australia\", \"australia\", \"baby_prize\", \"bali\", \"bali\", \"bali\", \"bars_rotterdam\", \"beach\", \"beach\", \"beach\", \"beach\", \"beach\", \"beach\", \"beach\", \"beach_condominiums\", \"beaches\", \"beautiful_israel\", \"beautiful_israel\", \"beauty\", \"beauty\", \"beauty\", \"beauty\", \"bed_breakfasts\", \"bed_breakfasts\", \"bed_breakfasts\", \"bed_breakfasts\", \"bed_breakfasts\", \"best\", \"best\", \"best\", \"best\", \"best\", \"best\", \"best\", \"best_cocktail\", \"best_wine\", \"bloggers\", \"book\", \"book\", \"book\", \"book\", \"brasil\", \"buche_de\", \"buildings\", \"bundle_check\", \"c\", \"cake_ganache\", \"cambodia\", \"campers_rvs\", \"capital\", \"caribbean\", \"causing_stir\", \"celebrate\", \"central\", \"chalets_rent\", \"chance\", \"chance_win\", \"change_lives\", \"cheap_flights\", \"cheap_flights\", \"check\", \"check\", \"check_unique\", \"cheer\", \"chicken_casserole\", \"china\", \"christmas\", \"christmas\", \"christmas\", \"christmas\", \"christmas\", \"christmas\", \"christmas\", \"christmas_tree\", \"cities\", \"city_reflexion\", \"click\", \"clownfish_redsea\", \"condo\", \"condo_steps\", \"conozcopablo\", \"contact\", \"cozy_san\", \"crafted_gypsy\", \"cruise\", \"cruise\", \"cruise\", \"cruise\", \"daily_news\", \"daily_thanks\", \"daily_thanks\", \"daily_thanks\", \"daily_thanks\", \"daily_thanks\", \"daily_thanks\", \"day\", \"day\", \"day\", \"day\", \"day\", \"day\", \"days\", \"days\", \"days\", \"days\", \"de\", \"de\", \"de\", \"de\", \"de\", \"de\", \"de_celeste\", \"debate\", \"decor\", \"desert_retreat\", \"desert_retreat\", \"desert_retreat\", \"destinations\", \"destinosin\", \"diego\", \"dinner\", \"discover_sponsors\", \"diy\", \"dogs\", \"drea\", \"dream\", \"drone_cameras\", \"drone_cameras\", \"easy\", \"edition\", \"en_argentina\", \"enter_chance\", \"enter_win\", \"europe\", \"europe\", \"europe\", \"europe\", \"europe\", \"family\", \"family\", \"family\", \"family\", \"family\", \"familytravel\", \"familytravel\", \"familytravel\", \"familytravel\", \"familytravel\", \"favorite\", \"feature\", \"fish_fishtank\", \"fish_fishtank\", \"florida\", \"food\", \"food\", \"food\", \"food\", \"forget\", \"found\", \"found\", \"found_mission\", \"france\", \"france\", \"france\", \"france\", \"france\", \"frizemedia\", \"fun\", \"fun\", \"fun\", \"fun\", \"fun\", \"fun\", \"gift\", \"gift\", \"gift\", \"gift\", \"gift\", \"gift\", \"gift_guide\", \"gift_ideas\", \"gift_ideas\", \"gift_ideas\", \"gift_ideas\", \"gifts_prizes\", \"giving\", \"going_paris\", \"goodfoods_sharethegoo\", \"goodness_community\", \"got\", \"got\", \"gt\", \"guest_room\", \"guest_room\", \"guest_room\", \"guest_room\", \"guest_room\", \"guide\", \"guide\", \"guide\", \"guide\", \"guide\", \"guide\", \"guide_tips\", \"h\", \"h\", \"h\", \"hark_hey\", \"healthy_broccoli\", \"history\", \"history\", \"holid\", \"holiday\", \"holiday\", \"holiday\", \"holiday\", \"holiday\", \"holiday\", \"holiday\", \"holiday_giveaways\", \"holiday_lip\", \"holiday_meal\", \"holiday_payday\", \"holiday_season\", \"holiday_season\", \"holiday_season\", \"holiday_season\", \"holiday_season\", \"holiday_season\", \"holiday_spirit\", \"holiday_yulelog\", \"holidays\", \"holidays\", \"holidays\", \"holidays\", \"holidays\", \"holidays\", \"holidays_nyc\", \"hong_kong\", \"hotel\", \"hotel\", \"hotel\", \"hotel\", \"hotel\", \"hotel\", \"hotel\", \"hotels\", \"hotels\", \"hotels\", \"hotels\", \"hotels\", \"house\", \"inn\", \"instagram\", \"instagram\", \"islands\", \"israel_readon\", \"istanbul\", \"italy\", \"italy\", \"italy\", \"italy\", \"japan\", \"japan\", \"japan\", \"japan\", \"japan\", \"japan\", \"japan_japantravel\", \"japan_japantravel\", \"japan_japantravel\", \"japan_japantravel\", \"japan_japantravel\", \"japan_japantravel\", \"japan_japantravel\", \"jerusalem\", \"jewelry\", \"join_tiny\", \"keukenhof\", \"know\", \"know\", \"know\", \"know\", \"know\", \"kyoto\", \"lasvegas\", \"latest\", \"latest\", \"latest\", \"latest\", \"latest\", \"latest\", \"latest\", \"lifestyle\", \"lifestyle\", \"lighthouses_rent\", \"lighthouses_rent\", \"lighthouses_rent\", \"lights_extravaganza\", \"like\", \"like\", \"like\", \"like\", \"like_post\", \"little\", \"live\", \"looking\", \"looking\", \"love\", \"love\", \"love\", \"love\", \"love\", \"love\", \"love\", \"love_chalet\", \"love_dragonfly\", \"love_dragonfly\", \"love_dragonfly\", \"love_hand\", \"love_wings\", \"love_wings\", \"love_wings\", \"loyalty\", \"loyalty\", \"loyalty\", \"loyalty\", \"loyalty\", \"loyalty\", \"lp\", \"lp\", \"lp\", \"lp\", \"lp\", \"lp\", \"lp\", \"luxury\", \"luxury\", \"luxury\", \"luxury\", \"luxury\", \"luxury\", \"luxury\", \"luxurytravel\", \"luxurytravel\", \"magical\", \"making\", \"marinelife_ocean\", \"marinelife_ocean\", \"marketing\", \"mediterranean_coast\", \"memories_win\", \"memories_win\", \"mi_experiencia\", \"mid_century\", \"million\", \"mission_beach\", \"mm_store\", \"modern_houses\", \"mondaymotivation\", \"money\", \"morocco\", \"mydayinla\", \"napa_thrillist\", \"nature\", \"nature\", \"nature\", \"nature\", \"nature\", \"nature\", \"neck_lighthouse\", \"neck_lighthouse\", \"neck_lighthouse\", \"new_york\", \"new_york\", \"new_york\", \"news_week\", \"nice_vacation\", \"night\", \"night\", \"night\", \"nikon_nikon\", \"nikoncanada_vatican\", \"noel_ganache\", \"norway\", \"np\", \"nyc_brooklyn\", \"online\", \"online\", \"online_shop\", \"online_shopping\", \"owl_house\", \"owl_house\", \"owl_house\", \"owl_house\", \"owl_house\", \"palm_springs\", \"palm_springs\", \"palm_springs\", \"paradise\", \"paradise\", \"paradise\", \"paradise\", \"paris\", \"paris\", \"paris\", \"party\", \"party\", \"periscope_christmas\", \"photo\", \"photo\", \"photo\", \"photo\", \"photo\", \"photo\", \"photo_popular\", \"photo_proof\", \"photography\", \"photography\", \"photography\", \"photography\", \"photography\", \"photography\", \"photography\", \"photography_helena\", \"photography_helena\", \"photography_photooftheday\", \"photography_photooftheday\", \"photography_photooftheday\", \"place\", \"place\", \"place\", \"planning\", \"planning_breeze\", \"pocasset\", \"pocasset\", \"pocasset\", \"pool_houses\", \"pool_houses\", \"pool_houses\", \"popular\", \"popular\", \"popular\", \"popular\", \"post\", \"post\", \"post\", \"post\", \"post\", \"pro\", \"pro\", \"ready\", \"ready\", \"recipe\", \"recipes\", \"reef_coral\", \"reef_coral\", \"reeftank_reefcandy\", \"reeftank_reefcandy\", \"reeftank_reefcandy\", \"reet_ennet\", \"reet_ennet\", \"related_project\", \"rent\", \"rent\", \"rent_hightown\", \"rent_hightown\", \"rent_hightown\", \"rent_hightown\", \"rent_hightown\", \"rent_pioneertown\", \"rent_pioneertown\", \"rent_pioneertown\", \"rent_seattle\", \"rental_condo\", \"right\", \"rsvp_twitterparty\", \"rt\", \"rt\", \"rt\", \"rt\", \"rt\", \"rt\", \"rt\", \"rt_viajes\", \"rt_viajes\", \"rt_viajes\", \"rt_viajes\", \"rt_viajes\", \"rtw\", \"rtw\", \"rtw\", \"sale\", \"sale\", \"san_diego\", \"set\", \"sex\", \"shadowfax_marcwainwright\", \"shop\", \"shopping\", \"shopping\", \"shopping\", \"shopping\", \"shopping\", \"shopping_lastminute\", \"simple_holiday\", \"social\", \"solution_emotional\", \"south\", \"south_lake\", \"spectacular_sunset\", \"spots_dubrovnik\", \"spread_gathering\", \"started\", \"steemit\", \"steemit_steemit\", \"storystream\", \"storystream\", \"storystream\", \"storystream\", \"sup\", \"support_animal\", \"sweeps\", \"switzerland_familytravel\", \"tahoe\", \"texas\", \"thank\", \"thanks\", \"thanks\", \"thanks\", \"thanks\", \"thanks\", \"thanks\", \"thanks\", \"things\", \"things\", \"things\", \"things\", \"things\", \"tim_celebrate\", \"tips\", \"tips\", \"tips\", \"tips\", \"tips\", \"tips\", \"tis_season\", \"today\", \"today\", \"today\", \"today\", \"today_beautyreview\", \"today_daily\", \"tokyo_japan\", \"tour\", \"tour\", \"tour\", \"tour\", \"tour\", \"touri\", \"tourism\", \"tourism\", \"tourism\", \"tourism\", \"tourism\", \"tourism\", \"tourism\", \"tourism_frizemedia\", \"tourist\", \"travelbloggers\", \"travelers\", \"travelers\", \"traveling\", \"traveling\", \"traveling\", \"traveling\", \"traveling\", \"traveling\", \"traveller\", \"traveller\", \"traveller\", \"traveller\", \"traveller\", \"traveller\", \"traveller\", \"traveller_video\", \"traveller_x\", \"traveller_x\", \"travelling\", \"travelling\", \"travelphotography\", \"travelphotography\", \"travelphotography\", \"travelphotography\", \"travelphotography\", \"travelpics_travelblogger\", \"travelpics_travelblogger\", \"travelpix\", \"traveltips_joyforall\", \"tree\", \"trip\", \"trip\", \"trip\", \"trip\", \"trip\", \"trips_california\", \"ttot\", \"ttot\", \"ttot\", \"ttot\", \"ttot\", \"ttot\", \"ttot\", \"tulip_rainbow\", \"tulipsinholland_spring\", \"tulipsinholland_spring\", \"tulipsinholland_spring\", \"usa\", \"usa\", \"usa\", \"usa\", \"use\", \"use\", \"vacation\", \"vacation\", \"vacation\", \"vacation\", \"vacation\", \"vacation\", \"vacation\", \"vacation_rental\", \"value_inn\", \"vantage_hospitality\", \"vatican_rome\", \"venice\", \"viajar\", \"viajar\", \"viajar\", \"viajar\", \"viajar\", \"viet_bamboo\", \"viet_bamboo\", \"vietnam\", \"vietnam\", \"visit\", \"visit\", \"visit\", \"visit\", \"visit\", \"visiting_glacier\", \"voyager\", \"w_enter\", \"wagon_heart\", \"wanted\", \"water_warrior\", \"way\", \"way\", \"way\", \"way\", \"way\", \"ways\", \"wedding\", \"win\", \"win\", \"win_u\", \"wine\", \"wine\", \"wine\", \"wine\", \"wine_winelover\", \"winter\", \"winter\", \"winter\", \"winter\", \"winter\", \"world\", \"world\", \"world\", \"world\", \"world\", \"world\", \"world\", \"year\", \"youtube\", \"youtube\", \"youtube\", \"yummy\", \"yummy\"]}, \"R\": 30, \"lambda.step\": 0.01, \"plot.opts\": {\"xlab\": \"PC1\", \"ylab\": \"PC2\"}, \"topic.order\": [1, 6, 5, 2, 4, 3, 7]};\n",
       "\n",
       "function LDAvis_load_lib(url, callback){\n",
       "  var s = document.createElement('script');\n",
       "  s.src = url;\n",
       "  s.async = true;\n",
       "  s.onreadystatechange = s.onload = callback;\n",
       "  s.onerror = function(){console.warn(\"failed to load library \" + url);};\n",
       "  document.getElementsByTagName(\"head\")[0].appendChild(s);\n",
       "}\n",
       "\n",
       "if(typeof(LDAvis) !== \"undefined\"){\n",
       "   // already loaded: just create the visualization\n",
       "   !function(LDAvis){\n",
       "       new LDAvis(\"#\" + \"ldavis_el79669129979045284588674659\", ldavis_el79669129979045284588674659_data);\n",
       "   }(LDAvis);\n",
       "}else if(typeof define === \"function\" && define.amd){\n",
       "   // require.js is available: use it to load d3/LDAvis\n",
       "   require.config({paths: {d3: \"https://d3js.org/d3.v5\"}});\n",
       "   require([\"d3\"], function(d3){\n",
       "      window.d3 = d3;\n",
       "      LDAvis_load_lib(\"https://cdn.jsdelivr.net/gh/bmabey/pyLDAvis@3.3.1/pyLDAvis/js/ldavis.v3.0.0.js\", function(){\n",
       "        new LDAvis(\"#\" + \"ldavis_el79669129979045284588674659\", ldavis_el79669129979045284588674659_data);\n",
       "      });\n",
       "    });\n",
       "}else{\n",
       "    // require.js not available: dynamically load d3 & LDAvis\n",
       "    LDAvis_load_lib(\"https://d3js.org/d3.v5.js\", function(){\n",
       "         LDAvis_load_lib(\"https://cdn.jsdelivr.net/gh/bmabey/pyLDAvis@3.3.1/pyLDAvis/js/ldavis.v3.0.0.js\", function(){\n",
       "                 new LDAvis(\"#\" + \"ldavis_el79669129979045284588674659\", ldavis_el79669129979045284588674659_data);\n",
       "            })\n",
       "         });\n",
       "}\n",
       "</script>"
      ],
      "text/plain": [
       "<IPython.core.display.HTML object>"
      ]
     },
     "execution_count": 28,
     "metadata": {},
     "output_type": "execute_result"
    },
    {
     "name": "stderr",
     "output_type": "stream",
     "text": [
      "/opt/homebrew/Caskroom/miniforge/base/envs/twitter/lib/python3.8/site-packages/past/builtins/misc.py:45: DeprecationWarning: the imp module is deprecated in favour of importlib; see the module's documentation for alternative uses\n",
      "  from imp import reload\n",
      "/opt/homebrew/Caskroom/miniforge/base/envs/twitter/lib/python3.8/site-packages/past/builtins/misc.py:45: DeprecationWarning: the imp module is deprecated in favour of importlib; see the module's documentation for alternative uses\n",
      "  from imp import reload\n",
      "/opt/homebrew/Caskroom/miniforge/base/envs/twitter/lib/python3.8/site-packages/past/builtins/misc.py:45: DeprecationWarning: the imp module is deprecated in favour of importlib; see the module's documentation for alternative uses\n",
      "  from imp import reload\n",
      "/opt/homebrew/Caskroom/miniforge/base/envs/twitter/lib/python3.8/site-packages/past/builtins/misc.py:45: DeprecationWarning: the imp module is deprecated in favour of importlib; see the module's documentation for alternative uses\n",
      "  from imp import reload\n",
      "/opt/homebrew/Caskroom/miniforge/base/envs/twitter/lib/python3.8/site-packages/past/builtins/misc.py:45: DeprecationWarning: the imp module is deprecated in favour of importlib; see the module's documentation for alternative uses\n",
      "  from imp import reload\n",
      "/opt/homebrew/Caskroom/miniforge/base/envs/twitter/lib/python3.8/site-packages/past/builtins/misc.py:45: DeprecationWarning: the imp module is deprecated in favour of importlib; see the module's documentation for alternative uses\n",
      "  from imp import reload\n",
      "/opt/homebrew/Caskroom/miniforge/base/envs/twitter/lib/python3.8/site-packages/past/builtins/misc.py:45: DeprecationWarning: the imp module is deprecated in favour of importlib; see the module's documentation for alternative uses\n",
      "  from imp import reload\n",
      "/opt/homebrew/Caskroom/miniforge/base/envs/twitter/lib/python3.8/site-packages/past/builtins/misc.py:45: DeprecationWarning: the imp module is deprecated in favour of importlib; see the module's documentation for alternative uses\n",
      "  from imp import reload\n",
      "/opt/homebrew/Caskroom/miniforge/base/envs/twitter/lib/python3.8/site-packages/past/builtins/misc.py:45: DeprecationWarning: the imp module is deprecated in favour of importlib; see the module's documentation for alternative uses\n",
      "  from imp import reload\n",
      "/opt/homebrew/Caskroom/miniforge/base/envs/twitter/lib/python3.8/site-packages/past/builtins/misc.py:45: DeprecationWarning: the imp module is deprecated in favour of importlib; see the module's documentation for alternative uses\n",
      "  from imp import reload\n"
     ]
    }
   ],
   "source": [
    "vis = gensimvis.prepare(topic_model=lda_tfidf_model.model, corpus=lda_tfidf_model.corpus_tfidf, dictionary=basic_model.id2word)\n",
    "pyLDAvis.enable_notebook()\n",
    "pyLDAvis.display(vis)"
   ]
  },
  {
   "cell_type": "markdown",
   "id": "2a6f9d3b",
   "metadata": {},
   "source": [
    "# 4. Model Selection and Analysis\n",
    "\n"
   ]
  },
  {
   "cell_type": "markdown",
   "id": "03e21e46",
   "metadata": {},
   "source": [
    "## 4.1 Model Selection<a class=\"anchor\" id=\"4.1\"></a>\n",
    "\n",
    "## Bow vs TF-IDF\n",
    "Based on the grid-search values, we can identify the <b>Bow</b> model has slightly higher scores than the <b>IDF</b> model. In addition, the highest coherance score in bow gird search shows that the best number of topics is between 8-11 in comparison to <b>IDF</b> where the topics are between 4-6.\n",
    "\n",
    "\n",
    "### Is coherance a good evaluation metric?\n",
    "It's the best metric to get an understanding if your model is performing well. However, it can not always be trusted 100%.\n",
    "Taking the example above, the <b>Bow</b> clusters are not coherant at all. \n",
    "* Many words appear in all clusters (i.e. San Diego, USA, vacation holiday etc.)\n",
    "* By examining the words in the clusters, you can't get a unique topic out of them. Most of them are a mixture of different topics\n",
    "\n",
    "Compared to the <b>IDF</b> model:\n",
    "* We still have some topics that overlap\n",
    "* But we can clearly see that we have distinct clusters now, by identifying the clusters being scattered accross the axis of the plot\n",
    "* Most of our words have been grouped to one cluster\n",
    "* Words under Topics make more sence"
   ]
  },
  {
   "cell_type": "code",
   "execution_count": 20,
   "id": "cdc0d618",
   "metadata": {},
   "outputs": [],
   "source": [
    "# lda_tfidf_model.freeze_model(\"lda_tfidf\")"
   ]
  },
  {
   "cell_type": "code",
   "execution_count": 21,
   "id": "f0a8c49a",
   "metadata": {},
   "outputs": [
    {
     "name": "stdout",
     "output_type": "stream",
     "text": [
      "[(0, 0.16666667), (1, 0.16666667), (2, 0.16666667), (3, 0.16666667), (4, 0.16666667), (5, 0.16666667)]\n"
     ]
    }
   ],
   "source": [
    "tokenized_text = [['paris', 'holiday', 'condo']]\n",
    "tokenized_text = [['apoel', 'thrillos', 'afko']]\n",
    "\n",
    "\n",
    "vector = [lda_tfidf_model.id2word.doc2bow(text) for text in tokenized_text]\n",
    "topics = sorted(lda_tfidf_model.model[vector][0], key=lambda x: x[1], reverse=True)\n",
    "print(topics)"
   ]
  },
  {
   "cell_type": "markdown",
   "id": "348aa91f",
   "metadata": {},
   "source": [
    "## 4.2 Analysis and insights from topics<a class=\"anchor\" id=\"4.2\"></a>\n",
    "\n",
    "\n",
    "\n",
    "### Business insights that can be drawn from this dataset\n",
    "From the IDF model we can clearly see 2 unique clusters and another cluster which consists of many sub-clusters. \n",
    "\n",
    "### 3 big clusters\n",
    "\n",
    "### 1. San Diego, beach resorts\n",
    "* Users talk about USA and San Diego more specifically. \n",
    "* Users also seem to be intrested in renting condos near the beach \n",
    "* They also show interest in marine life, so maybe recommendig some bundle offers on condos and marine life adventure activities might be beneficial\n",
    "\n",
    "### 2. International destinations\n",
    "* Users are interested on holidays and familty travel on different destinations such as Japan and Italy (Vatican and Rome), Pioneertown even in some deserty destination\n",
    "* Also it appears to be a trent with photography of some sort, are interested in:\n",
    "    * The Nikon Camera\n",
    "    * City reflexion\n",
    "    * Dragon Flies\n",
    "* Also they seems to be intrested in different types of accomodation and renting such as:\n",
    "    * Renting in Hightown\n",
    "    * Owl house\n",
    "    * Pool houses\n",
    "    * Guest rooms\n",
    "    * Bed and breakfast\n",
    "\n",
    "\n",
    "### 3. Mutliple overlapping Clusters \n",
    "All of those clusters seems to have 2 things in common:\n",
    "1. International travelling\n",
    "2. Photography\n",
    "\n",
    "If we examine each cluster one by one we can identify the following:\n",
    "* Israeel/Jerusalim for camping using RVS\n",
    "* Holiday Destinations, maybe on Christmass at Italy and Argentina\n",
    "* Another distinct cluster for Palm Strings. This topic seems to be for more outgoing people who enjoy partying, modern houses and luxary\n",
    "* Another cluster maybe for couples or more romantic/cultural peaple. Popular destinations for this cluster is Pocasset and maybe California as well. They seems to be into wine and photography. Also they are intrested in\n",
    "    * lighthouse rents\n",
    "    * love wings\n",
    "    * Chalet\n",
    "    \n",
    "\n"
   ]
  }
 ],
 "metadata": {
  "kernelspec": {
   "display_name": "Python 3 (ipykernel)",
   "language": "python",
   "name": "python3"
  },
  "language_info": {
   "codemirror_mode": {
    "name": "ipython",
    "version": 3
   },
   "file_extension": ".py",
   "mimetype": "text/x-python",
   "name": "python",
   "nbconvert_exporter": "python",
   "pygments_lexer": "ipython3",
   "version": "3.8.12"
  }
 },
 "nbformat": 4,
 "nbformat_minor": 5
}
